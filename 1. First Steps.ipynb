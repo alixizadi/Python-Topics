{
 "cells": [
  {
   "cell_type": "code",
   "execution_count": 1,
   "id": "b16c1b5e",
   "metadata": {},
   "outputs": [
    {
     "name": "stdout",
     "output_type": "stream",
     "text": [
      "/Users/ali/opt/anaconda3/bin/python\n",
      "darwin\n",
      "/Users/ali/opt/anaconda3/lib/python3.9/site-packages/ipykernel_launcher.py\n",
      "3\n",
      "28\n",
      "28\n",
      "24\n",
      "49\n",
      "50\n",
      "51\n",
      "59\n"
     ]
    }
   ],
   "source": [
    "import sys\n",
    "print( sys.executable )\n",
    "print( sys.platform )\n",
    "print( sys.argv[0] )\n",
    "print( sys.version_info.major )\n",
    "\n",
    "print( sys.getsizeof( 1 ) )\n",
    "print( sys.getsizeof( 42 ) )\n",
    "print( sys.getsizeof( 1.0 ) )\n",
    "\n",
    "print( sys.getsizeof( \"\" ) )\n",
    "print( sys.getsizeof( \"a\" ) )\n",
    "print( sys.getsizeof( \"ab\" ) )\n",
    "print( sys.getsizeof( \"abcdefghij\" ) )\n"
   ]
  },
  {
   "cell_type": "code",
   "execution_count": 4,
   "id": "83ce665e",
   "metadata": {},
   "outputs": [
    {
     "name": "stdout",
     "output_type": "stream",
     "text": [
      "before\n",
      "Hello\n",
      "World\n",
      "after\n"
     ]
    }
   ],
   "source": [
    "# A main function\n",
    "def main():\n",
    "    print(\"Hello\")\n",
    "    print(\"World\")\n",
    "\n",
    "print(\"before\")\n",
    "main()\n",
    "print(\"after\")"
   ]
  },
  {
   "cell_type": "markdown",
   "id": "821d9006",
   "metadata": {},
   "source": [
    "## Conditional main"
   ]
  },
  {
   "cell_type": "code",
   "execution_count": 6,
   "id": "57626846",
   "metadata": {},
   "outputs": [
    {
     "name": "stdout",
     "output_type": "stream",
     "text": [
      "Hello World\n"
     ]
    }
   ],
   "source": [
    "def main():\n",
    "    print(\"Hello World\")\n",
    "if __name__==\"__main__\": \n",
    "    main()"
   ]
  },
  {
   "cell_type": "markdown",
   "id": "6500e8da",
   "metadata": {},
   "source": [
    "Print"
   ]
  },
  {
   "cell_type": "code",
   "execution_count": 8,
   "id": "e0c06883",
   "metadata": {
    "scrolled": true
   },
   "outputs": [
    {
     "name": "stdout",
     "output_type": "stream",
     "text": [
      "hello\n",
      "world\n",
      "Foo Bar\n",
      "helloworld\n",
      "Foo Bar\n",
      "Foo__Bar\n",
      "END\n"
     ]
    }
   ],
   "source": [
    "print(\"hello\")\n",
    "print(\"world\")\n",
    "print(\"Foo\",\"Bar\")\n",
    "\n",
    "\n",
    "print(\"hello\",end=\"\")\n",
    "print(\"world\")\n",
    "print(\"Foo\",\"Bar\")\n",
    "\n",
    "print(\"Foo\",\"Bar\",sep=\"__\")\n",
    "print(\"END\")"
   ]
  },
  {
   "cell_type": "markdown",
   "id": "f7251445",
   "metadata": {},
   "source": [
    "- What if we run some code with print “hello” using Python 3?"
   ]
  },
  {
   "cell_type": "code",
   "execution_count": 9,
   "id": "539c5cb5",
   "metadata": {},
   "outputs": [
    {
     "ename": "SyntaxError",
     "evalue": "Missing parentheses in call to 'print'. Did you mean print(\"hello\")? (2253489653.py, line 1)",
     "output_type": "error",
     "traceback": [
      "\u001b[0;36m  Cell \u001b[0;32mIn[9], line 1\u001b[0;36m\u001b[0m\n\u001b[0;31m    print \"hello\"\u001b[0m\n\u001b[0m          ^\u001b[0m\n\u001b[0;31mSyntaxError\u001b[0m\u001b[0;31m:\u001b[0m Missing parentheses in call to 'print'. Did you mean print(\"hello\")?\n"
     ]
    }
   ],
   "source": [
    "print \"hello\""
   ]
  },
  {
   "cell_type": "markdown",
   "id": "99edc99a",
   "metadata": {},
   "source": [
    "- Prompting for user input"
   ]
  },
  {
   "cell_type": "code",
   "execution_count": 10,
   "id": "9056f47a",
   "metadata": {},
   "outputs": [
    {
     "name": "stdout",
     "output_type": "stream",
     "text": [
      "Your name: Ali\n",
      "Hello Ali, how are you?\n",
      "We have a question!\n"
     ]
    }
   ],
   "source": [
    "def main():\n",
    "    print(\"We have a question!\")\n",
    "name = input('Your name: ')\n",
    "print('Hello ' + name + ', how are you?')\n",
    "main()\n"
   ]
  },
  {
   "cell_type": "markdown",
   "id": "3def4e70",
   "metadata": {},
   "source": [
    "- Backward compatibility with python 2"
   ]
  },
  {
   "cell_type": "code",
   "execution_count": 11,
   "id": "15055f46",
   "metadata": {},
   "outputs": [
    {
     "name": "stdout",
     "output_type": "stream",
     "text": [
      "Your name: ali\n",
      "Hello ali, how are you?\n"
     ]
    }
   ],
   "source": [
    "from __future__ import print_function \n",
    "import sys\n",
    "def main():\n",
    "    if sys.version_info.major < 3:\n",
    "        name = raw_input('Your name: ')\n",
    "    else:\n",
    "        name = input('Your name: ') \n",
    "        print('Hello ' + name + ', how are you?')\n",
    "main()"
   ]
  },
  {
   "cell_type": "code",
   "execution_count": 12,
   "id": "db147ec8",
   "metadata": {},
   "outputs": [
    {
     "name": "stdout",
     "output_type": "stream",
     "text": [
      "First number: 10\n",
      "Second number: 20\n",
      "1020\n"
     ]
    }
   ],
   "source": [
    "def main():\n",
    "    a = input('First number: ')\n",
    "    b = input('Second number: ')\n",
    "    print(a + b)\n",
    "main()"
   ]
  },
  {
   "cell_type": "code",
   "execution_count": 13,
   "id": "94eeab66",
   "metadata": {},
   "outputs": [
    {
     "name": "stdout",
     "output_type": "stream",
     "text": [
      "First number: 10\n",
      "Second number: 20\n",
      "30\n"
     ]
    }
   ],
   "source": [
    "def main():\n",
    "    a = input('First number: ')\n",
    "    b = input('Second number: ') \n",
    "    print(int(a) + int(b))\n",
    "main()"
   ]
  },
  {
   "cell_type": "markdown",
   "id": "b1936f1a",
   "metadata": {},
   "source": [
    "- check if a string can be converted to a number"
   ]
  },
  {
   "cell_type": "code",
   "execution_count": 17,
   "id": "042a22dd",
   "metadata": {},
   "outputs": [
    {
     "name": "stdout",
     "output_type": "stream",
     "text": [
      "Typeinanumber:2\n",
      "2\n",
      "True\n",
      "True\n",
      "2\n"
     ]
    }
   ],
   "source": [
    "val=input(\"Typeinanumber:\")\n",
    "print(val)\n",
    "print(val.isdecimal())\n",
    "print(val.isnumeric())\n",
    "\n",
    "if val.isdecimal():\n",
    "    num = int(val)\n",
    "    print(num)"
   ]
  },
  {
   "cell_type": "markdown",
   "id": "0e06d948",
   "metadata": {},
   "source": [
    "- Converting string to int"
   ]
  },
  {
   "cell_type": "code",
   "execution_count": 18,
   "id": "90563a59",
   "metadata": {},
   "outputs": [
    {
     "name": "stdout",
     "output_type": "stream",
     "text": [
      "23\n",
      "<class 'str'>\n",
      "23\n",
      "<class 'int'>\n"
     ]
    }
   ],
   "source": [
    "a=\"23\"\n",
    "print(a) #23\n",
    "print( type(a) ) # <class 'str'>\n",
    "\n",
    "b=int(a)\n",
    "print(b) #23\n",
    "print( type(b) ) # <class 'int'>"
   ]
  },
  {
   "cell_type": "code",
   "execution_count": 19,
   "id": "5cc47be4",
   "metadata": {},
   "outputs": [
    {
     "name": "stdout",
     "output_type": "stream",
     "text": [
      "23 with extra cheese\n",
      "<class 'str'>\n"
     ]
    },
    {
     "ename": "ValueError",
     "evalue": "invalid literal for int() with base 10: '23 with extra cheese'",
     "output_type": "error",
     "traceback": [
      "\u001b[0;31m---------------------------------------------------------------------------\u001b[0m",
      "\u001b[0;31mValueError\u001b[0m                                Traceback (most recent call last)",
      "Cell \u001b[0;32mIn[19], line 5\u001b[0m\n\u001b[1;32m      2\u001b[0m \u001b[38;5;28mprint\u001b[39m(a) \u001b[38;5;66;03m#23\u001b[39;00m\n\u001b[1;32m      3\u001b[0m \u001b[38;5;28mprint\u001b[39m( \u001b[38;5;28mtype\u001b[39m(a) ) \u001b[38;5;66;03m# <class 'str'>\u001b[39;00m\n\u001b[0;32m----> 5\u001b[0m b\u001b[38;5;241m=\u001b[39m\u001b[38;5;28;43mint\u001b[39;49m\u001b[43m(\u001b[49m\u001b[43ma\u001b[49m\u001b[43m)\u001b[49m\n\u001b[1;32m      6\u001b[0m \u001b[38;5;28mprint\u001b[39m(b) \u001b[38;5;66;03m#23\u001b[39;00m\n\u001b[1;32m      7\u001b[0m \u001b[38;5;28mprint\u001b[39m( \u001b[38;5;28mtype\u001b[39m(b) )\n",
      "\u001b[0;31mValueError\u001b[0m: invalid literal for int() with base 10: '23 with extra cheese'"
     ]
    }
   ],
   "source": [
    "a=\"23 with extra cheese\"\n",
    "print(a) #23\n",
    "print( type(a) ) # <class 'str'>\n",
    "\n",
    "b=int(a)\n",
    "print(b) #23\n",
    "print( type(b) ) # <class 'int'>"
   ]
  },
  {
   "cell_type": "markdown",
   "id": "8dade584",
   "metadata": {},
   "source": [
    "- Converting float to int"
   ]
  },
  {
   "cell_type": "code",
   "execution_count": 24,
   "id": "858c60b4",
   "metadata": {},
   "outputs": [
    {
     "name": "stdout",
     "output_type": "stream",
     "text": [
      "<class 'float'> 2.1\n",
      "<class 'int'> 2\n"
     ]
    }
   ],
   "source": [
    "a=2.1\n",
    "print(type(a) , a)\n",
    "\n",
    "b = int(2.1)\n",
    "print(type(b), b)\n",
    "\n"
   ]
  },
  {
   "cell_type": "code",
   "execution_count": 25,
   "id": "02d86661",
   "metadata": {},
   "outputs": [
    {
     "name": "stdout",
     "output_type": "stream",
     "text": [
      "<class 'str'> 2.1\n",
      "<class 'int'> 2\n"
     ]
    }
   ],
   "source": [
    "a= \"2.1\"\n",
    "print(type(a) , a)\n",
    "\n",
    "b = int(2.1)\n",
    "print(type(b), b)\n",
    "\n"
   ]
  },
  {
   "cell_type": "code",
   "execution_count": 26,
   "id": "63ef91eb",
   "metadata": {},
   "outputs": [
    {
     "name": "stdout",
     "output_type": "stream",
     "text": [
      "2\n",
      "<class 'str'>\n",
      "<class 'float'>\n",
      "<class 'int'>\n",
      "2\n",
      "<class 'int'>\n",
      "2\n",
      "2\n",
      "2\n"
     ]
    }
   ],
   "source": [
    "a=\"2.1\"\n",
    "b=float(a)\n",
    "c=int(b)\n",
    "print(c)\n",
    "print( type(a) )\n",
    "print( type(b) )\n",
    "print( type(c) )\n",
    "\n",
    "d=int(float(a))\n",
    "print(d)\n",
    "print( type(d) )\n",
    "\n",
    "print( int( float(2.1) ))\n",
    "print( int( float(\"2\") ))\n",
    "print( int( float(2) ))\n"
   ]
  }
 ],
 "metadata": {
  "kernelspec": {
   "display_name": "Python 3 (ipykernel)",
   "language": "python",
   "name": "python3"
  },
  "language_info": {
   "codemirror_mode": {
    "name": "ipython",
    "version": 3
   },
   "file_extension": ".py",
   "mimetype": "text/x-python",
   "name": "python",
   "nbconvert_exporter": "python",
   "pygments_lexer": "ipython3",
   "version": "3.9.7"
  }
 },
 "nbformat": 4,
 "nbformat_minor": 5
}
