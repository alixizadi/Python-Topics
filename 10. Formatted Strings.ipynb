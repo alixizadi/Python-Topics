{
 "cells": [
  {
   "cell_type": "markdown",
   "id": "ee272ea1-3778-4aca-a85a-8c1c402051d6",
   "metadata": {
    "tags": []
   },
   "source": [
    "## format - sprintf\n",
    "\n"
   ]
  },
  {
   "cell_type": "code",
   "execution_count": 1,
   "id": "8fb8daf6-f3c2-46f1-85d2-2dcd769c9b5f",
   "metadata": {},
   "outputs": [
    {
     "name": "stdout",
     "output_type": "stream",
     "text": [
      "The user Foo Bar was born 42.12 years ago.\n",
      "The user Foo Bar was born 42.12 years ago.\n",
      "The user Foo Bar was born 42.12 years ago.\n",
      "The user Foo Bar was born 42.12 years ago.\n"
     ]
    }
   ],
   "source": [
    "age = 42.12\n",
    "name = 'Foo Bar'\n",
    "\n",
    "str_concatenate = \"The user \" + name + \" was born \" + str(age) + \" years ago.\"\n",
    "print(str_concatenate)\n",
    "\n",
    "str_percentage = \"The user %s was born %s years ago.\" % (name, age)\n",
    "print(str_percentage)\n",
    "\n",
    "str_format = \"The user {} was born {} years ago.\".format(name, age)\n",
    "print(str_format)\n",
    "\n",
    "str_f_string = f\"The user {name} was born {age} years ago.\"\n",
    "print(str_f_string)\n"
   ]
  },
  {
   "cell_type": "markdown",
   "id": "7d0c9c01-f8c6-47b8-aa24-03dcdf5f9a32",
   "metadata": {
    "tags": []
   },
   "source": [
    "## printf using old %-syntax\n"
   ]
  },
  {
   "cell_type": "markdown",
   "id": "dc0a9b21-6a95-462a-9ea8-6000ee9c833a",
   "metadata": {},
   "source": [
    "It is recommended to use f-strings or if those cannot be used for some reason then use the format method.\n"
   ]
  },
  {
   "cell_type": "code",
   "execution_count": 2,
   "id": "4b1ac1a1-5cb2-499f-a1ec-568f4a217f62",
   "metadata": {},
   "outputs": [
    {
     "name": "stdout",
     "output_type": "stream",
     "text": [
      "<65>\n",
      "<        65>\n",
      "<65        >\n",
      "<A>\n",
      "<65>\n",
      "<00065>\n"
     ]
    }
   ],
   "source": [
    "\n",
    "v = 65\n",
    "print(\"<%s>\" % v)     # <65>\n",
    "print(\"<%10s>\" % v)   # <      65>\n",
    "print(\"<%-10s>\" % v)  # <65      >\n",
    "print(\"<%c>\" % v)     # <A>\n",
    "print(\"<%d>\" % v)     # <65>\n",
    "print(\"<%0.5d>\" % v)  # <00065>"
   ]
  },
  {
   "cell_type": "markdown",
   "id": "96ce4993-b6db-4d95-9381-5e4317081185",
   "metadata": {},
   "source": [
    "## Examples using format with names\n"
   ]
  },
  {
   "cell_type": "code",
   "execution_count": 3,
   "id": "f6b6809f-aa5c-451b-9c45-0eb7a0a89eb1",
   "metadata": {},
   "outputs": [
    {
     "name": "stdout",
     "output_type": "stream",
     "text": [
      "The user Foo Bar was born 42.12 years ago.\n"
     ]
    }
   ],
   "source": [
    "txt = \"Foo Bar\"\n",
    "num = 42.12\n",
    "\n",
    "print(\"The user {name} was born {age} years ago.\".format(name = txt, age = num))"
   ]
  },
  {
   "cell_type": "markdown",
   "id": "2ccda94c-89f5-467d-b528-f78cdb9ab769",
   "metadata": {},
   "source": [
    "## Format columns\n"
   ]
  },
  {
   "cell_type": "markdown",
   "id": "f34ef963-d0f2-4964-a145-a9a8e81edcb3",
   "metadata": {},
   "source": [
    "In this example we use a list of lists that we have not learned yet, but don't worry about that for now. Focus on the output of the two print statements.\n"
   ]
  },
  {
   "cell_type": "code",
   "execution_count": 8,
   "id": "eb4d5f64-27b4-4111-a519-cdb8d23b34e0",
   "metadata": {},
   "outputs": [
    {
     "name": "stdout",
     "output_type": "stream",
     "text": [
      "Foo Bar 42\n",
      "Bjorg 12345\n",
      "Roza 7\n",
      "Long Name Joe 3\n",
      "Joe 12345677889\n",
      "--------------------------------\n",
      "----------Table Format----------\n",
      "--------------------------------\n",
      "Foo Bar         |             42\n",
      "Bjorg           |          12345\n",
      "Roza            |              7\n",
      "Long Name Joe   |              3\n",
      "Joe             |    12345677889\n"
     ]
    }
   ],
   "source": [
    "\n",
    "data = [\n",
    "    [\"Foo Bar\", 42],\n",
    "    [\"Bjorg\", 12345],\n",
    "    [\"Roza\", 7],\n",
    "    [\"Long Name Joe\", 3],\n",
    "    [\"Joe\", 12345677889],\n",
    "]\n",
    "\n",
    "for entry in data:\n",
    "    print(\"{} {}\".format(entry[0], entry[1]))\n",
    "\n",
    "print('-' * 32)\n",
    "print('Table Format'.center(32, \"-\"))\n",
    "print('-' * 32)\n",
    "\n",
    "for entry in data:\n",
    "    print(\"{:<16}|{:>15}\".format(entry[0], entry[1]))"
   ]
  },
  {
   "cell_type": "markdown",
   "id": "346d9caa-6898-45dc-b823-b6a4fa33d2e9",
   "metadata": {},
   "source": [
    "## Examples using format - alignment\n"
   ]
  },
  {
   "cell_type": "code",
   "execution_count": 18,
   "id": "0530d802-922a-486d-8a4b-75fb955c2d78",
   "metadata": {},
   "outputs": [
    {
     "name": "stdout",
     "output_type": "stream",
     "text": [
      "'Some text'\n",
      "'Some text   '\n",
      "'Some text   '\n",
      "'   Some text'\n",
      "' Some text  '\n"
     ]
    }
   ],
   "source": [
    "txt = \"Some text\"\n",
    "\n",
    "print(\"'{}'\".format(txt))     #  as is:   'Some text'\n",
    "print(\"'{:12}'\".format(txt))  #  left:    'Some text   '\n",
    "print(\"'{:<12}'\".format(txt)) #  left:    'Some text   '\n",
    "print(\"'{:>12}'\".format(txt)) #  right:   '   Some text'\n",
    "print(\"'{:^12}'\".format(txt)) #  center:  ' Some text  '"
   ]
  },
  {
   "cell_type": "markdown",
   "id": "fb5a4dc6-8def-400d-8051-30c3f2bcbaf6",
   "metadata": {},
   "source": [
    "## Format - string\n"
   ]
  },
  {
   "cell_type": "code",
   "execution_count": 9,
   "id": "e3c29ad4-1378-47d4-8324-ed1f653793ea",
   "metadata": {},
   "outputs": [
    {
     "name": "stdout",
     "output_type": "stream",
     "text": [
      "Foo Bar\n",
      "Foo Bar\n"
     ]
    }
   ],
   "source": [
    "name = \"Foo Bar\"\n",
    "\n",
    "print(\"{:s}\".format(name))\n",
    "print(\"{}\".format(name))"
   ]
  },
  {
   "cell_type": "markdown",
   "id": "a79677b8-d33f-4c54-a2c8-e6dfd6941087",
   "metadata": {},
   "source": [
    "## Format characters and types (binary, octal, hexa)\n"
   ]
  },
  {
   "cell_type": "code",
   "execution_count": 10,
   "id": "1204d99f-0d1e-4b3d-a718-21de396363e8",
   "metadata": {},
   "outputs": [
    {
     "name": "stdout",
     "output_type": "stream",
     "text": [
      "101010\n",
      "*\n",
      "42\n",
      "52\n",
      "2a\n",
      "2A\n",
      "42\n",
      "42\n",
      "' 3'\n",
      "'03'\n",
      "'14'\n",
      "' 3'\n",
      "'03'\n",
      "'0E'\n",
      "'46'\n"
     ]
    }
   ],
   "source": [
    "val = 42\n",
    "\n",
    "print(\"{:b}\".format(val)) #  binary:    101010\n",
    "print(\"{:c}\".format(val)) #  character: *\n",
    "print(\"{:d}\".format(val)) #  decimal:   42      (default)\n",
    "print(\"{:o}\".format(val)) #  octal:     52\n",
    "print(\"{:x}\".format(val)) #  hexa:      2a\n",
    "print(\"{:X}\".format(val)) #  hexa:      2A\n",
    "print(\"{:n}\".format(val)) #  number:    42\n",
    "\n",
    "\n",
    "print(\"{}\".format(val))   # 42 (same as decimal)\n",
    "\n",
    "\n",
    "# Zero padding\n",
    "print(\"'{:2n}'\".format(3))  # ' 3'\n",
    "print(\"'{:02n}'\".format(3)) # '03'\n",
    "print(\"'{:02n}'\".format(14)) # '14'\n",
    "\n",
    "\n",
    "# Zero padding hexa\n",
    "print(\"'{:2X}'\".format(3))  # ' 3'\n",
    "print(\"'{:02X}'\".format(3)) # '03'\n",
    "print(\"'{:02X}'\".format(14)) # '0E'\n",
    "print(\"'{:02X}'\".format(70)) # '46'"
   ]
  },
  {
   "cell_type": "markdown",
   "id": "4f1e4711-137a-4bca-aa29-38c23b7e0fcb",
   "metadata": {},
   "source": [
    "## Format floating point number\n"
   ]
  },
  {
   "cell_type": "code",
   "execution_count": 11,
   "id": "54bf0746-a31f-4257-aa7b-7783224e3a71",
   "metadata": {},
   "outputs": [
    {
     "name": "stdout",
     "output_type": "stream",
     "text": [
      "4.123457e+02\n",
      "4.123457E+02\n",
      "412.345679\n",
      "412.35\n",
      "412.345679\n",
      "412.346\n",
      "412.346\n",
      "412.346\n",
      "412.345678901\n"
     ]
    }
   ],
   "source": [
    "x = 412.345678901\n",
    "\n",
    "print(\"{:e}\".format(x))   #  exponent:     4.123457e+02\n",
    "print(\"{:E}\".format(x))   #  Exponent:     4.123457E+02\n",
    "print(\"{:f}\".format(x))   #  fixed point:  412.345679 (default precision is 6)\n",
    "print(\"{:.2f}\".format(x)) #  fixed point:  412.35 (set precision to 2)\n",
    "print(\"{:F}\".format(x))   #  same as f.    412.345679\n",
    "print(\"{:g}\".format(x))   #  generic:      412.346    (default precision is 6)\n",
    "print(\"{:G}\".format(x))   #  generic:      412.346\n",
    "print(\"{:n}\".format(x))   #  number:       412.346\n",
    "\n",
    "\n",
    "print(\"{}\".format(x))     # defaults to g  412.345678901"
   ]
  },
  {
   "cell_type": "markdown",
   "id": "4be63d21-8ce0-4367-bee1-1a34f9a7d7d4",
   "metadata": {},
   "source": [
    "## Examples using format - indexing \n",
    "\n"
   ]
  },
  {
   "cell_type": "code",
   "execution_count": 12,
   "id": "63f5cf7b-9b9a-4c7a-9805-06d4bc7e40ea",
   "metadata": {},
   "outputs": [
    {
     "name": "stdout",
     "output_type": "stream",
     "text": [
      "The user Foo Bar was born 42.12 years ago.\n",
      "The user Foo Bar was born 42.12 years ago.\n",
      "The user Foo Bar was born 42.12 years ago.\n",
      "Foo Bar is Foo Bar and 42.12 years old.\n"
     ]
    }
   ],
   "source": [
    "txt = \"Foo Bar\"\n",
    "num = 42.12\n",
    "\n",
    "print(\"The user {} was born {} years ago.\".format(txt, num))\n",
    "print(\"The user {0} was born {1} years ago.\".format(txt, num))\n",
    "print(\"The user {1} was born {0} years ago.\".format(num, txt))\n",
    "\n",
    "\n",
    "print(\"{0} is {0} and {1} years old.\".format(txt, num))"
   ]
  },
  {
   "cell_type": "markdown",
   "id": "bf5e7419-ed42-4509-957d-f1196b29bcf6",
   "metadata": {},
   "source": [
    "## Format characters and types using f-format\n"
   ]
  },
  {
   "cell_type": "code",
   "execution_count": 13,
   "id": "bdab4a99-d19e-41fd-a595-0b8ffedec3b1",
   "metadata": {},
   "outputs": [
    {
     "name": "stdout",
     "output_type": "stream",
     "text": [
      "101010\n",
      "*\n",
      "42\n",
      "52\n",
      "2a\n",
      "2A\n",
      "42\n",
      "42\n",
      "' 3'\n",
      "'03'\n",
      "'14'\n",
      "' 3'\n",
      "'03'\n",
      "'0E'\n",
      "'46'\n"
     ]
    }
   ],
   "source": [
    "val = 42\n",
    "\n",
    "print(f\"{val:b}\") #  binary:    101010\n",
    "print(f\"{val:c}\") #  character: *\n",
    "print(f\"{val:d}\") #  decimal:   42      (default)\n",
    "print(f\"{val:o}\") #  octal:     52\n",
    "print(f\"{val:x}\") #  hexa:      2a\n",
    "print(f\"{val:X}\") #  hexa:      2A\n",
    "print(f\"{val:n}\") #  number:    42\n",
    "\n",
    "\n",
    "print(f\"{val}\")   # 42 (same as decimal)\n",
    "\n",
    "# Zero padding\n",
    "val = 3\n",
    "print(f\"'{val:2n}'\")  # ' 3'\n",
    "print(f\"'{val:02n}'\") # '03'\n",
    "val = 14\n",
    "print(f\"'{val:02n}'\") # '14'\n",
    "\n",
    "\n",
    "# Zero padding hexa\n",
    "val = 3\n",
    "print(f\"'{val:2X}'\")  # ' 3'\n",
    "print(f\"'{val:02X}'\") # '03'\n",
    "val = 14\n",
    "print(f\"'{val:02X}'\") # '0E'\n",
    "val = 70\n",
    "print(f\"'{val:02X}'\") # '46'"
   ]
  },
  {
   "cell_type": "markdown",
   "id": "d0df2f23-b778-4ad7-83f2-aac83cabe805",
   "metadata": {},
   "source": [
    "## f-format (formatted string literals)\n",
    "`Since Python 3.6`"
   ]
  },
  {
   "cell_type": "code",
   "execution_count": 15,
   "id": "0e598ae7-17cd-408e-8505-d41e4fd62954",
   "metadata": {},
   "outputs": [
    {
     "name": "stdout",
     "output_type": "stream",
     "text": [
      "The user Foo Bar was born 42.12 years ago.\n",
      "The user Foo Bar    was born 42.12 years ago.\n",
      "The user    Foo Bar was born 42.12 years ago.\n",
      "The user    Foo Bar was born      42.12 years ago.\n",
      "PI is '3.14'.\n",
      "PI is '3.142'.\n",
      "Area is 12.566370614359172\n",
      "Area is 12.566\n"
     ]
    }
   ],
   "source": [
    "name = \"Foo Bar\"\n",
    "age = 42.12\n",
    "pi = 3.141592653589793\n",
    "r = 2\n",
    "\n",
    "print(f\"The user {name} was born {age} years ago.\")\n",
    "print(f\"The user {name:10} was born {age} years ago.\")\n",
    "print(f\"The user {name:>10} was born {age} years ago.\")\n",
    "print(f\"The user {name:>10} was born {age:>10} years ago.\")\n",
    "\n",
    "print(f\"PI is '{pi:.3}'.\")   # number of digits (defaults n = number)\n",
    "print(f\"PI is '{pi:.3f}'.\")  # number of digits after decimal point\n",
    "\n",
    "print(f\"Area is {pi * r ** 2}\")\n",
    "print(f\"Area is {pi * r ** 2:.3f}\")"
   ]
  },
  {
   "cell_type": "markdown",
   "id": "0a77c093-1cd9-4129-9666-3de2713b098d",
   "metadata": {},
   "source": [
    "## Format floating point numbers using f-format\n"
   ]
  },
  {
   "cell_type": "code",
   "execution_count": 16,
   "id": "5b466985-2702-446a-9406-f38e832a1c1f",
   "metadata": {},
   "outputs": [
    {
     "name": "stdout",
     "output_type": "stream",
     "text": [
      "4.123457e+02\n",
      "4.123457E+02\n",
      "412.345679\n",
      "412.35\n",
      "412.345679\n",
      "412.346\n",
      "412.346\n",
      "412.346\n",
      "412.345678901\n"
     ]
    }
   ],
   "source": [
    "val = 412.345678901\n",
    "\n",
    "print(f\"{val:e}\")   #  exponent:     4.123457e+02\n",
    "print(f\"{val:E}\")   #  Exponent:     4.123457E+02\n",
    "print(f\"{val:f}\")   #  fixed point:  412.345679 (default precision is 6)\n",
    "print(f\"{val:.2f}\") #  fixed point:  412.35 (set precision to 2)\n",
    "print(f\"{val:F}\")   #  same as f.    412.345679\n",
    "print(f\"{val:g}\")   #  generic:      412.346    (default precision is 6)\n",
    "print(f\"{val:G}\")   #  generic:      412.346\n",
    "print(f\"{val:n}\")   #  number:       412.346\n",
    "\n",
    "\n",
    "print(f\"{val}\")     # defaults to g  412.345678901"
   ]
  },
  {
   "cell_type": "markdown",
   "id": "99fbeb80-974c-4048-a670-ddfc532c606b",
   "metadata": {},
   "source": [
    "## Format braces, bracket, and parentheses\n"
   ]
  },
  {
   "cell_type": "markdown",
   "id": "48ea5bab-4df0-4033-8c3e-d191f053cda0",
   "metadata": {},
   "source": [
    "These are just some extreme special cases. Most people won't need to know about them.\n",
    "\n",
    "> To print `{` include `{{`.\n",
    ">\n",
    "> To print `}` include `}}`."
   ]
  },
  {
   "cell_type": "code",
   "execution_count": 17,
   "id": "a926e464-f782-4515-a704-a82dbf9cce03",
   "metadata": {},
   "outputs": [
    {
     "name": "stdout",
     "output_type": "stream",
     "text": [
      "{42}\n",
      "{ 42 }\n",
      "[42] (42)\n",
      "%42\n"
     ]
    }
   ],
   "source": [
    "print(\"{{{}}}\".format(42))   # {42}\n",
    "\n",
    "print(\"{{ {} }}\".format(42))   # { 42 }\n",
    "\n",
    "print(\"[{}] ({})\".format(42, 42))   # [42] (42)\n",
    "\n",
    "print(\"%{}\".format(42))   # %42"
   ]
  },
  {
   "cell_type": "markdown",
   "id": "60e6a1ff-3b66-4a88-a1c0-c6287b629f89",
   "metadata": {},
   "source": [
    "## parameterized formatter\n"
   ]
  },
  {
   "cell_type": "code",
   "execution_count": 19,
   "id": "8448aa74-ea56-4748-9f98-a1b42c3465a3",
   "metadata": {},
   "outputs": [
    {
     "name": "stdout",
     "output_type": "stream",
     "text": [
      "0000023\n",
      "     42\n",
      "1234567\n"
     ]
    }
   ],
   "source": [
    "def formatter(value, filler, width):\n",
    "    return \"{var:{fill}>{width}}\".format(var=value, fill=filler, width=width)\n",
    "\n",
    "text = formatter(23, \"0\", 7)\n",
    "print(text)\n",
    "\n",
    "\n",
    "print(formatter(42, \" \", 7))\n",
    "print(formatter(1234567, \" \", 7))"
   ]
  },
  {
   "cell_type": "markdown",
   "id": "0d9d2672-fb14-4ae6-aa68-fbb6e5eb5916",
   "metadata": {},
   "source": [
    "## format binary, octal, hexa numbers\n"
   ]
  },
  {
   "cell_type": "code",
   "execution_count": 20,
   "id": "161f00a2-897c-4ef1-a49e-6fc92edaf6e5",
   "metadata": {},
   "outputs": [
    {
     "name": "stdout",
     "output_type": "stream",
     "text": [
      "101010\n",
      "0b101010\n"
     ]
    }
   ],
   "source": [
    "a = 42\n",
    "\n",
    "text = \"{:b}\".format(a)\n",
    "print(text)   # 101010\n",
    "\n",
    "text = \"{:#b}\".format(a)\n",
    "print(text)   # 0b101010"
   ]
  },
  {
   "cell_type": "code",
   "execution_count": 21,
   "id": "849034b8-b7f8-41cd-a430-fe8dfa95cff2",
   "metadata": {},
   "outputs": [
    {
     "name": "stdout",
     "output_type": "stream",
     "text": [
      "52\n",
      "0o52\n"
     ]
    }
   ],
   "source": [
    "a = 42\n",
    "\n",
    "text = \"{:o}\".format(a)\n",
    "print(text)   # 52\n",
    "\n",
    "text = \"{:#o}\".format(a)\n",
    "print(text)   # 0o52"
   ]
  },
  {
   "cell_type": "code",
   "execution_count": 22,
   "id": "d46604c3-7463-4da8-b43f-28776324a897",
   "metadata": {},
   "outputs": [
    {
     "name": "stdout",
     "output_type": "stream",
     "text": [
      "2a\n",
      "0x2a\n",
      "0X2A\n"
     ]
    }
   ],
   "source": [
    "a = 42\n",
    "\n",
    "text = \"{:x}\".format(a)\n",
    "print(text)   # 2a \n",
    "\n",
    "text = \"{:#x}\".format(a)\n",
    "print(text)   # 0x2a\n",
    "\n",
    "text = \"{:#X}\".format(a)\n",
    "print(text)   # 0x2A"
   ]
  },
  {
   "cell_type": "markdown",
   "id": "35fe300d-4d06-4274-9d5a-3e1de88750ce",
   "metadata": {},
   "source": [
    "## Examples using format with attributes of objects\n"
   ]
  },
  {
   "cell_type": "markdown",
   "id": "a75e063f-4e2c-4d5a-b907-8cf59ad056da",
   "metadata": {},
   "source": [
    "This is also a rather strange example, I don't think I'd use it in real code."
   ]
  },
  {
   "cell_type": "code",
   "execution_count": null,
   "id": "034bd538-f761-4c5a-a2f3-94f3b88f380a",
   "metadata": {},
   "outputs": [],
   "source": [
    "import sys\n",
    "\n",
    "print(\"{0.executable}\".format(sys))\n",
    "print(\"{system.argv[0]}\".format(system = sys))"
   ]
  },
  {
   "cell_type": "markdown",
   "id": "285489f9-7d2b-4b1d-b14b-f6a7569521b2",
   "metadata": {},
   "source": [
    "## raw f-format"
   ]
  },
  {
   "cell_type": "code",
   "execution_count": 25,
   "id": "c7e36959-5777-46a9-8112-5e4b9519ea73",
   "metadata": {},
   "outputs": [
    {
     "name": "stdout",
     "output_type": "stream",
     "text": [
      "a\\nb {name}\n",
      "a\\nb foo\n",
      "a\\nb foo\n"
     ]
    }
   ],
   "source": [
    "name=\"foo\"\n",
    "print(r\"a\\nb {name}\")\n",
    "print(rf\"a\\nb {name}\")\n",
    "print(fr\"a\\nb {name}\")  # this is better (for vim)"
   ]
  }
 ],
 "metadata": {
  "kernelspec": {
   "display_name": "Python 3 (ipykernel)",
   "language": "python",
   "name": "python3"
  },
  "language_info": {
   "codemirror_mode": {
    "name": "ipython",
    "version": 3
   },
   "file_extension": ".py",
   "mimetype": "text/x-python",
   "name": "python",
   "nbconvert_exporter": "python",
   "pygments_lexer": "ipython3",
   "version": "3.9.7"
  }
 },
 "nbformat": 4,
 "nbformat_minor": 5
}
