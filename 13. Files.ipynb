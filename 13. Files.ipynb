{
 "cells": [
  {
   "cell_type": "markdown",
   "id": "c4851a86-8a7f-4048-b67d-6f8f046c539a",
   "metadata": {
    "tags": []
   },
   "source": [
    "## File types: Text vs Binary"
   ]
  },
  {
   "cell_type": "markdown",
   "id": "629a764f-2c51-4c5e-82fa-ba52a061974a",
   "metadata": {},
   "source": [
    "- You probably know many file types such as Images (png, jpg, ...), Word, Excel, mp3, mp4, csv, and now also .py files.\n",
    "- Internally there are two big categories. **Text and Binary files**.\n",
    "> - Text files are the ones that look readable if you open them with a plain text editor such as Notepad.\n",
    "> - Binary files will look like a mess if you opened them in Notepad.\n",
    "- For Binary files you need a special application to \"look\" at their content.\n",
    "- For example the Excel and Word programs for the appropriate files.\n",
    "- Some image viewer application to view all the images.\n",
    "- VLC to look at an mp4. Some application to hear the content of mp3 files.\n",
    "\n",
    "- **Text**: Can make sense when opened with Notepad: .txt, csv, .py, .pl, ..., HTML , XML, YAML, JSON\n",
    "- **Binary**: Need specialized tool to make sense of it: Images, Zip files, Word, Excel, .exe, mp3, mp4\n",
    "\n",
    "\n",
    "> 1. In Python you have specialized modules for each well-knonw binary type to handle the files of that format.\n",
    ">\n",
    "> 2. Text files on the other hand can be handled by low level file-reading functions, however even for those we usually have modules that know how to read and interpret the specific formats. (e.g. CSV, HTML, XML, YAML, JSON parsers)\n"
   ]
  },
  {
   "cell_type": "markdown",
   "id": "c943f889-f7b5-45af-8a2e-32486a57e061",
   "metadata": {
    "tags": []
   },
   "source": [
    "## Open vs. Read vs. Load"
   ]
  },
  {
   "cell_type": "markdown",
   "id": "9126a4d1-0d65-4b14-b4f6-a4aa39123b2c",
   "metadata": {},
   "source": [
    "- The expression \"open a file\" has two distinct meanings for programmers and users of software. \n",
    "- For a user of Word, for example, \"open the file\" would mean to be able to see its content in a formatted way inside the editor.\n",
    "- When a programmer - now acting as a regular user - opens a Python file in an editor such as Notepad++ or Pycharm, the expectation is to see the content of that program with nice colors.\n",
    "\n",
    "- However in order to provide this the programmer behind these applications had to do several things.\n",
    "\n",
    "> 1. Connect to a file on the disk (aka. \"opening the file\" in programmer speak).\n",
    "Read the content of the file from the disk to memory.\n",
    ">\n",
    "> 2. Format the content read from the file as expected by the user of that application."
   ]
  },
  {
   "cell_type": "markdown",
   "id": "6402e6d5-7672-4e6d-8c4f-a40d437e5955",
   "metadata": {
    "tags": []
   },
   "source": [
    "## Binary files: Images\n",
    "- This is just a quick example how to use the Pillow module to handle images. There is a whole chapter on dealing with images.\n"
   ]
  },
  {
   "cell_type": "code",
   "execution_count": 10,
   "id": "f2a04f5a-cec5-436a-8335-9355240357b5",
   "metadata": {},
   "outputs": [
    {
     "name": "stdout",
     "output_type": "stream",
     "text": [
      "Image format: JPEG\n",
      "Image size: (194, 260)\n",
      "Image mode: RGB\n"
     ]
    }
   ],
   "source": [
    "from PIL import Image\n",
    "\n",
    "# Open an image file\n",
    "image = Image.open('__FILES/image.jpg')\n",
    "\n",
    "# Display basic information about the image\n",
    "print('Image format:', image.format)\n",
    "print('Image size:', image.size)\n",
    "print('Image mode:', image.mode)\n",
    "\n",
    "# Resize the image\n",
    "new_size = (800, 600)\n",
    "resized_image = image.resize(new_size)\n",
    "resized_image.save('__FILES/resized_image.jpg')\n",
    "\n",
    "# Convert the image to grayscale\n",
    "grayscale_image = image.convert('L')\n",
    "grayscale_image.save('__FILES/grayscale_image.jpg')\n",
    "\n",
    "# Crop a region of the image\n",
    "box = (100, 100, 500, 400)  # (left, upper, right, lower)\n",
    "cropped_image = image.crop(box)\n",
    "cropped_image.save('__FILES/cropped_image.jpg')\n",
    "\n",
    "# Rotate the image\n",
    "angle = 45\n",
    "rotated_image = image.rotate(angle)\n",
    "rotated_image.save('__FILES/rotated_image.jpg')\n",
    "\n",
    "# Flip the image horizontally\n",
    "flipped_image = image.transpose(Image.FLIP_LEFT_RIGHT)\n",
    "flipped_image.save('__FILES/flipped_image.jpg')\n",
    "\n",
    "# Flip the image vertically\n",
    "flipped_image = image.transpose(Image.FLIP_TOP_BOTTOM)\n",
    "flipped_image.save('__FILES/flipped_image.jpg')\n",
    "\n",
    "# Close the image file\n",
    "image.close()"
   ]
  },
  {
   "cell_type": "markdown",
   "id": "ed011f59-c8e3-46aa-9b8c-c32f13a8fef1",
   "metadata": {
    "tags": []
   },
   "source": [
    "## Reading an Excel file\n",
    "\n",
    "- There are many ways to deal with Excel files as well.\n"
   ]
  },
  {
   "cell_type": "code",
   "execution_count": 13,
   "id": "8d5d2e07-202b-4f53-9b50-7b16a24b6db2",
   "metadata": {},
   "outputs": [
    {
     "name": "stdout",
     "output_type": "stream",
     "text": [
      "('Name', 'Age', 'Country')\n",
      "('John', 25, 'USA')\n",
      "('Emily', 30, 'Canada')\n",
      "('Michael', 35, 'UK')\n"
     ]
    }
   ],
   "source": [
    "from openpyxl import Workbook\n",
    "from openpyxl import load_workbook\n",
    "\n",
    "# Create a new workbook\n",
    "workbook = Workbook()\n",
    "sheet = workbook.active\n",
    "\n",
    "# Write data to the cells\n",
    "sheet['A1'] = 'Name'\n",
    "sheet['B1'] = 'Age'\n",
    "sheet['C1'] = 'Country'\n",
    "\n",
    "data = [\n",
    "    ('John', 25, 'USA'),\n",
    "    ('Emily', 30, 'Canada'),\n",
    "    ('Michael', 35, 'UK'),\n",
    "]\n",
    "\n",
    "for row in data:\n",
    "    sheet.append(row)\n",
    "\n",
    "# Save the workbook\n",
    "workbook.save('__FILES/sample.xlsx')\n",
    "\n",
    "# Load an existing workbook\n",
    "loaded_workbook = load_workbook('__FILES/sample.xlsx')\n",
    "loaded_sheet = loaded_workbook.active\n",
    "\n",
    "# Read data from the cells\n",
    "for row in loaded_sheet.iter_rows(min_row=1, values_only=True):\n",
    "    print(row)\n",
    "\n",
    "# Modify the data in the cells\n",
    "loaded_sheet['B2'] = 26\n",
    "loaded_workbook.save('__FILES/sample.xlsx')\n",
    "\n",
    "# Close the workbook\n",
    "loaded_workbook.close()\n"
   ]
  },
  {
   "cell_type": "markdown",
   "id": "2e76abab-b4d6-46e5-bf6d-4029b8d48c41",
   "metadata": {
    "tags": []
   },
   "source": [
    "## Reading a YAML file"
   ]
  },
  {
   "cell_type": "code",
   "execution_count": 14,
   "id": "50e51a75-09b5-457b-9e44-d5169e035f75",
   "metadata": {},
   "outputs": [
    {
     "name": "stdout",
     "output_type": "stream",
     "text": [
      "{'age': 25, 'country': 'USA', 'name': 'John'}\n"
     ]
    }
   ],
   "source": [
    "import yaml\n",
    "\n",
    "# Write data to a YAML file\n",
    "data = {\n",
    "    'name': 'John',\n",
    "    'age': 25,\n",
    "    'country': 'USA'\n",
    "}\n",
    "\n",
    "with open('__FILES/data.yaml', 'w') as file:\n",
    "    yaml.dump(data, file)\n",
    "\n",
    "# Read data from a YAML file\n",
    "with open('__FILES/data.yaml', 'r') as file:\n",
    "    loaded_data = yaml.safe_load(file)\n",
    "\n",
    "print(loaded_data)\n",
    "\n",
    "# Modify the data\n",
    "loaded_data['age'] = 26\n",
    "\n",
    "# Write the modified data back to the YAML file\n",
    "with open('__FILES/data.yaml', 'w') as file:\n",
    "    yaml.dump(loaded_data, file)\n"
   ]
  },
  {
   "cell_type": "markdown",
   "id": "5cfdb4ba-8c20-4913-a756-e04663b39b3e",
   "metadata": {
    "tags": []
   },
   "source": [
    "## Read and analyze a text file"
   ]
  },
  {
   "cell_type": "code",
   "execution_count": 16,
   "id": "cd5c4223-de4f-4f69-9132-87dc7c9ac385",
   "metadata": {},
   "outputs": [
    {
     "name": "stdout",
     "output_type": "stream",
     "text": [
      "204.0\n"
     ]
    }
   ],
   "source": [
    "import sys\n",
    "\n",
    "filename = '__FILES/report.txt'\n",
    "\n",
    "total = 0\n",
    "with open(filename, \"r\") as fh:\n",
    "    for row in fh:\n",
    "        if \"Report\" not in row:\n",
    "            continue\n",
    "        text, value = row.split(\":\")\n",
    "        # print(value)\n",
    "        value = float(value.strip())\n",
    "        # print(value)\n",
    "        total += value\n",
    "\n",
    "print(total)"
   ]
  },
  {
   "cell_type": "markdown",
   "id": "38037c67-366d-46ce-ad2a-b39bee481475",
   "metadata": {
    "tags": []
   },
   "source": [
    "## Open and read file (easy but not recommended)\n",
    "\n",
    "- In some code you will encounter the following way of opening files.\n",
    "- This was used before \"with\" was added to the language.\n",
    "- It is not a recommended way of opening a file as you might easily forget to call \"close\" and that might cause trouble. For example you might loose data. **Don't do that.**\n"
   ]
  },
  {
   "cell_type": "code",
   "execution_count": 25,
   "id": "3c8bd53e-e090-40ac-9827-ed187ce0caa7",
   "metadata": {},
   "outputs": [
    {
     "name": "stdout",
     "output_type": "stream",
     "text": [
      "This is a text report there are some lines that start with\n",
      "\n",
      "Report: 23\n",
      "\n",
      "Other linese has this somewhere in the middle.\n",
      "\n"
     ]
    }
   ],
   "source": [
    "\n",
    "filename = '__FILES/report.txt'\n",
    "\n",
    "fh = open(filename, 'r')\n",
    "for i, line in enumerate(fh):\n",
    "    if i<3:\n",
    "        print(line)\n",
    "fh.close()"
   ]
  },
  {
   "cell_type": "markdown",
   "id": "bd34d57f-a415-445c-b553-71cde1d21bf1",
   "metadata": {
    "tags": []
   },
   "source": [
    "## Open and read file using with (recommended)"
   ]
  },
  {
   "cell_type": "code",
   "execution_count": 22,
   "id": "d34debc2-c919-4e3d-9605-d6a88e6bcd94",
   "metadata": {},
   "outputs": [
    {
     "name": "stdout",
     "output_type": "stream",
     "text": [
      "This is a text report there are some lines that start with\n",
      "\n",
      "Report: 23\n",
      "\n",
      "Other linese has this somewhere in the middle.\n",
      "\n"
     ]
    }
   ],
   "source": [
    "filename = '__FILES/report.txt'\n",
    "\n",
    "with open(filename, 'r') as fh:   # open(filename) would be enough\n",
    "    count = 0\n",
    "    for line in fh:\n",
    "        if count < 3:  # print first 3 lines\n",
    "            count +=1\n",
    "            print(line)               # duplicate newlines\n",
    "\n",
    "# close is called when we leave the 'with' context"
   ]
  },
  {
   "cell_type": "markdown",
   "id": "a379626c-b4c7-4263-ad14-00b682fe731b",
   "metadata": {},
   "source": [
    "## Read file remove newlines"
   ]
  },
  {
   "cell_type": "code",
   "execution_count": 24,
   "id": "bf5cd1c9-a2f0-42ab-9605-02a3c43aa99b",
   "metadata": {},
   "outputs": [
    {
     "name": "stdout",
     "output_type": "stream",
     "text": [
      "This is a text report there are some lines that start with\n",
      "Report: 23\n",
      "Other linese has this somewhere in the middle.\n",
      "\n"
     ]
    }
   ],
   "source": [
    "filename = '__FILES/report.txt'\n",
    "\n",
    "with open(filename, 'r') as fh:\n",
    "    for i, line in enumerate(fh):\n",
    "        if i > 3:\n",
    "            break\n",
    "        line = line.rstrip(\"\\n\")\n",
    "        print(line)"
   ]
  },
  {
   "cell_type": "markdown",
   "id": "4503ac66-a334-405f-95cc-767fee6a9738",
   "metadata": {},
   "source": [
    "## Filename on the command line"
   ]
  },
  {
   "cell_type": "code",
   "execution_count": null,
   "id": "7d70da32-c5cb-4c0e-9cf9-71a650bca728",
   "metadata": {},
   "outputs": [],
   "source": [
    "import sys\n",
    "\n",
    "def main():\n",
    "    if len(sys.argv) != 2:\n",
    "        exit(f\"Usage: {sys.argv[0]} FILENAME\")\n",
    "    filename = sys.argv[1]\n",
    "    with open(filename) as fh:\n",
    "        print(\"Working on the file\", filename)\n",
    "\n",
    "main()"
   ]
  },
  {
   "cell_type": "markdown",
   "id": "aa354d91-d17f-49ef-b329-fd25fd5299d5",
   "metadata": {},
   "source": [
    "## Filehandle with return"
   ]
  },
  {
   "cell_type": "code",
   "execution_count": 26,
   "id": "78e86e2c-1710-451a-a0ad-1fa16173fdd0",
   "metadata": {},
   "outputs": [
    {
     "name": "stdout",
     "output_type": "stream",
     "text": [
      "This is a text report there are some lines that start with\n",
      "Report: 23\n",
      "Other linese has this somewhere in the middle.\n",
      "\n",
      "Begin report\n",
      "\n",
      "Report: -3\n",
      "\n",
      "Like this. Report: 17\n",
      "More lines starting with\n",
      "Report: 44\n",
      "\n",
      "End report\n",
      "\n",
      "We will have some exercise with this file. Maybe 4 exercises.\n",
      "Report: 123\n"
     ]
    }
   ],
   "source": [
    "import sys\n",
    "\n",
    "def process_file(filename):\n",
    "    with open(filename, 'r') as fh:\n",
    "\n",
    "        for line in fh:\n",
    "            line = line.rstrip(\"\\n\")\n",
    "            if len(line) > 0 and line[0] == '#':\n",
    "                return\n",
    "\n",
    "            if len(line) > 1 and line[0:2] == '//':\n",
    "                return\n",
    "\n",
    "            # process the line\n",
    "            print(line)\n",
    "\n",
    "\n",
    "process_file('__FILES/report.txt')"
   ]
  },
  {
   "cell_type": "markdown",
   "id": "eb220767-7ec0-4fe6-bf95-3f9f00919e47",
   "metadata": {},
   "source": [
    "## Read all the lines into a list"
   ]
  },
  {
   "cell_type": "code",
   "execution_count": 27,
   "id": "8fb02e13-c608-4e84-81bd-f5d1ad3a122e",
   "metadata": {},
   "outputs": [
    {
     "name": "stdout",
     "output_type": "stream",
     "text": [
      "number of lines: 37\n",
      "## File types: Text vs Binary\n",
      "## Open vs. Read vs. Load\n",
      "## Binary files: Images\n",
      "------\n",
      "Binary files: Images\n",
      "Open vs. Read vs. Load\n",
      "File types: Text vs Binary\n"
     ]
    }
   ],
   "source": [
    "filename = '__FILES/test.txt'\n",
    "\n",
    "with open(filename, 'r') as fh:\n",
    "    lines = fh.readlines()   # reads all the lines into a list\n",
    "\n",
    "print(f\"number of lines: {len(lines)}\")\n",
    "\n",
    "for line in lines[:3]:\n",
    "    print(\"## \" + line, end=\"\")\n",
    "\n",
    "print('------')\n",
    "\n",
    "lines.reverse()\n",
    "for line in lines[-3:]:\n",
    "    print(line, end=\"\")"
   ]
  },
  {
   "cell_type": "markdown",
   "id": "ba5e9891-9912-4355-96c0-09ba993d6ddd",
   "metadata": {},
   "source": [
    "## Read all the characters into a string (slurp)\n",
    "- In some other cases, especially if you are looknig for some pattern that starts on one line but ends on another line. you'd be better off having the whole file as a single string in a variable. This is where the read method comes in handy.\n",
    "- It can also be used to read in chunks of the file."
   ]
  },
  {
   "cell_type": "code",
   "execution_count": 30,
   "id": "5331b6c1-6fa1-49d4-86d7-e14a42d5839f",
   "metadata": {},
   "outputs": [
    {
     "name": "stdout",
     "output_type": "stream",
     "text": [
      "<class 'str'>\n",
      "983\n"
     ]
    }
   ],
   "source": [
    "filename = '__FILES/test.txt'\n",
    "\n",
    "with open(filename, 'r') as fh:\n",
    "    content = fh.read()   # reads all the lines into a string\n",
    "\n",
    "print(type(content))\n",
    "print(len(content))   # number of characters in file\n"
   ]
  },
  {
   "cell_type": "markdown",
   "id": "85cb1086-6b60-49c0-9bc9-95decb06674f",
   "metadata": {},
   "source": [
    "## Not existing file"
   ]
  },
  {
   "cell_type": "code",
   "execution_count": 31,
   "id": "54aa6eb5-89c3-46ef-9c8d-8b62c2dd03df",
   "metadata": {},
   "outputs": [
    {
     "ename": "FileNotFoundError",
     "evalue": "[Errno 2] No such file or directory: '__FILES/unicorns.txt'",
     "output_type": "error",
     "traceback": [
      "\u001b[0;31m---------------------------------------------------------------------------\u001b[0m",
      "\u001b[0;31mFileNotFoundError\u001b[0m                         Traceback (most recent call last)",
      "Cell \u001b[0;32mIn[31], line 3\u001b[0m\n\u001b[1;32m      1\u001b[0m filename \u001b[38;5;241m=\u001b[39m \u001b[38;5;124m'\u001b[39m\u001b[38;5;124m__FILES/unicorns.txt\u001b[39m\u001b[38;5;124m'\u001b[39m\n\u001b[0;32m----> 3\u001b[0m \u001b[38;5;28;01mwith\u001b[39;00m \u001b[38;5;28;43mopen\u001b[39;49m\u001b[43m(\u001b[49m\u001b[43mfilename\u001b[49m\u001b[43m,\u001b[49m\u001b[43m \u001b[49m\u001b[38;5;124;43m'\u001b[39;49m\u001b[38;5;124;43mr\u001b[39;49m\u001b[38;5;124;43m'\u001b[39;49m\u001b[43m)\u001b[49m \u001b[38;5;28;01mas\u001b[39;00m fh:\n\u001b[1;32m      4\u001b[0m     lines  \u001b[38;5;241m=\u001b[39m fh\u001b[38;5;241m.\u001b[39mread()\n\u001b[1;32m      5\u001b[0m \u001b[38;5;28mprint\u001b[39m(\u001b[38;5;124m\"\u001b[39m\u001b[38;5;124mstill running\u001b[39m\u001b[38;5;124m\"\u001b[39m)\n",
      "File \u001b[0;32m~/opt/anaconda3/lib/python3.9/site-packages/IPython/core/interactiveshell.py:282\u001b[0m, in \u001b[0;36m_modified_open\u001b[0;34m(file, *args, **kwargs)\u001b[0m\n\u001b[1;32m    275\u001b[0m \u001b[38;5;28;01mif\u001b[39;00m file \u001b[38;5;129;01min\u001b[39;00m {\u001b[38;5;241m0\u001b[39m, \u001b[38;5;241m1\u001b[39m, \u001b[38;5;241m2\u001b[39m}:\n\u001b[1;32m    276\u001b[0m     \u001b[38;5;28;01mraise\u001b[39;00m \u001b[38;5;167;01mValueError\u001b[39;00m(\n\u001b[1;32m    277\u001b[0m         \u001b[38;5;124mf\u001b[39m\u001b[38;5;124m\"\u001b[39m\u001b[38;5;124mIPython won\u001b[39m\u001b[38;5;124m'\u001b[39m\u001b[38;5;124mt let you open fd=\u001b[39m\u001b[38;5;132;01m{\u001b[39;00mfile\u001b[38;5;132;01m}\u001b[39;00m\u001b[38;5;124m by default \u001b[39m\u001b[38;5;124m\"\u001b[39m\n\u001b[1;32m    278\u001b[0m         \u001b[38;5;124m\"\u001b[39m\u001b[38;5;124mas it is likely to crash IPython. If you know what you are doing, \u001b[39m\u001b[38;5;124m\"\u001b[39m\n\u001b[1;32m    279\u001b[0m         \u001b[38;5;124m\"\u001b[39m\u001b[38;5;124myou can use builtins\u001b[39m\u001b[38;5;124m'\u001b[39m\u001b[38;5;124m open.\u001b[39m\u001b[38;5;124m\"\u001b[39m\n\u001b[1;32m    280\u001b[0m     )\n\u001b[0;32m--> 282\u001b[0m \u001b[38;5;28;01mreturn\u001b[39;00m \u001b[43mio_open\u001b[49m\u001b[43m(\u001b[49m\u001b[43mfile\u001b[49m\u001b[43m,\u001b[49m\u001b[43m \u001b[49m\u001b[38;5;241;43m*\u001b[39;49m\u001b[43margs\u001b[49m\u001b[43m,\u001b[49m\u001b[43m \u001b[49m\u001b[38;5;241;43m*\u001b[39;49m\u001b[38;5;241;43m*\u001b[39;49m\u001b[43mkwargs\u001b[49m\u001b[43m)\u001b[49m\n",
      "\u001b[0;31mFileNotFoundError\u001b[0m: [Errno 2] No such file or directory: '__FILES/unicorns.txt'"
     ]
    }
   ],
   "source": [
    "filename = '__FILES/unicorns.txt'\n",
    "\n",
    "with open(filename, 'r') as fh:\n",
    "    lines  = fh.read()\n",
    "print(\"still running\")"
   ]
  },
  {
   "cell_type": "markdown",
   "id": "ac23b1b3-06ef-4693-8237-b885758c47d0",
   "metadata": {},
   "source": [
    "## Open file exception handling"
   ]
  },
  {
   "cell_type": "code",
   "execution_count": 33,
   "id": "0a3c7fb7-105e-4b7a-8d81-d2efcd22420d",
   "metadata": {},
   "outputs": [
    {
     "name": "stdout",
     "output_type": "stream",
     "text": [
      "There was some error in the file operations.\n",
      "FileNotFoundError\n",
      "[Errno 2] No such file or directory: '__FILES/unicorns.txt'\n",
      "Still running.\n"
     ]
    }
   ],
   "source": [
    "filename = '__FILES/unicorns.txt'\n",
    "\n",
    "try:\n",
    "    with open(filename, 'r') as fh:\n",
    "        lines = fh.read()\n",
    "except Exception as err:\n",
    "    print('There was some error in the file operations.')\n",
    "    print(type(err).__name__)\n",
    "    print(err)\n",
    "\n",
    "print('Still running.')"
   ]
  },
  {
   "cell_type": "markdown",
   "id": "544678eb-2845-45cd-988d-0499369fc89f",
   "metadata": {},
   "source": [
    "## Open many files - exception handling"
   ]
  },
  {
   "cell_type": "code",
   "execution_count": 38,
   "id": "adf27c9c-b6ae-4180-b9be-32bd03b7ee79",
   "metadata": {},
   "outputs": [
    {
     "name": "stdout",
     "output_type": "stream",
     "text": [
      "__FILES/numbers.txt Average:  58.25\n",
      "__FILES/numbers2.txt Average:  39.333333333333336\n"
     ]
    }
   ],
   "source": [
    "import sys\n",
    "\n",
    "def main(args):\n",
    "    for filename in args:\n",
    "        try:\n",
    "            do_some_stuff('__FILES/' + filename)\n",
    "        except Exception as err:\n",
    "            print(f\"trouble with '{filename}': Error: {err}\")\n",
    "\n",
    "def do_some_stuff(filename):\n",
    "    with open(filename) as fh:\n",
    "        total = 0\n",
    "        count = 0\n",
    "        for line in fh:\n",
    "            number = float(line)\n",
    "            total += number\n",
    "            count += 1\n",
    "        print(filename, \"Average: \", total/count)\n",
    "\n",
    "main(['numbers.txt', 'numbers2.txt'])"
   ]
  },
  {
   "cell_type": "markdown",
   "id": "b1a722c5-e532-477c-8b42-a6c97d534141",
   "metadata": {},
   "source": [
    "## Writing to file\n",
    "\n",
    "- In order to write to a file we open it passing the \"w\" write mode. If the file did not exist it will try to create it. If the file already existed it will remove all its content so after such call to open we'll end up with an empty file if we don't write into it.\n",
    "- Once the file is opened we can use the write method to write to it. This will NOT automatically append a newline at the end so we'll have to include \\n if we would like to insert a newline.\n",
    "\n",
    "- Opening the file will fail if we don't have write permissions or if the folder in which we are trying to create the file does not exist.\n",
    "\n"
   ]
  },
  {
   "cell_type": "code",
   "execution_count": 39,
   "id": "3b8a217f-1638-47c5-9b31-5dfa84ea8d31",
   "metadata": {},
   "outputs": [],
   "source": [
    "\n",
    "filename = '__FILES/data.txt'\n",
    "\n",
    "with open(filename, 'w') as out:\n",
    "    out.write('text\\n')"
   ]
  },
  {
   "cell_type": "markdown",
   "id": "c6c5a44f-eff2-470e-ad24-a463fbc9cadb",
   "metadata": {},
   "source": [
    "## Print to file\n",
    "- We can also use the print function to print (or write) to a file. In this case the same rules apply as printing to standard output (automatically adding a trailing newline, inserting a space between parameters).\n",
    "- We do this by passing the file-handle as the value of the file parameter of print.\n"
   ]
  },
  {
   "cell_type": "code",
   "execution_count": 40,
   "id": "99e2a6a4-b058-4dee-9852-d216e572a4a1",
   "metadata": {},
   "outputs": [],
   "source": [
    "\n",
    "filename = '__FILES/data.txt'\n",
    "with open(filename, 'w') as fh:\n",
    "    print(\"Hello\", \"World\", file=fh)"
   ]
  },
  {
   "cell_type": "markdown",
   "id": "d70ef28c-7862-4a41-ab0f-9da11f2ed509",
   "metadata": {},
   "source": [
    "## Append to file"
   ]
  },
  {
   "cell_type": "code",
   "execution_count": 41,
   "id": "492dbc8d-7573-4db0-91f5-4b899e7424f7",
   "metadata": {},
   "outputs": [],
   "source": [
    "filename = '__FILES/data.txt'\n",
    "with open(filename, 'a') as out:\n",
    "    out.write('append more text\\n')"
   ]
  },
  {
   "cell_type": "markdown",
   "id": "02d8ef8e-d44d-4fe2-9af4-ecc23dff3984",
   "metadata": {},
   "source": [
    "## Binary mode"
   ]
  },
  {
   "cell_type": "code",
   "execution_count": 42,
   "id": "f4c520d3-b1b9-4941-8302-afeab4250fd3",
   "metadata": {},
   "outputs": [],
   "source": [
    "import sys\n",
    "\n",
    "filename = '__FILES/binary.txt'\n",
    "\n",
    "try:\n",
    "    with open(filename, 'rb') as fh:\n",
    "        while True:\n",
    "            binary_str = fh.read(1000)\n",
    "            print(len(binary_str))\n",
    "            if len(binary_str) == 0:\n",
    "                break\n",
    "            # do something with the content of the binary_str\n",
    "except Exception:\n",
    "    pass"
   ]
  },
  {
   "cell_type": "markdown",
   "id": "c4d437cb-1af7-449f-ac9e-3c40ae71989f",
   "metadata": {},
   "source": [
    "## Does file exist? Is it a file?"
   ]
  },
  {
   "cell_type": "code",
   "execution_count": 45,
   "id": "84434c73-de08-4e42-bcc8-b504ea28af7f",
   "metadata": {},
   "outputs": [
    {
     "name": "stdout",
     "output_type": "stream",
     "text": [
      "The file __FILES/data.txt exists.\n",
      "The path __FILES/data.txt is a file.\n",
      "The path __FILES/temp/ is not a directory.\n"
     ]
    }
   ],
   "source": [
    "import os\n",
    "\n",
    "# Example file path\n",
    "file_path = '__FILES/data.txt'\n",
    "directory_path = '__FILES/temp/'\n",
    "\n",
    "# Check if the path exists\n",
    "if os.path.exists(file_path):\n",
    "    print(f\"The file {file_path} exists.\")\n",
    "else:\n",
    "    print(f\"The file {file_path} does not exist.\")\n",
    "\n",
    "# Check if the path refers to a file\n",
    "if os.path.isfile(file_path):\n",
    "    print(f\"The path {file_path} is a file.\")\n",
    "else:\n",
    "    print(f\"The path {file_path} is not a file.\")\n",
    "\n",
    "# Check if the path refers to a directory\n",
    "if os.path.isdir(directory_path):\n",
    "    print(f\"The path {directory_path} is a directory.\")\n",
    "else:\n",
    "    print(f\"The path {directory_path} is not a directory.\")\n"
   ]
  },
  {
   "cell_type": "markdown",
   "id": "5159ef5c-cf1b-4309-99f0-3e61706c9b9f",
   "metadata": {},
   "source": [
    "## Direct access of a line in a file"
   ]
  },
  {
   "cell_type": "code",
   "execution_count": 49,
   "id": "dcee5ebd-5916-43d5-9d39-6bdb021e26c4",
   "metadata": {},
   "outputs": [
    {
     "ename": "TypeError",
     "evalue": "'_io.TextIOWrapper' object is not subscriptable",
     "output_type": "error",
     "traceback": [
      "\u001b[0;31m---------------------------------------------------------------------------\u001b[0m",
      "\u001b[0;31mTypeError\u001b[0m                                 Traceback (most recent call last)",
      "Cell \u001b[0;32mIn[49], line 3\u001b[0m\n\u001b[1;32m      1\u001b[0m filename \u001b[38;5;241m=\u001b[39m \u001b[38;5;124m'\u001b[39m\u001b[38;5;124m__FILES/report.txt\u001b[39m\u001b[38;5;124m'\u001b[39m\n\u001b[1;32m      2\u001b[0m \u001b[38;5;28;01mwith\u001b[39;00m \u001b[38;5;28mopen\u001b[39m(filename, \u001b[38;5;124m'\u001b[39m\u001b[38;5;124mr\u001b[39m\u001b[38;5;124m'\u001b[39m) \u001b[38;5;28;01mas\u001b[39;00m fh:\n\u001b[0;32m----> 3\u001b[0m     \u001b[38;5;28mprint\u001b[39m(\u001b[43mfh\u001b[49m\u001b[43m[\u001b[49m\u001b[38;5;241;43m2\u001b[39;49m\u001b[43m]\u001b[49m)\n",
      "\u001b[0;31mTypeError\u001b[0m: '_io.TextIOWrapper' object is not subscriptable"
     ]
    }
   ],
   "source": [
    "filename = '__FILES/report.txt'\n",
    "with open(filename, 'r') as fh:\n",
    "    print(fh[2])"
   ]
  },
  {
   "cell_type": "code",
   "execution_count": 52,
   "id": "f87a38b7-1bcc-466a-bffe-03acd2d0f0de",
   "metadata": {},
   "outputs": [
    {
     "name": "stdout",
     "output_type": "stream",
     "text": [
      "line 2 : Other linese has this somewhere in the middle.\n",
      "\n"
     ]
    }
   ],
   "source": [
    "line = 2\n",
    "with open(filename, 'r') as fh:\n",
    "    rows = fh.readlines()\n",
    "print(f\"line {line} : {rows[line]}\")"
   ]
  },
  {
   "cell_type": "markdown",
   "id": "ba31af1d-df53-4a33-a5f3-ad515ffa8f17",
   "metadata": {},
   "source": [
    "## Exercise: count digits\n",
    "\n",
    "\n",
    "- Given the file __FILES/ex1.txt (or a similar file), \n",
    "- write a script that will count how many times each digit appears? The output will look like this. Just different values.\n",
    " \n",
    "0 0 <br/>\n",
    "1 3 <br/>\n",
    "2 3 <br/>\n",
    "3 4 <br/>\n",
    "4 2 <br/>\n",
    "5 2 <br/>\n",
    "6 1 <br/>\n",
    "7 2 <br/>\n",
    "8 1 <br/>\n",
    "9 1 <br/>\n"
   ]
  },
  {
   "cell_type": "code",
   "execution_count": null,
   "id": "4e838a50-a443-404a-a136-d79b1ed03e70",
   "metadata": {},
   "outputs": [],
   "source": [
    "import sys\n",
    "\n",
    "if len(sys.argv) < 2:\n",
    "    exit(\"Need name of file.\")\n",
    "\n",
    "counter = [0] * 10\n",
    "filename = sys.argv[1]\n",
    "with open(filename) as fh:\n",
    "    for line in fh:\n",
    "        for c in line.rstrip(\"\\n\"):\n",
    "            if c == ' ':\n",
    "                continue\n",
    "\n",
    "            c = int(c)\n",
    "            counter[c] += 1\n",
    "\n",
    "for i in range(10):\n",
    "    print(\"{} {}\".format(i, counter[i]))"
   ]
  },
  {
   "cell_type": "markdown",
   "id": "d8c49cee-9098-4b55-b9a0-733da81d1f78",
   "metadata": {},
   "source": [
    "## Exercise: remove newlines\n",
    "- write a script that will be able to read all the lines of a given file into a list and remove trailing newlines."
   ]
  },
  {
   "cell_type": "code",
   "execution_count": null,
   "id": "718630ea-194e-49d0-9c06-b90bd00c4560",
   "metadata": {},
   "outputs": [],
   "source": [
    "import sys\n",
    "filename = sys.argv[0]\n",
    "with open(filename) as fh:\n",
    "    lines = []\n",
    "    for line in fh:\n",
    "        lines.append(line.rstrip(\"\\n\"))\n",
    "    print(lines)"
   ]
  },
  {
   "cell_type": "markdown",
   "id": "cc25e0a6-84d3-402c-a120-66f3efbbae62",
   "metadata": {},
   "source": [
    "## Exercise: print lines with Report:\n",
    "- In many cases you get some text report in some free form of text (and not in a CSV file or an Excel file.) - You need to extract the information from such a file after recognizing the patterns. This exercise tries to provide such a case.\n",
    "\n",
    "- Given a `__FILES/report.txt`\n",
    "\n",
    "- Print out the first line that starts with Report:.\n",
    "- Print out all the lines that have the string Report: in it.\n",
    "- Print out all the lines that start with the string Report:.\n",
    "- Print out the numbers that are after Report:. (e.g. Report: 42 print out 42)\n",
    "- Add the numbers that after after the string Report:. So in the above example the result is expected to be 204.\n",
    "- Do the same, but only take account lines between the Begin report and End report section. (sum expected to be 58)\n",
    "\n"
   ]
  },
  {
   "cell_type": "code",
   "execution_count": null,
   "id": "37a8ac85-9b7e-4d92-ad5d-ff51b74aa0c6",
   "metadata": {},
   "outputs": [],
   "source": [
    "import sys\n",
    "\n",
    "\n",
    "def main():\n",
    "    if len(sys.argv) !=2:\n",
    "        exit(f\"Usage: {sys.argv[0]} FILENAME\")\n",
    "        # text_report.txt\n",
    "\n",
    "    in_file = sys.argv[1]\n",
    "    show_rows_with_report(in_file)\n",
    "    show_rows_start_with_report(in_file)\n",
    "    show_numbers_after_report(in_file)\n",
    "    sum_numbers_after_report(in_file)\n",
    "    sum_numbers_after_report_within_begin_end_section(in_file)\n",
    "\n",
    "\n",
    "def show_rows_with_report(in_file):\n",
    "    with open(in_file) as fh:\n",
    "        for row in fh:\n",
    "            row = row.rstrip(\"\\n\")\n",
    "            if 'Report:' in row:\n",
    "                print(row)\n",
    "    print('-' * 20)\n",
    "\n",
    "def show_rows_start_with_report(in_file):\n",
    "    with open(in_file) as fh:\n",
    "        for row in fh:\n",
    "            row = row.rstrip(\"\\n\")\n",
    "            if row.startswith('Report:'):\n",
    "                print(row)\n",
    "    print('-' * 20)\n",
    "\n",
    "def show_numbers_after_report(in_file):\n",
    "    with open(in_file) as fh:\n",
    "        for row in fh:\n",
    "            row = row.rstrip(\"\\n\")\n",
    "            if 'Report:' in row:\n",
    "                parts = row.split(':')\n",
    "                print(int(parts[1]))\n",
    "    print('-' * 20)\n",
    "\n",
    "def sum_numbers_after_report(in_file):\n",
    "    total = 0\n",
    "    with open(in_file) as fh:\n",
    "        for row in fh:\n",
    "            row = row.rstrip(\"\\n\")\n",
    "            if 'Report:' in row:\n",
    "                parts = row.split(':')\n",
    "                total += int(parts[1])\n",
    "    print(f\"Total: {total}\")\n",
    "    print('-' * 20)\n",
    "\n",
    "def sum_numbers_after_report_within_begin_end_section(in_file):\n",
    "    in_section = False\n",
    "    total = 0\n",
    "    with open(in_file) as fh:\n",
    "        for row in fh:\n",
    "            row = row.rstrip(\"\\n\")\n",
    "            if row == 'Begin report':\n",
    "                in_section = True\n",
    "                continue\n",
    "            if row == 'End report':\n",
    "                in_section = False\n",
    "                continue\n",
    "            if in_section:\n",
    "                if 'Report:' in row:\n",
    "                    parts = row.split(':')\n",
    "                    total += int(parts[1])\n",
    "                    print(int(parts[1]))\n",
    "    print(f\"Total in section: {total}\")\n",
    "    print('-' * 20)\n",
    "\n",
    "\n",
    "main()"
   ]
  },
  {
   "cell_type": "markdown",
   "id": "f69e0b90-6727-4b83-9753-96b305a0dd00",
   "metadata": {},
   "source": [
    "## Exercise: color selector\n",
    "\n",
    "- Create a file similar to the __FILES/colors.txt file and use it as the list of colors in the earlier example where we prompted for a color.\n",
    "\n",
    "\n"
   ]
  },
  {
   "cell_type": "code",
   "execution_count": null,
   "id": "f82ee71e-0f9c-4f5f-b6b0-c77c58705329",
   "metadata": {},
   "outputs": [],
   "source": [
    "def main():\n",
    "    try:\n",
    "        with open('colors.txt') as fh:\n",
    "            colors = []\n",
    "            for line in fh:\n",
    "                colors.append(line.rstrip(\"\\n\"))\n",
    "    except IOError:\n",
    "        print(\"Could not open colors.txt\")\n",
    "        exit()\n",
    "\n",
    "    for i in range(len(colors)):\n",
    "        print(\"{}) {}\".format(i, colors[i]))\n",
    "\n",
    "    c = int(input(\"Select color: \"))\n",
    "    print(colors[c])\n",
    "\n",
    "main()"
   ]
  },
  {
   "cell_type": "markdown",
   "id": "a41dab15-09c2-4e14-88d9-9ca545615f2d",
   "metadata": {},
   "source": [
    "## Exercise: Combine lists\n",
    "\n",
    "- file_a\n",
    "- `Tomato=78`\n",
    "- `Avocado=23`\n",
    "- `Pumpkin=100`\n",
    "\n",
    "\n",
    "\n",
    "- file_b\n",
    "- `Cucumber=17`\n",
    "- `Avocado=10`\n",
    "- `Cucumber=10`\n",
    "\n",
    "\n",
    "Write a script that takes the two files and combines them adding the values for each vegetable. The expected result is:\n",
    "\n",
    "\n",
    "- file_c\n",
    "- `Avocado=33`\n",
    "- `Cucumber=27`\n",
    "- `Pumpkin=100`\n",
    "- `Tomato=78`\n",
    "\n",
    "\n"
   ]
  },
  {
   "cell_type": "code",
   "execution_count": null,
   "id": "2f381589-62d5-4404-8f7a-3412a57b26ce",
   "metadata": {},
   "outputs": [],
   "source": [
    "files = ['examples/files/a.txt', 'examples/files/b.txt']\n",
    "names = []\n",
    "values = []\n",
    "\n",
    "for filename in files:\n",
    "    with open(filename) as fh:\n",
    "        for line in fh:\n",
    "            name, value = line.rstrip(\"\\n\").split(\"=\")\n",
    "            value = int(value)\n",
    "            if name in names:\n",
    "                idx = names.index(name)\n",
    "                values[idx] += value\n",
    "            else:\n",
    "                names.append( name )\n",
    "                values.append( value )\n",
    "\n",
    "with open('out.txt', 'w') as fh:\n",
    "    for ix in range(len(names)):\n",
    "        fh.write(\"{}={}\\n\".format(names[ix], values[ix]))"
   ]
  },
  {
   "cell_type": "markdown",
   "id": "26419d7a-fa99-4167-8d87-a45ef564da4f",
   "metadata": {},
   "source": [
    "## Exercise: Number guessing game - save to file"
   ]
  },
  {
   "cell_type": "markdown",
   "id": "e7b62316-a467-4f83-b122-c3e31c1591e0",
   "metadata": {},
   "source": [
    "## Filehandle using with and not using it"
   ]
  },
  {
   "cell_type": "code",
   "execution_count": null,
   "id": "5cdedcd4-5bb8-47c9-b8cb-10cd1f5de66c",
   "metadata": {},
   "outputs": [],
   "source": [
    "filename = 'examples/files/numbers.txt'\n",
    "\n",
    "fh = open(filename, 'r')\n",
    "print(fh)      # <open file 'numbers.txt', mode 'r' at 0x107084390>\n",
    "data = fh.read()\n",
    "# do something with the data\n",
    "fh.close()\n",
    "print(fh)      # <closed file 'numbers.txt', mode 'r' at 0x107084390>\n",
    "\n",
    "\n",
    "\n",
    "with open(filename, 'r') as fh:\n",
    "    print(fh)  # <open file 'numbers.txt', mode 'r' at 0x1070840c0>\n",
    "    data = fh.read()\n",
    "print(fh)     # <closed file 'numbers.txt', mode 'r' at 0x1070840c0>"
   ]
  }
 ],
 "metadata": {
  "kernelspec": {
   "display_name": "Python 3 (ipykernel)",
   "language": "python",
   "name": "python3"
  },
  "language_info": {
   "codemirror_mode": {
    "name": "ipython",
    "version": 3
   },
   "file_extension": ".py",
   "mimetype": "text/x-python",
   "name": "python",
   "nbconvert_exporter": "python",
   "pygments_lexer": "ipython3",
   "version": "3.9.7"
  }
 },
 "nbformat": 4,
 "nbformat_minor": 5
}
