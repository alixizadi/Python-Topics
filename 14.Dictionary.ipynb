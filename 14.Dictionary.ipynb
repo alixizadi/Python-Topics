{
 "cells": [
  {
   "cell_type": "markdown",
   "id": "b1911499-d98d-437d-ac3e-fe42f10cec14",
   "metadata": {},
   "source": [
    "## What is a dictionary\n",
    "\n",
    "- Unordered key-value pairs.\n",
    "- Keys are immutables (numbers, strings, tuples).\n",
    "- Values can be any object.\n"
   ]
  },
  {
   "cell_type": "markdown",
   "id": "c9425da4-0cf8-4216-8423-e826aba21272",
   "metadata": {},
   "source": [
    "## When to use dictionaries\n",
    "\n",
    "- ID to Name mapping.\n",
    "- Object to Count mapping.\n",
    "- Name of a feature to value of the feature.\n",
    "- Name of an attribute to value of the attribute."
   ]
  },
  {
   "cell_type": "markdown",
   "id": "cb74c055-e7b4-488d-a558-58d07a92bbac",
   "metadata": {},
   "source": [
    "## Various dictionary examples"
   ]
  },
  {
   "cell_type": "code",
   "execution_count": 12,
   "id": "10197345-4250-4c3b-b5c0-72e968bf8558",
   "metadata": {},
   "outputs": [],
   "source": [
    "person_1 = {\n",
    "    'fname': 'Ali',\n",
    "    'lname': 'Izadi',\n",
    "    'email': 'ali@izadi.com',\n",
    "    'children': ['Felfeli', 'Ghelgheli',' Morghe Zarde Kakoli'],\n",
    "}\n",
    "person_2 = {\n",
    "    'fname': 'SASAN',\n",
    "    'lname': 'JOKAR',\n",
    "    'email': 'sasan@jokar.com',\n",
    "    'phone': '123-456',\n",
    "}\n"
   ]
  },
  {
   "cell_type": "code",
   "execution_count": 10,
   "id": "a651bf0b-add7-4bda-8d72-82533315bc0d",
   "metadata": {},
   "outputs": [
    {
     "name": "stdout",
     "output_type": "stream",
     "text": [
      "Ali\n",
      "{'fname': 'Ali', 'lname': 'Izadi', 'email': 'ali@izadi.com', 'children': ['Felfeli', 'Ghelgheli', ' Morghe Zarde Kakoli']}\n",
      "{'fname': 'SASAN', 'lname': 'JOKAR', 'email': 'sasan@jokar.com', 'phone': '123-456'}\n",
      "----------------\n",
      "sasan@jokar.com\n",
      "Ali Izadi  ->  ali@izadi.com\n",
      "Sasan Jokar  ->  sasan@jokar.com\n",
      "----------------\n",
      "JOKAR\n",
      "{'fname': 'Ali', 'lname': 'Izadi', 'email': 'ali@izadi.com', 'children': ['Felfeli', 'Ghelgheli', ' Morghe Zarde Kakoli']}\n",
      "Sasan\n",
      "{'fname': 'Ali', 'lname': 'Izadi', 'email': 'ali@izadi.com', 'children': ['Felfeli', 'Ghelgheli', ' Morghe Zarde Kakoli']}\n",
      "Ali\n",
      "{'fname': 'SASAN', 'lname': 'JOKAR', 'email': 'sasan@jokar.com', 'phone': '123-456'}\n"
     ]
    }
   ],
   "source": [
    "people = [person_1, person_2]\n",
    "print(people[0]['fname'])\n",
    "for person in people:\n",
    "    print(person)\n",
    "print('----------------')\n",
    "\n",
    "people_by_name = {\n",
    "    'Ali Izadi': 'ali@izadi.com',\n",
    "    'Sasan Jokar': 'sasan@jokar.com',\n",
    "}\n",
    "print(people_by_name['Sasan Jokar'])\n",
    "for name, email in people_by_name.items():\n",
    "    print(f\"{name}  ->  {email}\")\n",
    "print('----------------')\n",
    "\n",
    "\n",
    "\n",
    "full_people_by_name = {\n",
    "    'Sasan': person_1,\n",
    "    'Ali': person_2,\n",
    "}\n",
    "\n",
    "print(full_people_by_name['Ali']['lname'])\n",
    "print(full_people_by_name['Sasan'])\n",
    "for fname, data in full_people_by_name.items():\n",
    "    print(fname)\n",
    "    print(data)"
   ]
  },
  {
   "cell_type": "markdown",
   "id": "d1a1df3a-e916-40b2-9b58-489394b2ea6c",
   "metadata": {},
   "source": [
    "## Dictionary\n",
    "\n",
    "- We can start from an empty dictionary and then fill it with key-value pairs.\n"
   ]
  },
  {
   "cell_type": "code",
   "execution_count": 14,
   "id": "ee9832f1-4642-4739-b9bb-557af80d77db",
   "metadata": {},
   "outputs": [
    {
     "name": "stdout",
     "output_type": "stream",
     "text": [
      "{'name': 'Ali'}\n",
      "{'name': 'Ali', 'email': 'ali@izadi.com'}\n",
      "Ali\n",
      "Ali\n",
      "{'name': 'Sasan Joe', 'email': 'ali@izadi.com'}\n"
     ]
    }
   ],
   "source": [
    "user = {}\n",
    "user['name'] = 'Ali'\n",
    "print(user)        # {'name': 'Ali'}\n",
    "\n",
    "user['email'] = 'ali@izadi.com'\n",
    "print(user)        # {'name': 'Ali', 'email': 'ali@izadi.com'}\n",
    "\n",
    "the_name = user['name']\n",
    "print(the_name)    # Ali\n",
    "\n",
    "field = 'name'\n",
    "the_value = user[field]\n",
    "print(the_value)   # Ali\n",
    "\n",
    "user['name'] = 'Sasan Joe'\n",
    "print(user)      # {'name': 'Sasan Joe', 'email': 'ali@izadi.com'}\n"
   ]
  },
  {
   "cell_type": "markdown",
   "id": "883c598a-de87-4450-8e9f-29a7997898fa",
   "metadata": {},
   "source": [
    "## Create dictionary\n",
    "\n",
    "- We can also start with a dictionary that already has some data in it.\n"
   ]
  },
  {
   "cell_type": "code",
   "execution_count": 15,
   "id": "8318a098-29e9-4fe4-8863-74a71155a411",
   "metadata": {},
   "outputs": [
    {
     "name": "stdout",
     "output_type": "stream",
     "text": [
      "{'fname': 'Foo', 'lname': 'Bar'}\n"
     ]
    }
   ],
   "source": [
    "user = {\n",
    "   'fname': 'Foo',\n",
    "   'lname': 'Bar',\n",
    "}\n",
    "\n",
    "print(user)   # {'lname': 'Bar', 'fname': 'Foo'}\n",
    "\n",
    "user['email'] = 'foo@bar.com'"
   ]
  },
  {
   "cell_type": "markdown",
   "id": "a993da4a-22c2-470d-883d-b058de5c3027",
   "metadata": {},
   "source": [
    "## keys\n",
    "\n",
    "- Sometimes we don't know up front what keys we might have\n",
    "- Keys are returned in seemingly **random order**.\n"
   ]
  },
  {
   "cell_type": "code",
   "execution_count": 18,
   "id": "04de46f0-b8f1-4ac8-902f-dea1bbbf8f1d",
   "metadata": {},
   "outputs": [
    {
     "name": "stdout",
     "output_type": "stream",
     "text": [
      "{'Jupiter': 300, 'Saturn': 500, 'Earth': 0}\n",
      "dict_keys(['Jupiter', 'Saturn', 'Earth'])\n",
      "['Jupiter', 'Saturn', 'Earth']\n"
     ]
    }
   ],
   "source": [
    "import sys\n",
    "\n",
    "if len(sys.argv) != 2:\n",
    "    exit(f\"Usage: {sys.argv[0]} FILENAME\")\n",
    "\n",
    "filename = sys.argv[1]\n",
    "\n",
    "planets = {'Jupiter' :300, 'Saturn':500,  'Earth' :0}\n",
    "print(planets) #\n",
    "\n",
    "print(planets.keys())        #\n",
    "print(list(planets.keys()))  #"
   ]
  },
  {
   "cell_type": "markdown",
   "id": "5b909fed-2d5d-488d-87e3-2a06b620dd3c",
   "metadata": {},
   "source": [
    "## Loop over keys"
   ]
  },
  {
   "cell_type": "code",
   "execution_count": 19,
   "id": "4550109c-b0fa-403c-8733-93111ae7f8f7",
   "metadata": {},
   "outputs": [
    {
     "name": "stdout",
     "output_type": "stream",
     "text": [
      "fname\n",
      "lname\n",
      "fname -> Foo\n",
      "lname -> Bar\n"
     ]
    }
   ],
   "source": [
    "user = {\n",
    "    'fname': 'Foo',\n",
    "    'lname': 'Bar',\n",
    "}\n",
    "\n",
    "for key in user.keys():\n",
    "    print(key)\n",
    "\n",
    "# lname\n",
    "# fname\n",
    "\n",
    "for key in user.keys():\n",
    "    print(f\"{key} -> {user[key]}\")\n",
    "\n",
    "# lname -> Bar\n",
    "# fname -> Foo"
   ]
  },
  {
   "cell_type": "markdown",
   "id": "86094c76-1910-4658-8e7f-2f15516d59ee",
   "metadata": {},
   "source": [
    "## Loop over dictionary keys\n",
    "- **Looping over the \"dictionary\" is just like looping over the keys**\n",
    "- prefer to use the somedictionary.keys() expression"
   ]
  },
  {
   "cell_type": "code",
   "execution_count": 20,
   "id": "2aecfa28-fa7c-4d5b-8d26-93a432248046",
   "metadata": {},
   "outputs": [
    {
     "name": "stdout",
     "output_type": "stream",
     "text": [
      "fname -> Foo\n",
      "lname -> Bar\n"
     ]
    }
   ],
   "source": [
    "user = {\n",
    "    'fname': 'Foo',\n",
    "    'lname': 'Bar',\n",
    "}\n",
    "\n",
    "for key in user:\n",
    "    print(f\"{key} -> {user[key]}\")\n",
    "\n",
    "# lname -> Bar\n",
    "# fname -> Foo"
   ]
  },
  {
   "cell_type": "markdown",
   "id": "e7fc43a1-a4e0-4f6d-859e-04799eaf7695",
   "metadata": {},
   "source": [
    "## Loop using items"
   ]
  },
  {
   "cell_type": "code",
   "execution_count": 21,
   "id": "cfd5efdc-89bc-420b-8f2f-7229f6914f7a",
   "metadata": {},
   "outputs": [
    {
     "name": "stdout",
     "output_type": "stream",
     "text": [
      "Tal => 123\n",
      "Maya => 456\n",
      "Ruth => 789\n"
     ]
    }
   ],
   "source": [
    "people = {\n",
    "    \"Tal\"  : \"123\",\n",
    "    \"Maya\" : \"456\",\n",
    "    \"Ruth\" : \"789\",\n",
    "}\n",
    "\n",
    "for name, uid in people.items():\n",
    "    print(f\"{name} => {uid}\")"
   ]
  },
  {
   "cell_type": "code",
   "execution_count": 22,
   "id": "20f5a0f6-17d5-4c8c-81e4-55c4255d14d8",
   "metadata": {},
   "outputs": [
    {
     "name": "stdout",
     "output_type": "stream",
     "text": [
      "fname -> Foo\n",
      "fname -> Foo\n",
      "lname -> Bar\n",
      "lname -> Bar\n"
     ]
    }
   ],
   "source": [
    "user = {\n",
    "    'fname': 'Foo',\n",
    "    'lname': 'Bar',\n",
    "}\n",
    "\n",
    "for tpl in user.items():      # iterates on tuples\n",
    "    print(f\"{tpl[0]} -> {tpl[1]}\")\n",
    "    print(\"{} -> {}\".format(*tpl))\n",
    "\n",
    "# fname -> Foo\n",
    "# fname -> Foo\n",
    "# lname -> Bar\n",
    "# lname -> Bar"
   ]
  },
  {
   "cell_type": "markdown",
   "id": "b1507ccd-fad6-48e8-b62b-c83c5d2a2bde",
   "metadata": {},
   "source": [
    "## values\n",
    "\n",
    "- Values are returned in the same random order as the keys are.\n"
   ]
  },
  {
   "cell_type": "code",
   "execution_count": 24,
   "id": "6c448550-a2e9-4523-850e-6bf60876afc9",
   "metadata": {},
   "outputs": [
    {
     "name": "stdout",
     "output_type": "stream",
     "text": [
      "{'fname': 'Foo', 'lname': 'Bar', 'workplace': 'Bar'}\n",
      "dict_keys(['fname', 'lname', 'workplace'])\n",
      "dict_values(['Foo', 'Bar', 'Bar'])\n"
     ]
    }
   ],
   "source": [
    "user = {\n",
    "   'fname': 'Foo',\n",
    "   'lname': 'Bar',\n",
    "   'workplace': 'Bar',\n",
    "}\n",
    "\n",
    "print(user)   # {'fname': 'Foo', 'lname': 'Bar', 'workplace': 'Bar'}\n",
    "\n",
    "print(user.keys())    # dict_keys(['fname', 'lname', 'workplace'])\n",
    "\n",
    "print(user.values())  # dict_values(['Foo', 'Bar', 'Bar'])"
   ]
  },
  {
   "cell_type": "markdown",
   "id": "064ef973-6942-4aa0-bbc5-3ce6ddd9a440",
   "metadata": {
    "tags": []
   },
   "source": [
    "## Not existing key\n",
    "- If we try to fetch the value of a key that does not exist, we get an **KeyError exception**.\n",
    "\n"
   ]
  },
  {
   "cell_type": "code",
   "execution_count": 26,
   "id": "1f644cf4-7a6a-4d10-b841-3707f05c6ff7",
   "metadata": {},
   "outputs": [
    {
     "name": "stdout",
     "output_type": "stream",
     "text": [
      "Foo\n"
     ]
    },
    {
     "ename": "KeyError",
     "evalue": "'email'",
     "output_type": "error",
     "traceback": [
      "\u001b[0;31m---------------------------------------------------------------------------\u001b[0m",
      "\u001b[0;31mKeyError\u001b[0m                                  Traceback (most recent call last)",
      "Cell \u001b[0;32mIn[26], line 7\u001b[0m\n\u001b[1;32m      1\u001b[0m user \u001b[38;5;241m=\u001b[39m {\n\u001b[1;32m      2\u001b[0m     \u001b[38;5;124m'\u001b[39m\u001b[38;5;124mfname\u001b[39m\u001b[38;5;124m'\u001b[39m: \u001b[38;5;124m'\u001b[39m\u001b[38;5;124mFoo\u001b[39m\u001b[38;5;124m'\u001b[39m,\n\u001b[1;32m      3\u001b[0m     \u001b[38;5;124m'\u001b[39m\u001b[38;5;124mlname\u001b[39m\u001b[38;5;124m'\u001b[39m: \u001b[38;5;124m'\u001b[39m\u001b[38;5;124mBar\u001b[39m\u001b[38;5;124m'\u001b[39m,\n\u001b[1;32m      4\u001b[0m }\n\u001b[1;32m      6\u001b[0m \u001b[38;5;28mprint\u001b[39m(user[\u001b[38;5;124m'\u001b[39m\u001b[38;5;124mfname\u001b[39m\u001b[38;5;124m'\u001b[39m])\n\u001b[0;32m----> 7\u001b[0m \u001b[38;5;28mprint\u001b[39m(\u001b[43muser\u001b[49m\u001b[43m[\u001b[49m\u001b[38;5;124;43m'\u001b[39;49m\u001b[38;5;124;43memail\u001b[39;49m\u001b[38;5;124;43m'\u001b[39;49m\u001b[43m]\u001b[49m)\n",
      "\u001b[0;31mKeyError\u001b[0m: 'email'"
     ]
    }
   ],
   "source": [
    "user = {\n",
    "    'fname': 'Foo',\n",
    "    'lname': 'Bar',\n",
    "}\n",
    "\n",
    "print(user['fname'])\n",
    "print(user['email'])"
   ]
  },
  {
   "cell_type": "markdown",
   "id": "def4abe0-89e4-4230-97a8-cdf370f79cd6",
   "metadata": {},
   "source": [
    "## Get key\n",
    "\n",
    "- If we use the **get method**, we get None if the key does not exist.\n",
    "\n",
    "- None will be interpreted as False, if checked as a boolean.\n"
   ]
  },
  {
   "cell_type": "code",
   "execution_count": 27,
   "id": "519739dc-09c3-4340-bd5a-c4fb9f906875",
   "metadata": {},
   "outputs": [
    {
     "name": "stdout",
     "output_type": "stream",
     "text": [
      "Foo\n",
      "None\n",
      "None\n",
      "Foo\n",
      "42\n",
      "None\n"
     ]
    }
   ],
   "source": [
    "user = {\n",
    "    'fname': 'Foo',\n",
    "    'lname': 'Bar',\n",
    "    'address': None,\n",
    "}\n",
    "\n",
    "print(user.get('fname'))        # Foo     - because 'fname' has the value 'Foo'\n",
    "print(user.get('email'))        # None    - because 'email' does not exist\n",
    "print(user.get('address'))      # None    - because 'address' has the value None\n",
    "\n",
    "# set a default value to return\n",
    "print(user.get('fname', 'ABC')) # Foo     - because the value of 'fname' is 'Foo'\n",
    "print(user.get('answer', 42))   # 42      - because 'answer' does not exist\n",
    "print(user.get('address', 23))  # None    - because None is the value of the 'address' key"
   ]
  },
  {
   "cell_type": "markdown",
   "id": "6fc6ff8e-2b5e-4ac6-870b-1e1910fe7bb5",
   "metadata": {},
   "source": [
    "## Does the key exist?"
   ]
  },
  {
   "cell_type": "code",
   "execution_count": 28,
   "id": "05c4242f-98cc-4115-ba54-2ba40036e281",
   "metadata": {},
   "outputs": [
    {
     "name": "stdout",
     "output_type": "stream",
     "text": [
      "True\n",
      "False\n",
      "True\n",
      "False\n",
      "fname => Foo\n",
      "lname => Bar\n"
     ]
    }
   ],
   "source": [
    "user = {\n",
    "    'fname': 'Foo',\n",
    "    'lname': 'Bar',\n",
    "    'answer': None,\n",
    "}\n",
    "\n",
    "print('fname' in user)  # True\n",
    "print('email' in user)  # False\n",
    "print('answer' in user) # True\n",
    "print('Foo' in user)    # False\n",
    "\n",
    "for attr in ['fname', 'email', 'lname']:\n",
    "    if attr in user:\n",
    "        print(f\"{attr} => {user[attr]}\")\n",
    "\n",
    "# fname => Foo\n",
    "# lname => Bar"
   ]
  },
  {
   "cell_type": "markdown",
   "id": "826b27ab-ee56-47c3-880d-e36adba43c8a",
   "metadata": {},
   "source": [
    "## Does the value exist?"
   ]
  },
  {
   "cell_type": "code",
   "execution_count": 29,
   "id": "50e14c70-9e1d-402c-af00-635220835788",
   "metadata": {},
   "outputs": [
    {
     "name": "stdout",
     "output_type": "stream",
     "text": [
      "False\n",
      "True\n"
     ]
    }
   ],
   "source": [
    "user = {\n",
    "   'fname': 'Foo',\n",
    "   'lname': 'Bar',\n",
    "}\n",
    "\n",
    "print('fname' in user.values())  # False\n",
    "print('Foo' in user.values())    # True"
   ]
  },
  {
   "cell_type": "markdown",
   "id": "45deae48-094e-4a36-8db8-c24e82b81a51",
   "metadata": {},
   "source": [
    "## Delete key\n",
    "\n",
    "- **del()**\n",
    "- **.pop()**"
   ]
  },
  {
   "cell_type": "code",
   "execution_count": 30,
   "id": "d8a64381-35ec-4d08-91ea-4b48891fbf23",
   "metadata": {},
   "outputs": [
    {
     "name": "stdout",
     "output_type": "stream",
     "text": [
      "{'fname': 'Foo', 'lname': 'Bar', 'email': 'foo@bar.com'}\n",
      "Foo\n",
      "{'lname': 'Bar', 'email': 'foo@bar.com'}\n",
      "Bar\n",
      "{'email': 'foo@bar.com'}\n"
     ]
    }
   ],
   "source": [
    "user = {\n",
    "    'fname': 'Foo',\n",
    "    'lname': 'Bar',\n",
    "    'email': 'foo@bar.com',\n",
    "}\n",
    "\n",
    "print(user) # {'lname': 'Bar', 'email': 'foo@bar.com', 'fname': 'Foo'}\n",
    "\n",
    "fname = user['fname']\n",
    "del user['fname']\n",
    "print(fname) # Foo\n",
    "print(user) # {'lname': 'Bar', 'email': 'foo@bar.com'}\n",
    "\n",
    "lname_was = user.pop('lname')\n",
    "print(lname_was) # Bar\n",
    "print(user) # {'email': 'foo@bar.com'}"
   ]
  },
  {
   "cell_type": "markdown",
   "id": "3d05914e-fdcb-4046-92e6-a99d7fe3a891",
   "metadata": {},
   "source": [
    "## List of dictionaries"
   ]
  },
  {
   "cell_type": "code",
   "execution_count": 40,
   "id": "9d3b7f47-50f0-43ed-ada0-35b005a0ab65",
   "metadata": {},
   "outputs": [
    {
     "name": "stdout",
     "output_type": "stream",
     "text": [
      "Foo Bar\n",
      "Alpha\n",
      "['Alpha', 'Beta', 'Gamma']\n",
      "['Foo Bar', 'Tal Bar']\n",
      "['Foo Bar, foo@example.com', 'Tal Bar, tal@example.com']\n"
     ]
    }
   ],
   "source": [
    "people = [\n",
    "    {\n",
    "        'name'  : 'Foo Bar',\n",
    "        'email' : 'foo@example.com'\n",
    "    },\n",
    "    {\n",
    "        'name'     : 'Tal Bar',\n",
    "        'email'    : 'tal@example.com',\n",
    "        'address'  : 'Borg, Country',\n",
    "        'children' : [\n",
    "            'Alpha',\n",
    "            'Beta'\n",
    "        ]\n",
    "    }\n",
    "]\n",
    "children = people[1]['children']\n",
    "\n",
    "# print(people)\n",
    "print(people[0]['name'])\n",
    "print(people[1]['children'][0])\n",
    "people[1]['children'].append('Gamma')\n",
    "print(children)\n",
    "\n",
    "print(list(map(lambda p: p['name'], people)))\n",
    "print(list(map(lambda p: p['name'] + ', ' + p['email'], people)))\n",
    "people[0]['children'] = ['Zorg', 'Buzz']"
   ]
  },
  {
   "cell_type": "markdown",
   "id": "291a1f0f-7d39-4fd3-b83b-f21d708820f5",
   "metadata": {},
   "source": [
    "## Shared dictionary"
   ]
  },
  {
   "cell_type": "code",
   "execution_count": 49,
   "id": "b88dd590-e565-4372-ae5f-cd0700791399",
   "metadata": {},
   "outputs": [
    {
     "name": "stdout",
     "output_type": "stream",
     "text": [
      "{'Foo': {'name': 'Foo', 'id': '1'}, 'Bar': {'name': 'Bar', 'id': '2'}, 'Moo': {'name': 'Moo', 'id': '3'}}\n",
      "{'1': {'name': 'Foo', 'id': '1'}, '2': {'name': 'Bar', 'id': '2'}, '3': {'name': 'Moo', 'id': '3'}}\n",
      "-------------------\n",
      "{'name': 'Foo', 'id': '1'}\n",
      "--------Change in original people list-----------\n",
      "[{'name': 'Foooooo', 'id': '1', 'email': 'foo@bar.co'}, {'name': 'Bar', 'id': '2'}, {'name': 'Moo', 'id': '3'}]\n",
      "---------Shared Part----------\n",
      "by_name {'Foo': {'name': 'Foooooo', 'id': '1', 'email': 'foo@bar.co'}, 'Bar': {'name': 'Bar', 'id': '2'}, 'Moo': {'name': 'Moo', 'id': '3'}}\n",
      "by_id {'1': {'name': 'Foooooo', 'id': '1', 'email': 'foo@bar.co'}, '2': {'name': 'Bar', 'id': '2'}, '3': {'name': 'Moo', 'id': '3'}}\n",
      "---------Not shared Part----------\n",
      "{'name': 'Foooooo', 'id': '1', 'email': 'foo@bar.co'}\n",
      "{'name': 'Foooooo', 'id': '1', 'email': 'foo@bar.co'}\n"
     ]
    }
   ],
   "source": [
    "people = [\n",
    "    {\n",
    "       \"name\" : \"Foo\",\n",
    "       \"id\"   : \"1\",\n",
    "    },\n",
    "    {\n",
    "       \"name\" : \"Bar\",\n",
    "       \"id\"   : \"2\",\n",
    "    },\n",
    "    {\n",
    "       \"name\" : \"Moo\",\n",
    "       \"id\"   : \"3\",\n",
    "    },\n",
    "]\n",
    "\n",
    "by_name = {}\n",
    "by_id = {}\n",
    "for person in people:\n",
    "    by_name[ person['name' ] ] = person\n",
    "    by_id[ person['id' ] ] = person\n",
    "print(by_name)\n",
    "print(by_id)\n",
    "print('-------------------')\n",
    "\n",
    "print(by_name[\"Foo\"])\n",
    "by_name[\"Foo\"]['email'] = 'foo@bar.co'\n",
    "\n",
    "\n",
    "print('--------Change in original people list-----------')\n",
    "\n",
    "people[0][\"name\"] = \"Foooooo\"; # people, by_name and by_id keep reference to person items\n",
    "\n",
    "print(people)\n",
    "\n",
    "print('---------Shared Part----------')\n",
    "\n",
    "print(\"by_name\", by_name)\n",
    "print(\"by_id\", by_id)\n",
    "\n",
    "print('---------Not shared Part----------')\n",
    "\n",
    "print(by_name[\"Foo\"])  # the key remained Foo !!!!\n",
    "print(by_id[\"1\"])"
   ]
  },
  {
   "cell_type": "markdown",
   "id": "f12bf534-015a-465e-a89f-54023a5ce3a4",
   "metadata": {},
   "source": [
    "## immutable collection: tuple as dictionary key"
   ]
  },
  {
   "cell_type": "code",
   "execution_count": 50,
   "id": "2622f6a9-3d1f-434c-bc7a-61bfc47a9404",
   "metadata": {},
   "outputs": [
    {
     "name": "stdout",
     "output_type": "stream",
     "text": [
      "{(2, 3): 'Joe', (17, 5): 'Jane'}\n",
      "(2, 3)\n",
      "<class 'tuple'>\n",
      "tuple\n",
      "Joe\n",
      "(17, 5)\n",
      "<class 'tuple'>\n",
      "tuple\n",
      "Jane\n"
     ]
    }
   ],
   "source": [
    "points = {}\n",
    "p1 = (2, 3)\n",
    "\n",
    "points[p1] = 'Joe'\n",
    "points[(17, 5)] = 'Jane'\n",
    "\n",
    "print(points)\n",
    "for k in points.keys():\n",
    "    print(k)\n",
    "    print(k.__class__)\n",
    "    print(k.__class__.__name__)\n",
    "    print(points[k])"
   ]
  },
  {
   "cell_type": "markdown",
   "id": "a1d69864-79b5-4b5c-b06a-cd1847700867",
   "metadata": {},
   "source": [
    "## immutable numbers: numbers as dictionary key"
   ]
  },
  {
   "cell_type": "code",
   "execution_count": 51,
   "id": "cb600be8-b5ef-4da6-824c-80da8b33e941",
   "metadata": {},
   "outputs": [
    {
     "name": "stdout",
     "output_type": "stream",
     "text": [
      "{23: 'Twenty three', 17: 'Seventeen', 3.14: 'Three dot fourteen', 42: 'The answer'}\n",
      "The answer\n",
      "Three dot fourteen\n"
     ]
    }
   ],
   "source": [
    "number = {\n",
    "    23   : \"Twenty three\",\n",
    "    17   : \"Seventeen\",\n",
    "    3.14 : \"Three dot fourteen\",\n",
    "    42   : \"The answer\",\n",
    "}\n",
    "\n",
    "print(number)\n",
    "print(number[42])\n",
    "print(number[3.14])"
   ]
  },
  {
   "cell_type": "markdown",
   "id": "4af2fd37-2703-4329-a244-3850868f5d56",
   "metadata": {},
   "source": [
    "## Sort a dictionary\n",
    "\n",
    "- \"sort a dictionary\" usually means sorting the keys of the dictionary, but what does it mean in Python if we call sorted on a dictionary?"
   ]
  },
  {
   "cell_type": "code",
   "execution_count": 52,
   "id": "2f31a765-74a3-44c2-860a-f27e833b6850",
   "metadata": {},
   "outputs": [
    {
     "name": "stdout",
     "output_type": "stream",
     "text": [
      "{'Foo': 10, 'Bar': 34, 'Miu': 88, 'Abc': 34}\n",
      "['Abc', 'Bar', 'Foo', 'Miu']\n",
      "['Abc', 'Bar', 'Foo', 'Miu']\n"
     ]
    }
   ],
   "source": [
    "scores = {\n",
    "   'Foo' : 10,\n",
    "   'Bar' : 34,\n",
    "   'Miu' : 88,\n",
    "   'Abc' : 34,\n",
    "}\n",
    "\n",
    "print(scores) # {'Foo': 10, 'Bar': 34, 'Miu': 88, 'Abc': 34}\n",
    "\n",
    "sorted_names = sorted(scores) # \"sort dictionary\" sorts the keys\n",
    "print(sorted_names)  # ['Abc', 'Bar', 'Foo', 'Miu']\n",
    "\n",
    "sorted_keys = sorted(scores.keys())\n",
    "print(sorted_keys)  # ['Abc', 'Bar', 'Foo', 'Miu']"
   ]
  },
  {
   "cell_type": "markdown",
   "id": "4ef40adf-02f4-43d9-96de-d0037900b355",
   "metadata": {},
   "source": [
    "## Sort dictionary values"
   ]
  },
  {
   "cell_type": "code",
   "execution_count": 53,
   "id": "dd6c1c3c-17e6-441b-81ab-6ed4cdadd84c",
   "metadata": {},
   "outputs": [
    {
     "name": "stdout",
     "output_type": "stream",
     "text": [
      "[10, 34, 34, 88]\n"
     ]
    }
   ],
   "source": [
    "scores = {\n",
    "   'Foo' : 10,\n",
    "   'Bar' : 34,\n",
    "   'Miu' : 88,\n",
    "   'Abc' : 34,\n",
    "}\n",
    "\n",
    "# sort the values, but we cannot get the keys back!\n",
    "sorted_values = sorted(scores.values())\n",
    "print(sorted_values) # [10, 34, 34, 88]"
   ]
  },
  {
   "cell_type": "markdown",
   "id": "36da4d3f-f3be-422c-bafa-99a8411e16a8",
   "metadata": {},
   "source": [
    "## Sort dictionary by value\n",
    "\n",
    "- Sort the keys by the values\n"
   ]
  },
  {
   "cell_type": "code",
   "execution_count": 57,
   "id": "46f285b0-0779-46d5-81c9-47f96dcd052a",
   "metadata": {},
   "outputs": [
    {
     "name": "stdout",
     "output_type": "stream",
     "text": [
      "['Foo', 'Bar', 'Abc', 'Miu']\n",
      "['Foo', 'Bar', 'Abc', 'Miu']\n",
      "Foo : 10\n",
      "Bar : 34\n",
      "Abc : 34\n",
      "Miu : 88\n"
     ]
    }
   ],
   "source": [
    "scores = {\n",
    "   'Foo' : 10,\n",
    "   'Bar' : 34,\n",
    "   'Miu' : 88,\n",
    "   'Abc' : 34,\n",
    "}\n",
    "\n",
    "def by_value(x):\n",
    "    return scores[x]\n",
    "\n",
    "sorted_names = sorted(scores.keys(), key=by_value)\n",
    "print(sorted_names) # [\"Foo\", \"Bar\", \"Abc\", \"Miu\"]\n",
    "\n",
    "# sort using a lambda expression\n",
    "sorted_names = sorted(scores.keys(), key=lambda x: scores[x])\n",
    "\n",
    "print(sorted_names) # [\"Foo\", \"Bar\", \"Abc\", \"Miu\"]\n",
    "\n",
    "for k in sorted_names:\n",
    "    print(\"{} : {}\".format(k, scores[k]))\n",
    "\n",
    "# Foo : 10\n",
    "# Bar : 34\n",
    "# Abc : 34\n",
    "# Miu : 88"
   ]
  },
  {
   "cell_type": "code",
   "execution_count": 58,
   "id": "d074b4eb-4c20-4db7-adf1-088799e75835",
   "metadata": {},
   "outputs": [
    {
     "name": "stdout",
     "output_type": "stream",
     "text": [
      "['Foo', 'Bar', 'Abc', 'Miu']\n",
      "Foo : 10\n",
      "Bar : 34\n",
      "Abc : 34\n",
      "Miu : 88\n"
     ]
    }
   ],
   "source": [
    "scores = {\n",
    "   'Foo' : 10,\n",
    "   'Bar' : 34,\n",
    "   'Miu' : 88,\n",
    "   'Abc' : 34,\n",
    "}\n",
    "\n",
    "# sort the keys according to the values:\n",
    "sorted_names = sorted(scores, key=scores.__getitem__)\n",
    "\n",
    "print(sorted_names) # [\"Foo\", \"Bar\", \"Miu\", \"Abc\"]\n",
    "\n",
    "for k in sorted_names:\n",
    "    print(\"{} : {}\".format(k, scores[k]))\n",
    "\n",
    "# Foo : 10\n",
    "# Bar : 34\n",
    "# Abc : 34\n",
    "# Miu : 88"
   ]
  },
  {
   "cell_type": "markdown",
   "id": "15b497db-14ea-4205-b1cf-4ddb2b1c91a5",
   "metadata": {},
   "source": [
    "## Sort dictionary keys by value (another example)"
   ]
  },
  {
   "cell_type": "code",
   "execution_count": 64,
   "id": "efc754af-9df6-4e34-b314-74df59b5af0c",
   "metadata": {},
   "outputs": [
    {
     "name": "stdout",
     "output_type": "stream",
     "text": [
      "Jane     30\n",
      "Joe      20\n",
      "George   30\n",
      "Hellena  90\n",
      "\n",
      "George   30\n",
      "Hellena  90\n",
      "Jane     30\n",
      "Joe      20\n",
      "\n",
      "         20\n",
      "         30\n",
      "         30\n",
      "         90\n",
      "\n",
      "Joe      20\n",
      "Jane     30\n",
      "George   30\n",
      "Hellena  90\n"
     ]
    }
   ],
   "source": [
    "scores = {\n",
    "    \"Jane\"    : 30,\n",
    "    \"Joe\"     : 20,\n",
    "    \"George\"  : 30,\n",
    "    \"Hellena\" : 90,\n",
    "}\n",
    "\n",
    "for name in scores.keys():\n",
    "    print(f\"{name:8} {scores[name]}\")\n",
    "\n",
    "print('')\n",
    "for name in sorted(scores.keys()):\n",
    "    print(f\"{name:8} {scores[name]}\")\n",
    "\n",
    "print('')\n",
    "for val in sorted(scores.values()):\n",
    "    print(f\"{'':8} {val}\")\n",
    "\n",
    "print('')\n",
    "for name in sorted(scores.keys(), key=lambda x: scores[x]):\n",
    "    print(f\"{name:8} {scores[name]}\")"
   ]
  },
  {
   "cell_type": "markdown",
   "id": "89ac962f-d269-4dd7-9484-1d3582c4d027",
   "metadata": {},
   "source": [
    "## Insertion Order is kept\n",
    "- Since Python 3.7\n",
    "\n"
   ]
  },
  {
   "cell_type": "code",
   "execution_count": 66,
   "id": "7a2bdf9c-ce3d-401b-a027-8e5aab8158f9",
   "metadata": {},
   "outputs": [
    {
     "name": "stdout",
     "output_type": "stream",
     "text": [
      "{'a': 1, 'b': 2, 'd': 4, 'c': 3}\n"
     ]
    }
   ],
   "source": [
    "d = {}\n",
    "d['a'] = 1\n",
    "d['b'] = 2\n",
    "d['d'] = 4\n",
    "d['c'] = 3\n",
    "\n",
    "print(d)"
   ]
  },
  {
   "cell_type": "markdown",
   "id": "3824ac6e-3490-4b06-b31a-c1c9c7db57d9",
   "metadata": {},
   "source": [
    "## Change order of keys in dictionary - OrderedDict"
   ]
  },
  {
   "cell_type": "code",
   "execution_count": 68,
   "id": "32d1560e-2509-42e3-a30b-ca91d3a851fb",
   "metadata": {},
   "outputs": [
    {
     "name": "stdout",
     "output_type": "stream",
     "text": [
      "OrderedDict([('a', 1), ('b', 2), ('c', 3), ('d', 4)])\n",
      "OrderedDict([('b', 2), ('c', 3), ('d', 4), ('a', 1)])\n",
      "OrderedDict([('d', 4), ('b', 2), ('c', 3), ('a', 1)])\n",
      "d\n",
      "b\n",
      "c\n",
      "a\n"
     ]
    }
   ],
   "source": [
    "from collections import OrderedDict\n",
    "\n",
    "d = OrderedDict()\n",
    "d['a'] = 1\n",
    "d['b'] = 2\n",
    "d['c'] = 3\n",
    "d['d'] = 4\n",
    "\n",
    "print(d)\n",
    "d.move_to_end('a')\n",
    "\n",
    "print(d)\n",
    "d.move_to_end('d', last=False) # Move the key 'd' to the beginning of the OrderedDict.\n",
    "\n",
    "print(d)\n",
    "\n",
    "for key in d.keys():\n",
    "    print(key)"
   ]
  },
  {
   "cell_type": "markdown",
   "id": "924c8bbe-088e-4cf0-9c01-738bc57627ee",
   "metadata": {},
   "source": [
    "## Set order of keys in dictionary - OrderedDict"
   ]
  },
  {
   "cell_type": "code",
   "execution_count": 69,
   "id": "18ec88ad-e1af-45ed-9132-b5f915989675",
   "metadata": {},
   "outputs": [
    {
     "name": "stdout",
     "output_type": "stream",
     "text": [
      "{'a': 1, 'b': 2, 'c': 3, 'd': 4}\n",
      "OrderedDict([('b', 2), ('c', 3), ('d', 4), ('a', 1)])\n",
      "-----\n",
      "{'b': 0, 'c': 1, 'd': 2, 'a': 3}\n",
      "OrderedDict([('b', 2), ('c', 3), ('d', 4), ('a', 1)])\n"
     ]
    }
   ],
   "source": [
    "from collections import OrderedDict\n",
    "\n",
    "d = {}\n",
    "d['a'] = 1\n",
    "d['b'] = 2\n",
    "d['c'] = 3\n",
    "d['d'] = 4\n",
    "print(d)\n",
    "\n",
    "planned_order = ('b', 'c', 'd', 'a')\n",
    "e = OrderedDict(sorted(d.items(), key=lambda x: planned_order.index(x[0])))\n",
    "print(e)\n",
    "\n",
    "print('-----')\n",
    "# Create index to value mapping dictionary from a list of values\n",
    "planned_order = ('b', 'c', 'd', 'a')\n",
    "plan = dict(zip(planned_order, range(len(planned_order))))\n",
    "print(plan)\n",
    "\n",
    "f = OrderedDict(sorted(d.items(), key=lambda x: plan[x[0]]))\n",
    "print(f)"
   ]
  },
  {
   "cell_type": "markdown",
   "id": "756e118f-4931-46ae-be16-3b4426f22066",
   "metadata": {},
   "source": [
    "## OrderedDict functions"
   ]
  },
  {
   "cell_type": "markdown",
   "id": "5c6d3281-4dbf-4a06-b110-a0cd75926275",
   "metadata": {},
   "source": [
    "The `OrderedDict` class from the `collections` module in Python provides several functions to work with ordered dictionaries. Here are some of the commonly used functions:\n",
    "\n",
    "1. `__init__(self, *args, **kwargs)`: Initializes an `OrderedDict` object. It can be instantiated with an optional iterable of key-value pairs or keyword arguments.\n",
    "\n",
    "2. `__getitem__(self, key)`: Returns the value associated with the given key.\n",
    "\n",
    "3. `__setitem__(self, key, value)`: Sets the value for the specified key.\n",
    "\n",
    "4. `__delitem__(self, key)`: Deletes the key-value pair associated with the given key.\n",
    "\n",
    "5. `__iter__(self)`: Returns an iterator over the keys of the `OrderedDict`, preserving the order in which they were inserted.\n",
    "\n",
    "6. `__reversed__(self)`: Returns a reverse iterator over the keys of the `OrderedDict`.\n",
    "\n",
    "7. `__contains__(self, key)`: Checks whether the `OrderedDict` contains the specified key.\n",
    "\n",
    "8. `keys(self)`: Returns a view object containing all the keys in the `OrderedDict`, in the order they were inserted.\n",
    "\n",
    "9. `values(self)`: Returns a view object containing all the values in the `OrderedDict`, in the order they were inserted.\n",
    "\n",
    "10. `items(self)`: Returns a view object containing all the key-value pairs in the `OrderedDict`, in the order they were inserted.\n",
    "\n",
    "11. `popitem(self, last=True)`: Removes and returns the last key-value pair by default, or the first if `last=False`.\n",
    "\n",
    "12. `pop(self, key, default=None)`: Removes and returns the value associated with the specified key. If the key is not found, it returns the specified default value.\n",
    "\n",
    "13. `clear(self)`: Removes all the elements from the `OrderedDict`.\n",
    "\n",
    "14. `copy(self)`: Returns a shallow copy of the `OrderedDict`.\n",
    "\n",
    "15. `update(self, *args, **kwargs)`: Updates the `OrderedDict` with key-value pairs from another `OrderedDict`, an iterable of key-value pairs, or keyword arguments.\n",
    "\n",
    "16. `move_to_end(self, key, last=True)`: Moves the specified key to either the last position (by default) or the first position if `last=False`.\n",
    "\n",
    "These functions provide various operations to manipulate and interact with `OrderedDict` objects while preserving the insertion order of elements."
   ]
  },
  {
   "cell_type": "markdown",
   "id": "bf4aa5dc-be0e-4174-819b-1997eff4ae25",
   "metadata": {},
   "source": [
    "## Setdefault\n",
    "\n",
    "- Trying to access a key in a dictionary that does not exist will result a KeyError exception.\n",
    "- Using the get method we can avoid this. The get method, will return the value of the key if the key exists. None if the key does not exists, or a default value if it was supplied to the get method. This will not change the dictionary.\n",
    "\n",
    "- Using the setdefault method is similar to the get method but it will also create the key with the given value.\n",
    "\n"
   ]
  },
  {
   "cell_type": "code",
   "execution_count": 72,
   "id": "ea9e269b-60b8-45df-a246-56fcc1b10d08",
   "metadata": {},
   "outputs": [
    {
     "name": "stdout",
     "output_type": "stream",
     "text": [
      "None\n",
      "snake\n",
      "{}\n",
      "None\n",
      "{'perl': None}\n",
      "snake\n",
      "{'perl': None, 'python': 'snake'}\n",
      "snake\n"
     ]
    }
   ],
   "source": [
    "grades = {}\n",
    "# print(grades['basic'])              # KeyError: 'basic'\n",
    "print(grades.get('python'))           # None\n",
    "print(grades.get('python', 'snake'))  # snake\n",
    "print(grades)                         # {}\n",
    "\n",
    "print(grades.setdefault('perl'))      # None\n",
    "print(grades)                         # {'perl': None}\n",
    "\n",
    "print(grades.setdefault('python', 'snake')) # 'snake'\n",
    "print(grades)                         # {'perl': None, 'python': 'snake'}\n",
    "print(grades.setdefault('python')) # 'snake'"
   ]
  },
  {
   "cell_type": "markdown",
   "id": "40bd4a29-c488-41ba-8739-e669c849947a",
   "metadata": {},
   "source": [
    "## Default Dict"
   ]
  },
  {
   "cell_type": "code",
   "execution_count": 76,
   "id": "f95e84e9-da31-44f2-a675-0b56104deef7",
   "metadata": {},
   "outputs": [
    {
     "ename": "KeyError",
     "evalue": "'eggplant'",
     "output_type": "error",
     "traceback": [
      "\u001b[0;31m---------------------------------------------------------------------------\u001b[0m",
      "\u001b[0;31mKeyError\u001b[0m                                  Traceback (most recent call last)",
      "Cell \u001b[0;32mIn[76], line 5\u001b[0m\n\u001b[1;32m      1\u001b[0m counter \u001b[38;5;241m=\u001b[39m {}\n\u001b[1;32m      3\u001b[0m word \u001b[38;5;241m=\u001b[39m \u001b[38;5;124m'\u001b[39m\u001b[38;5;124meggplant\u001b[39m\u001b[38;5;124m'\u001b[39m\n\u001b[0;32m----> 5\u001b[0m counter[word] \u001b[38;5;241m+\u001b[39m\u001b[38;5;241m=\u001b[39m \u001b[38;5;241m1\u001b[39m\n",
      "\u001b[0;31mKeyError\u001b[0m: 'eggplant'"
     ]
    }
   ],
   "source": [
    "counter = {}\n",
    "\n",
    "word = 'eggplant'\n",
    "\n",
    "counter[word] += 1\n",
    "# counter[word] = counter[word] + 1"
   ]
  },
  {
   "cell_type": "code",
   "execution_count": 77,
   "id": "4ad5251d-a461-4bfc-b8b5-524074cdb7dc",
   "metadata": {},
   "outputs": [
    {
     "name": "stdout",
     "output_type": "stream",
     "text": [
      "{'eggplant': 1}\n"
     ]
    }
   ],
   "source": [
    "counter = {}\n",
    "\n",
    "word = 'eggplant'\n",
    "\n",
    "if word not in counter:\n",
    "    counter[word] = 0\n",
    "counter[word] += 1\n",
    "\n",
    "print(counter)"
   ]
  },
  {
   "cell_type": "code",
   "execution_count": 78,
   "id": "88789f6f-ca02-4d85-9142-e75a3e42abcc",
   "metadata": {},
   "outputs": [
    {
     "name": "stdout",
     "output_type": "stream",
     "text": [
      "defaultdict(<class 'int'>, {'eggplant': 1})\n"
     ]
    }
   ],
   "source": [
    "from collections import defaultdict\n",
    "\n",
    "counter = defaultdict(int)\n",
    "\n",
    "word = 'eggplant'\n",
    "\n",
    "counter[word] += 1\n",
    "\n",
    "print(counter)"
   ]
  },
  {
   "cell_type": "markdown",
   "id": "b2c6138e-bc44-4df3-9480-70a4f95608d7",
   "metadata": {},
   "source": [
    "## Do not change dictionary in loop"
   ]
  },
  {
   "cell_type": "code",
   "execution_count": 79,
   "id": "b5c0c9de-cdd2-4d2d-b3d5-33dd17c029e5",
   "metadata": {},
   "outputs": [
    {
     "ename": "RuntimeError",
     "evalue": "dictionary changed size during iteration",
     "output_type": "error",
     "traceback": [
      "\u001b[0;31m---------------------------------------------------------------------------\u001b[0m",
      "\u001b[0;31mRuntimeError\u001b[0m                              Traceback (most recent call last)",
      "Cell \u001b[0;32mIn[79], line 4\u001b[0m\n\u001b[1;32m      1\u001b[0m my_dict \u001b[38;5;241m=\u001b[39m {\u001b[38;5;124m'\u001b[39m\u001b[38;5;124ma\u001b[39m\u001b[38;5;124m'\u001b[39m: \u001b[38;5;241m1\u001b[39m, \u001b[38;5;124m'\u001b[39m\u001b[38;5;124mb\u001b[39m\u001b[38;5;124m'\u001b[39m: \u001b[38;5;241m2\u001b[39m, \u001b[38;5;124m'\u001b[39m\u001b[38;5;124mc\u001b[39m\u001b[38;5;124m'\u001b[39m: \u001b[38;5;241m3\u001b[39m}\n\u001b[1;32m      3\u001b[0m \u001b[38;5;66;03m# Method 1: Changing dictionary keys\u001b[39;00m\n\u001b[0;32m----> 4\u001b[0m \u001b[38;5;28;01mfor\u001b[39;00m key \u001b[38;5;129;01min\u001b[39;00m my_dict:\n\u001b[1;32m      5\u001b[0m     \u001b[38;5;28;01mif\u001b[39;00m key \u001b[38;5;241m==\u001b[39m \u001b[38;5;124m'\u001b[39m\u001b[38;5;124mb\u001b[39m\u001b[38;5;124m'\u001b[39m:\n\u001b[1;32m      6\u001b[0m         \u001b[38;5;28;01mdel\u001b[39;00m my_dict[key]\n",
      "\u001b[0;31mRuntimeError\u001b[0m: dictionary changed size during iteration"
     ]
    }
   ],
   "source": [
    "my_dict = {'a': 1, 'b': 2, 'c': 3}\n",
    "\n",
    "# Method 1: Changing dictionary keys\n",
    "for key in my_dict:\n",
    "    if key == 'b':\n",
    "        del my_dict[key]\n",
    "\n",
    "print(my_dict)"
   ]
  },
  {
   "cell_type": "code",
   "execution_count": 81,
   "id": "2738783b-e601-4d65-947f-1d31a943f7e2",
   "metadata": {},
   "outputs": [
    {
     "name": "stdout",
     "output_type": "stream",
     "text": [
      "{'a': 1, 'd': 4}\n"
     ]
    }
   ],
   "source": [
    "my_dict = {'a': 1, 'b': 2, 'c': 3, 'd' : 4}\n",
    "keys_to_remove = []\n",
    "\n",
    "# Identify keys to remove\n",
    "for key in my_dict:\n",
    "    if key == 'b' or key == 'c':\n",
    "        keys_to_remove.append(key)\n",
    "\n",
    "# Remove identified keys\n",
    "for key in keys_to_remove:\n",
    "    del my_dict[key]\n",
    "\n",
    "print(my_dict)"
   ]
  },
  {
   "cell_type": "markdown",
   "id": "c18b16e4-2023-4dd2-aa1f-084afe4ba2e5",
   "metadata": {
    "tags": []
   },
   "source": [
    "## Named tuple (sort of immutable dictionary)"
   ]
  },
  {
   "cell_type": "code",
   "execution_count": 82,
   "id": "3ad35a36-bffb-4d30-9601-7914ca97ca5d",
   "metadata": {},
   "outputs": [
    {
     "name": "stdout",
     "output_type": "stream",
     "text": [
      "Joe\n",
      "jane@example.com\n"
     ]
    }
   ],
   "source": [
    "from collections import namedtuple\n",
    "\n",
    "Person = namedtuple('Person', ['name', 'email'])\n",
    "\n",
    "one = Person(name='Joe', email='joe@example.com')\n",
    "two = Person(name='Jane', email='jane@example.com')\n",
    "\n",
    "print(one.name)\n",
    "print(two.email)"
   ]
  },
  {
   "cell_type": "markdown",
   "id": "8df57ca7-66cf-4a53-92da-0d37e9d8a3c5",
   "metadata": {},
   "source": [
    "## Create dictionary from List"
   ]
  },
  {
   "cell_type": "code",
   "execution_count": 84,
   "id": "299c91cd-bc8c-4609-88a1-ccd5ea8027d5",
   "metadata": {},
   "outputs": [
    {
     "name": "stdout",
     "output_type": "stream",
     "text": [
      "{'animals': [], 'vegetables': [], 'fruits': []}\n",
      "{'animals': ['cat'], 'vegetables': [], 'fruits': []}\n"
     ]
    }
   ],
   "source": [
    "categories_list = ['animals', 'vegetables', 'fruits']\n",
    "\n",
    "categories_dict = {cat:[] for cat in categories_list}\n",
    "print(categories_dict)\n",
    "categories_dict['animals'].append('cat')\n",
    "print(categories_dict)"
   ]
  },
  {
   "cell_type": "markdown",
   "id": "f3f378a4-8443-4820-8f37-7d10e6559ca3",
   "metadata": {},
   "source": [
    "# <b style='color:red'>Exercies</b>"
   ]
  },
  {
   "cell_type": "markdown",
   "id": "6a7dcbe4-6d6c-4e4a-90ec-3e57a141378f",
   "metadata": {},
   "source": [
    "## Exercise: count characters"
   ]
  },
  {
   "cell_type": "markdown",
   "id": "24ec6ccc-2370-447e-8015-102e91c533c0",
   "metadata": {},
   "source": [
    "- Write a script that given a long text will count how many times each character appears.\n",
    "- Change the code so it will be able to count characters in a file.\n",
    "\n",
    "\n",
    "`text = \"\"\"\n",
    "This is a very long text.\n",
    "OK, maybe it is not that long after all.\n",
    "\"\"\"`"
   ]
  },
  {
   "cell_type": "code",
   "execution_count": 91,
   "id": "239808f5-8269-4d18-9e13-af3a7733dfdd",
   "metadata": {},
   "outputs": [
    {
     "name": "stdout",
     "output_type": "stream",
     "text": [
      "\n",
      "               3\n",
      "T               1\n",
      "h               2\n",
      "i               4\n",
      "s               3\n",
      "               13\n",
      "a               5\n",
      "v               1\n",
      "e               4\n",
      "r               2\n",
      "y               2\n",
      "l               4\n",
      "o               3\n",
      "n               3\n",
      "g               2\n",
      "t               7\n",
      "x               1\n",
      ".               2\n",
      "O               1\n",
      "K               1\n",
      ",               1\n",
      "m               1\n",
      "b               1\n",
      "f               1\n"
     ]
    }
   ],
   "source": [
    "text = \"\"\"\n",
    "This is a very long text.\n",
    "OK, maybe it is not that long after all.\n",
    "\"\"\"\n",
    "char_count = dict()\n",
    "for c in text:\n",
    "    if c in char_count:\n",
    "        char_count[c] += 1\n",
    "    else:\n",
    "        char_count [c] = 1\n",
    "        \n",
    "for c, count in char_count.items():\n",
    "    print(f'{c:8} {count:8}')"
   ]
  },
  {
   "cell_type": "markdown",
   "id": "b9ab4b5b-3e82-4cf1-ad2c-3ad1ab106390",
   "metadata": {},
   "source": [
    "## Exercise: count words"
   ]
  },
  {
   "cell_type": "markdown",
   "id": "cffe0080-ff45-4e54-b4c1-39ef6e3aac3f",
   "metadata": {},
   "source": [
    "`words = ['Wombat', 'Rhino', 'Sloth', 'Tarantula', 'Sloth', 'Rhino', 'Sloth']`\n",
    "\n",
    "\n",
    "- Expected output: (the order is not important)\n",
    "\n",
    "\n",
    "`Wombat:1`<br/>\n",
    "`Rhino:2`<br/>\n",
    "`Sloth:3`<br/>\n",
    "`Tarantula:1`<br/>"
   ]
  },
  {
   "cell_type": "code",
   "execution_count": 94,
   "id": "285a2896-eb71-4236-b56d-23fd430842b5",
   "metadata": {},
   "outputs": [
    {
     "name": "stdout",
     "output_type": "stream",
     "text": [
      "Wombat            1\n",
      "Rhino             2\n",
      "Sloth             3\n",
      "Tarantula         1\n"
     ]
    }
   ],
   "source": [
    "words = ['Wombat', 'Rhino', 'Sloth', 'Tarantula', 'Sloth', 'Rhino', 'Sloth']\n",
    "word_count = dict()\n",
    "for w in words:\n",
    "    if w in word_count:\n",
    "        word_count[w] += 1\n",
    "    else:\n",
    "        word_count [w] = 1\n",
    "        \n",
    "for w, count in word_count.items():\n",
    "    print(f'{w:10} {count:8}')"
   ]
  },
  {
   "cell_type": "markdown",
   "id": "271993e9-efbf-4eab-8a8f-c56a32b8555a",
   "metadata": {},
   "source": [
    "## Exercise: count words from a file"
   ]
  },
  {
   "cell_type": "raw",
   "id": "b965cfb3-ac1a-4efd-ad95-2fe782242e07",
   "metadata": {},
   "source": [
    "Lorem ipsum dolor qui ad labor ad labor sint dolor  tempor incididunt ut labor ad dolore lorem ad\n",
    "Ut labor ad dolor lorem qui ad ut labor   ut ad commodo commodo\n",
    "Lorem ad dolor in reprehenderit in lorem ut labor ad dolore eu in labor dolor\n",
    "sint occaecat ad labor proident sint in in qui labor ad dolor ad in ad labor"
   ]
  },
  {
   "cell_type": "raw",
   "id": "abc8c336-c228-4368-a1ff-176b1a2465c7",
   "metadata": {},
   "source": [
    "Expected Output:\n",
    "\n",
    "ad            13\n",
    "commodo        2\n",
    "dolor          6\n",
    "dolore         2\n",
    "eu             1\n",
    "in             6\n",
    "incididunt     1\n",
    "ipsum          1\n",
    "labor         10\n",
    "lorem          5\n",
    "occaecat       1\n",
    "proident       1\n",
    "qui            3\n",
    "reprehenderit  1\n",
    "sint           3\n",
    "tempor         1\n",
    "ut             5"
   ]
  },
  {
   "cell_type": "code",
   "execution_count": 100,
   "id": "a0d3f270-c66b-4d97-bec0-7175f5de27ad",
   "metadata": {},
   "outputs": [
    {
     "name": "stdout",
     "output_type": "stream",
     "text": [
      "لورم              1\n",
      "ایپسوم            1\n",
      "یا                3\n",
      "طرح‌نما           1\n",
      "(به               1\n",
      "انگلیسی:          1\n",
      "Lorem             1\n",
      "ipsum)            1\n",
      "به                7\n",
      "متنی              1\n",
      "آزمایشی           2\n",
      "و                14\n",
      "بی‌معنی           2\n",
      "در                6\n",
      "صنعت              1\n",
      "چاپ،              1\n",
      "صفحه‌آرایی        2\n",
      "طراحی             3\n",
      "گرافیک            3\n",
      "گفته              1\n",
      "می‌شود.           1\n",
      "طراح              1\n",
      "از                7\n",
      "این               1\n",
      "متن               6\n",
      "عنوان             1\n",
      "عنصری             1\n",
      "ترکیب             1\n",
      "بندی              2\n",
      "برای              2\n",
      "پر                1\n",
      "کردن              1\n",
      "صفحه              4\n",
      "ارایه             1\n",
      "اولیه             1\n",
      "شکل               1\n",
      "ظاهری             1\n",
      "کلی               1\n",
      "طرح               1\n",
      "سفارش             1\n",
      "گرفته             2\n",
      "شده               2\n",
      "استفاده           3\n",
      "می                2\n",
      "نماید،            1\n",
      "تا                3\n",
      "نظر               5\n",
      "گرافیکی           2\n",
      "نشانگر            1\n",
      "چگونگی            1\n",
      "نوع               1\n",
      "اندازه            1\n",
      "فونت              1\n",
      "ظاهر              1\n",
      "باشد.             1\n",
      "معمولا            1\n",
      "طراحان            2\n",
      "صفحه‌آرایی،        1\n",
      "نخست              1\n",
      "متن‌های           1\n",
      "می‌کنند           2\n",
      "صرفا              1\n",
      "مشتری             1\n",
      "صاحب              1\n",
      "کار               3\n",
      "خود               4\n",
      "نشان              1\n",
      "دهند              1\n",
      "که                2\n",
      "بعد               1\n",
      "اینکه             1\n",
      "آن                1\n",
      "قرار              2\n",
      "گیرد              1\n",
      "چگونه             2\n",
      "می‌رسد            1\n",
      "قلم‌ها            1\n",
      "اندازه‌بندی‌ها        1\n",
      "شده‌است.          1\n",
      "آنجایی            1\n",
      "عموما             1\n",
      "نویسنده           1\n",
      "نیستند            1\n",
      "وظیفه             1\n",
      "رعایت             1\n",
      "حق                1\n",
      "تکثیر             1\n",
      "متون              1\n",
      "را                4\n",
      "ندارند            1\n",
      "همان              1\n",
      "حال               1\n",
      "آنها              2\n",
      "نوعی              1\n",
      "وابسته            1\n",
      "می‌باشد           1\n",
      "با                1\n",
      "محتویات           1\n",
      "ساختگی،           1\n",
      "مرحله             1\n",
      "صفحه‌بندی         1\n",
      "پایان             1\n",
      "برند.\n",
      "            1\n",
      "توسط              1\n",
      "فرم               1\n",
      "زیر               1\n",
      "توانید            1\n",
      "ساختگی            1\n",
      "مورد              2\n",
      "واحدهای           1\n",
      "کاراکتر،          1\n",
      "کلمه              1\n",
      "پاراگراف          1\n",
      "تولید             1\n",
      "کنید،             1\n",
      "سپس               1\n",
      "آنرا              1\n",
      "کپی               1\n",
      "کنید              1\n",
      "دهید.             1\n"
     ]
    }
   ],
   "source": [
    "word_count = dict()\n",
    "\n",
    "with open('__FILES/lorem ipsum.txt', 'r') as f:\n",
    "    for line in f:\n",
    "        words = line.split(' ')\n",
    "        for w in words:\n",
    "            if w in word_count:\n",
    "                word_count[w] += 1\n",
    "            else:\n",
    "                word_count [w] = 1\n",
    "\n",
    "for w, count in word_count.items():\n",
    "    print(f'{w:10} {count:8}')"
   ]
  },
  {
   "cell_type": "markdown",
   "id": "4f188ab0-501b-4f75-a02b-a61b3abbc130",
   "metadata": {},
   "source": [
    "## Exercise: Apache log"
   ]
  },
  {
   "cell_type": "raw",
   "id": "367f5e30-4f44-4a7b-9108-75b59b15fb41",
   "metadata": {},
   "source": [
    "Every web server logs the visitors and their requests in a log file. The Apache web server has a log file similar to the following file. (Though I have trimmed the lines for the exercise.) Each line is a \"hit\", a request from the browser of a visitor.\n",
    "\n",
    "Each line starts with the IP address of the visitor. e.g. 217.0.22.3.\n",
    "\n",
    "Create a script that given sucha a log file from Apache, report how many hits (line were from each IP address.\n",
    "\n",
    "127.0.0.1 - - [10/Apr/2007:10:39:11] \"GET / HTTP/1.1\" 500 606 \"-\"\n",
    "127.0.0.1 - - [10/Apr/2007:10:39:11] \"GET /favicon.ico HTTP/1.1\" 200 766 \"-\"\n",
    "139.12.0.2 - - [10/Apr/2007:10:40:54] \"GET / HTTP/1.1\" 500 612 \"-\"\n",
    "139.12.0.2 - - [10/Apr/2007:10:40:54] \"GET /favicon.ico HTTP/1.1\" 200 766 \"-\"\n",
    "127.0.0.1 - - [10/Apr/2007:10:53:10] \"GET / HTTP/1.1\" 500 612 \"-\"\n",
    "127.0.0.1 - - [10/Apr/2007:10:54:08] \"GET / HTTP/1.0\" 200 3700 \"-\"\n",
    "127.0.0.1 - - [10/Apr/2007:10:54:08] \"GET /style.css HTTP/1.1\" 200 614\n",
    "127.0.0.1 - - [10/Apr/2007:10:54:08] \"GET /img/pti-round.jpg HTTP/1.1\" 200 17524\n",
    "127.0.0.1 - - [10/Apr/2007:10:54:21] \"GET /unix_sysadmin.html HTTP/1.1\" 200 3880\n",
    "217.0.22.3 - - [10/Apr/2007:10:54:51] \"GET / HTTP/1.1\" 200 34 \"-\"\n",
    "217.0.22.3 - - [10/Apr/2007:10:54:51] \"GET /favicon.ico HTTP/1.1\" 200 11514 \"-\"\n",
    "217.0.22.3 - - [10/Apr/2007:10:54:53] \"GET /cgi/pti.pl HTTP/1.1\" 500 617\n",
    "127.0.0.1 - - [10/Apr/2007:10:54:08] \"GET / HTTP/0.9\" 200 3700 \"-\"\n",
    "217.0.22.3 - - [10/Apr/2007:10:58:27] \"GET / HTTP/1.1\" 200 3700 \"-\"\n",
    "217.0.22.3 - - [10/Apr/2007:10:58:34] \"GET /unix.html HTTP/1.1\" 200 3880\n",
    "217.0.22.3 - - [10/Apr/2007:10:58:45] \"GET /talks/read.html HTTP/1.1\" 404 311\n",
    "127.0.0.1 - - [10/Apr/2007:10:54:08] \"GET /img/pti-round.jpg HTTP/1.1\" 200 17524\n",
    "127.0.0.1 - - [10/Apr/2007:10:54:08] \"GET /img/pti-round.jpg HTTP/1.1\" 200 17524\n",
    "127.0.0.1 - - [10/Apr/2007:10:54:21] \"GET /unix_sysadmin.html HTTP/1.1\" 200 3880\n",
    "127.0.0.1 - - [10/Apr/2007:10:54:21] \"GET /unix_sysadmin.html HTTP/1.1\" 200 3880\n",
    "217.0.22.3 - - [10/Apr/2007:10:54:51] \"GET / HTTP/1.1\" 200 34 \"-\"\n",
    "\n",
    "\n",
    "\n",
    "Expected output:\n",
    "\n",
    "127.0.0.1         12\n",
    "139.12.0.2         2\n",
    "217.0.22.3         7"
   ]
  },
  {
   "cell_type": "code",
   "execution_count": 104,
   "id": "9503f46f-d499-4f2f-9132-4a01525e0366",
   "metadata": {},
   "outputs": [
    {
     "name": "stdout",
     "output_type": "stream",
     "text": [
      "127.0.0.1        12\n",
      "139.12.0.2        2\n",
      "217.0.22.3        7\n"
     ]
    }
   ],
   "source": [
    "ip_count = dict()\n",
    "\n",
    "with open('__FILES/apache.log') as apache_log:\n",
    "    for line in apache_log:\n",
    "        ip_addr = line.split(' ')[0]\n",
    "        if ip_addr in ip_count:\n",
    "            ip_count[ip_addr] += 1\n",
    "        else:\n",
    "            ip_count[ip_addr] = 1\n",
    "for ip, c in ip_count.items():\n",
    "    print(f'{ip:10} {c:8}')"
   ]
  },
  {
   "cell_type": "markdown",
   "id": "b3fdbc5d-fa3e-4d8c-a7a7-b3ca7abb2689",
   "metadata": {},
   "source": [
    "## Exercise: counting DNA bases"
   ]
  },
  {
   "cell_type": "raw",
   "id": "aac8d75e-3f68-4c98-837f-279217acc7e2",
   "metadata": {},
   "source": [
    "Write a script that given a sequence like this: \"ACTNGTGCTYGATRGTAGCYXGTN\", will print out the distribution of the elemnts to get the following result:\n",
    "\n",
    "\n",
    "A 3 - 12.50 %\n",
    "C 3 - 12.50 %\n",
    "G 6 - 25.00 %\n",
    "N 2 -  8.33 %\n",
    "R 1 -  4.17 %\n",
    "T 6 - 25.00 %\n",
    "X 1 -  4.17 %\n",
    "Y 2 -  8.33 %"
   ]
  },
  {
   "cell_type": "code",
   "execution_count": 111,
   "id": "ebf337d9-5ce8-4d67-a447-46cecb173d9f",
   "metadata": {},
   "outputs": [
    {
     "name": "stdout",
     "output_type": "stream",
     "text": [
      "A 3 - 12.50 %\n",
      "C 3 - 12.50 %\n",
      "T 6 - 25.00 %\n",
      "N 2 - 8.33 %\n",
      "G 6 - 25.00 %\n",
      "Y 2 - 8.33 %\n",
      "R 1 - 4.17 %\n",
      "X 1 - 4.17 %\n"
     ]
    }
   ],
   "source": [
    "from collections import defaultdict\n",
    "\n",
    "sequence =  \"ACTNGTGCTYGATRGTAGCYXGTN\"\n",
    "element_count = defaultdict(int)\n",
    "for s in sequence:\n",
    "    element_count[s] += 1\n",
    "\n",
    "total = len(sequence)\n",
    "\n",
    "for ele, count in element_count.items():\n",
    "    percent = round(100 * count / total, 2)\n",
    "    print(f'{ele} {count} - {percent:0.2f} %')"
   ]
  },
  {
   "cell_type": "markdown",
   "id": "7c07caec-6da3-44b1-8f50-ffd1c7ad5c7b",
   "metadata": {},
   "source": [
    "## Exercise: Count Amino Acids"
   ]
  },
  {
   "cell_type": "markdown",
   "id": "4a592d31-76b5-42aa-baa0-869b5df1f4aa",
   "metadata": {},
   "source": [
    "- Each sequence consists of many repetition of the 4 bases represented by the ACTG characters.\n",
    "- There are 64 codons (sets of 3 bases following each other)\n",
    "- There are 20 Amino Acids each of them are represented by 3 bases (by one codon).\n",
    "- Some of the Amino Acids can be represented in multiple ways, represented in the Codon Table. For example Histidine can be encoded by both CAT, CAC\n",
    "- Create a script that given a file witha DNA sequence in it, will count the Amino acids from the sequence.\n",
    "- Read the sequence saved in a txt file.\n",
    "- You can generate a sequence with a random number generator and save it to that file, but it would be much better if you used a real sequence.\n",
    "- An even better way would be to read the sequence from a FASTA file. You can download one from NCBI."
   ]
  },
  {
   "cell_type": "code",
   "execution_count": 74,
   "id": "6b5f475c-fd74-4fd1-a51d-5bf79b649a43",
   "metadata": {},
   "outputs": [],
   "source": [
    "codon_table = {\n",
    "    'Phe' : ['TTT', 'TTC'],\n",
    "    'Leu' : ['TTA', 'TTG', 'CTT', 'CTC', 'CTA', 'CTG'],\n",
    "    'Ile' : ['ATT', 'ATC', 'ATA'],\n",
    "    'Met' : ['ATG'],\n",
    "    'Val' : ['GTT', 'GTC', 'GTA', 'GTG'],\n",
    "    'Ser' : ['TCT', 'TCC', 'TCA', 'TCG', 'AGT', 'AGC'],\n",
    "    'Pro' : ['CCT', 'CCC', 'CCA', 'CCG'],\n",
    "    'Thr' : ['ACT', 'ACC', 'ACA', 'ACG'],\n",
    "    'Ala' : ['GCT', 'GCC', 'GCA', 'GCG'],\n",
    "    'Tyr' : ['TAT', 'TAC'],\n",
    "    'His' : ['CAT', 'CAC'],\n",
    "    'Gln' : ['CAA', 'CAG'],\n",
    "    'Asn' : ['AAT', 'AAC'],\n",
    "    'Lys' : ['AAA', 'AAG'],\n",
    "    'Asp' : ['GAT', 'GAC'],\n",
    "    'Glu' : ['GAA', 'GAG'],\n",
    "    'Cys' : ['TGT', 'TGC'],\n",
    "    'Trp' : ['TGG'],\n",
    "    'Arg' : ['CGT', 'CGC', 'CGA', 'CGG', 'AGA', 'AGG'],\n",
    "    'Gly' : ['GGT', 'GGC', 'GGA', 'GGG'],\n",
    "    'STOP' : ['TAA', 'TAG', 'TGA']\n",
    "}"
   ]
  },
  {
   "cell_type": "code",
   "execution_count": 127,
   "id": "ae6b7d52-8d4b-4f9f-a55f-ac5cd903b110",
   "metadata": {},
   "outputs": [
    {
     "name": "stdout",
     "output_type": "stream",
     "text": [
      "Lys            45\n",
      "Arg            95\n",
      "Gly            55\n",
      "Glu            38\n",
      "Ser            99\n",
      "Ala            47\n",
      "Leu            85\n",
      "STOP           41\n",
      "Val            64\n",
      "Phe            36\n",
      "Asp            26\n",
      "Ile            39\n",
      "Tyr            22\n",
      "Thr            64\n",
      "Pro            57\n",
      "His            34\n",
      "Gln            33\n",
      "Asn            35\n",
      "Met            11\n",
      "Cys            27\n",
      "Trp            12\n"
     ]
    }
   ],
   "source": [
    "from collections import defaultdict\n",
    "\n",
    "codon_count = defaultdict(int)\n",
    "\n",
    "with open('__FILES/actg_sequence.txt', 'r') as astg:\n",
    "    for n, line in enumerate(astg):\n",
    "        for i in range(0,len(line)-3):\n",
    "            seq = line[i:i+3]\n",
    "            for k, v in codon_table.items():\n",
    "                if seq.upper() in v:\n",
    "                    codon_count[k] += 1\n",
    "                    # print(k + ' ' + seq.upper())\n",
    "for k,v in codon_count.items():\n",
    "    print(f'{k:8} {v:8}')"
   ]
  },
  {
   "cell_type": "markdown",
   "id": "ab6c4e9e-4746-4747-8919-7a2a81be845d",
   "metadata": {},
   "source": [
    "## Exercise: List of dictionaries"
   ]
  },
  {
   "cell_type": "raw",
   "id": "99cf8456-8fe1-424f-9490-8cef1de13ede",
   "metadata": {},
   "source": [
    "Given the following file build a list of dictionaries where each dictionary represents one person. The keys in the dictionary are the names of the columns (fname, lname, born) the values are the respective values from each row.\n",
    "\n",
    "fname,lname,born\n",
    "Graham,Chapman,8 January 1941\n",
    "Eric,Idle,29 March 1943\n",
    "Terry,Gilliam,22 November 1940\n",
    "Terry,Jones,1 February 1942\n",
    "John,Cleese,27 October 1939\n",
    "Michael,Palin,5 May 1943\n",
    "\n",
    "\n",
    "print(people[1]['fname'])"
   ]
  },
  {
   "cell_type": "code",
   "execution_count": 134,
   "id": "db64ba30-024d-4044-8f3e-c8bebe6b208d",
   "metadata": {},
   "outputs": [
    {
     "name": "stdout",
     "output_type": "stream",
     "text": [
      "{'fname': 'Graham', 'lname': 'Chapman', 'born': '8 January 1941'}\n",
      "{'fname': 'Eric', 'lname': 'Idle', 'born': '29 March 1943'}\n",
      "{'fname': 'Terry', 'lname': 'Gilliam', 'born': '22 November 1940'}\n",
      "{'fname': 'Terry', 'lname': 'Jones', 'born': '1 February 1942'}\n",
      "{'fname': 'John', 'lname': 'Cleese', 'born': '27 October 1939'}\n",
      "{'fname': 'Michael', 'lname': 'Palin', 'born': '5 May 1943'}\n"
     ]
    }
   ],
   "source": [
    "people = list()\n",
    "with open('__FILES/people.txt' , 'r') as f:\n",
    "    for i, p in enumerate(f):\n",
    "        if i == 0:\n",
    "            continue\n",
    "        fname,lname,born = p.strip('\\n').split(',')\n",
    "        people.append({'fname' : fname, 'lname' : lname, 'born' : born})\n",
    "\n",
    "for p in people:\n",
    "    print(p)"
   ]
  },
  {
   "cell_type": "markdown",
   "id": "d07ef189-bf92-4e17-8ba9-89ee6e92447f",
   "metadata": {},
   "source": [
    "## Exercise: Dictionary of dictionaries"
   ]
  },
  {
   "cell_type": "raw",
   "id": "51e88ad8-87a5-403b-8009-50eb15c072ee",
   "metadata": {},
   "source": [
    "Given the following file build a dictionary of dictionaries where each internal dictionary represents one person.\n",
    "\n",
    "The keys in the internal dictionaries are the names of the columns (fname, lname, born) the values are the respective values from each row.\n",
    "\n",
    "In the outer dictionary the keys are the (fname, lname) tuples. \n",
    "\n",
    "\n",
    "fname,lname,born\n",
    "Graham,Chapman,8 January 1941\n",
    "Eric,Idle,29 March 1943\n",
    "Terry,Gilliam,22 November 1940\n",
    "Terry,Jones,1 February 1942\n",
    "John,Cleese,27 October 1939\n",
    "Michael,Palin,5 May 1943\n",
    "\n",
    "\n",
    "print(people[('Eric', 'Idle')]['born']) # 29 March 1943\n",
    "\n"
   ]
  },
  {
   "cell_type": "code",
   "execution_count": 139,
   "id": "1a71f81c-4874-4c72-aca8-1f5e90549833",
   "metadata": {},
   "outputs": [
    {
     "name": "stdout",
     "output_type": "stream",
     "text": [
      "('Graham', 'Chapman') 8 January 1941\n",
      "('Eric', 'Idle') 29 March 1943\n",
      "('Terry', 'Gilliam') 22 November 1940\n",
      "('Terry', 'Jones') 1 February 1942\n",
      "('John', 'Cleese') 27 October 1939\n",
      "('Michael', 'Palin') 5 May 1943\n",
      "\n",
      "29 March 1943\n"
     ]
    }
   ],
   "source": [
    "people = dict()\n",
    "with open('__FILES/people.txt' , 'r') as f:\n",
    "    for i, p in enumerate(f):\n",
    "        if i == 0:\n",
    "            continue\n",
    "        fname,lname,born = p.strip('\\n').split(',')\n",
    "        people[(fname,lname)] = dict()\n",
    "        people[(fname,lname)]['born'] = born\n",
    "\n",
    "\n",
    "\n",
    "for p,v in people.items():\n",
    "    print(p, v['born'])\n",
    "print()\n",
    "print(people[('Eric', 'Idle')]['born']) # 29 March 1943"
   ]
  },
  {
   "cell_type": "markdown",
   "id": "30a84f99-a76d-427f-a264-49857b26ac39",
   "metadata": {},
   "source": [
    "## Exercise: Age limit with dictionaries"
   ]
  },
  {
   "cell_type": "markdown",
   "id": "a7a4d359-ea0d-4903-9b9e-1883c0c570dc",
   "metadata": {},
   "source": [
    "- Ask the user what is their age and in which country are they located.\n",
    "- Tell them if they can legally drink alcohol.\n",
    "- See the Legal drinking age list.\n",
    "- Given a file like the following create a new file with a third column in which you write \"yes\", or \"no\" depending if the person can legally drink alcohol in that country."
   ]
  },
  {
   "cell_type": "code",
   "execution_count": 144,
   "id": "95e89407-f760-4f48-90fb-08937c111e43",
   "metadata": {},
   "outputs": [
    {
     "name": "stdin",
     "output_type": "stream",
     "text": [
      "How old are you? 68\n",
      "Where are you from? IR\n"
     ]
    },
    {
     "name": "stdout",
     "output_type": "stream",
     "text": [
      "You can go to prison for that!\n"
     ]
    }
   ],
   "source": [
    "age_limit = {'US' : 21, 'UK' : 18, 'IR' : 69}\n",
    "\n",
    "age = int(input('How old are you?'))\n",
    "country = input('Where are you from?')\n",
    "\n",
    "if country not in age_limit:\n",
    "    print('Country not supported')\n",
    "else:\n",
    "    if age >= age_limit[country]:\n",
    "        print('Salute!')\n",
    "    else:\n",
    "        print('You can go to prison for that!')"
   ]
  },
  {
   "cell_type": "markdown",
   "id": "f4073105-653f-4da7-973a-b7abc7c68b7f",
   "metadata": {},
   "source": [
    "## Exercise: Merge files with timestamps"
   ]
  },
  {
   "cell_type": "raw",
   "id": "2263b556-1ab4-466d-829f-148d5a24752e",
   "metadata": {},
   "source": [
    "\n",
    "- Given a few CSV files in which the first column is a timestamp, write a script that can merge the files so the merged result also has timestamps in increasing order.\n",
    "- First try to solve it for 2 files.\n",
    "- Then solve it for any N files.\n",
    "\n",
    "examples/dictionary/merge/a\n",
    "1601009973,1\n",
    "1601009975,3\n",
    "1601009976,4\n",
    "1601009978,6\n",
    "1601009981,9\n",
    "1601009982,10\n",
    "1601009983,11\n",
    "1601009984,12\n",
    "1601009987,15\n",
    "1601009989,17\n",
    "1601009990,18\n",
    "1601009991,19\n",
    "1601009992,20\n",
    "\n",
    "\n",
    "examples/dictionary/merge/b\n",
    "1601009974,2\n",
    "1601009977,5\n",
    "1601009980,8\n",
    "1601009988,16\n",
    "\n",
    "\n",
    "examples/dictionary/merge/c\n",
    "1601009979,7\n",
    "1601009985,13\n",
    "1601009986,14\n",
    "\n"
   ]
  },
  {
   "cell_type": "code",
   "execution_count": 148,
   "id": "e5003760-6732-44f3-be7c-ffe2d89df68d",
   "metadata": {},
   "outputs": [],
   "source": [
    "a = [\n",
    "    '1601009973,1',\n",
    "    '1601009975,3',\n",
    "    '1601009976,4',\n",
    "    '1601009978,6',\n",
    "    '1601009981,9',\n",
    "    '1601009982,10',\n",
    "    '1601009983,11',\n",
    "    '1601009984,12',\n",
    "    '1601009987,15',\n",
    "    '1601009989,17',\n",
    "    '1601009990,18',\n",
    "    '1601009991,19',\n",
    "    '1601009992,20'\n",
    "]\n",
    "\n",
    "b = [\n",
    "    '1601009974,2',\n",
    "    '1601009977,5',\n",
    "    '1601009980,8',\n",
    "    '1601009988,16',\n",
    "]\n",
    "\n",
    "c = [\n",
    "    '1601009979,7',\n",
    "    '1601009985,13',\n",
    "    '1601009986,14',\n",
    "]"
   ]
  },
  {
   "cell_type": "code",
   "execution_count": 151,
   "id": "36bc9519-bec7-4e90-a4cf-feadab29307a",
   "metadata": {},
   "outputs": [
    {
     "name": "stdout",
     "output_type": "stream",
     "text": [
      "1601009973,1\n",
      "1601009974,2\n",
      "1601009975,3\n",
      "1601009976,4\n",
      "1601009977,5\n",
      "1601009978,6\n",
      "1601009980,8\n",
      "1601009981,9\n",
      "1601009982,10\n",
      "1601009983,11\n",
      "1601009984,12\n",
      "1601009987,15\n",
      "1601009988,16\n"
     ]
    }
   ],
   "source": [
    "import sys\n",
    "\n",
    "\n",
    "idx_a = 0\n",
    "idx_b = 0\n",
    "while idx_a < len(a) and idx_b < len(b):\n",
    "    line_a = a[idx_a]\n",
    "    line_b = b[idx_b]\n",
    "\n",
    "    time_a = line_a.split(',')[0]\n",
    "    time_b = line_b.split(',')[0]\n",
    "    if int(time_a) < int(time_b):\n",
    "        print(line_a)\n",
    "        idx_a += 1\n",
    "    else:\n",
    "        print(line_b)\n",
    "        idx_b += 1"
   ]
  },
  {
   "cell_type": "code",
   "execution_count": 155,
   "id": "1cbd339e-d750-473a-84a9-76e2de0b8860",
   "metadata": {},
   "outputs": [
    {
     "name": "stdout",
     "output_type": "stream",
     "text": [
      "1601009973,1\n",
      "1601009974,2\n",
      "1601009975,3\n",
      "1601009976,4\n",
      "1601009977,5\n",
      "1601009978,6\n",
      "1601009979,7\n",
      "1601009980,8\n",
      "1601009981,9\n",
      "1601009982,10\n",
      "1601009983,11\n",
      "1601009984,12\n",
      "1601009985,13\n",
      "1601009986,14\n",
      "1601009987,15\n",
      "1601009988,16\n",
      "1601009989,17\n",
      "1601009990,18\n",
      "1601009991,19\n",
      "1601009992,20\n"
     ]
    }
   ],
   "source": [
    "files = []\n",
    "for f in [a,b,c]:\n",
    "    files.extend(f)\n",
    "\n",
    "sorted_files = sorted(files, key = lambda k: k.split(',')[0])\n",
    "for s in sorted_files:\n",
    "    print(s)"
   ]
  },
  {
   "cell_type": "markdown",
   "id": "486aa40a-c8f6-4a05-a5af-041b72ab6d3e",
   "metadata": {},
   "source": [
    "## Sort Hungarian letters (lookup table)"
   ]
  },
  {
   "cell_type": "code",
   "execution_count": 157,
   "id": "9e4339e8-f40a-4586-8ec8-7ef100b5ab0b",
   "metadata": {},
   "outputs": [
    {
     "name": "stdout",
     "output_type": "stream",
     "text": [
      "<enumerate object at 0x7f9f60613200>\n",
      "-------\n",
      "[(0, 'a'), (1, 'á'), (2, 'b'), (3, 'c'), (4, 'cs'), (5, 'd'), (6, 'dz'), (7, 'dzs'), (8, 'e'), (9, 'é'), (10, 'f'), (11, 'g'), (12, 'gy'), (13, 'h'), (14, 'i'), (15, 'í'), (16, 'j'), (17, 'k'), (18, 'l'), (19, 'ly'), (20, 'm'), (21, 'n'), (22, 'ny'), (23, 'o'), (24, 'ó'), (25, 'ö'), (26, 'ő'), (27, 'p'), (28, 'q'), (29, 'r'), (30, 's'), (31, 'sz'), (32, 't'), (33, 'ty'), (34, 'u'), (35, 'ú'), (36, 'ü'), (37, 'ű'), (38, 'v'), (39, 'w'), (40, 'x'), (41, 'y'), (42, 'z'), (43, 'zs')]\n",
      "-------\n",
      "{0: 'a', 1: 'á', 2: 'b', 3: 'c', 4: 'cs', 5: 'd', 6: 'dz', 7: 'dzs', 8: 'e', 9: 'é', 10: 'f', 11: 'g', 12: 'gy', 13: 'h', 14: 'i', 15: 'í', 16: 'j', 17: 'k', 18: 'l', 19: 'ly', 20: 'm', 21: 'n', 22: 'ny', 23: 'o', 24: 'ó', 25: 'ö', 26: 'ő', 27: 'p', 28: 'q', 29: 'r', 30: 's', 31: 'sz', 32: 't', 33: 'ty', 34: 'u', 35: 'ú', 36: 'ü', 37: 'ű', 38: 'v', 39: 'w', 40: 'x', 41: 'y', 42: 'z', 43: 'zs'}\n",
      "-------\n",
      "{'a': 0, 'á': 1, 'b': 2, 'c': 3, 'cs': 4, 'd': 5, 'dz': 6, 'dzs': 7, 'e': 8, 'é': 9, 'f': 10, 'g': 11, 'gy': 12, 'h': 13, 'i': 14, 'í': 15, 'j': 16, 'k': 17, 'l': 18, 'ly': 19, 'm': 20, 'n': 21, 'ny': 22, 'o': 23, 'ó': 24, 'ö': 25, 'ő': 26, 'p': 27, 'q': 28, 'r': 29, 's': 30, 'sz': 31, 't': 32, 'ty': 33, 'u': 34, 'ú': 35, 'ü': 36, 'ű': 37, 'v': 38, 'w': 39, 'x': 40, 'y': 41, 'z': 42, 'zs': 43}\n",
      "------------------\n",
      "['a', 'cs', 'dzs', 'e', 'ny', 'zs', 'á', 'ú', 'ő']\n",
      "------------------\n",
      "['a', 'á', 'cs', 'dzs', 'e', 'ny', 'ő', 'ú', 'zs']\n"
     ]
    }
   ],
   "source": [
    "letters = [\n",
    "    \"a\", \"á\", \"b\", \"c\", \"cs\", \"d\", \"dz\", \"dzs\", \"e\", \"é\", \"f\",\n",
    "    \"g\", \"gy\", \"h\", \"i\", \"í\", \"j\", \"k\", \"l\", \"ly\", \"m\", \"n\",\n",
    "    \"ny\", \"o\", \"ó\", \"ö\", \"ő\", \"p\", \"q\", \"r\", \"s\", \"sz\", \"t\",\n",
    "    \"ty\", \"u\", \"ú\", \"ü\", \"ű\", \"v\", \"w\", \"x\", \"y\", \"z\", \"zs\",\n",
    "]\n",
    "print(enumerate(letters))\n",
    "print('-------')\n",
    "print(list(enumerate(letters)))\n",
    "print('-------')\n",
    "print(dict(enumerate(letters)))\n",
    "print('-------')\n",
    "\n",
    "# reverse key:value in letter dict\n",
    "#mapping = {v:k for k, v in dict(enumerate(letters)).items()}\n",
    "\n",
    "mapping = {letter:ix for ix, letter in enumerate(letters)}\n",
    "print(mapping)\n",
    "print('------------------')\n",
    "\n",
    "text = [\"cs\", \"á\", \"ő\", \"ú\", \"e\", \"dzs\", \"zs\", \"a\", \"ny\"]\n",
    "print(sorted(text))\n",
    "print('------------------')\n",
    "print(sorted(text, key=lambda letter: mapping[letter]))"
   ]
  },
  {
   "cell_type": "markdown",
   "id": "d907c377-4e2b-40a0-a996-d73ce4e52fec",
   "metadata": {},
   "source": []
  }
 ],
 "metadata": {
  "kernelspec": {
   "display_name": "Python 3 (ipykernel)",
   "language": "python",
   "name": "python3"
  },
  "language_info": {
   "codemirror_mode": {
    "name": "ipython",
    "version": 3
   },
   "file_extension": ".py",
   "mimetype": "text/x-python",
   "name": "python",
   "nbconvert_exporter": "python",
   "pygments_lexer": "ipython3",
   "version": "3.9.7"
  }
 },
 "nbformat": 4,
 "nbformat_minor": 5
}
