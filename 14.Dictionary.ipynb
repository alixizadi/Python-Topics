{
 "cells": [
  {
   "cell_type": "markdown",
   "id": "b1911499-d98d-437d-ac3e-fe42f10cec14",
   "metadata": {},
   "source": [
    "## What is a dictionary"
   ]
  },
  {
   "cell_type": "markdown",
   "id": "c9425da4-0cf8-4216-8423-e826aba21272",
   "metadata": {},
   "source": [
    "## When to use dictionaries"
   ]
  },
  {
   "cell_type": "markdown",
   "id": "cb74c055-e7b4-488d-a558-58d07a92bbac",
   "metadata": {},
   "source": [
    "## Various dictionary examples"
   ]
  },
  {
   "cell_type": "markdown",
   "id": "d1a1df3a-e916-40b2-9b58-489394b2ea6c",
   "metadata": {},
   "source": [
    "## Dictionary"
   ]
  },
  {
   "cell_type": "markdown",
   "id": "883c598a-de87-4450-8e9f-29a7997898fa",
   "metadata": {},
   "source": [
    "## Create dictionary"
   ]
  },
  {
   "cell_type": "markdown",
   "id": "a993da4a-22c2-470d-883d-b058de5c3027",
   "metadata": {},
   "source": [
    "## keys"
   ]
  },
  {
   "cell_type": "markdown",
   "id": "5b909fed-2d5d-488d-87e3-2a06b620dd3c",
   "metadata": {},
   "source": [
    "## Loop over keys"
   ]
  },
  {
   "cell_type": "markdown",
   "id": "86094c76-1910-4658-8e7f-2f15516d59ee",
   "metadata": {},
   "source": [
    "## Loop over dictionary keys"
   ]
  },
  {
   "cell_type": "markdown",
   "id": "e7fc43a1-a4e0-4f6d-859e-04799eaf7695",
   "metadata": {},
   "source": [
    "## Loop using items"
   ]
  },
  {
   "cell_type": "markdown",
   "id": "b1507ccd-fad6-48e8-b62b-c83c5d2a2bde",
   "metadata": {},
   "source": [
    "## values"
   ]
  },
  {
   "cell_type": "markdown",
   "id": "064ef973-6942-4aa0-bbc5-3ce6ddd9a440",
   "metadata": {},
   "source": [
    "## Not existing key"
   ]
  },
  {
   "cell_type": "markdown",
   "id": "def4abe0-89e4-4230-97a8-cdf370f79cd6",
   "metadata": {},
   "source": [
    "## Get key"
   ]
  },
  {
   "cell_type": "markdown",
   "id": "6fc6ff8e-2b5e-4ac6-870b-1e1910fe7bb5",
   "metadata": {},
   "source": [
    "## Does the key exist?"
   ]
  },
  {
   "cell_type": "markdown",
   "id": "826b27ab-ee56-47c3-880d-e36adba43c8a",
   "metadata": {},
   "source": [
    "## Does the value exist?"
   ]
  },
  {
   "cell_type": "markdown",
   "id": "45deae48-094e-4a36-8db8-c24e82b81a51",
   "metadata": {},
   "source": [
    "## Delete key"
   ]
  },
  {
   "cell_type": "markdown",
   "id": "3d05914e-fdcb-4046-92e6-a99d7fe3a891",
   "metadata": {},
   "source": [
    "## List of dictionaries"
   ]
  },
  {
   "cell_type": "markdown",
   "id": "291a1f0f-7d39-4fd3-b83b-f21d708820f5",
   "metadata": {},
   "source": [
    "## Shared dictionary"
   ]
  },
  {
   "cell_type": "markdown",
   "id": "f12bf534-015a-465e-a89f-54023a5ce3a4",
   "metadata": {},
   "source": [
    "## immutable collection: tuple as dictionary key"
   ]
  },
  {
   "cell_type": "markdown",
   "id": "a1d69864-79b5-4b5c-b06a-cd1847700867",
   "metadata": {},
   "source": [
    "## immutable numbers: numbers as dictionary key"
   ]
  },
  {
   "cell_type": "markdown",
   "id": "4af2fd37-2703-4329-a244-3850868f5d56",
   "metadata": {},
   "source": [
    "## Sort a dictionary"
   ]
  },
  {
   "cell_type": "markdown",
   "id": "4ef40adf-02f4-43d9-96de-d0037900b355",
   "metadata": {},
   "source": [
    "## Sort dictionary values"
   ]
  },
  {
   "cell_type": "markdown",
   "id": "36da4d3f-f3be-422c-bafa-99a8411e16a8",
   "metadata": {},
   "source": [
    "## Sort dictionary by value"
   ]
  },
  {
   "cell_type": "markdown",
   "id": "15b497db-14ea-4205-b1cf-4ddb2b1c91a5",
   "metadata": {},
   "source": [
    "## Sort dictionary keys by value (another example)"
   ]
  },
  {
   "cell_type": "markdown",
   "id": "89ac962f-d269-4dd7-9484-1d3582c4d027",
   "metadata": {},
   "source": [
    "## Insertion Order is kept"
   ]
  },
  {
   "cell_type": "markdown",
   "id": "3824ac6e-3490-4b06-b31a-c1c9c7db57d9",
   "metadata": {},
   "source": [
    "## Change order of keys in dictionary - OrderedDict"
   ]
  },
  {
   "cell_type": "markdown",
   "id": "924c8bbe-088e-4cf0-9c01-738bc57627ee",
   "metadata": {},
   "source": [
    "## Set order of keys in dictionary - OrderedDict"
   ]
  },
  {
   "cell_type": "markdown",
   "id": "bf4aa5dc-be0e-4174-819b-1997eff4ae25",
   "metadata": {},
   "source": [
    "## Setdefault"
   ]
  },
  {
   "cell_type": "markdown",
   "id": "6a7dcbe4-6d6c-4e4a-90ec-3e57a141378f",
   "metadata": {},
   "source": [
    "## Exercise: count characters"
   ]
  },
  {
   "cell_type": "markdown",
   "id": "b9ab4b5b-3e82-4cf1-ad2c-3ad1ab106390",
   "metadata": {},
   "source": [
    "## Exercise: count words"
   ]
  },
  {
   "cell_type": "markdown",
   "id": "271993e9-efbf-4eab-8a8f-c56a32b8555a",
   "metadata": {},
   "source": [
    "## Exercise: count words from a file"
   ]
  },
  {
   "cell_type": "markdown",
   "id": "4f188ab0-501b-4f75-a02b-a61b3abbc130",
   "metadata": {},
   "source": [
    "## Exercise: Apache log"
   ]
  },
  {
   "cell_type": "markdown",
   "id": "85ca0be6-1d85-47e0-a8c1-90eba68e52f6",
   "metadata": {},
   "source": [
    "## Exercise: Combine lists again"
   ]
  },
  {
   "cell_type": "markdown",
   "id": "b3fdbc5d-fa3e-4d8c-a7a7-b3ca7abb2689",
   "metadata": {},
   "source": [
    "## Exercise: counting DNA bases"
   ]
  },
  {
   "cell_type": "markdown",
   "id": "7c07caec-6da3-44b1-8f50-ffd1c7ad5c7b",
   "metadata": {},
   "source": [
    "## Exercise: Count Amino Acids"
   ]
  },
  {
   "cell_type": "markdown",
   "id": "ab6c4e9e-4746-4747-8919-7a2a81be845d",
   "metadata": {},
   "source": [
    "## Exercise: List of dictionaries"
   ]
  },
  {
   "cell_type": "markdown",
   "id": "d07ef189-bf92-4e17-8ba9-89ee6e92447f",
   "metadata": {},
   "source": [
    "## Exercise: Dictionary of dictionaries"
   ]
  },
  {
   "cell_type": "markdown",
   "id": "30a84f99-a76d-427f-a264-49857b26ac39",
   "metadata": {},
   "source": [
    "## Exercise: Age limit with dictionaries"
   ]
  },
  {
   "cell_type": "markdown",
   "id": "f4073105-653f-4da7-973a-b7abc7c68b7f",
   "metadata": {},
   "source": [
    "## Exercise: Merge files with timestamps"
   ]
  },
  {
   "cell_type": "markdown",
   "id": "73728a71-db9b-4609-8338-cb14be9c253c",
   "metadata": {},
   "source": [
    "## Solution: count characters"
   ]
  },
  {
   "cell_type": "markdown",
   "id": "40bd4a29-c488-41ba-8739-e669c849947a",
   "metadata": {},
   "source": [
    "## Default Dict"
   ]
  },
  {
   "cell_type": "markdown",
   "id": "d387617c-717e-457e-9388-5d61d481ccdf",
   "metadata": {},
   "source": [
    "## Solution: count characters with default dict"
   ]
  },
  {
   "cell_type": "markdown",
   "id": "7b3168d2-b52d-4e3f-845a-60feda78fa5f",
   "metadata": {},
   "source": [
    "## Solution: count words (plain)"
   ]
  },
  {
   "cell_type": "markdown",
   "id": "a7554494-1463-47d2-87d1-7dc6debaa57d",
   "metadata": {},
   "source": [
    "## Solution: count words (defaultdict)"
   ]
  },
  {
   "cell_type": "markdown",
   "id": "5b06d0b0-0aa7-476a-acf1-e0f7645cba18",
   "metadata": {},
   "source": [
    "## Solution: count words (Counter)"
   ]
  },
  {
   "cell_type": "markdown",
   "id": "d9588975-d0cb-4b60-bc3b-38d42d72ba61",
   "metadata": {},
   "source": [
    "## Solution: count words in file"
   ]
  },
  {
   "cell_type": "markdown",
   "id": "ad246138-5ab4-43e4-a1a2-0b51b8f413a8",
   "metadata": {},
   "source": [
    "## Solution: Apache log"
   ]
  },
  {
   "cell_type": "markdown",
   "id": "e50f3ed4-6ae0-4444-807b-e67ea6516add",
   "metadata": {},
   "source": [
    "## Solution: Apache log using split"
   ]
  },
  {
   "cell_type": "markdown",
   "id": "79a0d211-6574-4d2d-ab5f-7537f5e2743c",
   "metadata": {},
   "source": [
    "## Solution: Combine files"
   ]
  },
  {
   "cell_type": "markdown",
   "id": "a52004f8-c601-4822-a22b-61f17ff86cc5",
   "metadata": {},
   "source": [
    "## Solution: Combine files-improved"
   ]
  },
  {
   "cell_type": "markdown",
   "id": "faf42185-7ac8-43ec-a9bb-415ab8dcbf0d",
   "metadata": {},
   "source": [
    "## Solution: counting DNA bases"
   ]
  },
  {
   "cell_type": "markdown",
   "id": "f4921f10-3d86-4bef-847d-0745412bf792",
   "metadata": {},
   "source": [
    "## Solution: Count Amino Acids"
   ]
  },
  {
   "cell_type": "markdown",
   "id": "5df76cc1-a113-44c7-9991-1b61ae4d31fb",
   "metadata": {},
   "source": [
    "## Solution: List of dictionaries"
   ]
  },
  {
   "cell_type": "markdown",
   "id": "665e1a1f-47bf-4257-81d8-c47ca7a9e212",
   "metadata": {},
   "source": [
    "## Solution: Dictionary of dictionaries"
   ]
  },
  {
   "cell_type": "markdown",
   "id": "abc52ffb-3ed8-467b-a9ab-b5b67bf869b3",
   "metadata": {},
   "source": [
    "## Solution: Age limit with dictionaries"
   ]
  },
  {
   "cell_type": "markdown",
   "id": "aa830d7d-f380-4c7b-a5d7-48642b99b3be",
   "metadata": {},
   "source": [
    "## Solution: Merge files with timestamps"
   ]
  },
  {
   "cell_type": "markdown",
   "id": "b2c6138e-bc44-4df3-9480-70a4f95608d7",
   "metadata": {},
   "source": [
    "## Do not change dictionary in loop"
   ]
  },
  {
   "cell_type": "markdown",
   "id": "c18b16e4-2023-4dd2-aa1f-084afe4ba2e5",
   "metadata": {},
   "source": [
    "## Named tuple (sort of immutable dictionary)"
   ]
  },
  {
   "cell_type": "markdown",
   "id": "8df57ca7-66cf-4a53-92da-0d37e9d8a3c5",
   "metadata": {},
   "source": [
    "## Create dictionary from List"
   ]
  },
  {
   "cell_type": "markdown",
   "id": "486aa40a-c8f6-4a05-a5af-041b72ab6d3e",
   "metadata": {},
   "source": [
    "## Sort Hungarian letters (lookup table)"
   ]
  },
  {
   "cell_type": "markdown",
   "id": "d907c377-4e2b-40a0-a996-d73ce4e52fec",
   "metadata": {},
   "source": []
  }
 ],
 "metadata": {
  "kernelspec": {
   "display_name": "Python 3 (ipykernel)",
   "language": "python",
   "name": "python3"
  },
  "language_info": {
   "codemirror_mode": {
    "name": "ipython",
    "version": 3
   },
   "file_extension": ".py",
   "mimetype": "text/x-python",
   "name": "python",
   "nbconvert_exporter": "python",
   "pygments_lexer": "ipython3",
   "version": "3.9.7"
  }
 },
 "nbformat": 4,
 "nbformat_minor": 5
}
