{
 "cells": [
  {
   "cell_type": "markdown",
   "id": "c64b4773-f379-4c70-8fc7-b48f97c6e3f3",
   "metadata": {},
   "source": [
    "## Why use functions?\n",
    "- There are two main reasons to use functions.\n",
    "- One of the is **code reuse**. Instead of copy-paste-ing snippets of code that does the same in multiple areas in the application, we can create a function with a single copy of the code and call it from multiple location.\n",
    "\n",
    "- Having functions can also make the code **easier to understand, easier to test and to maintain**.\n",
    "\n",
    "- The functions are supposed to be relatively short, each function dealing with one issue, with one concern. They should have well defined input and output and without causing side-effects.\n",
    "\n",
    "- There are no clear rules, but the suggestion is that function be somewhere between 4-30 lines of code.\n",
    "\n",
    "1. **Code reuse - DRY - Don't Repeate Yourself**\n",
    "2. **Small units of code. (One thought, single responsibility) Easier to understand, test, and maintain**."
   ]
  },
  {
   "cell_type": "markdown",
   "id": "205b970b-3af7-417f-8cde-38379a9569a4",
   "metadata": {},
   "source": [
    "## Defining simple function\n",
    "\n",
    "- The function definition starts with the word \"dev\" followed by the name of the function (\"add\" in our example), followed by the list of parameters in a pair of parentheses, followed by a colon \":\". \n",
    "- Then the body of the function is indented to the right. The depth of indentation does not matter but it must be the same for all the lines of the function. When we stop the indentation and start a new expression on the first column, that's what tells Python that the function defintion has ended."
   ]
  },
  {
   "cell_type": "code",
   "execution_count": 1,
   "id": "ca6e2e3d-2edd-41af-a22d-ef82fa5799af",
   "metadata": {},
   "outputs": [
    {
     "name": "stdout",
     "output_type": "stream",
     "text": [
      "5\n",
      "42\n"
     ]
    }
   ],
   "source": [
    "def add(x, y):\n",
    "    z = x + y\n",
    "    return z\n",
    "\n",
    "a = add(2, 3)\n",
    "print(a)    # 5\n",
    "\n",
    "q = add(23, 19)\n",
    "print(q)   # 42"
   ]
  },
  {
   "cell_type": "markdown",
   "id": "1e21c8b7-18c6-47ae-a8de-f68d6d8e09a7",
   "metadata": {},
   "source": [
    "## Passing positional parameters to a function\n"
   ]
  },
  {
   "cell_type": "code",
   "execution_count": 2,
   "id": "31bc5ebc-9cd9-4c3c-b170-7823b9375d5e",
   "metadata": {},
   "outputs": [
    {
     "name": "stdout",
     "output_type": "stream",
     "text": [
      "From: gabor@szabgab.com\n",
      "To: szabgab@gmail.com\n",
      "Subject: self message\n",
      "\n",
      "Has some content too\n"
     ]
    }
   ],
   "source": [
    "def sendmail(From, To, Subject, Content):\n",
    "    print('From:', From)\n",
    "    print('To:', To)\n",
    "    print('Subject:', Subject)\n",
    "    print('')\n",
    "    print(Content)\n",
    "\n",
    "sendmail('gabor@szabgab.com',\n",
    "    'szabgab@gmail.com',\n",
    "    'self message',\n",
    "    'Has some content too')"
   ]
  },
  {
   "cell_type": "markdown",
   "id": "fdf860d4-948c-4fce-a5cc-cec60ab8bc73",
   "metadata": {},
   "source": [
    "## Function parameters can be named\n"
   ]
  },
  {
   "cell_type": "code",
   "execution_count": 4,
   "id": "3e59cf5c-3179-43aa-871c-931aab301851",
   "metadata": {},
   "outputs": [
    {
     "name": "stdout",
     "output_type": "stream",
     "text": [
      "From: gabor@szabgab.com\n",
      "To: szabgab@gmail.com\n",
      "Subject: self message\n",
      "\n",
      "Has some content too\n"
     ]
    }
   ],
   "source": [
    "def sendmail(From, To, Subject, Content):\n",
    "    print('From:', From)\n",
    "    print('To:', To)\n",
    "    print('Subject:', Subject)\n",
    "    print('')\n",
    "    print(Content)\n",
    "\n",
    "sendmail(\n",
    "    Subject = 'self message',\n",
    "    Content = 'Has some content too',\n",
    "    From = 'gabor@szabgab.com',\n",
    "    To = 'szabgab@gmail.com',\n",
    ")"
   ]
  },
  {
   "cell_type": "markdown",
   "id": "5aed5bf3-226e-493c-9638-316f26b89043",
   "metadata": {},
   "source": [
    "**The parameters of every function can be passed either as positional parameters or as named parameters.**"
   ]
  },
  {
   "cell_type": "markdown",
   "id": "3c79713c-b0ca-49df-9964-d69c04affe55",
   "metadata": {},
   "source": [
    "## Mixing positional and named parameters\n"
   ]
  },
  {
   "cell_type": "code",
   "execution_count": 5,
   "id": "fdd74e86-dd02-4410-acca-e31bcabe0988",
   "metadata": {},
   "outputs": [
    {
     "name": "stdout",
     "output_type": "stream",
     "text": [
      "Foo-Bar\n",
      "\n",
      "['snake', 'mouse', 'cat', 'dog']\n"
     ]
    }
   ],
   "source": [
    "\n",
    "fname = \"Foo\"\n",
    "lname = \"Bar\"\n",
    "animals = [\"snake\", \"mouse\", \"cat\", \"dog\"]\n",
    "\n",
    "print(fname, lname, sep=\"-\", end=\"\\n\\n\")\n",
    "\n",
    "by_length = sorted(animals, key=len, reverse=True)\n",
    "print(by_length)"
   ]
  },
  {
   "cell_type": "markdown",
   "id": "7b132ba0-4fca-4610-9c5b-1996200ce09c",
   "metadata": {},
   "source": [
    "## Mixing positional and named parameters - order\n",
    "\n",
    "\n",
    "- We can also mix the parameters passed to any user-defined function\n",
    "- we have to make sure that **positional parameters always come first and named (key-value) parameter come at the end** of the parameter list.\n"
   ]
  },
  {
   "cell_type": "code",
   "execution_count": 6,
   "id": "f13d7db5-af4f-40b2-82b2-4c870e4aa120",
   "metadata": {},
   "outputs": [
    {
     "ename": "SyntaxError",
     "evalue": "positional argument follows keyword argument (3416108236.py, line 13)",
     "output_type": "error",
     "traceback": [
      "\u001b[0;36m  Cell \u001b[0;32mIn[6], line 13\u001b[0;36m\u001b[0m\n\u001b[0;31m    )\u001b[0m\n\u001b[0m    ^\u001b[0m\n\u001b[0;31mSyntaxError\u001b[0m\u001b[0;31m:\u001b[0m positional argument follows keyword argument\n"
     ]
    }
   ],
   "source": [
    "\n",
    "def sendmail(From, To, Subject, Content):\n",
    "    print('From:', From)\n",
    "    print('To:', To)\n",
    "    print('Subject:', Subject)\n",
    "    print('')\n",
    "    print(Content)\n",
    "\n",
    "sendmail(\n",
    "    Subject = 'self message',\n",
    "    Content = 'Has some content too',\n",
    "    To = 'szabgab@gmail.com',\n",
    "    'gabor@szabgab.com',\n",
    ")"
   ]
  },
  {
   "cell_type": "code",
   "execution_count": 7,
   "id": "94cdaece-3353-4a6d-b207-20980fab404b",
   "metadata": {},
   "outputs": [
    {
     "name": "stdout",
     "output_type": "stream",
     "text": [
      "From: gabor@szabgab.com\n",
      "To: szabgab@gmail.com\n",
      "Subject: self message\n",
      "\n",
      "Has some content too\n"
     ]
    }
   ],
   "source": [
    "def sendmail(From, To, Subject, Content):\n",
    "    print('From:', From)\n",
    "    print('To:', To)\n",
    "    print('Subject:', Subject)\n",
    "    print('')\n",
    "    print(Content)\n",
    "\n",
    "sendmail(\n",
    "    'gabor@szabgab.com',\n",
    "    Subject = 'self message',\n",
    "    Content = 'Has some content too',\n",
    "    To = 'szabgab@gmail.com',\n",
    ")"
   ]
  },
  {
   "cell_type": "markdown",
   "id": "0f22ae35-9749-4bee-8c0c-89330d5c247b",
   "metadata": {},
   "source": [
    "## Default values, optional parameters, optional parameters\n",
    "- Function parameters can have default values.\n",
    "- In such case the parameters are optional. In the function declaration, the **parameters with the default values must come last**. \n",
    "- In the call, the order among these arguments does not matter, and they are optional anyway."
   ]
  },
  {
   "cell_type": "code",
   "execution_count": 9,
   "id": "daffea5f-c8d2-4ba5-be0a-e577d4ea57bf",
   "metadata": {},
   "outputs": [
    {
     "name": "stdout",
     "output_type": "stream",
     "text": [
      "Type in your password\n",
      "3\n",
      "Type in your secret\n",
      "1\n",
      "Hello\n",
      "7\n",
      "Is it you?\n",
      "42\n"
     ]
    }
   ],
   "source": [
    "def prompt(question, retry=3):\n",
    "    print(question)\n",
    "    print(retry)\n",
    "    #while retry > 0:\n",
    "    #    inp = input('{} ({}): '.format(question, retry))\n",
    "    #    if inp == 'my secret':\n",
    "    #        return True\n",
    "    #    retry -= 1\n",
    "    #return False\n",
    "\n",
    "prompt(\"Type in your password\")\n",
    "\n",
    "prompt(\"Type in your secret\", 1)\n",
    "\n",
    "prompt(\"Hello\", retry=7)\n",
    "\n",
    "# prompt(retry=7, \"Hello\")  # SyntaxError: positional argument follows keyword argument\n",
    "\n",
    "prompt(retry=42, question=\"Is it you?\")"
   ]
  },
  {
   "cell_type": "markdown",
   "id": "60ddbde1-5edb-49f9-bb9b-1450dd73f4dc",
   "metadata": {},
   "source": [
    "## Default value in first param\n"
   ]
  },
  {
   "cell_type": "code",
   "execution_count": 10,
   "id": "aff009ae-8963-4462-8d92-98a0c0705d00",
   "metadata": {},
   "outputs": [
    {
     "ename": "SyntaxError",
     "evalue": "non-default argument follows default argument (2262797002.py, line 1)",
     "output_type": "error",
     "traceback": [
      "\u001b[0;36m  Cell \u001b[0;32mIn[10], line 1\u001b[0;36m\u001b[0m\n\u001b[0;31m    def add(x=2, y):\u001b[0m\n\u001b[0m                  ^\u001b[0m\n\u001b[0;31mSyntaxError\u001b[0m\u001b[0;31m:\u001b[0m non-default argument follows default argument\n"
     ]
    }
   ],
   "source": [
    "def add(x=2, y):\n",
    "    print(\"OK\")"
   ]
  },
  {
   "cell_type": "markdown",
   "id": "a19a434d-5312-41e6-9f52-9144378ff7a4",
   "metadata": {},
   "source": [
    "## Several defaults, using names\n",
    "- Parameters with defaults must come at the end of the parameter declaration.\n",
    "- There can be several parameters with default values. They are all optional and can be given in any order after the positional arguments."
   ]
  },
  {
   "cell_type": "code",
   "execution_count": 12,
   "id": "07056c88-3515-486d-9685-b8d4b446cb82",
   "metadata": {},
   "outputs": [
    {
     "name": "stdout",
     "output_type": "stream",
     "text": [
      "1 2 3\n",
      "1 0 3\n",
      "1 2 0\n",
      "1 5 0\n",
      "1 0 3\n"
     ]
    }
   ],
   "source": [
    "def f(a, b=2, c=3):\n",
    "    print(a, b , c)\n",
    "\n",
    "f(1)             # 1 2 3\n",
    "f(1, b=0)        # 1 0 3\n",
    "f(1, c=0)        # 1 2 0\n",
    "f(1, c=0, b=5)   # 1 5 0\n",
    "\n",
    "# f(b=0, 1)\n",
    "# would generate:\n",
    "# SyntaxError: non-keyword arg after keyword arg\n",
    "\n",
    "f(b=0, a=1)      # 1 0 3"
   ]
  },
  {
   "cell_type": "markdown",
   "id": "5597c127-13af-4ed8-8118-60e351e3be4b",
   "metadata": {},
   "source": [
    "## Arbitrary number of arguments *\n",
    "\n",
    "- The values arrive as tuple."
   ]
  },
  {
   "cell_type": "code",
   "execution_count": 14,
   "id": "5106e814-09ae-4c21-8822-83451144932a",
   "metadata": {},
   "outputs": [
    {
     "name": "stdout",
     "output_type": "stream",
     "text": [
      "()\n",
      "<class 'tuple'>\n",
      "0\n",
      "(1,)\n",
      "<class 'tuple'>\n",
      "1\n",
      "(1, 2)\n",
      "<class 'tuple'>\n",
      "3\n",
      "(1, 8, 1)\n",
      "<class 'tuple'>\n",
      "10\n"
     ]
    }
   ],
   "source": [
    "\n",
    "def mysum(*numbers):\n",
    "    print(numbers)\n",
    "    print(type(numbers))\n",
    "    total = 0\n",
    "    for s in numbers:\n",
    "        total += s\n",
    "    return total\n",
    "\n",
    "print(mysum())\n",
    "print(mysum(1))\n",
    "print(mysum(1, 2))\n",
    "print(mysum(1, 8, 1))"
   ]
  },
  {
   "cell_type": "markdown",
   "id": "40635b0b-ba69-4044-a3d0-19b158f031c8",
   "metadata": {},
   "source": [
    "## Arbitrary number of arguments passing a lists\n"
   ]
  },
  {
   "cell_type": "code",
   "execution_count": null,
   "id": "ee02522c-c410-4df8-af78-a0ba9419f5f8",
   "metadata": {},
   "outputs": [],
   "source": [
    "x = [2, 3, 5, 6]\n",
    "mysum(x) # TypeError: unsupported operand type(s) for +=: 'int' and 'list'"
   ]
  },
  {
   "cell_type": "markdown",
   "id": "3c587db9-3bf7-4a5b-81c8-443a86b91dae",
   "metadata": {},
   "source": [
    "- The * operator is used to unpack the elements of a list or any iterable and pass them as separate arguments to a function. It is known as the **\"unpacking\" operator or the \"splat\" operator**.\n",
    "\n",
    "- When you use `*x` in the function call `mysum(*x)`, it unpacks the elements of the list x (i.e., [2, 3, 5, 6]) and passes them as separate arguments to the mysum function. It's equivalent to calling mysum(2, 3, 5, 6)."
   ]
  },
  {
   "cell_type": "code",
   "execution_count": 17,
   "id": "24666ad2-e469-45b5-9950-16dcf6b3be65",
   "metadata": {},
   "outputs": [
    {
     "name": "stdout",
     "output_type": "stream",
     "text": [
      "(2, 3, 5, 6)\n",
      "<class 'tuple'>\n",
      "16\n"
     ]
    }
   ],
   "source": [
    "x = [2, 3, 5, 6]\n",
    "\n",
    "print(mysum(*x))"
   ]
  },
  {
   "cell_type": "markdown",
   "id": "4ed40161-ffa8-4a46-a20e-e32515866e21",
   "metadata": {},
   "source": [
    "## Arbitrary number of arguments passing a tuple\n"
   ]
  },
  {
   "cell_type": "code",
   "execution_count": null,
   "id": "0ed04e3f-6971-4d95-b773-bbd1ac97e24a",
   "metadata": {},
   "outputs": [],
   "source": [
    "x = (2, 3, 5, 6)\n",
    "mysum(x) # TypeError: unsupported operand type(s) for +=: 'int' and 'tuple'"
   ]
  },
  {
   "cell_type": "code",
   "execution_count": 19,
   "id": "5a2284dc-264c-491e-8761-a6e81677871d",
   "metadata": {},
   "outputs": [
    {
     "name": "stdout",
     "output_type": "stream",
     "text": [
      "(2, 3, 5, 6)\n",
      "<class 'tuple'>\n"
     ]
    },
    {
     "data": {
      "text/plain": [
       "16"
      ]
     },
     "execution_count": 19,
     "metadata": {},
     "output_type": "execute_result"
    }
   ],
   "source": [
    "x = (2, 3, 5, 6)\n",
    "mysum(*x)"
   ]
  },
  {
   "cell_type": "markdown",
   "id": "3c97ba97-9a11-47d6-af88-853a928dba4c",
   "metadata": {},
   "source": [
    "## Fixed parmeters before the others\n",
    "- The `*numbers` argument can be preceded by any number of regular arguments\n"
   ]
  },
  {
   "cell_type": "code",
   "execution_count": 21,
   "id": "f5f208cc-0032-4948-901b-18ae9b7ba7af",
   "metadata": {},
   "outputs": [
    {
     "name": "stdout",
     "output_type": "stream",
     "text": [
      "(1,)\n",
      "1\n",
      "(1, 2)\n",
      "3\n",
      "(1, 1, 1)\n",
      "3\n",
      "(1, 1, 1)\n",
      "1\n"
     ]
    }
   ],
   "source": [
    "def mysum(op, *numbers):\n",
    "    print(numbers)\n",
    "    if op == '+':\n",
    "        total = 0\n",
    "    elif op == '*':\n",
    "        total = 1\n",
    "    else:\n",
    "        raise Exception('invalid operator {}'.format(op))\n",
    "\n",
    "    for s in numbers:\n",
    "        if op == '+':\n",
    "            total += s\n",
    "        elif op == '*':\n",
    "            total *= s\n",
    "\n",
    "    return total\n",
    "\n",
    "print(mysum('+', 1))\n",
    "print(mysum('+', 1, 2))\n",
    "print(mysum('+', 1, 1, 1))\n",
    "print(mysum('*', 1, 1, 1))"
   ]
  },
  {
   "cell_type": "markdown",
   "id": "1ebe358d-a651-455f-b095-3ef3948d3bfe",
   "metadata": {},
   "source": [
    "## Pass arbitrary number of functions\n",
    "- As an advanced example we could even pass an arbitrary number of functions\n"
   ]
  },
  {
   "cell_type": "code",
   "execution_count": 27,
   "id": "97379e68-9dc7-46c5-ab84-254b58f1682f",
   "metadata": {},
   "outputs": [
    {
     "name": "stdout",
     "output_type": "stream",
     "text": [
      "<built-in function len>\n",
      "3\n",
      "<function <lambda> at 0x7ff5c14685e0>\n",
      "ABC\n",
      "<function <lambda> at 0x7ff5a07605e0>\n",
      "abcabc\n",
      "<function <lambda> at 0x7ff5a0760dc0>\n",
      "text: abc\n"
     ]
    }
   ],
   "source": [
    "def run_these(value, *functions):\n",
    "    # print(functions)\n",
    "    for func in functions:\n",
    "        print(func)\n",
    "        print(func(value))\n",
    "\n",
    "run_these(\"abc\", len,lambda c: c.upper(), lambda x: x+x,  lambda y: f\"text: {y}\")"
   ]
  },
  {
   "cell_type": "markdown",
   "id": "94ce65c2-44ec-451f-9f7e-0ae02c54a468",
   "metadata": {},
   "source": [
    "## Arbitrary key-value pairs in parameters **\n"
   ]
  },
  {
   "cell_type": "code",
   "execution_count": 28,
   "id": "389cfd8d-fb78-4c5f-885b-9beff8e21930",
   "metadata": {},
   "outputs": [
    {
     "name": "stdout",
     "output_type": "stream",
     "text": [
      "{'a': 23, 'b': 12}\n",
      "{'x': 11, 'y': 99, 'z': 1}\n"
     ]
    }
   ],
   "source": [
    "def f(**kw):\n",
    "    print(kw)\n",
    "\n",
    "f(a=23, b=12)\n",
    "f(x=11, y=99, z=1)"
   ]
  },
  {
   "cell_type": "markdown",
   "id": "c65ab96a-a675-491b-964c-dddefc72da35",
   "metadata": {},
   "source": [
    "## Pass a real dictionary\n"
   ]
  },
  {
   "cell_type": "code",
   "execution_count": 29,
   "id": "873085c6-5b72-4aec-9b0c-f2eddea5f7b6",
   "metadata": {},
   "outputs": [
    {
     "name": "stdout",
     "output_type": "stream",
     "text": [
      "{'a': 23, 'b': 19}\n",
      "{'z': {'c': 10, 'd': 20}}\n",
      "{'c': 10, 'd': 20}\n"
     ]
    }
   ],
   "source": [
    "def func(**kw):\n",
    "    print(kw)\n",
    "\n",
    "func(a = 23,\n",
    "    b = 19,)\n",
    "\n",
    "z = {\n",
    "    'c': 10,\n",
    "    'd': 20,\n",
    "}\n",
    "\n",
    "func(z = z)\n",
    "\n",
    "func(**z)"
   ]
  },
  {
   "cell_type": "markdown",
   "id": "42fbb976-e54b-48f7-afd4-5dd6dd966c9d",
   "metadata": {},
   "source": [
    "## The dictionary contains copy\n"
   ]
  },
  {
   "cell_type": "code",
   "execution_count": 30,
   "id": "48df41c2-303f-4235-aa64-89e6d8270ab1",
   "metadata": {},
   "outputs": [
    {
     "name": "stdout",
     "output_type": "stream",
     "text": [
      "{'a': 10, 'b': 12}\n",
      "{'a': 7, 'b': 12}\n",
      "{'a': 23, 'y': 99, 'z': 1}\n",
      "{'a': 7, 'y': 99, 'z': 1}\n",
      "23\n"
     ]
    }
   ],
   "source": [
    "def f(**kw):\n",
    "    print(kw)\n",
    "    kw['a'] = 7\n",
    "    print(kw)\n",
    "\n",
    "z = 23\n",
    "f(a=10, b=12)\n",
    "\n",
    "f(a=z, y=99, z=1)\n",
    "print(z)"
   ]
  },
  {
   "cell_type": "markdown",
   "id": "730957ff-27a6-4736-9aa2-0810d4d09709",
   "metadata": {},
   "source": [
    "## The dictionary contains copy but NOT deep copy!\n",
    "\n",
    "> In this example, the function f receives the dictionary z as a keyword argument. Since dictionaries are mutable objects, any modifications made to the dictionary within the function will affect the original object outside the function as well. Therefore, when the value of 'a' within the dictionary associated with the 'z' key is modified inside the function, the change is reflected in the dictionary z outside the function as well."
   ]
  },
  {
   "cell_type": "code",
   "execution_count": 31,
   "id": "6fac66b2-6910-4891-9e44-58c63fcc2e64",
   "metadata": {},
   "outputs": [
    {
     "name": "stdout",
     "output_type": "stream",
     "text": [
      "{'a': 1, 'b': 2}\n",
      "0x7ff5b129bac0\n",
      "{'z': {'a': 1, 'b': 2}}\n",
      "0x7ff5b129bac0\n",
      "{'a': 7, 'b': 2}\n"
     ]
    }
   ],
   "source": [
    "def f(**kw):\n",
    "    print(kw) \n",
    "    \n",
    "    # Print the memory address of the value associated with 'z' in the kw dictionary\n",
    "    print(hex(id(kw['z'])))\n",
    "    \n",
    "    kw['z']['a'] = 7  # Modify the value associated with 'a' in the dictionary stored under 'z' key\n",
    "\n",
    "z = {'a': 1, 'b': 2}\n",
    "print(z)  \n",
    "\n",
    "# Print the memory address of the z dictionary\n",
    "print(hex(id(z)))\n",
    "\n",
    "f(z=z)  \n",
    "print(z)  # Print the modified value of the z dictionary\n"
   ]
  },
  {
   "cell_type": "markdown",
   "id": "1b6b159b-5ed5-4fa0-bd6d-66b916a46436",
   "metadata": {},
   "source": [
    "## Extra key-value pairs in parameters\n"
   ]
  },
  {
   "cell_type": "code",
   "execution_count": 35,
   "id": "208ddc68-8108-4115-904e-636604370080",
   "metadata": {},
   "outputs": [
    {
     "name": "stdout",
     "output_type": "stream",
     "text": [
      "Foo\n",
      "{'a': 23, 'b': 12}\n",
      "Bar\n",
      "{'a': 23, 'b': 12}\n"
     ]
    }
   ],
   "source": [
    "def f(name, **kw):\n",
    "    print(name)\n",
    "    print(kw)\n",
    "\n",
    "f(name=\"Foo\", a=23, b=12)\n",
    "\n",
    "f(a=23, name=\"Bar\", b=12)\n",
    "\n",
    "# z= { 'name' : 'ali'}\n",
    "# f(z, name='Bar') # f() got multiple values for argument 'name'"
   ]
  },
  {
   "cell_type": "markdown",
   "id": "aa97be7c-3427-4c1e-8ecb-1a4d0e8c75db",
   "metadata": {},
   "source": [
    "## Extra key-value pairs in parameters for email\n"
   ]
  },
  {
   "cell_type": "code",
   "execution_count": 36,
   "id": "83bd4212-3311-4647-b25e-1b2469966f26",
   "metadata": {},
   "outputs": [
    {
     "name": "stdout",
     "output_type": "stream",
     "text": [
      "From: gabor@szabgab.com\n",
      "To: szabgab@gmail.com\n",
      "Subject: self message\n",
      "X-mailer: Python\n",
      "X-signature: My sig\n",
      "\n",
      "Has some content too\n"
     ]
    }
   ],
   "source": [
    "def sendmail(From, To, Subject, Content, **header):\n",
    "    print('From:', From)\n",
    "    print('To:', To)\n",
    "    print('Subject:', Subject)\n",
    "    for field, value in header.items():\n",
    "        print(f\"X-{field}: {value}\")\n",
    "    print('')\n",
    "    print(Content)\n",
    "\n",
    "sendmail(\n",
    "    Subject = 'self message',\n",
    "    Content = 'Has some content too',\n",
    "    From = 'gabor@szabgab.com',\n",
    "    To = 'szabgab@gmail.com',\n",
    "\n",
    "    mailer = \"Python\",\n",
    "    signature = \"My sig\",\n",
    ")"
   ]
  },
  {
   "cell_type": "markdown",
   "id": "085034e5-0eda-444f-9f6b-68473e43c224",
   "metadata": {},
   "source": [
    "## Every parameter option\n"
   ]
  },
  {
   "cell_type": "code",
   "execution_count": 37,
   "id": "39bc5af0-095d-4e2c-94fd-3cb1621bd259",
   "metadata": {},
   "outputs": [
    {
     "name": "stdout",
     "output_type": "stream",
     "text": [
      "2\n",
      "3\n",
      "(4, 5)\n",
      "{'a': 23, 'b': 12}\n"
     ]
    }
   ],
   "source": [
    "def f(op, count=0, *things, **kw):\n",
    "    print(op)\n",
    "    print(count)\n",
    "    print(things)\n",
    "    print(kw)\n",
    "\n",
    "f(2, 3, 4, 5, a=23, b=12)"
   ]
  },
  {
   "cell_type": "markdown",
   "id": "3097981d-2ec0-4291-ad45-649b37ab3f8f",
   "metadata": {},
   "source": [
    "## Duplicate declaration of functions (multiple signatures)\n",
    "- The second declaration silently overrides the first declaration.\n",
    "\n"
   ]
  },
  {
   "cell_type": "code",
   "execution_count": 38,
   "id": "80e717c2-6388-4a43-bb27-ec95ea2b61e0",
   "metadata": {},
   "outputs": [
    {
     "name": "stdout",
     "output_type": "stream",
     "text": [
      "6\n",
      "4\n"
     ]
    },
    {
     "ename": "TypeError",
     "evalue": "add() takes 1 positional argument but 2 were given",
     "output_type": "error",
     "traceback": [
      "\u001b[0;31m---------------------------------------------------------------------------\u001b[0m",
      "\u001b[0;31mTypeError\u001b[0m                                 Traceback (most recent call last)",
      "Cell \u001b[0;32mIn[38], line 11\u001b[0m\n\u001b[1;32m      7\u001b[0m     \u001b[38;5;28;01mreturn\u001b[39;00m x\u001b[38;5;241m+\u001b[39mx\n\u001b[1;32m      9\u001b[0m \u001b[38;5;28mprint\u001b[39m(add(\u001b[38;5;241m2\u001b[39m))  \u001b[38;5;66;03m# 4\u001b[39;00m\n\u001b[0;32m---> 11\u001b[0m \u001b[43madd\u001b[49m\u001b[43m(\u001b[49m\u001b[38;5;241;43m2\u001b[39;49m\u001b[43m,\u001b[49m\u001b[43m \u001b[49m\u001b[38;5;241;43m3\u001b[39;49m\u001b[43m)\u001b[49m\n",
      "\u001b[0;31mTypeError\u001b[0m: add() takes 1 positional argument but 2 were given"
     ]
    }
   ],
   "source": [
    "def add(x, y):\n",
    "    return x*y\n",
    "\n",
    "print(add(2, 3))  # 6\n",
    "\n",
    "def add(x):\n",
    "    return x+x\n",
    "\n",
    "print(add(2))  # 4\n",
    "\n",
    "add(2, 3)\n",
    "# TypeError: add() takes exactly 1 argument (2 given)"
   ]
  },
  {
   "cell_type": "markdown",
   "id": "2af56900-8788-4740-9df3-05b9f9746e06",
   "metadata": {},
   "source": [
    "## Return more than one value\n"
   ]
  },
  {
   "cell_type": "code",
   "execution_count": 39,
   "id": "9e41ffec-027f-4bc7-a8ce-0f140d12653d",
   "metadata": {},
   "outputs": [
    {
     "name": "stdout",
     "output_type": "stream",
     "text": [
      "(9, 20)\n",
      "<class 'tuple'>\n",
      "5\n",
      "6\n"
     ]
    }
   ],
   "source": [
    "def calc(x, y):\n",
    "    a = x+y\n",
    "    b = x*y\n",
    "    return a, b\n",
    "\n",
    "t = calc(4, 5)\n",
    "print(t)\n",
    "print(type(t))\n",
    "\n",
    "\n",
    "z, q = calc(2, 3)\n",
    "print(z)\n",
    "print(q)"
   ]
  },
  {
   "cell_type": "markdown",
   "id": "85f29940-f49e-4244-8778-10f89c9a6424",
   "metadata": {},
   "source": [
    "## Recursive factorial\n"
   ]
  },
  {
   "cell_type": "code",
   "execution_count": 40,
   "id": "e7f5bc8c-4bea-418e-8693-b78212fefc3e",
   "metadata": {},
   "outputs": [
    {
     "name": "stdout",
     "output_type": "stream",
     "text": [
      "1\n",
      "2\n",
      "6\n",
      "24\n"
     ]
    },
    {
     "ename": "ValueError",
     "evalue": "Bad parameter",
     "output_type": "error",
     "traceback": [
      "\u001b[0;31m---------------------------------------------------------------------------\u001b[0m",
      "\u001b[0;31mValueError\u001b[0m                                Traceback (most recent call last)",
      "Cell \u001b[0;32mIn[40], line 14\u001b[0m\n\u001b[1;32m     11\u001b[0m \u001b[38;5;28mprint\u001b[39m(f(\u001b[38;5;241m3\u001b[39m))   \u001b[38;5;66;03m# 6\u001b[39;00m\n\u001b[1;32m     12\u001b[0m \u001b[38;5;28mprint\u001b[39m(f(\u001b[38;5;241m4\u001b[39m))   \u001b[38;5;66;03m# 24\u001b[39;00m\n\u001b[0;32m---> 14\u001b[0m \u001b[43mf\u001b[49m\u001b[43m(\u001b[49m\u001b[38;5;241;43m-\u001b[39;49m\u001b[38;5;241;43m1\u001b[39;49m\u001b[43m)\u001b[49m\n",
      "Cell \u001b[0;32mIn[40], line 3\u001b[0m, in \u001b[0;36mf\u001b[0;34m(n)\u001b[0m\n\u001b[1;32m      1\u001b[0m \u001b[38;5;28;01mdef\u001b[39;00m \u001b[38;5;21mf\u001b[39m(n):\n\u001b[1;32m      2\u001b[0m     \u001b[38;5;28;01mif\u001b[39;00m \u001b[38;5;28mint\u001b[39m(n) \u001b[38;5;241m!=\u001b[39m n \u001b[38;5;129;01mor\u001b[39;00m n \u001b[38;5;241m<\u001b[39m \u001b[38;5;241m0\u001b[39m:\n\u001b[0;32m----> 3\u001b[0m         \u001b[38;5;28;01mraise\u001b[39;00m \u001b[38;5;167;01mValueError\u001b[39;00m(\u001b[38;5;124m\"\u001b[39m\u001b[38;5;124mBad parameter\u001b[39m\u001b[38;5;124m\"\u001b[39m)\n\u001b[1;32m      5\u001b[0m     \u001b[38;5;28;01mif\u001b[39;00m n \u001b[38;5;241m==\u001b[39m \u001b[38;5;241m0\u001b[39m:\n\u001b[1;32m      6\u001b[0m         \u001b[38;5;28;01mreturn\u001b[39;00m \u001b[38;5;241m1\u001b[39m\n",
      "\u001b[0;31mValueError\u001b[0m: Bad parameter"
     ]
    }
   ],
   "source": [
    "def f(n):\n",
    "    if int(n) != n or n < 0:\n",
    "        raise ValueError(\"Bad parameter\")\n",
    "\n",
    "    if n == 0:\n",
    "        return 1\n",
    "    return n * f(n-1)\n",
    "\n",
    "print(f(1))   # 1\n",
    "print(f(2))   # 2\n",
    "print(f(3))   # 6\n",
    "print(f(4))   # 24\n",
    "\n",
    "f(-1) #ValueError: Bad parameter"
   ]
  },
  {
   "cell_type": "markdown",
   "id": "cd0a385b-4105-43f6-bd4c-fe8c439eb177",
   "metadata": {},
   "source": [
    "## Recursive Fibonacci\n"
   ]
  },
  {
   "cell_type": "code",
   "execution_count": 42,
   "id": "3159dc5f-6fc7-4778-9225-0e58ede7133e",
   "metadata": {},
   "outputs": [
    {
     "name": "stdout",
     "output_type": "stream",
     "text": [
      "3 2\n",
      "30 832040\n"
     ]
    }
   ],
   "source": [
    "def fib(n):\n",
    "    if int(n) != n or n <= 0:\n",
    "        raise ValueError(\"Bad parameter\")\n",
    "\n",
    "    if n == 1:\n",
    "        return 1\n",
    "    if n == 2:\n",
    "        return 1\n",
    "    return fib(n-1) + fib(n-2)\n",
    "\n",
    "print(3, fib(3))    # 2\n",
    "print(30, fib(30))  # 832040\n",
    "\n",
    "#fib(0.5) #ValueError: Bad parameter"
   ]
  },
  {
   "cell_type": "markdown",
   "id": "a933be1c-4631-4635-a9ae-065df60e95a4",
   "metadata": {},
   "source": [
    "## Non-recursive Fibonacci\n"
   ]
  },
  {
   "cell_type": "code",
   "execution_count": 49,
   "id": "1e2ae903-3a46-487b-81f7-a865060342d3",
   "metadata": {},
   "outputs": [
    {
     "name": "stdout",
     "output_type": "stream",
     "text": [
      "1\n",
      "1\n",
      "89\n",
      "832040\n"
     ]
    }
   ],
   "source": [
    "def fib(n):\n",
    "    if n == 1:\n",
    "        return 1\n",
    "    if n == 2:\n",
    "        return 1\n",
    "    fibs = [1, 1]\n",
    "    for _ in range(2, n):\n",
    "        fibs.append(fibs[-1] + fibs[-2])\n",
    "    return fibs[-1]\n",
    "\n",
    "print(fib(1))  # [1]\n",
    "print(fib(2))  # [1, 1]\n",
    "print(fib(11))  # [1, 1, 2]\n",
    "print(fib(30)) # [1, 1, 2, 3, 5, 8, 13, 21, 34, 55]"
   ]
  },
  {
   "cell_type": "markdown",
   "id": "4d567a6c-8254-42f7-850d-7f0708705c32",
   "metadata": {},
   "source": [
    "## Unbound recursion\n",
    "- In order to protect us from unlimited recursion, Python limits the depth of recursion:\n"
   ]
  },
  {
   "cell_type": "code",
   "execution_count": 53,
   "id": "e928d489-71a8-4630-9804-a23c63d02eab",
   "metadata": {},
   "outputs": [
    {
     "name": "stdout",
     "output_type": "stream",
     "text": [
      "In recursion 500\n",
      "In recursion 1000\n",
      "In recursion 1500\n",
      "In recursion 2000\n",
      "In recursion 2500\n",
      "maximum recursion depth exceeded in comparison\n"
     ]
    }
   ],
   "source": [
    "def recursion(n):\n",
    "    if n % 500 == 0:\n",
    "        print(f\"In recursion {n}\")\n",
    "    recursion(n+1)\n",
    "\n",
    "try:\n",
    "    recursion(1) \n",
    "except RecursionError as e:\n",
    "    print(e)\n",
    "# RecursionError: maximum recursion depth exceeded while calling a Python object\n"
   ]
  },
  {
   "cell_type": "markdown",
   "id": "c9edc063-dabc-4022-8075-26b31a3751ae",
   "metadata": {},
   "source": [
    "## Set recurions limit\n"
   ]
  },
  {
   "cell_type": "code",
   "execution_count": 90,
   "id": "28b1da93-1698-4e71-a80d-29f310739d14",
   "metadata": {},
   "outputs": [
    {
     "name": "stdout",
     "output_type": "stream",
     "text": [
      "100\n",
      "maximum recursion depth exceeded\n"
     ]
    }
   ],
   "source": [
    "import sys\n",
    "\n",
    "print(sys.getrecursionlimit())\n",
    "sys.setrecursionlimit(3000)\n",
    "\n",
    "def recursion2(n):\n",
    "    recursion2(n+1)\n",
    "try:\n",
    "    recursion2(1)\n",
    "except RecursionError as e:\n",
    "    print(e)  "
   ]
  },
  {
   "cell_type": "markdown",
   "id": "cd58fc21-fa3b-4d89-acfc-c4f52a9b2d75",
   "metadata": {},
   "source": [
    "## Variable assignment and change - Immutable\n"
   ]
  },
  {
   "cell_type": "code",
   "execution_count": 61,
   "id": "aaf4c907-9750-4d45-809e-e7cef8aaa4ff",
   "metadata": {},
   "outputs": [
    {
     "name": "stdout",
     "output_type": "stream",
     "text": [
      "42\n",
      "42\n",
      "1\n",
      "42\n",
      "(1, 2)\n",
      "(1, 2)\n",
      "(3, 4, 5)\n",
      "(1, 2)\n"
     ]
    }
   ],
   "source": [
    "a = 42     # number or string\n",
    "b = a      # This is a copy\n",
    "print(a)   # 42\n",
    "print(b)   # 42\n",
    "a = 1\n",
    "print(a)   # 1\n",
    "print(b)   # 42\n",
    "\n",
    "a = (1, 2)   # tuple\n",
    "b = a        # this is a copy\n",
    "print(a)     # (1, 2)\n",
    "print(b)     # (1, 2)\n",
    "# a[0] = 42  TypeError: 'tuple' object does not support item assignment\n",
    "a = (3, 4, 5)\n",
    "print(a)     # (3, 4, 5)\n",
    "print(b)     # (1, 2)"
   ]
  },
  {
   "cell_type": "markdown",
   "id": "5a7030c2-ee17-4111-90ef-ffa18e3750fc",
   "metadata": {
    "tags": []
   },
   "source": [
    "## Variable assignment and change - Mutable list\n"
   ]
  },
  {
   "cell_type": "code",
   "execution_count": 63,
   "id": "dd696152-c503-479a-b6fe-157e29e6fb71",
   "metadata": {},
   "outputs": [
    {
     "name": "stdout",
     "output_type": "stream",
     "text": [
      "[5, 6]\n",
      "[5, 6]\n",
      "[1, 6]\n",
      "[1, 6]\n",
      "[7, 8]\n",
      "[1, 6]\n"
     ]
    }
   ],
   "source": [
    "b = [5, 6]\n",
    "a = b        # this is a copy of the *reference* only\n",
    "             # if we change the list in a, it will\n",
    "             # change the list connected to b as well\n",
    "print(a)     # [5, 6]\n",
    "print(b)     # [5, 6]\n",
    "\n",
    "a[0] = 1\n",
    "print(a)     # [1, 6]\n",
    "print(b)     # [1, 6]\n",
    "\n",
    "a = [7, 8]   # replace the whole list\n",
    "print(a)     # [7, 8]\n",
    "print(b)     # [1, 6]"
   ]
  },
  {
   "cell_type": "markdown",
   "id": "3448cb0e-6e69-4c8b-830a-b283b3f12bd3",
   "metadata": {},
   "source": [
    "## Variable assignment and change - Mutabled dict\n"
   ]
  },
  {
   "cell_type": "code",
   "execution_count": 64,
   "id": "33827bea-9924-4186-bb0a-8dfa8298ff67",
   "metadata": {},
   "outputs": [
    {
     "name": "stdout",
     "output_type": "stream",
     "text": [
      "{'name': 'Foo'}\n",
      "{'name': 'Foo'}\n",
      "{'name': 'Jar Jar'}\n",
      "{'name': 'Jar Jar'}\n",
      "{'name': 'Foo Bar'}\n",
      "{'name': 'Jar Jar'}\n"
     ]
    }
   ],
   "source": [
    "b = {'name' : 'Foo'}\n",
    "a = b        # this is a copy of the *reference* only\n",
    "             # if we change the dictionary in a, it will\n",
    "             # change the dictionary connected to b as well\n",
    "print(a)     # {'name' : 'Foo'}\n",
    "print(b)     # {'name' : 'Foo'}\n",
    "\n",
    "a['name'] = 'Jar Jar'\n",
    "print(a)     # {'name' : 'Jar Jar'}\n",
    "print(b)     # {'name' : 'Jar Jar'}\n",
    "\n",
    "\n",
    "             # replace reference\n",
    "a = {'name': 'Foo Bar'}\n",
    "print(a)     # {'name': 'Foo Bar'}\n",
    "print(b)     # {'name': 'Jar Jar'}"
   ]
  },
  {
   "cell_type": "markdown",
   "id": "7588768b-6d83-414e-ad8a-544b63ce20c4",
   "metadata": {},
   "source": [
    "## Parameter passing of functions\n"
   ]
  },
  {
   "cell_type": "code",
   "execution_count": 65,
   "id": "91798b42-33de-4587-9e22-c2f0155edcc6",
   "metadata": {},
   "outputs": [
    {
     "name": "stdout",
     "output_type": "stream",
     "text": [
      "3\n",
      "4\n",
      "3\n"
     ]
    }
   ],
   "source": [
    "x = 3\n",
    "\n",
    "def inc(n):\n",
    "    n += 1\n",
    "    return n\n",
    "\n",
    "print(x)        # 3\n",
    "print(inc(x))   # 4\n",
    "print(x)        # 3"
   ]
  },
  {
   "cell_type": "markdown",
   "id": "5eee62a5-f7e7-4a29-9f72-4e70795d7d21",
   "metadata": {},
   "source": [
    "## Passing references\n"
   ]
  },
  {
   "cell_type": "code",
   "execution_count": 66,
   "id": "13819fc9-27ea-4716-a391-76feb80daeb0",
   "metadata": {},
   "outputs": [
    {
     "name": "stdout",
     "output_type": "stream",
     "text": [
      "[1, 2, 3]\n",
      "[23, 2, 3]\n",
      "[5, 6]\n",
      "[23, 2, 3]\n",
      "[7, 8]\n",
      "[7, 8]\n"
     ]
    }
   ],
   "source": [
    "numbers = [1, 2, 3]\n",
    "\n",
    "def update(x):\n",
    "    x[0] = 23\n",
    "\n",
    "def change(y):\n",
    "    y = [5, 6]\n",
    "    return y\n",
    "\n",
    "def replace_content(z):\n",
    "    z[:] = [7, 8]\n",
    "    return z\n",
    "\n",
    "\n",
    "print(numbers)         # [1, 2, 3]\n",
    "\n",
    "update(numbers)\n",
    "print(numbers)         # [23, 2, 3]\n",
    "\n",
    "print(change(numbers)) # [5, 6]\n",
    "print(numbers)         # [23, 2, 3]\n",
    "\n",
    "\n",
    "print(replace_content(numbers)) # [7, 8]\n",
    "print(numbers)                  # [7, 8]"
   ]
  },
  {
   "cell_type": "markdown",
   "id": "c2da0a1f-e838-4b2e-93e8-eb899fe9f951",
   "metadata": {},
   "source": [
    "## Function documentation\n",
    "\n",
    "> Immediately after the definition of the function, you can add a string - it can be a \"\"\" string to spread multiple lines - that will include the documentation of the function. This string can be accessed via the __doc__ (2+2 underscores) attribute of the function. Also, if you 'import' the file - as a module - in the interactive prompt of Python, you will be able to read this documentation via the help() function. help(mydocs) or help(mydocs.f) in the above case."
   ]
  },
  {
   "cell_type": "code",
   "execution_count": 67,
   "id": "1b3da3f4-fb77-4b0f-842d-94575827eba4",
   "metadata": {},
   "outputs": [
    {
     "name": "stdout",
     "output_type": "stream",
     "text": [
      "hello\n",
      "\n",
      "    The documentation\n",
      "    should have more than one lines.\n",
      "    \n"
     ]
    }
   ],
   "source": [
    "def f(name):\n",
    "    \"\"\"\n",
    "    The documentation\n",
    "    should have more than one lines.\n",
    "    \"\"\"\n",
    "    print(name)\n",
    "\n",
    "\n",
    "f(\"hello\")\n",
    "print(f.__doc__)\n",
    "\n",
    "\n"
   ]
  },
  {
   "cell_type": "markdown",
   "id": "6f20398e-7fc7-4fb0-9902-0ca922613d90",
   "metadata": {},
   "source": [
    "## Sum ARGV\n"
   ]
  },
  {
   "cell_type": "code",
   "execution_count": 71,
   "id": "fe72b075-236c-470e-9078-669413c73772",
   "metadata": {},
   "outputs": [
    {
     "name": "stdout",
     "output_type": "stream",
     "text": [
      "(0, 1, 2, 3, 4, 5, 6, 7, 8, 9)\n",
      "45\n"
     ]
    }
   ],
   "source": [
    "import sys\n",
    "\n",
    "def mysum(*numbers):\n",
    "    print(numbers)\n",
    "    total = 0\n",
    "    for s in numbers:\n",
    "        total += s\n",
    "    return total\n",
    "args = '-0123456789'\n",
    "v = [int(x) for x in args[1:] ]\n",
    "r = mysum( *v )\n",
    "print(r)"
   ]
  },
  {
   "cell_type": "markdown",
   "id": "ce9a78a3-c225-4881-b67e-8067dc5840cf",
   "metadata": {},
   "source": [
    "## Copy-paste code\n",
    "- find the bug!\n",
    "- be careful of copy-pasta code \n"
   ]
  },
  {
   "cell_type": "code",
   "execution_count": 72,
   "id": "22368864-702b-45d7-9494-ee7966ee4f9a",
   "metadata": {},
   "outputs": [
    {
     "name": "stdout",
     "output_type": "stream",
     "text": [
      "sum of a: 116 average of a: 29.0\n",
      "sum of b: 154 average of b: 38.5\n",
      "sum of c: 138 average of c: 34.5\n"
     ]
    }
   ],
   "source": [
    "a = [2, 3, 93, 18]\n",
    "b = [27, 81, 11, 35]\n",
    "c = [32, 105, 1]\n",
    "\n",
    "total_a  = 0\n",
    "for v in a:\n",
    "    total_a += v\n",
    "print(\"sum of a: {} average of a: {}\".format(total_a, total_a / len(a)))\n",
    "\n",
    "total_b  = 0\n",
    "for v in b:\n",
    "    total_b += v\n",
    "print(\"sum of b: {} average of b: {}\".format(total_b, total_b / len(b)))\n",
    "\n",
    "total_c  = 0\n",
    "for v in c:\n",
    "    total_c += v\n",
    "print(\"sum of c: {} average of c: {}\".format(total_c, total_c / len(a)))"
   ]
  },
  {
   "cell_type": "markdown",
   "id": "f23ce546-f54b-4fe3-b802-a761a0ef8d21",
   "metadata": {},
   "source": [
    "## Copy-paste code fixed\n"
   ]
  },
  {
   "cell_type": "code",
   "execution_count": 73,
   "id": "88f861c8-c1f6-44a3-bf00-d05f150dd4da",
   "metadata": {},
   "outputs": [
    {
     "name": "stdout",
     "output_type": "stream",
     "text": [
      "sum of a: 116 average of a: 29.0\n",
      "sum of b: 154 average of b: 38.5\n",
      "sum of c: 138 average of c: 46.0\n"
     ]
    }
   ],
   "source": [
    "a = [2, 3, 93, 18]\n",
    "b = [27, 81, 11, 35]\n",
    "c = [32, 105, 1]\n",
    "\n",
    "def calc(numbers):\n",
    "    total  = 0\n",
    "    for v in numbers:\n",
    "        total += v\n",
    "    return total, total / len(numbers)\n",
    "\n",
    "total_a, avg_a = calc(a)\n",
    "print(\"sum of a: {} average of a: {}\".format(total_a, avg_a))\n",
    "\n",
    "total_b, avg_b = calc(b)\n",
    "print(\"sum of b: {} average of b: {}\".format(total_b, avg_b))\n",
    "\n",
    "\n",
    "total_c, avg_c = calc(c)\n",
    "print(\"sum of c: {} average of c: {}\".format(total_c, avg_c))"
   ]
  },
  {
   "cell_type": "markdown",
   "id": "024e140a-a94f-476a-942b-ab75e75d1d13",
   "metadata": {},
   "source": [
    "## Copy-paste code further improvement\n"
   ]
  },
  {
   "cell_type": "code",
   "execution_count": 74,
   "id": "fbde12d4-70f5-49de-b764-c9efc630ee29",
   "metadata": {},
   "outputs": [
    {
     "name": "stdout",
     "output_type": "stream",
     "text": [
      "sum of a: 116 average of a: 29.0\n",
      "sum of b: 154 average of b: 38.5\n",
      "sum of c: 138 average of c: 46.0\n"
     ]
    }
   ],
   "source": [
    "data = {\n",
    "    'a': [2, 3, 93, 18],\n",
    "    'b': [27, 81, 11, 35],\n",
    "    'c': [32, 105, 1],\n",
    "}\n",
    "\n",
    "def calc(numbers):\n",
    "    total  = 0\n",
    "    for v in numbers:\n",
    "        total += v\n",
    "    return total, total / len(numbers)\n",
    "\n",
    "total = {}\n",
    "avg   = {}\n",
    "for name, numbers in data.items():\n",
    "    total[name], avg[name] = calc(numbers)\n",
    "    print(\"sum of {}: {} average of {}: {}\".format(name, total[name], name, avg[name]))"
   ]
  },
  {
   "cell_type": "markdown",
   "id": "14011738-e04a-475a-8f7a-62b0e6e24f1f",
   "metadata": {},
   "source": [
    "## Palindrome\n"
   ]
  },
  {
   "cell_type": "code",
   "execution_count": 75,
   "id": "597c2cc9-23ac-476e-b55f-8e0f885b3d7d",
   "metadata": {},
   "outputs": [
    {
     "name": "stdout",
     "output_type": "stream",
     "text": [
      "True\n",
      "True\n",
      "False\n",
      "True\n",
      "True\n",
      "False\n",
      "\n",
      "True\n",
      "True\n",
      "False\n",
      "True\n",
      "True\n",
      "False\n"
     ]
    }
   ],
   "source": [
    "def is_palindrome(s):\n",
    "    if s == '':\n",
    "        return True\n",
    "    if s[0] == s[-1]:\n",
    "        return is_palindrome(s[1:-1])\n",
    "    return False\n",
    "\n",
    "def iter_palindrome(s):\n",
    "    for i in range(0, int(len(s) / 2)):\n",
    "        if s[i] != s[-(i+1)]:\n",
    "            return False\n",
    "    return True\n",
    "\n",
    "print(is_palindrome(''))      # True\n",
    "print(is_palindrome('a'))     # True\n",
    "print(is_palindrome('ab'))    # False\n",
    "print(is_palindrome('aa'))    # True\n",
    "print(is_palindrome('aba'))   # True\n",
    "print(is_palindrome('abc'))   # False\n",
    "\n",
    "print()\n",
    "print(iter_palindrome(''))      # True\n",
    "print(iter_palindrome('a'))     # True\n",
    "print(iter_palindrome('ab'))    # False\n",
    "print(iter_palindrome('aa'))    # True\n",
    "print(iter_palindrome('aba'))   # True\n",
    "print(iter_palindrome('abc'))   # False"
   ]
  },
  {
   "cell_type": "markdown",
   "id": "4dccfb03-bb89-4b1b-a7c2-7c16c43980aa",
   "metadata": {},
   "source": [
    "## Exit vs return vs break and continue\n"
   ]
  },
  {
   "cell_type": "markdown",
   "id": "8c0f40fb-7854-49f9-85ba-de761ed7fed7",
   "metadata": {},
   "source": [
    "- **`exit`** will stop your program no matter where you call it.\n",
    "- **`return`** will return from a function (it will stop the specific function only)\n",
    "- **`break`** will stop the current \"while\" or \"for\" loop\n",
    "- **`continue`** will stop the current iteration of the current \"while\" or \"for\" loop"
   ]
  },
  {
   "cell_type": "markdown",
   "id": "6bad3998-23cb-4fb2-aeee-4821406d2063",
   "metadata": {},
   "source": [
    "## Exercise: statistics\n",
    "- write a function that will accept any number of numbers and return a list of values:\n",
    "\n",
    "- The sum\n",
    "- Average\n",
    "- Minimum\n",
    "- Maximum"
   ]
  },
  {
   "cell_type": "code",
   "execution_count": 87,
   "id": "0f67e613-7fb6-41a5-b325-93010c164932",
   "metadata": {},
   "outputs": [
    {
     "name": "stdout",
     "output_type": "stream",
     "text": [
      "(18, 3.6, 1, 8)\n",
      "(1, 1.0, 1, 1)\n"
     ]
    }
   ],
   "source": [
    "def calc_stats(*numbers):\n",
    "    if len(numbers) == 0:\n",
    "        raise ValueError(\"No numbers provided\")\n",
    "    summation = 0\n",
    "    average = 0\n",
    "    minimum = numbers[0]\n",
    "    maximum = numbers[0]\n",
    "    for n in numbers:\n",
    "        summation += n\n",
    "        if n>maximum:\n",
    "            maximum = n\n",
    "        if n<minimum:\n",
    "            minimum = n\n",
    "    \n",
    "    average = summation/len(numbers)\n",
    "    \n",
    "    return summation, average, minimum, maximum\n",
    "\n",
    "num = [1,8,2,3,4]\n",
    "\n",
    "print(calc_stats(*num))\n",
    "print(calc_stats(1))\n",
    "# print(calc_stats())"
   ]
  },
  {
   "cell_type": "markdown",
   "id": "0e583414-5c13-42e7-9a23-0c0785ab39fa",
   "metadata": {},
   "source": [
    "## Exercise: Pascal's triangle\n",
    "- given a number N on the command line will print the first N rows of the Pascal's triangle."
   ]
  },
  {
   "cell_type": "code",
   "execution_count": 109,
   "id": "c9c55407-07bb-4ed7-aab9-cc5e0b6c708f",
   "metadata": {},
   "outputs": [
    {
     "name": "stdout",
     "output_type": "stream",
     "text": [
      "     1     \n",
      "    1 1    \n",
      "   1 2 1   \n",
      "  1 3 3 1  \n",
      " 1 4 6 4 1 \n"
     ]
    }
   ],
   "source": [
    "def draw_pascal(n):\n",
    "    if n == 1:\n",
    "        print('1'.center(3,' '))\n",
    "        return\n",
    "    \n",
    "    rows = [None] * n\n",
    "    for i in range(0,n):\n",
    "        l = 2*n + 1\n",
    "        rows[i] = [0] * l\n",
    "        if i == 0:\n",
    "            rows[0][n] = 1\n",
    "        else:\n",
    "            rows[i][0] = rows[i-1][1]\n",
    "            rows[i][l-1] = rows[i-1][l-2]\n",
    "            for j in range(1,l-1):\n",
    "                rows[i][j] = rows[i-1][j-1] + rows[i-1][j+1]\n",
    "\n",
    "        s = ''\n",
    "        for r in rows[i]:\n",
    "            if r != 0:\n",
    "                s += str(r)\n",
    "            else:\n",
    "                s += ' '\n",
    "        print(s)\n",
    "\n",
    "            \n",
    "draw_pascal(5)"
   ]
  },
  {
   "cell_type": "markdown",
   "id": "565fe966-6b81-4209-b10f-7eac32c84e3a",
   "metadata": {},
   "source": [
    "## Exercise: Pascal's triangle functions\n",
    "- A function that given a list of numbers (a row from the triangle, e.g. 1, 3, 3, 1) will return the next row (1, 4, 6, 4, 1). get_next_row\n",
    "- A function that given a depth N will return a list of the first N rows. get_triangle\n",
    "- A function that will print the triangle. print_triangle."
   ]
  },
  {
   "cell_type": "code",
   "execution_count": 140,
   "id": "63596844-c3d8-46ca-8677-fc23af3d4b05",
   "metadata": {},
   "outputs": [
    {
     "name": "stdout",
     "output_type": "stream",
     "text": [
      "                               1                            \n",
      "                            1    1                          \n",
      "                          1    2    1                       \n",
      "                       1    3    3    1                     \n",
      "                     1    4    6    4    1                  \n",
      "                  1    5   10   10    5    1                \n",
      "                1    6   15   20   15    6    1             \n",
      "             1    7   21   35   35   21    7    1           \n",
      "           1    8   28   56   70   56   28    8    1        \n",
      "        1    9   36   84  126  126   84   36    9    1      \n",
      "      1   10   45  120  210  252  210  120   45   10    1   \n",
      "   1   11   55  165  330  462  462  330  165   55   11    1 \n"
     ]
    }
   ],
   "source": [
    "def get_next_row(*prev):\n",
    "    next_row = []\n",
    "    next_row.append(1)\n",
    "    for i in range(0,len(prev)-1):\n",
    "        next_row.append(prev[i] + prev[i+1])\n",
    "    next_row.append(1)\n",
    "    return next_row\n",
    "\n",
    "# print(get_next_row(1,3,3,1)) # [1, 4, 6, 4, 1]\n",
    "\n",
    "def get_triangle(n):\n",
    "    \n",
    "    if n == 1:\n",
    "        return [[1]]\n",
    "    triangle = [[1]]\n",
    "    for i in range(0,n):\n",
    "        next_row = get_next_row(*triangle[i])\n",
    "        triangle.append(next_row)\n",
    "    return triangle\n",
    "\n",
    "# get_triangle(4) # [[1], [1, 1], [1, 2, 1], [1, 3, 3, 1], [1, 4, 6, 4, 1]]\n",
    "\n",
    "\n",
    "def print_triangle(triangle):\n",
    "    if len(triangle) == 0:\n",
    "        return #empty triangle\n",
    "    \n",
    "    n = len(triangle[-1])\n",
    "    max_num_length = 4\n",
    "    for r in triangle:\n",
    "        row_str = ' '.join([f'{i:{max_num_length}}' for i in r])\n",
    "        print(row_str.center(n*(1+max_num_length), ' '))\n",
    "\n",
    "print_triangle(get_triangle(11))\n"
   ]
  },
  {
   "cell_type": "markdown",
   "id": "cfeb16ed-375f-4398-82c0-aed6414ddec6",
   "metadata": {},
   "source": [
    "## Exercise: recursive dependency tree\n",
    "- Give a bunch of files that has list of requirement in them. Process them recursively and print the resulting full list of requirements\n",
    "\n",
    "\n",
    "- examples/functions/dependencies/a.txt\n",
    "> b\n",
    ">\n",
    "> c\n",
    ">\n",
    "> d\n",
    "\n",
    "\n",
    "\n",
    "- examples/functions/dependencies/b.txt\n",
    "> e\n",
    ">\n",
    "> d\n",
    "\n",
    "\n",
    "\n",
    "- examples/functions/dependencies/c.txt\n",
    "> f\n",
    ">\n",
    "> g\n",
    "\n"
   ]
  },
  {
   "cell_type": "code",
   "execution_count": 147,
   "id": "7ab23689-84e2-4437-9c5c-4543de9e73a3",
   "metadata": {},
   "outputs": [
    {
     "name": "stdout",
     "output_type": "stream",
     "text": [
      "a\n",
      "  b\n",
      "    e\n",
      "    d\n",
      "  c\n",
      "    f\n",
      "    g\n",
      "b\n",
      "  e\n",
      "  d\n",
      "c\n",
      "  f\n",
      "  g\n"
     ]
    }
   ],
   "source": [
    "def print_dependency_tree(dependency_map, file, indent=\"\", processed_files=None):\n",
    "    if processed_files is None:\n",
    "        processed_files = set()\n",
    "\n",
    "    if file in processed_files:\n",
    "        return\n",
    "\n",
    "    processed_files.add(file)\n",
    "\n",
    "    print(indent + file)\n",
    "    if file in dependency_map:\n",
    "        for dependency in dependency_map[file]:\n",
    "            print_dependency_tree(dependency_map, dependency, indent + \"  \", processed_files)\n",
    "\n",
    "a = ['b', 'c', 'd']\n",
    "b = ['e', 'd']\n",
    "c = ['f', 'g']\n",
    "files = ['a', 'b', 'c']\n",
    "\n",
    "# Create a dependency map\n",
    "dependency_map = {'a': a, 'b': b, 'c': c}\n",
    "\n",
    "# Print the dependency tree for each file\n",
    "for file in files:\n",
    "    print_dependency_tree(dependency_map, file)\n"
   ]
  },
  {
   "cell_type": "markdown",
   "id": "4f8974d9-3c78-4cbb-86e0-a949b2456137",
   "metadata": {},
   "source": [
    "## Exercise: Tower of Hanoi\n",
    "\n",
    "- There are 3 sticks. On the first stick there are n rings of different sizes. The smaller the ring the higher it is on the stick. Move over all the rings to the 3rd stick by always moving only one ring and making sure that never will there be a large ring on top of a smaller ring.\n",
    "\n"
   ]
  },
  {
   "cell_type": "code",
   "execution_count": null,
   "id": "fca4d38a-3301-4529-8b6a-f977d2d4b842",
   "metadata": {},
   "outputs": [],
   "source": [
    "def check():\n",
    "    for loc in hanoi.keys():\n",
    "        if hanoi[loc] != sorted(hanoi[loc], reverse=True):\n",
    "            raise Exception(f\"Incorrect order in {loc}: {hanoi[loc]}\")\n",
    "\n",
    "def move(depth, source, target, helper):\n",
    "    if depth > 0:\n",
    "        move(depth-1, source, helper, target)\n",
    "\n",
    "        val = hanoi[source].pop()\n",
    "        hanoi[target].append(val)\n",
    "        print(f\"Move {val} from {source} to {target}   Status A:{str(hanoi['A']):10}  B:{str(hanoi['B']):10}  C:{str(hanoi['C']):10}\")\n",
    "        check()\n",
    "\n",
    "        move(depth-1, helper, target, source)\n",
    "    check()\n",
    "\n",
    "hanoi = {\n",
    "    'A': [4, 3, 2, 1],\n",
    "    'B': [],\n",
    "    'C': [],\n",
    "}\n",
    "\n",
    "check()\n",
    "move(len(hanoi['A']), 'A', 'C', 'B')\n",
    "check()\n"
   ]
  },
  {
   "cell_type": "markdown",
   "id": "f3e8c1ca-e42f-409b-b769-39be8c622cf2",
   "metadata": {},
   "source": [
    "## Exercise: Merge and Bubble sort\n"
   ]
  },
  {
   "cell_type": "code",
   "execution_count": 148,
   "id": "9df2b74e-b854-4f40-93a0-21f2ebf835d8",
   "metadata": {},
   "outputs": [
    {
     "name": "stdout",
     "output_type": "stream",
     "text": [
      "[1, 2, 3]\n",
      "[1, 2, 3]\n",
      "[1, 2, 3, 4, 5, 6, 7, 8, 9, 10]\n"
     ]
    }
   ],
   "source": [
    "#bubble\n",
    "\n",
    "def bubble_sort(*values):\n",
    "    values = list(values)\n",
    "    for ix in range(len(values)-1):\n",
    "        for jx in range(len(values)-1-ix):\n",
    "            if values[jx] > values[jx+1]:\n",
    "                values[jx], values[jx+1] = values[jx+1], values[jx]\n",
    "    return values\n",
    "\n",
    "print(bubble_sort(1, 2, 3))\n",
    "print(bubble_sort(3, 2, 1))\n",
    "print(bubble_sort(10, 9, 8, 7, 6, 5, 4, 3, 2, 1))"
   ]
  },
  {
   "cell_type": "code",
   "execution_count": 149,
   "id": "68282217-95c8-4e77-8c8d-6f619ab86dca",
   "metadata": {},
   "outputs": [
    {
     "name": "stdout",
     "output_type": "stream",
     "text": [
      "[1, 2, 3, 4, 5, 6, 7, 8, 9]\n"
     ]
    }
   ],
   "source": [
    "#merge \n",
    "\n",
    "def merge_sort(arr):\n",
    "    if len(arr) <= 1:\n",
    "        return arr\n",
    "\n",
    "    # Divide the array into two halves\n",
    "    mid = len(arr) // 2\n",
    "    left_half = arr[:mid]\n",
    "    right_half = arr[mid:]\n",
    "\n",
    "    # Recursively sort the two halves\n",
    "    left_half = merge_sort(left_half)\n",
    "    right_half = merge_sort(right_half)\n",
    "\n",
    "    # Merge the sorted halves\n",
    "    merged = merge(left_half, right_half)\n",
    "    return merged\n",
    "\n",
    "\n",
    "def merge(left, right):\n",
    "    merged = []\n",
    "    i = j = 0\n",
    "\n",
    "    # Merge the two sorted halves into a single sorted array\n",
    "    while i < len(left) and j < len(right):\n",
    "        if left[i] <= right[j]:\n",
    "            merged.append(left[i])\n",
    "            i += 1\n",
    "        else:\n",
    "            merged.append(right[j])\n",
    "            j += 1\n",
    "\n",
    "    # Append any remaining elements from the left or right half\n",
    "    merged.extend(left[i:])\n",
    "    merged.extend(right[j:])\n",
    "    return merged\n",
    "\n",
    "\n",
    "arr = [8, 3, 1, 5, 2, 9, 4, 6, 7]\n",
    "sorted_arr = merge_sort(arr)\n",
    "print(sorted_arr)\n"
   ]
  }
 ],
 "metadata": {
  "kernelspec": {
   "display_name": "Python 3 (ipykernel)",
   "language": "python",
   "name": "python3"
  },
  "language_info": {
   "codemirror_mode": {
    "name": "ipython",
    "version": 3
   },
   "file_extension": ".py",
   "mimetype": "text/x-python",
   "name": "python",
   "nbconvert_exporter": "python",
   "pygments_lexer": "ipython3",
   "version": "3.9.7"
  }
 },
 "nbformat": 4,
 "nbformat_minor": 5
}
