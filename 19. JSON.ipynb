{
 "cells": [
  {
   "cell_type": "markdown",
   "id": "3d8df107-a32d-4fcf-babc-e0f170bd0477",
   "metadata": {},
   "source": [
    "## JSON - JavaScript Object Notation"
   ]
  },
  {
   "cell_type": "markdown",
   "id": "a289ffdc-f4bf-4d84-aef2-117fb6a4f410",
   "metadata": {},
   "source": [
    "\n",
    "- **JSON** is basically the data format used by JavaScript.\n",
    "- Because its universal availability it became the de-facto standard for data communication between many different languages.\n",
    "- Most dynamic languages have an fairly good mapping between JSON and their own data structures. Lists and dictionaries in the case of Python.\n",
    "\n",
    "\n",
    "- Sample JSON data\n",
    "```json\n",
    "{\n",
    "    \"fname\": \"Foo\",\n",
    "     \"lname\": \"Bar\",\n",
    "     \"email\": null,\n",
    "     \"children\": [\"Moo\", \"Koo\", \"Roo\"],\n",
    "     \"fixed\": [\"a\", \"b\"]\n",
    "}\n",
    "```"
   ]
  },
  {
   "cell_type": "markdown",
   "id": "2b1cc941-c30e-43d1-9740-69be7528b8cf",
   "metadata": {},
   "source": [
    "## JSON dumps"
   ]
  },
  {
   "cell_type": "markdown",
   "id": "cf151d27-4b6b-41f2-b609-06d4fa50e79c",
   "metadata": {},
   "source": [
    "- **dumps can be used to take a Python data structure and generate a string in JSON format**.\n",
    "- That string can then be saved in a file, inserted in a database, or sent over the wire.\n",
    "\n",
    ">- Dictionaries and lists are handles\n",
    ">\n",
    ">- Tuples are indistinguishable from lists\n",
    ">\n",
    ">- Always Double-quotes\n",
    ">\n",
    ">- null instead of None\n",
    ">\n",
    ">- No trailing comma"
   ]
  },
  {
   "cell_type": "code",
   "execution_count": 4,
   "id": "e7876a34-6dfd-4660-b100-e0b037aa7746",
   "metadata": {},
   "outputs": [
    {
     "name": "stdout",
     "output_type": "stream",
     "text": [
      "{'fname': 'Foo', 'lname': 'Bar', 'email': None, 'children': ['Moo', 'Koo', 'Roo'], 'fixed': ('a', 'b')}\n",
      "{\"fname\": \"Foo\", \"lname\": \"Bar\", \"email\": null, \"children\": [\"Moo\", \"Koo\", \"Roo\"], \"fixed\": [\"a\", \"b\"]}\n"
     ]
    }
   ],
   "source": [
    "import json\n",
    "\n",
    "data = {\n",
    "  \"fname\" : 'Foo',\n",
    "  \"lname\" : 'Bar',\n",
    "  \"email\" : None,\n",
    "  \"children\" : [\n",
    "     \"Moo\",\n",
    "     \"Koo\",\n",
    "     \"Roo\",\n",
    "  ],\n",
    "  \"fixed\": (\"a\", \"b\"),\n",
    "}\n",
    "print(data)\n",
    "\n",
    "json_str = json.dumps(data)\n",
    "print(json_str)\n",
    "\n",
    "with open('__FILES/data.json', 'w') as fh:\n",
    "    fh.write(json_str)\n",
    "\n",
    "\n"
   ]
  },
  {
   "cell_type": "markdown",
   "id": "c96bad8c-5c71-4e10-8407-56155d6f7e1e",
   "metadata": {},
   "source": [
    "## JSON loads"
   ]
  },
  {
   "cell_type": "code",
   "execution_count": 5,
   "id": "01ba1f06-4097-4caa-b0a0-12b339df4bbe",
   "metadata": {},
   "outputs": [
    {
     "name": "stdout",
     "output_type": "stream",
     "text": [
      "{\"fname\": \"Foo\", \"lname\": \"Bar\", \"email\": null, \"children\": [\"Moo\", \"Koo\", \"Roo\"], \"fixed\": [\"a\", \"b\"]}\n",
      "{'fname': 'Foo', 'lname': 'Bar', 'email': None, 'children': ['Moo', 'Koo', 'Roo'], 'fixed': ['a', 'b']}\n"
     ]
    }
   ],
   "source": [
    "import json\n",
    "\n",
    "with open('__FILES/data.json') as fh:\n",
    "    json_str = fh.read()\n",
    "\n",
    "print(json_str)\n",
    "data = json.loads(json_str)\n",
    "print(data)"
   ]
  },
  {
   "cell_type": "markdown",
   "id": "aa94c8e6-c3c0-4a09-bae8-82de539dbfef",
   "metadata": {},
   "source": [
    "## dump"
   ]
  },
  {
   "cell_type": "markdown",
   "id": "655c47bd-8ae1-454a-b30d-05ab5e4f3c51",
   "metadata": {},
   "source": [
    "- As a special case dump will save the string in a file or in other stream.\n",
    "\n",
    "- **dump**: The dump method is used to serialize Python objects to a JSON file. It takes two parameters: the Python object to be serialized and a file-like object where the JSON data will be written. The dump method writes the JSON data to the file in a human-readable format.\n",
    "\n",
    "- **dumps**: The dumps method is used to serialize Python objects to a JSON string. It takes a single parameter: the Python object to be serialized. The dumps method returns a JSON-formatted string containing the serialized object."
   ]
  },
  {
   "cell_type": "code",
   "execution_count": 6,
   "id": "d86832cc-6118-4536-bbcd-2e14e97c7637",
   "metadata": {},
   "outputs": [
    {
     "name": "stdout",
     "output_type": "stream",
     "text": [
      "{'fname': 'Foo', 'lname': 'Bar', 'email': None, 'children': ['Moo', 'Koo', 'Roo']}\n"
     ]
    }
   ],
   "source": [
    "import json\n",
    "\n",
    "data = {\n",
    "    \"fname\" : 'Foo',\n",
    "    \"lname\" : 'Bar',\n",
    "    \"email\" : None,\n",
    "    \"children\" : [\n",
    "        \"Moo\",\n",
    "        \"Koo\",\n",
    "        \"Roo\",\n",
    "    ],\n",
    "}\n",
    "\n",
    "print(data)\n",
    "\n",
    "with open('__FILES/data.json', 'w') as fh:\n",
    "    json.dump(data, fh)"
   ]
  },
  {
   "cell_type": "markdown",
   "id": "30973ad4-333c-40fb-b440-55839429ad33",
   "metadata": {},
   "source": [
    "## load"
   ]
  },
  {
   "cell_type": "code",
   "execution_count": 7,
   "id": "3efcfc12-6d35-4aea-83e2-c2c4b08b2963",
   "metadata": {},
   "outputs": [
    {
     "name": "stdout",
     "output_type": "stream",
     "text": [
      "{'fname': 'Foo', 'lname': 'Bar', 'email': None, 'children': ['Moo', 'Koo', 'Roo']}\n"
     ]
    }
   ],
   "source": [
    "import json\n",
    "\n",
    "with open('__FILES/data.json', 'r') as fh:\n",
    "    data = json.load(fh)\n",
    "print(data)"
   ]
  },
  {
   "cell_type": "markdown",
   "id": "b0846e7d-0ae6-450f-a658-f1448fc88fd6",
   "metadata": {},
   "source": [
    "## Round trip"
   ]
  },
  {
   "cell_type": "code",
   "execution_count": 8,
   "id": "a8216496-13bb-4d8f-b458-49c371a861bb",
   "metadata": {},
   "outputs": [],
   "source": [
    "import json\n",
    "import os\n",
    "import time\n",
    "import sys\n",
    "\n",
    "data = {\n",
    "    'name': [],\n",
    "    'time': [],\n",
    "}\n",
    "filename = '__FILES/mydata.json'\n",
    "\n",
    "if os.path.exists(filename):\n",
    "    with open(filename) as fh:\n",
    "        json_str = fh.read()\n",
    "        # print(json_str)\n",
    "        data = json.loads(json_str)\n",
    "\n",
    "data['name'].append('name')\n",
    "data['time'].append(time.time())\n",
    "\n",
    "\n",
    "\n",
    "with open(filename, 'w') as fh:\n",
    "    json_str = json.dumps(data, indent=4)\n",
    "    fh.write(json_str)"
   ]
  },
  {
   "cell_type": "markdown",
   "id": "c2a2a1d6-6d72-449a-a952-42d316d9b0e0",
   "metadata": {},
   "source": [
    "## Pretty print JSON"
   ]
  },
  {
   "cell_type": "code",
   "execution_count": 14,
   "id": "0d307fbc-531f-4586-95e1-fb702e06f097",
   "metadata": {},
   "outputs": [
    {
     "name": "stdout",
     "output_type": "stream",
     "text": [
      "{'name': 'Foo Bar', 'grades': [23, 47, 99, 11], 'children': {'Peti Bar': {'email': 'peti@bar.com'}, 'Jenny Bar': {'phone': '12345'}}}\n",
      "{\"name\": \"Foo Bar\", \"grades\": [23, 47, 99, 11], \"children\": {\"Peti Bar\": {\"email\": \"peti@bar.com\"}, \"Jenny Bar\": {\"phone\": \"12345\"}}}\n",
      "{\n",
      "        \"name\"= \"Foo Bar\";\n",
      "        \"grades\"= [\n",
      "                23;\n",
      "                47;\n",
      "                99;\n",
      "                11\n",
      "        ];\n",
      "        \"children\"= {\n",
      "                \"Peti Bar\"= {\n",
      "                        \"email\"= \"peti@bar.com\"\n",
      "                };\n",
      "                \"Jenny Bar\"= {\n",
      "                        \"phone\"= \"12345\"\n",
      "                }\n",
      "        }\n",
      "}\n"
     ]
    }
   ],
   "source": [
    "import json\n",
    "\n",
    "data = {\n",
    "    \"name\" : \"Foo Bar\",\n",
    "    \"grades\" : [23, 47, 99, 11],\n",
    "    \"children\" : {\n",
    "        \"Peti Bar\" : {\n",
    "            \"email\": \"peti@bar.com\",\n",
    "        },\n",
    "        \"Jenny Bar\" : {\n",
    "            \"phone\": \"12345\",\n",
    "        },\n",
    "    }\n",
    "}\n",
    "\n",
    "print(data)\n",
    "print(json.dumps(data))\n",
    "print(json.dumps(data, indent=8, separators=(';', '= ')))"
   ]
  },
  {
   "cell_type": "markdown",
   "id": "b8d76a54-d954-4c0c-b430-d81f30ef9673",
   "metadata": {},
   "source": [
    "## Serialize Datetime objects in JSON"
   ]
  },
  {
   "cell_type": "code",
   "execution_count": null,
   "id": "d15b9aa7-ac7e-4614-a8bc-4c0ccd8ea5f4",
   "metadata": {},
   "outputs": [],
   "source": [
    "import json\n",
    "import datetime\n",
    " \n",
    "d = {\n",
    "   'name' : 'Foo'\n",
    "}\n",
    "print(json.dumps(d))   # {\"name\": \"Foo\"}\n",
    " \n",
    "d['date'] = datetime.datetime.now()\n",
    "print(json.dumps(d))   # TypeError: datetime.datetime(2016, 4, 8, 11, 22, 3, 84913) is not JSON serializable"
   ]
  },
  {
   "cell_type": "code",
   "execution_count": 24,
   "id": "d0fe7e4b-7b83-403f-8fc3-835053ae17c6",
   "metadata": {},
   "outputs": [
    {
     "name": "stdout",
     "output_type": "stream",
     "text": [
      "{\"name\": \"Foo\"}\n",
      "{\"name\": \"Foo\", \"date\": \"2023/06/09\"}\n"
     ]
    }
   ],
   "source": [
    "# solution\n",
    "\n",
    "import json\n",
    "import datetime\n",
    " \n",
    "d = {\n",
    "   'name' : 'Foo'\n",
    "}\n",
    "print(json.dumps(d))   # {\"name\": \"Foo\"}\n",
    " \n",
    "d['date'] = datetime.datetime.now()\n",
    " \n",
    "def myconverter(o):\n",
    "    if isinstance(o, datetime.datetime):\n",
    "        return f\"{o.year:4}/{o.month:02}/{o.day:02}\"\n",
    "        # return o.__str__()\n",
    "\n",
    "print(json.dumps(d, default = myconverter))    # {\"date\": \"2016-04-08 11:43:36.309721\", \"name\": \"Foo\"}\n"
   ]
  },
  {
   "cell_type": "markdown",
   "id": "b018a62e-fc30-4103-829e-09d1b7c929e2",
   "metadata": {},
   "source": [
    "### Other representation of datetime\n",
    "- The string representation that  `__str__` might match our needs, but if not we have other options.\n",
    "- We can use the `__repr__` method to return the following:\n",
    "\n",
    "```\n",
    "{\"date\": \"datetime.datetime(2016, 4, 8, 11, 43, 54, 920632)\", \"name\": \"Foo\"}\n",
    "```\n",
    "\n",
    "We can even hand-craft something like this:\n",
    "\n",
    "```\n",
    "return \"{}-{}-{}\".format(o.year, o.month, o.day)\n",
    "```\n",
    "That will return the following:\n",
    "\n",
    "```\n",
    "{\"date\": \"2016-4-8\", \"name\": \"Foo\"}\n",
    "```"
   ]
  },
  {
   "cell_type": "markdown",
   "id": "cc250a3a-c242-4521-b990-84bfbe0f36e0",
   "metadata": {},
   "source": [
    "## Sort keys in JSON"
   ]
  },
  {
   "cell_type": "code",
   "execution_count": 25,
   "id": "8a947039-546c-4f84-a136-9b969fd249f0",
   "metadata": {},
   "outputs": [
    {
     "name": "stdout",
     "output_type": "stream",
     "text": [
      "{\n",
      "    \"children\": {\n",
      "        \"Jenny Bar\": {\n",
      "            \"phone\": \"12345\"\n",
      "        },\n",
      "        \"Peti Bar\": {\n",
      "            \"email\": \"peti@bar.com\"\n",
      "        }\n",
      "    },\n",
      "    \"grades\": [\n",
      "        23,\n",
      "        47,\n",
      "        99,\n",
      "        11\n",
      "    ],\n",
      "    \"name\": \"Foo Bar\"\n",
      "}\n"
     ]
    }
   ],
   "source": [
    "import json\n",
    "\n",
    "data = {\n",
    "    \"name\" : \"Foo Bar\",\n",
    "    \"grades\" : [23, 47, 99, 11],\n",
    "    \"children\" : {\n",
    "        \"Peti Bar\" : {\n",
    "            \"email\": \"peti@bar.com\",\n",
    "        },\n",
    "        \"Jenny Bar\" : {\n",
    "            \"phone\": \"12345\",\n",
    "        },\n",
    "    }\n",
    "}\n",
    "\n",
    "print(json.dumps(data, sort_keys=True, indent=4, separators=(',', ': ')))"
   ]
  },
  {
   "cell_type": "markdown",
   "id": "147c6af6-f106-48e8-bb64-41efb9ca4ce3",
   "metadata": {},
   "source": [
    "## Set order of keys in JSON - OrderedDict"
   ]
  },
  {
   "cell_type": "code",
   "execution_count": 26,
   "id": "29e5695e-0451-46b1-8747-29aeb3f53c16",
   "metadata": {},
   "outputs": [
    {
     "name": "stdout",
     "output_type": "stream",
     "text": [
      "{'a': 1, 'b': 2, 'c': 3, 'd': 4}\n",
      "OrderedDict([('b', 2), ('c', 3), ('d', 4), ('a', 1)])\n",
      "-----\n",
      "{'b': 0, 'c': 1, 'd': 2, 'a': 3}\n",
      "OrderedDict([('b', 2), ('c', 3), ('d', 4), ('a', 1)])\n"
     ]
    }
   ],
   "source": [
    "from collections import OrderedDict\n",
    "\n",
    "d = {}\n",
    "d['a'] = 1\n",
    "d['b'] = 2\n",
    "d['c'] = 3\n",
    "d['d'] = 4\n",
    "print(d)\n",
    "\n",
    "planned_order = ('b', 'c', 'd', 'a')\n",
    "e = OrderedDict(sorted(d.items(), key=lambda x: planned_order.index(x[0])))\n",
    "print(e)\n",
    "\n",
    "print('-----')\n",
    "# Create index to value mapping dictionary from a list of values\n",
    "planned_order = ('b', 'c', 'd', 'a')\n",
    "plan = dict(zip(planned_order, range(len(planned_order))))\n",
    "print(plan)\n",
    "\n",
    "f = OrderedDict(sorted(d.items(), key=lambda x: plan[x[0]]))\n",
    "print(f)"
   ]
  },
  {
   "cell_type": "markdown",
   "id": "6b9f35a0-361d-41ac-a503-c6d61b064ac4",
   "metadata": {},
   "source": [
    "## Exercise: Counter in JSON"
   ]
  },
  {
   "cell_type": "markdown",
   "id": "223db58a-fd19-43a5-958a-fde156c7570b",
   "metadata": {},
   "source": [
    "- Write a script that will provide several counters.\n",
    "- The user can provide an argument on the command line and the script will increment and display that counter.\n",
    "- Keep the current values of the counters in a single JSON file. The script should behave like this:\n",
    "\n",
    "```\n",
    "foo()\n",
    "1\n",
    "```\n",
    "\n",
    "```\n",
    "foo()\n",
    "2\n",
    "```\n",
    "\n",
    "```\n",
    "bar\n",
    "1\n",
    "```\n",
    "\n",
    "```\n",
    "foo()\n",
    "3\n",
    "```\n",
    "\n",
    "- Extend the exercise so if the user provides the --list flag then all the indexes are listed (and no counting is done).\n",
    "- Extend the exercise so if the user provides the --delete foo parameter then the counter foo is removed."
   ]
  },
  {
   "cell_type": "code",
   "execution_count": 31,
   "id": "ae75d2d0-461f-4527-aa6f-0a722a855736",
   "metadata": {},
   "outputs": [
    {
     "name": "stdout",
     "output_type": "stream",
     "text": [
      "foo :  7\n",
      "foo :  8\n",
      "bar :  4\n"
     ]
    }
   ],
   "source": [
    "import json\n",
    "import os\n",
    "\n",
    "\n",
    "def foo():\n",
    "    increment_counter(\"foo\")\n",
    "\n",
    "def bar():\n",
    "    increment_counter(\"bar\")\n",
    "\n",
    "\n",
    "def increment_counter(counter_name):\n",
    "    counters = load_counters()\n",
    "    if counter_name in counters:\n",
    "        counters[counter_name] += 1\n",
    "    else:\n",
    "        counters[counter_name] = 1\n",
    "    save_counters(counters)\n",
    "    print(f'{counter_name:4}: {counters[counter_name]:2}')\n",
    "\n",
    "\n",
    "def load_counters():\n",
    "    counters = {}\n",
    "    if os.path.exists(\"__Files/func_count.json\"):\n",
    "        with open(\"__Files/func_count.json\", \"r\") as file:\n",
    "            counters = json.load(file)\n",
    "    return counters\n",
    "\n",
    "\n",
    "def save_counters(counters):\n",
    "    with open(\"__Files/func_count.json\", \"w\") as file:\n",
    "        json.dump(counters, file)\n",
    "\n",
    "\n",
    "# Test the script\n",
    "foo()\n",
    "foo()\n",
    "bar()\n"
   ]
  },
  {
   "cell_type": "markdown",
   "id": "95b07e17-dadd-4462-b8b6-aeabcb61fb01",
   "metadata": {},
   "source": [
    "## Exercise: Phone book in JSON"
   ]
  },
  {
   "cell_type": "markdown",
   "id": "06fafd03-cfd3-4d34-acd7-2956abeefa89",
   "metadata": {},
   "source": [
    "Write a script that acts as a phonebook. As \"database\" use a file in JSON format.\n",
    "\n",
    "```\n",
    "add(Foo, 123)\n",
    "Foo added\n",
    "\n",
    "get(Bar)\n",
    "Bar is not in the phnebook\n",
    "\n",
    "add(Bar 456)\n",
    "Bar added\n",
    "\n",
    "get(Bar)\n",
    "456\n",
    "\n",
    "get(Foo)\n",
    "123\n",
    "```\n",
    "\n",
    "- If the user provides Bar 123 save 123 for Bar.\n",
    "- If the user provides Bar 456 tell the user Bar already has a phone number.\n",
    "- To update a phone-number the user must provide --update Bar 456\n",
    "- To remove a name the user must provide --delete Bar\n",
    "- To list all the names the user can provide --list"
   ]
  },
  {
   "cell_type": "code",
   "execution_count": 27,
   "id": "4d9b1454-07ed-416f-932d-2b1886227189",
   "metadata": {},
   "outputs": [
    {
     "name": "stdout",
     "output_type": "stream",
     "text": [
      "Added John Doe with phone number 1234567890 to the phonebook.\n",
      "Added Jane Smith with phone number 9876543210 to the phonebook.\n",
      "The phone number for John Doe is 1234567890.\n",
      "The phone number for Jane Smith is 9876543210.\n",
      "No phone number found for Alice in the phonebook.\n"
     ]
    }
   ],
   "source": [
    "import json\n",
    "import os\n",
    "\n",
    "PHONEBOOK_FILE = \"__Files/phonebook.json\"\n",
    "\n",
    "\n",
    "def add(name, number):\n",
    "    phonebook = load_phonebook()\n",
    "    phonebook[name] = number\n",
    "    save_phonebook(phonebook)\n",
    "    print(f\"Added {name} with phone number {number} to the phonebook.\")\n",
    "\n",
    "\n",
    "def get(name):\n",
    "    phonebook = load_phonebook()\n",
    "    number = phonebook.get(name)\n",
    "    if number:\n",
    "        print(f\"The phone number for {name} is {number}.\")\n",
    "    else:\n",
    "        print(f\"No phone number found for {name} in the phonebook.\")\n",
    "\n",
    "\n",
    "def load_phonebook():\n",
    "    phonebook = {}\n",
    "    if os.path.exists(PHONEBOOK_FILE):\n",
    "        with open(PHONEBOOK_FILE, \"r\") as file:\n",
    "            phonebook = json.load(file)\n",
    "    return phonebook\n",
    "\n",
    "\n",
    "def save_phonebook(phonebook):\n",
    "    with open(PHONEBOOK_FILE, \"w\") as file:\n",
    "        json.dump(phonebook, file)\n",
    "\n",
    "\n",
    "# Test the methods\n",
    "add(\"John Doe\", \"1234567890\")\n",
    "add(\"Jane Smith\", \"9876543210\")\n",
    "get(\"John Doe\")\n",
    "get(\"Jane Smith\")\n",
    "get(\"Alice\")\n"
   ]
  }
 ],
 "metadata": {
  "kernelspec": {
   "display_name": "Python 3 (ipykernel)",
   "language": "python",
   "name": "python3"
  },
  "language_info": {
   "codemirror_mode": {
    "name": "ipython",
    "version": 3
   },
   "file_extension": ".py",
   "mimetype": "text/x-python",
   "name": "python",
   "nbconvert_exporter": "python",
   "pygments_lexer": "ipython3",
   "version": "3.9.7"
  }
 },
 "nbformat": 4,
 "nbformat_minor": 5
}
