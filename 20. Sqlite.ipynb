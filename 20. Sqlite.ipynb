{
 "cells": [
  {
   "attachments": {},
   "cell_type": "markdown",
   "metadata": {},
   "source": [
    "## SQLite - Connecting to SQLite database"
   ]
  },
  {
   "cell_type": "code",
   "execution_count": 9,
   "metadata": {},
   "outputs": [],
   "source": [
    "DB_FILE_NAME = \"__FILES/companies.db\""
   ]
  },
  {
   "cell_type": "code",
   "execution_count": 2,
   "metadata": {},
   "outputs": [],
   "source": [
    "import sqlite3\n",
    "\n",
    "conn = sqlite3.connect(DB_FILE_NAME)\n",
    "\n",
    "crs = conn.cursor()\n",
    "\n",
    "# use the database here\n",
    "\n",
    "conn.close()"
   ]
  },
  {
   "attachments": {},
   "cell_type": "markdown",
   "metadata": {},
   "source": [
    "## Create TABLE in SQLite"
   ]
  },
  {
   "cell_type": "code",
   "execution_count": 10,
   "metadata": {},
   "outputs": [
    {
     "name": "stdout",
     "output_type": "stream",
     "text": [
      "sqlite error: table companies already exists\n",
      "remove companies.db to show how it works\n",
      "done\n"
     ]
    }
   ],
   "source": [
    "import sqlite3\n",
    "\n",
    "conn = sqlite3.connect(DB_FILE_NAME)\n",
    "crs = conn.cursor()\n",
    "\n",
    "sql = '''\n",
    "    CREATE TABLE companies (\n",
    "                    id          INTEGER PRIMARY KEY AUTOINCREMENT,\n",
    "                    name        VARCRCHAR(100) UNIQUE NOT NULL,\n",
    "                    established INTEGER NOT NULL,\n",
    "                    employees   INTEGER DEFAULT 0\n",
    ")\n",
    "'''\n",
    "\n",
    "try:\n",
    "    crs.execute(sql)\n",
    "except sqlite3.OperationalError as err:\n",
    "    print(f'sqlite error: {err.args[0]}')  # table companies already exists\n",
    "    print(f'remove companies.db to show how it works')\n",
    "\n",
    "conn.commit()\n",
    "\n",
    "conn.close()\n",
    "\n",
    "print('done')"
   ]
  },
  {
   "attachments": {},
   "cell_type": "markdown",
   "metadata": {},
   "source": [
    "## INSERT data into SQLite database\n"
   ]
  },
  {
   "cell_type": "code",
   "execution_count": 11,
   "metadata": {},
   "outputs": [
    {
     "name": "stdout",
     "output_type": "stream",
     "text": [
      "done\n"
     ]
    }
   ],
   "source": [
    "import sqlite3\n",
    "\n",
    "sql = 'INSERT INTO companies (name, employees, established) VALUES (?, ?, ?)'\n",
    "\n",
    "def insert_one(conn, crs):\n",
    "    company_name = 'Hostlocal'\n",
    "    employee_count = 1\n",
    "    year_of_establishment = 2000\n",
    "\n",
    "    try:\n",
    "        crs.execute(sql, (company_name, employee_count, year_of_establishment))\n",
    "    except sqlite3.IntegrityError as err:\n",
    "        print('sqlite error: ', err.args[0]) # column name is not unique\n",
    "    conn.commit()\n",
    "\n",
    "\n",
    "def insert_many(conn, crs):\n",
    "    companies = [\n",
    "        ('Google',    150_028, 1998),\n",
    "        ('Facebook',   68_177, 2003),\n",
    "        ('Apple',     154_000, 1977),\n",
    "        ('Microsoft', 181_000, 1975),\n",
    "    ]\n",
    "\n",
    "    try:\n",
    "        crs.executemany(sql, companies)\n",
    "    except sqlite3.IntegrityError as err:\n",
    "        print(f'sqlite error: {err.args[0]}')\n",
    "    conn.commit()\n",
    "\n",
    "\n",
    "def main():\n",
    "    conn = sqlite3.connect(DB_FILE_NAME)\n",
    "    crs = conn.cursor()\n",
    "    insert_one(conn, crs)\n",
    "    insert_many(conn, crs)\n",
    "    conn.close()\n",
    "    print('done')\n",
    "\n",
    "main()"
   ]
  },
  {
   "attachments": {},
   "cell_type": "markdown",
   "metadata": {},
   "source": [
    "## SELECT data from SQLite database\n"
   ]
  },
  {
   "cell_type": "code",
   "execution_count": 13,
   "metadata": {},
   "outputs": [
    {
     "name": "stdout",
     "output_type": "stream",
     "text": [
      "(2, 'Google', 1998, 150028)\n",
      "(3, 'Facebook', 2003, 68177)\n",
      "(4, 'Apple', 1977, 154000)\n",
      "(5, 'Microsoft', 1975, 181000)\n",
      "-----------\n",
      "2 - Google\n",
      "4 - Apple\n",
      "5 - Microsoft\n"
     ]
    }
   ],
   "source": [
    "import sqlite3\n",
    "\n",
    "conn = sqlite3.connect(DB_FILE_NAME)\n",
    "crs = conn.cursor()\n",
    "\n",
    "employees = 3\n",
    "\n",
    "sql = 'SELECT * FROM companies WHERE employees >= ?'\n",
    "for company in crs.execute(sql, (employees,)):\n",
    "    print(company)\n",
    "\n",
    "print('-----------')\n",
    "\n",
    "year = 2000\n",
    "sql = 'SELECT id, name FROM companies WHERE employees >= ? AND established < ?'\n",
    "for id, name in crs.execute(sql, (employees, year)):\n",
    "    print(f\"{id} - {name}\")\n",
    "\n",
    "conn.close()"
   ]
  },
  {
   "attachments": {},
   "cell_type": "markdown",
   "metadata": {},
   "source": [
    "## SELECT aggregate data from SQLite database\n"
   ]
  },
  {
   "attachments": {},
   "cell_type": "markdown",
   "metadata": {},
   "source": [
    "- If expecting only one row, call the fetchone method. If the result set might be empty, then the fetchone might return None. Check for it!"
   ]
  },
  {
   "cell_type": "code",
   "execution_count": 15,
   "metadata": {},
   "outputs": [
    {
     "name": "stdout",
     "output_type": "stream",
     "text": [
      "(3,)\n",
      "3\n",
      "(331028,)\n",
      "331028\n"
     ]
    }
   ],
   "source": [
    "import sqlite3\n",
    "\n",
    "conn = sqlite3.connect(DB_FILE_NAME)\n",
    "crs = conn.cursor()\n",
    "\n",
    "employees = 3\n",
    "year = 2000\n",
    "\n",
    "sql = 'SELECT COUNT(id) FROM companies WHERE employees >= ? AND established < ?'\n",
    "crs.execute(sql, (employees, year))\n",
    "row = crs.fetchone()\n",
    "print(row)\n",
    "print(row[0])\n",
    "\n",
    "name = '%o%'\n",
    "sql = 'SELECT SUM(employees) FROM companies WHERE name LIKE ? AND established < ?'\n",
    "crs.execute(sql, (name, year))\n",
    "row = crs.fetchone()\n",
    "print(row)\n",
    "print(row[0])\n",
    "\n",
    "\n",
    "conn.close()"
   ]
  },
  {
   "attachments": {},
   "cell_type": "markdown",
   "metadata": {},
   "source": [
    "## SELECT data from SQLite database into dictionaries\n"
   ]
  },
  {
   "cell_type": "code",
   "execution_count": 16,
   "metadata": {},
   "outputs": [
    {
     "name": "stdout",
     "output_type": "stream",
     "text": [
      "2 - Google - 150028 - 1998\n",
      "4 - Apple - 154000 - 1977\n",
      "5 - Microsoft - 181000 - 1975\n"
     ]
    }
   ],
   "source": [
    "import sqlite3\n",
    "\n",
    "conn = sqlite3.connect(DB_FILE_NAME)\n",
    "conn.row_factory = sqlite3.Row\n",
    "\n",
    "crs = conn.cursor()\n",
    "\n",
    "employees = 0\n",
    "year = 2000\n",
    "\n",
    "sql = 'SELECT * FROM companies WHERE employees >= ? AND established < ?'\n",
    "for company in crs.execute(sql, (employees, year)):\n",
    "    # returns sqlite3.Row objects, but they can also act as dictionaries\n",
    "    print(f\"{company['id']} - {company['name']} - {company['employees']} - {company['established']}\")\n",
    "\n",
    "conn.close()"
   ]
  },
  {
   "attachments": {},
   "cell_type": "markdown",
   "metadata": {},
   "source": [
    "## UPDATE data in SQLite database\n"
   ]
  },
  {
   "attachments": {},
   "cell_type": "markdown",
   "metadata": {},
   "source": [
    "- UPDATE works quite similar, but it might have a WHERE clause.\n"
   ]
  },
  {
   "cell_type": "code",
   "execution_count": 17,
   "metadata": {},
   "outputs": [
    {
     "name": "stdout",
     "output_type": "stream",
     "text": [
      "-----------\n",
      "Hostlocal - 2\n",
      "Google - 150028\n",
      "Facebook - 68177\n",
      "Apple - 154000\n",
      "Microsoft - 181000\n"
     ]
    }
   ],
   "source": [
    "\n",
    "conn = sqlite3.connect(DB_FILE_NAME)\n",
    "crs = conn.cursor()\n",
    "\n",
    "name = 'Hostlocal'\n",
    "\n",
    "sql = 'SELECT employees FROM companies WHERE name = ?'\n",
    "crs.execute(sql, (name,))\n",
    "row = crs.fetchone()\n",
    "employees = row[0]\n",
    "\n",
    "\n",
    "sql = 'UPDATE companies SET employees=? WHERE name = ?'\n",
    "crs.execute(sql, (employees+1, name))\n",
    "conn.commit()\n",
    "\n",
    "print('-----------')\n",
    "\n",
    "sql = 'SELECT name, employees FROM companies'\n",
    "for name, employees in crs.execute(sql):\n",
    "    print(f\"{name} - {employees}\")\n",
    "\n",
    "\n",
    "conn.close()"
   ]
  }
 ],
 "metadata": {
  "kernelspec": {
   "display_name": "Python 3",
   "language": "python",
   "name": "python3"
  },
  "language_info": {
   "codemirror_mode": {
    "name": "ipython",
    "version": 3
   },
   "file_extension": ".py",
   "mimetype": "text/x-python",
   "name": "python",
   "nbconvert_exporter": "python",
   "pygments_lexer": "ipython3",
   "version": "3.9.13"
  },
  "orig_nbformat": 4
 },
 "nbformat": 4,
 "nbformat_minor": 2
}
