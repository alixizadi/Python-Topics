{
 "cells": [
  {
   "cell_type": "markdown",
   "id": "37c0b08f-1446-4b40-a8e4-6a25cb7371aa",
   "metadata": {},
   "source": [
    "## Exception handling"
   ]
  },
  {
   "cell_type": "markdown",
   "id": "55750ab5-5ec6-4426-982e-df50de4b5e47",
   "metadata": {},
   "source": [
    "## Hierarchy of calls"
   ]
  },
  {
   "cell_type": "code",
   "execution_count": null,
   "id": "95a47da7-280e-406a-b38f-598f28309bcb",
   "metadata": {},
   "outputs": [],
   "source": [
    "main()\n",
    "    some_process()\n",
    "        for filename in some_list:\n",
    "            handle_file(filename)\n",
    "                private_module.deal_with_file(filename)\n",
    "                    private_module._helper_function(filename)\n",
    "                       public_module.process_file(filename)\n",
    "                           with open(filename) as fh:\n",
    "                               pass"
   ]
  },
  {
   "cell_type": "markdown",
   "id": "3ccab153-9aa0-4569-82cc-04e48d895bad",
   "metadata": {},
   "source": [
    "## Handling errors as return values"
   ]
  },
  {
   "cell_type": "markdown",
   "id": "e9d50d51-ec47-4dd4-90a8-8ab360c7a2d5",
   "metadata": {},
   "source": [
    "- Each function that fails returns some error indicator. None ? An object that has and attribute \"error\"?\n",
    "- None would be bad as that cannot indicate different errors.\n",
    "- Every called needs to check if the function returned error. If at any point we forget our system might run with hidden failures."
   ]
  },
  {
   "cell_type": "code",
   "execution_count": 1,
   "id": "420501bd-3ddf-492f-baa2-69134e91da00",
   "metadata": {},
   "outputs": [
    {
     "ename": "SyntaxError",
     "evalue": "expected ':' (2823079409.py, line 1)",
     "output_type": "error",
     "traceback": [
      "\u001b[1;36m  Cell \u001b[1;32mIn[1], line 1\u001b[1;36m\u001b[0m\n\u001b[1;33m    def some_function()\u001b[0m\n\u001b[1;37m                       ^\u001b[0m\n\u001b[1;31mSyntaxError\u001b[0m\u001b[1;31m:\u001b[0m expected ':'\n"
     ]
    }
   ],
   "source": [
    "def some_function()\n",
    "    result = do_something(filename)\n",
    "    if result:\n",
    "        do_something_else(result)\n",
    "    else:\n",
    "        return result\n",
    "\n",
    "\n",
    "result = some_function()"
   ]
  },
  {
   "cell_type": "markdown",
   "id": "3a4284f7-9b1a-4de0-a96b-a697c9d3809f",
   "metadata": {},
   "source": [
    "If we forget to check the result and pass it on, we might get some error in the code that is quite far from where the error actually happened\n"
   ]
  },
  {
   "cell_type": "raw",
   "id": "7fb637f4-ccef-4967-9730-a2a55cf8a3eb",
   "metadata": {},
   "source": [
    "main()\n",
    "    ...\n",
    "    result = do_something(filename)\n",
    "    ...\n",
    "    ...\n",
    "    do_something_else(result)"
   ]
  },
  {
   "cell_type": "markdown",
   "id": "9707562b-9e21-4a39-b6f5-b9ee262a88ff",
   "metadata": {},
   "source": [
    "This can happen even if we don't pass the result around:\n"
   ]
  },
  {
   "cell_type": "raw",
   "id": "1d9342c2-f81f-44ef-ba94-464e4dfbd2a0",
   "metadata": {},
   "source": [
    "main()\n",
    "    ...\n",
    "    do_something(filename)\n",
    "    ...\n",
    "    ...\n",
    "    do_something_else_assuming_the_other_worked()"
   ]
  },
  {
   "cell_type": "markdown",
   "id": "e94b6e99-dc27-46b4-899d-1137b4741354",
   "metadata": {},
   "source": [
    "## Handling errors as exceptions"
   ]
  },
  {
   "cell_type": "markdown",
   "id": "7337ba13-e4ed-4860-9d7b-1752327b4e40",
   "metadata": {},
   "source": [
    "Only need to explicitly check for it at the level where we know what to do with the problem.\n",
    "But: Do we want our pacemaker to stop totally after missing one beat? Probably not. Or better yet: not when it is in production."
   ]
  },
  {
   "cell_type": "raw",
   "id": "f4b40085-a09a-4922-825a-e1fa0dbfb82b",
   "metadata": {},
   "source": [
    "main()\n",
    "    ...\n",
    "    try:\n",
    "        ...\n",
    "        result = do_something(filename)\n",
    "        do_something_else(result)\n",
    "    except Exception:\n",
    "        decide_what_to_do()\n",
    "\n",
    "    always_happens()"
   ]
  },
  {
   "cell_type": "markdown",
   "id": "8b42915d-e540-4361-9199-164aa3b76124",
   "metadata": {},
   "source": [
    "## A simple exception"
   ]
  },
  {
   "cell_type": "markdown",
   "id": "d23077cf-03dc-43c3-8651-1dcc06de539a",
   "metadata": {},
   "source": [
    "- When something goes wrong, Python throws (raises) an exception. For example, trying to divide a number by 0 won't work. If the exception is not handled, it will end the execution.\n",
    "\n",
    "- In some programming languages we use the expression \"throwing an exception\" in other languages the expression is \"raising an exception\". I use the two expressions interchangeably.\n",
    "\n",
    "- In the next simple example, Python will print the string before the division, then it will throw an exception, printing it to the standard error that is the screen by default. Then the script stops working and the string \"after\" is not printed."
   ]
  },
  {
   "cell_type": "code",
   "execution_count": null,
   "id": "2c727f68-3e39-458e-b58f-aa1b1a6ad734",
   "metadata": {},
   "outputs": [],
   "source": [
    "def div(a, b):\n",
    "    print(\"before\")\n",
    "    print(a/b)\n",
    "    print(\"after\")\n",
    "\n",
    "div(1, 0)\n",
    "\n",
    "# before\n",
    "# Traceback (most recent call last):\n",
    "#   File \"examples/exceptions/divide_by_zero.py\", line 8, in <module>\n",
    "#     div(1, 0)\n",
    "#   File \"examples/exceptions/divide_by_zero.py\", line 5, in div\n",
    "#     print(a/b)\n",
    "# ZeroDivisionError: integer division or modulo by zero"
   ]
  },
  {
   "cell_type": "markdown",
   "id": "37dc203b-c659-4ede-84d9-12ece8477ad2",
   "metadata": {},
   "source": [
    "## Prevention"
   ]
  },
  {
   "cell_type": "markdown",
   "id": "661a9bac-0cba-49cf-98b2-49d623a6f3b2",
   "metadata": {},
   "source": [
    "- We might try to prevent the exceptions generated by the system, but even if succeed in preventing it, how do we indicate that there was an issue? For example with the input?"
   ]
  },
  {
   "cell_type": "code",
   "execution_count": 4,
   "id": "e861ff2b-0cad-4ef8-95f2-0be4067da90a",
   "metadata": {},
   "outputs": [
    {
     "name": "stdout",
     "output_type": "stream",
     "text": [
      "Cannot divide by zero\n"
     ]
    }
   ],
   "source": [
    "def div(a, b):\n",
    "    if b == 0:\n",
    "        # raise Exception(\"Cannot divide by zero\")\n",
    "        print(\"Cannot divide by zero\")\n",
    "        return None\n",
    "\n",
    "    print(\"before\")\n",
    "    print(a/b)\n",
    "    print(\"after\")\n",
    "\n",
    "div(1, 0)"
   ]
  },
  {
   "cell_type": "markdown",
   "id": "2bd7f5e5-b1c6-4ce4-ba67-995c6b1db729",
   "metadata": {},
   "source": [
    "## Working on a list"
   ]
  },
  {
   "cell_type": "markdown",
   "id": "1008e46e-21fd-43c1-9dd3-3cf1faa7d328",
   "metadata": {},
   "source": [
    "- In a slightly more interesting example we have a list of values. We would like to divide a number by each one of the values.\n",
    "\n",
    "- As you can see one of the values is 0 which will generate and exception.\n",
    "\n",
    "- The loop will finish early."
   ]
  },
  {
   "cell_type": "code",
   "execution_count": 5,
   "id": "2a731f76-b015-4743-a2ec-bd6098cd3bbf",
   "metadata": {},
   "outputs": [
    {
     "name": "stdout",
     "output_type": "stream",
     "text": [
      "dividing 100 by 2 is 50.0\n",
      "dividing 100 by 5 is 20.0\n"
     ]
    },
    {
     "ename": "ZeroDivisionError",
     "evalue": "division by zero",
     "output_type": "error",
     "traceback": [
      "\u001b[1;31m---------------------------------------------------------------------------\u001b[0m",
      "\u001b[1;31mZeroDivisionError\u001b[0m                         Traceback (most recent call last)",
      "Cell \u001b[1;32mIn[5], line 8\u001b[0m\n\u001b[0;32m      5\u001b[0m values \u001b[38;5;241m=\u001b[39m [\u001b[38;5;241m2\u001b[39m, \u001b[38;5;241m5\u001b[39m, \u001b[38;5;241m0\u001b[39m, \u001b[38;5;241m4\u001b[39m]\n\u001b[0;32m      7\u001b[0m \u001b[38;5;28;01mfor\u001b[39;00m val \u001b[38;5;129;01min\u001b[39;00m values:\n\u001b[1;32m----> 8\u001b[0m     \u001b[43mdiv\u001b[49m\u001b[43m(\u001b[49m\u001b[43mtotal\u001b[49m\u001b[43m,\u001b[49m\u001b[43m \u001b[49m\u001b[43mval\u001b[49m\u001b[43m)\u001b[49m\n\u001b[0;32m     10\u001b[0m \u001b[38;5;66;03m# dividing 100 by 2 is 50.0\u001b[39;00m\n\u001b[0;32m     11\u001b[0m \u001b[38;5;66;03m# dividing 100 by 5 is 20.0\u001b[39;00m\n\u001b[0;32m     12\u001b[0m \u001b[38;5;66;03m# Traceback (most recent call last):\u001b[39;00m\n\u001b[0;32m     13\u001b[0m \u001b[38;5;66;03m# ...\u001b[39;00m\n\u001b[0;32m     14\u001b[0m \u001b[38;5;66;03m# ZeroDivisionError: division by zero\u001b[39;00m\n",
      "Cell \u001b[1;32mIn[5], line 2\u001b[0m, in \u001b[0;36mdiv\u001b[1;34m(a, b)\u001b[0m\n\u001b[0;32m      1\u001b[0m \u001b[38;5;28;01mdef\u001b[39;00m \u001b[38;5;21mdiv\u001b[39m(a, b):\n\u001b[1;32m----> 2\u001b[0m     \u001b[38;5;28mprint\u001b[39m(\u001b[38;5;124m\"\u001b[39m\u001b[38;5;124mdividing \u001b[39m\u001b[38;5;132;01m{}\u001b[39;00m\u001b[38;5;124m by \u001b[39m\u001b[38;5;132;01m{}\u001b[39;00m\u001b[38;5;124m is \u001b[39m\u001b[38;5;132;01m{}\u001b[39;00m\u001b[38;5;124m\"\u001b[39m\u001b[38;5;241m.\u001b[39mformat(a, b, \u001b[43ma\u001b[49m\u001b[38;5;241;43m/\u001b[39;49m\u001b[43mb\u001b[49m))\n",
      "\u001b[1;31mZeroDivisionError\u001b[0m: division by zero"
     ]
    }
   ],
   "source": [
    "def div(a, b):\n",
    "    print(\"dividing {} by {} is {}\".format(a, b, a/b))\n",
    "\n",
    "total = 100\n",
    "values = [2, 5, 0, 4]\n",
    "\n",
    "for val in values:\n",
    "    div(total, val)\n",
    "\n",
    "# dividing 100 by 2 is 50.0\n",
    "# dividing 100 by 5 is 20.0\n",
    "# Traceback (most recent call last):\n",
    "# ...\n",
    "# ZeroDivisionError: division by zero"
   ]
  },
  {
   "cell_type": "markdown",
   "id": "7d1f9560-8489-4d62-b395-29de221a4156",
   "metadata": {},
   "source": [
    "- We can't repair the case where the code tries to divide by 0, but it would be nice if we could get the rest of the results as well."
   ]
  },
  {
   "cell_type": "markdown",
   "id": "bc065449-4355-48a6-8390-fa227b37b815",
   "metadata": {},
   "source": [
    "## Catch ZeroDivisionError exception"
   ]
  },
  {
   "cell_type": "markdown",
   "id": "4f05d7c9-8ce6-4944-95f2-0353ab3585e0",
   "metadata": {},
   "source": [
    "- For that, we'll wrap the critical part of the code in a \"try\" block. After the \"try\" block we need to provide a list of exception that are caught by this try-block.\n",
    "- You could say something like \"Try this code and let all the exceptions propagate, except of the ones I listed\".\n",
    "- As we saw in the previous example, the specific error is called ZeroDivisionError.\n",
    "\n",
    "- If the specified exception occurs within the try: block, instead of the script ending, only the try block end and the except: block is executed."
   ]
  },
  {
   "cell_type": "code",
   "execution_count": 7,
   "id": "9f55968c-bce5-4cb7-bfae-3c79d3456232",
   "metadata": {},
   "outputs": [
    {
     "name": "stdout",
     "output_type": "stream",
     "text": [
      "dividing 100 by 2 is 50.0\n",
      "dividing 100 by 5 is 20.0\n",
      "dividing 100 by 4 is 25.0\n"
     ]
    },
    {
     "name": "stderr",
     "output_type": "stream",
     "text": [
      "Cannot divide by 0\n"
     ]
    }
   ],
   "source": [
    "import sys\n",
    "\n",
    "def div(a, b):\n",
    "    print(\"dividing {} by {} is {}\".format(a, b, a/b))\n",
    "\n",
    "total = 100\n",
    "values = [2, 5, 0, 4]\n",
    "\n",
    "for val in values:\n",
    "    try:\n",
    "        div(total, val)\n",
    "    except ZeroDivisionError:\n",
    "        print(\"Cannot divide by 0\", file=sys.stderr)\n",
    "\n",
    "# dividing 100 by 2 is 50.0\n",
    "# dividing 100 by 5 is 20.0\n",
    "# Cannot divide by 0\n",
    "# dividing 100 by 4 is 25.0"
   ]
  },
  {
   "cell_type": "markdown",
   "id": "44d06352-7a49-42ee-8845-69b7c0e38d3a",
   "metadata": {},
   "source": [
    "## Module to open files and calculate something"
   ]
  },
  {
   "cell_type": "markdown",
   "id": "bf9902e0-29d2-4721-8466-71f04cc9c162",
   "metadata": {},
   "source": [
    "- Of course in the previous example, it would be probably much easier if we just checked if the number was 0, before trying to divide with it. There are many other cases when this is not possible. For example it is impossible to check if open a file will succeed, without actually trying to open the file.\n",
    "\n",
    "- In this example we open the file, read the first line which is a number and use that for division.\n",
    "\n",
    "- When the `open()` fails, Python throws an FileNotFoundError exception."
   ]
  },
  {
   "cell_type": "code",
   "execution_count": 8,
   "id": "0f951fc4-3781-4583-8cfc-0083eebdf46e",
   "metadata": {},
   "outputs": [],
   "source": [
    "def read_and_divide(filename):\n",
    "    print(\"before \" + filename)\n",
    "    with open(filename, 'r') as fh:\n",
    "        number = int(fh.readline())\n",
    "        print(100 / number)\n",
    "    print(\"after  \" + filename)"
   ]
  },
  {
   "cell_type": "markdown",
   "id": "71fe662d-a952-40c5-9039-ecbedf44bbb8",
   "metadata": {},
   "source": [
    "## File for exception handling example"
   ]
  },
  {
   "cell_type": "markdown",
   "id": "a44a3c8b-a236-421a-a968-1313277a7979",
   "metadata": {},
   "source": [
    "- If we have a list of files and we would like to make sure we process as many as possible without any problem caused in the middle, we can catch the exception.\n",
    "\n",
    "- We have the following list of files. Notice that \"two.txt\" is missing and \"zero.txt\" has a 0 in it.\n",
    "\n",
    "```\n",
    "examples/exceptions/zero.txt\n",
    "0\n",
    "\n",
    "examples/exceptions/one.txt\n",
    "1\n",
    "\n",
    "File two.txt is missing on purpose.\n",
    "\n",
    "examples/exceptions/three.txt\n",
    "3\n",
    "```\n"
   ]
  },
  {
   "cell_type": "markdown",
   "id": "532abe84-b725-4552-a984-e9233001d47f",
   "metadata": {},
   "source": [
    "## Open files - exception"
   ]
  },
  {
   "cell_type": "code",
   "execution_count": null,
   "id": "2c9cf07b-091d-4f67-88ad-a899ee979038",
   "metadata": {},
   "outputs": [],
   "source": [
    "import sys\n",
    "import module\n",
    "\n",
    "files = sys.argv[1:]\n",
    "\n",
    "for filename in files:\n",
    "    module.read_and_divide(filename)\n",
    "\n",
    "# before one.txt\n",
    "# 100.0\n",
    "# after  one.txt\n",
    "# before zero.txt\n",
    "# Traceback (most recent call last):\n",
    "# ...\n",
    "# ZeroDivisionError: division by zero\n"
   ]
  },
  {
   "cell_type": "markdown",
   "id": "f7c96c1e-3f43-4880-a557-f2f6d7fdd4e4",
   "metadata": {},
   "source": [
    "## Handle divide by zero exception"
   ]
  },
  {
   "cell_type": "code",
   "execution_count": null,
   "id": "ffd55c75-c4c3-4627-8c68-32de3fe63b09",
   "metadata": {},
   "outputs": [],
   "source": [
    "# Running this code will the ZeroDivisionError exception, but it will die with a FileNotFoundError exception.\n",
    "\n",
    "import sys\n",
    "import module\n",
    "\n",
    "files = sys.argv[1:]\n",
    "\n",
    "for filename in files:\n",
    "    try:\n",
    "        module.read_and_divide(filename)\n",
    "    except ZeroDivisionError:\n",
    "        print(f\"Cannot divide by 0 in file '{filename}'\", file=sys.stderr)\n",
    "    print('')\n",
    "\n",
    "# before one.txt\n",
    "# 100.0\n",
    "# after  one.txt\n",
    "\n",
    "# before zero.txt\n",
    "# Cannot divide by 0 in file 'zero.txt'\n",
    "\n",
    "# before two.txt\n",
    "# FileNotFoundError: [Errno 2] No such file or directory: 'two.txt'\n"
   ]
  },
  {
   "cell_type": "markdown",
   "id": "62db034b-60d5-4d19-8d36-341c84b48625",
   "metadata": {},
   "source": [
    "## Handle files - exception"
   ]
  },
  {
   "cell_type": "code",
   "execution_count": null,
   "id": "7ef57a43-4244-49de-83b1-44170bd9aa14",
   "metadata": {},
   "outputs": [],
   "source": [
    "# We can add multiple \"except\" statement at the end of the \"try\" block and handle several exceptions. Each one in a different way.\n",
    "\n",
    "import sys\n",
    "import module\n",
    "\n",
    "files = sys.argv[1:]\n",
    "\n",
    "for filename in files:\n",
    "    try:\n",
    "        module.read_and_divide(filename)\n",
    "    except ZeroDivisionError:\n",
    "        print(f\"Cannot divide by 0 in file '{filename}'\", file=sys.stderr)\n",
    "    except FileNotFoundError:\n",
    "        print(f\"Cannot open file '{filename}'\", file=sys.stderr)\n",
    "    print('')\n",
    "\n",
    "# before one.txt\n",
    "# 100.0\n",
    "# after  one.txt\n",
    "\n",
    "# before zero.txt\n",
    "# Cannot divide by 0 in file 'zero.txt'\n",
    "\n",
    "# before two.txt\n",
    "# Cannot open file 'two.txt'\n",
    "\n",
    "# before three.txt\n",
    "# 33.333333333333336\n",
    "# after  three.txt"
   ]
  },
  {
   "cell_type": "markdown",
   "id": "606a0171-c809-46b0-b727-854a3d6c9400",
   "metadata": {},
   "source": [
    "## Catch all the exceptions and show their type"
   ]
  },
  {
   "cell_type": "code",
   "execution_count": null,
   "id": "6a56dff8-939f-4d70-9cc4-53d80f5f067c",
   "metadata": {},
   "outputs": [],
   "source": [
    "# We can also use the \"except Exception\" to catch all exceptions. In this case we might want to also print out the text and the type of the exception by ourselves.\n",
    "\n",
    "\n",
    "import sys\n",
    "import module\n",
    "\n",
    "files = sys.argv[1:]\n",
    "\n",
    "for filename in files:\n",
    "    try:\n",
    "        module.read_and_divide(filename)\n",
    "    except Exception as err:\n",
    "        print(f\"  There was a problem in '{filename}'\", file=sys.stderr)\n",
    "        print(f\"  Text: {err}\", file=sys.stderr)\n",
    "        print(f\"  Name: {type(err).__name__}\", file=sys.stderr)\n",
    "    print('')\n",
    "\n",
    "# before one.txt\n",
    "# 100.0\n",
    "# after  one.txt\n",
    "\n",
    "# before zero.txt\n",
    "#   There was a problem in 'zero.txt'\n",
    "#   Text: division by zero\n",
    "#   Name: ZeroDivisionError\n",
    "\n",
    "# before two.txt\n",
    "#   There was a problem in 'two.txt'\n",
    "#   Text: [Errno 2] No such file or directory: 'two.txt'\n",
    "#   Name: FileNotFoundError\n",
    "\n",
    "# before three.txt\n",
    "# 33.333333333333336\n",
    "# after  three.txt"
   ]
  },
  {
   "cell_type": "markdown",
   "id": "ed04e4ce-4cea-477f-8255-de7c304b23f8",
   "metadata": {},
   "source": [
    "## List exception types"
   ]
  },
  {
   "cell_type": "code",
   "execution_count": null,
   "id": "82528420-93e9-429d-902d-dda841edae4f",
   "metadata": {},
   "outputs": [],
   "source": [
    "# We can list more than one exceptions to be caught one after the other in a single \"except\" statement.\n",
    "\n",
    "except (ZeroDivisionError, FileNotFoundError):\n",
    "\n",
    "\n",
    "import sys\n",
    "import module\n",
    "\n",
    "files = sys.argv[1:]\n",
    "\n",
    "for filename in files:\n",
    "    try:\n",
    "        module.read_and_divide(filename)\n",
    "    except (ZeroDivisionError, FileNotFoundError) as err:\n",
    "        print(f\"We have a problem with file '{filename}'\", file=sys.stderr)\n",
    "        print(f\"Exception type {err.__class__.__name__}\", file=sys.stderr)\n",
    "    print('')\n",
    "\n",
    "# before one.txt\n",
    "# 100.0\n",
    "# after  one.txt\n",
    "\n",
    "# before zero.txt\n",
    "# We have a problem with file 'zero.txt'\n",
    "# Exception type ZeroDivisionError\n",
    "\n",
    "# before two.txt\n",
    "# We have a problem with file 'two.txt'\n",
    "# Exception type FileNotFoundError\n",
    "\n",
    "# before three.txt\n",
    "# 33.333333333333336\n",
    "# after  three.txt"
   ]
  },
  {
   "cell_type": "markdown",
   "id": "79ff4757-a0f8-4759-a2a6-43aba506c4dc",
   "metadata": {},
   "source": [
    "## Hierarchy of Exceptions"
   ]
  },
  {
   "cell_type": "markdown",
   "id": "e90e27cc-b5c1-4480-832f-fa5f0a32422d",
   "metadata": {},
   "source": [
    "- There are many kinds of exceptions in Python and each module can define its own exception types as well. On this page you'll find the list and hierarchy of exceptions in Python.\n",
    "\n",
    "https://docs.python.org/library/exceptions.html#exception-hierarchy\n"
   ]
  },
  {
   "cell_type": "markdown",
   "id": "162a6497-d97c-4a6f-a467-a497528a3482",
   "metadata": {},
   "source": [
    "## Order of exception handling - bad"
   ]
  },
  {
   "cell_type": "markdown",
   "id": "b46b5672-6842-4715-9cef-e18e6b685b53",
   "metadata": {},
   "source": [
    "- Both exception are caught by the first except entry"
   ]
  },
  {
   "cell_type": "code",
   "execution_count": null,
   "id": "2e5a3408-7dc4-4cc1-88ee-863207d7f15b",
   "metadata": {},
   "outputs": [],
   "source": [
    "import sys\n",
    "import module\n",
    "\n",
    "files = sys.argv[1:]\n",
    "\n",
    "for filename in files:\n",
    "    try:\n",
    "        module.read_and_divide(filename)\n",
    "    except Exception as err:\n",
    "        print(f\"General error {err}\")\n",
    "        print(f\"Error class: {err.__class__.__name__}\")\n",
    "    except ZeroDivisionError:\n",
    "        print(\"ZeroDivisionError\")\n",
    "        print(f\"Cannot divide by 0 in file '{filename}'\")\n",
    "    print('')\n",
    "\n",
    "# before one.txt\n",
    "# 100.0\n",
    "# after  one.txt\n",
    "\n",
    "# before zero.txt\n",
    "# General error division by zero\n",
    "# Error class: ZeroDivisionError\n",
    "\n",
    "# before two.txt\n",
    "# General error [Errno 2] No such file or directory: 'two.txt'\n",
    "# Error class: FileNotFoundError\n",
    "\n",
    "# before three.txt\n",
    "# 33.333333333333336\n",
    "# after  three.txt\n",
    "\n",
    "\n"
   ]
  },
  {
   "cell_type": "markdown",
   "id": "786be0fe-e4ea-46b7-af74-bf5fae17a25c",
   "metadata": {},
   "source": [
    "## Order of exception handling - good"
   ]
  },
  {
   "cell_type": "markdown",
   "id": "c5fdcad6-c2ca-4711-a19a-ac0723ec100c",
   "metadata": {},
   "source": [
    "- Always try to handle the more specific exceptions first"
   ]
  },
  {
   "cell_type": "code",
   "execution_count": null,
   "id": "51b1d363-2ce5-4a69-bd2f-97e2bd192e8b",
   "metadata": {},
   "outputs": [],
   "source": [
    "import sys\n",
    "import module\n",
    "\n",
    "files = sys.argv[1:]\n",
    "\n",
    "for filename in files:\n",
    "    try:\n",
    "        module.read_and_divide(filename)\n",
    "    except ZeroDivisionError:\n",
    "        print(\"ZeroDivisionError\")\n",
    "        print(f\"Cannot divide by 0 in file '{filename}'\")\n",
    "    except Exception as err:\n",
    "        print(f\"General error {err}\")\n",
    "        print(f\"Error class: {err.__class__.__name__}\")\n",
    "    print('')\n",
    "\n",
    "# before one.txt\n",
    "# 100.0\n",
    "# after  one.txt\n",
    "\n",
    "# before zero.txt\n",
    "# ZeroDivisionError\n",
    "# Cannot divide by 0 in file 'zero.txt'\n",
    "\n",
    "# before two.txt\n",
    "# General error [Errno 2] No such file or directory: 'two.txt'\n",
    "# Error class: FileNotFoundError\n",
    "\n",
    "# before three.txt\n",
    "# 33.333333333333336\n",
    "# after  three.txt\n",
    "\n",
    "\n"
   ]
  },
  {
   "cell_type": "markdown",
   "id": "d0eb8a91-fc0e-45f7-b710-418cb62da5df",
   "metadata": {},
   "source": [
    "## How to raise an exception"
   ]
  },
  {
   "cell_type": "markdown",
   "id": "9c8a61f9-1e2b-4486-9c1e-7f0afba8f427",
   "metadata": {},
   "source": [
    "- As you create more and more complex applications you'll reach a point where you write a function, probably in a module, that needs to report some error condition. You can raise an exception in a simple way."
   ]
  },
  {
   "cell_type": "code",
   "execution_count": null,
   "id": "d231e3ab-e3db-43ba-9c97-1d1bd51c3217",
   "metadata": {},
   "outputs": [],
   "source": [
    "def add_material(name, amount):\n",
    "    if amount <= 0:\n",
    "        raise Exception(f\"Amount of {name} must be positive. {amount} was given.\")\n",
    "    print(f\"Adding {name}: {amount}\")\n",
    "\n",
    "def main():\n",
    "    things_to_add = (\n",
    "        (\"apple\", 3),\n",
    "        (\"sugar\", -1),\n",
    "        (\"banana\", 2),\n",
    "    )\n",
    "\n",
    "    for name, amount in things_to_add:\n",
    "        try:\n",
    "            add_material(name, amount)\n",
    "        except Exception as err:\n",
    "            print(f\"Exception: {err}\")\n",
    "            print(\"Type: \" + type(err).__name__)\n",
    "\n",
    "main()\n",
    "\n",
    "\n",
    "# Adding apple: 3\n",
    "# Exception: Amount of sugar must be positive. -1 was given.\n",
    "# Type: Exception\n",
    "# Adding banana: 2"
   ]
  },
  {
   "cell_type": "markdown",
   "id": "429ceff7-d21a-467b-8cf3-5ec7696fa166",
   "metadata": {},
   "source": [
    "## Raise ValueError exception"
   ]
  },
  {
   "cell_type": "markdown",
   "id": "40db0bf5-a2c4-443b-bc9f-1911d57c6905",
   "metadata": {},
   "source": [
    "- You can be more specific with your error type and raise a ValueError."
   ]
  },
  {
   "cell_type": "code",
   "execution_count": null,
   "id": "21077fbb-33c2-41de-b904-16b17cd8e3fe",
   "metadata": {},
   "outputs": [],
   "source": [
    "def add_material(name, amount):\n",
    "    if amount <= 0:\n",
    "        raise ValueError(f\"Amount of {name} must be positive. {amount} was given.\")\n",
    "    print(f\"Adding {name}: {amount}\")\n",
    "\n",
    "def main():\n",
    "    things_to_add = (\n",
    "        (\"apple\", 3),\n",
    "        (\"sugar\", -1),\n",
    "        (\"banana\", 2),\n",
    "    )\n",
    "\n",
    "    for name, amount in things_to_add:\n",
    "        try:\n",
    "            add_material(name, amount)\n",
    "        except Exception as err:\n",
    "            print(f\"Exception: {err}\")\n",
    "            print(\"Type: \" + type(err).__name__)\n",
    "\n",
    "main()\n",
    "\n",
    "\n",
    "\n",
    "\n",
    "# Adding apple: 3\n",
    "# Exception: Amount of sugar must be positive. -1 was given.\n",
    "# Type: ValueError\n",
    "# Adding banana: 2"
   ]
  },
  {
   "cell_type": "markdown",
   "id": "cdb1484b-16f5-4c9f-8684-da357c725dbd",
   "metadata": {},
   "source": [
    "## Stack trace of exceptions"
   ]
  },
  {
   "cell_type": "code",
   "execution_count": null,
   "id": "e3c80d0e-0834-4fa3-9473-e086b7102085",
   "metadata": {},
   "outputs": [],
   "source": [
    "import traceback\n",
    "\n",
    "def bar():\n",
    "    foo()\n",
    "\n",
    "def foo():\n",
    "    raise Exception(\"hi\")\n",
    "\n",
    "def main():\n",
    "    try:\n",
    "        bar()\n",
    "    except Exception as err:\n",
    "        track = traceback.format_exc()\n",
    "        print(\"The caught:\\n\")\n",
    "        print(track)\n",
    "\n",
    "    print(\"---------------------\")\n",
    "    print(\"The original:\\n\")\n",
    "    bar()\n",
    "\n",
    "\n",
    "main()\n",
    "\n",
    "\n",
    "\n",
    "# The caught:\n",
    "\n",
    "# Traceback (most recent call last):\n",
    "#   File \"stack_trace.py\", line 11, in main\n",
    "#     bar()\n",
    "#   File \"stack_trace.py\", line 4, in bar\n",
    "#     foo()\n",
    "#   File \"stack_trace.py\", line 7, in foo\n",
    "#     raise Exception(\"hi\")\n",
    "# Exception: hi\n",
    "\n",
    "# ---------------------\n",
    "# The original:\n",
    "\n",
    "# Traceback (most recent call last):\n",
    "#   File \"stack_trace.py\", line 20, in <module>\n",
    "#     main()\n",
    "#   File \"stack_trace.py\", line 17, in main\n",
    "#     bar()\n",
    "#   File \"stack_trace.py\", line 4, in bar\n",
    "#     foo()\n",
    "#   File \"stack_trace.py\", line 7, in foo\n",
    "#     raise Exception(\"hi\")\n",
    "# Exception: hi\n"
   ]
  },
  {
   "cell_type": "markdown",
   "id": "42cfe2ed-ead0-4b2e-9f11-79f48083bc54",
   "metadata": {},
   "source": [
    "## No need for exception to print Stack trace"
   ]
  },
  {
   "cell_type": "code",
   "execution_count": null,
   "id": "21ccd53f-8114-40b4-9fee-5d94b48ff7d3",
   "metadata": {},
   "outputs": [],
   "source": [
    "import traceback\n",
    "\n",
    "def foo():\n",
    "  bar()\n",
    "\n",
    "def bar():\n",
    "    #print(traceback.extract_stack())\n",
    "    print(''.join(traceback.format_stack()))\n",
    "\n",
    "foo()\n",
    "print(\"done\")\n",
    "\n",
    "#   File \"python/examples/other/print_stack_trace.py\", line 10, in <module>\n",
    "#     foo()\n",
    "#   File \"python/examples/other/print_stack_trace.py\", line 4, in foo\n",
    "#     bar()\n",
    "#   File \"python/examples/other/print_stack_trace.py\", line 8, in bar\n",
    "#     print(''.join(traceback.format_stack()))\n",
    "#\n",
    "# done"
   ]
  },
  {
   "cell_type": "markdown",
   "id": "a9605567-feda-4d0f-8286-c76db64b26e8",
   "metadata": {},
   "source": [
    "## Exercise: Exception int conversion"
   ]
  },
  {
   "cell_type": "markdown",
   "id": "dde48340-a24a-4237-98f5-65608d03d85e",
   "metadata": {
    "jp-MarkdownHeadingCollapsed": true
   },
   "source": [
    "- In the earlier example we learned how to handle both ZeroDivisionError and FileNotFoundError exceptions. Now try this\n",
    "\n",
    "```\n",
    " python handle_both_exceptions.py one.txt zero.txt two.txt text.txt three.txt\n",
    "```\n",
    "\n",
    "\n",
    "> before one.txt\n",
    ">\n",
    "> 100.0\n",
    "> \n",
    "> after  one.txt\n",
    "> \n",
    "> before zero.txt\n",
    "> \n",
    "> Cannot divide by 0 in file 'zero.txt'\n",
    ">\n",
    "> before two.txt\n",
    ">\n",
    "> Cannot open file 'two.txt'\n",
    ">\n",
    "> before text.txt\n",
    ">\n",
    "```\n",
    "Traceback (most recent call last):\n",
    "  File \"handle_both_exceptions.py\", line 9, in <module>\n",
    "    module.read_and_divide(filename)\n",
    "  File \"/home/gabor/work/slides/python/examples/exceptions/module.py\", line 4, in read_and_divide\n",
    "    number = int(fh.readline())\n",
    "ValueError: invalid literal for int() with base 10: '3.14\\n'\n",
    "```\n",
    "\n",
    "- This will raise a ValueError exception before handling file three.txt\n",
    "- Fix it by capturing the specific exception.\n",
    "- Fix by capturing \"all other exceptions\".\n"
   ]
  },
  {
   "cell_type": "code",
   "execution_count": null,
   "id": "c664334c-bbe0-463e-83b2-ecac6bc768e7",
   "metadata": {},
   "outputs": [],
   "source": [
    "import sys\n",
    "import module\n",
    "\n",
    "# python handle_both_exceptions.py one.txt zero.txt two.txt three.txt\n",
    "files = sys.argv[1:]\n",
    "\n",
    "for filename in files:\n",
    "    try:\n",
    "        module.read_and_divide(filename)\n",
    "    except ZeroDivisionError:\n",
    "        print(\"Cannot divide by 0 in file {}\".format(filename))\n",
    "    except IOError:\n",
    "        print(\"Cannot open file {}\".format(filename))\n",
    "    except Exception as ex:\n",
    "        print(\"Exception type {} {} in file {}\".format(type(ex).__name__, ex, filename))\n",
    "\n",
    "\n"
   ]
  },
  {
   "cell_type": "code",
   "execution_count": null,
   "id": "6cb75ef9-1887-4047-b6f3-42ad2a5b8cd9",
   "metadata": {},
   "outputs": [],
   "source": [
    "import sys\n",
    "import module\n",
    "\n",
    "files = sys.argv[1:]\n",
    "\n",
    "for filename in files:\n",
    "    try:\n",
    "        module.read_and_divide(filename)\n",
    "    except ZeroDivisionError:\n",
    "        print(f\"Cannot divide by 0 in file '{filename}'\")\n",
    "    except FileNotFoundError:\n",
    "        print(f\"Cannot open file '{filename}'\")\n",
    "    except ValueError as err:\n",
    "        print(f\"ValueError {err} in file '{filename}'\")"
   ]
  },
  {
   "cell_type": "markdown",
   "id": "30c3eba0-f373-49f8-ad29-9520c36f0c02",
   "metadata": {},
   "source": [
    "## Exercise: Raise Exception"
   ]
  },
  {
   "cell_type": "markdown",
   "id": "6176d0b1-9cec-4a46-9d8b-291c4476fca1",
   "metadata": {},
   "source": [
    "- Write a function that expects a positive integer as its single parameter.\n",
    "- Raise exception if the parameter is not a number.\n",
    "- Raise a different exception if the parameter is not positive.\n",
    "- Raise a different exception if the parameter is not whole number."
   ]
  },
  {
   "cell_type": "code",
   "execution_count": null,
   "id": "6749b9a9-16e4-447d-b382-c332f6f669b4",
   "metadata": {},
   "outputs": [],
   "source": [
    "def positive(num):\n",
    "   if type(num).__name__ == 'float':\n",
    "       raise Exception(\"The given parameter {} is a float and not an int.\".format(num))\n",
    "\n",
    "   if type(num).__name__ != 'int':\n",
    "       raise Exception(\"The given parameter {} is of type {} and not int.\".format(num, type(num).__name__))\n",
    "\n",
    "   if num < 0:\n",
    "       raise Exception(\"The given number {} is not positive.\".format(num))\n",
    "\n",
    "for val in [14, 24.3, \"hi\", -10]:\n",
    "   print(val)\n",
    "   print(type(val).__name__)\n",
    "   try:\n",
    "       positive(val)\n",
    "   except Exception as ex:\n",
    "       print(\"Exception: {}\".format(ex))"
   ]
  }
 ],
 "metadata": {
  "kernelspec": {
   "display_name": "Python 3 (ipykernel)",
   "language": "python",
   "name": "python3"
  },
  "language_info": {
   "codemirror_mode": {
    "name": "ipython",
    "version": 3
   },
   "file_extension": ".py",
   "mimetype": "text/x-python",
   "name": "python",
   "nbconvert_exporter": "python",
   "pygments_lexer": "ipython3",
   "version": "3.10.10"
  }
 },
 "nbformat": 4,
 "nbformat_minor": 5
}
