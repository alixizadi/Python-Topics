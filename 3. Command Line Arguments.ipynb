{
 "cells": [
  {
   "cell_type": "markdown",
   "id": "a89dc87c-f4d0-42b5-9d61-67aabee1df3b",
   "metadata": {},
   "source": [
    "## Command line arguments"
   ]
  },
  {
   "cell_type": "markdown",
   "id": "3bf3bd69-2463-4ff0-a673-b9fae553ac23",
   "metadata": {},
   "source": [
    "Command line parameters, also known as command line arguments, allow you to pass values to a Python script when executing it from the command line. These parameters can enhance the flexibility and interactivity of your Python programs. Let's dive into the world of command line parameters with some examples:"
   ]
  },
  {
   "cell_type": "markdown",
   "id": "d1d05eaf-87a6-4bd1-b025-fc02d39bd23b",
   "metadata": {},
   "source": [
    "## Basic Usage: \n",
    "\n",
    "Execute a Python script with command line parameters:\n",
    "\n",
    "`python script.py arg1 arg2.`\n",
    "\n",
    "Access the parameters within the script using the sys module:\n",
    "\n",
    "`import sys.`\n",
    "\n",
    "Example: print(sys.argv[1]) prints the first parameter passed to the script.\n"
   ]
  },
  {
   "cell_type": "markdown",
   "id": "1adebeea-5b87-4041-9dac-05693f4e255a",
   "metadata": {},
   "source": [
    "## Multiple Parameters:\n",
    "\n",
    "You can pass multiple parameters separated by spaces:\n",
    "\n",
    "`python script.py param1 param2 param3.`\n",
    "\n",
    "\n",
    "Access the parameters using sys.argv[1], sys.argv[2], and so on.\n"
   ]
  },
  {
   "cell_type": "markdown",
   "id": "ecf20734-6886-4196-8484-c014f404528d",
   "metadata": {},
   "source": [
    "## Integer Parameters:\n",
    "\n",
    "\n",
    "Convert a command line parameter to an integer:\n",
    "    \n",
    "`num = int(sys.argv[1])`\n",
    "\n",
    "Example: `python script.py 42` sets num to 42.\n",
    "Floating-Point Parameters:\n",
    "\n",
    "Convert a command line parameter to a float:\n",
    "\n",
    "`value = float(sys.argv[1])`\n",
    "\n",
    "Example: python script.py 3.14 sets value to 3.14."
   ]
  },
  {
   "cell_type": "markdown",
   "id": "0f1fc25c-bb17-426d-9ff4-a68c068a5d92",
   "metadata": {},
   "source": [
    "## Flag Parameters:\n",
    "\n",
    "Flags are boolean parameters that indicate the presence or absence of a certain condition.\n",
    "Use the argparse module for handling flags and their values.\n",
    "Example: \n",
    "\n",
    "`python script.py --verbose` sets the verbose flag to True.\n",
    "\n",
    "## Optional Parameters:\n",
    "\n",
    "Use the argparse module to define optional parameters with default values.\n",
    "\n",
    "Example: `python script.py --output file.txt` sets the output parameter to \"file.txt\".\n",
    "\n",
    "## Positional Parameters:\n",
    "\n",
    "Use the argparse module to define positional parameters without specifying their names.\n",
    "\n",
    "Example: `python script.py input.txt output.txt` sets the first parameter to input.txt and the second to output.txt.\n",
    "\n",
    "## Parameter Validation:\n",
    "\n",
    "Validate and restrict parameter values using the argparse module's built-in features.\n",
    "\n",
    "Example: Accept only positive integers: \n",
    "\n",
    "`parser.add_argument('param', type=int, positive=True)`\n",
    "\n",
    "## Help Messages:\n",
    "\n",
    "Provide descriptive help messages for each parameter using the argparse module.\n",
    "\n",
    "Example: `parser.add_argument('--output', help='Output filename')` shows the help message when --help is used.\n",
    "\n",
    "## Complex Parameters:\n",
    "\n",
    "Parameters can accept complex data types like lists, dictionaries, or custom objects.\n",
    "Use parsing and conversion logic to handle these complex parameters appropriately.\n",
    "\n",
    "\n"
   ]
  },
  {
   "cell_type": "markdown",
   "id": "967cdd39-251a-4c36-842a-f8817a52f705",
   "metadata": {},
   "source": [
    "Command line parameters offer a powerful way to interact with your Python scripts, allowing users to customize the behavior and input of your programs. With the sys and argparse modules, you can handle various parameter types and provide a user-friendly command line interface.\n",
    "\n",
    "\n",
    "Remember to document your script's command line parameters to guide users on how to interact with your program effectively. Harness the power of command line parameters to create versatile and interactive Python applications. Happy coding!"
   ]
  },
  {
   "cell_type": "code",
   "execution_count": null,
   "id": "b140b933-cd19-42bf-a3fa-e8a2f9765fda",
   "metadata": {},
   "outputs": [],
   "source": []
  }
 ],
 "metadata": {
  "kernelspec": {
   "display_name": "Python 3 (ipykernel)",
   "language": "python",
   "name": "python3"
  },
  "language_info": {
   "codemirror_mode": {
    "name": "ipython",
    "version": 3
   },
   "file_extension": ".py",
   "mimetype": "text/x-python",
   "name": "python",
   "nbconvert_exporter": "python",
   "pygments_lexer": "ipython3",
   "version": "3.9.7"
  }
 },
 "nbformat": 4,
 "nbformat_minor": 5
}
