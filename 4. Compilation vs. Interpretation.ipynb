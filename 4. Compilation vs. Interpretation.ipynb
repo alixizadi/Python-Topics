{
 "cells": [
  {
   "cell_type": "markdown",
   "id": "1bac0d94-a87a-4c01-9b70-d59ed2097ece",
   "metadata": {},
   "source": [
    "# Compilation vs. Interpretation"
   ]
  },
  {
   "cell_type": "markdown",
   "id": "5f472ce6-8a9d-4502-941c-d007d2689209",
   "metadata": {},
   "source": [
    "## Compiled\n",
    "\n",
    "- Languages: C, C++\n",
    "- Development cylce: Edit, Compile (link), Run.\n",
    "- Strong syntax checking during compilation and linking.\n",
    "- Result: Stand-alone executable code.\n",
    "- Need to compile to each platform separately. (Windows, Linux, Mac, 32bit vs 64bit)."
   ]
  },
  {
   "cell_type": "markdown",
   "id": "7630437b-726f-49de-ae16-8f8269f26602",
   "metadata": {},
   "source": [
    "## Interpreted\n",
    "\n",
    "- Shell, BASIC\n",
    "- Development cycle: Edit, Run.\n",
    "- Syntaxt check only during run-time.\n",
    "- Result: we distribute the source code.\n",
    "- Needs the right version of the interpreted on every target machine."
   ]
  },
  {
   "cell_type": "markdown",
   "id": "07345017-1e30-4a2d-b714-6f79bde3615c",
   "metadata": {},
   "source": [
    "## Both?\n",
    "\n",
    "- Java (running on JVM - Java Virtual Machine)\n",
    "- C# (running on CLR - Common Language Runtime)"
   ]
  },
  {
   "cell_type": "markdown",
   "id": "9e49712c-65af-4ab6-b593-55d0cf1b35ef",
   "metadata": {},
   "source": [
    "# Is Python compiled or interpreted?"
   ]
  },
  {
   "cell_type": "markdown",
   "id": "6284e870-e6d6-46ae-8a65-0601f5545a80",
   "metadata": {},
   "source": [
    "There are syntax errors that will prevent your Python code from running"
   ]
  },
  {
   "cell_type": "code",
   "execution_count": 3,
   "id": "9ddf1563-1556-49aa-b7f8-b13821cf39be",
   "metadata": {},
   "outputs": [
    {
     "ename": "SyntaxError",
     "evalue": "invalid syntax (1006166812.py, line 4)",
     "output_type": "error",
     "traceback": [
      "\u001b[0;36m  Cell \u001b[0;32mIn[3], line 4\u001b[0;36m\u001b[0m\n\u001b[0;31m    if x>3\u001b[0m\n\u001b[0m          ^\u001b[0m\n\u001b[0;31mSyntaxError\u001b[0m\u001b[0;31m:\u001b[0m invalid syntax\n"
     ]
    }
   ],
   "source": [
    "x=2\n",
    "print(x)\n",
    "\n",
    "if x>3"
   ]
  },
  {
   "cell_type": "markdown",
   "id": "6de171f8-925c-41fa-8251-5b7d35e0cb83",
   "metadata": {},
   "source": [
    "There are other syntax-like errors that will be only caught during execution"
   ]
  },
  {
   "cell_type": "code",
   "execution_count": 4,
   "id": "0c8039e1-d99c-4ee0-83f5-41b35baeabca",
   "metadata": {},
   "outputs": [
    {
     "name": "stdout",
     "output_type": "stream",
     "text": [
      "2\n"
     ]
    },
    {
     "ename": "NameError",
     "evalue": "name 'y' is not defined",
     "output_type": "error",
     "traceback": [
      "\u001b[0;31m---------------------------------------------------------------------------\u001b[0m",
      "\u001b[0;31mNameError\u001b[0m                                 Traceback (most recent call last)",
      "Cell \u001b[0;32mIn[4], line 3\u001b[0m\n\u001b[1;32m      1\u001b[0m x\u001b[38;5;241m=\u001b[39m\u001b[38;5;241m2\u001b[39m\n\u001b[1;32m      2\u001b[0m \u001b[38;5;28mprint\u001b[39m(x)\n\u001b[0;32m----> 3\u001b[0m \u001b[38;5;28mprint\u001b[39m(\u001b[43my\u001b[49m)\n\u001b[1;32m      4\u001b[0m y\u001b[38;5;241m=\u001b[39m\u001b[38;5;241m13\u001b[39m\n\u001b[1;32m      5\u001b[0m \u001b[38;5;28mprint\u001b[39m(\u001b[38;5;241m42\u001b[39m)\n",
      "\u001b[0;31mNameError\u001b[0m: name 'y' is not defined"
     ]
    }
   ],
   "source": [
    "x=2\n",
    "print(x)\n",
    "print(y)\n",
    "y=13\n",
    "print(42)\n"
   ]
  },
  {
   "cell_type": "markdown",
   "id": "281d2f19-06ce-44e7-9894-377a5a437324",
   "metadata": {},
   "source": [
    "- Python code is first compiled to bytecode and then interpreted.\n",
    "\n",
    "- CPython is both the compiler and the interpreter.\n",
    "\n",
    "- Jython and IronPython are mostly just compiler to JVM and CLR respectively.\n"
   ]
  },
  {
   "cell_type": "code",
   "execution_count": null,
   "id": "1256d4f0-7380-476e-b5aa-de9d60101ff2",
   "metadata": {},
   "outputs": [],
   "source": []
  }
 ],
 "metadata": {
  "kernelspec": {
   "display_name": "Python 3 (ipykernel)",
   "language": "python",
   "name": "python3"
  },
  "language_info": {
   "codemirror_mode": {
    "name": "ipython",
    "version": 3
   },
   "file_extension": ".py",
   "mimetype": "text/x-python",
   "name": "python",
   "nbconvert_exporter": "python",
   "pygments_lexer": "ipython3",
   "version": "3.9.7"
  }
 },
 "nbformat": 4,
 "nbformat_minor": 5
}
