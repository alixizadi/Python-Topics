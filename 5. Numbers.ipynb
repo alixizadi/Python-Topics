{
 "cells": [
  {
   "cell_type": "markdown",
   "id": "ba18bba2-d71c-4429-b49a-514a8e620c86",
   "metadata": {},
   "source": [
    "## Numbers"
   ]
  },
  {
   "cell_type": "code",
   "execution_count": 1,
   "id": "cd3fca7e-0530-4517-b950-bc3996af0e1f",
   "metadata": {},
   "outputs": [
    {
     "name": "stdout",
     "output_type": "stream",
     "text": [
      "42\n",
      "10\n",
      "9\n",
      "3\n",
      "2.3\n"
     ]
    }
   ],
   "source": [
    "a=42 #decimal\n",
    "h=0xA #10-hex -staringwith0x\n",
    "o=0o11#9 -octal -startingwith0o\n",
    "\n",
    "\n",
    "\n",
    "b = 0b11\n",
    "r=2.3\n",
    "print(a)\n",
    "print(h)\n",
    "print(o)\n",
    "print(b)\n",
    "print(r)\n"
   ]
  },
  {
   "cell_type": "markdown",
   "id": "73b2722f-8a64-4266-a2e1-92013cfdfb95",
   "metadata": {},
   "source": [
    "- In Python numbers are stored as decimals, but in the source code you can also use hexadecimal, octal, or binary notations.\n",
    "\n",
    "- This is especially useful if the domain you are programming in is using those kinds of numbers. For example hardware engineers often talk in hexadecimal values.\n",
    "\n",
    "- In that case you won’t need to contantly translate between the form used in the current domain and decimal numbers."
   ]
  },
  {
   "cell_type": "markdown",
   "id": "dbbc0220-a9ee-4eee-a509-5e665c241370",
   "metadata": {},
   "source": [
    "## Operators for Numbers"
   ]
  },
  {
   "cell_type": "code",
   "execution_count": 11,
   "id": "8aa697a2-9927-4866-9bf4-9532fac832bd",
   "metadata": {},
   "outputs": [
    {
     "name": "stdout",
     "output_type": "stream",
     "text": [
      "d= 5\n",
      "a+b= 5\n",
      "a + c= 4.3\n",
      "b/a= 1.5\n",
      "b//a= 1\n",
      "a*c= 4.6\n",
      "a**b= 8\n",
      "17 % 3= 2\n",
      "a+=7: 9\n",
      "10\n",
      "9\n"
     ]
    }
   ],
   "source": [
    "\n",
    "a=2\n",
    "b=3\n",
    "c=2.3\n",
    "\n",
    "d=a+b\n",
    "print(\"d=\", d)\n",
    "print(\"a+b=\", a+b)\n",
    "print(\"a + c=\", a + c)\n",
    "print(\"b/a=\", b / a)\n",
    "print(\"b//a=\", b // a)\n",
    "print(\"a*c=\",a * c)\n",
    "\n",
    "print(\"a**b=\", a ** b)\n",
    "print(\"17%3=\" , 17 % 3)\n",
    "a+=7\n",
    "print(\"a+=7:\", a)\n",
    "\n",
    "# a++\n",
    "# a--\n",
    "\n",
    "a+=1\n",
    "print(a)\n",
    "a-=1\n",
    "print(a)\n",
    "#5\n",
    "#5\n",
    "# 4.3\n",
    "# 1.5 # see the __future__ # 1 # floor division\n",
    "# 4.6\n",
    "# 8 (power)\n",
    "# 2 (modulus)\n",
    "#isthesameasa=a+7 #9\n",
    "# SyntaxError: invalid syntax\n",
    "# SyntaxError: invalid syntax\n",
    "#10 #9\n"
   ]
  },
  {
   "cell_type": "markdown",
   "id": "d1be9b7f-5600-493a-9674-3504b79133c4",
   "metadata": {},
   "source": [
    "- <b>There is no autoincrement (++) and autodecrement (–) in Python, because they can be expressed by += 1 and -= 1 respectively.</b>"
   ]
  },
  {
   "cell_type": "code",
   "execution_count": null,
   "id": "eb1bd0b2-7bcd-4491-be83-e9ee5fed686e",
   "metadata": {},
   "outputs": [],
   "source": []
  },
  {
   "cell_type": "markdown",
   "id": "2a7ff383-dc77-4f2d-bbe2-a7113cf30d9f",
   "metadata": {},
   "source": [
    "## Number Built in functions"
   ]
  },
  {
   "cell_type": "code",
   "execution_count": 30,
   "id": "5bbfaa19-ffc6-480c-8f6f-bdb7a4b357ed",
   "metadata": {},
   "outputs": [
    {
     "name": "stdout",
     "output_type": "stream",
     "text": [
      "['__abs__', '__add__', '__and__', '__bool__', '__ceil__', '__class__', '__delattr__', '__dir__', '__divmod__', '__doc__', '__eq__', '__float__', '__floor__', '__floordiv__', '__format__', '__ge__', '__getattribute__', '__getnewargs__', '__gt__', '__hash__', '__index__', '__init__', '__init_subclass__', '__int__', '__invert__', '__le__', '__lshift__', '__lt__', '__mod__', '__mul__', '__ne__', '__neg__', '__new__', '__or__', '__pos__', '__pow__', '__radd__', '__rand__', '__rdivmod__', '__reduce__', '__reduce_ex__', '__repr__', '__rfloordiv__', '__rlshift__', '__rmod__', '__rmul__', '__ror__', '__round__', '__rpow__', '__rrshift__', '__rshift__', '__rsub__', '__rtruediv__', '__rxor__', '__setattr__', '__sizeof__', '__str__', '__sub__', '__subclasshook__', '__truediv__', '__trunc__', '__xor__', 'as_integer_ratio', 'bit_length', 'conjugate', 'denominator', 'from_bytes', 'imag', 'numerator', 'real', 'to_bytes']\n"
     ]
    }
   ],
   "source": [
    "print(dir(0))"
   ]
  },
  {
   "cell_type": "code",
   "execution_count": null,
   "id": "8108fb88-7496-403b-96a1-aead04026f3f",
   "metadata": {},
   "outputs": [],
   "source": []
  }
 ],
 "metadata": {
  "kernelspec": {
   "display_name": "Python 3 (ipykernel)",
   "language": "python",
   "name": "python3"
  },
  "language_info": {
   "codemirror_mode": {
    "name": "ipython",
    "version": 3
   },
   "file_extension": ".py",
   "mimetype": "text/x-python",
   "name": "python",
   "nbconvert_exporter": "python",
   "pygments_lexer": "ipython3",
   "version": "3.9.7"
  }
 },
 "nbformat": 4,
 "nbformat_minor": 5
}
