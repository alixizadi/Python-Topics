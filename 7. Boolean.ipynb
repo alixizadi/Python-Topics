{
 "cells": [
  {
   "cell_type": "markdown",
   "id": "4daef22b-affd-4402-8078-c895bec12b7a",
   "metadata": {},
   "source": [
    "# Boolean"
   ]
  },
  {
   "cell_type": "code",
   "execution_count": 2,
   "id": "4ead4701-c487-430f-8819-9fb54c332f2c",
   "metadata": {},
   "outputs": [
    {
     "name": "stdout",
     "output_type": "stream",
     "text": [
      "it is 2\n",
      "it is NOT 3\n"
     ]
    }
   ],
   "source": [
    "x = 2\n",
    "\n",
    "if x == 2:\n",
    "    print(\"it is 2\")\n",
    "else:\n",
    "    print(\"it is NOT 2\")\n",
    "\n",
    "\n",
    "if x == 3:\n",
    "    print(\"it is 3\")\n",
    "else:\n",
    "    print(\"it is NOT 3\")\n",
    "\n",
    "# it is 2\n",
    "# it is NOT 3"
   ]
  },
  {
   "cell_type": "markdown",
   "id": "4d2db4eb-377e-4604-ae8f-e0e28f0aac68",
   "metadata": {},
   "source": [
    "- equal ==\n",
    "\n",
    "- not equal !=\n",
    "\n",
    "- less than <\n",
    "\n",
    "- less than or equal <=\n",
    "\n",
    "- greater than >\n",
    "\n",
    "- greater than or equal >="
   ]
  },
  {
   "cell_type": "markdown",
   "id": "eacf7618-52d8-4059-b093-17d3a816e8e5",
   "metadata": {},
   "source": [
    "## Compare numbers, compare strings"
   ]
  },
  {
   "cell_type": "code",
   "execution_count": 3,
   "id": "47436da8-13ea-46a6-8191-2e1e74c06920",
   "metadata": {},
   "outputs": [
    {
     "name": "stdout",
     "output_type": "stream",
     "text": [
      "x is less than y\n"
     ]
    }
   ],
   "source": [
    "x = 2\n",
    "y = 3\n",
    "\n",
    "if x < y:\n",
    "    print(\"x is less than y\")\n",
    "\n",
    "# x is less than y"
   ]
  },
  {
   "cell_type": "code",
   "execution_count": 4,
   "id": "41427619-7bba-49d2-8790-d14440fb800b",
   "metadata": {},
   "outputs": [
    {
     "name": "stdout",
     "output_type": "stream",
     "text": [
      "x is less than y\n",
      "בלון in q is less than מלון\n",
      "True\n",
      "👸 in x is less than 💂\n"
     ]
    }
   ],
   "source": [
    "x = \"Snake\"\n",
    "y = \"Stake\"\n",
    "\n",
    "if x < y:\n",
    "    print(\"x is less than y\")\n",
    "\n",
    "# x is less than y\n",
    "\n",
    "z = \"מלון\"\n",
    "q = \"בלון\"\n",
    "\n",
    "if z < q:\n",
    "    print(f\"{z} in z is less than {q}\")\n",
    "else:\n",
    "    print(f\"{q} in q is less than {z}\")\n",
    "\n",
    "print(x < z)\n",
    "\n",
    "\n",
    "x = \"👸\"\n",
    "y = \"💂\"\n",
    "\n",
    "if x < y:\n",
    "    print(f\"{x} in x is less than {y}\")\n",
    "else:\n",
    "    print(f\"{y} in y is less than {x}\")"
   ]
  },
  {
   "cell_type": "code",
   "execution_count": null,
   "id": "827e2d61-4dff-4197-ac1a-1c66e4139359",
   "metadata": {},
   "outputs": [
    {
     "name": "stdout",
     "output_type": "stream",
     "text": [
      "True\n",
      "True\n",
      "True\n",
      "False\n"
     ]
    }
   ],
   "source": [
    "print(1 < 2)      # True\n",
    "print(\"1\" < \"2\")  # True\n",
    "\n",
    "\n",
    "print(2 < 11)      # True\n",
    "print(\"2\" < \"11\")  # False"
   ]
  },
  {
   "cell_type": "markdown",
   "id": "f8792f77-12a0-4f10-ac7a-6a942890273b",
   "metadata": {},
   "source": [
    "## Do NOT Compare different types!"
   ]
  },
  {
   "cell_type": "code",
   "execution_count": null,
   "id": "2b2be508-6551-4efe-b8ad-e39b8615f04a",
   "metadata": {},
   "outputs": [],
   "source": [
    "x = 12\n",
    "y = 3\n",
    "result = \"Yes\" if x > y else \"No\"\n",
    "print(result) # Yes\n",
    "\n",
    "x = \"12\"\n",
    "y = \"3\"\n",
    "print(\"Yes\" if x > y else \"No\") # No\n",
    "\n",
    "x = \"12\"\n",
    "y = 3\n",
    "print(\"Yes\" if x > y else \"No\") # Yes\n",
    "\n",
    "x = 12\n",
    "y = \"3\"\n",
    "print(\"Yes\" if x > y else \"No\")  # No"
   ]
  },
  {
   "cell_type": "markdown",
   "id": "92c2c673-f3eb-4a9d-b728-fe8963263c7d",
   "metadata": {},
   "source": [
    "## Complex if statement with boolean operators"
   ]
  },
  {
   "cell_type": "code",
   "execution_count": 6,
   "id": "69bb66e1-3320-40ed-9014-86273633d0d2",
   "metadata": {},
   "outputs": [
    {
     "name": "stdout",
     "output_type": "stream",
     "text": [
      "age is bewteen 0 and 18\n",
      "Young or old\n",
      "False\n"
     ]
    }
   ],
   "source": [
    "age = 16\n",
    "name = \"Foo\"\n",
    "\n",
    "if 0 < age and age <= 18:\n",
    "    print(\"age is bewteen 0 and 18\")\n",
    "else:\n",
    "    print(\"age is NOT between 0 and 18\")\n",
    "\n",
    "if age < 18 or 65 < age:\n",
    "    print(\"Young or old\")\n",
    "else:\n",
    "    print(\"Working age\")\n",
    "\n",
    "\n",
    "if age < 18 and not name == \"Foo\":\n",
    "    print(\"True\")\n",
    "else:\n",
    "    print(\"False\")"
   ]
  },
  {
   "cell_type": "markdown",
   "id": "dfe301df-3c69-41b9-a56d-d470d6daaf7a",
   "metadata": {},
   "source": [
    "## Chained expressions"
   ]
  },
  {
   "cell_type": "code",
   "execution_count": 7,
   "id": "a30f1c6b-a90c-4562-afb0-5f38bfc391bc",
   "metadata": {},
   "outputs": [
    {
     "name": "stdout",
     "output_type": "stream",
     "text": [
      "age is bewteen 0 and 18\n",
      "age is bewteen 0 and 18\n"
     ]
    }
   ],
   "source": [
    "age = 16\n",
    "name = \"Foo\"\n",
    "\n",
    "if 0 < age and age <= 18:\n",
    "    print(\"age is bewteen 0 and 18\")\n",
    "else:\n",
    "    print(\"age is NOT between 0 and 18\")\n",
    "\n",
    "if 0 < age <= 18:\n",
    "    print(\"age is bewteen 0 and 18\")\n",
    "else:\n",
    "    print(\"age is NOT between 0 and 18\")"
   ]
  },
  {
   "cell_type": "markdown",
   "id": "18272d8f-df98-4e4f-be5b-dbe27e7f938f",
   "metadata": {},
   "source": [
    "## Boolean operators"
   ]
  },
  {
   "cell_type": "raw",
   "id": "dd3fdecb-a327-43f0-9abf-8ee9f5961c0a",
   "metadata": {},
   "source": [
    "and or not\n",
    "\n",
    "if COND:\n",
    "   do something\n",
    "else:\n",
    "   do something other\n",
    "\n",
    "if not COND:\n",
    "    do something other\n",
    "\n",
    "if COND1 and COND2:\n",
    "    do something\n",
    "\n",
    "if COND1 or COND2:\n",
    "    do something\n",
    "\n",
    "if COND1 and not COND2:\n",
    "    do something\n"
   ]
  },
  {
   "cell_type": "markdown",
   "id": "e3c13e46-2b0b-4c7d-819f-f05466f8e481",
   "metadata": {},
   "source": [
    "## Boolean truth tables"
   ]
  },
  {
   "cell_type": "raw",
   "id": "3f429b84-f57b-484d-9839-4d72399a83d0",
   "metadata": {},
   "source": [
    "COND1 and COND2     Result\n",
    "True      True      True\n",
    "True      False     False\n",
    "False     True      False\n",
    "False     False     False\n",
    "\n",
    "\n",
    "COND1 or COND2      Result\n",
    "True      True      True\n",
    "True      False     True\n",
    "False     True      True\n",
    "False     False     False\n",
    "\n",
    "\n",
    "not COND     Result\n",
    "True         False\n",
    "False        True"
   ]
  },
  {
   "cell_type": "markdown",
   "id": "9a1d9960-7e3f-4461-ae42-d37c9d1bc06e",
   "metadata": {},
   "source": [
    "## Boolean values: True and False"
   ]
  },
  {
   "cell_type": "raw",
   "id": "4c23917e-a6c0-4e79-ad6f-325b726ebf8a",
   "metadata": {},
   "source": [
    "In this chapter we are going to talk about boolean values and operations on boolean values.\n",
    "Unlike in some other languages Python actually has 2 special symbols to represent True and False.\n",
    "\n",
    "(In those languages 0 usually represents False and 1 represents True.)\n",
    "\n",
    "True\n",
    "False"
   ]
  },
  {
   "cell_type": "markdown",
   "id": "5bb73e83-2039-4712-9acf-8c2b5b16884b",
   "metadata": {},
   "source": [
    "## Using True and False in variables"
   ]
  },
  {
   "cell_type": "code",
   "execution_count": 8,
   "id": "ff660df3-e09e-402a-b3cd-68956fae7b60",
   "metadata": {},
   "outputs": [
    {
     "name": "stdout",
     "output_type": "stream",
     "text": [
      "X is True\n",
      "Y is False\n"
     ]
    }
   ],
   "source": [
    "x = True\n",
    "y = False\n",
    "\n",
    "\n",
    "if x:\n",
    "    print(\"X is True\")\n",
    "else:\n",
    "    print(\"X is False\")\n",
    "\n",
    "\n",
    "if y:\n",
    "    print(\"Y is True\")\n",
    "else:\n",
    "    print(\"Y is False\")\n",
    "\n",
    "\n",
    "# X is True\n",
    "# Y is False"
   ]
  },
  {
   "cell_type": "markdown",
   "id": "2be785bb-f064-4048-a194-dfb018abc892",
   "metadata": {},
   "source": [
    "## Comparison returns True or False"
   ]
  },
  {
   "cell_type": "code",
   "execution_count": 9,
   "id": "7d3f8661-a061-48b9-b3ba-9bab72c436e3",
   "metadata": {},
   "outputs": [
    {
     "name": "stdout",
     "output_type": "stream",
     "text": [
      "42\n",
      "42\n",
      "False\n",
      "True\n",
      "True\n",
      "True\n",
      "False\n"
     ]
    }
   ],
   "source": [
    "a = \"42\"\n",
    "b = 42\n",
    "\n",
    "print(a)             # 42\n",
    "print(b)             # 42\n",
    "print(a == b)        # False\n",
    "print(a != b)        # True\n",
    "print(b == 42.0)     # True\n",
    "\n",
    "print(None == None)  # True\n",
    "print(None == False) # False"
   ]
  },
  {
   "cell_type": "markdown",
   "id": "94e29f5c-f05b-4bb9-aecb-257a06ac8dc7",
   "metadata": {},
   "source": [
    "## Assign comparisons to variables\n",
    "\n",
    "True and False are real boolean values.\n",
    "\n"
   ]
  },
  {
   "cell_type": "code",
   "execution_count": 10,
   "id": "4cdb711d-b12f-417d-948b-5441da8cce5b",
   "metadata": {},
   "outputs": [
    {
     "name": "stdout",
     "output_type": "stream",
     "text": [
      "True\n",
      "True is true - who would thought? \n",
      "False\n",
      "False is false - who would thought? \n"
     ]
    }
   ],
   "source": [
    "\n",
    "x = 2\n",
    "\n",
    "v = x == 2\n",
    "print(v)\n",
    "if v:\n",
    "    print(v, \"is true - who would thought? \")\n",
    "\n",
    "v = x == 3\n",
    "print(v)\n",
    "if v:\n",
    "    print(v, \"is true - who would thought? \")\n",
    "else:\n",
    "    print(v, \"is false - who would thought? \")\n",
    "\n",
    "# True\n",
    "# True is true - who would thought?\n",
    "# False\n",
    "# False is false - who would thought?"
   ]
  },
  {
   "cell_type": "markdown",
   "id": "93760dd3-a02d-48da-b65a-4fd1662bcaf5",
   "metadata": {},
   "source": [
    "## Flag"
   ]
  },
  {
   "cell_type": "code",
   "execution_count": 13,
   "id": "e9cb4743-cccd-4679-8c5a-8912717b95af",
   "metadata": {},
   "outputs": [
    {
     "name": "stdin",
     "output_type": "stream",
     "text": [
      "The name of this language:  Python\n"
     ]
    },
    {
     "name": "stdout",
     "output_type": "stream",
     "text": [
      "The input was correct\n"
     ]
    }
   ],
   "source": [
    "correct = False\n",
    "\n",
    "name = input(\"The name of this language: \")\n",
    "if name == \"Python\":\n",
    "    correct = True\n",
    "\n",
    "if correct:\n",
    "    print(\"The input was correct\")"
   ]
  },
  {
   "cell_type": "markdown",
   "id": "0b417a8f-cb55-492f-aeb6-5aa593cfc6b5",
   "metadata": {},
   "source": [
    "## Toggle"
   ]
  },
  {
   "cell_type": "code",
   "execution_count": 14,
   "id": "d3b49e6a-2785-42ae-9f82-e4b1119868d7",
   "metadata": {},
   "outputs": [
    {
     "name": "stdout",
     "output_type": "stream",
     "text": [
      "False\n",
      "True\n",
      "False\n"
     ]
    }
   ],
   "source": [
    "machine_is_on = False\n",
    "print(machine_is_on)   # False\n",
    "\n",
    "machine_is_on = not machine_is_on\n",
    "print(machine_is_on)   # True\n",
    "\n",
    "machine_is_on = not machine_is_on\n",
    "print(machine_is_on)   # False"
   ]
  },
  {
   "cell_type": "markdown",
   "id": "77eb30d3-5b79-4167-8030-9ac89f7b77ea",
   "metadata": {},
   "source": [
    "## Short circuit\n"
   ]
  },
  {
   "cell_type": "raw",
   "id": "6bec0178-674e-45a3-9e36-f1586e73d3fe",
   "metadata": {},
   "source": [
    "\n",
    "def check_money():\n",
    "    return money > 1000000\n",
    "\n",
    "def check_salary():\n",
    "    global salary\n",
    "    salary += 1\n",
    "    return salary >= 1000\n",
    "\n",
    "while True:\n",
    "    has_good_money = check_money()\n",
    "    has_good_salary = check_salary()\n",
    "\n",
    "    if has_good_money or has_good_salary:\n",
    "        print(\"I can live well\")"
   ]
  },
  {
   "cell_type": "markdown",
   "id": "3a3c8501-69b5-4f69-881f-81a4c3ddbe6a",
   "metadata": {},
   "source": [
    "## Does this value count as True or False?\n"
   ]
  },
  {
   "cell_type": "code",
   "execution_count": 20,
   "id": "76a1b37f-1959-4e85-9d1e-d76ca2b56043",
   "metadata": {},
   "outputs": [
    {
     "name": "stdout",
     "output_type": "stream",
     "text": [
      "23 is true\n",
      "23 is true\n",
      "0 is false\n",
      "0 is false\n"
     ]
    }
   ],
   "source": [
    "x = 23\n",
    "\n",
    "if x:\n",
    "    print(\"23 is true\")\n",
    "\n",
    "if x != 0:\n",
    "    print(\"23 is true\")\n",
    "\n",
    "y = 0\n",
    "if y:\n",
    "    print(\"0 is true\")\n",
    "else:\n",
    "    print(\"0 is false\")\n",
    "\n",
    "if y != 0:\n",
    "    print(\"0 is true\")\n",
    "else:\n",
    "    print(\"0 is false\")\n",
    "\n",
    "# 23 is true\n",
    "# 0 is false"
   ]
  },
  {
   "cell_type": "markdown",
   "id": "9c3571f1-ef5a-4be4-b4af-99b45add9e0d",
   "metadata": {},
   "source": [
    "## True and False values in Python\n"
   ]
  },
  {
   "cell_type": "code",
   "execution_count": 21,
   "id": "0d5d5d73-18f5-494b-969b-7de147d82bc5",
   "metadata": {},
   "outputs": [
    {
     "name": "stdout",
     "output_type": "stream",
     "text": [
      "False value:  None\n",
      "False value:  0\n",
      "False value:  \n",
      "False value:  False\n",
      "False value:  []\n",
      "False value:  ()\n",
      "False value:  {}\n",
      "True value:   0\n",
      "True value:   True\n"
     ]
    }
   ],
   "source": [
    "values = [None, 0, \"\", False, [], (), {}, \"0\", True]\n",
    "\n",
    "for v in values:\n",
    "    if v:\n",
    "        print(\"True value:  \", v)\n",
    "    else:\n",
    "        print(\"False value: \", v)\n",
    "\n",
    "# False value:  None\n",
    "# False value:  0\n",
    "# False value:\n",
    "# False value:  False\n",
    "# False value:  []\n",
    "# False value:  ()\n",
    "# False value:  {}\n",
    "# True value:   0\n",
    "# True value:   True"
   ]
  },
  {
   "cell_type": "markdown",
   "id": "dec8726c-c45a-47ee-9f2c-f04b05d5e9e2",
   "metadata": {},
   "source": [
    "- None is like undef or Null or Nill in other languages."
   ]
  },
  {
   "cell_type": "markdown",
   "id": "259b9c07-c9cd-40ac-bf76-e0b3312c3e5b",
   "metadata": {},
   "source": [
    "## Incorrect use of conditions\n"
   ]
  },
  {
   "cell_type": "markdown",
   "id": "c12a15d5-82d5-4442-b468-266a1f1f8071",
   "metadata": {},
   "source": [
    "- In your normal speech you could probably say something like \"If status_code is 401 or 302, do something.\". Meaning status_cone can be either 401 or 302.\n",
    "If you tried to translate this into code directly you would write something like this:\n",
    "\n",
    "\n",
    "> if status_code == 401 or 302:\n",
    ">\n",
    ">        pass\n",
    "\n",
    "\n",
    "- However, this is incorrect. This condition will always be true as this is actually same as if you wrote: if (status_code == 401) or (302) so it will compare status_code to 401, and it will separately check if 302 is True, but any number different from 0 is considered to be True so the above expression will always be True.\n",
    "What you probably meant is this:\n",
    "\n",
    "\n",
    "> if status_code == 401 or status_code == 302:\n",
    ">\n",
    ">       pass\n",
    "\n",
    "- Alternative way:\n",
    "\n",
    "An alternative way to achieve the same results would be though probably at this point we have not learned the \"in\" operator, nor lists (comma separated values in square brackets):\n",
    "\n",
    ">if status_code in [401, 302]:\n",
    ">\n",
    ">        pass\n"
   ]
  },
  {
   "cell_type": "markdown",
   "id": "bd2389f5-a698-44fc-9627-bb5ac1ed7a38",
   "metadata": {
    "tags": []
   },
   "source": [
    "## Exercise: compare numbers\n"
   ]
  },
  {
   "cell_type": "markdown",
   "id": "fbc70f68-fe9f-49f2-b65b-e16d7034b4ba",
   "metadata": {
    "tags": []
   },
   "source": [
    "- Create a file called bool_compare_numbers.py\n",
    "- Ask the user to enter two numbers and tell us which one is bigger."
   ]
  },
  {
   "cell_type": "code",
   "execution_count": 22,
   "id": "df72e2e5-4101-4034-b361-90fdb9acbac6",
   "metadata": {},
   "outputs": [
    {
     "name": "stdin",
     "output_type": "stream",
     "text": [
      "Please type in a whole number:  123\n",
      "Please type in another whole number:  3838\n"
     ]
    },
    {
     "name": "stdout",
     "output_type": "stream",
     "text": [
      "First number is smaller\n"
     ]
    }
   ],
   "source": [
    "a_in = input(\"Please type in a whole number: \")\n",
    "b_in = input(\"Please type in another whole number: \")\n",
    "\n",
    "if not a_in.isdecimal():\n",
    "    exit(\"First input was not a whole number\")\n",
    "if not b_in.isdecimal():\n",
    "    exit(\"Second input was not a whole number\")\n",
    "\n",
    "\n",
    "a_num = float(a_in)\n",
    "b_num = float(b_in)\n",
    "\n",
    "if a_num > b_num:\n",
    "    print(\"First number is bigger\")\n",
    "elif a_num < b_num:\n",
    "    print(\"First number is smaller\")\n",
    "else:\n",
    "    print(\"They are equal\")"
   ]
  },
  {
   "cell_type": "markdown",
   "id": "58421d70-a668-40dd-94b7-205f7838de3a",
   "metadata": {
    "tags": []
   },
   "source": [
    "## Exercise: compare strings"
   ]
  },
  {
   "cell_type": "markdown",
   "id": "cc968e29-be1c-4b05-ab11-558e9c384aec",
   "metadata": {
    "tags": []
   },
   "source": [
    "- Create a file called bool_compare_strings.py\n",
    "- You can use the len() function to get the length of the string.\n",
    "- Ask the user to enter two strings\n",
    "- Then ask the user to select if she wants to compare them based on Unicode or based on their length\n",
    "- Then tell us which one is bigger.\n",
    "\n",
    "> Input a string: (user types string and ENTER)\n",
    ">\n",
    "> Input another string: (user types string and ENTER)\n",
    "\n",
    "How to compare:\n",
    "\n",
    "> 1) Unicode\n",
    ">\n",
    "> 2) Length\n",
    "> (user types 1 or 2 and ENTER)"
   ]
  },
  {
   "cell_type": "code",
   "execution_count": 23,
   "id": "9f946e07-e6da-4543-8e90-297e5ee3c511",
   "metadata": {},
   "outputs": [
    {
     "name": "stdin",
     "output_type": "stream",
     "text": [
      "Please type in a string:  ali\n",
      "Please type in another string:  vali\n"
     ]
    },
    {
     "name": "stdout",
     "output_type": "stream",
     "text": [
      "How to compare:\n",
      "1) ASCII\n",
      "2) Length\n"
     ]
    },
    {
     "name": "stdin",
     "output_type": "stream",
     "text": [
      " 1\n"
     ]
    },
    {
     "name": "stdout",
     "output_type": "stream",
     "text": [
      "First number is smaller\n"
     ]
    }
   ],
   "source": [
    "a_in = input(\"Please type in a string: \")\n",
    "b_in = input(\"Please type in another string: \")\n",
    "print(\"How to compare:\")\n",
    "print(\"1) ASCII\")\n",
    "print(\"2) Length\")\n",
    "how = input()\n",
    "\n",
    "if how == '1':\n",
    "    first_is_bigger = a_in > b_in\n",
    "    second_is_bigger = a_in < b_in\n",
    "elif how == '2':\n",
    "    first_is_bigger = len(a_in) > len(b_in)\n",
    "    second_is_bigger = len(a_in) < len(b_in)\n",
    "\n",
    "if first_is_bigger:\n",
    "    print(\"First number is bigger\")\n",
    "elif second_is_bigger:\n",
    "    print(\"First number is smaller\")\n",
    "else:\n",
    "    print(\"They are equal\")"
   ]
  }
 ],
 "metadata": {
  "kernelspec": {
   "display_name": "Python 3 (ipykernel)",
   "language": "python",
   "name": "python3"
  },
  "language_info": {
   "codemirror_mode": {
    "name": "ipython",
    "version": 3
   },
   "file_extension": ".py",
   "mimetype": "text/x-python",
   "name": "python",
   "nbconvert_exporter": "python",
   "pygments_lexer": "ipython3",
   "version": "3.9.7"
  }
 },
 "nbformat": 4,
 "nbformat_minor": 5
}
