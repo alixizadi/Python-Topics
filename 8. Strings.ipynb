{
 "cells": [
  {
   "cell_type": "markdown",
   "id": "1e94391f-8a1c-4923-a0aa-c29c02a77018",
   "metadata": {},
   "source": [
    "## Single quoted and double quoted strings\n"
   ]
  },
  {
   "cell_type": "markdown",
   "id": "f37a62c3-3451-4c14-a332-2760602eb614",
   "metadata": {},
   "source": [
    "## Long lines"
   ]
  },
  {
   "cell_type": "markdown",
   "id": "e06ff17e-6ed0-496d-86dc-a67cd1e3d1d3",
   "metadata": {},
   "source": [
    "## Multiline strings"
   ]
  },
  {
   "cell_type": "markdown",
   "id": "08ddfea6-ade9-4ebe-9142-1a7bdff79b80",
   "metadata": {},
   "source": [
    "## Triple quoted strings (multiline)"
   ]
  },
  {
   "cell_type": "markdown",
   "id": "9fa19b50-80f5-4e76-b024-46847f63a150",
   "metadata": {},
   "source": [
    "## Triple quoted comments - documentation"
   ]
  },
  {
   "cell_type": "markdown",
   "id": "212fff29-0c94-4cf6-9e7e-bd8e892a26aa",
   "metadata": {},
   "source": [
    "## String length (len)"
   ]
  },
  {
   "cell_type": "markdown",
   "id": "0a423ccf-4f3d-426b-9eb1-daa7538e3a02",
   "metadata": {},
   "source": [
    "## String repetition and concatenation\n",
    "\n"
   ]
  },
  {
   "cell_type": "markdown",
   "id": "959a5770-deaa-448f-a0f7-7c19536767a6",
   "metadata": {},
   "source": [
    "## A character in a string"
   ]
  },
  {
   "cell_type": "markdown",
   "id": "ee6d1c1e-0fc5-4427-8327-ed915bccdf17",
   "metadata": {},
   "source": [
    "## String slice (instead of substr)"
   ]
  },
  {
   "cell_type": "markdown",
   "id": "d20206d4-cac9-4301-8cd2-36975154fc93",
   "metadata": {},
   "source": [
    "## Change a string"
   ]
  },
  {
   "cell_type": "markdown",
   "id": "16bb1fba-9ec1-4c5e-9c99-81247058892c",
   "metadata": {},
   "source": [
    "## How to change a string"
   ]
  },
  {
   "cell_type": "markdown",
   "id": "b0ae5b0f-e0fa-4b11-be0c-e7bdb87d939f",
   "metadata": {},
   "source": [
    "## String copy"
   ]
  },
  {
   "cell_type": "markdown",
   "id": "74ef3271-b185-4029-85d4-6001703fe1df",
   "metadata": {},
   "source": [
    "## index in string\n"
   ]
  },
  {
   "cell_type": "markdown",
   "id": "548875a7-3e4e-41ab-92c3-75570d58c67c",
   "metadata": {},
   "source": [
    "## index in string with range\n"
   ]
  },
  {
   "cell_type": "markdown",
   "id": "2bafdcb5-68fb-43cc-b89b-c3552fe623ba",
   "metadata": {},
   "source": [
    "## Find all in the string\n"
   ]
  },
  {
   "cell_type": "markdown",
   "id": "d3152fe9-24e7-44de-b085-84607d044f4d",
   "metadata": {},
   "source": [
    "## rindex in string with range\n"
   ]
  },
  {
   "cell_type": "markdown",
   "id": "718d49c8-e598-424d-8a57-305b59c32987",
   "metadata": {},
   "source": [
    "## find in string"
   ]
  },
  {
   "cell_type": "markdown",
   "id": "bb8f8f83-da1f-44e9-8ecd-d90abe866876",
   "metadata": {},
   "source": [
    "## in string\n"
   ]
  },
  {
   "cell_type": "markdown",
   "id": "5b52f743-2047-490c-9605-7c181c406ef3",
   "metadata": {},
   "source": [
    "## index if in string\n"
   ]
  },
  {
   "cell_type": "markdown",
   "id": "2391867c-a4a6-431d-897c-83a602200bfc",
   "metadata": {},
   "source": [
    "## Encodings: ASCII, Windows-1255, Unicode\n"
   ]
  },
  {
   "cell_type": "markdown",
   "id": "0d518572-0d86-4431-b901-702faee3c1db",
   "metadata": {},
   "source": [
    "## raw strings\n"
   ]
  },
  {
   "cell_type": "markdown",
   "id": "3ae37a5e-3f99-4da8-9548-80938996b672",
   "metadata": {},
   "source": [
    "## ord\n"
   ]
  },
  {
   "cell_type": "markdown",
   "id": "a3961153-774e-4368-bbbe-df4c5074d9c9",
   "metadata": {},
   "source": [
    "## chr - number to character"
   ]
  },
  {
   "cell_type": "markdown",
   "id": "1f43ee09-10c7-490b-b97a-c7149e86a5e1",
   "metadata": {
    "jp-MarkdownHeadingCollapsed": true,
    "tags": []
   },
   "source": [
    "## Exercise: one string in another string\n"
   ]
  },
  {
   "cell_type": "markdown",
   "id": "1245d10a-6e18-423e-a1fc-82fe0876946e",
   "metadata": {},
   "source": [
    "## Exercise: Character to Unicode-8 - CLI\n"
   ]
  },
  {
   "cell_type": "markdown",
   "id": "3353448a-0fc9-44a9-98e5-17ce3979babb",
   "metadata": {},
   "source": [
    "## Exercise: from Unicode to character - CLI"
   ]
  },
  {
   "cell_type": "markdown",
   "id": "c30709bf-eb9a-43d3-a74d-fc50655adc6a",
   "metadata": {},
   "source": [
    "## Exercise: ROT13"
   ]
  },
  {
   "cell_type": "code",
   "execution_count": null,
   "id": "17c5478d-f58d-4388-acf5-c6408b4d3805",
   "metadata": {},
   "outputs": [],
   "source": []
  }
 ],
 "metadata": {
  "kernelspec": {
   "display_name": "Python 3 (ipykernel)",
   "language": "python",
   "name": "python3"
  },
  "language_info": {
   "codemirror_mode": {
    "name": "ipython",
    "version": 3
   },
   "file_extension": ".py",
   "mimetype": "text/x-python",
   "name": "python",
   "nbconvert_exporter": "python",
   "pygments_lexer": "ipython3",
   "version": "3.9.7"
  }
 },
 "nbformat": 4,
 "nbformat_minor": 5
}
