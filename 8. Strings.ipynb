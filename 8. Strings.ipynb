{
 "cells": [
  {
   "cell_type": "markdown",
   "id": "1e94391f-8a1c-4923-a0aa-c29c02a77018",
   "metadata": {},
   "source": [
    "## Single quoted and double quoted strings\n"
   ]
  },
  {
   "cell_type": "markdown",
   "id": "729f9e4d-6fad-4875-b9c9-4f3f2bdaf9dd",
   "metadata": {},
   "source": [
    "In Python, just as in most of the programming languages you must put any free text inside a pair of quote characters. Otherwise Python will try to find meaning in the text.\n",
    "These pieces of texts are called \"strings\".\n",
    "\n",
    "In Python you can put string between two single quotes: '' or between two double quotes: \"\". Which one, does not matter.\n",
    "\n"
   ]
  },
  {
   "cell_type": "code",
   "execution_count": 3,
   "id": "a20905dd-0034-4762-9ceb-fef3d93adb8a",
   "metadata": {},
   "outputs": [
    {
     "name": "stdout",
     "output_type": "stream",
     "text": [
      "Spiced carrot & lentil soup\n",
      "Ceasar salad\n"
     ]
    }
   ],
   "source": [
    "soup = \"Spiced carrot & lentil soup\"\n",
    "salad = 'Ceasar salad'\n",
    "\n",
    "print(soup)\n",
    "print(salad)"
   ]
  },
  {
   "cell_type": "markdown",
   "id": "f37a62c3-3451-4c14-a332-2760602eb614",
   "metadata": {},
   "source": [
    "## Long lines"
   ]
  },
  {
   "cell_type": "code",
   "execution_count": 4,
   "id": "b9657877-f3b5-4d50-8d03-cf890600ad24",
   "metadata": {},
   "outputs": [
    {
     "name": "stdout",
     "output_type": "stream",
     "text": [
      "abcdef\n",
      "abcdef\n",
      "onetwothree\n",
      "onetwothree\n",
      "first row second row third row\n",
      "first row second row third row\n"
     ]
    }
   ],
   "source": [
    "text = \"abc\" \"def\"\n",
    "print(text)\n",
    "\n",
    "other = \"abcdef\"\n",
    "print(other)\n",
    "\n",
    "\n",
    "long_string = \"one\" \"two\" \"three\"\n",
    "print(long_string)\n",
    "\n",
    "short_rows = \"one\" \\\n",
    "    \"two\" \\\n",
    "    \"three\"\n",
    "print(short_rows)\n",
    "\n",
    "long_string = \"first row second row third row\"\n",
    "print(long_string)\n",
    "\n",
    "shorter = \"first row \\\n",
    "second row \\\n",
    "third row\"\n",
    "print(shorter)"
   ]
  },
  {
   "cell_type": "markdown",
   "id": "e06ff17e-6ed0-496d-86dc-a67cd1e3d1d3",
   "metadata": {},
   "source": [
    "## Multiline strings"
   ]
  },
  {
   "cell_type": "code",
   "execution_count": 5,
   "id": "28850167-6535-4ccd-87e8-671be49ab768",
   "metadata": {},
   "outputs": [
    {
     "name": "stdout",
     "output_type": "stream",
     "text": [
      "Joe:   23\n",
      "Jane:   7 \n",
      "Jacqueline  19\n",
      "\n"
     ]
    }
   ],
   "source": [
    "text = \"Joe:   23\\nJane:   7 \\nJacqueline  19\\n\"\n",
    "\n",
    "print(text)"
   ]
  },
  {
   "cell_type": "markdown",
   "id": "08ddfea6-ade9-4ebe-9142-1a7bdff79b80",
   "metadata": {},
   "source": [
    "## Triple quoted strings (multiline)"
   ]
  },
  {
   "cell_type": "markdown",
   "id": "cdf19c1f-4639-4142-a0e9-11e4ad86ce96",
   "metadata": {},
   "source": [
    "If you would like to create a string that spreads on multiple lines, there is a possibility to put the text between 3 quotes on both sides. Either 2*3 single-quotes or 2*3 double-quotes.\n"
   ]
  },
  {
   "cell_type": "code",
   "execution_count": 6,
   "id": "5794b495-f095-4b9e-a032-401fa281f7e0",
   "metadata": {},
   "outputs": [
    {
     "name": "stdout",
     "output_type": "stream",
     "text": [
      "\n",
      "Joe:        23\n",
      "Jane:        7\n",
      "Jacqueline  19\n",
      "\n"
     ]
    }
   ],
   "source": [
    "text = \"\"\"\n",
    "Joe:        23\n",
    "Jane:        7\n",
    "Jacqueline  19\n",
    "\"\"\"\n",
    "\n",
    "print(text)"
   ]
  },
  {
   "cell_type": "markdown",
   "id": "9fa19b50-80f5-4e76-b024-46847f63a150",
   "metadata": {},
   "source": [
    "## Triple quoted comments - documentation"
   ]
  },
  {
   "cell_type": "code",
   "execution_count": 8,
   "id": "c8000ad8-2c6a-4bca-a510-50a3447c10fd",
   "metadata": {},
   "outputs": [
    {
     "name": "stdout",
     "output_type": "stream",
     "text": [
      "Hello World\n",
      "first row\n",
      "second row\n",
      "third row\n"
     ]
    }
   ],
   "source": [
    "\"\"\"\n",
    "Documentation of the module\n",
    "\"\"\"\n",
    "\n",
    "def some_funcion():\n",
    "    \"Documentation of the function\"\n",
    "    pass\n",
    "\n",
    "text = \"\"\"first row\n",
    "second row\n",
    "third row\"\"\"\n",
    "\n",
    "\"a string\"\n",
    "\n",
    "\"\"\"another\n",
    "   longer\n",
    "string with code:\n",
    "print(\"this is not printed\")\n",
    "\"\"\"\n",
    "\n",
    "\n",
    "print(\"Hello World\")\n",
    "print(text)"
   ]
  },
  {
   "cell_type": "markdown",
   "id": "212fff29-0c94-4cf6-9e7e-bd8e892a26aa",
   "metadata": {},
   "source": [
    "## String length (len)"
   ]
  },
  {
   "cell_type": "markdown",
   "id": "481ff7ae-bfa4-4f57-b104-21aeac08ca12",
   "metadata": {},
   "source": [
    "The len function returns the length of the string in number of characters.\n"
   ]
  },
  {
   "cell_type": "code",
   "execution_count": 9,
   "id": "89c699ff-79bc-4fa3-9664-16b21e1108e7",
   "metadata": {},
   "outputs": [
    {
     "name": "stdout",
     "output_type": "stream",
     "text": [
      "11\n",
      "12\n"
     ]
    }
   ],
   "source": [
    "line = \"Hello World\"\n",
    "hw = len(line)\n",
    "print(hw)  # 11\n",
    "\n",
    "text = \"\"\"Hello \n",
    "World\"\"\"\n",
    "print(len(text))  # 12"
   ]
  },
  {
   "cell_type": "markdown",
   "id": "0a423ccf-4f3d-426b-9eb1-daa7538e3a02",
   "metadata": {},
   "source": [
    "## String repetition and concatenation\n",
    "\n"
   ]
  },
  {
   "cell_type": "markdown",
   "id": "737dfb9a-a92e-474e-a02e-0326687746b7",
   "metadata": {},
   "source": [
    "You might be used to the fact that you can only multiply numbers, but in python you can also \"multiply\" a string by a number. It is called repetition. In this example we have a string \"Jar \" that we repeat twice.\n",
    "We can also add two strings to concatenate them together.\n",
    "\n",
    "I don't think the repetition operator is used very often, but in one case it could come in very handy. When you are writing some text report and you'd like to add a long line of dashes that would be exactly the same length as your title.\n"
   ]
  },
  {
   "cell_type": "code",
   "execution_count": 12,
   "id": "363e8987-aaf0-41ef-8e3b-e45d5a7c23e3",
   "metadata": {},
   "outputs": [
    {
     "name": "stdout",
     "output_type": "stream",
     "text": [
      "Jar Jar Jar Jar \n",
      "Jar Jar Jar Jar Binks\n",
      "We have some title\n",
      "------------------\n"
     ]
    }
   ],
   "source": [
    "name = 2 * 'Jar ' * 2\n",
    "print(name)        # Jar Jar Jar Jar\n",
    "\n",
    "full_name = name + 'Binks'\n",
    "print(full_name)   # Jar Jar Binks\n",
    "\n",
    "\n",
    "title = \"We have some title\"\n",
    "print(title)\n",
    "print('-' * len(title))\n",
    "\n",
    "# We have some title\n",
    "# ------------------"
   ]
  },
  {
   "cell_type": "markdown",
   "id": "959a5770-deaa-448f-a0f7-7c19536767a6",
   "metadata": {},
   "source": [
    "## A character in a string"
   ]
  },
  {
   "cell_type": "code",
   "execution_count": 13,
   "id": "7b6c1915-d684-4abf-bf0e-3d748028287c",
   "metadata": {},
   "outputs": [
    {
     "name": "stdout",
     "output_type": "stream",
     "text": [
      "H\n",
      "W\n"
     ]
    }
   ],
   "source": [
    "text = \"Hello World\"\n",
    "\n",
    "a = text[0]\n",
    "print(a)      # H\n",
    "\n",
    "b = text[6]\n",
    "print(b)      # W"
   ]
  },
  {
   "cell_type": "markdown",
   "id": "ee6d1c1e-0fc5-4427-8327-ed915bccdf17",
   "metadata": {},
   "source": [
    "## String slice (instead of substr)"
   ]
  },
  {
   "cell_type": "code",
   "execution_count": 14,
   "id": "97b10fcf-4d3a-43b6-a113-2533bf325474",
   "metadata": {},
   "outputs": [
    {
     "name": "stdout",
     "output_type": "stream",
     "text": [
      "ell\n",
      "llo World\n",
      "He\n",
      "ell\n"
     ]
    }
   ],
   "source": [
    "text = \"Hello World\"\n",
    "\n",
    "b = text[1:4]\n",
    "print(b)          # ell\n",
    "\n",
    "print(text[2:])   # llo World\n",
    "print(text[:2])   # He\n",
    "\n",
    "start = 1\n",
    "end = 4\n",
    "print(text[start:end])  # ell"
   ]
  },
  {
   "cell_type": "markdown",
   "id": "d20206d4-cac9-4301-8cd2-36975154fc93",
   "metadata": {},
   "source": [
    "## Change a string"
   ]
  },
  {
   "cell_type": "markdown",
   "id": "8a50988c-df7d-4133-a567-9daeb6dc9595",
   "metadata": {},
   "source": [
    "In Python strings are **\"immutable\"**, meaning you cannot change them. You can replace a whole string in a variable, but you cannot change it.\n",
    "In the following example we wanted to replace the 3rd character (index 2), and put \"Y\" in place. This raised an exception\n"
   ]
  },
  {
   "cell_type": "code",
   "execution_count": 15,
   "id": "6afebcd6-bec9-48c9-8e41-f690a384eef1",
   "metadata": {},
   "outputs": [
    {
     "name": "stdout",
     "output_type": "stream",
     "text": [
      "abcd\n"
     ]
    },
    {
     "ename": "TypeError",
     "evalue": "'str' object does not support item assignment",
     "output_type": "error",
     "traceback": [
      "\u001b[0;31m---------------------------------------------------------------------------\u001b[0m",
      "\u001b[0;31mTypeError\u001b[0m                                 Traceback (most recent call last)",
      "Cell \u001b[0;32mIn[15], line 4\u001b[0m\n\u001b[1;32m      1\u001b[0m text \u001b[38;5;241m=\u001b[39m \u001b[38;5;124m\"\u001b[39m\u001b[38;5;124mabcd\u001b[39m\u001b[38;5;124m\"\u001b[39m\n\u001b[1;32m      2\u001b[0m \u001b[38;5;28mprint\u001b[39m(text)     \u001b[38;5;66;03m# abcd\u001b[39;00m\n\u001b[0;32m----> 4\u001b[0m text[\u001b[38;5;241m2\u001b[39m] \u001b[38;5;241m=\u001b[39m \u001b[38;5;124m'\u001b[39m\u001b[38;5;124mY\u001b[39m\u001b[38;5;124m'\u001b[39m\n\u001b[1;32m      6\u001b[0m \u001b[38;5;28mprint\u001b[39m(\u001b[38;5;124m\"\u001b[39m\u001b[38;5;124mdone\u001b[39m\u001b[38;5;124m\"\u001b[39m)\n\u001b[1;32m      7\u001b[0m \u001b[38;5;28mprint\u001b[39m(text)\n",
      "\u001b[0;31mTypeError\u001b[0m: 'str' object does not support item assignment"
     ]
    }
   ],
   "source": [
    "text = \"abcd\"\n",
    "print(text)     # abcd\n",
    "\n",
    "text[2] = 'Y'\n",
    "\n",
    "print(\"done\")\n",
    "print(text)"
   ]
  },
  {
   "cell_type": "markdown",
   "id": "16bb1fba-9ec1-4c5e-9c99-81247058892c",
   "metadata": {},
   "source": [
    "## How to change a string"
   ]
  },
  {
   "cell_type": "code",
   "execution_count": 16,
   "id": "d949e89d-5d01-4a07-a04e-dab1966e4c7c",
   "metadata": {},
   "outputs": [
    {
     "name": "stdout",
     "output_type": "stream",
     "text": [
      "abcd\n",
      "abYd\n"
     ]
    }
   ],
   "source": [
    "text = \"abcd\"\n",
    "print(text)      # abcd\n",
    "\n",
    "text = text[:2] + 'Y' + text[3:]\n",
    "print(text)      # abYd"
   ]
  },
  {
   "cell_type": "markdown",
   "id": "b0ae5b0f-e0fa-4b11-be0c-e7bdb87d939f",
   "metadata": {
    "tags": []
   },
   "source": [
    "## String copy"
   ]
  },
  {
   "cell_type": "markdown",
   "id": "5ccd828d-8a63-4229-9671-12c464ad7e3d",
   "metadata": {},
   "source": [
    "When assigning a variable pointing to a string, the new variable is pointing to the same string.. If we then assign some other string to either of the variables, then they will point to two different strings."
   ]
  },
  {
   "cell_type": "code",
   "execution_count": 17,
   "id": "a4e44145-9e17-463b-89cc-bc8898868c49",
   "metadata": {},
   "outputs": [
    {
     "name": "stdout",
     "output_type": "stream",
     "text": [
      "abcd\n",
      "abcdef\n",
      "abcdef\n",
      "xyz\n",
      "abcdef\n"
     ]
    }
   ],
   "source": [
    "text = \"abcd\"\n",
    "print(text)     # abcd\n",
    "\n",
    "text = text + \"ef\"\n",
    "print(text)     # abcdef\n",
    "\n",
    "other = text\n",
    "print(other)     # abcdef\n",
    "text = \"xyz\"\n",
    "print(text)     # xyz\n",
    "print(other)     # abcdef\n"
   ]
  },
  {
   "cell_type": "markdown",
   "id": "74ef3271-b185-4029-85d4-6001703fe1df",
   "metadata": {},
   "source": [
    "## index in string\n"
   ]
  },
  {
   "cell_type": "code",
   "execution_count": 21,
   "id": "1c5b7505-4978-497e-962c-f882fe706183",
   "metadata": {},
   "outputs": [
    {
     "name": "stdout",
     "output_type": "stream",
     "text": [
      "3\n",
      "XYZ\n",
      "xYz\n",
      "xyz\n"
     ]
    }
   ],
   "source": [
    "a = \"xYz\"\n",
    "print(len(a))     # 3\n",
    "\n",
    "b = a.upper()\n",
    "print(b)          # XYZ\n",
    "print(a)          # xYz   - immutable!\n",
    "print(a.lower())  # xyz"
   ]
  },
  {
   "cell_type": "markdown",
   "id": "e89754aa-d41d-41b9-a294-2afeebcd0144",
   "metadata": {},
   "source": [
    "\n",
    "Type dir(\"\") in the REPL to get the list of string methods.\n",
    "List of built-in functions.\n",
    "List of string methods."
   ]
  },
  {
   "cell_type": "code",
   "execution_count": 22,
   "id": "514cac3a-6f70-46c4-b190-4401dab7547c",
   "metadata": {},
   "outputs": [
    {
     "name": "stdout",
     "output_type": "stream",
     "text": [
      "String Methods:\n",
      "['__add__', '__class__', '__contains__', '__delattr__', '__dir__', '__doc__', '__eq__', '__format__', '__ge__', '__getattribute__', '__getitem__', '__getnewargs__', '__gt__', '__hash__', '__init__', '__init_subclass__', '__iter__', '__le__', '__len__', '__lt__', '__mod__', '__mul__', '__ne__', '__new__', '__reduce__', '__reduce_ex__', '__repr__', '__rmod__', '__rmul__', '__setattr__', '__sizeof__', '__str__', '__subclasshook__', 'capitalize', 'casefold', 'center', 'count', 'encode', 'endswith', 'expandtabs', 'find', 'format', 'format_map', 'index', 'isalnum', 'isalpha', 'isascii', 'isdecimal', 'isdigit', 'isidentifier', 'islower', 'isnumeric', 'isprintable', 'isspace', 'istitle', 'isupper', 'join', 'ljust', 'lower', 'lstrip', 'maketrans', 'partition', 'removeprefix', 'removesuffix', 'replace', 'rfind', 'rindex', 'rjust', 'rpartition', 'rsplit', 'rstrip', 'split', 'splitlines', 'startswith', 'strip', 'swapcase', 'title', 'translate', 'upper', 'zfill']\n"
     ]
    }
   ],
   "source": [
    "print(\"String Methods:\")\n",
    "print(dir(\"\"))"
   ]
  },
  {
   "cell_type": "markdown",
   "id": "548875a7-3e4e-41ab-92c3-75570d58c67c",
   "metadata": {},
   "source": [
    "## index in string with range\n"
   ]
  },
  {
   "cell_type": "code",
   "execution_count": 24,
   "id": "4d8885ab-6858-4105-847e-77cbf430f97e",
   "metadata": {},
   "outputs": [
    {
     "name": "stdout",
     "output_type": "stream",
     "text": [
      "4\n",
      "0\n",
      "22\n"
     ]
    },
    {
     "ename": "ValueError",
     "evalue": "substring not found",
     "output_type": "error",
     "traceback": [
      "\u001b[0;31m---------------------------------------------------------------------------\u001b[0m",
      "\u001b[0;31mValueError\u001b[0m                                Traceback (most recent call last)",
      "Cell \u001b[0;32mIn[24], line 5\u001b[0m\n\u001b[1;32m      3\u001b[0m \u001b[38;5;28mprint\u001b[39m(text\u001b[38;5;241m.\u001b[39mindex(\u001b[38;5;124m\"\u001b[39m\u001b[38;5;124mThe\u001b[39m\u001b[38;5;124m\"\u001b[39m))    \u001b[38;5;66;03m# 0\u001b[39;00m\n\u001b[1;32m      4\u001b[0m \u001b[38;5;28mprint\u001b[39m(text\u001b[38;5;241m.\u001b[39mindex(\u001b[38;5;124m\"\u001b[39m\u001b[38;5;124mthe\u001b[39m\u001b[38;5;124m\"\u001b[39m))    \u001b[38;5;66;03m# 22\u001b[39;00m\n\u001b[0;32m----> 5\u001b[0m \u001b[38;5;28mprint\u001b[39m(\u001b[43mtext\u001b[49m\u001b[38;5;241;43m.\u001b[39;49m\u001b[43mindex\u001b[49m\u001b[43m(\u001b[49m\u001b[38;5;124;43m\"\u001b[39;49m\u001b[38;5;124;43mdog\u001b[39;49m\u001b[38;5;124;43m\"\u001b[39;49m\u001b[43m)\u001b[49m)\n",
      "\u001b[0;31mValueError\u001b[0m: substring not found"
     ]
    }
   ],
   "source": [
    "text = \"The black cat climbed the green tree.\"\n",
    "print(text.index(\"bl\"))     # 4\n",
    "print(text.index(\"The\"))    # 0\n",
    "print(text.index(\"the\"))    # 22\n",
    "print(text.index(\"dog\"))"
   ]
  },
  {
   "cell_type": "markdown",
   "id": "2bafdcb5-68fb-43cc-b89b-c3552fe623ba",
   "metadata": {},
   "source": [
    "## Find all in the string\n"
   ]
  },
  {
   "cell_type": "markdown",
   "id": "105934d3-f485-4a45-b090-d8722ddb0dc6",
   "metadata": {},
   "source": [
    "check loops sections"
   ]
  },
  {
   "cell_type": "markdown",
   "id": "d3152fe9-24e7-44de-b085-84607d044f4d",
   "metadata": {},
   "source": [
    "## rindex in string with range\n"
   ]
  },
  {
   "cell_type": "markdown",
   "id": "24aabe9a-e838-4733-8e04-12cd624117f8",
   "metadata": {},
   "source": [
    "the `rindex()` method is a string method that is used to find the **last occurrence** of a specified substring within a string. It **returns the index** of the last occurrence of the substring if it is found, and **raises a ValueError if the substring is not found**.\n",
    "\n",
    "The syntax for using rindex() is as follows:\n",
    "\n",
    "`str.rindex(sub[, start[, end]])`"
   ]
  },
  {
   "cell_type": "code",
   "execution_count": 29,
   "id": "df80cc06-7b42-4e9b-b2b8-b896fac78cde",
   "metadata": {},
   "outputs": [
    {
     "name": "stdout",
     "output_type": "stream",
     "text": [
      "14\n",
      "14\n",
      "10\n",
      "26\n"
     ]
    },
    {
     "ename": "ValueError",
     "evalue": "substring not found",
     "output_type": "error",
     "traceback": [
      "\u001b[0;31m---------------------------------------------------------------------------\u001b[0m",
      "\u001b[0;31mValueError\u001b[0m                                Traceback (most recent call last)",
      "Cell \u001b[0;32mIn[29], line 7\u001b[0m\n\u001b[1;32m      4\u001b[0m \u001b[38;5;28mprint\u001b[39m(text\u001b[38;5;241m.\u001b[39mrindex(\u001b[38;5;124m\"\u001b[39m\u001b[38;5;124mc\u001b[39m\u001b[38;5;124m\"\u001b[39m, \u001b[38;5;241m8\u001b[39m, \u001b[38;5;241m13\u001b[39m))  \u001b[38;5;66;03m# 10\u001b[39;00m\n\u001b[1;32m      6\u001b[0m \u001b[38;5;28mprint\u001b[39m(text\u001b[38;5;241m.\u001b[39mrindex(\u001b[38;5;124m\"\u001b[39m\u001b[38;5;124mgr\u001b[39m\u001b[38;5;124m\"\u001b[39m, \u001b[38;5;241m8\u001b[39m))     \u001b[38;5;66;03m# 26\u001b[39;00m\n\u001b[0;32m----> 7\u001b[0m \u001b[38;5;28mprint\u001b[39m(\u001b[43mtext\u001b[49m\u001b[38;5;241;43m.\u001b[39;49m\u001b[43mrindex\u001b[49m\u001b[43m(\u001b[49m\u001b[38;5;124;43m\"\u001b[39;49m\u001b[38;5;124;43mgr\u001b[39;49m\u001b[38;5;124;43m\"\u001b[39;49m\u001b[43m,\u001b[49m\u001b[43m \u001b[49m\u001b[38;5;241;43m8\u001b[39;49m\u001b[43m,\u001b[49m\u001b[43m \u001b[49m\u001b[38;5;241;43m25\u001b[39;49m\u001b[43m)\u001b[49m)\n",
      "\u001b[0;31mValueError\u001b[0m: substring not found"
     ]
    }
   ],
   "source": [
    "text = \"The black cat climbed the green tree.\"\n",
    "print(text.rindex(\"c\"))         # 14\n",
    "print(text.rindex(\"c\", 8))      # 14\n",
    "print(text.rindex(\"c\", 8, 13))  # 10\n",
    "\n",
    "print(text.rindex(\"gr\", 8))     # 26\n",
    "print(text.rindex(\"gr\", 8, 25))"
   ]
  },
  {
   "cell_type": "markdown",
   "id": "718d49c8-e598-424d-8a57-305b59c32987",
   "metadata": {},
   "source": [
    "## find in string"
   ]
  },
  {
   "cell_type": "markdown",
   "id": "34c8291f-6d5a-410e-918b-342875e51fbd",
   "metadata": {},
   "source": [
    "Alternatively use find and rfind that will return -1 instead of raising an exception.\n"
   ]
  },
  {
   "cell_type": "code",
   "execution_count": 30,
   "id": "10a502a7-25b6-433e-be78-f924da4ed56d",
   "metadata": {},
   "outputs": [
    {
     "name": "stdout",
     "output_type": "stream",
     "text": [
      "4\n",
      "0\n",
      "-1\n",
      "7\n",
      "10\n",
      "26\n",
      "-1\n",
      "14\n"
     ]
    }
   ],
   "source": [
    "text = \"The black cat climbed the green tree.\"\n",
    "print(text.find(\"bl\"))     # 4\n",
    "print(text.find(\"The\"))    # 0\n",
    "print(text.find(\"dog\"))    # -1\n",
    "\n",
    "print(text.find(\"c\"))      # 7\n",
    "print(text.find(\"c\", 8))   # 10\n",
    "\n",
    "print(text.find(\"gr\", 8))      # 26\n",
    "print(text.find(\"gr\", 8, 16))  # -1\n",
    "\n",
    "\n",
    "print(text.rfind(\"c\", 8))   # 14"
   ]
  },
  {
   "cell_type": "markdown",
   "id": "bb8f8f83-da1f-44e9-8ecd-d90abe866876",
   "metadata": {},
   "source": [
    "## in string\n"
   ]
  },
  {
   "cell_type": "markdown",
   "id": "4e5cf121-b4f6-4b4c-9e30-6e11b9233421",
   "metadata": {},
   "source": [
    "Check if a substring is in the string?"
   ]
  },
  {
   "cell_type": "code",
   "execution_count": 32,
   "id": "58c82807-2ea3-4c5a-897d-618ca065adca",
   "metadata": {},
   "outputs": [
    {
     "name": "stdout",
     "output_type": "stream",
     "text": [
      "found wo\n",
      "NOT found x\n"
     ]
    }
   ],
   "source": [
    "txt = \"hello world\"\n",
    "if \"wo\" in txt:\n",
    "    print('found wo')\n",
    "\n",
    "if \"x\" in txt:\n",
    "    print(\"found x\")\n",
    "else:\n",
    "    print(\"NOT found x\")"
   ]
  },
  {
   "cell_type": "markdown",
   "id": "5b52f743-2047-490c-9605-7c181c406ef3",
   "metadata": {},
   "source": [
    "## index if in string\n"
   ]
  },
  {
   "cell_type": "code",
   "execution_count": 36,
   "id": "1895a228-ffe1-40ad-80cc-a22872f9aca7",
   "metadata": {},
   "outputs": [
    {
     "name": "stdout",
     "output_type": "stream",
     "text": [
      "cat is at 10\n",
      "dog not found\n"
     ]
    }
   ],
   "source": [
    "sub = \"cat\"\n",
    "txt = \"The black cat climbed the green tree\"\n",
    "\n",
    "if sub in txt:\n",
    "    loc = txt.index(sub)\n",
    "    print(sub + \" is at \" + str(loc))\n",
    "else:\n",
    "    print(sub + \" not found\")\n",
    "    \n",
    "sub = \"dog\"\n",
    "if sub in txt:\n",
    "    loc = txt.index(sub)\n",
    "    print(sub + \" is at \" + str(loc))\n",
    "else:\n",
    "    print(sub + \" not found\")\n",
    "    \n",
    "# cat is at 10"
   ]
  },
  {
   "cell_type": "markdown",
   "id": "2391867c-a4a6-431d-897c-83a602200bfc",
   "metadata": {},
   "source": [
    "## Encodings: ASCII, Windows-1255, Unicode\n"
   ]
  },
  {
   "cell_type": "markdown",
   "id": "dc2bb0c8-acf8-4d0b-a82a-ae586da875e7",
   "metadata": {},
   "source": [
    "**ISO/IEC 8859-8:**\n",
    "\n",
    "> ISO/IEC 8859-8 is an 8-bit character encoding standard that represents Hebrew characters.\n",
    ">\n",
    "> In ISO/IEC 8859-8, each character is encoded using a single byte.\n",
    "\n",
    "\n"
   ]
  },
  {
   "cell_type": "code",
   "execution_count": null,
   "id": "cc63f068-4def-474d-ae4d-50a235b1b5c3",
   "metadata": {},
   "outputs": [],
   "source": [
    "with open('file.txt', 'r', encoding='iso8859-8') as f:\n",
    "    content = f.read()"
   ]
  },
  {
   "cell_type": "markdown",
   "id": "a3151ac1-93bd-43fb-b3a8-82b3dae4a0d1",
   "metadata": {},
   "source": [
    "**Windows-1255:**\n",
    "\n",
    "> Windows-1255 is another 8-bit character encoding widely used for Hebrew characters in Microsoft Windows systems.\n",
    ">\n",
    "> Similar to ISO/IEC 8859-8, Windows-1255 assigns a single byte to represent each character."
   ]
  },
  {
   "cell_type": "code",
   "execution_count": null,
   "id": "1ae26b04-84be-4098-bd8b-dc9ab7881067",
   "metadata": {},
   "outputs": [],
   "source": [
    "with open('file.txt', 'r', encoding='cp1255') as f:\n",
    "    content = f.read()"
   ]
  },
  {
   "cell_type": "markdown",
   "id": "c34f0883-97db-4802-aea1-d64dad703257",
   "metadata": {},
   "source": [
    "**Unicode (UTF-8):**\n",
    "\n",
    "> Unicode is a universal character encoding standard that supports a vast range of characters from various languages and scripts, including Hebrew.\n",
    ">\n",
    "> UTF-8 is one of the popular encodings within the Unicode standard.\n",
    ">\n",
    "> UTF-8 uses variable-length encoding, where a single character may be represented by multiple bytes.\n",
    ">\n",
    "> Python 3 uses Unicode as the default encoding for string objects, and UTF-8 is the default encoding used when reading and writing files."
   ]
  },
  {
   "cell_type": "code",
   "execution_count": null,
   "id": "429d3037-097a-4760-ab55-ca5c185ff49b",
   "metadata": {},
   "outputs": [],
   "source": [
    "with open('file.txt', 'r') as f:\n",
    "    content = f.read()"
   ]
  },
  {
   "cell_type": "markdown",
   "id": "0d518572-0d86-4431-b901-702faee3c1db",
   "metadata": {},
   "source": [
    "## raw strings\n"
   ]
  },
  {
   "cell_type": "markdown",
   "id": "4202f110-0df5-4f47-bb40-4d7324459c69",
   "metadata": {},
   "source": [
    "Escape sequences are kept intact and not escaped. Used in regexes.\n",
    "\n"
   ]
  },
  {
   "cell_type": "code",
   "execution_count": 43,
   "id": "4b67446e-8cca-4556-a652-693149f0cce4",
   "metadata": {},
   "outputs": [
    {
     "name": "stdout",
     "output_type": "stream",
     "text": [
      "lorem ipsum.txt\n",
      "لورم ایپسوم یا طرح‌نما (به انگلیسی: Lorem ipsum) به متنی آزمایشی و بی‌معنی در صنعت چاپ، صفحه‌آرایی و طراحی گرافیک گفته می‌شود. طراح گرافیک از این متن به عنوان عنصری از ترکیب بندی برای پر کردن صفحه و ارایه اولیه شکل ظاهری و کلی طرح سفارش گرفته شده استفاده می نماید، تا از نظر گرافیکی نشانگر چگونگی نوع و اندازه فونت و ظاهر متن باشد. معمولا طراحان گرافیک برای صفحه‌آرایی، نخست از متن‌های آزمایشی و بی‌معنی استفاده می‌کنند تا صرفا به مشتری یا صاحب کار خود نشان دهند که صفحه طراحی یا صفحه بندی شده بعد از اینکه متن در آن قرار گیرد چگونه به نظر می‌رسد و قلم‌ها و اندازه‌بندی‌ها چگونه در نظر گرفته شده‌است. از آنجایی که طراحان عموما نویسنده متن نیستند و وظیفه رعایت حق تکثیر متون را ندارند و در همان حال کار آنها به نوعی وابسته به متن می‌باشد آنها با استفاده از محتویات ساختگی، صفحه گرافیکی خود را صفحه‌آرایی می‌کنند تا مرحله طراحی و صفحه‌بندی را به پایان برند.\n",
      "توسط فرم زیر می توانید متن ساختگی مورد نظر خود را در واحدهای کاراکتر، کلمه و پاراگراف تولید کنید، سپس آنرا کپی کنید و در کار مورد نظر خود قرار دهید.\n"
     ]
    }
   ],
   "source": [
    "# file_a = \"c:\\Users\\Foobar\\readme.txt\"\n",
    "# print(file_a)\n",
    "\n",
    "# Python2:  eadme.txtFoobar\n",
    "# Python3:\n",
    "#   File \"examples/strings/raw.py\", line 6\n",
    "#     file_a = \"c:\\Users\\Foobar\\readme.txt\"\n",
    "#             ^\n",
    "# SyntaxError: (unicode error) 'unicodeescape' codec\n",
    "#    can't decode bytes in position 2-3: truncated \\UXXXXXXXX escape\n",
    "\n",
    "\n",
    "file_b = \"lorem ipsum.txt\"\n",
    "print(file_b)  # c:\\Users\\Foobar\\readme.txt\n",
    "with open(file_b, 'r') as f:\n",
    "    content = f.read()\n",
    "    print(content)\n",
    "\n",
    "# file_c = r\"c:\\Users\\Foobar\\readme.txt\"\n",
    "# print(file_c)  # c:\\Users\\Foobar\\readme.txt\n",
    "\n",
    "# text = r\"text \\n \\d \\s \\ and more\"\n",
    "# print(text)    # text \\n \\d \\s \\ and more"
   ]
  },
  {
   "cell_type": "markdown",
   "id": "3ae37a5e-3f99-4da8-9548-80938996b672",
   "metadata": {},
   "source": [
    "## ord\n"
   ]
  },
  {
   "cell_type": "markdown",
   "id": "55d2ee1b-384f-4278-bbf3-e46a6fbbaa74",
   "metadata": {},
   "source": [
    "- Get the Unicode code point representation of a character.\n",
    "\n",
    "- It returns an integer representing the Unicode code point of the character passed as an argument.\n",
    "\n",
    "- The syntax for using ord() is as follows:\n",
    "\n",
    "- `ord(character)`"
   ]
  },
  {
   "cell_type": "code",
   "execution_count": 45,
   "id": "0fb9e836-2de2-492e-97c3-0e92d8d8ff0e",
   "metadata": {},
   "outputs": [
    {
     "name": "stdout",
     "output_type": "stream",
     "text": [
      "97\n",
      "61\n",
      "13\n",
      "10\n",
      "32\n",
      "225\n",
      "243\n",
      "1488\n",
      "1571\n",
      "945\n",
      "12623\n",
      "128520\n"
     ]
    }
   ],
   "source": [
    "print( ord('a') )   # 97\n",
    "print( ord('=') )   # 61\n",
    "print( ord('\\r') )  # 13\n",
    "print( ord('\\n') )  # 10\n",
    "print( ord(' ') )   # 32\n",
    "\n",
    "print( ord('á') )   # 225    Hungraian\n",
    "print( ord('ó') )   # 243\n",
    "print( ord('א') )   # 1488   Hebrew alef\n",
    "print( ord('أ') )   # 1571   Arabic/Farsi\n",
    "print( ord('α') )   # 945    Greek\n",
    "print( ord('ㅏ') )  # 12623  Korean\n",
    "print( ord('😈') )  # 128520"
   ]
  },
  {
   "cell_type": "markdown",
   "id": "a3961153-774e-4368-bbbe-df4c5074d9c9",
   "metadata": {},
   "source": [
    "## chr - number to character"
   ]
  },
  {
   "cell_type": "code",
   "execution_count": 46,
   "id": "bdba953c-fbb5-4317-971f-cb940dee4b41",
   "metadata": {},
   "outputs": [
    {
     "name": "stdout",
     "output_type": "stream",
     "text": [
      "!\n",
      "0\n",
      "A\n",
      "á\n",
      "ó\n",
      "ב\n",
      "ؤ\n",
      "α\n",
      "ο\n",
      "Ω\n",
      "Σ\n",
      "መ\n",
      "ㅐ\n",
      "😇\n",
      "😈\n"
     ]
    }
   ],
   "source": [
    "print( chr(33) )  # !\n",
    "print( chr(48) )  # 0\n",
    "print( chr(65) )  # A\n",
    "\n",
    "print( chr(225) )    # á   Hungraian\n",
    "print( chr(243) )    # ó   Hungraian\n",
    "print( chr(1489) )   # ב   Hebrew bet\n",
    "print( chr(1572) )   # ؤ   Arabic/Farsi\n",
    "print( chr(945) )    # α   Greek\n",
    "print( chr(959) )    # ο   Greek omicron\n",
    "print( chr(937) )    # Ω   Greek omega\n",
    "print( chr(931) )    # Σ   Greek sigma\n",
    "print( chr(4632) )   # መ   Amharic\n",
    "print( chr(12624) )  # ㅐ  Korean\n",
    "print( chr(128519) ) # 😇\n",
    "print( chr(128520) ) # 😈"
   ]
  },
  {
   "cell_type": "markdown",
   "id": "1f43ee09-10c7-490b-b97a-c7149e86a5e1",
   "metadata": {
    "tags": []
   },
   "source": [
    "## Exercise: one string in another string\n"
   ]
  },
  {
   "cell_type": "markdown",
   "id": "a57c2b62-573f-4fee-be2f-72012e325312",
   "metadata": {},
   "source": [
    "- Write script that accepts two strings and tells if one of them can be found in the other and where?"
   ]
  },
  {
   "cell_type": "code",
   "execution_count": null,
   "id": "809a87c5-a670-4fa0-8033-b0486ffb0a93",
   "metadata": {},
   "outputs": [],
   "source": [
    "import sys\n",
    "\n",
    "if len(sys.argv) != 3:\n",
    "    exit(f\"Usage: {sys.argv[0]} short-STRING long-STRING\")\n",
    "\n",
    "string = sys.argv[1]\n",
    "text   = sys.argv[2]\n",
    "\n",
    "if string in text:\n",
    "    loc = text.index(string)\n",
    "    print(string, \"can be found in \", text, \"at\", loc)\n",
    "else:\n",
    "    print(string, \"can NOT be found in \", text)"
   ]
  },
  {
   "cell_type": "markdown",
   "id": "5f562308-d132-4625-8c64-669f9343ecc5",
   "metadata": {},
   "source": [
    "## Exercise: Compare strings\n"
   ]
  },
  {
   "cell_type": "code",
   "execution_count": null,
   "id": "e4ec9fc3-9c71-4941-93b7-ac728b668b13",
   "metadata": {},
   "outputs": [],
   "source": [
    "mode = input(\"Mode of comparision: [length|ascii]\")\n",
    "if mode != \"length\" and mode != \"ascii\":\n",
    "    print(\"Not good\")\n",
    "    exit()\n",
    "\n",
    "str1 = input(\"String 1:\")\n",
    "str2 = input(\"String 2:\")\n",
    "\n",
    "if mode == \"length\":\n",
    "    if len(str1) > len(str2):\n",
    "        print(\"First is longer\")\n",
    "    elif len(str1) < len(str2):\n",
    "        print(\"Second is longer\")\n",
    "    else:\n",
    "        print(\"They are of equal length\")\n",
    "elif mode == \"ascii\":\n",
    "    if str1 > str2:\n",
    "        print(\"First is later in the ABC order\")\n",
    "    elif str1 < str2:\n",
    "        print(\"Second is later in the ABC order\")\n",
    "    else:\n",
    "        print(\"The strings are equal\")"
   ]
  },
  {
   "cell_type": "markdown",
   "id": "1245d10a-6e18-423e-a1fc-82fe0876946e",
   "metadata": {
    "tags": []
   },
   "source": [
    "## Exercise: Character to Unicode-8 - CLI\n"
   ]
  },
  {
   "cell_type": "markdown",
   "id": "85e429f0-d541-4ac3-806f-c6aeea7ce4db",
   "metadata": {},
   "source": [
    "- Write script that gets a character on the command line and prints out the Unicode code of it.\n",
    "\n",
    "- Write script that gets a string on the command line and prints out the Unicode code of each character."
   ]
  },
  {
   "cell_type": "code",
   "execution_count": null,
   "id": "3191adcd-3945-4f65-9293-4fa78083c8b9",
   "metadata": {},
   "outputs": [],
   "source": [
    "import sys\n",
    "\n",
    "if len(sys.argv) != 2:\n",
    "    exit(f\"Usage: {sys.argv[0]} CHARACTER\")\n",
    "\n",
    "print( ord( sys.argv[1]) )\n"
   ]
  },
  {
   "cell_type": "code",
   "execution_count": null,
   "id": "95bcdd54-b18a-40f2-a02a-0e75654ec379",
   "metadata": {},
   "outputs": [],
   "source": [
    "import sys\n",
    "\n",
    "if len(sys.argv) != 2:\n",
    "    exit(f\"Usage: {sys.argv[0]} STRING\")\n",
    "\n",
    "for cr in sys.argv[1]:\n",
    "    print( ord( cr ) )"
   ]
  },
  {
   "cell_type": "markdown",
   "id": "3353448a-0fc9-44a9-98e5-17ce3979babb",
   "metadata": {},
   "source": [
    "## Exercise: from Unicode to character - CLI"
   ]
  },
  {
   "cell_type": "markdown",
   "id": "e741e229-9e64-47de-8908-3d43cf3d3357",
   "metadata": {},
   "source": [
    "- Write script that accepts a number on the command line and prints the character represented by that number."
   ]
  },
  {
   "cell_type": "code",
   "execution_count": null,
   "id": "d0d67795-f6e4-4a05-82a6-c1e42564127c",
   "metadata": {},
   "outputs": [],
   "source": [
    "import sys\n",
    "\n",
    "if len(sys.argv) != 2:\n",
    "    exit(f\"Usage: {sys.argv[0]} NUMBER\")\n",
    "\n",
    "print( chr( int(sys.argv[1]) ) )"
   ]
  },
  {
   "cell_type": "markdown",
   "id": "c30709bf-eb9a-43d3-a74d-fc50655adc6a",
   "metadata": {},
   "source": [
    "## Exercise: ROT13"
   ]
  },
  {
   "cell_type": "markdown",
   "id": "f203f980-ccfd-46ef-8582-3bf974fa97b2",
   "metadata": {},
   "source": [
    "**ROT13 (\"rotate by 13 places\", sometimes hyphenated ROT-13)** is a simple letter substitution cipher that replaces a letter with the 13th letter after it in the latin alphabet. ROT13 is a special case of the Caesar cipher which was developed in ancient Rome.\n",
    "\n",
    "Because there are 26 letters (2×13) in the basic Latin alphabet, ROT13 is its own inverse; that is, to undo ROT13, the same algorithm is applied, so the same action can be used for encoding and decoding. The algorithm provides virtually no cryptographic security, and is often cited as a canonical example of weak encryption."
   ]
  },
  {
   "cell_type": "markdown",
   "id": "e65b733d-ad62-40a5-84a2-6d58dca5813c",
   "metadata": {},
   "source": [
    "\n",
    "- Create a script that given a string on the command line will print the ROT13 version of the string.\n",
    "\n",
    "- It should work like this:\n",
    "\n",
    "`$ python rot13.py \"Hello world!\"`\n",
    "\n",
    "`>>> Uryyb Jbeyq!`\n",
    "\n",
    "`$ python rot13.py \"Uryyb Jbeyq!\"`\n",
    "\n",
    "`>>>Hello world!`\n"
   ]
  },
  {
   "cell_type": "code",
   "execution_count": null,
   "id": "d5510617-5e23-498e-b582-bf8c854c912c",
   "metadata": {},
   "outputs": [],
   "source": [
    "import sys\n",
    "\n",
    "if len(sys.argv) != 2:\n",
    "    exit(f\"Usage: {sys.argv[0]} TEXT\")\n",
    "\n",
    "original = sys.argv[1]\n",
    "\n",
    "encoded = ''\n",
    "for char in original:\n",
    "    code = ord(char)\n",
    "    if 97 <= code and code <= 122:\n",
    "        new_char = chr((code-97 + 13 ) % 26 + 97)\n",
    "    elif 65 <= code and code <= 90:\n",
    "        new_char = chr((code-65 + 13 ) % 26 + 65)\n",
    "    else:\n",
    "        new_char = char\n",
    "\n",
    "    encoded += new_char\n",
    "\n",
    "print(encoded)"
   ]
  },
  {
   "cell_type": "markdown",
   "id": "e9f6082a-d591-4ab7-9295-96e2043bf30f",
   "metadata": {},
   "source": [
    "## TOP 10 MOST USEFUL STR FUNCTIONS "
   ]
  },
  {
   "cell_type": "markdown",
   "id": "e33c1210-1736-4c41-aca6-9e50f5d5df78",
   "metadata": {},
   "source": [
    "Here are the **top 10 most commonly used** string functions in Python:\n",
    "\n",
    "> `len():` Returns the length of a string, which is the number of characters in the string.\n",
    ">\n",
    "> Example: length = len(\"Hello\") returns 5.\n",
    "\n",
    ">`lower():` Converts all characters in a string to lowercase.\n",
    ">\n",
    "> Example: text = \"Hello World\".lower() returns \"hello world\".\n",
    "\n",
    "> `upper():` Converts all characters in a string to uppercase.\n",
    ">\n",
    "> Example: text = \"Hello World\".upper() returns \"HELLO WORLD\".\n",
    "\n",
    "> `strip():` Removes leading and trailing whitespace (spaces, tabs, newlines) from a string.\n",
    ">\n",
    "> Example: text = \" Hello \".strip() returns \"Hello\".\n",
    "\n",
    "> `split():` Splits a string into a list of substrings based on a specified delimiter.\n",
    ">\n",
    "> Example: words = \"Hello World\".split() returns ['Hello', 'World'].\n",
    "\n",
    "> `join():` Concatenates a list of strings into a single string using a specified delimiter.\n",
    ">\n",
    "> Example: result = \"-\".join(['Hello', 'World']) returns \"Hello-World\".\n",
    "\n",
    "> `replace():` Replaces all occurrences of a substring within a string with another substring.\n",
    ">\n",
    "> Example: new_text = \"Hello World\".replace('World', 'Python') returns \"Hello Python\".\n",
    "\n",
    "> `startswith():` Checks if a string starts with a specified substring.\n",
    ">\n",
    "> Example: is_start = \"Hello World\".startswith('Hello') returns True.\n",
    "\n",
    "> `endswith():` Checks if a string ends with a specified substring.\n",
    ">\n",
    "> Example: is_end = \"Hello World\".endswith('World') returns True.\n",
    "\n",
    "> `find():` Searches for the first occurrence of a substring within a string and returns its index. Returns -1 if the substring is not found.\n",
    ">\n",
    "> Example: index = \"Hello World\".find('World') returns 6.\n"
   ]
  },
  {
   "cell_type": "markdown",
   "id": "61022b52-88ba-4986-bae7-fecc502ec958",
   "metadata": {},
   "source": [
    "## <b style='color:red'>HARD CHALLENGES </b>"
   ]
  },
  {
   "cell_type": "markdown",
   "id": "f0ccc673-e6bc-4331-8f0a-a2dcdcc35a37",
   "metadata": {},
   "source": [
    "**String Permutations:**\n",
    "\n",
    "- Write a function that takes a string as input and returns all possible permutations of the characters in the string. The solution should handle cases where the string may contain duplicate characters.\n",
    "\n",
    "\n",
    "- `Input: 'abc' => Output: ['abc', 'acb', 'bac', 'bca', 'cab', 'cba']`\n",
    "\n",
    "- `Input: 'aab' => Output: ['aab', 'aba', 'baa']`"
   ]
  },
  {
   "cell_type": "code",
   "execution_count": 49,
   "id": "e7baa8f6-78dd-440a-bb6e-06bf2ea4925f",
   "metadata": {},
   "outputs": [],
   "source": [
    "#Write your code here"
   ]
  },
  {
   "cell_type": "markdown",
   "id": "7dd535f0-6e7c-4217-b771-ce9a6112fbfb",
   "metadata": {},
   "source": [
    "**String Compression:**\n",
    "\n",
    "- Implement a function that compresses a string by replacing repeated characters with a number indicating the count. For example, the string \"aabcccccaaa\" should be compressed to \"a2b1c5a3\". The function should return the compressed string only if it is shorter than the original string; otherwise, it should return the original string.\n",
    "\n",
    "\n",
    "- `Input: 'aabcccccaaa' => Output: 'a2b1c5a3'`\n",
    "- `Input: 'abcdef' => Output: 'abcdef'`"
   ]
  },
  {
   "cell_type": "code",
   "execution_count": 50,
   "id": "fd2452b3-2ebb-40c9-9148-830393fa2dc3",
   "metadata": {},
   "outputs": [],
   "source": [
    "# Write your code here"
   ]
  },
  {
   "cell_type": "markdown",
   "id": "260c65ac-a10b-499a-9317-977e171ded71",
   "metadata": {},
   "source": [
    "**Longest Common Substring:**\n",
    "\n",
    "- Given two strings, find the longest common substring present in both strings. A common substring is a sequence of characters that appears in both strings in the same order, but not necessarily consecutively. The solution should handle cases where there are multiple common substrings of the same length.\n",
    "\n",
    "- `Input: 'abcdef', 'cdefgh' => Output: 'cdef'`\n",
    "- `Input: 'abcd', 'efgh' => Output: '' (no common substring)`"
   ]
  },
  {
   "cell_type": "code",
   "execution_count": 51,
   "id": "7724ebd2-d515-48f7-b107-cce88a9f5afe",
   "metadata": {},
   "outputs": [],
   "source": [
    "# Write your code here"
   ]
  },
  {
   "cell_type": "code",
   "execution_count": null,
   "id": "c60c8076-1549-4587-aaf4-08a16f42fdad",
   "metadata": {},
   "outputs": [],
   "source": []
  }
 ],
 "metadata": {
  "kernelspec": {
   "display_name": "Python 3 (ipykernel)",
   "language": "python",
   "name": "python3"
  },
  "language_info": {
   "codemirror_mode": {
    "name": "ipython",
    "version": 3
   },
   "file_extension": ".py",
   "mimetype": "text/x-python",
   "name": "python",
   "nbconvert_exporter": "python",
   "pygments_lexer": "ipython3",
   "version": "3.9.7"
  }
 },
 "nbformat": 4,
 "nbformat_minor": 5
}
