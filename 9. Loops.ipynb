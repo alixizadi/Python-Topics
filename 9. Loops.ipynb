{
 "cells": [
  {
   "cell_type": "markdown",
   "id": "ce3179a6-c213-4542-9593-3f161e1fd407",
   "metadata": {},
   "source": [
    "## Loops: for-in and while"
   ]
  },
  {
   "cell_type": "markdown",
   "id": "ef1a03a4-bdb3-4efd-9f12-5f1f8172914f",
   "metadata": {},
   "source": [
    "- for in - to iterate over a well defined list of values. (characters, range of numbers, shopping list, etc.)\n",
    "- while - repeat an action till some condition is met. (or stopped being met)"
   ]
  },
  {
   "cell_type": "markdown",
   "id": "86e4fbb3-8dab-4ffb-8063-8e7036f10349",
   "metadata": {},
   "source": [
    "## for-in loop on strings\n"
   ]
  },
  {
   "cell_type": "code",
   "execution_count": 2,
   "id": "ae96a7e2-c7b3-415b-a229-859298ba9042",
   "metadata": {},
   "outputs": [
    {
     "name": "stdout",
     "output_type": "stream",
     "text": [
      "h\n",
      "e\n",
      "l\n",
      "l\n",
      "o\n",
      " \n",
      "w\n",
      "o\n",
      "r\n",
      "l\n",
      "d\n"
     ]
    }
   ],
   "source": [
    "txt = 'hello world'\n",
    "for ch in txt:\n",
    "    print(ch)"
   ]
  },
  {
   "cell_type": "markdown",
   "id": "b450230b-2861-428c-b534-df2cfcf74201",
   "metadata": {},
   "source": [
    "## for-in loop on list\n"
   ]
  },
  {
   "cell_type": "code",
   "execution_count": 3,
   "id": "f5df2ee2-953b-4147-b647-710b0259663e",
   "metadata": {},
   "outputs": [
    {
     "name": "stdout",
     "output_type": "stream",
     "text": [
      "Apple\n",
      "Banana\n",
      "Peach\n",
      "Orange\n",
      "Durian\n",
      "Papaya\n"
     ]
    }
   ],
   "source": [
    "fruits = [\"Apple\", \"Banana\", \"Peach\", \"Orange\", \"Durian\", \"Papaya\"]\n",
    "for fruit in fruits:\n",
    "    print(fruit)"
   ]
  },
  {
   "cell_type": "markdown",
   "id": "e4d4e901-758f-40e5-b832-faeb3712db88",
   "metadata": {},
   "source": [
    "## for-in loop on range\n"
   ]
  },
  {
   "cell_type": "code",
   "execution_count": 4,
   "id": "6f92e24a-5a86-4bac-8af4-0a743a01482a",
   "metadata": {},
   "outputs": [
    {
     "name": "stdout",
     "output_type": "stream",
     "text": [
      "3\n",
      "4\n",
      "5\n",
      "6\n"
     ]
    }
   ],
   "source": [
    "for ix in range(3, 7):\n",
    "    print(ix)"
   ]
  },
  {
   "cell_type": "markdown",
   "id": "ce7e002d-45f1-47f7-a051-dc3bf1bed3f4",
   "metadata": {},
   "source": [
    "## Iterable vs Iterator\n"
   ]
  },
  {
   "cell_type": "markdown",
   "id": "1e81f4b8-13db-459c-b03e-660e436596aa",
   "metadata": {},
   "source": [
    "An **iterable** is any object that can be looped over or iterated. It provides a sequence of elements that can be accessed one at a time. Examples of built-in iterables in Python include lists, tuples, strings, and dictionaries.\n",
    "\n",
    "On the other hand, an **iterator** is an object that represents a stream of data. It provides a mechanism to traverse through the elements of an iterable. Iterators use the iter() and next() functions to access the next element in the sequence.\n",
    "\n",
    "Here's a brief explanation of iterable and iterator concepts:\n",
    "\n",
    "\n"
   ]
  },
  {
   "cell_type": "markdown",
   "id": "f20b16d3-3701-4590-a72b-487fd9f2daee",
   "metadata": {},
   "source": [
    "### **Iterable:**\n",
    "\n",
    " - An iterable is an object that implements the `__iter__()` method. This method returns an iterator object.\n",
    "\n",
    "- Iterable objects can be used in a for loop or with other functions that expect an iterable.\n",
    "- Example: Lists, tuples, and strings are iterables, so you can loop over their elements.\n",
    "Iterator:\n"
   ]
  },
  {
   "cell_type": "markdown",
   "id": "20b9679b-c9df-43c0-9764-7f67c2bc4a24",
   "metadata": {},
   "source": [
    "### **Iterator:**\n",
    "\n",
    "- An iterator is an object that implements the __next__() method. This method returns the next element in the sequence.\n",
    "\n",
    "- Iterators maintain internal state to keep track of the current element.\n",
    "- When there are no more elements to iterate over, the iterator raises a StopIteration exception.\n",
    "\n",
    "- Example: The `iter()` function returns an iterator object for an iterable, and you can call `next()` on the iterator to get the next element.\n",
    "\n",
    "- The iterable and iterator concepts provide a powerful way to work with sequences of data in a memory-efficient manner.\n",
    "\n",
    "- They allow you to process elements one by one without loading the entire sequence into memory. These concepts are fundamental to Python's iteration protocols and enable the use of constructs like for loops and list comprehensions.\n",
    "\n"
   ]
  },
  {
   "cell_type": "markdown",
   "id": "37e3794a-80c2-442b-89de-2a7c0cb1f904",
   "metadata": {},
   "source": [
    "> Remember, iterable objects can be converted to iterators using the `iter()` function, and iterators can be used directly in for loops or accessed using `next()` to retrieve elements one at a time."
   ]
  },
  {
   "cell_type": "markdown",
   "id": "8609440d-22ee-47cf-a0dd-15aee6faa90b",
   "metadata": {
    "tags": []
   },
   "source": [
    "## for in loop with early end using break\n"
   ]
  },
  {
   "cell_type": "code",
   "execution_count": 6,
   "id": "fe287339-9c37-4f95-9c1f-656a47f2ba6e",
   "metadata": {},
   "outputs": [
    {
     "name": "stdout",
     "output_type": "stream",
     "text": [
      "h\n",
      "e\n",
      "l\n",
      "l\n",
      "o\n",
      "Here\n"
     ]
    }
   ],
   "source": [
    "txt = 'hello world'\n",
    "for ch in txt:\n",
    "    if ch == ' ':\n",
    "        break\n",
    "    print(ch)\n",
    "\n",
    "print(\"Here\")"
   ]
  },
  {
   "cell_type": "markdown",
   "id": "08cf27da-071a-4f8c-8333-95e7fb5a4b4e",
   "metadata": {},
   "source": [
    "## for in loop skipping parts using continue\n"
   ]
  },
  {
   "cell_type": "code",
   "execution_count": 7,
   "id": "f74ea39f-55a1-44ac-bc0e-27ba23bf5e64",
   "metadata": {},
   "outputs": [
    {
     "name": "stdout",
     "output_type": "stream",
     "text": [
      "h\n",
      "e\n",
      "l\n",
      "l\n",
      "o\n",
      "w\n",
      "o\n",
      "r\n",
      "l\n",
      "d\n",
      "done\n"
     ]
    }
   ],
   "source": [
    "txt = 'hello world'\n",
    "for ch in txt:\n",
    "    if ch == ' ':\n",
    "        continue\n",
    "    print(ch)\n",
    "\n",
    "print(\"done\")"
   ]
  },
  {
   "cell_type": "markdown",
   "id": "6f416de6-d6e1-49da-815a-9f89c7e215ea",
   "metadata": {},
   "source": [
    "## for in loop with break and continue"
   ]
  },
  {
   "cell_type": "code",
   "execution_count": 8,
   "id": "912c570f-4568-407a-96a3-ed1227c010b1",
   "metadata": {},
   "outputs": [
    {
     "name": "stdout",
     "output_type": "stream",
     "text": [
      "h\n",
      "e\n",
      "l\n",
      "l\n",
      "o\n",
      "w\n",
      "o\n",
      "done\n"
     ]
    }
   ],
   "source": [
    "txt = 'hello world'\n",
    "for cr in txt:\n",
    "    if cr == ' ':\n",
    "        continue\n",
    "    if cr == 'r':\n",
    "        break\n",
    "    print(cr)\n",
    "\n",
    "print('done')"
   ]
  },
  {
   "cell_type": "markdown",
   "id": "e03f3d34-8f2c-4a69-b3f0-ac65530d059e",
   "metadata": {},
   "source": [
    "## while loop\n"
   ]
  },
  {
   "cell_type": "code",
   "execution_count": 9,
   "id": "f842dbce-f195-44f0-b96f-08ad4eb4db2b",
   "metadata": {},
   "outputs": [
    {
     "name": "stdout",
     "output_type": "stream",
     "text": [
      "0\n",
      "4\n",
      "21\n",
      "31\n",
      "33\n",
      "43\n",
      "44\n",
      "63\n",
      "71\n",
      "84\n",
      "98\n",
      "done\n"
     ]
    }
   ],
   "source": [
    "import random\n",
    "\n",
    "total = 0\n",
    "while total <= 100:\n",
    "    print(total)\n",
    "    total += random.randrange(20)\n",
    "\n",
    "print(\"done\")"
   ]
  },
  {
   "cell_type": "markdown",
   "id": "404f3dbc-51c4-49b2-af67-792d98e9d491",
   "metadata": {},
   "source": [
    "## Infinite while loop\n"
   ]
  },
  {
   "cell_type": "code",
   "execution_count": 11,
   "id": "27779ede-d980-40cb-a0f2-cfef942ca417",
   "metadata": {},
   "outputs": [
    {
     "name": "stdout",
     "output_type": "stream",
     "text": [
      "0\n"
     ]
    },
    {
     "ename": "TypeError",
     "evalue": "exceptions must derive from BaseException",
     "output_type": "error",
     "traceback": [
      "\u001b[0;31m---------------------------------------------------------------------------\u001b[0m",
      "\u001b[0;31mTypeError\u001b[0m                                 Traceback (most recent call last)",
      "Cell \u001b[0;32mIn[11], line 7\u001b[0m\n\u001b[1;32m      5\u001b[0m     \u001b[38;5;28mprint\u001b[39m(total)\n\u001b[1;32m      6\u001b[0m     total \u001b[38;5;241m+\u001b[39m\u001b[38;5;241m=\u001b[39m random\u001b[38;5;241m.\u001b[39mrandrange(\u001b[38;5;241m20\u001b[39m)\n\u001b[0;32m----> 7\u001b[0m     \u001b[38;5;28;01mraise\u001b[39;00m \u001b[38;5;124m\"\u001b[39m\u001b[38;5;124mThis loop will never end!\u001b[39m\u001b[38;5;124m\"\u001b[39m\n\u001b[1;32m      9\u001b[0m \u001b[38;5;28mprint\u001b[39m(\u001b[38;5;124m\"\u001b[39m\u001b[38;5;124mdone\u001b[39m\u001b[38;5;124m\"\u001b[39m)\n",
      "\u001b[0;31mTypeError\u001b[0m: exceptions must derive from BaseException"
     ]
    }
   ],
   "source": [
    "import random\n",
    "\n",
    "total = 0\n",
    "while total >= 0:\n",
    "    print(total)\n",
    "    total += random.randrange(20)\n",
    "    raise \"This loop will never end!\"\n",
    "\n",
    "print(\"done\")"
   ]
  },
  {
   "cell_type": "markdown",
   "id": "e21a4b6a-d94e-4584-991f-7cd6b7e5210f",
   "metadata": {},
   "source": [
    "## While with complex expression\n"
   ]
  },
  {
   "cell_type": "code",
   "execution_count": 12,
   "id": "5ebe4749-f23b-46fa-adee-0538bdbbec9a",
   "metadata": {},
   "outputs": [
    {
     "name": "stdout",
     "output_type": "stream",
     "text": [
      "0\n",
      "8\n",
      "11\n",
      "12\n",
      "16\n",
      "done\n"
     ]
    }
   ],
   "source": [
    "import random\n",
    "\n",
    "def random_loop():\n",
    "    total = 0\n",
    "    while (total < 10000000) and (total % 17 != 1) and (total ** 2 % 23 != 7):\n",
    "        print(total)\n",
    "        total += random.randrange(20)\n",
    "\n",
    "        # do the real work here\n",
    "\n",
    "    print(\"done\")\n",
    "\n",
    "random_loop()"
   ]
  },
  {
   "cell_type": "markdown",
   "id": "29d66d51-9c95-4669-8f60-96b2cbe84d7a",
   "metadata": {},
   "source": [
    "## While with break\n"
   ]
  },
  {
   "cell_type": "code",
   "execution_count": 13,
   "id": "9328e8bf-8534-4fcc-8c1f-daef4d24e54b",
   "metadata": {},
   "outputs": [
    {
     "name": "stdout",
     "output_type": "stream",
     "text": [
      "0\n",
      "6\n",
      "17\n",
      "26\n",
      "45\n",
      "53\n",
      "54\n",
      "68\n",
      "80\n",
      "80\n",
      "98\n",
      "116\n",
      "128\n",
      "131\n",
      "147\n",
      "153\n",
      "159\n",
      "169\n",
      "done\n"
     ]
    }
   ],
   "source": [
    "import random\n",
    "\n",
    "def random_loop():\n",
    "    total = 0\n",
    "    while total < 10000000:\n",
    "        if total % 17 == 1:\n",
    "            break\n",
    "\n",
    "        if total ** 2 % 23 == 7:\n",
    "            break\n",
    "\n",
    "        print(total)\n",
    "        total += random.randrange(20)\n",
    "\n",
    "        # do the real work here\n",
    "\n",
    "    print(\"done\")\n",
    "\n",
    "random_loop()"
   ]
  },
  {
   "cell_type": "markdown",
   "id": "9ce3d617-245e-43d5-ab83-0555a788c580",
   "metadata": {},
   "source": [
    "## While True"
   ]
  },
  {
   "cell_type": "code",
   "execution_count": 14,
   "id": "c20c5d72-951f-4017-8ae0-97f5682b5d32",
   "metadata": {},
   "outputs": [
    {
     "name": "stdout",
     "output_type": "stream",
     "text": [
      "0\n",
      "11\n",
      "14\n",
      "17\n",
      "34\n",
      "46\n",
      "55\n",
      "70\n",
      "70\n",
      "73\n",
      "74\n",
      "87\n",
      "92\n",
      "98\n",
      "108\n",
      "123\n",
      "126\n",
      "142\n",
      "156\n",
      "170\n",
      "181\n",
      "186\n",
      "203\n",
      "219\n",
      "233\n",
      "249\n",
      "267\n",
      "done\n"
     ]
    }
   ],
   "source": [
    "import random\n",
    "\n",
    "def random_loop():\n",
    "    total = 0\n",
    "    while True:\n",
    "        if total >= 10000000:\n",
    "            break\n",
    "\n",
    "        if total % 17 == 1:\n",
    "            break\n",
    "\n",
    "        if total ** 2 % 23 == 7:\n",
    "            break\n",
    "\n",
    "        print(total)\n",
    "        total += random.randrange(20)\n",
    "\n",
    "        # do the real work here\n",
    "\n",
    "    print(\"done\")\n",
    "\n",
    "if __name__ == '__main__':\n",
    "    random_loop()"
   ]
  },
  {
   "cell_type": "markdown",
   "id": "31e8f0bb-84f3-4923-a435-c6fc8f35ef0c",
   "metadata": {},
   "source": [
    "## Testing the refactoring of the while loop\n"
   ]
  },
  {
   "cell_type": "code",
   "execution_count": null,
   "id": "f239df04-1ac3-4a91-af98-d13b69fadba6",
   "metadata": {},
   "outputs": [],
   "source": [
    "#Modules not available\n",
    "\n",
    "import while_break\n",
    "import while_complex_condition\n",
    "import while_true\n",
    "\n",
    "import random\n",
    "import pytest\n",
    "\n",
    "@pytest.mark.parametrize('seed', [0, 7, 9, 21])\n",
    "def test_random_loop(capsys, seed):\n",
    "    random.seed(seed)\n",
    "    while_complex_condition.random_loop()\n",
    "    out_complex, _ = capsys.readouterr()\n",
    "\n",
    "    random.seed(seed)\n",
    "    while_break.random_loop()\n",
    "    out_break, _ = capsys.readouterr()\n",
    "\n",
    "    assert out_complex == out_break\n",
    "\n",
    "    random.seed(seed)\n",
    "    while_true.random_loop()\n",
    "    out_true, _ = capsys.readouterr()\n",
    "    assert out_complex == out_true\n",
    "\n",
    "    print(out_true)"
   ]
  },
  {
   "cell_type": "markdown",
   "id": "7bf22b50-3625-4eaf-bffc-55f36fed2984",
   "metadata": {},
   "source": [
    "## Duplicate input call\n"
   ]
  },
  {
   "cell_type": "markdown",
   "id": "64194ee7-acf0-4e76-a6fb-0cc56db65c1e",
   "metadata": {},
   "source": [
    "- Ask the user what is their ID number.\n",
    "- Check if it is a valid ID number. (To make our code more simple we only check the length of the string.)\n",
    "- Ask again if it was not a valid number.\n",
    "\n"
   ]
  },
  {
   "cell_type": "code",
   "execution_count": 16,
   "id": "3747abc7-cb94-43a0-ba2c-37847e702828",
   "metadata": {},
   "outputs": [
    {
     "name": "stdin",
     "output_type": "stream",
     "text": [
      "Type in your ID:  8\n",
      "Type in your ID 9\n"
     ]
    },
    {
     "name": "stdout",
     "output_type": "stream",
     "text": [
      "Your ID is 9\n"
     ]
    }
   ],
   "source": [
    "id_str = input(\"Type in your ID: \")\n",
    "\n",
    "if len(id_str) != 9:\n",
    "    id_str = input(\"Type in your ID\")\n",
    "\n",
    "print(\"Your ID is \" + id_str)"
   ]
  },
  {
   "cell_type": "markdown",
   "id": "e80d0a12-0d74-4f30-8934-b9805d0c24d4",
   "metadata": {},
   "source": [
    "## Duplicate input call with loop\n"
   ]
  },
  {
   "cell_type": "markdown",
   "id": "28a3e218-a722-4c5f-bc38-f1b95f4c8ed7",
   "metadata": {},
   "source": [
    "- A while loop would be a better solution.\n",
    "- This works, but now we have duplicated the input call and the text is different in the two cases. DRY\n",
    "- We can't remove the first call of input as we need the id_str variable in the condition of the while already.\n",
    "\n"
   ]
  },
  {
   "cell_type": "code",
   "execution_count": 17,
   "id": "4b24ef6f-aa16-4387-9c2c-f33996874119",
   "metadata": {},
   "outputs": [
    {
     "name": "stdin",
     "output_type": "stream",
     "text": [
      "Type in your ID:  8\n",
      "Type in your ID 9\n",
      "Type in your ID 10\n",
      "Type in your ID 8349248984\n",
      "Type in your ID 123456789\n"
     ]
    },
    {
     "name": "stdout",
     "output_type": "stream",
     "text": [
      "Your ID is 123456789\n"
     ]
    }
   ],
   "source": [
    "id_str = input(\"Type in your ID: \")\n",
    "\n",
    "while len(id_str) != 9:\n",
    "    id_str = input(\"Type in your ID\")\n",
    "\n",
    "print(\"Your ID is \" + id_str)\n"
   ]
  },
  {
   "cell_type": "markdown",
   "id": "85aba5fc-3fd9-4674-92f3-8c0f07552bf2",
   "metadata": {
    "tags": []
   },
   "source": [
    "## Eliminate duplicate input call\n"
   ]
  },
  {
   "cell_type": "markdown",
   "id": "ad103316-8cf5-44fa-91dd-5e2c5cdeda8c",
   "metadata": {},
   "source": [
    "- We can use the while True construct to avoid this duplication.\n"
   ]
  },
  {
   "cell_type": "code",
   "execution_count": 18,
   "id": "147c8700-9933-4611-a328-b4266d8bcd35",
   "metadata": {},
   "outputs": [
    {
     "name": "stdin",
     "output_type": "stream",
     "text": [
      "Type in your ID:  123456789\n"
     ]
    },
    {
     "name": "stdout",
     "output_type": "stream",
     "text": [
      "Your ID is 123456789\n"
     ]
    }
   ],
   "source": [
    "\n",
    "while True:\n",
    "    id_str = input(\"Type in your ID: \")\n",
    "    if len(id_str) == 9:\n",
    "        break\n",
    "\n",
    "print(\"Your ID is \" + id_str)"
   ]
  },
  {
   "cell_type": "markdown",
   "id": "0381123e-9305-41b2-ae34-f3a3e63a23b5",
   "metadata": {
    "tags": []
   },
   "source": [
    "## do while loop\n"
   ]
  },
  {
   "cell_type": "markdown",
   "id": "209522cd-a753-467f-b693-9d9aabbe4381",
   "metadata": {},
   "source": [
    "- There is **no** `do ... while` in Python but we can write code like this to have similar effect.\n"
   ]
  },
  {
   "cell_type": "code",
   "execution_count": 19,
   "id": "587773cb-7bd0-4354-a011-dad1eebbdec9",
   "metadata": {},
   "outputs": [
    {
     "name": "stdin",
     "output_type": "stream",
     "text": [
      "What is the meaning of life?  42\n"
     ]
    },
    {
     "name": "stdout",
     "output_type": "stream",
     "text": [
      "Yeeah, that's it!\n",
      "done\n"
     ]
    }
   ],
   "source": [
    "\n",
    "while True:\n",
    "    answer = input(\"What is the meaning of life? \")\n",
    "    if answer == '42':\n",
    "        print(\"Yeeah, that's it!\")\n",
    "        break\n",
    "\n",
    "print(\"done\")"
   ]
  },
  {
   "cell_type": "markdown",
   "id": "a3d3714b-3e08-448a-bf3a-d5595d655058",
   "metadata": {},
   "source": [
    "## while with many continue calls\n"
   ]
  },
  {
   "cell_type": "code",
   "execution_count": null,
   "id": "75c8b2a9-5074-4901-b857-ce3404ad11f7",
   "metadata": {},
   "outputs": [],
   "source": [
    "while True:\n",
    "    line = get_next_line()\n",
    "\n",
    "    if last_line:\n",
    "        break\n",
    "\n",
    "    if line_is_empty:\n",
    "        continue\n",
    "\n",
    "    if line_has_an_hash_at_the_beginning: # #\n",
    "        continue\n",
    "\n",
    "    if line_has_two_slashes_at_the_beginning: # //\n",
    "        continue\n",
    "\n",
    "    print(\"do_the_real_stuff_here\")"
   ]
  },
  {
   "cell_type": "markdown",
   "id": "ca71bf95-60d6-4f0d-985b-fa29abaeeb47",
   "metadata": {
    "tags": []
   },
   "source": [
    "## Break out from multi-level loops\n"
   ]
  },
  {
   "cell_type": "markdown",
   "id": "6bb52445-5b83-49ed-b635-559204ea5009",
   "metadata": {},
   "source": [
    "- Not supported in Python. \"If you feel the urge to do that, your code is probably too complex. Create functions!\""
   ]
  },
  {
   "cell_type": "code",
   "execution_count": null,
   "id": "aa17c50a-e864-489d-8cf8-e03e3f2833a0",
   "metadata": {},
   "outputs": [],
   "source": [
    "while external():\n",
    "    while internal():\n",
    "        if case_one:\n",
    "            break\n",
    "        if case_two:\n",
    "            continue\n"
   ]
  },
  {
   "cell_type": "markdown",
   "id": "f5e5c664-7f0d-42e6-aaa2-60c8626c3738",
   "metadata": {},
   "source": [
    "## For-else"
   ]
  },
  {
   "cell_type": "markdown",
   "id": "56bcdb57-0ffc-4b3d-b84e-1de2c1583f88",
   "metadata": {},
   "source": [
    "- The else part will be executed if the loop finished all the iterations without calling break.\n",
    "\n"
   ]
  },
  {
   "cell_type": "code",
   "execution_count": 22,
   "id": "238f7bf7-8f5d-43c6-a165-0e61622f9d0d",
   "metadata": {},
   "outputs": [
    {
     "name": "stdout",
     "output_type": "stream",
     "text": [
      "2\n",
      "3\n",
      "4\n",
      "---------------------\n",
      "2\n",
      "3\n",
      "found number bigger than 10\n",
      "---------------------\n",
      "2\n",
      "3\n",
      "4\n",
      "in else - finished without calling break\n",
      "not found number bigger than 10\n",
      "---------------------\n",
      "2\n",
      "3\n"
     ]
    }
   ],
   "source": [
    "found_number_bigger_than_10 = False\n",
    "\n",
    "numbers = [2, 3, 4]\n",
    "for num in numbers:\n",
    "    if num > 10:\n",
    "        found_number_bigger_than_10 = True\n",
    "        break\n",
    "    print(num)\n",
    "\n",
    "if found_number_bigger_than_10:\n",
    "    print(\"found number bigger than 10\")\n",
    "\n",
    "print('---------------------')\n",
    "\n",
    "found_number_bigger_than_10 = False\n",
    "\n",
    "numbers = [2, 3, 12, 4]\n",
    "for num in numbers:\n",
    "    if num > 10:\n",
    "        found_number_bigger_than_10 = True\n",
    "        break\n",
    "    print(num)\n",
    "\n",
    "if found_number_bigger_than_10:\n",
    "    print(\"found number bigger than 10\")\n",
    "\n",
    "print('---------------------')\n",
    "\n",
    "\n",
    "\n",
    "for num in [2, 3, 4]:\n",
    "    if num > 10:\n",
    "        break\n",
    "    print(num)\n",
    "else:\n",
    "    print(\"in else - finished without calling break\")\n",
    "    print(\"not found number bigger than 10\")\n",
    "\n",
    "print('---------------------')\n",
    "\n",
    "for num in [2, 3, 12, 4]:\n",
    "    if num > 10:\n",
    "        break\n",
    "    print(num)\n",
    "else:\n",
    "    print(\"in else - finished after calling break\")\n",
    "    print(\"not found number bigger than 10\")"
   ]
  },
  {
   "cell_type": "markdown",
   "id": "8528c3b6-3196-4049-aa9a-57da67ec59f4",
   "metadata": {},
   "source": [
    "## Exercise: Print all the locations in a string\n"
   ]
  },
  {
   "cell_type": "markdown",
   "id": "8a63a1e0-8fb9-4c05-a150-d420c0c94789",
   "metadata": {},
   "source": [
    "- Given a string like \"The black cat climbed the green tree.\", print out the location of every \"c\" character."
   ]
  },
  {
   "cell_type": "code",
   "execution_count": 24,
   "id": "1a193b21-116c-4fc4-82a4-f9a7d94526ea",
   "metadata": {},
   "outputs": [
    {
     "name": "stdout",
     "output_type": "stream",
     "text": [
      "7\n",
      "10\n",
      "14\n"
     ]
    }
   ],
   "source": [
    "text = \"The black cat climbed the green tree.\"\n",
    "loc = -1\n",
    "while True:\n",
    "    loc = text.find(\"c\", loc+1)\n",
    "    if loc == -1:\n",
    "        break\n",
    "    print(loc)"
   ]
  },
  {
   "cell_type": "markdown",
   "id": "a40b7b45-c5c8-4e3d-9653-a385fcd8c3b1",
   "metadata": {},
   "source": [
    "## Exercise 1 for Number Guessing\n"
   ]
  },
  {
   "cell_type": "markdown",
   "id": "0bd1ec99-0da7-4d89-bd79-60d010421959",
   "metadata": {},
   "source": [
    "Every level must include all the features from all the lower levels as well.\n",
    "\n",
    "**Level 0**\n",
    "- Using the random module the computer \"thinks\" about a whole number between 1 and 20.\n",
    "- The user has to guess the number. After the user types in the guess the computer tells if this was bigger or smaller than the number it generated, or if was the same.\n",
    "- The game ends after just one guess.\n",
    "\n",
    "\n",
    "**Level 1**\n",
    "- The user can guess several times. The game ends when the user guessed the right number."
   ]
  },
  {
   "cell_type": "code",
   "execution_count": 25,
   "id": "a3001892-a32a-47d6-8d84-02f7e8329a7f",
   "metadata": {},
   "outputs": [
    {
     "name": "stdin",
     "output_type": "stream",
     "text": [
      "Please enter your guess:  4\n"
     ]
    },
    {
     "name": "stdout",
     "output_type": "stream",
     "text": [
      "4\n",
      "Your guess is too low\n"
     ]
    },
    {
     "name": "stdin",
     "output_type": "stream",
     "text": [
      "Please enter your guess:  12\n"
     ]
    },
    {
     "name": "stdout",
     "output_type": "stream",
     "text": [
      "12\n",
      "Your guess is too high\n"
     ]
    },
    {
     "name": "stdin",
     "output_type": "stream",
     "text": [
      "Please enter your guess:  10\n"
     ]
    },
    {
     "name": "stdout",
     "output_type": "stream",
     "text": [
      "10\n",
      "Your guess is too low\n"
     ]
    },
    {
     "name": "stdin",
     "output_type": "stream",
     "text": [
      "Please enter your guess:  11\n"
     ]
    },
    {
     "name": "stdout",
     "output_type": "stream",
     "text": [
      "11\n",
      "Hit!\n"
     ]
    }
   ],
   "source": [
    "import random\n",
    "\n",
    "hidden = random.randrange(1, 21)\n",
    "while True:\n",
    "    user_input = input(\"Please enter your guess: \")\n",
    "    print(user_input)\n",
    "\n",
    "    guess = int(user_input)\n",
    "    if guess == hidden:\n",
    "        print(\"Hit!\")\n",
    "        break\n",
    "\n",
    "    if guess < hidden:\n",
    "        print(\"Your guess is too low\")\n",
    "    else:\n",
    "        print(\"Your guess is too high\")"
   ]
  },
  {
   "cell_type": "markdown",
   "id": "a3ea0519-767e-488b-a269-e65979e789ec",
   "metadata": {},
   "source": [
    "## Exercise 2 for Number Guessing (x)\n",
    "\n",
    "**Level 2**\n",
    "- If the user hits 'x', we leave the game without guessing the number.\n",
    "\n",
    "\n"
   ]
  },
  {
   "cell_type": "code",
   "execution_count": 26,
   "id": "f86edb50-9508-4fee-901a-7fdd40c58342",
   "metadata": {},
   "outputs": [
    {
     "name": "stdin",
     "output_type": "stream",
     "text": [
      "Please enter your guess[x]:  100\n"
     ]
    },
    {
     "name": "stdout",
     "output_type": "stream",
     "text": [
      "100\n",
      "Your guess is too low\n"
     ]
    },
    {
     "name": "stdin",
     "output_type": "stream",
     "text": [
      "Please enter your guess[x]:  150\n"
     ]
    },
    {
     "name": "stdout",
     "output_type": "stream",
     "text": [
      "150\n",
      "Your guess is too high\n"
     ]
    },
    {
     "name": "stdin",
     "output_type": "stream",
     "text": [
      "Please enter your guess[x]:  125\n"
     ]
    },
    {
     "name": "stdout",
     "output_type": "stream",
     "text": [
      "125\n",
      "Your guess is too high\n"
     ]
    },
    {
     "name": "stdin",
     "output_type": "stream",
     "text": [
      "Please enter your guess[x]:  112\n"
     ]
    },
    {
     "name": "stdout",
     "output_type": "stream",
     "text": [
      "112\n",
      "Your guess is too low\n"
     ]
    },
    {
     "name": "stdin",
     "output_type": "stream",
     "text": [
      "Please enter your guess[x]:  116\n"
     ]
    },
    {
     "name": "stdout",
     "output_type": "stream",
     "text": [
      "116\n",
      "Your guess is too high\n"
     ]
    },
    {
     "name": "stdin",
     "output_type": "stream",
     "text": [
      "Please enter your guess[x]:  114\n"
     ]
    },
    {
     "name": "stdout",
     "output_type": "stream",
     "text": [
      "114\n",
      "Your guess is too low\n"
     ]
    },
    {
     "name": "stdin",
     "output_type": "stream",
     "text": [
      "Please enter your guess[x]:  115\n"
     ]
    },
    {
     "name": "stdout",
     "output_type": "stream",
     "text": [
      "115\n",
      "Hit!\n"
     ]
    }
   ],
   "source": [
    "import random\n",
    "\n",
    "hidden = random.randrange(1, 201)\n",
    "while True:\n",
    "    user_input = input(\"Please enter your guess[x]: \")\n",
    "    print(user_input)\n",
    "\n",
    "    if user_input == 'x':\n",
    "        print(\"Sad to see you leaving early\")\n",
    "        exit()\n",
    "\n",
    "    guess = int(user_input)\n",
    "    if guess == hidden:\n",
    "        print(\"Hit!\")\n",
    "        break\n",
    "\n",
    "    if guess < hidden:\n",
    "        print(\"Your guess is too low\")\n",
    "    else:\n",
    "        print(\"Your guess is too high\")"
   ]
  },
  {
   "cell_type": "markdown",
   "id": "50694af3-c032-498f-856e-5be540f74630",
   "metadata": {},
   "source": [
    "## Exercise 3 for Number Guessing (s)\n",
    "\n",
    "**Level 3**\n",
    "- If the user presses 's', show the hidden value (cheat)\n",
    "\n",
    "\n"
   ]
  },
  {
   "cell_type": "code",
   "execution_count": 1,
   "id": "2b873baf-eb76-4e94-a44c-c3f200f82a59",
   "metadata": {},
   "outputs": [
    {
     "name": "stdin",
     "output_type": "stream",
     "text": [
      "Please enter your guess [x|s|d]:  s\n"
     ]
    },
    {
     "name": "stdout",
     "output_type": "stream",
     "text": [
      "s\n",
      "The hidden value is  57\n"
     ]
    },
    {
     "name": "stdin",
     "output_type": "stream",
     "text": [
      "Please enter your guess [x|s|d]:  57\n"
     ]
    },
    {
     "name": "stdout",
     "output_type": "stream",
     "text": [
      "57\n",
      "Hit!\n"
     ]
    }
   ],
   "source": [
    "import random\n",
    "\n",
    "hidden = random.randrange(1, 201)\n",
    "while True:\n",
    "    user_input = input(\"Please enter your guess [x|s|d]: \")\n",
    "    print(user_input)\n",
    "\n",
    "    if user_input == 'x':\n",
    "        print(\"Sad to see you leaving early\")\n",
    "        exit()\n",
    "\n",
    "    if user_input == 's':\n",
    "        print(\"The hidden value is \", hidden)\n",
    "        continue\n",
    "\n",
    "    guess = int(user_input)\n",
    "    if guess == hidden:\n",
    "        print(\"Hit!\")\n",
    "        break\n",
    "\n",
    "    if guess < hidden:\n",
    "        print(\"Your guess is too low\")\n",
    "    else:\n",
    "        print(\"Your guess is too high\")"
   ]
  },
  {
   "cell_type": "markdown",
   "id": "9ef25849-31b3-48e1-9ac8-8d337c1c4585",
   "metadata": {},
   "source": [
    "\n"
   ]
  },
  {
   "cell_type": "markdown",
   "id": "a3ac5589-bb5d-430c-bb65-0d141632c411",
   "metadata": {},
   "source": [
    "## Exercise for Number Guessing (debug)\n",
    "\n",
    "**Level 4**\n",
    "- Soon we'll have a level in which the hidden value changes after each guess. In order to make that mode easier to track and debug, first we would like to have a \"debug mode\".\n",
    "- If the user presses 'd' the game gets into \"debug mode\": the system starts to show the current number to guess every time, just before asking the user for new input.\n",
    "- Pressing 'd' again turns off debug mode. (It is a toggle each press on 'd' changes the value to to the other possible value.)"
   ]
  },
  {
   "cell_type": "code",
   "execution_count": 2,
   "id": "34362f44-725b-4c72-abf6-e64d3155683d",
   "metadata": {},
   "outputs": [
    {
     "name": "stdin",
     "output_type": "stream",
     "text": [
      "Please enter your guess [x|s|d]:  s\n"
     ]
    },
    {
     "name": "stdout",
     "output_type": "stream",
     "text": [
      "s\n",
      "The hidden value is  29\n"
     ]
    },
    {
     "name": "stdin",
     "output_type": "stream",
     "text": [
      "Please enter your guess [x|s|d]:  29\n"
     ]
    },
    {
     "name": "stdout",
     "output_type": "stream",
     "text": [
      "29\n",
      "Hit!\n"
     ]
    }
   ],
   "source": [
    "import random\n",
    "\n",
    "hidden = random.randrange(1, 201)\n",
    "debug = False\n",
    "while True:\n",
    "    if debug:\n",
    "        print(\"Debug: \", hidden)\n",
    "\n",
    "    user_input = input(\"Please enter your guess [x|s|d]: \")\n",
    "    print(user_input)\n",
    "\n",
    "    if user_input == 'x':\n",
    "        print(\"Sad to see you leaving early\")\n",
    "        exit()\n",
    "\n",
    "    if user_input == 's':\n",
    "        print(\"The hidden value is \", hidden)\n",
    "        continue\n",
    "\n",
    "    if user_input == 'd':\n",
    "        debug = not debug\n",
    "        continue\n",
    "\n",
    "    guess = int(user_input)\n",
    "    if guess == hidden:\n",
    "        print(\"Hit!\")\n",
    "        break\n",
    "\n",
    "    if guess < hidden:\n",
    "        print(\"Your guess is too low\")\n",
    "    else:\n",
    "        print(\"Your guess is too high\")"
   ]
  },
  {
   "cell_type": "markdown",
   "id": "06200ee1-3803-48fe-a6ba-dc4f6619a0c3",
   "metadata": {
    "tags": []
   },
   "source": [
    "## Exercise for Number Guessing (move)\n",
    "\n",
    "**Level 5**\n",
    "- The 'm' button is another toggle. It is called 'move mode'. When it is 'on', the hidden number changes a little bit after every step (+/-2). That is, it is chaning by one of the following: -2, -1, 0, 1, 2. Pressing 'm' again will turn this feature off.\n",
    "\n"
   ]
  },
  {
   "cell_type": "code",
   "execution_count": 3,
   "id": "bb205013-cbc1-4e6d-a07e-4cab4ac2fa4b",
   "metadata": {},
   "outputs": [
    {
     "name": "stdin",
     "output_type": "stream",
     "text": [
      "Please enter your guess [x|s|d|m]:  4\n"
     ]
    },
    {
     "name": "stdout",
     "output_type": "stream",
     "text": [
      "4\n",
      "Your guess is too low\n"
     ]
    },
    {
     "name": "stdin",
     "output_type": "stream",
     "text": [
      "Please enter your guess [x|s|d|m]:  s\n"
     ]
    },
    {
     "name": "stdout",
     "output_type": "stream",
     "text": [
      "s\n",
      "The hidden value is  191\n"
     ]
    },
    {
     "name": "stdin",
     "output_type": "stream",
     "text": [
      "Please enter your guess [x|s|d|m]:  191\n"
     ]
    },
    {
     "name": "stdout",
     "output_type": "stream",
     "text": [
      "191\n",
      "Hit!\n"
     ]
    }
   ],
   "source": [
    "import random\n",
    "\n",
    "UPPER_LIMIT = 200\n",
    "\n",
    "hidden = random.randrange(1, UPPER_LIMIT + 1)\n",
    "debug = False\n",
    "move = False\n",
    "while True:\n",
    "    if debug:\n",
    "        print(f\"Debug: {hidden}\")\n",
    "        print(f\"Move: {move}\")\n",
    "\n",
    "    if move:\n",
    "        mv = random.randrange(-2, 3)\n",
    "        if 1 <= hidden + mv <= UPPER_LIMIT:\n",
    "            hidden = hidden + mv\n",
    "\n",
    "    user_input = input(\"Please enter your guess [x|s|d|m]: \")\n",
    "    print(user_input)\n",
    "\n",
    "    if user_input == 'x':\n",
    "        print(\"Sad to see you leaving early\")\n",
    "        exit()\n",
    "\n",
    "    if user_input == 's':\n",
    "        print(\"The hidden value is \", hidden)\n",
    "        continue\n",
    "\n",
    "    if user_input == 'd':\n",
    "        debug = not debug\n",
    "        continue\n",
    "\n",
    "    if user_input == 'm':\n",
    "        move = not move\n",
    "        continue\n",
    "\n",
    "    guess = int(user_input)\n",
    "    if guess == hidden:\n",
    "        print(\"Hit!\")\n",
    "        break\n",
    "\n",
    "    if guess < hidden:\n",
    "        print(\"Your guess is too low\")\n",
    "    else:\n",
    "        print(\"Your guess is too high\")"
   ]
  },
  {
   "cell_type": "markdown",
   "id": "bc87ae7d-1559-49c0-80c5-a05563240448",
   "metadata": {
    "tags": []
   },
   "source": [
    "## Exercise for Number Guessing (multi-game)\n",
    "\n",
    "**Level 6**\n",
    "- Let the user play several games.\n",
    "- Pressing 'n' will skip this game and start a new one. Generates a new number to guess.\n"
   ]
  },
  {
   "cell_type": "code",
   "execution_count": null,
   "id": "b90e8548-9c7b-4969-a2ef-e52ce7c10932",
   "metadata": {},
   "outputs": [],
   "source": [
    "import random\n",
    "\n",
    "debug = False\n",
    "move = False\n",
    "while True:\n",
    "    print(\"\\nWelcome to another Number Guessing game\")\n",
    "    hidden = random.randrange(1, 201)\n",
    "    while True:\n",
    "        if debug:\n",
    "            print(\"Debug: \", hidden)\n",
    "\n",
    "        if move:\n",
    "            mv = random.randrange(-2, 3)\n",
    "            hidden = hidden + mv\n",
    "\n",
    "        user_input = input(\"Please enter your guess [x|s|d|m|n]: \")\n",
    "        print(user_input)\n",
    "\n",
    "        if user_input == 'x':\n",
    "            print(\"Sad to see you leaving early\")\n",
    "            exit()\n",
    "\n",
    "        if user_input == 's':\n",
    "            print(\"The hidden value is \", hidden)\n",
    "            continue\n",
    "\n",
    "        if user_input == 'd':\n",
    "            debug = not debug\n",
    "            continue\n",
    "\n",
    "        if user_input == 'm':\n",
    "            move = not move\n",
    "            continue\n",
    "\n",
    "        if user_input == 'n':\n",
    "            print(\"Giving up, eh?\")\n",
    "            break\n",
    "\n",
    "        guess = int(user_input)\n",
    "        if guess == hidden:\n",
    "            print(\"Hit!\")\n",
    "            break\n",
    "\n",
    "        if guess < hidden:\n",
    "            print(\"Your guess is too low\")\n",
    "        else:\n",
    "            print(\"Your guess is too high\")"
   ]
  },
  {
   "cell_type": "markdown",
   "id": "60aa5d52-ee6f-4492-bc72-f70ca9b272ad",
   "metadata": {},
   "source": [
    "## Exercise: Count unique characters\n"
   ]
  },
  {
   "cell_type": "markdown",
   "id": "bc0c262b-db14-40e4-b76e-1cc032e0c4f7",
   "metadata": {},
   "source": [
    "- Given a string on the command line, count how many different characters it has."
   ]
  },
  {
   "cell_type": "code",
   "execution_count": 5,
   "id": "7a4a89d2-558a-465a-a1c9-336ca5741a5b",
   "metadata": {},
   "outputs": [
    {
     "name": "stdout",
     "output_type": "stream",
     "text": [
      "2\n"
     ]
    }
   ],
   "source": [
    "import sys\n",
    "\n",
    "if len(sys.argv) != 2:\n",
    "    exit(\"Need a string to count\")\n",
    "\n",
    "text = sys.argv[1]\n",
    "\n",
    "unique = ''\n",
    "for cr in text:\n",
    "    if cr not in unique:\n",
    "        unique += cr\n",
    "\n",
    "print(len(unique))"
   ]
  },
  {
   "cell_type": "markdown",
   "id": "7c86c8d8-4442-4c5d-a89e-57d9c0b89796",
   "metadata": {},
   "source": [
    "\n",
    "## Exercise: Convert for-loop to while-loop"
   ]
  },
  {
   "cell_type": "markdown",
   "id": "090ba3d8-78bb-4bc8-9b1f-0de754cb4679",
   "metadata": {},
   "source": [
    "- Update the following file.\n",
    "- Given a for-loop as in the following code, convert it to be using a while-loop.\n",
    "- Range with 3 parameters: from the first number, till the second number, with step the 3rd number range(from, to, step)\n"
   ]
  },
  {
   "cell_type": "code",
   "execution_count": 23,
   "id": "d6ede1cd-bfba-4a6e-af1c-db09ed531620",
   "metadata": {},
   "outputs": [
    {
     "name": "stdout",
     "output_type": "stream",
     "text": [
      "3\n",
      "7\n",
      "11\n",
      "15\n",
      "19\n",
      "23\n"
     ]
    }
   ],
   "source": [
    "for ix in range(3, 25, 4):\n",
    "    print(ix)"
   ]
  },
  {
   "cell_type": "code",
   "execution_count": null,
   "id": "83a4803b-f60c-425b-b3e5-f52cfcbb9c76",
   "metadata": {},
   "outputs": [],
   "source": []
  }
 ],
 "metadata": {
  "kernelspec": {
   "display_name": "Python 3 (ipykernel)",
   "language": "python",
   "name": "python3"
  },
  "language_info": {
   "codemirror_mode": {
    "name": "ipython",
    "version": 3
   },
   "file_extension": ".py",
   "mimetype": "text/x-python",
   "name": "python",
   "nbconvert_exporter": "python",
   "pygments_lexer": "ipython3",
   "version": "3.9.7"
  }
 },
 "nbformat": 4,
 "nbformat_minor": 5
}
