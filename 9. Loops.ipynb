{
 "cells": [
  {
   "cell_type": "markdown",
   "id": "ce3179a6-c213-4542-9593-3f161e1fd407",
   "metadata": {},
   "source": [
    "## Loops: for-in and while"
   ]
  },
  {
   "cell_type": "markdown",
   "id": "86e4fbb3-8dab-4ffb-8063-8e7036f10349",
   "metadata": {},
   "source": [
    "## for-in loop on strings\n"
   ]
  },
  {
   "cell_type": "markdown",
   "id": "b450230b-2861-428c-b534-df2cfcf74201",
   "metadata": {},
   "source": [
    "## for-in loop on list\n"
   ]
  },
  {
   "cell_type": "markdown",
   "id": "e4d4e901-758f-40e5-b832-faeb3712db88",
   "metadata": {},
   "source": [
    "## for-in loop on range\n"
   ]
  },
  {
   "cell_type": "markdown",
   "id": "ce7e002d-45f1-47f7-a051-dc3bf1bed3f4",
   "metadata": {},
   "source": [
    "## Iterable, iterator\n"
   ]
  },
  {
   "cell_type": "markdown",
   "id": "8609440d-22ee-47cf-a0dd-15aee6faa90b",
   "metadata": {},
   "source": [
    "## for in loop with early end using break\n"
   ]
  },
  {
   "cell_type": "markdown",
   "id": "08cf27da-071a-4f8c-8333-95e7fb5a4b4e",
   "metadata": {},
   "source": [
    "## for in loop skipping parts using continue\n"
   ]
  },
  {
   "cell_type": "markdown",
   "id": "6f416de6-d6e1-49da-815a-9f89c7e215ea",
   "metadata": {},
   "source": [
    "## for in loop with break and continue"
   ]
  },
  {
   "cell_type": "markdown",
   "id": "e03f3d34-8f2c-4a69-b3f0-ac65530d059e",
   "metadata": {},
   "source": [
    "## while loop\n"
   ]
  },
  {
   "cell_type": "markdown",
   "id": "404f3dbc-51c4-49b2-af67-792d98e9d491",
   "metadata": {},
   "source": [
    "## Infinite while loop\n"
   ]
  },
  {
   "cell_type": "markdown",
   "id": "e21a4b6a-d94e-4584-991f-7cd6b7e5210f",
   "metadata": {},
   "source": [
    "## While with complex expression\n"
   ]
  },
  {
   "cell_type": "markdown",
   "id": "29d66d51-9c95-4669-8f60-96b2cbe84d7a",
   "metadata": {},
   "source": [
    "## While with break\n"
   ]
  },
  {
   "cell_type": "markdown",
   "id": "9ce3d617-245e-43d5-ab83-0555a788c580",
   "metadata": {},
   "source": [
    "## While True"
   ]
  },
  {
   "cell_type": "markdown",
   "id": "31e8f0bb-84f3-4923-a435-c6fc8f35ef0c",
   "metadata": {},
   "source": [
    "## Testing the refactoring of the while loop\n"
   ]
  },
  {
   "cell_type": "markdown",
   "id": "7bf22b50-3625-4eaf-bffc-55f36fed2984",
   "metadata": {},
   "source": [
    "## Duplicate input call\n"
   ]
  },
  {
   "cell_type": "markdown",
   "id": "e80d0a12-0d74-4f30-8934-b9805d0c24d4",
   "metadata": {},
   "source": [
    "## Duplicate input call with loop\n"
   ]
  },
  {
   "cell_type": "markdown",
   "id": "85aba5fc-3fd9-4674-92f3-8c0f07552bf2",
   "metadata": {},
   "source": [
    "## Eliminate duplicate input call\n"
   ]
  },
  {
   "cell_type": "markdown",
   "id": "0381123e-9305-41b2-ae34-f3a3e63a23b5",
   "metadata": {},
   "source": [
    "## do while loop\n"
   ]
  },
  {
   "cell_type": "markdown",
   "id": "a3d3714b-3e08-448a-bf3a-d5595d655058",
   "metadata": {},
   "source": [
    "## while with many continue calls\n"
   ]
  },
  {
   "cell_type": "markdown",
   "id": "ca71bf95-60d6-4f0d-985b-fa29abaeeb47",
   "metadata": {},
   "source": [
    "## Break out from multi-level loops\n"
   ]
  },
  {
   "cell_type": "markdown",
   "id": "f5e5c664-7f0d-42e6-aaa2-60c8626c3738",
   "metadata": {},
   "source": [
    "## For-else"
   ]
  },
  {
   "cell_type": "markdown",
   "id": "8528c3b6-3196-4049-aa9a-57da67ec59f4",
   "metadata": {},
   "source": [
    "## Exercise: Print all the locations in a string\n"
   ]
  },
  {
   "cell_type": "markdown",
   "id": "a40b7b45-c5c8-4e3d-9653-a385fcd8c3b1",
   "metadata": {},
   "source": [
    "## Exercise 1 for Number Guessing\n"
   ]
  },
  {
   "cell_type": "markdown",
   "id": "a3ea0519-767e-488b-a269-e65979e789ec",
   "metadata": {},
   "source": [
    "## Exercise 2 for Number Guessing (x)\n"
   ]
  },
  {
   "cell_type": "markdown",
   "id": "50694af3-c032-498f-856e-5be540f74630",
   "metadata": {},
   "source": [
    "## Exercise 3 for Number Guessing (s)\n"
   ]
  },
  {
   "cell_type": "markdown",
   "id": "9ef25849-31b3-48e1-9ac8-8d337c1c4585",
   "metadata": {},
   "source": [
    "\n"
   ]
  },
  {
   "cell_type": "markdown",
   "id": "a3ac5589-bb5d-430c-bb65-0d141632c411",
   "metadata": {},
   "source": [
    "## Exercise for Number Guessing (debug)"
   ]
  },
  {
   "cell_type": "markdown",
   "id": "06200ee1-3803-48fe-a6ba-dc4f6619a0c3",
   "metadata": {
    "tags": []
   },
   "source": [
    "## Exercise for Number Guessing (move)\n",
    "\n"
   ]
  },
  {
   "cell_type": "markdown",
   "id": "bc87ae7d-1559-49c0-80c5-a05563240448",
   "metadata": {
    "tags": []
   },
   "source": [
    "## Exercise for Number Guessing (multi-game)\n",
    "\n"
   ]
  },
  {
   "cell_type": "markdown",
   "id": "60aa5d52-ee6f-4492-bc72-f70ca9b272ad",
   "metadata": {},
   "source": [
    "## Exercise: Count unique characters\n"
   ]
  },
  {
   "cell_type": "markdown",
   "id": "7c86c8d8-4442-4c5d-a89e-57d9c0b89796",
   "metadata": {},
   "source": [
    "\n",
    "## Exercise: Convert for-loop to while-loop"
   ]
  },
  {
   "cell_type": "code",
   "execution_count": null,
   "id": "9300d844-bb15-4a77-b958-3434d39574c3",
   "metadata": {},
   "outputs": [],
   "source": []
  },
  {
   "cell_type": "code",
   "execution_count": null,
   "id": "d6ede1cd-bfba-4a6e-af1c-db09ed531620",
   "metadata": {},
   "outputs": [],
   "source": []
  }
 ],
 "metadata": {
  "kernelspec": {
   "display_name": "Python 3 (ipykernel)",
   "language": "python",
   "name": "python3"
  },
  "language_info": {
   "codemirror_mode": {
    "name": "ipython",
    "version": 3
   },
   "file_extension": ".py",
   "mimetype": "text/x-python",
   "name": "python",
   "nbconvert_exporter": "python",
   "pygments_lexer": "ipython3",
   "version": "3.9.7"
  }
 },
 "nbformat": 4,
 "nbformat_minor": 5
}
