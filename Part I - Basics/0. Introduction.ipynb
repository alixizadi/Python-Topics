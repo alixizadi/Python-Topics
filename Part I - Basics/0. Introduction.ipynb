{
 "cells": [
  {
   "cell_type": "code",
   "execution_count": 4,
   "id": "ed28ade1",
   "metadata": {},
   "outputs": [
    {
     "name": "stdout",
     "output_type": "stream",
     "text": [
      "HelloWorld\n"
     ]
    }
   ],
   "source": [
    "print(\"HelloWorld\")"
   ]
  },
  {
   "cell_type": "code",
   "execution_count": 5,
   "id": "1cc30231",
   "metadata": {},
   "outputs": [
    {
     "name": "stdout",
     "output_type": "stream",
     "text": [
      "hello\n",
      "world\n"
     ]
    }
   ],
   "source": [
    "print(\"hello\")\n",
    "\n",
    "# Commentsforotherdevelopers 4\n",
    "print(\"world\") #morecomments 6\n",
    "# print(\"Thisisnotprinted\")"
   ]
  },
  {
   "cell_type": "code",
   "execution_count": 6,
   "id": "b5c0cfc5",
   "metadata": {},
   "outputs": [
    {
     "name": "stdout",
     "output_type": "stream",
     "text": [
      "HelloWorld!\n"
     ]
    }
   ],
   "source": [
    "greeting=\"HelloWorld!\"\n",
    "print(greeting)"
   ]
  },
  {
   "cell_type": "code",
   "execution_count": 7,
   "id": "f566ba14",
   "metadata": {},
   "outputs": [
    {
     "name": "stdout",
     "output_type": "stream",
     "text": [
      "<class 'int'>\n",
      "<class 'float'>\n",
      "<class 'str'>\n",
      "<class 'str'>\n",
      "<class 'str'>\n",
      "<class 'NoneType'>\n",
      "<class 'bool'>\n",
      "<class 'bool'>\n",
      "<class 'list'>\n",
      "<class 'dict'>\n"
     ]
    },
    {
     "ename": "NameError",
     "evalue": "name 'hello' is not defined",
     "output_type": "error",
     "traceback": [
      "\u001b[0;31m---------------------------------------------------------------------------\u001b[0m",
      "\u001b[0;31mNameError\u001b[0m                                 Traceback (most recent call last)",
      "Cell \u001b[0;32mIn[7], line 15\u001b[0m\n\u001b[1;32m     12\u001b[0m \u001b[38;5;28mprint\u001b[39m( \u001b[38;5;28mtype\u001b[39m([]) )\n\u001b[1;32m     13\u001b[0m \u001b[38;5;28mprint\u001b[39m( \u001b[38;5;28mtype\u001b[39m({}) )\n\u001b[0;32m---> 15\u001b[0m \u001b[38;5;28mprint\u001b[39m( \u001b[38;5;28mtype\u001b[39m(\u001b[43mhello\u001b[49m) )\n\u001b[1;32m     16\u001b[0m \u001b[38;5;28mprint\u001b[39m(\u001b[38;5;124m\"\u001b[39m\u001b[38;5;124mStillrunning\u001b[39m\u001b[38;5;124m\"\u001b[39m)\n",
      "\u001b[0;31mNameError\u001b[0m: name 'hello' is not defined"
     ]
    }
   ],
   "source": [
    "print( type(23) )\n",
    "print( type(3.14) )\n",
    "print( type(\"hello\") )\n",
    "\n",
    "print( type(\"23\") )\n",
    "print( type(\"3.24\") )\n",
    "\n",
    "print( type(None) )\n",
    "print( type(True) )\n",
    "print( type(False) )\n",
    "\n",
    "print( type([]) )\n",
    "print( type({}) )\n",
    "\n",
    "print( type(hello) )\n",
    "print(\"Stillrunning\")"
   ]
  },
  {
   "cell_type": "code",
   "execution_count": 8,
   "id": "cdd9d5c8",
   "metadata": {},
   "outputs": [
    {
     "name": "stdout",
     "output_type": "stream",
     "text": [
      "0.30000000000000004\n"
     ]
    }
   ],
   "source": [
    "print(0.1 + 0.2) # 0.30000000000000004"
   ]
  },
  {
   "cell_type": "code",
   "execution_count": 9,
   "id": "35c8f2c5",
   "metadata": {},
   "outputs": [
    {
     "name": "stdout",
     "output_type": "stream",
     "text": [
      "391\n"
     ]
    }
   ],
   "source": [
    "width=23\n",
    "height=17\n",
    "area=width*height\n",
    "print(area) # 391"
   ]
  },
  {
   "cell_type": "code",
   "execution_count": 10,
   "id": "b415c34e",
   "metadata": {},
   "outputs": [
    {
     "ename": "TypeError",
     "evalue": "can't multiply sequence by non-int of type 'str'",
     "output_type": "error",
     "traceback": [
      "\u001b[0;31m---------------------------------------------------------------------------\u001b[0m",
      "\u001b[0;31mTypeError\u001b[0m                                 Traceback (most recent call last)",
      "Cell \u001b[0;32mIn[10], line 3\u001b[0m\n\u001b[1;32m      1\u001b[0m width\u001b[38;5;241m=\u001b[39m\u001b[38;5;124m\"\u001b[39m\u001b[38;5;124m23\u001b[39m\u001b[38;5;124m\"\u001b[39m\n\u001b[1;32m      2\u001b[0m height\u001b[38;5;241m=\u001b[39m\u001b[38;5;124m\"\u001b[39m\u001b[38;5;124m17\u001b[39m\u001b[38;5;124m\"\u001b[39m\n\u001b[0;32m----> 3\u001b[0m area\u001b[38;5;241m=\u001b[39m\u001b[43mwidth\u001b[49m\u001b[38;5;241;43m*\u001b[39;49m\u001b[43mheight\u001b[49m\n\u001b[1;32m      4\u001b[0m \u001b[38;5;28mprint\u001b[39m(area)\n",
      "\u001b[0;31mTypeError\u001b[0m: can't multiply sequence by non-int of type 'str'"
     ]
    }
   ],
   "source": [
    "width=\"23\"\n",
    "height=\"17\"\n",
    "area=width*height\n",
    "print(area)"
   ]
  },
  {
   "cell_type": "code",
   "execution_count": 11,
   "id": "ca6770dd",
   "metadata": {},
   "outputs": [
    {
     "name": "stdout",
     "output_type": "stream",
     "text": [
      "42\n"
     ]
    }
   ],
   "source": [
    "a=19\n",
    "b=23\n",
    "c=a+b\n",
    "print(c) # 42"
   ]
  },
  {
   "cell_type": "code",
   "execution_count": 12,
   "id": "e759c5c8",
   "metadata": {},
   "outputs": [
    {
     "name": "stdout",
     "output_type": "stream",
     "text": [
      "1923\n"
     ]
    }
   ],
   "source": [
    "a=\"19\"\n",
    "b=\"23\"\n",
    "c=a+b\n",
    "print(c) # 1923"
   ]
  },
  {
   "cell_type": "markdown",
   "id": "fc0159d2",
   "metadata": {},
   "source": [
    "- Extend the rectangular_basic.py from above to print both the area and the circumference of the rectangle."
   ]
  },
  {
   "cell_type": "code",
   "execution_count": 13,
   "id": "0001229d",
   "metadata": {},
   "outputs": [
    {
     "name": "stdout",
     "output_type": "stream",
     "text": [
      "The area is  391\n",
      "The circumference is  80\n"
     ]
    }
   ],
   "source": [
    "width=23\n",
    "height=17\n",
    "area=width*height\n",
    "print(\"The area is \", area) # 391\n",
    "circumference=2*(width+height)\n",
    "print(\"The circumference is \", circumference)\n",
    "# 80"
   ]
  },
  {
   "cell_type": "markdown",
   "id": "738b563d",
   "metadata": {},
   "source": [
    "- Write a script that has a variable holding the radius of a circle and prints out the area of the circle and the circumference of the circle.\n"
   ]
  },
  {
   "cell_type": "code",
   "execution_count": 16,
   "id": "17b2f014",
   "metadata": {},
   "outputs": [
    {
     "name": "stdout",
     "output_type": "stream",
     "text": [
      "Theareais 153.86\n",
      "The circumference is  43.96\n",
      "-- using math lib --\n",
      "Theareais 153.93804002589985\n",
      "The circumference is  43.982297150257104\n"
     ]
    }
   ],
   "source": [
    "r=7\n",
    "pi=3.14\n",
    "print(\"Theareais\",r*r*pi) #153.86\n",
    "print(\"The circumference is \", 2 * r * pi) # 43.96\n",
    "\n",
    "print(\"-- using math lib --\")\n",
    "import math\n",
    "r=7\n",
    "print(\"Theareais\",r*r*math.pi) #153.9380400258998\n",
    "print(\"The circumference is \", 2 * r * math.pi) # 43.982297150257104"
   ]
  },
  {
   "cell_type": "markdown",
   "id": "c61f5d17",
   "metadata": {},
   "source": [
    "- Write a script that has two numbers a and b and prints out the results of a+b, a-b, a*b, a/b"
   ]
  },
  {
   "cell_type": "code",
   "execution_count": 17,
   "id": "8d0ab5ee",
   "metadata": {},
   "outputs": [
    {
     "name": "stdout",
     "output_type": "stream",
     "text": [
      "5\n",
      "1\n",
      "6\n",
      "1.5\n"
     ]
    }
   ],
   "source": [
    "a=3\n",
    "b=2\n",
    "\n",
    "print(a+b)\n",
    "print(a-b)\n",
    "print(a*b)\n",
    "print(a/b)\n",
    "# 5 # 1 # 6 # 1.5"
   ]
  }
 ],
 "metadata": {
  "kernelspec": {
   "display_name": "Python 3 (ipykernel)",
   "language": "python",
   "name": "python3"
  },
  "language_info": {
   "codemirror_mode": {
    "name": "ipython",
    "version": 3
   },
   "file_extension": ".py",
   "mimetype": "text/x-python",
   "name": "python",
   "nbconvert_exporter": "python",
   "pygments_lexer": "ipython3",
   "version": "3.9.7"
  }
 },
 "nbformat": 4,
 "nbformat_minor": 5
}
