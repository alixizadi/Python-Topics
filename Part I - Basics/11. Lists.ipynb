{
 "cells": [
  {
   "cell_type": "markdown",
   "id": "9aa036c3-c116-4e95-9aa9-2fad0c07210e",
   "metadata": {},
   "source": [
    "## Anything can be a list\n",
    "\n",
    "- Comma separated values\n",
    "- In square brackets\n",
    "- Can be any value, and a mix of values: Integer, Float, Boolean, None, String, List, Dictionary, ...\n",
    "- But usually they are of the same type:\n",
    "- Distances of astronomical objects\n",
    "- Chemical Formulas\n",
    "- Filenames\n",
    "- Names of devices\n",
    "- Objects describing attributes of a network device.\n",
    "- Actions to do on your data."
   ]
  },
  {
   "cell_type": "code",
   "execution_count": 4,
   "id": "2aa90403-fba9-439f-b294-633df10f081d",
   "metadata": {},
   "outputs": [
    {
     "name": "stdout",
     "output_type": "stream",
     "text": [
      "[42, 3.14, True, None, 'Foo Bar', ['another', 'list'], {'a': 'Dictionary', 'language': 'Python'}]\n"
     ]
    }
   ],
   "source": [
    "stuff = [42, 3.14, True, None, \"Foo Bar\", ['another', 'list'], {'a': 'Dictionary', 'language' : 'Python'}]\n",
    "print(stuff)"
   ]
  },
  {
   "cell_type": "markdown",
   "id": "13f2a35d-4203-4dcc-b8c6-461a867f30d0",
   "metadata": {},
   "source": [
    "## Any layout\n",
    "- Layout is flexible\n",
    "- Trailing comma is optional. It does not disturb us. Nor Python."
   ]
  },
  {
   "cell_type": "code",
   "execution_count": 5,
   "id": "8ff473e1-0e47-4b93-9dc6-0189cdb489ff",
   "metadata": {},
   "outputs": [
    {
     "name": "stdout",
     "output_type": "stream",
     "text": [
      "[42, 3.14, True, None, 'Foo Bar', ['another', 'list'], {'a': 'Dictionary', 'language': 'Python'}]\n"
     ]
    }
   ],
   "source": [
    "more_stuff = [\n",
    "    42,\n",
    "    3.14,\n",
    "    True,\n",
    "    None,\n",
    "    \"Foo Bar\",\n",
    "    ['another', 'list'],\n",
    "    {\n",
    "        'a': 'Dictionary',\n",
    "        'language' : 'Python',\n",
    "    },\n",
    "]\n",
    "print(more_stuff)"
   ]
  },
  {
   "cell_type": "markdown",
   "id": "cc6b68ee-17d4-4ee3-8969-666503f3cc68",
   "metadata": {},
   "source": [
    "## Access elements of a list\n",
    "- Access single element: [index]\n",
    "- Access a sublist: [start:end]\n",
    "- Creates a copy of that sublist"
   ]
  },
  {
   "cell_type": "code",
   "execution_count": 6,
   "id": "5569e005-7e5f-4434-95ee-4e846f167b69",
   "metadata": {},
   "outputs": [
    {
     "name": "stdout",
     "output_type": "stream",
     "text": [
      "['Mercury', 'Venus', 'Earth', 'Mars', 'Jupiter', 'Saturn']\n",
      "6\n",
      "<class 'list'>\n",
      "Mercury\n",
      "<class 'str'>\n",
      "Mars\n",
      "['Mercury', 'Venus']\n",
      "['Venus', 'Earth', 'Mars']\n",
      "['Mercury']\n",
      "<class 'list'>\n",
      "['Earth', 'Mars', 'Jupiter', 'Saturn']\n",
      "['Mercury', 'Venus', 'Earth']\n",
      "['Mercury', 'Venus', 'Earth', 'Mars', 'Jupiter', 'Saturn']\n"
     ]
    }
   ],
   "source": [
    "planets = ['Mercury', 'Venus', 'Earth', 'Mars', 'Jupiter', 'Saturn']\n",
    "\n",
    "print(planets)            # ['Mercury', 'Venus', 'Earth', 'Mars', 'Jupiter', 'Saturn']\n",
    "print(len(planets))       # 6\n",
    "print(type(planets))      # <class 'list'>\n",
    "\n",
    "print(planets[0])         # Mercury\n",
    "print(type(planets[0]))   # <class 'str'>\n",
    "print(planets[3])         # Mars\n",
    "\n",
    "print(planets[0:2])       # ['Mercury', 'Venus']\n",
    "print(planets[1:4])       # ['Venus', 'Earth', 'Mars']\n",
    "\n",
    "print(planets[0:1])       # ['Mercury']\n",
    "print(type(planets[0:1])) # <class 'list'>\n",
    "\n",
    "print(planets[2:])        # ['Earth', 'Mars', 'Jupiter', 'Saturn']\n",
    "print(planets[:3])        # ['Mercury', 'Venus', 'Earth']\n",
    "\n",
    "print(planets[:])         # ['Mercury', 'Venus', 'Earth', 'Mars', 'Jupiter', 'Saturn']\n"
   ]
  },
  {
   "cell_type": "markdown",
   "id": "1252e3d9-045e-4d22-b9dd-3cf65e26b928",
   "metadata": {},
   "source": [
    "## List slice with steps\n",
    "- List slice with step: [start:end:step]\n"
   ]
  },
  {
   "cell_type": "code",
   "execution_count": 9,
   "id": "0de87130-3eff-4708-a117-2f498074e8b6",
   "metadata": {},
   "outputs": [
    {
     "name": "stdout",
     "output_type": "stream",
     "text": [
      "['a', 'b', 'c', 'd', 'e', 'f', 'g', 'h', 'i', 'j']\n",
      "['a', 'b', 'c', 'd', 'e', 'f', 'g', 'h', 'i', 'j']\n",
      "['a', 'c', 'e', 'g', 'i']\n",
      "['b', 'd', 'f', 'h', 'j']\n",
      "['c', 'e', 'g']\n",
      "['b', 'e', 'h']\n",
      "[]\n",
      "['i', 'g', 'e']\n",
      "[]\n"
     ]
    }
   ],
   "source": [
    "\n",
    "letters = ['a', 'b', 'c', 'd', 'e', 'f', 'g', 'h', 'i', 'j']\n",
    "\n",
    "print(letters[::])       # ['a', 'b', 'c', 'd', 'e', 'f', 'g', 'h', 'i', 'j']\n",
    "\n",
    "print(letters[::1])      # ['a', 'b', 'c', 'd', 'e', 'f', 'g', 'h', 'i', 'j']\n",
    "\n",
    "print(letters[::2])      # ['a', 'c', 'e', 'g', 'i']\n",
    "\n",
    "print(letters[1::2])     # ['b', 'd', 'f', 'h', 'j']\n",
    "\n",
    "print(letters[2:8:2])    # ['c', 'e', 'g']\n",
    "\n",
    "print(letters[1:20:3])   # ['b', 'e', 'h']\n",
    "\n",
    "print(letters[20:30:3])   # []\n",
    "\n",
    "print(letters[8:3:-2])   # ['i', 'g', 'e']\n",
    "\n",
    "print(letters[8:3:2])   # []"
   ]
  },
  {
   "cell_type": "markdown",
   "id": "3a7d24bb-27cd-4ebd-9d4d-0820c30af313",
   "metadata": {},
   "source": [
    "## Change a List\n"
   ]
  },
  {
   "cell_type": "code",
   "execution_count": 10,
   "id": "33897baa-b118-4713-aaa4-8d6844c67276",
   "metadata": {},
   "outputs": [
    {
     "name": "stdout",
     "output_type": "stream",
     "text": [
      "['apple', 'banana', 'peach', 'strawberry']\n",
      "['orange', 'banana', 'peach', 'strawberry']\n",
      "['banana', 'peach']\n",
      "['orange', 'grape', 'kiwi', 'strawberry']\n",
      "['grape', 'kiwi']\n",
      "['orange', 'mango', 'strawberry']\n",
      "['mango']\n",
      "['orange', 'banana', 'peach', 'strawberry']\n",
      "[]\n",
      "['orange', 'apple', 'pineapple', 'banana', 'peach', 'strawberry']\n"
     ]
    }
   ],
   "source": [
    "fruits = ['apple', 'banana', 'peach', 'strawberry']\n",
    "print(fruits)      # ['apple', 'banana', 'peach', 'strawberry']\n",
    "fruits[0] = 'orange'\n",
    "print(fruits)      # ['orange', 'banana', 'peach', 'strawberry']\n",
    "\n",
    "print(fruits[1:3]) # ['banana', 'peach']\n",
    "fruits[1:3] = ['grape', 'kiwi']\n",
    "print(fruits)      #  ['orange', 'grape', 'kiwi', 'strawberry']\n",
    "\n",
    "print(fruits[1:3]) # ['grape', 'kiwi']\n",
    "fruits[1:3] = ['mango']\n",
    "print(fruits)      #  ['orange', 'mango', 'strawberry']\n",
    "\n",
    "print(fruits[1:2]) # ['mango']\n",
    "fruits[1:2] = [\"banana\", \"peach\"]\n",
    "print(fruits)      # ['orange', 'banana', 'peach', 'strawberry']\n",
    "\n",
    "print(fruits[1:1]) # []\n",
    "fruits[1:1] = ['apple', 'pineapple']\n",
    "print(fruits)      # ['orange', 'apple', 'pineapple', 'banana', 'peach', 'strawberry']"
   ]
  },
  {
   "cell_type": "markdown",
   "id": "b09b7898-3a1a-4309-aa88-9cd82fd5f3ea",
   "metadata": {},
   "source": [
    "## Change sublist vs change element of a list\n"
   ]
  },
  {
   "cell_type": "code",
   "execution_count": 11,
   "id": "c16703f6-e971-42af-a979-d1f13f40f94f",
   "metadata": {},
   "outputs": [
    {
     "name": "stdout",
     "output_type": "stream",
     "text": [
      "['mango']\n",
      "['orange', 'banana', 'peach', 'strawberry']\n"
     ]
    }
   ],
   "source": [
    "#change sublist\n",
    "fruits = ['orange', 'mango', 'strawberry']\n",
    "\n",
    "print(fruits[1:2]) # ['mango']\n",
    "fruits[1:2] = [\"banana\", \"peach\"]\n",
    "print(fruits)      # ['orange', 'banana', 'peach', 'strawberry']\n",
    "\n"
   ]
  },
  {
   "cell_type": "code",
   "execution_count": 12,
   "id": "0db635e2-3cc1-4fb3-80ca-e068073a22c7",
   "metadata": {},
   "outputs": [
    {
     "name": "stdout",
     "output_type": "stream",
     "text": [
      "mango\n",
      "['orange', ['banana', 'peach'], 'strawberry']\n"
     ]
    }
   ],
   "source": [
    "# change element\n",
    "fruits = ['orange', 'mango', 'strawberry']\n",
    "\n",
    "print(fruits[1]) # mango\n",
    "fruits[1] = [\"banana\", \"peach\"]\n",
    "print(fruits)    #  ['orange', ['banana', 'peach'], 'strawberry']"
   ]
  },
  {
   "cell_type": "markdown",
   "id": "b0a27e2f-d374-41c8-b019-43af87220917",
   "metadata": {},
   "source": [
    "## Change with steps\n"
   ]
  },
  {
   "cell_type": "code",
   "execution_count": 15,
   "id": "c543bbee-262a-4f3b-a9ec-75fd22ccb2ca",
   "metadata": {},
   "outputs": [
    {
     "name": "stdout",
     "output_type": "stream",
     "text": [
      "[1, 2, 3, 4, 5, 6, 7, 8, 9, 10, 11, 12]\n",
      "[2, 4, 6, 8, 10, 12]\n",
      "[1, 0, 3, 0, 5, 0, 7, 0, 9, 0, 11, 0]\n",
      "[1, 42, 3, 42, 5, 42, 7, 42, 9, 42, 11, 42]\n",
      "[1, 42, 7, 42, 5, 7, 7, 42, 7, 42, 11, 7]\n"
     ]
    }
   ],
   "source": [
    "numbers = [1, 2, 3, 4, 5, 6, 7, 8, 9, 10, 11, 12]\n",
    "print(numbers)  # [1, 2, 3, 4, 5, 6, 7, 8, 9, 10, 11, 12]\n",
    "\n",
    "print(numbers[1::2])   # [2, 4, 6, 8, 10, 12]\n",
    "numbers[1::2] = [0, 0, 0, 0, 0, 0]\n",
    "print(numbers)  # [1, 0, 3, 0, 5, 0, 7, 0, 9, 0, 11, 0]\n",
    "\n",
    "numbers[1::2] = [42] * 6\n",
    "print(numbers)  # [1, 42, 3, 42, 5, 42, 7, 42, 9, 42, 11, 42]\n",
    "\n",
    "numbers[2::3] = [7] * len(numbers[2::3])\n",
    "print(numbers) "
   ]
  },
  {
   "cell_type": "markdown",
   "id": "91a36681-075c-4059-b855-2bff0018c5e2",
   "metadata": {},
   "source": [
    "## List assignment and list copy\n"
   ]
  },
  {
   "cell_type": "code",
   "execution_count": 16,
   "id": "53c7b931-104b-4c79-9615-71a8037c15fa",
   "metadata": {},
   "outputs": [
    {
     "name": "stdout",
     "output_type": "stream",
     "text": [
      "['orange', 'banana', 'peach', 'kiwi']\n",
      "['orange', 'banana', 'peach', 'kiwi']\n"
     ]
    }
   ],
   "source": [
    "fruits = ['apple', 'banana', 'peach', 'kiwi']\n",
    "salad = fruits #shallow copy\n",
    "fruits[0] = 'orange'\n",
    "print(fruits)   # ['orange', 'banana', 'peach', 'kiwi']\n",
    "print(salad)    # ['orange', 'banana', 'peach', 'kiwi']"
   ]
  },
  {
   "cell_type": "markdown",
   "id": "0aa030ca-8b0b-404c-8ca9-ac8beddd9df5",
   "metadata": {},
   "source": [
    "- There is one list in the memory and two pointers to it.\n",
    "- If you really want to make a copy the pythonic way is to use the slice syntax.\n",
    "- It creates a shallow copy."
   ]
  },
  {
   "cell_type": "code",
   "execution_count": 18,
   "id": "ac18d47d-d145-42ec-9a26-ea4630308019",
   "metadata": {},
   "outputs": [
    {
     "name": "stdout",
     "output_type": "stream",
     "text": [
      "['orange', 'banana', 'peach', 'kiwi']\n",
      "['apple', 'banana', 'peach', 'kiwi']\n"
     ]
    }
   ],
   "source": [
    "fruits = ['apple', 'banana', 'peach', 'kiwi']\n",
    "salad = fruits[:] #deep copy\n",
    "\n",
    "fruits[0] = 'orange'\n",
    "\n",
    "print(fruits)   # ['orange', 'banana', 'peach', 'kiwi']\n",
    "print(salad)    # ['apple', 'banana', 'peach', 'kiwi']"
   ]
  },
  {
   "cell_type": "markdown",
   "id": "e536072d-c577-42b2-a327-d45a342ed514",
   "metadata": {},
   "source": [
    "## Shallow vs. Deep copy of lists\n",
    "> `copy`\n",
    ">\n",
    ">`copy.copy()`     # shallow copy\n",
    ">\n",
    "> `copy.deepcopy()` # deep copy\n"
   ]
  },
  {
   "cell_type": "code",
   "execution_count": 22,
   "id": "1bf1a3e6-dd35-4898-a4ef-4f6d5e18f3d2",
   "metadata": {},
   "outputs": [
    {
     "name": "stdout",
     "output_type": "stream",
     "text": [
      "['apple', ['banana', 'peach'], 'kiwi']\n",
      "apple\n",
      "banana\n",
      "['apple', ['banana', 'peach'], 'kiwi']\n",
      "['orange', ['mango', 'peach'], 'kiwi']\n",
      "['apple', ['mango', 'peach'], 'kiwi']\n"
     ]
    }
   ],
   "source": [
    "\n",
    "fruits = ['apple', ['banana', 'peach'], 'kiwi']\n",
    "print(fruits)        # ['apple', ['banana', 'peach'], 'kiwi']\n",
    "print(fruits[0])     # apple\n",
    "print(fruits[1][0])  # banana\n",
    "\n",
    "salad = fruits[:]\n",
    "print(salad)\n",
    "fruits[0] = 'orange'\n",
    "fruits[1][0] = 'mango'\n",
    "\n",
    "\n",
    "print(fruits)  # ['orange', ['mango', 'peach'], 'kiwi']\n",
    "print(salad)   # ['apple', ['mango', 'peach'], 'kiwi']\n",
    "\n",
    "# Note that fruits[1] (list) is shallow copied"
   ]
  },
  {
   "cell_type": "code",
   "execution_count": 23,
   "id": "ab3af1c0-0c17-438e-a22c-4e780b0e7a7a",
   "metadata": {},
   "outputs": [
    {
     "name": "stdout",
     "output_type": "stream",
     "text": [
      "['apple', ['banana', 'peach'], 'kiwi']\n",
      "apple\n",
      "banana\n",
      "['orange', ['mango', 'peach'], 'kiwi']\n",
      "['apple', ['banana', 'peach'], 'kiwi']\n"
     ]
    }
   ],
   "source": [
    "import copy\n",
    "fruits = ['apple', ['banana', 'peach'], 'kiwi']\n",
    "print(fruits)        # ['apple', ['banana', 'peach'], 'kiwi']\n",
    "print(fruits[0])     # apple\n",
    "print(fruits[1][0])  # banana\n",
    "\n",
    "salad = copy.deepcopy(fruits)\n",
    "\n",
    "fruits[0] = 'orange'\n",
    "fruits[1][0] = 'mango'\n",
    "\n",
    "print(fruits)  # ['orange', ['mango', 'peach'], 'kiwi']\n",
    "print(salad)   # ['apple', ['banana', 'peach'], 'kiwi']"
   ]
  },
  {
   "cell_type": "markdown",
   "id": "41d5d8eb-fcad-4d1a-85f1-c6ce9b12d8ee",
   "metadata": {},
   "source": [
    "## join"
   ]
  },
  {
   "cell_type": "code",
   "execution_count": 25,
   "id": "52d2d37b-9cf3-4465-807e-be85ec5a08a6",
   "metadata": {},
   "outputs": [
    {
     "name": "stdout",
     "output_type": "stream",
     "text": [
      "apple:banana:peach:kiwi\n",
      "apple banana peach kiwi\n",
      "apple -=<> banana -=<> peach -=<> kiwi\n",
      "applebananapeachkiwi\n",
      "apple,banana,peach,kiwi\n"
     ]
    }
   ],
   "source": [
    "fruits = ['apple', 'banana', 'peach', 'kiwi']\n",
    "\n",
    "together = ':'.join(fruits)\n",
    "print(together) # apple:banana:peach:kiwi\n",
    "\n",
    "together = ' '.join(fruits)\n",
    "print(together) # apple banana peach kiwi\n",
    "\n",
    "mixed = ' -=<> '.join(fruits)\n",
    "print(mixed) # apple -=<> banana -=<> peach -=<> kiwi\n",
    "\n",
    "another = ''.join(fruits)\n",
    "print(another)  # applebananapeachkiwi\n",
    "\n",
    "csv = ','.join(fruits)\n",
    "print(csv) # apple,banana,peach,kiwi\n",
    "\n",
    "\n",
    "# For real CSV use: csv"
   ]
  },
  {
   "cell_type": "markdown",
   "id": "1e6bfb16-db13-4c59-9473-7ef060dcd23f",
   "metadata": {},
   "source": [
    "## join list of numbers\n"
   ]
  },
  {
   "cell_type": "code",
   "execution_count": 26,
   "id": "1a8cc3cc-3086-4904-b5cd-011c56c86644",
   "metadata": {},
   "outputs": [
    {
     "name": "stdout",
     "output_type": "stream",
     "text": [
      "x:2:y\n",
      "x:2:y\n",
      "x:2:y\n"
     ]
    }
   ],
   "source": [
    "a = [\"x\", \"2\", \"y\"]\n",
    "b = [\"x\", 2, \"y\"]\n",
    "print(\":\".join(a))    # x:2:y\n",
    "# print \":\".join(b)    # TypeError: sequence item 1: expected string, int found\n",
    "\n",
    "# convert elements to string using map\n",
    "print(\":\".join( map(str, b) ))        # x:2:y\n",
    "\n",
    "\n",
    "# convert elements to string using list comprehension\n",
    "print(\":\".join( str(x) for x in b ))  # x:2:y"
   ]
  },
  {
   "cell_type": "markdown",
   "id": "d1eff961-6daf-4492-adc8-5d317f03df5e",
   "metadata": {},
   "source": [
    "## split\n",
    "- Special case: To split a string to its characters: Use the list() function.\n",
    "- Split using more than one splitter: use re.split\n"
   ]
  },
  {
   "cell_type": "code",
   "execution_count": 27,
   "id": "3c45a5cc-de9d-419f-94c4-de8fc4bb21c7",
   "metadata": {},
   "outputs": [
    {
     "name": "stdout",
     "output_type": "stream",
     "text": [
      "['ab', 'cd', '', 'ef']\n",
      "['foo', '', '', 'bar', 'baz']\n",
      "['foo', 'bar', 'baz']\n",
      "['a', 'b', ' ', 'c', 'd']\n"
     ]
    }
   ],
   "source": [
    "\n",
    "words = \"ab:cd::ef\".split(':')\n",
    "print(words)    # ['ab', 'cd', '', 'ef']\n",
    "\n",
    "by_space = \"foo   bar baz\".split(' ')\n",
    "print(by_space) # ['foo', '', '', 'bar', 'baz']\n",
    "\n",
    "# special case: split by spaces\n",
    "names = \"foo   bar baz\".split()\n",
    "print(names)    # ['foo', 'bar', 'baz']\n",
    "\n",
    "# special case: split to characters\n",
    "chars = list(\"ab cd\")\n",
    "print(chars)    # ['a', 'b', ' ', 'c', 'd']"
   ]
  },
  {
   "cell_type": "markdown",
   "id": "05338d4d-5128-493c-9af2-1c9a48f3611d",
   "metadata": {},
   "source": [
    "## for loop on lists\n"
   ]
  },
  {
   "cell_type": "code",
   "execution_count": 28,
   "id": "301c2c09-0d68-4866-b9cf-20de19c9ceea",
   "metadata": {},
   "outputs": [
    {
     "name": "stdout",
     "output_type": "stream",
     "text": [
      "apple\n",
      "banana\n",
      "peach\n",
      "42\n"
     ]
    }
   ],
   "source": [
    "things = ['apple', 'banana', 'peach', 42]\n",
    "for var in things:\n",
    "    print(var)"
   ]
  },
  {
   "cell_type": "markdown",
   "id": "6bb1579c-8129-48a1-8a53-a205c7cdd35a",
   "metadata": {},
   "source": [
    "## in list\n",
    "- Check if the value is in the list?\n"
   ]
  },
  {
   "cell_type": "code",
   "execution_count": 30,
   "id": "b50bbeb9-84db-4ca6-afda-f3bd8c586435",
   "metadata": {},
   "outputs": [
    {
     "name": "stdout",
     "output_type": "stream",
     "text": [
      "found apple\n",
      "NOT found a\n",
      "found str 42\n"
     ]
    }
   ],
   "source": [
    "words = ['apple', 'banana', 'peach', '42']\n",
    "if 'apple' in words:\n",
    "    print('found apple')\n",
    "\n",
    "if 'a' in words:\n",
    "    print('found a')\n",
    "else:\n",
    "    print('NOT found a')\n",
    "\n",
    "if 42 in words:\n",
    "    print('found int 42')\n",
    "elif '42' in words:\n",
    "    print('found str 42')\n",
    "else:\n",
    "    print('NOT found 42')\n",
    "\n",
    "# found apple\n",
    "# NOT found a\n",
    "# NOT found 42"
   ]
  },
  {
   "cell_type": "markdown",
   "id": "6afb67a0-5f43-414e-9e03-6e7ec9d74779",
   "metadata": {},
   "source": [
    "## Where is the element in the list\n"
   ]
  },
  {
   "cell_type": "code",
   "execution_count": 32,
   "id": "b52f55c7-3d98-4631-9133-05cb2bb7af04",
   "metadata": {},
   "outputs": [
    {
     "name": "stdout",
     "output_type": "stream",
     "text": [
      "2\n"
     ]
    },
    {
     "ename": "ValueError",
     "evalue": "'python' is not in list",
     "output_type": "error",
     "traceback": [
      "\u001b[0;31m---------------------------------------------------------------------------\u001b[0m",
      "\u001b[0;31mValueError\u001b[0m                                Traceback (most recent call last)",
      "Cell \u001b[0;32mIn[32], line 4\u001b[0m\n\u001b[1;32m      1\u001b[0m words \u001b[38;5;241m=\u001b[39m [\u001b[38;5;124m'\u001b[39m\u001b[38;5;124mcat\u001b[39m\u001b[38;5;124m'\u001b[39m, \u001b[38;5;124m'\u001b[39m\u001b[38;5;124mdog\u001b[39m\u001b[38;5;124m'\u001b[39m, \u001b[38;5;124m'\u001b[39m\u001b[38;5;124msnake\u001b[39m\u001b[38;5;124m'\u001b[39m, \u001b[38;5;124m'\u001b[39m\u001b[38;5;124mcamel\u001b[39m\u001b[38;5;124m'\u001b[39m]\n\u001b[1;32m      2\u001b[0m \u001b[38;5;28mprint\u001b[39m(words\u001b[38;5;241m.\u001b[39mindex(\u001b[38;5;124m'\u001b[39m\u001b[38;5;124msnake\u001b[39m\u001b[38;5;124m'\u001b[39m))\n\u001b[0;32m----> 4\u001b[0m \u001b[38;5;28mprint\u001b[39m(\u001b[43mwords\u001b[49m\u001b[38;5;241;43m.\u001b[39;49m\u001b[43mindex\u001b[49m\u001b[43m(\u001b[49m\u001b[38;5;124;43m'\u001b[39;49m\u001b[38;5;124;43mpython\u001b[39;49m\u001b[38;5;124;43m'\u001b[39;49m\u001b[43m)\u001b[49m)\n",
      "\u001b[0;31mValueError\u001b[0m: 'python' is not in list"
     ]
    }
   ],
   "source": [
    "words = ['cat', 'dog', 'snake', 'camel']\n",
    "print(words.index('snake'))\n",
    "\n",
    "print(words.index('python')) #exception"
   ]
  },
  {
   "cell_type": "markdown",
   "id": "482fe5ae-9cc3-4f83-a058-e3d0478e7c7a",
   "metadata": {},
   "source": [
    "## Index improved\n"
   ]
  },
  {
   "cell_type": "code",
   "execution_count": 33,
   "id": "6d92c3bf-a1ec-4d35-ba43-5974bbaa0a90",
   "metadata": {},
   "outputs": [
    {
     "name": "stdout",
     "output_type": "stream",
     "text": [
      "2\n"
     ]
    }
   ],
   "source": [
    "words = ['cat', 'dog', 'snake', 'camel']\n",
    "\n",
    "name = 'snake'\n",
    "if name in words:\n",
    "    print(words.index(name))\n",
    "\n",
    "name = 'python'\n",
    "if name in words:\n",
    "    print(words.index(name))"
   ]
  },
  {
   "cell_type": "markdown",
   "id": "a46017b6-5b1b-4bb0-9492-193382115233",
   "metadata": {},
   "source": [
    "## [].insert"
   ]
  },
  {
   "cell_type": "code",
   "execution_count": 34,
   "id": "12d76eea-66b0-4107-a04d-00113c3ceea4",
   "metadata": {},
   "outputs": [
    {
     "name": "stdout",
     "output_type": "stream",
     "text": [
      "['apple', 'banana', 'cat']\n",
      "['apple', 'banana', 'zebra', 'cat']\n",
      "['dog', 'apple', 'banana', 'zebra', 'cat']\n",
      "['dog', 'apple', 'banana', 'zebra', 'cat', 'olifant']\n"
     ]
    }
   ],
   "source": [
    "words = ['apple', 'banana', 'cat']\n",
    "print(words)  # ['apple', 'banana', 'cat']\n",
    "\n",
    "words.insert(2, 'zebra')\n",
    "print(words)  # ['apple', 'banana', 'zebra', 'cat']\n",
    "\n",
    "words.insert(0, 'dog')\n",
    "print(words)  # ['dog', 'apple', 'banana', 'zebra', 'cat']\n",
    "\n",
    "# Instead of this, use append (next slide)\n",
    "words.insert(len(words), 'olifant')\n",
    "print(words)  # ['dog', 'apple', 'banana', 'zebra', 'cat', 'olifant']"
   ]
  },
  {
   "cell_type": "markdown",
   "id": "8554590e-5b3f-4cb2-96bd-d0065ea6edfa",
   "metadata": {},
   "source": [
    "## [].append\n"
   ]
  },
  {
   "cell_type": "code",
   "execution_count": 35,
   "id": "28e78cbf-c486-4110-84a2-a3d4876b477e",
   "metadata": {},
   "outputs": [
    {
     "name": "stdout",
     "output_type": "stream",
     "text": [
      "['Foo', 'Bar', 'Zorg', 'Bambi']\n",
      "['Foo', 'Bar', 'Zorg', 'Bambi', 'Qux']\n"
     ]
    }
   ],
   "source": [
    "names = ['Foo', 'Bar', 'Zorg', 'Bambi']\n",
    "print(names)  # ['Foo', 'Bar', 'Zorg', 'Bambi']\n",
    "\n",
    "names.append('Qux')\n",
    "print(names)  # ['Foo', 'Bar', 'Zorg', 'Bambi', 'Qux']"
   ]
  },
  {
   "cell_type": "markdown",
   "id": "a3ff264c-f46e-4ae0-855e-dc61b18909db",
   "metadata": {},
   "source": [
    "## [].remove\n",
    "\n",
    "- Remove first element from a list given by its value. \n",
    "- Throws an exception if there is no such element in the list."
   ]
  },
  {
   "cell_type": "code",
   "execution_count": 36,
   "id": "ea20e692-6479-4232-8f01-f8e93da29551",
   "metadata": {},
   "outputs": [
    {
     "name": "stdout",
     "output_type": "stream",
     "text": [
      "['Joe', 'Kim', 'Jane', 'Bob', 'Kim']\n",
      "None\n",
      "['Joe', 'Jane', 'Bob', 'Kim']\n"
     ]
    },
    {
     "ename": "ValueError",
     "evalue": "list.remove(x): x not in list",
     "output_type": "error",
     "traceback": [
      "\u001b[0;31m---------------------------------------------------------------------------\u001b[0m",
      "\u001b[0;31mValueError\u001b[0m                                Traceback (most recent call last)",
      "Cell \u001b[0;32mIn[36], line 7\u001b[0m\n\u001b[1;32m      4\u001b[0m \u001b[38;5;28mprint\u001b[39m(names\u001b[38;5;241m.\u001b[39mremove(\u001b[38;5;124m'\u001b[39m\u001b[38;5;124mKim\u001b[39m\u001b[38;5;124m'\u001b[39m))  \u001b[38;5;66;03m# None\u001b[39;00m\n\u001b[1;32m      5\u001b[0m \u001b[38;5;28mprint\u001b[39m(names)                \u001b[38;5;66;03m# ['Joe', 'Jane', 'Bob', 'Kim']\u001b[39;00m\n\u001b[0;32m----> 7\u001b[0m \u001b[38;5;28mprint\u001b[39m(\u001b[43mnames\u001b[49m\u001b[38;5;241;43m.\u001b[39;49m\u001b[43mremove\u001b[49m\u001b[43m(\u001b[49m\u001b[38;5;124;43m'\u001b[39;49m\u001b[38;5;124;43mGeorge\u001b[39;49m\u001b[38;5;124;43m'\u001b[39;49m\u001b[43m)\u001b[49m)\n",
      "\u001b[0;31mValueError\u001b[0m: list.remove(x): x not in list"
     ]
    }
   ],
   "source": [
    "names = ['Joe', 'Kim', 'Jane', 'Bob', 'Kim']\n",
    "print(names)                # ['Joe', 'Kim', 'Jane', 'Bob', 'Kim']\n",
    "\n",
    "print(names.remove('Kim'))  # None\n",
    "print(names)                # ['Joe', 'Jane', 'Bob', 'Kim']\n",
    "\n",
    "print(names.remove('George'))\n",
    "   # Traceback (most recent call last):\n",
    "   #   File \"examples/lists/remove.py\", line 9, in <module>\n",
    "   #     print(names.remove('George'))  # None\n",
    "   # ValueError: list.remove(x): x not in list"
   ]
  },
  {
   "cell_type": "markdown",
   "id": "64c3354a-2a7b-49d0-bea2-016f4331751d",
   "metadata": {},
   "source": [
    "## Remove element by index [].pop\n",
    "- Remove and return the last element of a list. \n",
    "- Throws an exception if the list was empty."
   ]
  },
  {
   "cell_type": "code",
   "execution_count": 37,
   "id": "5e99d900-19c8-4a2e-a43f-90d3063bf338",
   "metadata": {},
   "outputs": [
    {
     "name": "stdout",
     "output_type": "stream",
     "text": [
      "['Mercury', 'Venus', 'Earth', 'Mars', 'Jupiter', 'Saturn']\n",
      "Earth\n",
      "['Mercury', 'Venus', 'Mars', 'Jupiter', 'Saturn']\n",
      "Saturn\n",
      "['Mercury', 'Venus', 'Mars', 'Jupiter']\n"
     ]
    }
   ],
   "source": [
    "lanets = ['Mercury', 'Venus', 'Earth', 'Mars', 'Jupiter']\n",
    "print(planets)          # ['Mercury', 'Venus', 'Earth', 'Mars', 'Jupiter']\n",
    "\n",
    "third = planets.pop(2)\n",
    "print(third)            # Earth\n",
    "print(planets)          # ['Mercury', 'Venus', 'Mars', 'Jupiter']\n",
    "\n",
    "last = planets.pop()\n",
    "print(last)             # Jupiter\n",
    "print(planets)          # ['Mercury', 'Venus', 'Mars']\n",
    "\n",
    "# planets.pop(4)          # IndexError: pop index out of range\n",
    "\n",
    "jupyter_landers = []\n",
    "# jupyter_landers.pop()   # IndexError: pop from empty list\n",
    "\n",
    "\n"
   ]
  },
  {
   "cell_type": "markdown",
   "id": "beb3d887-c01f-44ae-a762-92b180bdac1c",
   "metadata": {},
   "source": [
    "## Remove first element of list\n",
    "- To remove an element by its index, use the slice syntax:\n"
   ]
  },
  {
   "cell_type": "code",
   "execution_count": 39,
   "id": "bb06176b-1921-4f2b-ab07-b047d396f36b",
   "metadata": {},
   "outputs": [
    {
     "name": "stdout",
     "output_type": "stream",
     "text": [
      "foo\n",
      "['bar', 'baz', 'moo']\n"
     ]
    }
   ],
   "source": [
    "names = ['foo', 'bar', 'baz', 'moo']\n",
    "\n",
    "first = names.pop(0)\n",
    "print(first)    # foo\n",
    "print(names)    # ['bar', 'baz', 'moo']"
   ]
  },
  {
   "cell_type": "markdown",
   "id": "e276708d-2dcf-49af-9566-55dfe794a6d1",
   "metadata": {},
   "source": [
    "## Remove several elements of list by index\n",
    "- To remove an element by its index, use the slice syntax:\n"
   ]
  },
  {
   "cell_type": "code",
   "execution_count": 40,
   "id": "3e12906c-b1a6-4177-ae82-17d18194d6a3",
   "metadata": {},
   "outputs": [
    {
     "name": "stdout",
     "output_type": "stream",
     "text": [
      "['foo', 'bar', 'qux']\n"
     ]
    }
   ],
   "source": [
    "names = ['foo', 'bar', 'baz', 'moo', 'qux']\n",
    "\n",
    "names[2:4] = []\n",
    "print(names)    # ['foo', 'bar', 'qux']"
   ]
  },
  {
   "cell_type": "markdown",
   "id": "edc8e1ae-f2e8-4129-b529-f3bb23b33951",
   "metadata": {},
   "source": [
    "## Use list as a queue - FIFO\n"
   ]
  },
  {
   "cell_type": "code",
   "execution_count": 41,
   "id": "16953da2-7da1-4413-9ef8-ea6fad4e0a4a",
   "metadata": {},
   "outputs": [
    {
     "name": "stdout",
     "output_type": "stream",
     "text": [
      "[]\n",
      "['Moo']\n",
      "['Moo', 'Bar']\n",
      "Moo\n",
      "['Bar']\n"
     ]
    }
   ],
   "source": [
    "a_queue = []\n",
    "print(a_queue)\n",
    "\n",
    "a_queue.append('Moo')\n",
    "print(a_queue)\n",
    "\n",
    "a_queue.append('Bar')\n",
    "print(a_queue)\n",
    "\n",
    "first = a_queue.pop(0)\n",
    "print(first)\n",
    "print(a_queue)"
   ]
  },
  {
   "cell_type": "markdown",
   "id": "2265b066-db7d-4f97-8010-f8b3e878fbb4",
   "metadata": {},
   "source": [
    "## Queue using deque from collections\n"
   ]
  },
  {
   "cell_type": "code",
   "execution_count": 42,
   "id": "bbf590ca-d6f7-4e5d-a496-a41ea57e9a35",
   "metadata": {},
   "outputs": [
    {
     "name": "stdout",
     "output_type": "stream",
     "text": [
      "<class 'collections.deque'>\n",
      "deque([])\n",
      "0\n",
      "deque(['Apple'])\n",
      "1\n",
      "deque(['Apple', 'Banana', 'Peach'])\n",
      "3\n",
      "Apple\n",
      "deque(['Banana', 'Peach'])\n",
      "2\n",
      "The queue has items\n",
      "The queue is empty\n"
     ]
    }
   ],
   "source": [
    "from collections import deque\n",
    "\n",
    "fruits = deque()\n",
    "\n",
    "print(type(fruits))  # <type 'collections.deque'>\n",
    "print(fruits)        # deque([])\n",
    "print(len(fruits))   # 0\n",
    "\n",
    "fruits.append('Apple')\n",
    "print(fruits)        # deque(['Apple'])\n",
    "print(len(fruits))   # 1\n",
    "\n",
    "fruits.append('Banana')\n",
    "fruits.append('Peach')\n",
    "print(fruits)        # deque(['Apple', 'Banane', 'Peach'])\n",
    "print(len(fruits))   # 3\n",
    "\n",
    "nxt = fruits.popleft()\n",
    "print(nxt)           # 'Apple'\n",
    "print(fruits)        # deque(['Banana', 'Peach'])\n",
    "print(len(fruits))   # 2\n",
    "\n",
    "if fruits:\n",
    "    print(\"The queue has items\")\n",
    "else:\n",
    "    print(\"The queue is empty\")\n",
    "\n",
    "nxt = fruits.popleft()\n",
    "nxt = fruits.popleft()\n",
    "\n",
    "if fruits:\n",
    "    print(\"The queue has items\")\n",
    "else:\n",
    "    print(\"The queue is empty\")"
   ]
  },
  {
   "cell_type": "markdown",
   "id": "53fca30b-6c35-4704-9712-8d4dafe2a916",
   "metadata": {},
   "source": [
    "## Fixed size queue"
   ]
  },
  {
   "cell_type": "code",
   "execution_count": 43,
   "id": "a0175a51-0bb9-4892-99e9-4f485e8ed3cb",
   "metadata": {},
   "outputs": [
    {
     "name": "stdout",
     "output_type": "stream",
     "text": [
      "0\n",
      "3\n",
      "deque(['Foo', 'Bar', 'Baz'], maxlen=3)\n",
      "deque(['Bar', 'Baz', 'Zorg'], maxlen=3)\n"
     ]
    }
   ],
   "source": [
    "from collections import deque\n",
    "\n",
    "queue = deque([], maxlen = 3)\n",
    "print(len(queue))     # 0\n",
    "print(queue.maxlen)   # 3\n",
    "\n",
    "queue.append(\"Foo\")\n",
    "queue.append(\"Bar\")\n",
    "queue.append(\"Baz\")\n",
    "print(queue)          # deque(['Foo', 'Bar', 'Baz'], maxlen=3)\n",
    "\n",
    "queue.append(\"Zorg\")  # Automatically removes the left-most (first) element\n",
    "print(queue)          # deque(['Bar', 'Baz', 'Zorg'], maxlen=3)"
   ]
  },
  {
   "cell_type": "markdown",
   "id": "1a2040aa-fc66-48f8-9c68-a92ce86bce14",
   "metadata": {},
   "source": [
    "## List as a stack - LIFO"
   ]
  },
  {
   "cell_type": "code",
   "execution_count": 44,
   "id": "688b8bdb-c135-401f-af77-169b6f3ff2ad",
   "metadata": {},
   "outputs": [
    {
     "name": "stdout",
     "output_type": "stream",
     "text": [
      "['Joe']\n",
      "['Joe', 'Jane']\n",
      "['Joe', 'Jane', 'Bob']\n",
      "Bob\n",
      "['Joe', 'Jane']\n",
      "Jane\n",
      "['Joe']\n",
      "Joe\n",
      "[]\n"
     ]
    }
   ],
   "source": [
    "stack = []\n",
    "\n",
    "stack.append(\"Joe\")\n",
    "print(stack)\n",
    "stack.append(\"Jane\")\n",
    "print(stack)\n",
    "stack.append(\"Bob\")\n",
    "print(stack)\n",
    "\n",
    "while stack:\n",
    "    name = stack.pop()\n",
    "    print(name)\n",
    "    print(stack)"
   ]
  },
  {
   "cell_type": "markdown",
   "id": "e351527b-f52f-4cd0-8967-2d10916adbb5",
   "metadata": {},
   "source": [
    "## stack with deque"
   ]
  },
  {
   "cell_type": "code",
   "execution_count": 45,
   "id": "d46b72c4-b961-41be-9fb7-7ca8b710a01f",
   "metadata": {},
   "outputs": [
    {
     "name": "stdout",
     "output_type": "stream",
     "text": [
      "Bob\n",
      "Jane\n",
      "Joe\n"
     ]
    }
   ],
   "source": [
    "from collections import deque\n",
    "stack = deque()\n",
    "\n",
    "stack.append(\"Joe\")\n",
    "stack.append(\"Jane\")\n",
    "stack.append(\"Bob\")\n",
    "\n",
    "while stack:\n",
    "    name = stack.pop()\n",
    "    print(name)\n",
    "\n",
    "# Bob\n",
    "# Jane\n",
    "# Joe"
   ]
  },
  {
   "cell_type": "markdown",
   "id": "b16bd18a-61f9-465f-9df0-76641ea395d9",
   "metadata": {},
   "source": [
    "## Exercies: Queue\n",
    "- The application should manage a queue of people.\n",
    "- It will prompt the user for a new name by printing :, the user can type in a name and press ENTER. The app will add the name to the queue.\n",
    "- If the user types in \"n\" then the application will remove the first name from the queue and print it.\n",
    "- If the user types in \"x\" then the application will print the list of users who were left in the queue and it will exit.\n",
    "- If the user types in \"s\" then the application will show the current number of elements in the queue."
   ]
  },
  {
   "cell_type": "code",
   "execution_count": null,
   "id": "eed14a98-729f-4105-bf8d-2365e7c66de7",
   "metadata": {},
   "outputs": [],
   "source": [
    "queue = []\n",
    "\n",
    "while True:\n",
    "    inp = input(\":\")\n",
    "    inp = inp.rstrip(\"\\n\")\n",
    "\n",
    "    if inp == 'x':\n",
    "        for name in queue:\n",
    "            print(name)\n",
    "        exit()\n",
    "\n",
    "    if inp == 's':\n",
    "        print(len(queue))\n",
    "        continue\n",
    "\n",
    "    if inp == 'n':\n",
    "        if len(queue) > 0:\n",
    "            print(\"next is {}\".format(queue.pop(0)))\n",
    "        else:\n",
    "            print(\"the queue is empty\")\n",
    "        continue\n",
    "\n",
    "    queue.append(inp)"
   ]
  },
  {
   "cell_type": "markdown",
   "id": "0b661ada-8070-42ac-9151-c394878e3f45",
   "metadata": {},
   "source": [
    "## Exercise: Stack\n",
    "- Implement a Reverse Polish Calculator"
   ]
  },
  {
   "cell_type": "code",
   "execution_count": null,
   "id": "2fd1f4f7-e591-4e53-bffb-65ef4b5edafe",
   "metadata": {},
   "outputs": [],
   "source": [
    "stack = []\n",
    "\n",
    "print(\"x = eXit, s = Show, [+-*/=]\")\n",
    "while True:\n",
    "    val = input(':')\n",
    "\n",
    "    if val == 's':\n",
    "        print(stack)\n",
    "        continue\n",
    "\n",
    "    if val == 'x':\n",
    "        break\n",
    "\n",
    "    if val == '+':\n",
    "        a = stack.pop()\n",
    "        b = stack.pop()\n",
    "        stack.append(a+b)\n",
    "        continue\n",
    "\n",
    "    if val == '-':\n",
    "        a = stack.pop()\n",
    "        b = stack.pop()\n",
    "        stack.append(a-b)\n",
    "        continue\n",
    "\n",
    "    if val == '*':\n",
    "        a = stack.pop()\n",
    "        b = stack.pop()\n",
    "        stack.append(a*b)\n",
    "        continue\n",
    "\n",
    "    if val == '/':\n",
    "        a = stack.pop()\n",
    "        b = stack.pop()\n",
    "        stack.append(a/b)\n",
    "        continue\n",
    "\n",
    "    if val == '=':\n",
    "        print(stack.pop())\n",
    "        continue\n",
    "\n",
    "    stack.append(float(val))"
   ]
  },
  {
   "cell_type": "markdown",
   "id": "4c89959a-f40d-455f-aa20-4e9d97deb24a",
   "metadata": {},
   "source": [
    "## Reverse Polish calculator (stack) with deque\n"
   ]
  },
  {
   "cell_type": "code",
   "execution_count": null,
   "id": "db729f6a-3c5d-42b0-a83c-d6e5cc9f05c4",
   "metadata": {},
   "outputs": [],
   "source": [
    "from collections import deque\n",
    "\n",
    "stack = deque()\n",
    "\n",
    "while True:\n",
    "    val = input(':')\n",
    "\n",
    "    if val == 'x':\n",
    "        break\n",
    "\n",
    "    if val == '+':\n",
    "        a = stack.pop()\n",
    "        b = stack.pop()\n",
    "        stack.append(a+b)\n",
    "        continue\n",
    "\n",
    "    if val == '*':\n",
    "        a = stack.pop()\n",
    "        b = stack.pop()\n",
    "        stack.append(a*b)\n",
    "        continue\n",
    "\n",
    "\n",
    "    if val == '=':\n",
    "        print(stack.pop())\n",
    "        continue\n",
    "\n",
    "    stack.append(float(val))"
   ]
  },
  {
   "cell_type": "markdown",
   "id": "a1d9051d-1819-406d-beb1-f36baad7cc38",
   "metadata": {},
   "source": [
    "## Exercise: MasterMind\n",
    "- Implement the **_Master Mind_** board game.\n",
    "- The computer \"thinks\" a number with 4 different digits.\n",
    "- The user guesses which digits.\n",
    "- For every digit that matched both in value, and in location the computer gives a *.\n",
    "- For every digit that matches in value, but not in space the computer gives you a +.\n",
    "- The user tries to guess the given number in as few guesses as possible.\n",
    "> - _Wordle is basically the same game, just with letters and the extra limitation that each guess must be a valid word._"
   ]
  },
  {
   "cell_type": "code",
   "execution_count": 1,
   "id": "e0905181-bc22-4bca-9920-ed9676e519ca",
   "metadata": {},
   "outputs": [],
   "source": [
    "import random\n",
    "import sys\n",
    "\n",
    "width = 4\n",
    "\n",
    "# TODO: verify that the user gave exactly width characters\n",
    "\n",
    "def main():\n",
    "    hidden = list(map(str, random.sample(range(10), width)))\n",
    "    print(f\"Hidden numbers: {hidden}\")\n",
    "    while True:\n",
    "        inp = input(\"Guess a number: (e.g. 1234) or x to eXit. \")\n",
    "        if inp == 'x' or inp == 'X':\n",
    "            exit()\n",
    "        guess = list(inp)\n",
    "        print(guess)\n",
    "        result = []\n",
    "        for ix in range(len(hidden)):\n",
    "            if guess[ix] == hidden[ix]:\n",
    "                result += '*'\n",
    "            elif guess[ix] in hidden:\n",
    "                result += '+'\n",
    "        print(result)\n",
    "        if result == ['*'] * width:\n",
    "            print(\"SUCCESS\")\n",
    "            break\n",
    "main()"
   ]
  },
  {
   "cell_type": "markdown",
   "id": "51518bee-7ca1-4b49-86f2-2810f376b415",
   "metadata": {},
   "source": [
    "## DEBUG THIS CODE"
   ]
  },
  {
   "cell_type": "code",
   "execution_count": null,
   "id": "dbc9ae5b-cbf0-4928-a394-aa758d68c836",
   "metadata": {},
   "outputs": [],
   "source": [
    "import random\n",
    "\n",
    "\n",
    "def number_generator():\n",
    "    y = [0, 0, 0, 0]\n",
    "\n",
    "    for i in range(0, 4):\n",
    "        y[i] = random.randrange(0, 10)\n",
    "        # print(y)\n",
    "        if i:\n",
    "            number += str(y[i])\n",
    "        else:\n",
    "            number = str(y[i])\n",
    "    # print(number)\n",
    "    return number\n",
    "\n",
    "\n",
    "def user_input():\n",
    "    x = input(\"Type in 4 digits number:\")\n",
    "    if len(x) == 4:\n",
    "        return x\n",
    "    else:\n",
    "        print(\"wrong input\")\n",
    "        user_input()\n",
    "\n",
    "\n",
    "def string_compare(x, y):\n",
    "    r = 0\n",
    "    q = 0\n",
    "    for i in range(0, 4):\n",
    "        if x[i] == y[i]:\n",
    "            r += 1\n",
    "            continue\n",
    "        for j in range(0, 4):\n",
    "            if x[i] == y[j]:\n",
    "                if i == j:\n",
    "                    continue\n",
    "                else:\n",
    "                    q += 1\n",
    "                    break\n",
    "    return r, q\n",
    "\n",
    "\n",
    "def print_result(r):\n",
    "    print(\"\")\n",
    "    for i in range(0, r[0]):\n",
    "        print(\"*\", end=\"\")\n",
    "    for i in range(0, r[1]):\n",
    "        print(\"+\", end=\"\")\n",
    "    print(\"\\n\")\n",
    "\n",
    "\n",
    "def main():\n",
    "    comp = number_generator()\n",
    "    result = 0\n",
    "    while True:\n",
    "        user = user_input()\n",
    "        result = string_compare(comp, user)\n",
    "        print_result(result)\n",
    "        # print(result)\n",
    "        if result[0] == 4:\n",
    "            print(\"Correct!\")\n",
    "            return\n",
    "\n",
    "\n",
    "main()"
   ]
  },
  {
   "cell_type": "markdown",
   "id": "acd639ed-8300-42e1-929b-cd99b459f01c",
   "metadata": {},
   "source": [
    "# Part II"
   ]
  },
  {
   "cell_type": "markdown",
   "id": "9ce422bd-8c5a-4bf1-ae02-a7a849637d99",
   "metadata": {
    "tags": []
   },
   "source": [
    "## sort"
   ]
  },
  {
   "cell_type": "code",
   "execution_count": 2,
   "id": "a39e8255-ac6e-45c3-85ce-046c6104a1bf",
   "metadata": {},
   "outputs": [
    {
     "name": "stdout",
     "output_type": "stream",
     "text": [
      "['Mercury', 'Venus', 'Earth', 'Mars', 'Jupiter', 'Saturn']\n",
      "['Earth', 'Jupiter', 'Mars', 'Mercury', 'Saturn', 'Venus']\n",
      "['Venus', 'Saturn', 'Mercury', 'Mars', 'Jupiter', 'Earth']\n"
     ]
    }
   ],
   "source": [
    "planets = ['Mercury', 'Venus', 'Earth', 'Mars', 'Jupiter', 'Saturn']\n",
    "print(planets)     # ['Mercury', 'Venus', 'Earth', 'Mars', 'Jupiter', 'Saturn']\n",
    "planets.sort()\n",
    "print(planets)     # ['Earth', 'Jupiter', 'Mars', 'Mercury', 'Saturn', 'Venus']\n",
    "\n",
    "planets.sort(reverse=True)\n",
    "print(planets)     # ['Venus', 'Saturn', 'Mercury', 'Mars', 'Jupiter', 'Earth']\n"
   ]
  },
  {
   "cell_type": "markdown",
   "id": "00c4f281-a009-4666-9709-e0557533cbcd",
   "metadata": {},
   "source": [
    "## sort numbers\n"
   ]
  },
  {
   "cell_type": "code",
   "execution_count": 3,
   "id": "8d080f07-acaa-4fae-a7eb-4d8536466c25",
   "metadata": {},
   "outputs": [
    {
     "name": "stdout",
     "output_type": "stream",
     "text": [
      "[7, 2, -4, 19, 8]\n",
      "[-4, 2, 7, 8, 19]\n",
      "[19, 8, 7, 2, -4]\n",
      "[19, 8, 7, -4, 2]\n"
     ]
    }
   ],
   "source": [
    "numbers = [7, 2, -4, 19, 8]\n",
    "print(numbers)                      # [7, 2, -4, 19, 8]\n",
    "numbers.sort()\n",
    "print(numbers)                      # [-4, 2, 7, 8, 19]\n",
    "\n",
    "numbers.sort(reverse=True)\n",
    "print(numbers)                      # [19, 9, 7, 2, -4]\n",
    "\n",
    "numbers.sort(key=abs, reverse=True)\n",
    "print(numbers)                      # [19, 9, 7, -4, 2]"
   ]
  },
  {
   "cell_type": "markdown",
   "id": "bba1a0d6-e0e5-46ec-86f1-fc442c5d3307",
   "metadata": {},
   "source": [
    "## key sort of strings\n"
   ]
  },
  {
   "cell_type": "code",
   "execution_count": 4,
   "id": "13157ca4-2486-4557-9d92-843152c86c41",
   "metadata": {},
   "outputs": [
    {
     "name": "stdout",
     "output_type": "stream",
     "text": [
      "['chicken', 'cow', 'snail', 'elephant']\n",
      "['chicken', 'cow', 'elephant', 'snail']\n",
      "['cow', 'snail', 'chicken', 'elephant']\n",
      "['elephant', 'chicken', 'snail', 'cow']\n"
     ]
    }
   ],
   "source": [
    "animals = ['chicken', 'cow', 'snail', 'elephant']\n",
    "print(animals)\n",
    "\n",
    "animals.sort()\n",
    "print(animals)\n",
    "\n",
    "animals.sort(key=len)\n",
    "print(animals)\n",
    "\n",
    "animals.sort(key=len, reverse=True)\n",
    "print(animals)"
   ]
  },
  {
   "cell_type": "markdown",
   "id": "fb58701f-dc84-40e8-8f33-8e70ed76b479",
   "metadata": {},
   "source": [
    "## sort mixed values\n"
   ]
  },
  {
   "cell_type": "code",
   "execution_count": 5,
   "id": "68343c72-a21c-4892-83a2-365167ed3373",
   "metadata": {},
   "outputs": [
    {
     "name": "stdout",
     "output_type": "stream",
     "text": [
      "[100, 'foo', 42, 'bar']\n"
     ]
    },
    {
     "ename": "TypeError",
     "evalue": "'<' not supported between instances of 'str' and 'int'",
     "output_type": "error",
     "traceback": [
      "\u001b[0;31m---------------------------------------------------------------------------\u001b[0m",
      "\u001b[0;31mTypeError\u001b[0m                                 Traceback (most recent call last)",
      "Cell \u001b[0;32mIn[5], line 3\u001b[0m\n\u001b[1;32m      1\u001b[0m mixed \u001b[38;5;241m=\u001b[39m [\u001b[38;5;241m100\u001b[39m, \u001b[38;5;124m'\u001b[39m\u001b[38;5;124mfoo\u001b[39m\u001b[38;5;124m'\u001b[39m, \u001b[38;5;241m42\u001b[39m, \u001b[38;5;124m'\u001b[39m\u001b[38;5;124mbar\u001b[39m\u001b[38;5;124m'\u001b[39m]\n\u001b[1;32m      2\u001b[0m \u001b[38;5;28mprint\u001b[39m(mixed)\n\u001b[0;32m----> 3\u001b[0m \u001b[43mmixed\u001b[49m\u001b[38;5;241;43m.\u001b[39;49m\u001b[43msort\u001b[49m\u001b[43m(\u001b[49m\u001b[43m)\u001b[49m\n\u001b[1;32m      4\u001b[0m \u001b[38;5;28mprint\u001b[39m(mixed)\n",
      "\u001b[0;31mTypeError\u001b[0m: '<' not supported between instances of 'str' and 'int'"
     ]
    }
   ],
   "source": [
    "mixed = [100, 'foo', 42, 'bar']\n",
    "print(mixed)\n",
    "mixed.sort()\n",
    "print(mixed)"
   ]
  },
  {
   "cell_type": "markdown",
   "id": "b9eb8995-64ab-4e20-8355-26645a3866b2",
   "metadata": {},
   "source": [
    "## sort mixed values fixed with str"
   ]
  },
  {
   "cell_type": "code",
   "execution_count": 6,
   "id": "1075d040-8243-4b55-9a15-3d169d5ae30f",
   "metadata": {},
   "outputs": [
    {
     "name": "stdout",
     "output_type": "stream",
     "text": [
      "[100, 'foo', 42, 'bar']\n",
      "[100, 42, 'bar', 'foo']\n"
     ]
    }
   ],
   "source": [
    "mixed = [100, 'foo', 42, 'bar']\n",
    "print(mixed)\n",
    "\n",
    "mixed.sort(key=str)\n",
    "print(mixed)"
   ]
  },
  {
   "cell_type": "markdown",
   "id": "2028641a-05c5-4614-bdfd-a00b89642930",
   "metadata": {},
   "source": [
    "## sorting with sorted\n"
   ]
  },
  {
   "cell_type": "code",
   "execution_count": null,
   "id": "85830c70-822a-4154-959e-7e933efdcc8c",
   "metadata": {},
   "outputs": [],
   "source": [
    "animals = ['chicken', 'cow', 'snail', 'elephant']\n",
    "print(animals)         # ['chicken', 'cow', 'snail', 'elephant']\n",
    "\n",
    "srd = sorted(animals)\n",
    "print(srt)             # ['chicken', 'cow', 'elephant', 'snail']\n",
    "print(animals)         # ['chicken', 'cow', 'snail', 'elephant']\n",
    "\n",
    "rev = sorted(animals, reverse=True, key=len)\n",
    "print(rev)             # ['elephant', 'chicken', 'snail', 'cow']\n",
    "print(animals)         # ['chicken', 'cow', 'snail', 'elephant']"
   ]
  },
  {
   "cell_type": "markdown",
   "id": "bfd09cfb-9387-484c-ab4f-082ea5742f51",
   "metadata": {},
   "source": [
    "## sort vs. sorted\n"
   ]
  },
  {
   "cell_type": "markdown",
   "id": "5064516d-4b21-464e-9998-dad214dd980a",
   "metadata": {},
   "source": [
    "**The sort() method will sort a list in-place and return None. The built-in sorted() function will return the sorted list and leave the original list intact.**"
   ]
  },
  {
   "cell_type": "markdown",
   "id": "bf07004d-ca8d-41ad-975a-0413596e8479",
   "metadata": {},
   "source": [
    "## Sorted and change - shallow copy\n"
   ]
  },
  {
   "cell_type": "markdown",
   "id": "9884d9ba-c4d7-4964-b33e-ab9b35d596a4",
   "metadata": {},
   "source": [
    "- Sorted creates a shallow copy of the original list\n",
    "- If the list elements are simple values that creates a copy"
   ]
  },
  {
   "cell_type": "code",
   "execution_count": 8,
   "id": "efedaa05-fae3-4a65-b372-4c3ef9040349",
   "metadata": {},
   "outputs": [
    {
     "name": "stdout",
     "output_type": "stream",
     "text": [
      "['Jupiter', 'Venus', 'Earth']\n",
      "['Jupiter', 'Venus', 'Earth']\n",
      "['Earth', 'Mercury', 'Venus']\n"
     ]
    }
   ],
   "source": [
    "planets = [\"Mercury\", \"Venus\", \"Earth\"]\n",
    "other_planets = planets\n",
    "sorted_planets = sorted(planets)\n",
    "planets[0] = \"Jupiter\"\n",
    "print(planets)\n",
    "print(other_planets)\n",
    "print(sorted_planets)"
   ]
  },
  {
   "cell_type": "markdown",
   "id": "ba38a002-38b2-467b-82a9-715f9944acd0",
   "metadata": {},
   "source": [
    "If some of the elements are complex structures (list, dictionaries, etc.) then the internal structures are not copied.\n",
    "One can use copy.deepcopy to make sure the whole structure is separated, if that's needed.\n"
   ]
  },
  {
   "cell_type": "code",
   "execution_count": 9,
   "id": "c63e2b10-ee7e-49a4-9704-ad504fe53b5b",
   "metadata": {},
   "outputs": [
    {
     "name": "stdout",
     "output_type": "stream",
     "text": [
      "[['Earth', 2], ['Earth', 3], ['Mercury', 1], ['Venus', 2]]\n",
      "[['Mercury', 100], ['Venus', 2], ['Earth', 3], ['Earth', 2]]\n",
      "[['Mercury', 100], ['Venus', 2], ['Earth', 3], ['Earth', 2]]\n",
      "[['Earth', 2], ['Earth', 3], ['Mercury', 100], ['Venus', 2]]\n"
     ]
    }
   ],
   "source": [
    "planets = [\n",
    "    [\"Mercury\", 1],\n",
    "    [\"Venus\", 2],\n",
    "    [\"Earth\", 3],\n",
    "    [\"Earth\", 2]\n",
    "]\n",
    "other_planets = planets\n",
    "sorted_planets = sorted(planets)\n",
    "print(sorted_planets)\n",
    "\n",
    "planets[0][1] = 100\n",
    "print(planets)\n",
    "print(other_planets)\n",
    "print(sorted_planets)\n"
   ]
  },
  {
   "cell_type": "markdown",
   "id": "9220a7eb-3d49-4cf4-9beb-aa6ecb7f533d",
   "metadata": {},
   "source": [
    "## Sorting characters of a string\n"
   ]
  },
  {
   "cell_type": "code",
   "execution_count": 10,
   "id": "a40dec3a-66b6-446d-ad05-91dd022ea2ff",
   "metadata": {},
   "outputs": [
    {
     "name": "stdout",
     "output_type": "stream",
     "text": [
      "axzb\n",
      "['a', 'b', 'x', 'z']\n",
      "axzb\n",
      "abxz\n",
      "abxz\n"
     ]
    }
   ],
   "source": [
    "letters = 'axzb'\n",
    "print(letters)         # 'axzb'\n",
    "\n",
    "srt = sorted(letters)\n",
    "print(srt)             # ['a', 'b', 'x', 'z']\n",
    "print(letters)         # 'axzb'\n",
    "\n",
    "rev = ''.join(srt)\n",
    "print(rev)               # abxz\n",
    "\n",
    "# in one statement:\n",
    "rev = ''.join(sorted(letters))\n",
    "print(rev)               # abxz"
   ]
  },
  {
   "cell_type": "markdown",
   "id": "e5b3445c-6241-463b-99e9-c33bb145177b",
   "metadata": {},
   "source": [
    "## range\n"
   ]
  },
  {
   "cell_type": "code",
   "execution_count": 11,
   "id": "d25aab75-8372-4e69-b49f-be362e99ed71",
   "metadata": {},
   "outputs": [
    {
     "name": "stdout",
     "output_type": "stream",
     "text": [
      "11\n",
      "13\n",
      "15\n",
      "17\n",
      "5\n",
      "6\n",
      "0\n",
      "1\n",
      "2\n",
      "19\n",
      "17\n",
      "15\n",
      "13\n"
     ]
    }
   ],
   "source": [
    "for ix in range(11, 19, 2):\n",
    "    print(ix)\n",
    "# 11\n",
    "# 13\n",
    "# 15\n",
    "# 17\n",
    "\n",
    "for ix in range(5, 7):\n",
    "    print(ix)\n",
    "# 5\n",
    "# 6\n",
    "\n",
    "for ix in range(3):\n",
    "    print(ix)\n",
    "# 0\n",
    "# 1\n",
    "# 2\n",
    "\n",
    "for ix in range(19, 11, -2):\n",
    "    print(ix)\n",
    "\n",
    "# 19\n",
    "# 17\n",
    "# 15\n",
    "# 13"
   ]
  },
  {
   "cell_type": "markdown",
   "id": "cf200489-7835-4a5d-9572-3ba8b42fb0c6",
   "metadata": {},
   "source": [
    "## Looping over index\n"
   ]
  },
  {
   "cell_type": "code",
   "execution_count": 12,
   "id": "2e5be0d3-491c-486c-b153-48dd56aaacda",
   "metadata": {},
   "outputs": [
    {
     "name": "stdout",
     "output_type": "stream",
     "text": [
      "Mercury\n",
      "Venus\n",
      "Earth\n",
      "Mars\n",
      "Jupiter\n",
      "Saturn\n"
     ]
    }
   ],
   "source": [
    "planets = ['Mercury', 'Venus', 'Earth', 'Mars', 'Jupiter', 'Saturn']\n",
    "for var in planets:\n",
    "    print(var)"
   ]
  },
  {
   "cell_type": "code",
   "execution_count": 13,
   "id": "b2f51d5a-b8a6-4be8-8f8d-0ee0b19be3b2",
   "metadata": {},
   "outputs": [
    {
     "name": "stdout",
     "output_type": "stream",
     "text": [
      "0 Mercury\n",
      "1 Venus\n",
      "2 Earth\n",
      "3 Mars\n",
      "4 Jupiter\n",
      "5 Saturn\n"
     ]
    }
   ],
   "source": [
    "planets = ['Mercury', 'Venus', 'Earth', 'Mars', 'Jupiter', 'Saturn']\n",
    "for ix in range(len(planets)):\n",
    "    print(ix, planets[ix])"
   ]
  },
  {
   "cell_type": "markdown",
   "id": "4df8a9fb-87b4-40fd-8b47-3fb8f5e9ae6c",
   "metadata": {},
   "source": [
    "## Enumerate lists\n"
   ]
  },
  {
   "cell_type": "code",
   "execution_count": 14,
   "id": "13bf11eb-2d22-44c7-ba99-8741db25bf40",
   "metadata": {},
   "outputs": [
    {
     "name": "stdout",
     "output_type": "stream",
     "text": [
      "0 Mercury\n",
      "1 Venus\n",
      "2 Earth\n",
      "3 Mars\n",
      "4 Jupiter\n",
      "5 Saturn\n"
     ]
    }
   ],
   "source": [
    "planets = ['Mercury', 'Venus', 'Earth', 'Mars', 'Jupiter', 'Saturn']\n",
    "for idx, planet in enumerate(planets):\n",
    "    print(idx, planet)"
   ]
  },
  {
   "cell_type": "markdown",
   "id": "aaef9558-23f4-4720-826f-c3664ae11726",
   "metadata": {},
   "source": [
    "## List operators\n"
   ]
  },
  {
   "cell_type": "code",
   "execution_count": 15,
   "id": "ad989fa6-1f7b-47ce-a05a-aafd3e09190b",
   "metadata": {},
   "outputs": [
    {
     "name": "stdout",
     "output_type": "stream",
     "text": [
      "['one', 'two']\n",
      "['one', 'two', 'one', 'two']\n",
      "['one', 'two', 'one', 'two']\n",
      "['one', 'two', 'three']\n",
      "['three', 'one', 'two']\n"
     ]
    }
   ],
   "source": [
    "a = ['one', 'two']\n",
    "b = ['three']\n",
    "\n",
    "print(a)     # ['one', 'two']\n",
    "\n",
    "print(a * 2) # ['one', 'two', 'one', 'two']\n",
    "print(2 * a) # ['one', 'two', 'one', 'two']\n",
    "\n",
    "print(a + b) # ['one', 'two', 'three']\n",
    "print(b + a) # ['three', 'one', 'two']"
   ]
  },
  {
   "cell_type": "markdown",
   "id": "9fe75e24-c159-4d5a-a5e4-455ef375b911",
   "metadata": {},
   "source": [
    "## List of lists\n"
   ]
  },
  {
   "cell_type": "code",
   "execution_count": 16,
   "id": "6dc7e6a9-a5f0-4df2-96b2-d36c41b8a16a",
   "metadata": {},
   "outputs": [
    {
     "name": "stdout",
     "output_type": "stream",
     "text": [
      "['abc', 'def']\n",
      "[['abc', 'def'], 'xyz']\n",
      "['abc', 'def']\n",
      "abc\n",
      "abc\n"
     ]
    }
   ],
   "source": [
    "x = ['abc', 'def']\n",
    "print(x)     # ['abc', 'def']\n",
    "\n",
    "y = [x, 'xyz']\n",
    "print(y)          # [['abc', 'def'], 'xyz']\n",
    "print(y[0])       #  ['abc', 'def']\n",
    "\n",
    "print(x[0])       #    abc\n",
    "print(y[0][0])    #    abc"
   ]
  },
  {
   "cell_type": "markdown",
   "id": "1ef68be2-ba3a-4078-9a81-0e8a9211f566",
   "metadata": {
    "tags": []
   },
   "source": [
    "## List assignment\n"
   ]
  },
  {
   "cell_type": "markdown",
   "id": "e424194e-f582-4b19-a2b3-17c4602c0935",
   "metadata": {},
   "source": []
  },
  {
   "cell_type": "code",
   "execution_count": 17,
   "id": "fe0d6eda-bf5e-4b9f-bd29-7263799efcc9",
   "metadata": {},
   "outputs": [
    {
     "name": "stdout",
     "output_type": "stream",
     "text": [
      "1\n",
      "2\n",
      "2\n",
      "1\n",
      "9 3.0 2 4\n"
     ]
    }
   ],
   "source": [
    "x, y = 1, 2\n",
    "print(x)      # 1\n",
    "print(y)      # 2\n",
    "\n",
    "x, y = y, x\n",
    "print(x)      # 2\n",
    "print(y)      # 1\n",
    "\n",
    "def stats(num):\n",
    "    return sum(num), sum(num)/len(num), min(num), max(num)\n",
    "\n",
    "total, average, minimum, maximum = stats([2, 3, 4])\n",
    "print(total, average, minimum, maximum) # 9 3.0 2 4\n"
   ]
  },
  {
   "cell_type": "markdown",
   "id": "03da00b1-a02f-4c09-b23d-b809c1bb48c8",
   "metadata": {},
   "source": [
    "> `x,y = f()`   works if f returns a list of 2 elements\n",
    ">\n",
    "> It will throw a run-time `ValueError` exception if the number of values in the returned list is not 2.\n",
    ">\n",
    "> (**Both for fewer and for more return values**)."
   ]
  },
  {
   "cell_type": "markdown",
   "id": "dde84682-4832-4aec-9d52-1fb9b6d2a728",
   "metadata": {
    "tags": []
   },
   "source": [
    "## List documentation  \n",
    "**<p style='color:red'>20 most common list methods in Python:</p>**\n"
   ]
  },
  {
   "cell_type": "markdown",
   "id": "58decc5a-d1c9-402c-9c67-768701cfbdb7",
   "metadata": {},
   "source": [
    "\n",
    "> **append(element)**: Adds an element to the end of the list.\n",
    ">\n",
    "> **extend(iterable)**: Appends elements from an iterable to the end of the list.\n",
    ">\n",
    "> **insert(index, element)**: Inserts an element at a specified position in the list.\n",
    ">\n",
    "> **remove(element)**: Removes the first occurrence of the specified element from the list.\n",
    ">\n",
    "> **pop([index])**: Removes and returns the element at the specified index, or the last element if no index is provided.\n",
    ">\n",
    "> **index(element[, start[, end]])**: Returns the index of the first occurrence of the specified element.\n",
    ">\n",
    "> **count(element)**: Returns the number of occurrences of the specified element in the list.\n",
    ">\n",
    "> **sort(key=None, reverse=False)**: Sorts the list in ascending order.<br/> Optionally, you can provide a custom sorting key and set the reverse flag to True for descending order.\n",
    ">\n",
    "> **reverse()**: Reverses the order of the elements in the list.\n",
    ">\n",
    "> **copy()**: Returns a shallow copy of the list.\n",
    ">\n",
    "> **clear()**: Removes all elements from the list.\n",
    "> \n",
    "> **len()**: Returns the number of elements in the list.\n",
    ">\n",
    "> **max()**: Returns the maximum value in the list.\n",
    ">\n",
    "> **min()**: Returns the minimum value in the list.\n",
    "> \n",
    "> **sum()**: Returns the sum of all elements in the list.\n",
    ">\n",
    "> **index(element[, start[, end]])**: Returns the index of the first occurrence of the specified element.\n",
    "> \n",
    "> **extend(iterable)**: Appends elements from an iterable to the end of the list.\n",
    "> \n",
    "> **remove(element)**: Removes the first occurrence of the specified element from the list.\n",
    "> \n",
    "> **pop([index])**: Removes and returns the element at the specified index, or the last element if no index is provided.\n",
    ">\n",
    "> **insert(index, element)**: Inserts an element at a specified position in the list.\n"
   ]
  },
  {
   "cell_type": "markdown",
   "id": "91de8489-beee-4de4-b1bf-939642bcac20",
   "metadata": {},
   "source": [
    "## Exercies"
   ]
  },
  {
   "cell_type": "markdown",
   "id": "01aad43c-d681-41c0-86c1-e7ab829a1584",
   "metadata": {},
   "source": [
    "### Exercise: color selector menu\n",
    "\n",
    "- In a script called color_selector_menu.py have a list of colors. Write a script that will display a menu (a list of numbers and the corresponding color) and prompts the user for a number. The user needs to type in one of the numbers. That's the selected color.\n",
    "\n",
    "1. blue\n",
    "2. green\n",
    "3. yellow\n",
    "4. white\n",
    "\n",
    "- For extra credit make sure the system is user-proof and it won't blow up on various incorrect input values. (e.g Floating point number. Number that is out of range, non-number)\n",
    "- For more credit allow the user to supply the number of the color on the command line. python color_selector_menu.py 3. If that is available, don't prompt.\n",
    "- For further credit allow the user to provide the name of the color on the command line: python color_selector_menu.py yellow Can you handle color names that are not in the expected case (e.g. YelloW)?\n",
    "- Any more ideas for improvement?"
   ]
  },
  {
   "cell_type": "code",
   "execution_count": 19,
   "id": "26acdb44-4642-4311-afb5-127109dd4a7f",
   "metadata": {},
   "outputs": [
    {
     "name": "stdout",
     "output_type": "stream",
     "text": [
      "1) blue\n",
      "2) yellow\n",
      "3) black\n",
      "4) purple\n"
     ]
    },
    {
     "name": "stdin",
     "output_type": "stream",
     "text": [
      "Select color:  2\n"
     ]
    },
    {
     "name": "stdout",
     "output_type": "stream",
     "text": [
      "yellow\n"
     ]
    }
   ],
   "source": [
    "colors = ['blue', 'yellow', 'black', 'purple']\n",
    "for ix in range(len(colors)):\n",
    "    print(\"{}) {}\".format(ix+1, colors[ix]))\n",
    "\n",
    "selection = input(\"Select color: \")\n",
    "if not selection.isdecimal():\n",
    "    exit(f\"We need a number between 1 and {len(colors)}\")\n",
    "\n",
    "if int(selection) < 1 or int(selection) > len(colors):\n",
    "    exit(f\"The number must be between 1 and {len(colors)}\")\n",
    "\n",
    "col = int(selection) - 1\n",
    "print(colors[col])\n"
   ]
  },
  {
   "cell_type": "markdown",
   "id": "bcfce686-7ff0-47ee-bdca-7d383a3e07d0",
   "metadata": {},
   "source": [
    "- We would like to show a menu where each number corresponds to one element of the list so this is one of the places where we need to iterate over the indexes of a list.\n",
    "- len(colors) gives us the length of the list (in our case 4)\n",
    "- range(len(colors)) is the range of numbers between 0 and 4 (in our case), meaning 0, 1, 2, 3.\n",
    "- (Sometimes people explicitly write 4 in this solution, but if later we change the list and include another color we'll have to remember updating this number as well. This is error prone and it is very easy to deduct this number from the data we already have. (The list.))\n",
    "- We start the list from 0, but when we display the menu we would like to show the numbers 1-4 to make it more human friendly. Therefore we show ix+1 and the color from locations ix.\n",
    "- We ask for input and save it in a variable.\n",
    "- We use the isdecimal method to check if the user typed in a decimal number. We give an error and exit if not.\n",
    "- Then we check if the users provided a number in the correct range of values. We give an error and exit if not.\n",
    "- then we convert the value to the correct range of numbers (remember, the user sees and selects numbers between 1-4 and we need them between 0-3)."
   ]
  },
  {
   "cell_type": "code",
   "execution_count": null,
   "id": "065e54de-1fac-4778-8fbb-9af17d886897",
   "metadata": {},
   "outputs": [],
   "source": []
  },
  {
   "cell_type": "markdown",
   "id": "517bf0f2-2900-4fcb-9504-baa4cf8ca0b4",
   "metadata": {},
   "source": [
    "### Exercise: count digits\n",
    "- Create a script called count_digits_in_lists.py that given a list of numbers count how many times each digit appears? The output will look like this:\n",
    "\n",
    "0 : 1<br/>\n",
    "1 : 3<br/>\n",
    "2 : 3<br/>\n",
    "3 : 2<br/>\n",
    "4 : 1<br/>\n",
    "5 : 2<br/>\n",
    "6 : 2<br/>\n",
    "7 : 0<br/>\n",
    "8 : 1<br/>\n",
    "9 : 1<br/>\n",
    "\n",
    "numbers = [1203, 1256, 312456, 98]"
   ]
  },
  {
   "cell_type": "code",
   "execution_count": 20,
   "id": "01b0a955-dff4-4893-9969-7b5334c98d50",
   "metadata": {},
   "outputs": [
    {
     "name": "stdout",
     "output_type": "stream",
     "text": [
      "0  1\n",
      "1  3\n",
      "2  3\n",
      "3  2\n",
      "4  1\n",
      "5  2\n",
      "6  2\n",
      "7  0\n",
      "8  1\n",
      "9  1\n"
     ]
    }
   ],
   "source": [
    "numbers = [1203, 1256, 312456, 98]\n",
    "\n",
    "count = [0] * 10 # same as [0, 0, 0, 0, 0, 0, 0, 0, 0, 0]\n",
    "\n",
    "for num in numbers:\n",
    "    for char in str(num):\n",
    "        count[int(char)] += 1\n",
    "\n",
    "for d in range(0, 10):\n",
    "    print(\"{}  {}\".format(d, count[d]))"
   ]
  },
  {
   "cell_type": "markdown",
   "id": "af12021c-8ea3-4e1f-aced-6f4ab4258381",
   "metadata": {},
   "source": [
    "- We have a list of numbers.\n",
    "- We need a place to store the counters. For this we create a variable called counter which is a list of 10 0s. We are going to count the number of times the digit 3 appears in counters[3].\n",
    "- We iterate over the numbers so num is the current number. (e.g. 1203)\n",
    "- We would like to iterate over the digits in the current number now, but if we write for var in num we will get an error TypeError: 'int' object is not iterable because num is a number, but numbers are not iterables, so we we cannot iterate over them. So we need to convert it to a string using str.\n",
    "- On each iteration char will be one character (which in or case we assume that will be a digit, but still stored as a string).\n",
    "- int(char) will convert the string to a number so for example \"2\" will be converted to 2.\n",
    "- count[int(char)] is going to be char[2] if char is \"2\". That's the location in the list where we count how many times the digit 2 appears in our numbers.\n",
    "- We increment it by one as we have just encountered a new copy of the given digit.\n",
    "- That finished the data collection.\n",
    "- The second for-loop iterates over all the \"possible digits\" that is from 0-9, prints out the digit and the counter in the respective place."
   ]
  },
  {
   "cell_type": "code",
   "execution_count": null,
   "id": "0c5857b9-794d-4a58-8781-90319912bb9c",
   "metadata": {},
   "outputs": [],
   "source": []
  },
  {
   "cell_type": "markdown",
   "id": "b9975a99-97fd-475d-9ecb-a555bfe07d3e",
   "metadata": {},
   "source": [
    "### Exercise: Create list\n",
    "\n",
    "- Create a script called create_list.py that given a list of strings with words separated by spaces, create a single list of all the words.\n",
    "- Skeleton:\n",
    "\n",
    "`lines = ['grape banana mango', 'nut orange peach', 'apple nut banana apple mango',]`\n",
    "\n",
    "`....`\n",
    "\n",
    "`print(fruits)`\n",
    "\n",
    "`....`\n",
    "\n",
    "`print(unique_fruites)`\n",
    "\n",
    "\n",
    "- Expected result:\n",
    "\n",
    "`['grape', 'banana', 'mango', 'nut', 'orange', 'peach', 'apple', 'nut', 'banana', 'apple', 'mango']`\n",
    "\n",
    "- Then create a list of unique values sorted in alphabetical order.\n",
    "\n",
    "- Expected result:\n",
    "\n",
    "\n",
    "`['apple', 'banana', 'grape', 'mango', 'nut', 'orange', 'peach']`\n"
   ]
  },
  {
   "cell_type": "code",
   "execution_count": 21,
   "id": "c1459517-633d-4b89-aceb-6c75e1d6a5f9",
   "metadata": {},
   "outputs": [
    {
     "name": "stdout",
     "output_type": "stream",
     "text": [
      "grape banana mango nut orange peach apple nut banana apple mango\n",
      "['grape', 'banana', 'mango', 'nut', 'orange', 'peach', 'apple', 'nut', 'banana', 'apple', 'mango']\n",
      "['apple', 'banana', 'grape', 'mango', 'nut', 'orange', 'peach']\n",
      "['apple', 'banana', 'grape', 'mango', 'nut', 'orange', 'peach']\n"
     ]
    }
   ],
   "source": [
    "lines = [\n",
    "    'grape banana mango',\n",
    "    'nut orange peach',\n",
    "    'apple nut banana apple mango',\n",
    "]\n",
    "\n",
    "one_line = ' '.join(lines)\n",
    "print(one_line)\n",
    "fruits = one_line.split()\n",
    "print(fruits)\n",
    "\n",
    "unique_fruits = []\n",
    "for word in fruits:\n",
    "    if word not in unique_fruits:\n",
    "        unique_fruits.append(word)\n",
    "print(sorted(unique_fruits))\n",
    "\n",
    "\n",
    "# a simpler way using a set, but we have not learned sets yet.\n",
    "unique = sorted(set(fruits))\n",
    "print(unique)"
   ]
  },
  {
   "cell_type": "code",
   "execution_count": null,
   "id": "fb49e2a5-4938-454d-a7d6-fbe077cab0c2",
   "metadata": {},
   "outputs": [],
   "source": []
  },
  {
   "cell_type": "markdown",
   "id": "72aa933f-7d4d-4a75-9036-fe4b021eef7f",
   "metadata": {},
   "source": [
    "### Exercise: Count words\n",
    "\n",
    "- Create a script that given a list of words (for now embedded in the program itself) will count how many times each word appears.\n",
    "\n",
    "\n",
    "`celestial_objects = [ 'Moon', 'Gas', 'Asteroid', 'Dwarf', 'Asteroid', 'Moon', 'Asteroid']`\n",
    "\n",
    "\n",
    "- Expected output:\n",
    "\n",
    "\n",
    "`Moon        2`<br/>\n",
    "`Gas         1`<br/>\n",
    "`Asteroid    3`<br/>\n",
    "`Dwarf       1`<br/>"
   ]
  },
  {
   "cell_type": "code",
   "execution_count": 22,
   "id": "56fc11fa-aeb0-42bc-b546-012ff8782303",
   "metadata": {},
   "outputs": [
    {
     "name": "stdout",
     "output_type": "stream",
     "text": [
      "Moon           2\n",
      "Gas            1\n",
      "Asteroid       3\n",
      "Dwarf          1\n"
     ]
    }
   ],
   "source": [
    "celestial_objects = [\n",
    "    'Moon', 'Gas', 'Asteroid', 'Dwarf', 'Asteroid', 'Moon', 'Asteroid'\n",
    "]\n",
    "\n",
    "names   = []\n",
    "counter = []\n",
    "\n",
    "for name in celestial_objects:\n",
    "    if name in names:\n",
    "        idx = names.index(name)\n",
    "        counter[idx] += 1\n",
    "    else:\n",
    "        names.append(name)\n",
    "        counter.append(1)\n",
    "\n",
    "for i in range(len(names)):\n",
    "    print(\"{:12}   {}\".format(names[i], counter[i]))"
   ]
  },
  {
   "cell_type": "code",
   "execution_count": 23,
   "id": "d0deb3e3-799f-415b-8cf6-22d13c71ecbb",
   "metadata": {},
   "outputs": [
    {
     "name": "stdout",
     "output_type": "stream",
     "text": [
      "Moon           2\n",
      "Gas            1\n",
      "Asteroid       3\n",
      "Dwarf          1\n"
     ]
    }
   ],
   "source": [
    "celestial_objects = [\n",
    "    'Moon', 'Gas', 'Asteroid', 'Dwarf', 'Asteroid', 'Moon', 'Asteroid'\n",
    "]\n",
    "\n",
    "names   = []\n",
    "counter = []\n",
    "\n",
    "for name in celestial_objects:\n",
    "    for idx in range(len(names)):\n",
    "        if name == names[idx]:\n",
    "            counter[idx] += 1\n",
    "            break\n",
    "    else:\n",
    "        names.append(name)\n",
    "        counter.append(1)\n",
    "\n",
    "for i in range(len(names)):\n",
    "    print(\"{:12}   {}\".format(names[i], counter[i]))"
   ]
  },
  {
   "cell_type": "code",
   "execution_count": null,
   "id": "f8535a06-863b-42a3-a00b-c64f3b4cde6c",
   "metadata": {},
   "outputs": [],
   "source": []
  },
  {
   "cell_type": "markdown",
   "id": "a2ec4f50-d3a6-4ccb-bfab-b2e6c6628a7b",
   "metadata": {},
   "source": [
    "### Exercise: Check if number is prime\n",
    "\n",
    "- Write a program that gets a number on the command line a prints \"True\" if the number is a prime number or \"False\" if it isn't."
   ]
  },
  {
   "cell_type": "code",
   "execution_count": 25,
   "id": "7e6e3911-791f-44c1-9a05-2b95cbee7da8",
   "metadata": {},
   "outputs": [
    {
     "name": "stdout",
     "output_type": "stream",
     "text": [
      "True\n"
     ]
    }
   ],
   "source": [
    "import sys\n",
    "\n",
    "n = 4217\n",
    "\n",
    "#print(n)\n",
    "\n",
    "is_prime = True\n",
    "for i in range(2, int( n ** 0.5) + 1):\n",
    "    if n % i == 0:\n",
    "        is_prime = False\n",
    "        break\n",
    "\n",
    "print(is_prime)\n",
    "\n",
    "\n",
    "# math.sqrt(n) might be clearer than n ** 0.5"
   ]
  },
  {
   "cell_type": "code",
   "execution_count": null,
   "id": "d416778e-c95f-4de9-a0c7-0345037f91f5",
   "metadata": {},
   "outputs": [],
   "source": []
  },
  {
   "cell_type": "markdown",
   "id": "fec48247-d510-442c-a470-e80258f2fe8b",
   "metadata": {},
   "source": [
    "### Exercise: DNA sequencing\n",
    "- Create a file called dna_sequencing.py\n",
    "- `A, C, T, G` are called bases or nucleotides\n",
    "- Accept a sequence like this: `ACCGXXCXXGTTACTGGGCXTTGTXX`\n",
    "- Given a sequence such as the one above (some nucleotides mixed up with other elements represented by an X)\n",
    "- First return the sequences containing only `ACTG`. The above string can will be changed to `['ACCG', 'C', 'GTTACTGGGC', 'TTGT']`.\n",
    "- Then sort them by lenght. Expected result: `['GTTACTGGGC', 'ACCG', 'TTGT', 'C']`\n",
    "\n",
    "- In this case the original string contains more than on type of foreign elements: e.g. `'ACCGXXTXXYYGTTQRACQQTGGGCXTTGTXX'`.\n",
    "- Expected output: `['TGGGC', 'ACCG', 'TTGT', 'GTT', 'AC', 'T']`\n",
    "- Ask for a sequence on the Standard Input (STDIN) like this:"
   ]
  },
  {
   "cell_type": "code",
   "execution_count": 35,
   "id": "7c43e066-12b8-4b83-a0ac-5553db5d7b4e",
   "metadata": {},
   "outputs": [
    {
     "name": "stdout",
     "output_type": "stream",
     "text": [
      "---------First Solution---------\n",
      "['GTTACTGGGC', 'ACCG', 'TTGT', 'C', '', '']\n",
      "['GTTACTGGGC', 'ACCG', 'TTGT', 'C']\n",
      "--------Second Solution---------\n",
      "['TGGGC', 'ACCG', 'TTGT', 'GTT', 'AC', 'T', '', '', '', '', '', '', '', '']\n",
      "['TGGGC', 'ACCG', 'TTGT', 'GTT', 'AC', 'T']\n",
      "---------Using replace----------\n",
      "['TGGGC', 'ACCG', 'TTGT', 'GTT', 'AC', 'T', '', '', '', '', '', '', '', '']\n",
      "['TGGGC', 'ACCG', 'TTGT', 'GTT', 'AC', 'T']\n",
      "----------Using Regex-----------\n",
      "['TGGGC', 'ACCG', 'TTGT', 'GTT', 'AC', 'T', '', '', '', '', '']\n",
      "['TGGGC', 'ACCG', 'TTGT', 'GTT', 'AC', 'T']\n",
      "-----sequencing with filter-----\n",
      "['GTTACTGGGC', 'ACCG', 'TTGT', 'C', '', '']\n",
      "['GTTACTGGGC', 'ACCG', 'TTGT', 'C']\n",
      "-----with filter and lambda-----\n",
      "['GTTACTGGGC', 'ACCG', 'TTGT', 'C', '', '']\n",
      "['GTTACTGGGC', 'ACCG', 'TTGT', 'C']\n"
     ]
    }
   ],
   "source": [
    "def get_sequences(dna):\n",
    "    sequences = dna.split('X')\n",
    "    sequences.sort(key=len, reverse=True)\n",
    "    print(sequences)\n",
    "\n",
    "    new_seq = []\n",
    "    for w in sequences:\n",
    "        if len(w) > 0:\n",
    "            new_seq.append(w)\n",
    "\n",
    "    return new_seq\n",
    "\n",
    "print(\"First Solution\".center(32, '-'))\n",
    "\n",
    "if __name__ == '__main__':\n",
    "    dna = 'ACCGXXCXXGTTACTGGGCXTTGT'\n",
    "    short_sequences = get_sequences(dna)\n",
    "    print(short_sequences)\n",
    "\n",
    "print(\"Second Solution\".center(32, '-'))\n",
    "if __name__ == '__main__':\n",
    "    dna = 'ACCGXXTXXYYGTTQRACQQTGGGCXTTGTXX'\n",
    "\n",
    "    filtered = []\n",
    "    for cr in dna:\n",
    "        if cr in 'ACGT':\n",
    "            filtered.append(cr)\n",
    "        else:\n",
    "            filtered.append('X')\n",
    "    #print(filtered)\n",
    "\n",
    "    dna = ''.join(filtered)\n",
    "\n",
    "    short_sequences = get_sequences(dna)\n",
    "    print(short_sequences)\n",
    "    \n",
    "print(\"Using replace\".center(32, '-')) \n",
    "if __name__ == '__main__':\n",
    "    dna = 'ACCGXXTXXYYGTTQRACQQTGGGCXTTGTXX'\n",
    "    bad_letters = []\n",
    "    for cr in dna:\n",
    "        if cr not in 'ACTGX' and cr not in bad_letters:\n",
    "            bad_letters.append(cr)\n",
    "\n",
    "    for cr in bad_letters:\n",
    "        while cr in dna:\n",
    "            dna = dna.replace(cr, 'X')\n",
    "\n",
    "    short_sequences = get_sequences(dna)\n",
    "    print(short_sequences)\n",
    "    \n",
    "\n",
    "print(\"Using Regex\".center(32, '-')) \n",
    "import re\n",
    "if __name__ == '__main__':\n",
    "    dna = 'ACCGXXTXXYYGTTQRACQQTGGGCXTTGTXX'\n",
    "\n",
    "    dna = re.sub(r'[^ACTGX]+', 'X', dna)\n",
    "\n",
    "    short_sequences = get_sequences(dna)\n",
    "    print(short_sequences)\n",
    "    \n",
    "print(\"sequencing with filter\".center(32, '-')) \n",
    "\n",
    "dna = 'ACCGXXCXXGTTACTGGGCXTTGT'\n",
    "sequences = dna.split('X')\n",
    "sequences.sort(key=len, reverse=True)\n",
    "\n",
    "def not_empty(x):\n",
    "    return len(x) > 0\n",
    "\n",
    "print(sequences)\n",
    "sequences = list( filter(not_empty, sequences) )\n",
    "print(sequences)\n",
    "\n",
    "\n",
    "\n",
    "print(\"with filter and lambda\".center(32, '-')) \n",
    "\n",
    "dna = 'ACCGXXCXXGTTACTGGGCXTTGT'\n",
    "sequences = dna.split('X')\n",
    "sequences.sort(key=len, reverse=True)\n",
    "\n",
    "print(sequences)\n",
    "sequences = list( filter(lambda x: len(x) > 0, sequences) )\n",
    "print(sequences)"
   ]
  },
  {
   "cell_type": "code",
   "execution_count": null,
   "id": "60f84283-16ea-4f3a-b4cf-4b5904c23e38",
   "metadata": {},
   "outputs": [],
   "source": []
  },
  {
   "cell_type": "markdown",
   "id": "d5940929-120f-47a5-9897-e24696fe603b",
   "metadata": {
    "tags": []
   },
   "source": [
    "## [].extend"
   ]
  },
  {
   "cell_type": "code",
   "execution_count": 36,
   "id": "0dbad1bc-74ab-4492-aa26-c51f4ac8d9dc",
   "metadata": {},
   "outputs": [
    {
     "name": "stdout",
     "output_type": "stream",
     "text": [
      "['Foo Bar', 'Orgo Morgo', 'Joe Doe', 'Jane Doe']\n"
     ]
    }
   ],
   "source": [
    "names = ['Foo Bar', 'Orgo Morgo']\n",
    "\n",
    "names.extend(['Joe Doe', 'Jane Doe'])\n",
    "print(names) # ['Foo Bar', 'Orgo Morgo', 'Joe Doe', 'Jane Doe']"
   ]
  },
  {
   "cell_type": "markdown",
   "id": "9696f0e8-4a6c-4d42-bc54-dc2d0529d2ea",
   "metadata": {
    "tags": []
   },
   "source": [
    "## append vs. extend\n",
    "- What is the difference between [].append and [].extend ? The method append adds its parameter as a single element to the list, while extend gets a list and adds its content."
   ]
  },
  {
   "cell_type": "code",
   "execution_count": 37,
   "id": "8d2dcd78-617b-43ad-b69b-272007eb3d05",
   "metadata": {},
   "outputs": [
    {
     "name": "stdout",
     "output_type": "stream",
     "text": [
      "['Foo Bar', 'Orgo Morgo', 'Joe Doe', 'Jane Doe']\n",
      "['Foo Bar', 'Orgo Morgo', ['Joe Doe', 'Jane Doe']]\n",
      "['Foo', 'Bar', 'Qux']\n",
      "['Foo', 'Bar', 'Q', 'u', 'x']\n"
     ]
    }
   ],
   "source": [
    "names = ['Foo Bar', 'Orgo Morgo']\n",
    "more = ['Joe Doe', 'Jane Doe']\n",
    "names.extend(more)\n",
    "print(names)  # ['Foo Bar', 'Orgo Morgo', 'Joe Doe', 'Jane Doe']\n",
    "\n",
    "names = ['Foo Bar', 'Orgo Morgo']\n",
    "names.append(more)\n",
    "print(names) # ['Foo Bar', 'Orgo Morgo', ['Joe Doe', 'Jane Doe']]\n",
    "\n",
    "names = ['Foo', 'Bar']\n",
    "names.append('Qux')\n",
    "print(names)   # ['Foo', 'Bar', 'Qux']\n",
    "\n",
    "names = ['Foo', 'Bar']\n",
    "names.extend('Qux')\n",
    "print(names)   # ['Foo', 'Bar', 'Q', 'u', 'x']"
   ]
  },
  {
   "cell_type": "markdown",
   "id": "659ce7d8-7c09-47a0-b98c-edebc3545a58",
   "metadata": {},
   "source": [
    "## split and extend\n",
    "- When collecting data which is received from a string via splitting, we would like to add the new elements to the existing list:\n"
   ]
  },
  {
   "cell_type": "code",
   "execution_count": 39,
   "id": "f7934e1e-f54d-4155-85ce-b304e2d6eb03",
   "metadata": {},
   "outputs": [
    {
     "name": "stdout",
     "output_type": "stream",
     "text": [
      "['abc', 'def', 'ghi']\n",
      "['abc', 'def', 'ghi', 'hello', 'world']\n"
     ]
    }
   ],
   "source": [
    "lines = [\n",
    "    'abc def ghi',\n",
    "    'hello world',\n",
    "]\n",
    "\n",
    "collector = []\n",
    "\n",
    "for l in lines:\n",
    "    collector.extend(l.split())\n",
    "    print(collector)\n",
    "\n",
    "# ['abc', 'def', 'ghi']\n",
    "# ['abc', 'def', 'ghi', 'hello', 'world']"
   ]
  },
  {
   "cell_type": "code",
   "execution_count": null,
   "id": "c379bce8-3b84-4eaf-bbf8-3f9a2f2c47a5",
   "metadata": {},
   "outputs": [],
   "source": []
  },
  {
   "cell_type": "markdown",
   "id": "492e163a-6c04-4cb3-8c55-eb432f096951",
   "metadata": {},
   "source": [
    "## hard questions"
   ]
  },
  {
   "cell_type": "markdown",
   "id": "03744a14-ed69-436c-837b-121553ba64c5",
   "metadata": {},
   "source": [
    "\n",
    "1. How can you efficiently remove duplicate elements from a list while preserving the original order?\n",
    "\n",
    "2. Given two lists, how can you find the common elements between them without using any built-in functions or libraries?\n",
    "\n",
    "3. Write a function that takes a list of integers and returns the longest subsequence where the elements are in increasing order.\n",
    "\n",
    "4. Implement a function to find the kth smallest element in a list without modifying the original list.\n",
    "\n",
    "5. Can you explain the difference between using the list comprehension and the map function to perform operations on a list?"
   ]
  },
  {
   "cell_type": "code",
   "execution_count": null,
   "id": "5cc0daab-2705-4d14-83eb-4cf2eac9c9e0",
   "metadata": {},
   "outputs": [],
   "source": []
  }
 ],
 "metadata": {
  "kernelspec": {
   "display_name": "Python 3 (ipykernel)",
   "language": "python",
   "name": "python3"
  },
  "language_info": {
   "codemirror_mode": {
    "name": "ipython",
    "version": 3
   },
   "file_extension": ".py",
   "mimetype": "text/x-python",
   "name": "python",
   "nbconvert_exporter": "python",
   "pygments_lexer": "ipython3",
   "version": "3.9.7"
  }
 },
 "nbformat": 4,
 "nbformat_minor": 5
}
