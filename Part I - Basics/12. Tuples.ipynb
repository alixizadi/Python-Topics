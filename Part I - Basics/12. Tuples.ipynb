{
 "cells": [
  {
   "cell_type": "markdown",
   "id": "cd3d4fe1-40d7-4181-9db6-22d3e5731677",
   "metadata": {},
   "source": [
    "## Create tuple (Tuple vs List)\n",
    "- A tuple is a fixed-length immutable list. It cannot change its size or content.\n",
    "- Can be accessed by index, using the slice notation.\n",
    "- A tuple is denoted with parentheses: `(1,2,3)`"
   ]
  },
  {
   "cell_type": "code",
   "execution_count": 1,
   "id": "b58be944-7ee4-4660-b932-379532ceb377",
   "metadata": {
    "tags": []
   },
   "outputs": [
    {
     "name": "stdout",
     "output_type": "stream",
     "text": [
      "('Mercury', 'Venus', 'Earth', 'Mars', 'Jupiter', 'Saturn')\n",
      "Venus\n",
      "('Venus', 'Earth')\n"
     ]
    },
    {
     "ename": "AttributeError",
     "evalue": "'tuple' object has no attribute 'append'",
     "output_type": "error",
     "traceback": [
      "\u001b[0;31m---------------------------------------------------------------------------\u001b[0m",
      "\u001b[0;31mAttributeError\u001b[0m                            Traceback (most recent call last)",
      "Cell \u001b[0;32mIn[1], line 6\u001b[0m\n\u001b[1;32m      3\u001b[0m \u001b[38;5;28mprint\u001b[39m(planets[\u001b[38;5;241m1\u001b[39m])\n\u001b[1;32m      4\u001b[0m \u001b[38;5;28mprint\u001b[39m(planets[\u001b[38;5;241m1\u001b[39m:\u001b[38;5;241m3\u001b[39m])\n\u001b[0;32m----> 6\u001b[0m \u001b[43mplanets\u001b[49m\u001b[38;5;241;43m.\u001b[39;49m\u001b[43mappend\u001b[49m(\u001b[38;5;124m\"\u001b[39m\u001b[38;5;124mDeath Star\u001b[39m\u001b[38;5;124m\"\u001b[39m)\n\u001b[1;32m      7\u001b[0m \u001b[38;5;28mprint\u001b[39m(planets)\n",
      "\u001b[0;31mAttributeError\u001b[0m: 'tuple' object has no attribute 'append'"
     ]
    }
   ],
   "source": [
    "\n",
    "planets = ('Mercury', 'Venus', 'Earth', 'Mars', 'Jupiter', 'Saturn')\n",
    "print(planets)\n",
    "print(planets[1])\n",
    "print(planets[1:3])\n",
    "\n",
    "planets.append(\"Death Star\")\n",
    "print(planets)\n"
   ]
  },
  {
   "cell_type": "markdown",
   "id": "db8e30cc-f840-4d1e-a63f-44598d11e1ec",
   "metadata": {},
   "source": [
    "### List\n",
    "\n",
    "- Elements of a list can be changed via their index or via the list slice notation.\n",
    "- A list can grow and shrink using append and pop methods or using the slice notation.\n",
    "- A list is denoted with square brackets: [1, 2, 3]"
   ]
  },
  {
   "cell_type": "code",
   "execution_count": 2,
   "id": "7f50b7cf-399c-4733-8fa7-fc486f8f67f8",
   "metadata": {},
   "outputs": [
    {
     "name": "stdout",
     "output_type": "stream",
     "text": [
      "['Mercury', 'Venus', 'Earth', 'Mars', 'Jupiter', 'Saturn']\n",
      "Venus\n",
      "['Venus', 'Earth']\n",
      "['Mercury', 'Venus', 'Earth', 'Mars', 'Jupiter', 'Saturn', 'Death Star']\n"
     ]
    }
   ],
   "source": [
    "planets = ['Mercury', 'Venus', 'Earth', 'Mars', 'Jupiter', 'Saturn']\n",
    "print(planets)\n",
    "print(planets[1])\n",
    "print(planets[1:3])\n",
    "\n",
    "planets.append(\"Death Star\")\n",
    "print(planets)"
   ]
  },
  {
   "cell_type": "markdown",
   "id": "01605fd4-817c-4499-8dbb-3c4937219f88",
   "metadata": {},
   "source": [
    "**Tuples are rarely used. There are certain places where Python or some module require tuple (instead of list) or return a tuple (instead of a list) and in each place it will be explained. Otherwise you don't need to use tuples.\n",
    "e.g. keys of dictionaries can be tuple (but not lists).**"
   ]
  },
  {
   "cell_type": "markdown",
   "id": "798b3c3f-9692-481e-9d24-8c885facf7e1",
   "metadata": {},
   "source": [
    "## Convert list to tuple and tuple to list\n"
   ]
  },
  {
   "cell_type": "code",
   "execution_count": 3,
   "id": "dc66c2fd-d7a7-4f92-b839-70726173598a",
   "metadata": {},
   "outputs": [
    {
     "name": "stdout",
     "output_type": "stream",
     "text": [
      "['Mercury', 'Venus', 'Earth', 'Mars', 'Jupiter', 'Saturn']\n",
      "list\n",
      "('Mercury', 'Venus', 'Earth', 'Mars', 'Jupiter', 'Saturn')\n",
      "tuple\n",
      "['Mercury', 'Venus', 'Earth', 'Mars', 'Jupiter', 'Saturn']\n",
      "list\n"
     ]
    }
   ],
   "source": [
    "planets = ['Mercury', 'Venus', 'Earth', 'Mars', 'Jupiter', 'Saturn']\n",
    "\n",
    "print(planets)\n",
    "print(planets.__class__.__name__)\n",
    "\n",
    "tpl = tuple(planets)\n",
    "print(tpl)\n",
    "print(tpl.__class__.__name__)\n",
    "\n",
    "\n",
    "lst = list(tpl)\n",
    "print(lst)\n",
    "print(lst.__class__.__name__)"
   ]
  },
  {
   "cell_type": "markdown",
   "id": "bcd874b3-683b-42f3-a9ff-7f3d11e6c078",
   "metadata": {},
   "source": [
    "## Enumerate returns tuples\n"
   ]
  },
  {
   "cell_type": "code",
   "execution_count": 4,
   "id": "90583d34-f9a4-4cbc-93f6-e5f8cba6ce63",
   "metadata": {},
   "outputs": [
    {
     "name": "stdout",
     "output_type": "stream",
     "text": [
      "enumerate\n",
      "<enumerate object at 0x7fb2320c7600>\n",
      "-----\n",
      "<class 'tuple'>\n",
      "(0, 'Mercury')\n",
      "-----\n",
      "0 Mercury\n",
      "1 Venus\n",
      "2 Earth\n",
      "3 Mars\n",
      "4 Jupiter\n",
      "5 Saturn\n"
     ]
    }
   ],
   "source": [
    "planets = ['Mercury', 'Venus', 'Earth', 'Mars', 'Jupiter', 'Saturn']\n",
    "\n",
    "enu = enumerate(planets)\n",
    "print(type(enu).__name__)\n",
    "print(enu)\n",
    "\n",
    "print('-----')\n",
    "\n",
    "element = next(enu)\n",
    "print(type(element))\n",
    "print(element)\n",
    "\n",
    "print('-----')\n",
    "\n",
    "for tpl in enumerate(planets):\n",
    "    print(tpl[0], tpl[1])"
   ]
  },
  {
   "cell_type": "markdown",
   "id": "2eab3a7b-4d5b-443c-9f40-9a60ebb4cd25",
   "metadata": {},
   "source": [
    "## Change a tuple\n"
   ]
  },
  {
   "cell_type": "code",
   "execution_count": 5,
   "id": "d1985489-885e-43d0-8386-9525ce07468b",
   "metadata": {},
   "outputs": [
    {
     "name": "stdout",
     "output_type": "stream",
     "text": [
      "([1, 2], [3, 4])\n",
      "([1, 2, 5], [3, 4])\n"
     ]
    }
   ],
   "source": [
    "z = ([1, 2], [3, 4])\n",
    "print(z)               # ([1, 2], [3, 4])\n",
    "\n",
    "z[0].append(5)\n",
    "print(z)               # ([1, 2, 5], [3, 4])\n",
    "\n",
    "\n",
    "# z[0] = [7, 8] # TypeError: 'tuple' object does not support item assignment\n",
    "# z.append(7)   # AttributeError: 'tuple' object has no attribute 'append'"
   ]
  },
  {
   "cell_type": "markdown",
   "id": "0cd1eb1c-1325-4663-a32d-47fc04f473de",
   "metadata": {},
   "source": [
    "## Sort tuples\n"
   ]
  },
  {
   "cell_type": "code",
   "execution_count": 6,
   "id": "34eb9281-c79d-4ed4-a5dc-522dc839c36d",
   "metadata": {},
   "outputs": [
    {
     "name": "stdout",
     "output_type": "stream",
     "text": [
      "[('John', 'A', 2), ('John', 'B', 2), ('John', 'A', 3), ('Anne', 'B', 1), ('Anne', 'A', 2), ('Anne', 'A', 1)]\n",
      "[('Anne', 'A', 1), ('Anne', 'A', 2), ('Anne', 'B', 1), ('John', 'A', 2), ('John', 'A', 3), ('John', 'B', 2)]\n"
     ]
    },
    {
     "data": {
      "text/plain": [
       "\"\\n[\\n    ('Anne', 'A', 1),\\n    ('Anne', 'A', 2),\\n    ('Anne', 'B', 1),\\n    ('John', 'A', 2),\\n    ('John', 'A', 3),\\n    ('John', 'B', 2)\\n]\\n\""
      ]
     },
     "execution_count": 6,
     "metadata": {},
     "output_type": "execute_result"
    }
   ],
   "source": [
    "students = [\n",
    "    ('John', 'A', 2),\n",
    "    ('John', 'B', 2),\n",
    "    ('John', 'A', 3),\n",
    "    ('Anne', 'B', 1),\n",
    "    ('Anne', 'A', 2),\n",
    "    ('Anne', 'A', 1),\n",
    "]\n",
    "print(students)\n",
    "\n",
    "print(sorted(students))\n",
    "\n",
    "\"\"\"\n",
    "[\n",
    "    ('Anne', 'A', 1),\n",
    "    ('Anne', 'A', 2),\n",
    "    ('Anne', 'B', 1),\n",
    "    ('John', 'A', 2),\n",
    "    ('John', 'A', 3),\n",
    "    ('John', 'B', 2)\n",
    "]\n",
    "\"\"\""
   ]
  },
  {
   "cell_type": "markdown",
   "id": "bf6a0bfa-6923-4433-a1af-f1e1ec3ac6f7",
   "metadata": {},
   "source": [
    "## Sort tuples by specific elements\n"
   ]
  },
  {
   "cell_type": "code",
   "execution_count": 7,
   "id": "b2ab91a3-b8d4-47f9-86d9-3595d834e9d2",
   "metadata": {},
   "outputs": [
    {
     "name": "stdout",
     "output_type": "stream",
     "text": [
      "[('John', 'A', 2), ('Zoro', 'C', 1), ('Dave', 'B', 3)]\n",
      "[('Dave', 'B', 3), ('John', 'A', 2), ('Zoro', 'C', 1)]\n",
      "[('John', 'A', 2), ('Dave', 'B', 3), ('Zoro', 'C', 1)]\n",
      "[('Zoro', 'C', 1), ('John', 'A', 2), ('Dave', 'B', 3)]\n",
      "[('Zoro', 'C', 1), ('John', 'A', 2), ('Dave', 'B', 3)]\n"
     ]
    }
   ],
   "source": [
    "students = [\n",
    "    ('John', 'A', 2),\n",
    "    ('Zoro', 'C', 1),\n",
    "    ('Dave', 'B', 3),\n",
    "]\n",
    "print(students)\n",
    "  # [('John', 'A', 2), ('Zoro', 'C', 1), ('Dave', 'B', 3)]\n",
    "\n",
    "print(sorted(students))\n",
    "  # [('Dave', 'B', 3), ('John', 'A', 2), ('Zoro', 'C', 1)]\n",
    "  # sort by the first element of each tuple\n",
    "\n",
    "print(sorted(students, key=lambda s : s[1]))\n",
    "  # [('John', 'A', 2), ('Dave', 'B', 3), ('Zoro', 'C', 1)]\n",
    "  # sort by the 2nd element of the tuples (index 1)\n",
    "\n",
    "print(sorted(students, key=lambda s : s[2]))\n",
    "  # [('Zoro', 'C', 1), ('John', 'A', 2), ('Dave', 'B', 3)]\n",
    "  # sort by the 3rd element of the tuples (index 2)\n",
    "\n",
    "\n",
    "from operator import itemgetter\n",
    "print(sorted(students, key=itemgetter(2)))\n",
    "  # [('Zoro', 'C', 1), ('John', 'A', 2), ('Dave', 'B', 3)]\n",
    "  # maybe this is more simple than the lambda version\n",
    "  # and probably faster"
   ]
  },
  {
   "cell_type": "markdown",
   "id": "48b99d2e-ee2d-45ca-8510-e4647ed8b21a",
   "metadata": {},
   "source": [
    "## Sort and secondary sort\n",
    "- We have a list of words. It is easy to sort them by length, but what will be the order among the words that have the same length?\n",
    "- A sort using a lambda-function that returns a tuple can provide the secondary sort order.\n",
    "\n"
   ]
  },
  {
   "cell_type": "code",
   "execution_count": 8,
   "id": "67c9f345-ec67-4900-86a1-291eb69ad208",
   "metadata": {},
   "outputs": [
    {
     "name": "stdout",
     "output_type": "stream",
     "text": [
      "['Mars', 'Venus', 'Earth', 'Saturn', 'Mercury', 'Jupiter']\n",
      "['Mars', 'Earth', 'Venus', 'Saturn', 'Mercury', 'Jupiter']\n",
      "['Mars', 'Earth', 'Venus', 'Saturn', 'Jupiter', 'Mercury']\n",
      "['Mars', 'Earth', 'Venus', 'Saturn', 'Jupiter', 'Mercury']\n"
     ]
    }
   ],
   "source": [
    "\n",
    "planets1 = ['Mercury', 'Venus', 'Earth', 'Mars', 'Jupiter', 'Saturn']\n",
    "planets2 = ['Mercury', 'Earth', 'Venus', 'Mars', 'Jupiter', 'Saturn']\n",
    "\n",
    "print(sorted(planets1, key=len))\n",
    "# ['Mars', 'Venus', 'Earth', 'Saturn', 'Mercury', 'Jupiter']\n",
    "print(sorted(planets2, key=len))\n",
    "# ['Mars', 'Earth', 'Venus', 'Saturn', 'Mercury', 'Jupiter']\n",
    "\n",
    "print(sorted(planets1, key=lambda w: (len(w), w)))\n",
    "# ['Mars', 'Earth', 'Venus', 'Saturn', 'Jupiter', 'Mercury']\n",
    "print(sorted(planets2, key=lambda w: (len(w), w)))\n",
    "# ['Mars', 'Earth', 'Venus', 'Saturn', 'Jupiter', 'Mercury']"
   ]
  },
  {
   "cell_type": "markdown",
   "id": "a856761e-7997-4bbd-b93a-e41c4b6d5660",
   "metadata": {
    "jp-MarkdownHeadingCollapsed": true,
    "tags": []
   },
   "source": [
    "## "
   ]
  },
  {
   "cell_type": "markdown",
   "id": "b22ed9dc-386f-4edf-9ac0-3966218d7774",
   "metadata": {},
   "source": [
    "## "
   ]
  }
 ],
 "metadata": {
  "kernelspec": {
   "display_name": "Python 3 (ipykernel)",
   "language": "python",
   "name": "python3"
  },
  "language_info": {
   "codemirror_mode": {
    "name": "ipython",
    "version": 3
   },
   "file_extension": ".py",
   "mimetype": "text/x-python",
   "name": "python",
   "nbconvert_exporter": "python",
   "pygments_lexer": "ipython3",
   "version": "3.9.7"
  }
 },
 "nbformat": 4,
 "nbformat_minor": 5
}
