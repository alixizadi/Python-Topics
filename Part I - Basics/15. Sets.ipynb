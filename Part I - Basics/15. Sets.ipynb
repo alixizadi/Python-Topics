{
 "cells": [
  {
   "cell_type": "markdown",
   "id": "a6d92d9b-6e4f-4cc4-8abd-47b19de8a037",
   "metadata": {},
   "source": [
    "## sets\n",
    "\n",
    "- Sets in Python are used when we are primarily interested in operations that we know from the set theory.\n",
    "\n",
    "- In day to day speach we often use the word \"group\" instead of \"set\" even though they are not the same.\n",
    "- What are the common elements of two set (two groups).\n",
    "- Is one group (set) the subset of the other?\n",
    "- What are all the elements that exist in both groups (sets)?\n",
    "- What are the elements that exist in exactly one of the groups (sets)?"
   ]
  },
  {
   "cell_type": "markdown",
   "id": "8997e623-f955-41d6-93d7-471046e478e3",
   "metadata": {},
   "source": [
    "## set operations\n",
    "\n",
    "- set\n",
    "- issubset\n",
    "- intersection\n",
    "- symmetric difference\n",
    "- union\n",
    "- relative complement (difference)\n",
    "- stdtypes: set"
   ]
  },
  {
   "cell_type": "markdown",
   "id": "4811b501-f1e6-4a50-8fa0-e13034f70119",
   "metadata": {},
   "source": [
    "## Creating a set\n"
   ]
  },
  {
   "cell_type": "code",
   "execution_count": 2,
   "id": "8d941a23-db66-4feb-ba7a-c5fccb4785e6",
   "metadata": {},
   "outputs": [
    {
     "name": "stdout",
     "output_type": "stream",
     "text": [
      "{'table', 'door', 'chair'}\n",
      "<class 'set'>\n",
      "has table\n"
     ]
    }
   ],
   "source": [
    "things = {'table', 'chair', 'door', 'chair'}\n",
    "print(things)\n",
    "print(type(things))\n",
    "\n",
    "if 'table' in things:\n",
    "    print(\"has table\")"
   ]
  },
  {
   "cell_type": "markdown",
   "id": "d6d499cb-1b5c-4dcc-9e6c-39b695a1b5f9",
   "metadata": {},
   "source": [
    "## Creating a set from a list"
   ]
  },
  {
   "cell_type": "code",
   "execution_count": 3,
   "id": "56f81832-c682-4e28-80cf-78c1f727203e",
   "metadata": {},
   "outputs": [
    {
     "name": "stdout",
     "output_type": "stream",
     "text": [
      "{'table', 'door', 'chair'}\n",
      "<class 'set'>\n",
      "has table\n"
     ]
    }
   ],
   "source": [
    "furniture = ['table', 'chair', 'door', 'chair', 'chair']\n",
    "things = set(furniture)\n",
    "print(things)\n",
    "print(type(things))\n",
    "\n",
    "if 'table' in things:\n",
    "    print(\"has table\")"
   ]
  },
  {
   "cell_type": "markdown",
   "id": "39c48ad6-29e8-4867-9498-22475c47412c",
   "metadata": {},
   "source": [
    "## Converting set to list\n"
   ]
  },
  {
   "cell_type": "code",
   "execution_count": 4,
   "id": "4423a6c7-c52d-43e7-9c29-0fb8274ae243",
   "metadata": {},
   "outputs": [
    {
     "name": "stdout",
     "output_type": "stream",
     "text": [
      "{'Earth', 'Venus', 'Saturn', 'Mercury', 'Mars', 'Jupiter'}\n",
      "['Earth', 'Venus', 'Saturn', 'Mercury', 'Mars', 'Jupiter']\n"
     ]
    }
   ],
   "source": [
    "planets = {'Mars', 'Jupiter', 'Saturn', 'Mercury', 'Venus', 'Earth', 'Mars'}\n",
    "print(planets)\n",
    "\n",
    "planets_list = list(planets)\n",
    "print(planets_list)"
   ]
  },
  {
   "cell_type": "markdown",
   "id": "304dcfb8-67bf-42a0-9528-592ab48367f0",
   "metadata": {},
   "source": [
    "## Creating an empty set\n"
   ]
  },
  {
   "cell_type": "code",
   "execution_count": 5,
   "id": "75a93972-2c9a-42dd-ad6e-786278a1ec75",
   "metadata": {},
   "outputs": [
    {
     "name": "stdout",
     "output_type": "stream",
     "text": [
      "set()\n",
      "<class 'set'>\n",
      "{}\n",
      "<class 'dict'>\n"
     ]
    }
   ],
   "source": [
    "objects = set()\n",
    "print(objects)\n",
    "print(type(objects))\n",
    "\n",
    "other = {}\n",
    "print(other)\n",
    "print(type(other)) # This is an empty dict and not a set!!!!"
   ]
  },
  {
   "cell_type": "markdown",
   "id": "062baccf-8c4c-4921-9c2e-dcd553dfe60b",
   "metadata": {
    "tags": []
   },
   "source": [
    "## Adding an element to a set (add)\n"
   ]
  },
  {
   "cell_type": "code",
   "execution_count": 6,
   "id": "260559b1-fa41-4123-a041-752a250761d6",
   "metadata": {},
   "outputs": [
    {
     "name": "stdout",
     "output_type": "stream",
     "text": [
      "set()\n",
      "{'Mars'}\n",
      "{'Mars'}\n",
      "{'Mars', 'Neptun'}\n"
     ]
    }
   ],
   "source": [
    "objects = set()\n",
    "print(objects)\n",
    "\n",
    "objects.add('Mars')\n",
    "print(objects)\n",
    "\n",
    "objects.add('Mars')\n",
    "print(objects)\n",
    "\n",
    "objects.add('Neptun')\n",
    "print(objects)"
   ]
  },
  {
   "cell_type": "markdown",
   "id": "00b0fdb5-21fa-47ac-a795-ea86cb407a58",
   "metadata": {},
   "source": [
    "## Merging one set into another set (update)\n"
   ]
  },
  {
   "cell_type": "code",
   "execution_count": 7,
   "id": "562309c7-3002-45d6-a8a1-1bce20d2fceb",
   "metadata": {},
   "outputs": [
    {
     "name": "stdout",
     "output_type": "stream",
     "text": [
      "{'Earth', 'Venus', 'Saturn', 'Mercury', 'Mars', 'Jupiter'}\n",
      "{'Mercury', 'Earth', 'Mars', 'Venus'}\n"
     ]
    }
   ],
   "source": [
    "objects  = set(['Mars', 'Jupiter', 'Saturn'])\n",
    "internal = set(['Mercury', 'Venus', 'Earth', 'Mars'])\n",
    "\n",
    "objects.update(internal)\n",
    "print(objects)\n",
    "print(internal)"
   ]
  },
  {
   "cell_type": "markdown",
   "id": "51582a06-f780-40de-b8dc-10691167cb5b",
   "metadata": {},
   "source": [
    "## set intersection\n"
   ]
  },
  {
   "cell_type": "code",
   "execution_count": 8,
   "id": "53d7172d-cc34-4f5a-a2c9-3b2d580c05c5",
   "metadata": {},
   "outputs": [
    {
     "name": "stdout",
     "output_type": "stream",
     "text": [
      "english:  {'lunar', 'car', 'era', 'door'}\n",
      "spanish:  {'lunar', 'era', 'hola'}\n",
      "{'lunar', 'era'}\n"
     ]
    }
   ],
   "source": [
    "english = set(['door', 'car', 'lunar', 'era'])\n",
    "spanish = set(['era', 'lunar', 'hola'])\n",
    "\n",
    "print('english: ', english)\n",
    "print('spanish: ', spanish)\n",
    "\n",
    "both = english.intersection(spanish)\n",
    "print(both)"
   ]
  },
  {
   "cell_type": "markdown",
   "id": "8ba46ee0-7574-4fca-b1b0-d82744537d47",
   "metadata": {},
   "source": [
    "## set subset\n"
   ]
  },
  {
   "cell_type": "code",
   "execution_count": 9,
   "id": "263cdb34-87cf-402e-86b7-7ccf1514cfc7",
   "metadata": {},
   "outputs": [
    {
     "name": "stdout",
     "output_type": "stream",
     "text": [
      "issubset:  True\n",
      "issubset:  False\n"
     ]
    }
   ],
   "source": [
    "english = set(['door', 'car', 'lunar', 'era'])\n",
    "spanish = set(['era', 'lunar', 'hola'])\n",
    "\n",
    "words = set(['door', 'lunar'])\n",
    "\n",
    "\n",
    "print('issubset: ', words.issubset( english ))\n",
    "print('issubset: ', words.issubset( spanish ))"
   ]
  },
  {
   "cell_type": "markdown",
   "id": "97b30544-d561-4b5f-8ec7-bab5cd8466cc",
   "metadata": {},
   "source": [
    "## set symmetric difference\n",
    "- Symmetric difference contains all the elements in either one of the sets, but not in both. \"the ears of the elephant\".\n"
   ]
  },
  {
   "cell_type": "code",
   "execution_count": 10,
   "id": "7d08c13d-4382-4bfd-98c3-ebe9ec2f0736",
   "metadata": {},
   "outputs": [
    {
     "name": "stdout",
     "output_type": "stream",
     "text": [
      "symmetric_difference:  {'car', 'hola', 'door'}\n"
     ]
    }
   ],
   "source": [
    "english = set(['door', 'car', 'lunar', 'era'])\n",
    "spanish = set(['era', 'lunar', 'hola'])\n",
    "\n",
    "diff = english.symmetric_difference(spanish)\n",
    "print('symmetric_difference: ', diff)"
   ]
  },
  {
   "cell_type": "markdown",
   "id": "c328c773-18b8-449d-b7e4-225f8701e72a",
   "metadata": {},
   "source": [
    "## set union\n"
   ]
  },
  {
   "cell_type": "code",
   "execution_count": 11,
   "id": "afc3d5f4-6473-4e5c-ba67-880025c03468",
   "metadata": {},
   "outputs": [
    {
     "name": "stdout",
     "output_type": "stream",
     "text": [
      "{'lunar', 'car', 'era', 'door'}\n",
      "{'lunar', 'era', 'hola'}\n",
      "{'car', 'lunar', 'era', 'hola', 'door'}\n"
     ]
    }
   ],
   "source": [
    "english = set(['door', 'car', 'lunar', 'era'])\n",
    "spanish = set(['era', 'lunar', 'hola'])\n",
    "\n",
    "all_the_words = english.union(spanish)\n",
    "\n",
    "print(english)\n",
    "print(spanish)\n",
    "print(all_the_words)\n",
    "\n",
    "# x = english + spanish # TypeError: unsupported operand type(s) for +: 'set' and 'set'"
   ]
  },
  {
   "cell_type": "markdown",
   "id": "fe4d14ea-324f-4db6-8148-b3303006a6f2",
   "metadata": {},
   "source": [
    "## set relative complement (difference)\n"
   ]
  },
  {
   "cell_type": "code",
   "execution_count": 12,
   "id": "e24bbe5e-b6b1-4f65-8233-3cb4851f307f",
   "metadata": {},
   "outputs": [
    {
     "name": "stdout",
     "output_type": "stream",
     "text": [
      "{'hola'}\n",
      "{'car', 'door'}\n",
      "\n",
      "{'hola'}\n",
      "{'car', 'door'}\n",
      "\n",
      "{'lunar', 'car', 'era', 'door'}\n",
      "{'lunar', 'era', 'hola'}\n"
     ]
    }
   ],
   "source": [
    "english = set(['door', 'car', 'lunar', 'era'])\n",
    "spanish = set(['era', 'lunar', 'hola'])\n",
    "\n",
    "print(spanish.difference(english))\n",
    "print(english.difference(spanish))\n",
    "print()\n",
    "\n",
    "\n",
    "eng = english - spanish\n",
    "spa = spanish - english\n",
    "print(spa)\n",
    "print(eng)\n",
    "print()\n",
    "\n",
    "print(english)\n",
    "print(spanish)"
   ]
  },
  {
   "cell_type": "markdown",
   "id": "2df77222-83d5-4f33-8e7e-21faefe874b7",
   "metadata": {},
   "source": [
    "## Set of numbers\n"
   ]
  },
  {
   "cell_type": "code",
   "execution_count": 13,
   "id": "e8aeaa6b-0fc7-48e5-8be0-049862e3eb24",
   "metadata": {},
   "outputs": [
    {
     "name": "stdout",
     "output_type": "stream",
     "text": [
      "{1, 2, 3}\n"
     ]
    }
   ],
   "source": [
    "numbers = {1, 2, 3}\n",
    "print(numbers)"
   ]
  },
  {
   "cell_type": "markdown",
   "id": "cf075370-c646-4b2a-b3ba-a5076a7651cd",
   "metadata": {
    "tags": []
   },
   "source": [
    "## Set of lists\n"
   ]
  },
  {
   "cell_type": "code",
   "execution_count": 16,
   "id": "c3081699-78f0-4ae8-8b81-e909e1f7f2df",
   "metadata": {},
   "outputs": [
    {
     "ename": "TypeError",
     "evalue": "unhashable type: 'list'",
     "output_type": "error",
     "traceback": [
      "\u001b[0;31m---------------------------------------------------------------------------\u001b[0m",
      "\u001b[0;31mTypeError\u001b[0m                                 Traceback (most recent call last)",
      "Cell \u001b[0;32mIn[16], line 1\u001b[0m\n\u001b[0;32m----> 1\u001b[0m lists \u001b[38;5;241m=\u001b[39m \u001b[38;5;28;43mset\u001b[39;49m\u001b[43m(\u001b[49m\u001b[43m[\u001b[49m\u001b[43m \u001b[49m\u001b[43m[\u001b[49m\u001b[38;5;241;43m2\u001b[39;49m\u001b[43m,\u001b[49m\u001b[43m \u001b[49m\u001b[38;5;241;43m3\u001b[39;49m\u001b[43m]\u001b[49m\u001b[43m,\u001b[49m\u001b[43m \u001b[49m\u001b[43m[\u001b[49m\u001b[38;5;241;43m1\u001b[39;49m\u001b[43m,\u001b[49m\u001b[43m \u001b[49m\u001b[38;5;241;43m2\u001b[39;49m\u001b[43m]\u001b[49m\u001b[43m \u001b[49m\u001b[43m]\u001b[49m\u001b[43m)\u001b[49m\n",
      "\u001b[0;31mTypeError\u001b[0m: unhashable type: 'list'"
     ]
    }
   ],
   "source": [
    "lists = set([ [2, 3], [1, 2] ]) # set of lists\n",
    "# lists = set([ {2, 3}, {1, 2} ]) # set of sets"
   ]
  },
  {
   "cell_type": "markdown",
   "id": "dcad52bc-abd4-40e9-8d32-f9bc1b2806d4",
   "metadata": {},
   "source": [
    "## Set of tuples\n"
   ]
  },
  {
   "cell_type": "code",
   "execution_count": 17,
   "id": "00be487e-2047-484b-a608-8eba62d3e370",
   "metadata": {},
   "outputs": [
    {
     "name": "stdout",
     "output_type": "stream",
     "text": [
      "{(2, 3), (1, 2)}\n",
      "<class 'set'>\n"
     ]
    }
   ],
   "source": [
    "tuples = set([ (2, 3), (1, 2) ])\n",
    "print(tuples)\n",
    "print(type(tuples))"
   ]
  },
  {
   "cell_type": "markdown",
   "id": "6205e842-0b84-4f4d-b886-9b0a56f381db",
   "metadata": {},
   "source": [
    "## Create set from List"
   ]
  },
  {
   "cell_type": "code",
   "execution_count": 19,
   "id": "60b57b34-eb94-4307-8f3d-a517f37c855d",
   "metadata": {},
   "outputs": [
    {
     "name": "stdout",
     "output_type": "stream",
     "text": [
      "{'animals': set(), 'vegetables': set(), 'fruits': set()}\n",
      "<class 'dict'>\n",
      "{'animals': {'cat'}, 'vegetables': set(), 'fruits': set()}\n"
     ]
    }
   ],
   "source": [
    "categories_list = ['animals', 'vegetables', 'fruits']\n",
    "\n",
    "categories_set = {cat:set() for cat in categories_list}\n",
    "print(categories_set)\n",
    "print(type(categories_set))\n",
    "categories_set['animals'].add('cat')\n",
    "print(categories_set)"
   ]
  },
  {
   "cell_type": "code",
   "execution_count": null,
   "id": "7bd59120-859b-485f-b2c0-ba5adca4c8cd",
   "metadata": {},
   "outputs": [],
   "source": []
  },
  {
   "cell_type": "markdown",
   "id": "8891ece5-63c7-4d21-a27a-6abb39e4ad86",
   "metadata": {},
   "source": [
    "## commonly used set functions in Python:\n",
    "\n",
    "1. **Creating a Set**:\n",
    "   - `set()`: Creates an empty set.\n",
    "   - `set(iterable)`: Creates a set from an iterable (e.g., list, tuple, string).\n",
    "\n",
    "2. **Adding Elements**:\n",
    "   - `set.add(element)`: Adds an element to the set.\n",
    "   - `set.update(iterable)`: Adds multiple elements to the set from an iterable.\n",
    "\n",
    "3. **Removing Elements**:\n",
    "   - `set.remove(element)`: Removes an element from the set. Raises a KeyError if the element is not found.\n",
    "   - `set.discard(element)`: Removes an element from the set if it exists. Does nothing if the element is not found.\n",
    "   - `set.pop()`: Removes and returns an arbitrary element from the set. Raises a KeyError if the set is empty.\n",
    "   - `set.clear()`: Removes all elements from the set.\n",
    "\n",
    "4. **Set Operations**:\n",
    "   - `set.union(set2, set3, ...)`: Returns a new set containing all unique elements from the original set(s) and other set(s).\n",
    "   - `set.intersection(set2, set3, ...)`: Returns a new set containing common elements between the original set(s) and other set(s).\n",
    "   - `set.difference(set2, set3, ...)`: Returns a new set containing elements that are present in the original set(s) but not in other set(s).\n",
    "   - `set.symmetric_difference(set2)`: Returns a new set containing elements that are present in either the original set or the other set, but not both.\n",
    "   - `set.issubset(set2)`: Checks if the original set is a subset of another set.\n",
    "   - `set.issuperset(set2)`: Checks if the original set is a superset of another set.\n",
    "   - `set.isdisjoint(set2)`: Checks if the original set and another set have no common elements.\n",
    "\n",
    "\n",
    "\n",
    "5. **Set Membership and Length**:\n",
    "   - `element in set`: Checks if an element is present in the set.\n",
    "   - `len(set)`: Returns the number of elements in the set.\n"
   ]
  },
  {
   "cell_type": "code",
   "execution_count": null,
   "id": "20e9f2ac-6c86-41c6-8957-191905948a98",
   "metadata": {},
   "outputs": [],
   "source": []
  }
 ],
 "metadata": {
  "kernelspec": {
   "display_name": "Python 3 (ipykernel)",
   "language": "python",
   "name": "python3"
  },
  "language_info": {
   "codemirror_mode": {
    "name": "ipython",
    "version": 3
   },
   "file_extension": ".py",
   "mimetype": "text/x-python",
   "name": "python",
   "nbconvert_exporter": "python",
   "pygments_lexer": "ipython3",
   "version": "3.9.7"
  }
 },
 "nbformat": 4,
 "nbformat_minor": 5
}
