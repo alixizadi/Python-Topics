{
 "cells": [
  {
   "cell_type": "markdown",
   "id": "f0c60b4c-6d66-4aad-8937-dd31723634e9",
   "metadata": {},
   "source": [
    "## Goal of having modules\n",
    "\n",
    "- Code reuse: Allow multiple script to reuse the same function without copying the code.\n",
    "- Better code design.\n",
    "- Separation of concerns: Functions dealing with one subject are grouped together in one module.\n",
    "\n"
   ]
  },
  {
   "cell_type": "markdown",
   "id": "07f25afb-1c9b-4184-85f4-c271a6a8e533",
   "metadata": {},
   "source": [
    "## Before modules\n",
    "- Let's take a very simple script that has a single, and very simple function in it.\n"
   ]
  },
  {
   "cell_type": "code",
   "execution_count": 4,
   "id": "57491fae-f4fe-47c7-9626-5be1fbb122f3",
   "metadata": {
    "tags": []
   },
   "outputs": [
    {
     "name": "stdout",
     "output_type": "stream",
     "text": [
      "5\n"
     ]
    }
   ],
   "source": [
    "def add(a, b):\n",
    "    return a + b\n",
    "\n",
    "z = add(2, 3)\n",
    "print(z)       # 5"
   ]
  },
  {
   "cell_type": "markdown",
   "id": "569bd2a4-292e-4f95-9e5c-0098086af354",
   "metadata": {},
   "source": [
    "## Create modules\n"
   ]
  },
  {
   "cell_type": "markdown",
   "id": "2e649374-b9e8-42bb-9b89-235ce7d59aaa",
   "metadata": {},
   "source": [
    "- A module is just a Python file with a set of functions that us usually not used by itself. For example the \"my_calculator.py\".\n",
    "- A user made module is loaded exactly the same way as the built-in module. The functions defined in the module are used as if they were methods with the dot-notation."
   ]
  },
  {
   "cell_type": "code",
   "execution_count": 8,
   "id": "87f7ee24-8a28-4f27-a601-f9a223e56bb6",
   "metadata": {},
   "outputs": [
    {
     "name": "stdout",
     "output_type": "stream",
     "text": [
      "5\n"
     ]
    }
   ],
   "source": [
    "from modules import my_calculator\n",
    "\n",
    "z = my_calculator.add(2, 3)\n",
    "\n",
    "print(z)  # 5"
   ]
  },
  {
   "cell_type": "markdown",
   "id": "5ab50703-f1fd-4c29-bea7-a8a9d43e7e9a",
   "metadata": {},
   "source": [
    "\n",
    "- We can import specific functions to the current name space (symbol table) and then we don't need to prefix it with the name of the file every time we use it. \n",
    "- This might be shorter writing, but if we import the same function name from two different modules then they will overwrite each other. \n",
    "- I usually prefer loading the module as in the previous example.\n",
    "\n"
   ]
  },
  {
   "cell_type": "code",
   "execution_count": 12,
   "id": "9179f7ca-c7cc-4153-bbc8-cf58ca1e2fc3",
   "metadata": {},
   "outputs": [
    {
     "name": "stdout",
     "output_type": "stream",
     "text": [
      "5\n",
      "5\n"
     ]
    }
   ],
   "source": [
    "# import specific functions\n",
    "from modules.my_calculator import add\n",
    "\n",
    "print(add(2, 3))  # 5\n",
    "\n",
    "\n",
    "# Using with an alias\n",
    "import modules.my_calculator as calc\n",
    "\n",
    "z = calc.add(2, 3)\n",
    "\n",
    "print(z)  # 5\n"
   ]
  },
  {
   "cell_type": "markdown",
   "id": "16ddefb8-6e72-43dc-99d7-5148a13928f6",
   "metadata": {},
   "source": [
    "## path to load modules from - The module search path\n"
   ]
  },
  {
   "cell_type": "markdown",
   "id": "a1526c4c-7f6b-4b01-a1e8-152ccd33dfe6",
   "metadata": {},
   "source": [
    "- There are several steps Python does when it searches for the location of a file to be imported\n",
    "- The most important one is what we see next in sys.path.\n",
    "> - The directory where the main script is located.\n",
    "> - The directories listed in PYTHONPATH environment variable.\n",
    "> - Directories of standard libraries.\n",
    "> - Directories listed in .pth files.\n",
    "> - The site-packages home of third-party extensions.\n"
   ]
  },
  {
   "cell_type": "markdown",
   "id": "3168c4e4-9346-464b-a792-87d1f2f1eb01",
   "metadata": {},
   "source": [
    "## sys.path - the module search path\n"
   ]
  },
  {
   "cell_type": "code",
   "execution_count": null,
   "id": "d4b7f696-7af2-4b4d-b4e0-c463f192b044",
   "metadata": {},
   "outputs": [],
   "source": [
    "import sys\n",
    "\n",
    "print(sys.path)"
   ]
  },
  {
   "cell_type": "markdown",
   "id": "df061713-ac1e-4a29-800f-74bd18cbd8e6",
   "metadata": {},
   "source": [
    "## Project directory layouts\n",
    "\n",
    "- Flat project\n",
    "- Absolute path\n",
    "- Relative path\n",
    "- Using submodules\n"
   ]
  },
  {
   "cell_type": "markdown",
   "id": "6cfcc229-fc07-475e-b2f2-37d611062dd5",
   "metadata": {},
   "source": [
    "## Flat project directory structure\n",
    "\n",
    "- If our executable scripts and our modules are all in the same directory then we don't have to worry ad the directory of the script is included in the list of places where \"import\" is looking for the files to be imported.\n",
    "\n",
    "```\n",
    "project/\n",
    "     script_a.py\n",
    "     script_b.py\n",
    "     my_module.py\n",
    "```\n",
    "\n"
   ]
  },
  {
   "cell_type": "markdown",
   "id": "34b2bb03-31c1-4b28-95e3-13f1e374dbfe",
   "metadata": {},
   "source": [
    "## Absolute path\n",
    "\n",
    "- If we would like to load a module that is not installed in one of the standard locations, but we know where it is located on our disk, we can set the \"sys.path\" to the absolute path to this directory.\n",
    "- This works on the specific computer, but if you'd like to distribute the script to other computers you'll have to make sure the module to be loaded is installed in the same location or you'll have to update the script to point to the location of the module in each computer. This is not an ideal solution.\n",
    "\n",
    "```\n",
    "import sys\n",
    "\n",
    "# On Linux\n",
    "sys.path.insert(0, \"/home/foobar/python/libs\")\n",
    "\n",
    "# On Windows\n",
    "# sys.path.insert(0, r\"c:\\Users\\FooBar\\python\\libs\")\n",
    "\n",
    "import module_name\n",
    "```"
   ]
  },
  {
   "cell_type": "markdown",
   "id": "7fae67ff-45ea-40ee-925f-a3a89e7aab2a",
   "metadata": {},
   "source": [
    "## Relative path\n",
    "\n",
    "```\n",
    "../project_root/\n",
    "     bin/relative_path.py\n",
    "     lib/my_module.py\n",
    "```\n",
    "\n",
    "- We can use a directory structure that is more complex than the flat structure we had earlier.\n",
    "- In this case the location of the modules relatively to the scripts is fixed. In this case it is `\"../lib\"`.\n",
    "- We can compute the relative path in each of our scripts.\n",
    "- That will ensure we pick up the right module every time we run the script. Regardless of the location of the whole project tree.\n",
    "\n",
    "```\n",
    "def run():\n",
    "    print(\"Hello from my_module\")\n",
    "```\n",
    "\n",
    "\n",
    "```\n",
    "import os\n",
    "import sys\n",
    "\n",
    "project_root = os.path.dirname(os.path.dirname(os.path.abspath(__file__)))\n",
    "sys.path.insert(0, os.path.join(project_root, 'lib'))\n",
    "\n",
    "import my_module\n",
    "my_module.run()\n",
    "```"
   ]
  },
  {
   "cell_type": "markdown",
   "id": "383a3ded-4487-4b9f-84b3-5de5abad2f1c",
   "metadata": {},
   "source": [
    "## Relative path explained\n",
    "```\n",
    "../project_root/\n",
    "     bin/relative_path_explained.py\n",
    "     lib/my_module.py\n",
    "```"
   ]
  },
  {
   "cell_type": "code",
   "execution_count": null,
   "id": "4ef59aeb-7d56-4c99-884d-af836de986ba",
   "metadata": {},
   "outputs": [],
   "source": [
    "from modules.test import relative_path\n",
    "\n",
    "relative_path()"
   ]
  },
  {
   "cell_type": "markdown",
   "id": "3fbefa41-0a69-4320-9e3f-289301bc4667",
   "metadata": {},
   "source": [
    "- sample output\n",
    "\n",
    "```\n",
    "examples/project_root/bin/relative_path_explained.py\n",
    "/home/gabor/work/slides/python/examples/project_root/bin/relative_path_explained.py\n",
    "/home/gabor/work/slides/python/examples/project_root/bin\n",
    "/home/gabor/work/slides/python/examples/project_root\n",
    "/home/gabor/work/slides/python/examples/project_root/lib\n",
    "Hello from my_module\n",
    "```"
   ]
  },
  {
   "cell_type": "markdown",
   "id": "74a6bf07-d220-4c91-812d-00186062d9f2",
   "metadata": {},
   "source": [
    "## Submodules\n",
    "```\n",
    "aproject/\n",
    "    app.py\n",
    "    mymodules/math.py\n",
    "```\n",
    "\n",
    "```\n",
    "import mymodules.math\n",
    "z = mymodules.math.add(2, 3)\n",
    "\n",
    "print(z)\n",
    "```\n",
    "\n",
    "\n",
    "```\n",
    "def add(x, y):\n",
    "    return x + y\n",
    "```   "
   ]
  },
  {
   "cell_type": "markdown",
   "id": "26a6ce3b-8d7d-484b-821d-15a0017a8d41",
   "metadata": {
    "jp-MarkdownHeadingCollapsed": true,
    "tags": []
   },
   "source": [
    "## Python modules are compiled\n",
    "- When libraries are loaded they are automatically compiled to .pyc files.\n",
    "- This provides moderate code-hiding and load-time speed-up.\n",
    "- Not run-time speed-up. \n",
    "- Starting from Python 3.2 the pyc files are saved in the __pycache__ directory."
   ]
  },
  {
   "cell_type": "markdown",
   "id": "9354c2f3-e8c5-4ec4-b18b-8d5169a3b068",
   "metadata": {},
   "source": [
    "## Import & From review\n",
    "\n",
    "\n",
    "In Python, the `import` and `from` statements are used to bring external modules or specific objects from modules into your current program's namespace. They provide a way to access and utilize code that is defined in other modules or packages.\n",
    "\n",
    "The `import` statement is used to import an entire module into your program. It allows you to access all the objects (variables, functions, classes, etc.) defined within that module. Here's the general syntax for the `import` statement:\n",
    "\n",
    "```python\n",
    "import module_name\n",
    "```\n",
    "\n",
    "For example, if you have a module called `math` that provides mathematical functions, you can import it like this:\n",
    "\n",
    "```python\n",
    "import math\n",
    "```\n",
    "\n",
    "Once the module is imported, you can access its objects by prefixing them with the module name. For example, to use the `sqrt()` function from the `math` module, you would write `math.sqrt()`.\n",
    "\n",
    "The `from` statement is used to import specific objects from a module into your program's namespace directly, without the need to prefix them with the module name. Here's the general syntax for the `from` statement:\n",
    "\n",
    "```python\n",
    "from module_name import object_name1, object_name2, ...\n",
    "```\n",
    "\n",
    "For example, if you only need the `sqrt()` function from the `math` module, you can import it directly using the `from` statement like this:\n",
    "\n",
    "```python\n",
    "from math import sqrt\n",
    "```\n",
    "\n",
    "After importing with the `from` statement, you can use the imported object directly without prefixing it with the module name. So, in this case, you can simply use `sqrt()` instead of `math.sqrt()`.\n",
    "\n",
    "Additionally, you can use the `as` keyword to provide an alias for imported modules or objects. This can be helpful when dealing with modules or objects with long names or when there is a naming conflict. Here's an example:\n",
    "\n",
    "```python\n",
    "import module_name as alias_name\n",
    "```\n",
    "\n",
    "or\n",
    "\n",
    "```python\n",
    "from module_name import object_name as alias_name\n",
    "```\n",
    "\n",
    "These statements allow you to use `alias_name` instead of `module_name` or `object_name` in your code.\n",
    "\n",
    "Overall, the `import` and `from` statements provide flexibility in accessing code defined in other modules, making it easier to organize and reuse functionality in Python programs."
   ]
  },
  {
   "cell_type": "markdown",
   "id": "2494b00a-8808-43e4-a7e5-cd5f001dcbd6",
   "metadata": {},
   "source": [
    "## How \"import\" and \"from\" work?\n",
    "\n",
    "\n",
    "1. Find the file to load:\n",
    "   - When you execute an `import` statement, Python searches for the module in a specific order defined by the module search path.\n",
    "   - The search path includes the current directory, directories specified by the `PYTHONPATH` environment variable, and default system locations.\n",
    "   - If the module is found, Python proceeds to the next step. Otherwise, it raises an `ImportError`.\n",
    "\n",
    "2. Compile to bytecode if necessary and save the bytecode if possible:\n",
    "   - If the module has not been imported before or if the source code has been modified since the last import, Python compiles the module to bytecode.\n",
    "   - The bytecode is saved in a `__pycache__` directory (Python 3) or in the same directory as the module (Python 2) for future use.\n",
    "   - The bytecode allows for faster execution in subsequent imports as it bypasses the compilation step.\n",
    "\n",
    "3. Run the code of the file loaded:\n",
    "   - Python executes the code of the module in a new namespace.\n",
    "   - Any top-level code (outside of functions or classes) in the module is executed sequentially, defining variables, functions, and classes.\n",
    "   - The execution follows the normal control flow, executing function definitions but not the code within functions.\n",
    "   - If the module contains executable statements (not just function and class definitions), those statements are executed immediately.\n",
    "\n",
    "4. Copy names from the imported module to the importing namespace:\n",
    "   - After the code execution, the module's namespace is captured as a module object.\n",
    "   - If you used the `import` statement, you can access objects from the module by referencing them with the module name as a prefix (e.g., `module_name.object_name`).\n",
    "   - If you used the `from` statement, specific objects are copied from the module to the importing namespace. You can access these objects directly without the module name prefix.\n",
    "\n",
    "During the import process, Python performs some additional tasks, such as checking the module cache to determine if a module has already been imported, managing circular imports, and handling any errors or exceptions that may occur.\n"
   ]
  },
  {
   "cell_type": "markdown",
   "id": "b8e8c837-ff6b-425b-b6a4-e9333d44dd5f",
   "metadata": {
    "jp-MarkdownHeadingCollapsed": true,
    "tags": []
   },
   "source": [
    "## Runtime loading of modules\n",
    "\n",
    "- The import statements in Python are executed at the point where they are located in the code. If you have some code before the import statement (print Start running) it will be executed before the importing starts.\n",
    "- During the importing any code that is outside of functions and classes in the imported module is executed. (print Loading mygreet).\n",
    "\n",
    "- Then you can call functions from the module (print Hello World).\n",
    "- Or call code that is in the importing program (print DONE).\n",
    "\n",
    "\n",
    ">```python\n",
    "> # mygreet\n",
    "> def hello():\n",
    ">    print(\"Hello World\")\n",
    "> \n",
    ">print(\"Loading mygreet\")\n",
    "> ```\n",
    "\n",
    "\n",
    "\n",
    "```python \n",
    "# script\n",
    "print(\"Start running\")  # Start running\n",
    "\n",
    "import mygreet          # Loading mygreet\n",
    "\n",
    "print(\"import done\")    # import done\n",
    "\n",
    "mygreet.hello()         # Hello World\n",
    "\n",
    "print(\"DONE\")           # DONE\n",
    "```"
   ]
  },
  {
   "cell_type": "markdown",
   "id": "29b59c8d-a6cc-4793-a6df-0f1525ec6e5d",
   "metadata": {},
   "source": [
    "## Conditional loading of modules\n",
    "\n",
    "```python\n",
    "import random\n",
    "\n",
    "print(\"Start running\")\n",
    "name = input(\"Your name:\")\n",
    "\n",
    "if name == \"Foo\":\n",
    "    import mygreet\n",
    "    mygreet.hello()\n",
    "else:\n",
    "    print('No loading')\n",
    "\n",
    "\n",
    "print(\"DONE\")\n",
    "```"
   ]
  },
  {
   "cell_type": "markdown",
   "id": "7f0c36c9-2dd1-493f-8115-0dd03f3e5726",
   "metadata": {},
   "source": [
    "## What is in our namespace?\n"
   ]
  },
  {
   "cell_type": "code",
   "execution_count": 20,
   "id": "8bb69027-3d9b-42d3-95ff-6b3ae5d4d99f",
   "metadata": {},
   "outputs": [
    {
     "name": "stdout",
     "output_type": "stream",
     "text": [
      "['In', 'Out', '_', '__', '___', '__builtin__', '__builtins__', '__doc__', '__loader__', '__name__', '__package__', '__spec__', '_dh', '_i', '_i1', '_i10', '_i11', '_i12', '_i13', '_i14', '_i15', '_i16', '_i17', '_i18', '_i19', '_i2', '_i20', '_i3', '_i4', '_i5', '_i6', '_i7', '_i8', '_i9', '_ih', '_ii', '_iii', '_oh', 'add', 'calc', 'exit', 'get_ipython', 'modules', 'my_calculator', 'open', 'os', 'quit', 'relative_path', 'sys', 'z']\n",
      "['In', 'Out', '_', '__', '___', '__builtin__', '__builtins__', '__doc__', '__loader__', '__name__', '__package__', '__spec__', '_dh', '_i', '_i1', '_i10', '_i11', '_i12', '_i13', '_i14', '_i15', '_i16', '_i17', '_i18', '_i19', '_i2', '_i20', '_i3', '_i4', '_i5', '_i6', '_i7', '_i8', '_i9', '_ih', '_ii', '_iii', '_oh', 'add', 'calc', 'exit', 'get_ipython', 'modules', 'my_calculator', 'open', 'os', 'quit', 'relative_path', 'sys', 'z']\n",
      "['In', 'Out', '_', '__', '___', '__builtin__', '__builtins__', '__doc__', '__loader__', '__name__', '__package__', '__spec__', '_dh', '_i', '_i1', '_i10', '_i11', '_i12', '_i13', '_i14', '_i15', '_i16', '_i17', '_i18', '_i19', '_i2', '_i20', '_i3', '_i4', '_i5', '_i6', '_i7', '_i8', '_i9', '_ih', '_ii', '_iii', '_oh', 'add', 'argv', 'calc', 'exit', 'get_ipython', 'modules', 'my_calculator', 'open', 'os', 'quit', 'relative_path', 'sys', 'z']\n"
     ]
    }
   ],
   "source": [
    "print(dir())\n",
    "import sys\n",
    "print(dir())\n",
    "from sys import argv\n",
    "print(dir())"
   ]
  },
  {
   "cell_type": "markdown",
   "id": "307aeac7-64a0-4887-b3a0-e04f67a8dcfd",
   "metadata": {},
   "source": [
    "## Runtime import\n",
    "- We can use the name of a module that comes from an expression\n"
   ]
  },
  {
   "cell_type": "markdown",
   "id": "0125b0a4-4bd6-43cd-a6e0-5a9526650822",
   "metadata": {},
   "source": [
    "## Duplicate importing of functions\n",
    "```python\n",
    "from mycalc import add\n",
    "print(add(2, 3))  # 5\n",
    "\n",
    "from mymath import add\n",
    "print(add(2, 3))  # 6\n",
    "\n",
    "from mycalc import add\n",
    "print(add(2, 3))  # 5\n",
    "```\n",
    "\n",
    "- The second declaration silently overrides the first declaration.\n",
    "\n",
    "- **pylint** can find such problems, along with a bunch of others."
   ]
  },
  {
   "cell_type": "markdown",
   "id": "5aa99dd1-fd99-4ce7-92fd-2918c7a2b6aa",
   "metadata": {},
   "source": [
    "## Duplicate importing of functions - solved\n",
    "``` python \n",
    "import mycalc\n",
    "print(mycalc.add(2, 3))  # 5\n",
    "\n",
    "import mymath\n",
    "print(mymath.add(2, 3))  # 6\n",
    "\n",
    "import mycalc\n",
    "print(mycalc.add(2, 3))  # 5\n",
    "```"
   ]
  },
  {
   "cell_type": "markdown",
   "id": "4c81354f-e271-4853-ba85-011f501d9ca1",
   "metadata": {},
   "source": [
    "## Script or library\n",
    "\n",
    "- We can have a file with all the functions implemented and then launch the run() function only if the file was executed as a stand-alone script.\n",
    "\n",
    "```python \n",
    "def run():\n",
    "    print(\"run in \", __name__)\n",
    "\n",
    "print(\"Name space in mymodule.py \", __name__)\n",
    "\n",
    "if __name__ == '__main__':\n",
    "    run()\n",
    "```"
   ]
  },
  {
   "cell_type": "markdown",
   "id": "252ef056-49d5-46e0-b0b6-46356a1d41d3",
   "metadata": {},
   "source": [
    "## Script or library - import\n",
    "\n",
    "- If it is imported by another module then it won't run automatically. We have to call it manually.\n",
    "\n",
    "```python\n",
    "import mymodule\n",
    "\n",
    "print(\"Name space in import_mymodule.py \", __name__)\n",
    "mymodule.run()\n",
    "```"
   ]
  },
  {
   "cell_type": "markdown",
   "id": "bddf4ba9-55e1-4715-a12e-57fd57e2018c",
   "metadata": {},
   "source": [
    "## Script or library - from import\n",
    "\n",
    "```python\n",
    "from mymodule import run\n",
    "\n",
    "print(\"Name space in import_mymodule.py \", __name__)\n",
    "run()\n",
    "```\n",
    "\n",
    "OUTPUT: \n",
    "\n",
    ">```\n",
    "> $ python import_from_mymodule.py\n",
    "> Name space in mymodule.py  mymodule\n",
    "> Name space in import_mymodule.py  __main__\n",
    "> run in  mymodule\n",
    ">```"
   ]
  },
  {
   "cell_type": "markdown",
   "id": "e5b4e2c5-4ecb-4bfa-8bd1-9cf68f232b0e",
   "metadata": {},
   "source": [
    "## Scope of import\n",
    "\n",
    "- The importing of functions, and the changes in the behavior of the compiler are file specific. \n",
    "\n",
    "\n",
    "\n",
    "```python\n",
    "#mydiv.py\n",
    "def div(a, b):\n",
    "    return a/b\n",
    "```\n",
    "\n",
    "- In this case the change in the behavior of division is **only visible in the division.py** script, but **not in the mydiv.py** module.\n",
    "\n",
    "```python\n",
    "from __future__ import print_function\n",
    "from __future__ import division\n",
    "\n",
    "import mydiv\n",
    "\n",
    "print(mydiv.div(3, 2))   # 1\n",
    "\n",
    "print(3/2)               # 1.5\n",
    "```\n",
    "\n"
   ]
  },
  {
   "cell_type": "markdown",
   "id": "098ad650-7ce1-4a2d-b5f5-90b2a6ec7986",
   "metadata": {},
   "source": [
    "## Import multiple times\n",
    "In Python, you can import a module multiple times in different parts of your code. Each import statement will execute the module code and make the module's objects available in the current namespace. However, subsequent imports of the same module will not execute the code again if the module has already been imported.\n",
    "\n",
    "Let's illustrate this with an example:\n",
    "\n",
    "Consider a module called `my_module.py` with the following contents:\n",
    "\n",
    "```python\n",
    "# my_module.py\n",
    "print(\"Executing my_module.py\")\n",
    "\n",
    "message = \"Hello, World!\"\n",
    "\n",
    "def greet():\n",
    "    print(message)\n",
    "```\n",
    "\n",
    "Now, let's import the `my_module` multiple times in another script:\n",
    "\n",
    "```python\n",
    "# main.py\n",
    "import my_module\n",
    "\n",
    "print(\"First import:\")\n",
    "my_module.greet()\n",
    "\n",
    "print(\"Second import:\")\n",
    "import my_module  # Importing again\n",
    "my_module.greet()\n",
    "\n",
    "print(\"Third import:\")\n",
    "from my_module import greet  # Importing specific object\n",
    "greet()\n",
    "\n",
    "print(\"Fourth import:\")\n",
    "import my_module as mm  # Importing with alias\n",
    "mm.greet()\n",
    "```\n",
    "\n",
    "When you run `main.py`, the output will be:\n",
    "\n",
    "```\n",
    "First import:\n",
    "Executing my_module.py\n",
    "Hello, World!\n",
    "Second import:\n",
    "Third import:\n",
    "Hello, World!\n",
    "Fourth import:\n",
    "Hello, World!\n",
    "```\n",
    "\n",
    "\n",
    "As you can see, importing a module multiple times in different parts of your code will **not re-execute the module code**. It allows you to access the module's objects in different parts of your program without duplication."
   ]
  },
  {
   "cell_type": "markdown",
   "id": "d0a10992-40fe-44f0-baa8-2fcbe0355ca0",
   "metadata": {},
   "source": [
    "## Do not import *\n",
    "\n",
    "- Importing all objects from a module using the `import *` syntax (`from module import *`) is generally discouraged in Python.\n",
    "- It can make the code harder to read and maintain, as it introduces potential naming conflicts and makes it unclear where certain objects originate from.\n",
    "- Instead, it is recommended to import specific objects or import the module itself and access its objects using the module name prefix.\n",
    "\n",
    "Let's illustrate why `import *` is discouraged with an example:\n",
    "\n",
    "Consider a module called `my_module.py` with the following contents:\n",
    "\n",
    "```python\n",
    "# my_module.py\n",
    "variable = \"Hello, World!\"\n",
    "\n",
    "def function():\n",
    "    return \"This is a function.\"\n",
    "```\n",
    "\n",
    "Now, let's import all objects from `my_module` using `import *`:\n",
    "\n",
    "```python\n",
    "# main.py\n",
    "from my_module import *\n",
    "\n",
    "print(variable)\n",
    "print(function())\n",
    "```\n",
    "\n",
    "When you run `main.py`, the output will be:\n",
    "\n",
    "```\n",
    "Hello, World!\n",
    "This is a function.\n",
    "```\n",
    "\n",
    "At first glance, it seems like importing all objects with `import *` worked fine. However, this approach has several drawbacks:\n",
    "\n",
    "1. **Name conflicts**: \n",
    "- If both the importing module and the imported module define objects with the same name, it can lead to name conflicts. \n",
    "- It becomes unclear which object is being referenced. This can make the code difficult to debug and maintain.\n",
    "\n",
    "2. **Readability and maintainability**: \n",
    "- It is not clear where the objects originated from since they are imported into the current namespace. \n",
    "- This can make it harder for other developers (including yourself) to understand the code, especially in larger projects.\n",
    "\n",
    "3. **Overhead**: Importing all objects unnecessarily increases the namespace's size, leading to potential memory and performance overhead.\n",
    "\n",
    "Instead of using `import *`, it is recommended to import specific objects or import the module itself and access its objects using the module name prefix. Here's an improved version of the example:\n",
    "\n",
    "```python\n",
    "# main.py\n",
    "import my_module\n",
    "\n",
    "print(my_module.variable)\n",
    "print(my_module.function())\n",
    "```\n",
    "\n",
    "- By explicitly importing the module or specific objects, you maintain clarity and avoid potential naming conflicts. \n",
    "- It also allows other developers to understand where the objects come from and reduces the chance of errors due to name clashes.\n"
   ]
  },
  {
   "cell_type": "markdown",
   "id": "9d375d60-2e04-40e1-9d2a-53c0126f6277",
   "metadata": {},
   "source": [
    "## Exercise: Module my_sum\n"
   ]
  },
  {
   "cell_type": "code",
   "execution_count": 26,
   "id": "f1da6ab9-680b-4b00-adb1-a653c950db18",
   "metadata": {},
   "outputs": [
    {
     "name": "stdout",
     "output_type": "stream",
     "text": [
      "37\n",
      "5.0\n"
     ]
    }
   ],
   "source": [
    "from modules.my_math import div, add \n",
    "\n",
    "print(add(2, 5 * 7))\n",
    "print(div(10, 2))\n"
   ]
  },
  {
   "cell_type": "markdown",
   "id": "19d5cfe9-6e0c-40be-8291-10b99bc7f037",
   "metadata": {},
   "source": [
    "## Exercise: Convert your script to module\n",
    "- Take one of your real script (from work). Create a backup copy.\n",
    "- Change the script so it can be import-ed as a module and then it won't automatically execute anything, but that it still works when executed as a script.\n",
    "- Add a new function to it called self_test and in that function add a few test-cases to your code using 'assert'.\n",
    "- Write another script that will load your real file as a module and will run the self_test.\n"
   ]
  },
  {
   "cell_type": "markdown",
   "id": "cd85983f-d298-4a64-b959-feef7014e7eb",
   "metadata": {},
   "source": [
    "## Built-in modules"
   ]
  },
  {
   "cell_type": "code",
   "execution_count": null,
   "id": "f4981fe1-9bff-4157-bfcb-eb04f4c1155f",
   "metadata": {},
   "outputs": [],
   "source": [
    "for mod in sorted(sys.modules.keys()):\n",
    "    try:\n",
    "        print(mod, sys.modules[mod].__file__)\n",
    "    except Exception as err:\n",
    "        print(mod)"
   ]
  }
 ],
 "metadata": {
  "kernelspec": {
   "display_name": "Python 3 (ipykernel)",
   "language": "python",
   "name": "python3"
  },
  "language_info": {
   "codemirror_mode": {
    "name": "ipython",
    "version": 3
   },
   "file_extension": ".py",
   "mimetype": "text/x-python",
   "name": "python",
   "nbconvert_exporter": "python",
   "pygments_lexer": "ipython3",
   "version": "3.9.7"
  }
 },
 "nbformat": 4,
 "nbformat_minor": 5
}
