{
 "cells": [
  {
   "cell_type": "markdown",
   "id": "443ab123-487c-4b63-9db1-c7f908f31378",
   "metadata": {
    "tags": []
   },
   "source": [
    "## sys - (Python) System specific"
   ]
  },
  {
   "cell_type": "markdown",
   "id": "f4bd8d40-d635-402c-b169-dc94192f895b",
   "metadata": {
    "jp-MarkdownHeadingCollapsed": true,
    "tags": []
   },
   "source": [
    "\n",
    "\n",
    "Here are some commonly used functions from the `sys` module in Python, which provides access to system-specific parameters and functions:\n",
    "\n",
    "> `sys.argv`: A list of command-line arguments passed to the script.\n",
    ">\n",
    "> `sys.exit([arg])`: Exit the Python interpreter. If an optional argument `arg` is provided, it is used as the exit status. By convention, a non-zero value indicates an abnormal termination.\n",
    "> \n",
    "> `sys.stdin`: A file-like object representing the standard input stream.\n",
    ">  `sys.stdout`: A file-like object representing the standard output stream.\n",
    "> \n",
    "> `sys.stderr`: A file-like object representing the standard error stream.\n",
    "> \n",
    "> `sys.platform`: A string indicating the platform where Python is running (e.g., \"linux\", \"win32\", \"darwin\").\n",
    "> \n",
    "> `sys.version`: A string containing the version number and build information of the Python interpreter.\n",
    "> \n",
    "> `sys.modules`: A dictionary containing all currently imported modules, with the module names as keys and module objects as values.\n",
    "> \n",
    "> `sys.path`: A list of strings representing the search path for module files. It includes the current directory, directories specified by the `PYTHONPATH` environment variable, and default system locations.\n",
    "> \n",
    "> `sys.getsizeof(object)`: Return the size of an object in bytes. It can be useful for analyzing memory usage.\n",
    "> \n",
    "> `sys.getrecursionlimit()`: Return the current recursion limit, which is the maximum depth of the Python interpreter stack.\n",
    "> \n",
    "> `sys.setrecursionlimit(limit)`: Set the recursion limit to the specified value.\n",
    "> \n",
    "> `sys.getfilesystemencoding()`: Return the default encoding used for file system operations, such as file names.\n",
    "> \n",
    "> `sys.getdefaultencoding()`: Return the current default string encoding used by the Unicode implementation.\n",
    "\n",
    "For more details and additional functions, you can refer to the official Python documentation on the `sys` module: [sys - System-specific parameters and functions](https://docs.python.org/3/library/sys.html)"
   ]
  },
  {
   "cell_type": "markdown",
   "id": "102c8e33-0c07-44d6-b107-a1e606f6eb51",
   "metadata": {
    "jp-MarkdownHeadingCollapsed": true,
    "tags": []
   },
   "source": [
    "## os - Operating System\n"
   ]
  },
  {
   "cell_type": "markdown",
   "id": "53444a8d-337e-4c91-980e-cf6d0fd9f1ca",
   "metadata": {
    "jp-MarkdownHeadingCollapsed": true,
    "tags": []
   },
   "source": [
    "\n",
    "Here are some commonly used functions from the `os` module in Python, which provides a way to interact with the operating system:\n",
    "\n",
    "1. `os.name`: A string indicating the name of the operating system (e.g., \"posix\" for UNIX-like systems, \"nt\" for Windows).\n",
    "2. `os.getcwd()`: Return a string representing the current working directory.\n",
    "3. `os.chdir(path)`: Change the current working directory to the specified path.\n",
    "4. `os.listdir(path)`: Return a list of entries in the directory specified by the path.\n",
    "5. `os.mkdir(path[, mode])`: Create a directory with the specified path. An optional mode argument can be provided to set the permissions.\n",
    "6. `os.makedirs(path[, mode])`: Create a directory with the specified path, including any necessary intermediate directories.\n",
    "7. `os.remove(path)`: Remove a file at the specified path.\n",
    "8. `os.rmdir(path)`: Remove an empty directory at the specified path.\n",
    "9. `os.removedirs(path)`: Remove a directory and any intermediate directories if they are empty.\n",
    "10. `os.rename(src, dst)`: Rename a file or directory from `src` to `dst`.\n",
    "11. `os.path.exists(path)`: Check if a path exists in the file system.\n",
    "12. `os.path.isfile(path)`: Check if a path points to a file.\n",
    "13. `os.path.isdir(path)`: Check if a path points to a directory.\n",
    "14. `os.path.join(path1, path2, ...)` : Join one or more path components intelligently.\n",
    "15. `os.path.abspath(path)`: Return the absolute path of a given path.\n",
    "16. `os.path.basename(path)`: Return the base name of a file or directory path.\n",
    "17. `os.path.dirname(path)`: Return the directory name of a file or directory path.\n",
    "18. `os.path.splitext(path)`: Split a path into its base name and extension.\n",
    "\n",
    "For more details and additional functions, you can refer to the official Python documentation on the `os` module: [os - Miscellaneous operating system interfaces](https://docs.python.org/3/library/os.html)"
   ]
  },
  {
   "cell_type": "markdown",
   "id": "0af0b698-379c-4071-8f21-514862aa8e16",
   "metadata": {
    "tags": []
   },
   "source": [
    "## platform"
   ]
  },
  {
   "cell_type": "code",
   "execution_count": null,
   "id": "7c3e3a29-993d-4ea3-9c61-0827ed7bcfe4",
   "metadata": {},
   "outputs": [],
   "source": [
    "import platform\n",
    "\n",
    "# Get the name of the operating system\n",
    "print(\"Operating System:\", platform.system())\n",
    "\n",
    "# Get the release version of the operating system\n",
    "print(\"Release Version:\", platform.release())\n",
    "\n",
    "# Get the version of the operating system\n",
    "print(\"OS Version:\", platform.version())\n",
    "\n",
    "# Get the machine type\n",
    "print(\"Machine Type:\", platform.machine())\n",
    "\n",
    "# Get the processor name\n",
    "print(\"Processor:\", platform.processor())\n",
    "\n",
    "# Get the architecture information\n",
    "print(\"Architecture:\", platform.architecture())\n",
    "\n",
    "# Get the network name of the machine\n",
    "print(\"Network Name:\", platform.node())\n",
    "\n",
    "# Get a concise description of the platform\n",
    "print(\"Platform:\", platform.platform())\n",
    "\n",
    "# Get the version of the Python interpreter\n",
    "print(\"Python Version:\", platform.python_version())\n",
    "\n",
    "# Get the name of the Python implementation\n",
    "print(\"Python Implementation:\", platform.python_implementation())\n"
   ]
  },
  {
   "cell_type": "markdown",
   "id": "0fc78eca-b8dc-48f3-a26b-c9034f2a1922",
   "metadata": {
    "jp-MarkdownHeadingCollapsed": true,
    "tags": []
   },
   "source": [
    "## stat - Inode table"
   ]
  },
  {
   "cell_type": "code",
   "execution_count": 4,
   "id": "e15e709b-c491-40cf-89fa-5a44b343d464",
   "metadata": {},
   "outputs": [
    {
     "name": "stdout",
     "output_type": "stream",
     "text": [
      "Inode Number: 49346317\n",
      "File Size: 1627\n",
      "File Permissions: -rw-r--r--\n",
      "Hard Links: 1\n",
      "Owner User ID: 501\n",
      "Owner Group ID: 20\n",
      "Last Access Time: 1685827430.9448657\n",
      "Last Modification Time: 1685827215.0517702\n",
      "Creation Time: 1685827215.0517702\n"
     ]
    }
   ],
   "source": [
    "import os\n",
    "import stat\n",
    "\n",
    "# Get the file information using stat()\n",
    "file_info = os.stat(\"__FILES/test.txt\")\n",
    "\n",
    "# Get the inode number\n",
    "inode_number = file_info.st_ino\n",
    "print(\"Inode Number:\", inode_number)\n",
    "\n",
    "# Get the file size in bytes\n",
    "file_size = file_info.st_size\n",
    "print(\"File Size:\", file_size)\n",
    "\n",
    "# Get the file permissions in octal format\n",
    "file_permissions = stat.filemode(file_info.st_mode)\n",
    "print(\"File Permissions:\", file_permissions)\n",
    "\n",
    "# Get the number of hard links to the file\n",
    "hard_links = file_info.st_nlink\n",
    "print(\"Hard Links:\", hard_links)\n",
    "\n",
    "# Get the owner user ID of the file\n",
    "owner_uid = file_info.st_uid\n",
    "print(\"Owner User ID:\", owner_uid)\n",
    "\n",
    "# Get the owner group ID of the file\n",
    "owner_gid = file_info.st_gid\n",
    "print(\"Owner Group ID:\", owner_gid)\n",
    "\n",
    "# Get the last access time of the file\n",
    "access_time = file_info.st_atime\n",
    "print(\"Last Access Time:\", access_time)\n",
    "\n",
    "# Get the last modification time of the file\n",
    "modification_time = file_info.st_mtime\n",
    "print(\"Last Modification Time:\", modification_time)\n",
    "\n",
    "# Get the creation time of the file (only available on some platforms)\n",
    "if hasattr(file_info, 'st_ctime'):\n",
    "    creation_time = file_info.st_ctime\n",
    "    print(\"Creation Time:\", creation_time)\n"
   ]
  },
  {
   "cell_type": "markdown",
   "id": "263f84ef-6a0b-48ed-9178-8cfeaf9b9fc6",
   "metadata": {
    "tags": []
   },
   "source": [
    "## shutil - File Operations\n"
   ]
  },
  {
   "cell_type": "markdown",
   "id": "c784a0f5-670c-4ed8-8eba-745b777ae917",
   "metadata": {
    "jp-MarkdownHeadingCollapsed": true,
    "tags": []
   },
   "source": [
    "\n",
    "The `shutil` module in Python provides high-level file operations and utilities for working with files and directories. Here are some commonly used functions from the `shutil` module related to file operations:\n",
    "\n",
    "1. `shutil.copy(src, dst)`: Copy the file at the `src` path to the `dst` path.\n",
    "\n",
    "2. `shutil.copy2(src, dst)`: Copy the file at the `src` path to the `dst` path, preserving the file's metadata (timestamps, permissions, etc.).\n",
    "3. `shutil.copytree(src, dst)`: Recursively copy a directory at the `src` path to the `dst` path.\n",
    "4. `shutil.move(src, dst)`: Move a file or directory from the `src` path to the `dst` path.\n",
    "5. `shutil.rmtree(path)`: Recursively remove a directory and its contents at the specified `path`.\n",
    "6. `shutil.mkdir(path)`: Create a new directory at the specified `path`.\n",
    "7. `shutil.rmtree(path)`: Remove a directory at the specified `path`.\n",
    "8. `shutil.disk_usage(path)`: Get disk usage statistics (total, used, and free space) for the file system containing the specified `path`.\n",
    "9. `shutil.chown(path, user=None, group=None)`: Change the ownership (user and/or group) of the file or directory at the specified `path`.\n",
    "10. `shutil.which(cmd)`: Find the full path to the executable of the given command on the system's PATH.\n",
    "\n",
    "\n",
    "For more details and additional functions, you can refer to the official Python documentation on the `shutil` module: [shutil - High-level file operations](https://docs.python.org/3/library/shutil.html)"
   ]
  },
  {
   "cell_type": "markdown",
   "id": "7e30c06f-69df-41af-bd29-852d32b87961",
   "metadata": {
    "tags": []
   },
   "source": [
    "## glob - Unix style pathname expansion\n"
   ]
  },
  {
   "cell_type": "code",
   "execution_count": null,
   "id": "71577769-9682-408d-86ef-cd05d7919dd3",
   "metadata": {},
   "outputs": [],
   "source": []
  },
  {
   "cell_type": "markdown",
   "id": "07106a7b-5e9a-4c89-b19c-fd83f548f87e",
   "metadata": {},
   "source": [
    "\n",
    "The `glob` module in Python provides a convenient way to perform Unix-style pathname expansion, which allows you to find files and directories matching specific patterns. Here's an example code snippet demonstrating the usage of the `glob` module:\n"
   ]
  },
  {
   "cell_type": "code",
   "execution_count": 5,
   "id": "ef223766-96e4-43b8-9e42-f4a1607729bd",
   "metadata": {},
   "outputs": [
    {
     "name": "stdout",
     "output_type": "stream",
     "text": [
      "Text files: []\n",
      "Python scripts: []\n",
      "All files: []\n",
      "Directories: []\n",
      "Files with numbers: []\n"
     ]
    }
   ],
   "source": [
    "import glob\n",
    "\n",
    "# Find all text files in the current directory\n",
    "text_files = glob.glob(\"*.txt\")\n",
    "print(\"Text files:\", text_files)\n",
    "\n",
    "# Find all Python script files in a specific directory\n",
    "python_scripts = glob.glob(\"/path/to/scripts/*.py\")\n",
    "print(\"Python scripts:\", python_scripts)\n",
    "\n",
    "# Find all files in nested directories\n",
    "all_files = glob.glob(\"/path/to/directory/**/*.txt\", recursive=True)\n",
    "print(\"All files:\", all_files)\n",
    "\n",
    "# Find directories matching a pattern\n",
    "directories = glob.glob(\"/path/to/*/\")\n",
    "print(\"Directories:\", directories)\n",
    "\n",
    "# Find files using character ranges in the pattern\n",
    "files_with_numbers = glob.glob(\"/path/to/files/[0-9]*.txt\")\n",
    "print(\"Files with numbers:\", files_with_numbers)\n"
   ]
  },
  {
   "cell_type": "markdown",
   "id": "cba8adb3-b9c9-4064-ab91-88d7b87428ba",
   "metadata": {
    "tags": []
   },
   "source": [
    "- The subprocess module in Python allows you to spawn new processes, connect to their input/output/error pipes, and obtain their return codes. It provides a way to interact with external programs or execute system commands from within your Python script. Here are some examples of how to use the subprocess module:"
   ]
  },
  {
   "cell_type": "code",
   "execution_count": null,
   "id": "2c678f4f-3f5c-4d81-9dd1-4c49496098e1",
   "metadata": {},
   "outputs": [],
   "source": [
    "# 1. Run a command and capture its output:\n",
    "import subprocess\n",
    "\n",
    "# Run a command and capture its output\n",
    "output = subprocess.check_output([\"ls\", \"-l\"])\n",
    "print(output.decode())  # Convert bytes to string and print the output\n"
   ]
  },
  {
   "cell_type": "code",
   "execution_count": 8,
   "id": "bccf83d3-1b95-444e-896a-147dc26841ec",
   "metadata": {},
   "outputs": [
    {
     "name": "stdout",
     "output_type": "stream",
     "text": [
      "On branch master\n",
      "Your branch is up to date with 'origin/master'.\n",
      "\n",
      "Untracked files:\n",
      "  (use \"git add <file>...\" to include in what will be committed)\n",
      "\t18. Standard Modules.ipynb\n",
      "\n",
      "nothing added to commit but untracked files present (use \"git add\" to track)\n",
      "Exit code: 1\n"
     ]
    }
   ],
   "source": [
    "# 2. Run a command and capture its exit code:\n",
    "import subprocess\n",
    "\n",
    "# Run a command and capture its exit code\n",
    "exit_code = subprocess.call([\"git\", \"commit\", \"-m\", \"Initial commit\"])\n",
    "print(\"Exit code:\", exit_code)\n"
   ]
  },
  {
   "cell_type": "code",
   "execution_count": 9,
   "id": "f1369c5d-371e-4294-8c0b-4af518d8a37c",
   "metadata": {},
   "outputs": [
    {
     "name": "stdout",
     "output_type": "stream",
     "text": [
      "Output: On branch master\n",
      "Your branch is up to date with 'origin/master'.\n",
      "\n",
      "Untracked files:\n",
      "  (use \"git add <file>...\" to include in what will be committed)\n",
      "\t18. Standard Modules.ipynb\n",
      "\n",
      "nothing added to commit but untracked files present (use \"git add\" to track)\n",
      "\n",
      "Error: \n"
     ]
    }
   ],
   "source": [
    "#3. Run a command and capture its output and error:\n",
    "import subprocess\n",
    "\n",
    "# Run a command and capture its output and error\n",
    "result = subprocess.run([\"git\", \"status\"], capture_output=True, text=True)\n",
    "print(\"Output:\", result.stdout)\n",
    "print(\"Error:\", result.stderr)\n"
   ]
  },
  {
   "cell_type": "code",
   "execution_count": 10,
   "id": "b547e620-5b5a-41cf-b6fd-9ad417f79992",
   "metadata": {},
   "outputs": [
    {
     "name": "stdout",
     "output_type": "stream",
     "text": [
      "Output: Hello, subprocess!\n",
      "\n"
     ]
    }
   ],
   "source": [
    "# 4. Run a command with input provided:\n",
    "import subprocess\n",
    "\n",
    "# Run a command with input provided\n",
    "input_data = \"Hello, subprocess!\"\n",
    "result = subprocess.run([\"grep\", \"subprocess\"], input=input_data, capture_output=True, text=True)\n",
    "print(\"Output:\", result.stdout)\n"
   ]
  },
  {
   "cell_type": "code",
   "execution_count": 11,
   "id": "c4be6b1e-f4af-4cd3-b20b-a27081bef7dc",
   "metadata": {},
   "outputs": [
    {
     "name": "stderr",
     "output_type": "stream",
     "text": [
      "Everything up-to-date\n"
     ]
    }
   ],
   "source": [
    "# 5. Run a command and handle exceptions:\n",
    "import subprocess\n",
    "\n",
    "try:\n",
    "    # Run a command and handle exceptions\n",
    "    subprocess.check_call([\"git\", \"push\"])\n",
    "except subprocess.CalledProcessError as e:\n",
    "    print(\"Error:\", e)\n"
   ]
  },
  {
   "cell_type": "markdown",
   "id": "2bdb1af4-7e90-4e25-80b7-358ca83afa3c",
   "metadata": {
    "tags": []
   },
   "source": [
    "## argparse - Command Line Arguments"
   ]
  },
  {
   "cell_type": "markdown",
   "id": "444d7e32-2b58-436e-8477-7f1bbb766a2d",
   "metadata": {},
   "source": [
    "The `argparse` module in Python provides a convenient way to parse command-line arguments and options. It allows you to define the arguments your program expects and automatically generates help messages, handles type conversion, and more. Here's an example code snippet demonstrating the usage of the `argparse` module:\n",
    "\n",
    "```python\n",
    "import argparse\n",
    "\n",
    "# Create the ArgumentParser object\n",
    "parser = argparse.ArgumentParser(description='My Command Line Program')\n",
    "\n",
    "# Add arguments\n",
    "parser.add_argument('input_file', help='Path to the input file')\n",
    "parser.add_argument('--output', '-o', help='Path to the output file')\n",
    "parser.add_argument('--verbose', '-v', action='store_true', help='Enable verbose mode')\n",
    "\n",
    "# Parse the command-line arguments\n",
    "args = parser.parse_args()\n",
    "\n",
    "# Access the values of the arguments\n",
    "input_file = args.input_file\n",
    "output_file = args.output\n",
    "verbose_mode = args.verbose\n",
    "\n",
    "# Use the values in your program\n",
    "print(\"Input file:\", input_file)\n",
    "print(\"Output file:\", output_file)\n",
    "print(\"Verbose mode:\", verbose_mode)\n",
    "```\n",
    "\n",
    "In the above example, the `argparse.ArgumentParser` class is used to define the command-line arguments for your program. The `add_argument()` method is used to specify the arguments, their names, help messages, and other attributes. The `parse_args()` method is then called to parse the command-line arguments provided when running the script.\n",
    "\n",
    "The values of the arguments are accessed through the `args` object, and you can use these values in your program as needed.\n",
    "\n",
    "To run the above script, you would typically execute it from the command line, providing the required arguments and any optional arguments with their respective flags. For example:\n",
    "```\n",
    "$ python my_program.py input.txt --output output.txt --verbose\n",
    "```\n",
    "\n",
    "The `argparse` module also automatically generates help messages based on the argument definitions, which can be accessed by running the script with the `-h` or `--help` flag.\n",
    "\n",
    "\n",
    "The module provides many more features, such as specifying argument types, default values, mutually exclusive arguments, subcommands, and more. You can refer to the official Python documentation on `argparse` for more information: [argparse - Command-line option and argument parsing](https://docs.python.org/3/library/argparse.html)"
   ]
  },
  {
   "cell_type": "markdown",
   "id": "78b8a4e6-bb4a-41b8-bd0c-b892cc567c24",
   "metadata": {
    "tags": []
   },
   "source": [
    "## re - Regexes"
   ]
  },
  {
   "cell_type": "markdown",
   "id": "4c3fca55-b71c-460b-bc44-a3537de9b541",
   "metadata": {},
   "source": [
    "The `re` module in Python provides support for working with regular expressions (regexes). Regular expressions are a powerful tool for pattern matching and searching within strings. Here's an example code snippet demonstrating the usage of the `re` module:\n",
    "\n",
    "1. `re.search(pattern, string)`: Search for the first occurrence of the pattern in the string and return a match object.\n",
    "2. `re.findall(pattern, string)`: Find all non-overlapping occurrences of the pattern in the string and return them as a list of strings.\n",
    "3. `re.sub(pattern, replacement, string)`: Replace all occurrences of the pattern in the string with the specified replacement string and return the modified string.\n",
    "4. `re.split(pattern, string)`: Split the string into a list of substrings using the pattern as the delimiter.\n",
    "\n",
    "\n",
    "Regular expressions provide a rich syntax for pattern matching, including character classes, quantifiers, anchors, groups, and more. You can refer to the official Python documentation on the `re` module for more details and advanced usage: [re - Regular expression operations](https://docs.python.org/3/library/re.html)"
   ]
  },
  {
   "cell_type": "code",
   "execution_count": 12,
   "id": "3669a448-17e0-4182-83ee-be8330a66d7d",
   "metadata": {},
   "outputs": [
    {
     "name": "stdout",
     "output_type": "stream",
     "text": [
      "Pattern found: world\n",
      "Matches: ['over', 'lazy']\n",
      "New text: Hello, Python!\n",
      "Items: ['Apple', 'Banana', 'Cherry', 'Date']\n"
     ]
    }
   ],
   "source": [
    "import re\n",
    "\n",
    "# Search for a pattern in a string\n",
    "text = \"Hello, world!\"\n",
    "pattern = r\"world\"\n",
    "match = re.search(pattern, text)\n",
    "if match:\n",
    "    print(\"Pattern found:\", match.group())\n",
    "\n",
    "# Find all occurrences of a pattern in a string\n",
    "text = \"The quick brown fox jumps over the lazy dog.\"\n",
    "pattern = r\"\\b\\w{4}\\b\"\n",
    "matches = re.findall(pattern, text)\n",
    "print(\"Matches:\", matches)\n",
    "\n",
    "# Replace occurrences of a pattern in a string\n",
    "text = \"Hello, World!\"\n",
    "pattern = r\"World\"\n",
    "replacement = \"Python\"\n",
    "new_text = re.sub(pattern, replacement, text)\n",
    "print(\"New text:\", new_text)\n",
    "\n",
    "# Split a string based on a pattern\n",
    "text = \"Apple, Banana, Cherry, Date\"\n",
    "pattern = r\"\\s*,\\s*\"\n",
    "items = re.split(pattern, text)\n",
    "print(\"Items:\", items)\n"
   ]
  },
  {
   "cell_type": "markdown",
   "id": "90309bae-98a5-469c-b1d8-05ee4811b0f2",
   "metadata": {
    "tags": []
   },
   "source": [
    "## math - Mathematics\n"
   ]
  },
  {
   "cell_type": "markdown",
   "id": "dd8464c5-5afa-4b0b-9f72-86da87a8f6f0",
   "metadata": {},
   "source": [
    "The `math` module in Python provides various mathematical functions and constants. Here are some examples of commonly used methods from the `math` module:\n",
    "\n",
    " For more details on the `math` module, refer to the official Python documentation: [math - Mathematical functions](https://docs.python.org/3/library/math.html)\n",
    "\n"
   ]
  },
  {
   "cell_type": "code",
   "execution_count": 13,
   "id": "3d33f528-9021-4ef6-9668-876130d93a53",
   "metadata": {},
   "outputs": [
    {
     "name": "stdout",
     "output_type": "stream",
     "text": [
      "Sin: 0.7071067811865475\n",
      "Cos: 0.7071067811865476\n",
      "Tan: 0.9999999999999999\n",
      "Exponential: 7.38905609893065\n",
      "Natural logarithm: 2.302585092994046\n",
      "Base 10 logarithm: 2.0\n",
      "Square root: 5.0\n",
      "Power: 8.0\n",
      "Ceiling: 4\n",
      "Floor: 3\n",
      "Pi: 3.141592653589793\n",
      "Euler's number: 2.718281828459045\n"
     ]
    }
   ],
   "source": [
    "import math\n",
    "\n",
    "# Trigonometric functions\n",
    "angle = math.radians(45)  # Convert degrees to radians\n",
    "print(\"Sin:\", math.sin(angle))\n",
    "print(\"Cos:\", math.cos(angle))\n",
    "print(\"Tan:\", math.tan(angle))\n",
    "\n",
    "# Exponential and logarithmic functions\n",
    "print(\"Exponential:\", math.exp(2))\n",
    "print(\"Natural logarithm:\", math.log(10))\n",
    "print(\"Base 10 logarithm:\", math.log10(100))\n",
    "\n",
    "# Power and square root functions\n",
    "print(\"Square root:\", math.sqrt(25))\n",
    "print(\"Power:\", math.pow(2, 3))  # Equivalent to 2 ** 3\n",
    "\n",
    "# Ceiling and floor functions\n",
    "print(\"Ceiling:\", math.ceil(3.2))\n",
    "print(\"Floor:\", math.floor(3.8))\n",
    "\n",
    "# Constants\n",
    "print(\"Pi:\", math.pi)\n",
    "print(\"Euler's number:\", math.e)"
   ]
  },
  {
   "cell_type": "markdown",
   "id": "9efb0bd0-0f18-489d-828b-3d396342eaa4",
   "metadata": {
    "tags": []
   },
   "source": [
    "## time - Timestamp and friends\n"
   ]
  },
  {
   "cell_type": "markdown",
   "id": "4bf001aa-77ca-4242-b4e4-e56baf5cd43e",
   "metadata": {},
   "source": [
    "The `time` module in Python provides functions for working with timestamps and measuring time. Here are some examples of commonly used methods from the `time` module:\n",
    "\n",
    "For more details on the `time` module, refer to the official Python documentation: [time - Time access and conversions](https://docs.python.org/3/library/time.html)\n"
   ]
  },
  {
   "cell_type": "code",
   "execution_count": 14,
   "id": "f8693d13-632a-4a3a-8db2-e4d6b32716d5",
   "metadata": {},
   "outputs": [
    {
     "name": "stdout",
     "output_type": "stream",
     "text": [
      "Timestamp: 1686314479.1959732\n",
      "Current time: Fri Jun  9 16:11:19 2023\n",
      "Execution time: 0.00010013580322265625 seconds\n",
      "Formatted time: 2023-06-09 16:11:21\n",
      "Parsed time: time.struct_time(tm_year=2022, tm_mon=1, tm_mday=1, tm_hour=12, tm_min=0, tm_sec=0, tm_wday=5, tm_yday=1, tm_isdst=-1)\n"
     ]
    }
   ],
   "source": [
    "import time\n",
    "\n",
    "# Get the current timestamp\n",
    "timestamp = time.time()\n",
    "print(\"Timestamp:\", timestamp)\n",
    "\n",
    "# Convert timestamp to a readable format\n",
    "current_time = time.ctime(timestamp)\n",
    "print(\"Current time:\", current_time)\n",
    "\n",
    "# Pause the program for a specified number of seconds\n",
    "time.sleep(2)  # Pause for 2 seconds\n",
    "\n",
    "# Measure the execution time of a code block\n",
    "start_time = time.time()\n",
    "# Code block to measure execution time\n",
    "end_time = time.time()\n",
    "execution_time = end_time - start_time\n",
    "print(\"Execution time:\", execution_time, \"seconds\")\n",
    "\n",
    "# Format time\n",
    "current_time = time.strftime(\"%Y-%m-%d %H:%M:%S\", time.localtime())\n",
    "print(\"Formatted time:\", current_time)\n",
    "\n",
    "# Parse a string into a time object\n",
    "time_string = \"2022-01-01 12:00:00\"\n",
    "parsed_time = time.strptime(time_string, \"%Y-%m-%d %H:%M:%S\")\n",
    "print(\"Parsed time:\", parsed_time)"
   ]
  },
  {
   "cell_type": "markdown",
   "id": "97aaab27-e425-4844-b03c-38b726a42106",
   "metadata": {},
   "source": [
    "## datetime - Time management\n"
   ]
  },
  {
   "cell_type": "markdown",
   "id": "5952f09c-862b-4204-a0e0-84fc9fb68f62",
   "metadata": {},
   "source": [
    "The `datetime` module in Python provides classes and functions for working with dates, times, and time intervals. It offers a wide range of functionality for time management. Here are some examples of commonly used methods from the `datetime` module:\n",
    "\n",
    "For more details on the `datetime` module, refer to the official Python documentation: [datetime - Basic date and time types](https://docs.python.org/3/library/datetime.html)\n"
   ]
  },
  {
   "cell_type": "code",
   "execution_count": 16,
   "id": "b9a02703-f834-46dd-81d8-a8e5025010bb",
   "metadata": {},
   "outputs": [
    {
     "name": "stdout",
     "output_type": "stream",
     "text": [
      "Current date and time: 2023-06-09 16:14:24.620584\n",
      "Custom datetime: 2022-06-01 12:30:00\n",
      "Year: 2023\n",
      "Month: 6\n",
      "Day: 9\n",
      "Hour: 16\n",
      "Minute: 14\n",
      "Second: 24\n",
      "Formatted datetime: 2023-06-09 16:14:24\n",
      "Parsed datetime: 2022-01-01 12:00:00\n",
      "Future datetime: 2023-06-16 19:14:24.620584\n",
      "Time difference: 7 days, 3:00:00\n"
     ]
    }
   ],
   "source": [
    "from datetime import datetime, timedelta\n",
    "\n",
    "# Get the current date and time\n",
    "current_datetime = datetime.now()\n",
    "print(\"Current date and time:\", current_datetime)\n",
    "\n",
    "# Create a specific datetime object\n",
    "custom_datetime = datetime(2022, 6, 1, 12, 30, 0)\n",
    "print(\"Custom datetime:\", custom_datetime)\n",
    "\n",
    "# Access individual components of a datetime object\n",
    "year = current_datetime.year\n",
    "month = current_datetime.month\n",
    "day = current_datetime.day\n",
    "hour = current_datetime.hour\n",
    "minute = current_datetime.minute\n",
    "second = current_datetime.second\n",
    "print(\"Year:\", year)\n",
    "print(\"Month:\", month)\n",
    "print(\"Day:\", day)\n",
    "print(\"Hour:\", hour)\n",
    "print(\"Minute:\", minute)\n",
    "print(\"Second:\", second)\n",
    "\n",
    "# Format a datetime object as a string\n",
    "formatted_datetime = current_datetime.strftime(\"%Y-%m-%d %H:%M:%S\")\n",
    "print(\"Formatted datetime:\", formatted_datetime)\n",
    "\n",
    "# Parse a string into a datetime object\n",
    "datetime_string = \"2022-01-01 12:00:00\"\n",
    "parsed_datetime = datetime.strptime(datetime_string, \"%Y-%m-%d %H:%M:%S\")\n",
    "print(\"Parsed datetime:\", parsed_datetime)\n",
    "\n",
    "# Perform arithmetic operations on datetime objects\n",
    "future_datetime = current_datetime + timedelta(days=7, hours=3)\n",
    "print(\"Future datetime:\", future_datetime)\n",
    "\n",
    "# Time difference between two datetime objects\n",
    "time_difference = future_datetime - current_datetime\n",
    "print(\"Time difference:\", time_difference)\n",
    "\n"
   ]
  },
  {
   "cell_type": "markdown",
   "id": "e0c1a130-729e-477c-9e71-1c0d2fb4c9ad",
   "metadata": {
    "tags": []
   },
   "source": [
    "## calendar — General calendar-related functions\n"
   ]
  },
  {
   "cell_type": "markdown",
   "id": "06df6d92-6cb9-4259-a7b9-919aaae584fd",
   "metadata": {},
   "source": [
    "The `calendar` module in Python provides various functions related to calendars. It allows you to work with dates, weeks, months, and years. Here are some examples of commonly used methods from the `calendar` module:\n",
    "\n",
    "For more details on the `calendar` module, refer to the official Python documentation: [calendar - General calendar-related functions](https://docs.python.org/3/library/calendar.html)\n"
   ]
  },
  {
   "cell_type": "code",
   "execution_count": 19,
   "id": "2b2963bb-02ae-45e0-8c36-91013ad8d48a",
   "metadata": {},
   "outputs": [
    {
     "name": "stdout",
     "output_type": "stream",
     "text": [
      "Calendar for January 2022:\n",
      "    January 2022\n",
      "Mo Tu We Th Fr Sa Su\n",
      "                1  2\n",
      " 3  4  5  6  7  8  9\n",
      "10 11 12 13 14 15 16\n",
      "17 18 19 20 21 22 23\n",
      "24 25 26 27 28 29 30\n",
      "31\n",
      "\n",
      "Calendar for the year 2022:\n",
      "                                  2022\n",
      "\n",
      "      January                   February                   March\n",
      "Mo Tu We Th Fr Sa Su      Mo Tu We Th Fr Sa Su      Mo Tu We Th Fr Sa Su\n",
      "                1  2          1  2  3  4  5  6          1  2  3  4  5  6\n",
      " 3  4  5  6  7  8  9       7  8  9 10 11 12 13       7  8  9 10 11 12 13\n",
      "10 11 12 13 14 15 16      14 15 16 17 18 19 20      14 15 16 17 18 19 20\n",
      "17 18 19 20 21 22 23      21 22 23 24 25 26 27      21 22 23 24 25 26 27\n",
      "24 25 26 27 28 29 30      28                        28 29 30 31\n",
      "31\n",
      "\n",
      "       April                      May                       June\n",
      "Mo Tu We Th Fr Sa Su      Mo Tu We Th Fr Sa Su      Mo Tu We Th Fr Sa Su\n",
      "             1  2  3                         1             1  2  3  4  5\n",
      " 4  5  6  7  8  9 10       2  3  4  5  6  7  8       6  7  8  9 10 11 12\n",
      "11 12 13 14 15 16 17       9 10 11 12 13 14 15      13 14 15 16 17 18 19\n",
      "18 19 20 21 22 23 24      16 17 18 19 20 21 22      20 21 22 23 24 25 26\n",
      "25 26 27 28 29 30         23 24 25 26 27 28 29      27 28 29 30\n",
      "                          30 31\n",
      "\n",
      "        July                     August                  September\n",
      "Mo Tu We Th Fr Sa Su      Mo Tu We Th Fr Sa Su      Mo Tu We Th Fr Sa Su\n",
      "             1  2  3       1  2  3  4  5  6  7                1  2  3  4\n",
      " 4  5  6  7  8  9 10       8  9 10 11 12 13 14       5  6  7  8  9 10 11\n",
      "11 12 13 14 15 16 17      15 16 17 18 19 20 21      12 13 14 15 16 17 18\n",
      "18 19 20 21 22 23 24      22 23 24 25 26 27 28      19 20 21 22 23 24 25\n",
      "25 26 27 28 29 30 31      29 30 31                  26 27 28 29 30\n",
      "\n",
      "      October                   November                  December\n",
      "Mo Tu We Th Fr Sa Su      Mo Tu We Th Fr Sa Su      Mo Tu We Th Fr Sa Su\n",
      "                1  2          1  2  3  4  5  6                1  2  3  4\n",
      " 3  4  5  6  7  8  9       7  8  9 10 11 12 13       5  6  7  8  9 10 11\n",
      "10 11 12 13 14 15 16      14 15 16 17 18 19 20      12 13 14 15 16 17 18\n",
      "17 18 19 20 21 22 23      21 22 23 24 25 26 27      19 20 21 22 23 24 25\n",
      "24 25 26 27 28 29 30      28 29 30                  26 27 28 29 30 31\n",
      "31\n",
      "\n",
      "Is 2024 a leap year? True\n",
      "First weekday of the week: 0\n",
      "Weekday of January 1, 2022: 5\n",
      "Number of days in February 2022: 28\n"
     ]
    }
   ],
   "source": [
    "import calendar\n",
    "\n",
    "# Get the calendar for a specific year and month\n",
    "cal = calendar.month(2022, 1)\n",
    "print(\"Calendar for January 2022:\")\n",
    "print(cal)\n",
    "\n",
    "# Get the calendar for an entire year\n",
    "year_cal = calendar.calendar(2022)\n",
    "print(\"Calendar for the year 2022:\")\n",
    "print(year_cal)\n",
    "\n",
    "# Check if a year is a leap year\n",
    "is_leap_year = calendar.isleap(2024)\n",
    "print(\"Is 2024 a leap year?\", is_leap_year)\n",
    "\n",
    "# Get the first weekday of the week (0 - Monday, 6 - Sunday)\n",
    "first_weekday = calendar.firstweekday()\n",
    "print(\"First weekday of the week:\", first_weekday)\n",
    "\n",
    "# Get the weekday of a specific date\n",
    "weekday = calendar.weekday(2022, 1, 1)  # 0 - Monday, 6 - Sunday\n",
    "print(\"Weekday of January 1, 2022:\", weekday)\n",
    "\n",
    "# Determine the number of days in a month\n",
    "days_in_month = calendar.monthrange(2022, 2)  # (weekday, number of days)\n",
    "print(\"Number of days in February 2022:\", days_in_month[1])\n",
    "\n"
   ]
  },
  {
   "cell_type": "markdown",
   "id": "c7ff5b30-a625-4f91-95e8-9a9c98ea5664",
   "metadata": {},
   "source": [
    "## random - Random numbers"
   ]
  },
  {
   "cell_type": "markdown",
   "id": "ee75ba0c-b049-48b6-9afa-bd38bd5e6b99",
   "metadata": {},
   "source": [
    "The `random` module in Python provides functions for generating random numbers and performing random selections. It is commonly used for tasks that require randomness, such as simulations, games, and cryptography. Here are some examples of commonly used methods from the `random` module:\n",
    "\n",
    "For more details on the `random` module, refer to the official Python documentation: [random - Generate pseudo-random numbers](https://docs.python.org/3/library/random.html)\n"
   ]
  },
  {
   "cell_type": "code",
   "execution_count": 20,
   "id": "5b9cf048-d324-40a2-90b0-00a471a405bd",
   "metadata": {},
   "outputs": [
    {
     "name": "stdout",
     "output_type": "stream",
     "text": [
      "Random number between 0 and 1: 0.6140440583343065\n",
      "Random integer between 1 and 10: 3\n",
      "Shuffled list: [4, 1, 3, 5, 2]\n",
      "Random element: date\n",
      "Random sample: [3, 2, 4]\n",
      "Random sample with replacement: [1, 3, 2]\n"
     ]
    }
   ],
   "source": [
    "import random\n",
    "\n",
    "# Generate a random floating-point number between 0 and 1\n",
    "random_number = random.random()\n",
    "print(\"Random number between 0 and 1:\", random_number)\n",
    "\n",
    "# Generate a random integer within a specified range\n",
    "random_int = random.randint(1, 10)\n",
    "print(\"Random integer between 1 and 10:\", random_int)\n",
    "\n",
    "# Shuffle a list randomly\n",
    "my_list = [1, 2, 3, 4, 5]\n",
    "random.shuffle(my_list)\n",
    "print(\"Shuffled list:\", my_list)\n",
    "\n",
    "# Select a random element from a list\n",
    "my_list = [\"apple\", \"banana\", \"cherry\", \"date\"]\n",
    "random_element = random.choice(my_list)\n",
    "print(\"Random element:\", random_element)\n",
    "\n",
    "# Generate a random sample from a list without replacement\n",
    "my_list = [1, 2, 3, 4, 5]\n",
    "random_sample = random.sample(my_list, 3)\n",
    "print(\"Random sample:\", random_sample)\n",
    "\n",
    "# Generate a random sample from a list with replacement\n",
    "random_sample = [random.choice(my_list) for _ in range(3)]\n",
    "print(\"Random sample with replacement:\", random_sample)"
   ]
  }
 ],
 "metadata": {
  "kernelspec": {
   "display_name": "Python 3 (ipykernel)",
   "language": "python",
   "name": "python3"
  },
  "language_info": {
   "codemirror_mode": {
    "name": "ipython",
    "version": 3
   },
   "file_extension": ".py",
   "mimetype": "text/x-python",
   "name": "python",
   "nbconvert_exporter": "python",
   "pygments_lexer": "ipython3",
   "version": "3.9.7"
  }
 },
 "nbformat": 4,
 "nbformat_minor": 5
}
