{
 "cells": [
  {
   "cell_type": "markdown",
   "id": "a3fb18da-4db2-4be0-9c36-2a93c8fd2068",
   "metadata": {},
   "source": [
    "### Conditionals: if"
   ]
  },
  {
   "cell_type": "code",
   "execution_count": 2,
   "id": "254bd0d2-3bdb-4e86-9b0d-73df59a61d45",
   "metadata": {},
   "outputs": [
    {
     "name": "stdin",
     "output_type": "stream",
     "text": [
      "What is the answer?  42\n"
     ]
    },
    {
     "name": "stdout",
     "output_type": "stream",
     "text": [
      "Welcome to the cabal!\n"
     ]
    }
   ],
   "source": [
    "def main():\n",
    "\n",
    "    expected_answer = \"42\"\n",
    "    inp = input('What is the answer? ')\n",
    "\n",
    "    if inp == expected_answer:\n",
    "        print(\"Welcome to the cabal!\")\n",
    "\n",
    "main()"
   ]
  },
  {
   "cell_type": "markdown",
   "id": "c3a7feab-5c5c-4f43-9d73-bde4fe4e945a",
   "metadata": {},
   "source": [
    "- Conditionals: if - else"
   ]
  },
  {
   "cell_type": "code",
   "execution_count": 3,
   "id": "04262dbf-3f11-4cbf-b7c4-a6af05315fa9",
   "metadata": {},
   "outputs": [
    {
     "name": "stdin",
     "output_type": "stream",
     "text": [
      "What is the answer?  43\n"
     ]
    },
    {
     "name": "stdout",
     "output_type": "stream",
     "text": [
      "Read the Hitchhiker's guide to the galaxy!\n"
     ]
    }
   ],
   "source": [
    "def main():\n",
    "    expected_answer = \"42\"\n",
    "    inp = input('What is the answer? ')\n",
    "    \n",
    "    if inp == expected_answer:\n",
    "        print(\"Welcome to the cabal!\")\n",
    "    else:\n",
    "        print(\"Read the Hitchhiker's guide to the galaxy!\")\n",
    "\n",
    "        \n",
    "main()"
   ]
  },
  {
   "cell_type": "code",
   "execution_count": 4,
   "id": "7152a9cc-35ae-4d34-9365-71531cf97844",
   "metadata": {},
   "outputs": [
    {
     "name": "stdin",
     "output_type": "stream",
     "text": [
      "First number:  3\n",
      "Second number:  4\n"
     ]
    },
    {
     "name": "stdout",
     "output_type": "stream",
     "text": [
      "Dividing 3 by 4\n",
      "0.75\n"
     ]
    }
   ],
   "source": [
    "def main():\n",
    "    a = input('First number: ')\n",
    "    b = input('Second number: ')\n",
    "    if int(b) == 0:\n",
    "        print(\"Cannot divide by 0\")\n",
    "    else:\n",
    "        print(\"Dividing\", a, \"by\",  b)\n",
    "        print(int(a) / int(b))\n",
    "main()"
   ]
  },
  {
   "cell_type": "markdown",
   "id": "ac18e84e-a938-4ae9-bd6f-fd65d2097ec0",
   "metadata": {},
   "source": [
    "- Conditionals: else if"
   ]
  },
  {
   "cell_type": "code",
   "execution_count": 5,
   "id": "a7842f39-93e4-47e3-97b6-8065101d4f0c",
   "metadata": {},
   "outputs": [
    {
     "name": "stdin",
     "output_type": "stream",
     "text": [
      "First number:  43\n",
      "Second number:  34\n"
     ]
    },
    {
     "name": "stdout",
     "output_type": "stream",
     "text": [
      "43 is bigger than 34\n"
     ]
    }
   ],
   "source": [
    "def main():\n",
    "    a = input('First number: ')\n",
    "    b = input('Second number: ')\n",
    "    \n",
    "    if a == b:\n",
    "        print('They are equal')\n",
    "    else:\n",
    "        if int(a) < int(b):\n",
    "            print(a + ' is smaller than ' + b)\n",
    "        else:\n",
    "            print(a + ' is bigger than ' + b)\n",
    "\n",
    "main()"
   ]
  },
  {
   "cell_type": "markdown",
   "id": "87dfc7f7-eff4-4020-b38a-3a4066b732f6",
   "metadata": {},
   "source": [
    "- Conditionals: elif"
   ]
  },
  {
   "cell_type": "code",
   "execution_count": 7,
   "id": "9d910be6-09cc-4d7a-8376-054a053053af",
   "metadata": {},
   "outputs": [
    {
     "name": "stdin",
     "output_type": "stream",
     "text": [
      "First number:  33\n",
      "Second number:  33\n"
     ]
    },
    {
     "name": "stdout",
     "output_type": "stream",
     "text": [
      "They are equal\n"
     ]
    }
   ],
   "source": [
    "def main():\n",
    "    a = input('First number: ')\n",
    "    b = input('Second number: ')\n",
    "    if a == b:\n",
    "        print('They are equal')\n",
    "    elif int(a) < int(b):\n",
    "        print(a + ' is smaller than ' + b)\n",
    "    else:\n",
    "        print(a + ' is bigger than ' + b)\n",
    "\n",
    "main()"
   ]
  },
  {
   "cell_type": "markdown",
   "id": "25b6326b-1f04-4fff-84d9-0c5a0580f236",
   "metadata": {},
   "source": [
    "### Ternary operator"
   ]
  },
  {
   "cell_type": "code",
   "execution_count": 8,
   "id": "37629a2d-e820-47d6-82cc-8422a7a99c19",
   "metadata": {},
   "outputs": [
    {
     "name": "stdout",
     "output_type": "stream",
     "text": [
      "positive\n",
      "negative\n"
     ]
    }
   ],
   "source": [
    "x=3\n",
    "answer = 'positive' if x>0 else 'negative'\n",
    "print(answer) # positive\n",
    "\n",
    "x=-3\n",
    "answer = 'positive' if x>0 else 'negative'\n",
    "print(answer) # negative\n"
   ]
  },
  {
   "cell_type": "markdown",
   "id": "030b5e3f-d304-4503-9cb4-c80445958a43",
   "metadata": {},
   "source": [
    "### Case or Switch in Python\n",
    "- There is no case or switch statement in Python.\n"
   ]
  },
  {
   "cell_type": "markdown",
   "id": "30c8ed5a-ed9b-49f1-8944-e7c47a3b9d3c",
   "metadata": {},
   "source": [
    "## Exercise: Rectangular\n",
    "- Write a script that will ask for the sides of a rectangular and print out the area. \n",
    "\n",
    "- Provide error messages if either of the sides is negative."
   ]
  },
  {
   "cell_type": "code",
   "execution_count": 13,
   "id": "34bf1803-d613-424f-9547-0aceb0b20e6e",
   "metadata": {},
   "outputs": [
    {
     "name": "stdin",
     "output_type": "stream",
     "text": [
      "Enter width: 3\n",
      "Enter height: -4\n"
     ]
    },
    {
     "name": "stdout",
     "output_type": "stream",
     "text": [
      "Heigh is non-positive\n"
     ]
    }
   ],
   "source": [
    "def rect_area():\n",
    "    w = int(input('Enter width:'))\n",
    "    h = int(input('Enter height:'))\n",
    "    if w<=0:\n",
    "        print('Width is non-positive')\n",
    "    elif h<=0:\n",
    "        print('Heigh is non-positive')\n",
    "    else:\n",
    "        area = w * h\n",
    "        print('Area of rectangle is:' , area, sep=' ')\n",
    "\n",
    "rect_area()"
   ]
  },
  {
   "cell_type": "markdown",
   "id": "f8679f35-1729-4357-b699-159b1e002ad5",
   "metadata": {},
   "source": [
    "- Exercise: Calculator\n",
    "\n",
    "Create a script that accepts 2 numbers and an operator (+, -, *, /), and prints the result of the operation."
   ]
  },
  {
   "cell_type": "code",
   "execution_count": 15,
   "id": "3a7df8c5-39bf-4f14-a951-e0dd3de4d3b2",
   "metadata": {},
   "outputs": [
    {
     "name": "stdin",
     "output_type": "stream",
     "text": [
      "Number:  6\n",
      "Number:  7\n",
      "Operator (+-*/):  *\n"
     ]
    },
    {
     "name": "stdout",
     "output_type": "stream",
     "text": [
      "42.0\n"
     ]
    }
   ],
   "source": [
    "def main():\n",
    "    a = float(input(\"Number: \"))\n",
    "    b = float(input(\"Number: \"))\n",
    "    op = input(\"Operator (+-*/): \")\n",
    "    if op == '+':\n",
    "        res = a+b\n",
    "    elif op == '-':\n",
    "        res = a-b\n",
    "    elif op == '*':\n",
    "        res = a*b\n",
    "    elif op == '/':\n",
    "        res = a/b\n",
    "    else:\n",
    "        print(\"Invalid operator: '{}'\".format(op))\n",
    "        return\n",
    "    print(res)\n",
    "    return\n",
    "\n",
    "\n",
    "main()"
   ]
  },
  {
   "cell_type": "code",
   "execution_count": null,
   "id": "7a8b301f-32e4-4e58-ac87-554d67be5719",
   "metadata": {},
   "outputs": [],
   "source": []
  }
 ],
 "metadata": {
  "kernelspec": {
   "display_name": "Python 3 (ipykernel)",
   "language": "python",
   "name": "python3"
  },
  "language_info": {
   "codemirror_mode": {
    "name": "ipython",
    "version": 3
   },
   "file_extension": ".py",
   "mimetype": "text/x-python",
   "name": "python",
   "nbconvert_exporter": "python",
   "pygments_lexer": "ipython3",
   "version": "3.9.7"
  }
 },
 "nbformat": 4,
 "nbformat_minor": 5
}
