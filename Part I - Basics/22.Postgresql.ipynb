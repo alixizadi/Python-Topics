{
 "cells": [
  {
   "cell_type": "markdown",
   "id": "8abfc16f-ea34-4f95-a21c-4da6c3bfb3ed",
   "metadata": {},
   "source": [
    "## Python and Postgresql\n"
   ]
  },
  {
   "cell_type": "code",
   "execution_count": null,
   "id": "a767a78b-0013-47df-aeed-25d02cd27a5b",
   "metadata": {},
   "outputs": [],
   "source": [
    "pip install psycopg2-binary"
   ]
  },
  {
   "cell_type": "markdown",
   "id": "356f556f-3e27-45eb-abc0-d1f479bb614f",
   "metadata": {},
   "source": [
    "## PostgreSQL connect\n"
   ]
  },
  {
   "cell_type": "code",
   "execution_count": 8,
   "id": "23834460-634d-4e87-a8b6-7b344dc2eb58",
   "metadata": {},
   "outputs": [],
   "source": [
    "import psycopg2\n",
    "def get_connection():\n",
    "    try:\n",
    "        conn = psycopg2.connect(\"dbname='PythonTutorial' user='postgres' host='localhost' password='postgres'\")\n",
    "        return conn\n",
    "    except Exception as err:\n",
    "        print(f\"unable to connect to the database: {err}\")\n",
    "        return None"
   ]
  },
  {
   "cell_type": "code",
   "execution_count": null,
   "id": "ff4d773e-c57e-4c1e-9e47-f44c0792809a",
   "metadata": {},
   "outputs": [
    {
     "name": "stdout",
     "output_type": "stream",
     "text": [
      "<connection object at 0x7ff5014376d0; dsn: 'user=postgres password=xxx dbname=PythonTutorial host=localhost', closed: 0>\n"
     ]
    }
   ],
   "source": [
    "print(get_connection())"
   ]
  },
  {
   "cell_type": "markdown",
   "id": "37a0bd25-e706-40a5-95b7-8997b598c602",
   "metadata": {},
   "source": [
    "## PostgreSQL create table\n"
   ]
  },
  {
   "cell_type": "code",
   "execution_count": 10,
   "id": "8b16ec95-73d5-45e1-a9bb-60e33136ba6a",
   "metadata": {},
   "outputs": [],
   "source": [
    "try:\n",
    "    conn = get_connection()\n",
    "    cur = conn.cursor()\n",
    "    cur.execute(\"CREATE TABLE people (id INTEGER PRIMARY KEY, name VARCHAR(100))\")\n",
    "    conn.commit()\n",
    "except Exception as err:\n",
    "    print(err)"
   ]
  },
  {
   "cell_type": "markdown",
   "id": "d7b7b82b-47c4-49e8-a80f-0717b925f7a4",
   "metadata": {},
   "source": [
    "## INSERT"
   ]
  },
  {
   "cell_type": "code",
   "execution_count": 12,
   "id": "75993744-980c-4636-ba54-38de6f6e736a",
   "metadata": {},
   "outputs": [],
   "source": [
    "\n",
    "items_to_insert = [\n",
    "    {'uid' : 2, 'name' : 'Ali'},\n",
    "    {'uid' : 3, 'name' : 'Sasan'},\n",
    "    {'uid' : 4, 'name' : 'Majid'},\n",
    "]\n",
    "try:\n",
    "    conn = get_connection()\n",
    "    cur = conn.cursor()\n",
    "    for p in items_to_insert:\n",
    "        uid = p['uid']\n",
    "        name = p['name']\n",
    "        cur.execute(\"INSERT INTO people (id, name) VALUES (%s, %s)\", (uid, name))\n",
    "        conn.commit()\n",
    "except Exception as err:\n",
    "    print(err)"
   ]
  },
  {
   "cell_type": "markdown",
   "id": "95a26c62-c270-41db-8b87-d9c83e61b900",
   "metadata": {},
   "source": [
    "## SELECT"
   ]
  },
  {
   "cell_type": "code",
   "execution_count": 13,
   "id": "bba302db-f127-453e-91b3-93087b7980b3",
   "metadata": {},
   "outputs": [
    {
     "name": "stdout",
     "output_type": "stream",
     "text": [
      "(1, 'Foo')\n",
      "(2, 'Ali')\n",
      "(3, 'Sasan')\n",
      "(4, 'Majid')\n"
     ]
    }
   ],
   "source": [
    "try:\n",
    "    conn = get_connection()\n",
    "    cur = conn.cursor()\n",
    "    cur.execute(\"SELECT * from people\")\n",
    "    for row in cur.fetchall():\n",
    "        print(row)\n",
    "except Exception as err:\n",
    "    print(err)"
   ]
  },
  {
   "cell_type": "markdown",
   "id": "2cb9a09e-043b-4dac-ba40-b2bfc1f1c107",
   "metadata": {},
   "source": [
    "## DELETE"
   ]
  },
  {
   "cell_type": "code",
   "execution_count": 14,
   "id": "8caf290b-be3c-449e-b020-e116ecb0b8e9",
   "metadata": {},
   "outputs": [],
   "source": [
    "try:\n",
    "    conn = get_connection()\n",
    "    cur = conn.cursor()\n",
    "    cur.execute(\"DELETE FROM people\")\n",
    "    conn.commit()\n",
    "except Exception as err:\n",
    "    print(err)\n",
    "\n",
    "try:\n",
    "    cur.execute(\"SELECT * from people\")\n",
    "    for row in cur.fetchall():\n",
    "        print(row)\n",
    "except Exception as err:\n",
    "    print(err)"
   ]
  }
 ],
 "metadata": {
  "kernelspec": {
   "display_name": "Python 3 (ipykernel)",
   "language": "python",
   "name": "python3"
  },
  "language_info": {
   "codemirror_mode": {
    "name": "ipython",
    "version": 3
   },
   "file_extension": ".py",
   "mimetype": "text/x-python",
   "name": "python",
   "nbconvert_exporter": "python",
   "pygments_lexer": "ipython3",
   "version": "3.9.7"
  }
 },
 "nbformat": 4,
 "nbformat_minor": 5
}
