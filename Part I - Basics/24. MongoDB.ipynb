{
 "cells": [
  {
   "cell_type": "raw",
   "id": "626f49cb-b774-4761-9274-2076d7ac1cde",
   "metadata": {},
   "source": [
    "MongoDB CRUD\n",
    "Install MongoDB support\n",
    "MongoDB in Docker compose\n",
    "Python MongoDB drop database\n",
    "Python MongoDB insert\n",
    "MongoDB CLI\n",
    "Python MongoDB find\n",
    "Python MongoDB find refine\n",
    "Python MongoDB update\n",
    "Python MongoDB remove (delete)\n",
    "Python MongoDB replace\n",
    "Python MongoDB upsert\n",
    "Python Mongodb: TypeError: upsert must be True or False\n",
    "Python MongoDB Async with motor - connect\n",
    "Python MongoDB Async with motor - insert and find"
   ]
  },
  {
   "cell_type": "code",
   "execution_count": null,
   "id": "f9d02c1c-f8d3-46ea-b216-099fcf91fadd",
   "metadata": {},
   "outputs": [],
   "source": []
  }
 ],
 "metadata": {
  "kernelspec": {
   "display_name": "Python 3 (ipykernel)",
   "language": "python",
   "name": "python3"
  },
  "language_info": {
   "codemirror_mode": {
    "name": "ipython",
    "version": 3
   },
   "file_extension": ".py",
   "mimetype": "text/x-python",
   "name": "python",
   "nbconvert_exporter": "python",
   "pygments_lexer": "ipython3",
   "version": "3.9.7"
  }
 },
 "nbformat": 4,
 "nbformat_minor": 5
}
