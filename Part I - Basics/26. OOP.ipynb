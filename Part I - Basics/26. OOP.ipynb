{
 "cells": [
  {
   "cell_type": "markdown",
   "id": "fd0a13ba-1fc3-4972-b4d7-4bb83c88cd6d",
   "metadata": {},
   "source": [
    "## Why Object Oriented Programming?"
   ]
  },
  {
   "cell_type": "markdown",
   "id": "6f1e8162-d9a0-41be-93ed-9bf58fabe45f",
   "metadata": {},
   "source": [
    "- Better encapsulation of intent.\n",
    "- Integration between data and functionality (attributes and methods)\n",
    "- Better modelling for some part of the world.\n",
    "- Another level of code-reuse.\n",
    "- Clearer separation between \"usage\" and \"implementation\". (Private data in some cases)\n",
    "- Clearer connection between \"classes\" of things.\n",
    "- In reality: avoid using \"global\"."
   ]
  },
  {
   "cell_type": "markdown",
   "id": "6b3ec0f0-9ec0-4e6c-862d-d3a56f8cc664",
   "metadata": {},
   "source": [
    "## Generic Object Oriented Programming terms"
   ]
  },
  {
   "cell_type": "markdown",
   "id": "85e0c08c-4f96-46fd-b76e-8265d82e25e2",
   "metadata": {},
   "source": [
    "\n",
    "- **OOP** differs a lot among programming languages: Object-oriented programming is implemented differently in various programming languages, with variations in syntax, features, and concepts.\n",
    "\n",
    "- **Classes (blueprints)**: Classes in OOP are templates or blueprints that define the structure and behavior of objects. They encapsulate attributes and methods that objects created from the class will possess.\n",
    "\n",
    "- **Objects/instances (actual)**: Objects, also known as instances, are actual entities created from a class. They represent individual occurrences of a class and hold specific data and behaviors defined by the class.\n",
    "\n",
    "- **Members**: Attributes and Methods: Members in OOP refer to the components of a class that contribute to its behavior. Attributes are variables that store data, while methods are functions that define actions or operations that objects can perform.\n",
    "\n",
    "- **Attributes/Properties (variables - data)**: Attributes, also called properties, are variables associated with objects. They store data specific to each object and define its characteristics or state.\n",
    "\n",
    "- **Methods (functions) (private, public, virtual)**: Methods are functions within a class that define the actions or behaviors of objects. They can be classified as private (accessible only within the class), public (accessible from outside the class), or virtual (capable of being overridden by derived classes).\n",
    "\n",
    "- **Inheritance (is a)**: Inheritance is a mechanism in OOP that allows a class (derived or child class) to inherit properties and methods from another class (base or parent class). It establishes an \"is a\" relationship, enabling code reuse and extending functionality.\n",
    "\n",
    "- **Composition (has a)**: Composition is a concept in OOP where an object contains or is composed of other objects. It establishes a \"has a\" relationship, allowing for building complex structures by combining different objects together.\n",
    "\n",
    "- **Constructor**: A constructor is a special method within a class that is responsible for initializing objects. It sets the initial values of object attributes and performs any necessary setup tasks. Constructors are typically invoked automatically when an object is created.\n",
    "\n",
    "- **Destructor**: A destructor is a special method within a class that is called when an object is no longer needed. It releases resources or performs cleanup operations associated with the object. Destructors are invoked automatically when an object goes out of scope or is explicitly destroyed."
   ]
  },
  {
   "cell_type": "markdown",
   "id": "bd98aad3-4c74-4492-ab05-0df8a833f376",
   "metadata": {},
   "source": [
    "## OOP in Python"
   ]
  },
  {
   "cell_type": "markdown",
   "id": "2259dd8c-69d8-4ea8-b7cd-0ebf2ac1ac7f",
   "metadata": {},
   "source": [
    "- Everything is an object\n",
    "- Numbers, strings, list, ... even classes are objects.\n",
    "- Class objects\n",
    "- Instance objects\n",
    "- Nothing is private."
   ]
  },
  {
   "cell_type": "markdown",
   "id": "25e96e79-f9e0-4449-b265-38803b16d5a3",
   "metadata": {},
   "source": [
    "## OOP in Python (numbers, strings, lists)"
   ]
  },
  {
   "cell_type": "markdown",
   "id": "94b7c856-b33c-42dc-9a90-f5d8872099f6",
   "metadata": {},
   "source": [
    "- There are programming languages such as Java and C# that are Object Oriented languages where in order to do anything, even to print to the screen you need to understand OOP and implement a class.\n",
    "- Python is Object Oriented in a different way. You can get by without creating your own classes for a very long time in your programming career, but you are actually using features of the OOP nature of Python from the beginning.\n",
    "\n",
    "- In Python they say \"everything is an object\" and what they mean is that everything, including literal values such as numbers or strings, or variables holding a list are instances of some class and that they all the features an instance has. Most importantly they have methods. Methods are just function that are used in the \"object.method()\" notation instead of the \"function( parameter )\" notation.\n",
    "\n",
    "- Some of these methods change the underlying object (e.g. the append method of lists), some will return a copy of the object when the object is immutable. (e.g. the capitalize method of strings).\n",
    "\n"
   ]
  },
  {
   "cell_type": "code",
   "execution_count": 1,
   "id": "c039e714-24df-421e-9472-7ced0a3b7be6",
   "metadata": {},
   "outputs": [
    {
     "name": "stdout",
     "output_type": "stream",
     "text": [
      "8\n",
      "9\n",
      "8\n",
      "9\n",
      "Hello world\n",
      "a:b:c\n",
      "[2, 17, 4]\n",
      "[2, 17, 4, 7]\n",
      "[2, 4, 7, 17]\n"
     ]
    }
   ],
   "source": [
    "# numbers\n",
    "print((255).bit_length())    # 8\n",
    "print((256).bit_length())    # 9\n",
    "x = 255\n",
    "print(x.bit_length())\n",
    "x = 256\n",
    "print(x.bit_length())\n",
    "\n",
    "# strings\n",
    "print( \"hello WOrld\".capitalize() )  # Hello world\n",
    "print( \":\".join([\"a\", \"b\", \"c\"]) )   # a:b:c\n",
    "\n",
    "\n",
    "# lists\n",
    "numbers = [2, 17, 4]\n",
    "print(numbers)        # [2, 17, 4]\n",
    "\n",
    "numbers.append(7)\n",
    "print(numbers)        # [2, 17, 4, 7]\n",
    "\n",
    "numbers.sort()\n",
    "print(numbers)        # [2, 4, 7, 17]"
   ]
  },
  {
   "cell_type": "markdown",
   "id": "4fb698cd-0424-40dd-887f-b37836a20835",
   "metadata": {},
   "source": [
    "## OOP in Python (argparse)"
   ]
  },
  {
   "cell_type": "markdown",
   "id": "49c9787d-96e5-4798-b61e-dd54b3688696",
   "metadata": {},
   "source": [
    "- There are more complex OOP usage cases that you have surely encountered already in Python. Either while programming or in my course. For example parsing the command line arguments using argparse.\n",
    "\n",
    "- Here we call the ArgumentParser() method of the argparse object to create an instance of the argparse.ArgumentParser class. Then we call the add_argument method a few times and the parse_args method. This returns an instance of the argparse.Namespace class.\n",
    "\n",
    "- So in fact you have already used OOP quite a lot while using various already existing classes and instances of those classes.\n",
    "\n",
    "- Now we are going to learn how can you create your own classes."
   ]
  },
  {
   "cell_type": "code",
   "execution_count": null,
   "id": "8e15a573-6096-47b8-9569-49ae8fa05438",
   "metadata": {},
   "outputs": [],
   "source": [
    "import argparse\n",
    "\n",
    "def get_args():\n",
    "    print(type(argparse))            # <class 'module'>\n",
    "\n",
    "    parser = argparse.ArgumentParser()\n",
    "    print(parser.__class__)          # <class 'argparse.ArgumentParser'>\n",
    "    print(parser.__class__.__name__) # ArgumentParser\n",
    "\n",
    "    parser.add_argument('--name')\n",
    "    parser.add_argument('--email')\n",
    "\n",
    "    # print(dir(parser))\n",
    "    # print( parser.format_help() )\n",
    "    # parser.print_help()\n",
    "\n",
    "    return parser.parse_args()\n",
    "\n",
    "args = get_args()\n",
    "print(args.__class__)          # <class 'argparse.Namespace'>\n",
    "print(args.__class__.__name__) # Namespace\n",
    "\n",
    "print(args.name)      # None"
   ]
  },
  {
   "cell_type": "markdown",
   "id": "7846b0f8-98ac-4b39-93fe-31c7c965d68b",
   "metadata": {},
   "source": [
    "## Create a class"
   ]
  },
  {
   "cell_type": "markdown",
   "id": "24639618-714d-4d5b-8aaf-ef6f83447fb2",
   "metadata": {},
   "source": [
    "- In order to create a class in Python you only need to use the class keyword with a new class-name. **Usually the first letter is capitalized**.\n",
    "- In such a minimal class that does not do anything yet, Python still requires us to write some code."
   ]
  },
  {
   "cell_type": "code",
   "execution_count": 3,
   "id": "3ebe929f-2373-401e-8701-de7b69cc31f0",
   "metadata": {},
   "outputs": [],
   "source": [
    "class Point:\n",
    "    pass"
   ]
  },
  {
   "cell_type": "markdown",
   "id": "cfd235c9-5a5a-4835-8a59-7093fb719b58",
   "metadata": {},
   "source": [
    "## Create instance of class"
   ]
  },
  {
   "cell_type": "code",
   "execution_count": 4,
   "id": "30ac73f5-7c13-4715-97ef-e60718795ee3",
   "metadata": {},
   "outputs": [
    {
     "name": "stdout",
     "output_type": "stream",
     "text": [
      "<__main__.Point object at 0x7f8b322aaca0>\n",
      "<class '__main__.Point'>\n",
      "Point\n"
     ]
    }
   ],
   "source": [
    "class Point:\n",
    "    pass\n",
    "\n",
    "p1 = Point()\n",
    "print(p1)                    # <__main__.Point object at 0x7f1cc1e3d1c0>\n",
    "print(type(p1))              # <class '__main__.Point'>\n",
    "print(p1.__class__.__name__) # Point"
   ]
  },
  {
   "cell_type": "markdown",
   "id": "84e2edc2-1ad7-4dfe-855a-3e617d390b34",
   "metadata": {},
   "source": [
    "## Import module containing class"
   ]
  },
  {
   "cell_type": "markdown",
   "id": "3efef1d9-e8e6-467a-9f36-25e1811870a7",
   "metadata": {},
   "source": [
    "- You probably want your classes to be reusabel by multiple programs, so it is better to put the class and your code using it in separate files right from the beginning. In this example you can see how to do that importing the module and then using the dot notation to get to the class.\n",
    "\n",
    "```python\n",
    "import shapes\n",
    "\n",
    "p = shapes.Point()\n",
    "print(p)          # <shapes.Point instance at 0x7fb58c31ccb0>\n",
    "\n",
    "\n",
    "\n",
    "\n",
    "# In Module shapes\n",
    "class Point:\n",
    "    pass\n",
    "\n",
    "\n",
    "```\n"
   ]
  },
  {
   "cell_type": "markdown",
   "id": "8a1cf4d9-4de1-4480-bb72-e967d2f29a70",
   "metadata": {},
   "source": [
    "## Import class from module"
   ]
  },
  {
   "cell_type": "markdown",
   "id": "01a32dab-2f82-42b6-b0b5-09d6d0a0f132",
   "metadata": {},
   "source": [
    "- Alternatively you can import the class from the modue and then you can use the classname without any prefix.\n",
    "\n",
    "```python\n",
    "from shapes import Point\n",
    "\n",
    "p = Point()\n",
    "print(p)          # <shapes.Point instance at 0x7fb58c31ccb0>\n",
    "\n",
    "\n",
    "```"
   ]
  },
  {
   "cell_type": "markdown",
   "id": "ebed950d-b13d-4c8a-9409-b6c672e03a90",
   "metadata": {},
   "source": [
    "## Initialize instance (not a constructor)"
   ]
  },
  {
   "cell_type": "code",
   "execution_count": 8,
   "id": "a3aa77a7-5cae-4083-ab57-d6f99444a82b",
   "metadata": {},
   "outputs": [
    {
     "name": "stdout",
     "output_type": "stream",
     "text": [
      "<__main__.Point object at 0x7f8b322aaa60>\n"
     ]
    }
   ],
   "source": [
    "class Point:\n",
    "    def __init__(self):\n",
    "        pass\n",
    "\n",
    "p1 = Point()\n",
    "print(p1)    # <__main__.Point object at 0x7f57922ec1c0>"
   ]
  },
  {
   "cell_type": "markdown",
   "id": "fd5b8c00-cc36-4a02-a7bf-5e4fbe71d790",
   "metadata": {},
   "source": [
    "## Self is the instance"
   ]
  },
  {
   "cell_type": "markdown",
   "id": "691cfe56-0034-46b0-937e-fa9455f08e6d",
   "metadata": {},
   "source": [
    "- Self is already the instance that will be returned"
   ]
  },
  {
   "cell_type": "code",
   "execution_count": 9,
   "id": "adfab495-5621-4a49-a09f-19defd7bec57",
   "metadata": {},
   "outputs": [
    {
     "name": "stdout",
     "output_type": "stream",
     "text": [
      "in __init__\n",
      "<__main__.Point object at 0x7f8b322c3070>\n",
      "<__main__.Point object at 0x7f8b322c3070>\n"
     ]
    }
   ],
   "source": [
    "class Point:\n",
    "    def __init__(self):\n",
    "        print('in __init__')\n",
    "        print(self)\n",
    "\n",
    "pnt = Point()\n",
    "print(pnt)\n",
    "\n",
    "# in __init__\n",
    "# <__main__.Point object at 0x7ff3f45821c0>\n",
    "# <__main__.Point object at 0x7ff3f45821c0>"
   ]
  },
  {
   "cell_type": "markdown",
   "id": "8f8fd38e-0614-4ad6-aa0d-382143c8d8b5",
   "metadata": {},
   "source": [
    "## Init uses same name as attribute and getters"
   ]
  },
  {
   "cell_type": "code",
   "execution_count": 10,
   "id": "538f294d-5482-49b5-86e5-8f6fee70bd6c",
   "metadata": {},
   "outputs": [],
   "source": [
    "class Point:\n",
    "    def __init__(self, x, y):\n",
    "        self.x = x\n",
    "        self.y = y"
   ]
  },
  {
   "cell_type": "code",
   "execution_count": 12,
   "id": "4ff88174-2b76-46a0-8a37-da465168a290",
   "metadata": {},
   "outputs": [
    {
     "name": "stdout",
     "output_type": "stream",
     "text": [
      "<__main__.Point object at 0x7f8b101c8880>\n",
      "2\n",
      "3\n",
      "<__main__.Point object at 0x7f8b101c8400>\n",
      "8\n"
     ]
    }
   ],
   "source": [
    "\n",
    "p1 = Point(2, 3)\n",
    "print(p1)          # <shapes2.Point object at 0x7f2c22c1ec70>\n",
    "print(p1.x)        # 2\n",
    "print(p1.y)        # 3\n",
    "\n",
    "p2 = Point(y=7, x=8)\n",
    "print(p2)          # <shapes2.Point object at 0x7f2c22c1e700>\n",
    "print(p2.x)        # 8"
   ]
  },
  {
   "cell_type": "markdown",
   "id": "a0eab4b8-b4ba-4249-898c-1fc5e575dda1",
   "metadata": {},
   "source": [
    "## Initialize an instance - (not a constructor), attributes and getters"
   ]
  },
  {
   "cell_type": "markdown",
   "id": "0bc711dc-8f04-47a3-ae59-beed3dc79518",
   "metadata": {},
   "source": [
    "- In Python we dont explicitely declare attributes so what people usually do is add a method calles __init__ and let that method set up the initial values of the insance-object."
   ]
  },
  {
   "cell_type": "code",
   "execution_count": 13,
   "id": "a7807d22-2525-4163-8466-8d89914b2a7c",
   "metadata": {},
   "outputs": [
    {
     "name": "stdout",
     "output_type": "stream",
     "text": [
      "<__main__.Point object at 0x7f8b101c4790>\n",
      "2\n",
      "3\n",
      "<__main__.Point object at 0x7f8b101c4d60>\n",
      "8\n",
      "7\n"
     ]
    }
   ],
   "source": [
    "class Point:\n",
    "    def __init__(self, a, b):\n",
    "        self.x = a\n",
    "        self.y = b\n",
    "\n",
    "p1 = Point(2, 3)\n",
    "print(p1)          # <shapes.Point instance at 0x7fb58c31ccb0>\n",
    "print(p1.x)        # 2\n",
    "print(p1.y)        # 3\n",
    "\n",
    "p2 = Point(b=7, a=8)\n",
    "print(p2)          # <shapes.Point instance at 0x7fb58c31cd00>\n",
    "print(p2.x)        # 8\n",
    "print(p2.y)        # 7"
   ]
  },
  {
   "cell_type": "markdown",
   "id": "7aaf38eb-42c4-419a-b8f3-88a6b6b9b914",
   "metadata": {},
   "source": [
    "## Setters - assign to the attributes"
   ]
  },
  {
   "cell_type": "code",
   "execution_count": 15,
   "id": "10fe4e95-79e2-42bc-ade8-cbeec892960a",
   "metadata": {},
   "outputs": [
    {
     "name": "stdout",
     "output_type": "stream",
     "text": [
      "4\n",
      "5\n",
      "23\n",
      "17\n"
     ]
    }
   ],
   "source": [
    "p1 = Point(4, 5)\n",
    "print(p1.x)  # 4\n",
    "print(p1.y)  # 5\n",
    "\n",
    "p1.x = 23\n",
    "p1.y = 17\n",
    "print(p1.x)  # 23\n",
    "print(p1.y)  # 17"
   ]
  },
  {
   "cell_type": "markdown",
   "id": "0378668a-6a70-493b-9883-b680471ce637",
   "metadata": {
    "tags": []
   },
   "source": [
    "## Attributes are not special"
   ]
  },
  {
   "cell_type": "markdown",
   "id": "5a390723-3154-4cbd-a99e-6d479312faee",
   "metadata": {},
   "source": [
    "- There is no automatic protection from this"
   ]
  },
  {
   "cell_type": "code",
   "execution_count": 17,
   "id": "50dce17c-7248-4a74-97fe-556fffb6ed15",
   "metadata": {},
   "outputs": [
    {
     "name": "stdout",
     "output_type": "stream",
     "text": [
      "4\n",
      "5\n",
      "blue\n",
      "7\n",
      "8\n"
     ]
    },
    {
     "ename": "AttributeError",
     "evalue": "'Point' object has no attribute 'color'",
     "output_type": "error",
     "traceback": [
      "\u001b[0;31m---------------------------------------------------------------------------\u001b[0m",
      "\u001b[0;31mAttributeError\u001b[0m                            Traceback (most recent call last)",
      "Cell \u001b[0;32mIn[17], line 12\u001b[0m\n\u001b[1;32m     10\u001b[0m \u001b[38;5;28mprint\u001b[39m(p2\u001b[38;5;241m.\u001b[39mx)  \u001b[38;5;66;03m# 7\u001b[39;00m\n\u001b[1;32m     11\u001b[0m \u001b[38;5;28mprint\u001b[39m(p2\u001b[38;5;241m.\u001b[39my)  \u001b[38;5;66;03m# 8\u001b[39;00m\n\u001b[0;32m---> 12\u001b[0m \u001b[38;5;28mprint\u001b[39m(\u001b[43mp2\u001b[49m\u001b[38;5;241;43m.\u001b[39;49m\u001b[43mcolor\u001b[49m)\n",
      "\u001b[0;31mAttributeError\u001b[0m: 'Point' object has no attribute 'color'"
     ]
    }
   ],
   "source": [
    "p1 = Point(4, 5)\n",
    "print(p1.x)  # 4\n",
    "print(p1.y)  # 5\n",
    "\n",
    "p1.color = 'blue'\n",
    "print(p1.color) # blue\n",
    "\n",
    "\n",
    "p2 = Point(7, 8)\n",
    "print(p2.x)  # 7\n",
    "print(p2.y)  # 8\n",
    "print(p2.color)  # AttributeError: 'Point' object has no attribute 'color'"
   ]
  },
  {
   "cell_type": "markdown",
   "id": "47bf46f0-5bb0-4728-9771-013bc71d4fe3",
   "metadata": {},
   "source": [
    "## Private attributes"
   ]
  },
  {
   "cell_type": "code",
   "execution_count": 18,
   "id": "a0099ed8-9038-4c70-9dfd-145c43c616e2",
   "metadata": {},
   "outputs": [
    {
     "name": "stdout",
     "output_type": "stream",
     "text": [
      "This should be private\n",
      "['__class__', '__delattr__', '__dict__', '__dir__', '__doc__', '__eq__', '__format__', '__ge__', '__getattribute__', '__gt__', '__hash__', '__init__', '__init_subclass__', '__le__', '__lt__', '__module__', '__ne__', '__new__', '__reduce__', '__reduce_ex__', '__repr__', '__setattr__', '__sizeof__', '__str__', '__subclasshook__', '__weakref__', '_name']\n",
      "Fake\n"
     ]
    }
   ],
   "source": [
    "class Thing:\n",
    "     def __init__(self):\n",
    "        self._name = 'This should be private'\n",
    "\n",
    "t = Thing()\n",
    "print(t._name)  # This should be private\n",
    "print(dir(t))   # [..., '_name']\n",
    "\n",
    "t._name = 'Fake'\n",
    "print(t._name)  # Fake"
   ]
  },
  {
   "cell_type": "markdown",
   "id": "ec806eed-4753-447f-ba15-cd3cf3a7b43c",
   "metadata": {},
   "source": [
    "## Methods"
   ]
  },
  {
   "cell_type": "code",
   "execution_count": 20,
   "id": "0cb38ce1-b98f-4fdb-95ee-4812b7fb28dc",
   "metadata": {},
   "outputs": [
    {
     "name": "stdout",
     "output_type": "stream",
     "text": [
      "2\n",
      "3\n",
      "6\n",
      "8\n",
      "<__main__.Point object at 0x7f8b101e7460>\n"
     ]
    }
   ],
   "source": [
    "class Point:\n",
    "    def __init__(self, x, y):\n",
    "        self.x = x\n",
    "        self.y = y\n",
    "\n",
    "    def move(self, dx, dy):\n",
    "        self.x += dx\n",
    "        self.y += dy\n",
    "        \n",
    "        \n",
    "p1 = Point(2, 3)\n",
    "print(p1.x)    # 2\n",
    "print(p1.y)    # 3\n",
    "\n",
    "p1.move(4, 5)\n",
    "print(p1.x)    # 6\n",
    "print(p1.y)    # 8\n",
    "\n",
    "\n",
    "print(p1)      # <shapes.Point object at 0x7fb0691c3e48>"
   ]
  },
  {
   "cell_type": "markdown",
   "id": "5d71692d-96f3-429f-b275-1756b05f9f3e",
   "metadata": {},
   "source": [
    "## Inheritance"
   ]
  },
  {
   "cell_type": "code",
   "execution_count": 21,
   "id": "fca26d0e-a9cd-4b73-86ed-ec1f762440d7",
   "metadata": {},
   "outputs": [],
   "source": [
    "class Point:\n",
    "    def __init__(self, x, y):\n",
    "        print('__init__ of Point')\n",
    "        self.x = x\n",
    "        self.y = y\n",
    "\n",
    "    def move(self, dx, dy):\n",
    "        self.x += dx\n",
    "        self.y += dy\n",
    "\n",
    "class Circle(Point):\n",
    "    def __init__(self, x, y, r):\n",
    "        print('__init__ of Circle')\n",
    "        super().__init__(x, y)\n",
    "        self.r = r\n",
    "\n",
    "    def area(self):\n",
    "        return self.r * self.r * 3.14"
   ]
  },
  {
   "cell_type": "code",
   "execution_count": 23,
   "id": "d52f4df8-37a6-42fb-9e6a-ef0eff16f10c",
   "metadata": {},
   "outputs": [
    {
     "name": "stdout",
     "output_type": "stream",
     "text": [
      "__init__ of Circle\n",
      "__init__ of Point\n",
      "<__main__.Circle object at 0x7f8b204dba30>\n",
      "2\n",
      "3\n",
      "10\n",
      "6\n",
      "8\n",
      "314.0\n"
     ]
    }
   ],
   "source": [
    "c = Circle(2, 3, 10)   # __init__ of Circle\n",
    "                              # __init__ of Point\n",
    "print(c)          # <shapes.Circle instance at 0x7fb58c31ccb0>\n",
    "print(c.x)        # 2\n",
    "print(c.y)        # 3\n",
    "print(c.r)        # 10\n",
    "\n",
    "c.move(4, 5)\n",
    "print(c.x)        # 6\n",
    "print(c.y)        # 8\n",
    "print(c.area())   # 314.0"
   ]
  },
  {
   "cell_type": "markdown",
   "id": "e26011d5-ebd3-4e14-b8c8-73f32ea72e6a",
   "metadata": {},
   "source": [
    "## Inheritance - another level"
   ]
  },
  {
   "cell_type": "code",
   "execution_count": 24,
   "id": "66c6319d-6636-4473-962c-313daa26c8b2",
   "metadata": {},
   "outputs": [
    {
     "name": "stdout",
     "output_type": "stream",
     "text": [
      "__init__ of Ball\n",
      "__init__ of Circle\n",
      "__init__ of Point\n",
      "<__main__.Ball object at 0x7f8b204c8100>\n",
      "254.34\n"
     ]
    }
   ],
   "source": [
    "class Point:\n",
    "    def __init__(self, x, y):\n",
    "        print('__init__ of Point')\n",
    "        self.x = x\n",
    "        self.y = y\n",
    "\n",
    "class Circle(Point):\n",
    "    def __init__(self, x, y, r):\n",
    "        print('__init__ of Circle')\n",
    "        super().__init__(x, y)\n",
    "        self.r = r\n",
    "\n",
    "    def area(self):\n",
    "        return self.r * self.r * 3.14\n",
    "\n",
    "class Ball(Circle):\n",
    "    def __init__(self, x, y, r, z):\n",
    "        print('__init__ of Ball')\n",
    "        super().__init__(x, y, r)\n",
    "        self.z = z\n",
    "\n",
    "\n",
    "b = Ball(2, 3, 9, 7)\n",
    "print(b)\n",
    "print(b.area())\n",
    "\n",
    "# __init__ of Ball\n",
    "# __init__ of Circle\n",
    "# __init__ of Point\n",
    "# <__main__.Ball object at 0x103dea190>\n",
    "# 254.34"
   ]
  },
  {
   "cell_type": "code",
   "execution_count": 38,
   "id": "312d6ead-d0a3-4c67-ba04-84a2b5416ab0",
   "metadata": {},
   "outputs": [
    {
     "name": "stdout",
     "output_type": "stream",
     "text": [
      "__init__ of Ball\n",
      "__init__ of Circle\n",
      "__init__ of Point\n",
      "<__main__.Ball object at 0x7f8b201bef70>\n",
      "254.34\n",
      "3052.08\n"
     ]
    }
   ],
   "source": [
    "class Point:\n",
    "    def __init__(self, x, y):\n",
    "        print('__init__ of Point')\n",
    "        self.x = x\n",
    "        self.y = y\n",
    "\n",
    "class Circle(Point):\n",
    "    def __init__(self, x, y, r):\n",
    "        print('__init__ of Circle')\n",
    "        super().__init__(x, y)\n",
    "        self.r = r\n",
    "\n",
    "    def area(self):\n",
    "        return self.r * self.r * 3.14\n",
    "\n",
    "class Ball(Circle):\n",
    "    def __init__(self, x, y, r, z):\n",
    "        print('__init__ of Ball')\n",
    "        super().__init__(x, y, r)\n",
    "        self.z = z\n",
    "\n",
    "    def move(self, dx, dy, dz):\n",
    "        self.x += dx\n",
    "        self.y += dy\n",
    "        self.z += dz\n",
    "\n",
    "    def volume(self):\n",
    "        return 4/3 * 3.14 * self.r * self.r * self.r\n",
    "\n",
    "b = Ball(2, 3, 9, 7)\n",
    "print(b)\n",
    "print(b.area())\n",
    "print(b.volume())"
   ]
  },
  {
   "cell_type": "markdown",
   "id": "dd684185-27ad-4f4f-98b8-03d0a45e9f00",
   "metadata": {},
   "source": [
    "## Modes of method inheritance"
   ]
  },
  {
   "cell_type": "markdown",
   "id": "9055a4b6-6721-4049-aa67-4aa7993e30a6",
   "metadata": {},
   "source": [
    "- Implicit\n",
    "- Override\n",
    "- Extend\n",
    "- Delegate - Provide\n",
    "- Composition"
   ]
  },
  {
   "cell_type": "markdown",
   "id": "1cebf3dd-8580-4481-896c-29e17d8dabdc",
   "metadata": {},
   "source": [
    "## Modes of method inheritance - implicit"
   ]
  },
  {
   "cell_type": "code",
   "execution_count": 27,
   "id": "ab32e4ab-aeb0-4205-99aa-18db8276c196",
   "metadata": {},
   "outputs": [
    {
     "name": "stdout",
     "output_type": "stream",
     "text": [
      "Hello World\n",
      "Hello World\n"
     ]
    }
   ],
   "source": [
    "class Parent:\n",
    "    def greet(self):\n",
    "        print(\"Hello World\")\n",
    "\n",
    "class Child(Parent):\n",
    "    pass\n",
    "\n",
    "p = Parent()\n",
    "p.greet()    # Hello World\n",
    "\n",
    "c  = Child()\n",
    "c.greet()    # Hello World"
   ]
  },
  {
   "cell_type": "markdown",
   "id": "87810f2a-192a-4a60-a95f-9a9387f35db4",
   "metadata": {},
   "source": [
    "## Modes of method inheritance - override"
   ]
  },
  {
   "cell_type": "code",
   "execution_count": 28,
   "id": "ccf8adac-f96a-48ed-86f1-b4d516582050",
   "metadata": {},
   "outputs": [
    {
     "name": "stdout",
     "output_type": "stream",
     "text": [
      "Hello World\n",
      "\n",
      "Hi five!\n"
     ]
    }
   ],
   "source": [
    "class Parent():\n",
    "    def greet(self):\n",
    "        print(\"Hello World\")\n",
    "\n",
    "class Child(Parent):\n",
    "    def greet(self):\n",
    "        print(\"Hi five!\")\n",
    "\n",
    "p = Parent()\n",
    "p.greet()\n",
    "print()\n",
    "\n",
    "c  = Child()\n",
    "c.greet()"
   ]
  },
  {
   "cell_type": "markdown",
   "id": "e5cc75c1-7869-4b01-bb89-b797ff934734",
   "metadata": {},
   "source": [
    "## Modes of method inheritance - extend"
   ]
  },
  {
   "cell_type": "markdown",
   "id": "56491996-1bd3-43bc-99fb-44f6e5dee61b",
   "metadata": {},
   "source": [
    "- Extend method before or after calling original."
   ]
  },
  {
   "cell_type": "code",
   "execution_count": 29,
   "id": "cd4bbd15-6b95-4ec7-b62b-6634f3ce84ed",
   "metadata": {},
   "outputs": [
    {
     "name": "stdout",
     "output_type": "stream",
     "text": [
      "Hello World\n",
      "\n",
      "Hi five!\n",
      "Hello World\n",
      "This is my world!\n"
     ]
    }
   ],
   "source": [
    "class Parent():\n",
    "    def greet(self):\n",
    "        print(\"Hello World\")\n",
    "\n",
    "class Child(Parent):\n",
    "    def greet(self):\n",
    "        print(\"Hi five!\")\n",
    "        super().greet()\n",
    "        print(\"This is my world!\")\n",
    "\n",
    "p = Parent()\n",
    "p.greet()\n",
    "print()\n",
    "\n",
    "c  = Child()\n",
    "c.greet()"
   ]
  },
  {
   "cell_type": "markdown",
   "id": "22040478-397d-476a-89f5-c27430bf22e3",
   "metadata": {},
   "source": [
    "## Modes of method inheritance - delegate - provide"
   ]
  },
  {
   "cell_type": "markdown",
   "id": "c638aee8-a5cd-4733-9d33-fdfc7cb9bfd0",
   "metadata": {},
   "source": [
    "- Let the child implement the functionality."
   ]
  },
  {
   "cell_type": "code",
   "execution_count": 30,
   "id": "10d1fcd9-ef3f-4a41-8cf6-ad578f9972e9",
   "metadata": {},
   "outputs": [
    {
     "name": "stdout",
     "output_type": "stream",
     "text": [
      "Hello Foo\n"
     ]
    }
   ],
   "source": [
    "class Parent():\n",
    "    def greet(self):\n",
    "        print(\"Hello\", self.get_name())\n",
    "\n",
    "class Child(Parent):\n",
    "    def __init__(self, name):\n",
    "        self.name = name\n",
    "\n",
    "    def get_name(self):\n",
    "        return self.name\n",
    "\n",
    "# Should not create instance from Parent\n",
    "p = Parent()\n",
    "# p.greet()    # AttributeError: 'Parent' object has no attribute 'get_name'\n",
    "\n",
    "c  = Child('Foo')\n",
    "c.greet()    # Hello Foo"
   ]
  },
  {
   "cell_type": "markdown",
   "id": "9bfd9437-d4a7-45b2-8afb-c39b0e49c479",
   "metadata": {},
   "source": [
    "- Should we have a version of greet() in the Parent that throws an exception?\n",
    "- Do we want to allow the creation of instance of the Parent class?\n",
    "- **Abstract Base Class (abc)**"
   ]
  },
  {
   "cell_type": "markdown",
   "id": "fc38da51-93b4-49d3-aa95-11fb9521a9db",
   "metadata": {},
   "source": [
    "## Composition - Line"
   ]
  },
  {
   "cell_type": "markdown",
   "id": "27b6230f-a781-4d14-9793-d07cae1ed0ca",
   "metadata": {},
   "source": [
    "- When an object holds references to one or more other objects.\n",
    "\n",
    "- **Pythagorean theorem**"
   ]
  },
  {
   "cell_type": "code",
   "execution_count": 31,
   "id": "1b2880c6-60af-46a2-bd59-a39512b0f101",
   "metadata": {},
   "outputs": [],
   "source": [
    "class Point():\n",
    "    def __init__(self, x, y):\n",
    "        self.x = x\n",
    "        self.y = y\n",
    "\n",
    "class Line():\n",
    "    def __init__(self, a, b):\n",
    "        self.a = a\n",
    "        self.b = b\n",
    "\n",
    "    def length(self):\n",
    "        return ((self.a.x - self.b.x) ** 2 + (self.a.y - self.b.y) ** 2) ** 0.5"
   ]
  },
  {
   "cell_type": "code",
   "execution_count": 32,
   "id": "2efacf2b-66ab-4ada-926a-9a03c7c72a06",
   "metadata": {},
   "outputs": [
    {
     "name": "stdout",
     "output_type": "stream",
     "text": [
      "<__main__.Point object at 0x7f8b201be520>\n",
      "<__main__.Point object at 0x7f8b201be730>\n",
      "5.0\n",
      "<__main__.Line object at 0x7f8b201b0c10>\n"
     ]
    }
   ],
   "source": [
    "p1 = Point(2, 3)\n",
    "p2 = Point(5, 7)\n",
    "blue_line = Line(p1, p2)\n",
    "\n",
    "print(blue_line.a) # <__main__.Point object at 0x0000022174B637B8>\n",
    "print(blue_line.b) # <__main__.Point object at 0x0000022174B3C7B8>\n",
    "print(blue_line.length())   # 5.0\n",
    "\n",
    "xl = Line(4, 6)\n",
    "print(xl)  # <__main__.Line object at 0x7fb15f8f5ee0>"
   ]
  },
  {
   "cell_type": "markdown",
   "id": "a026a2a5-7256-44ff-afc7-c106f0ad8481",
   "metadata": {},
   "source": [
    "## Composition - Line with type annotation"
   ]
  },
  {
   "cell_type": "code",
   "execution_count": 33,
   "id": "a1d83c79-9d1d-46bf-9379-687613e5a233",
   "metadata": {},
   "outputs": [
    {
     "name": "stdout",
     "output_type": "stream",
     "text": [
      "<__main__.Point object at 0x7f8b322c39a0>\n",
      "<__main__.Point object at 0x7f8b322c3a60>\n",
      "5.0\n",
      "<__main__.Line object at 0x7f8b322c3d30>\n"
     ]
    }
   ],
   "source": [
    "class Point():\n",
    "    def __init__(self, x, y):\n",
    "        self.x = x\n",
    "        self.y = y\n",
    "\n",
    "class Line():\n",
    "    def __init__(self, a:Point, b:Point):\n",
    "        self.a = a\n",
    "        self.b = b\n",
    "\n",
    "    def length(self):\n",
    "        return ((self.a.x - self.b.x) ** 2 + (self.a.y - self.b.y) ** 2) ** 0.5\n",
    "\n",
    "p1 = Point(2, 3)\n",
    "p2 = Point(5, 7)\n",
    "blue_line = Line(p1, p2)\n",
    "\n",
    "print(blue_line.a) # <__main__.Point object at 0x0000022174B637B8>\n",
    "print(blue_line.b) # <__main__.Point object at 0x0000022174B3C7B8>\n",
    "print(blue_line.length())   # 5.0\n",
    "\n",
    "xl = Line(4, 6)\n",
    "print(xl)  # <__main__.Line object at 0x7fb15f8f5ee0>"
   ]
  },
  {
   "cell_type": "markdown",
   "id": "02e12e16-835f-47a6-b447-a56246c6ccdd",
   "metadata": {},
   "source": [
    "## Hidden attributes"
   ]
  },
  {
   "cell_type": "code",
   "execution_count": null,
   "id": "7f3ce91b-d2e4-4d3d-89bc-dec3e5d32ade",
   "metadata": {},
   "outputs": [],
   "source": [
    "- Primarily useful to ensure inheriting classes don't accidently overwrite attributes."
   ]
  },
  {
   "cell_type": "code",
   "execution_count": 34,
   "id": "45827a44-81ad-419c-a885-040ae32939c1",
   "metadata": {},
   "outputs": [
    {
     "name": "stdout",
     "output_type": "stream",
     "text": [
      "lake\n",
      "['_Thing__hidden', '__class__', '__delattr__', '__dict__', '__dir__', '__doc__', '__eq__', '__format__', '__ge__', '__getattribute__', '__gt__', '__hash__', '__init__', '__init_subclass__', '__le__', '__lt__', '__module__', '__ne__', '__new__', '__reduce__', '__reduce_ex__', '__repr__', '__setattr__', '__sizeof__', '__str__', '__subclasshook__', '__weakref__', 'get_hidden']\n",
      "lake\n",
      "Not any more\n"
     ]
    }
   ],
   "source": [
    "class Thing:\n",
    "    def __init__(self):\n",
    "        self.__hidden = 'lake'\n",
    "\n",
    "    def get_hidden(self):\n",
    "        return self.__hidden\n",
    "\n",
    "\n",
    "t = Thing()\n",
    "#print(t.__hidden)  # AttributeError: 'Thing' object has no attribute '__hidden'\n",
    "\n",
    "print(t.get_hidden())    # lake\n",
    "\n",
    "print(dir(t))            # ['_Thing__hidden',  ...]\n",
    "\n",
    "print(t._Thing__hidden)  # lake\n",
    "\n",
    "t._Thing__hidden = 'Not any more'\n",
    "print(t._Thing__hidden)  # Not any more"
   ]
  },
  {
   "cell_type": "markdown",
   "id": "bc3141a5-5f30-40e2-8b12-a4e9740fabab",
   "metadata": {},
   "source": [
    "## Hidden attributes in a subclass"
   ]
  },
  {
   "cell_type": "code",
   "execution_count": 35,
   "id": "bc246056-77f1-4a41-9521-3246654ecfee",
   "metadata": {},
   "outputs": [
    {
     "name": "stdout",
     "output_type": "stream",
     "text": [
      "['_SubThing__hidden', '_Thing__hidden', '__class__', '__delattr__', '__dict__', '__dir__', '__doc__', '__eq__', '__format__', '__ge__', '__getattribute__', '__gt__', '__hash__', '__init__', '__init_subclass__', '__le__', '__lt__', '__module__', '__ne__', '__new__', '__reduce__', '__reduce_ex__', '__repr__', '__setattr__', '__sizeof__', '__str__', '__subclasshook__', '__weakref__', 'get_hidden', 'get_sub_hidden']\n",
      "lake\n",
      "river\n",
      "lake\n",
      "river\n"
     ]
    }
   ],
   "source": [
    "class SubThing(Thing):\n",
    "    def __init__(self):\n",
    "        super().__init__()\n",
    "        self.__hidden = 'river'\n",
    "\n",
    "    def get_sub_hidden(self):\n",
    "        return self.__hidden\n",
    "\n",
    "st = SubThing()\n",
    "print(dir(st))\n",
    "print(st._Thing__hidden)\n",
    "print(st._SubThing__hidden)\n",
    "\n",
    "\n",
    "print(st.get_hidden())\n",
    "print(st.get_sub_hidden())"
   ]
  },
  {
   "cell_type": "markdown",
   "id": "bd266ea5-1115-4079-a7f0-ee9e3ce7998c",
   "metadata": {},
   "source": [
    "## Some comments"
   ]
  },
  {
   "cell_type": "markdown",
   "id": "80f41db4-b3fa-4b59-b732-a2179b79573a",
   "metadata": {},
   "source": [
    "- There are no private attributes. \n",
    "- The convention is to use leading underscore to communicate to other developers what is private.\n",
    "- Using the name self for the current object is just a consensus.\n"
   ]
  },
  {
   "cell_type": "markdown",
   "id": "45693f80-adfd-48d7-9daf-36ec48f1c189",
   "metadata": {},
   "source": [
    "## Exercise: Add move_rad to based on radians"
   ]
  },
  {
   "cell_type": "code",
   "execution_count": 37,
   "id": "a425e7b5-f6d5-46c7-a1fe-76e7988efe8d",
   "metadata": {},
   "outputs": [],
   "source": [
    "import math\n",
    "\n",
    "class Point:\n",
    "    def __init__(self, x, y):\n",
    "        self.x = x\n",
    "        self.y = y\n",
    "\n",
    "    def move(self, dx, dy):\n",
    "        self.x += dx\n",
    "        self.y += dy\n",
    "\n",
    "    def move_rad(self, dist, angle):\n",
    "        dx = dist * math.cos(angle)\n",
    "        dy = dist * math.sin(angle)\n",
    "        self.move(dx, dy)\n"
   ]
  },
  {
   "cell_type": "markdown",
   "id": "c82f48bd-6beb-46fb-87ff-16732a6d0703",
   "metadata": {},
   "source": [
    "## Exercise: Polygon"
   ]
  },
  {
   "cell_type": "markdown",
   "id": "58641f3f-0ea0-48f4-b05b-f34062e03a30",
   "metadata": {},
   "source": [
    "- Implement a class representing a Point.\n",
    "- Make the printing of a point instance nice.\n",
    "- Implement a class representing a Polygon. (A list of points)\n",
    "- Allow the user to \"move a polygon\" calling poly.move(dx, dy) that will change the coordinates of every point by (dx, dy)"
   ]
  },
  {
   "cell_type": "code",
   "execution_count": null,
   "id": "d3a3f753-c67a-4f27-aef7-eca13ae84a44",
   "metadata": {},
   "outputs": [],
   "source": [
    "class Point():\n",
    "    pass\n",
    "\n",
    "class Polygon():\n",
    "    pass\n",
    "\n",
    "p1 = Point(0, 0)  # Point(0, 0)\n",
    "p2 = Point(5, 7)  # Point(5, 7)\n",
    "p3 = Point(4, 9)  # Point(4, 9)\n",
    "print(p1)\n",
    "print(p2)\n",
    "print(p3)\n",
    "p1.move(2, 3)\n",
    "print(p1)         # Point(2, 3)\n",
    "\n",
    "poly = Polygon(p1, p2, p3)\n",
    "print(poly)       # Polygon(Point(2, 3), Point(5, 7), Point(4, 9))\n",
    "poly.move(-1, 1)\n",
    "print(poly)       # Polygon(Point(1, 4), Point(4, 8), Point(3, 10))"
   ]
  },
  {
   "cell_type": "markdown",
   "id": "8033a41d-3043-439f-b30c-f681c3fab669",
   "metadata": {},
   "source": [
    "## Exercise: Library"
   ]
  },
  {
   "cell_type": "markdown",
   "id": "858e8aeb-ff50-4a4b-af7c-30b27c82ffaa",
   "metadata": {},
   "source": [
    "- Create a class hierarchy to represent a library that will be able to represent the following entities.\n",
    "\n",
    "> - Author (name, birthdate, books)\n",
    ">\n",
    "> - Book (title, author, language, who_has_it_now?, is_on_waiting_list_for_whom?)\n",
    "> \n",
    "> - Reader (name, birthdate, books_currently_lending)\n",
    ">\n",
    "> - Methods: `write_book(title, language,)`"
   ]
  },
  {
   "cell_type": "code",
   "execution_count": 41,
   "id": "f670a363-4183-42c1-8f2b-3ae2413c5b7f",
   "metadata": {},
   "outputs": [],
   "source": [
    "class Author:\n",
    "    def __init__(self, name, birthdate):\n",
    "        self.name = name\n",
    "        self.birthdate = birthdate\n",
    "        self.books = []\n",
    "\n",
    "class Book:\n",
    "    def __init__(self, title, author, language):\n",
    "        self.title = title\n",
    "        self.author = author\n",
    "        self.language = language\n",
    "        self.who_has_it_now = None\n",
    "        self.is_on_waiting_list_for_whom = None\n",
    "\n",
    "class Reader:\n",
    "    def __init__(self, name, birthdate):\n",
    "        self.name = name\n",
    "        self.birthdate = birthdate\n",
    "        self.books_currently_lending = []\n",
    "\n",
    "    def lend_book(self, book):\n",
    "        self.books_currently_lending.append(book)\n",
    "\n",
    "    def return_book(self, book):\n",
    "        if book in self.books_currently_lending:\n",
    "            self.books_currently_lending.remove(book)\n",
    "\n",
    "class Library:\n",
    "    def __init__(self):\n",
    "        self.authors = []\n",
    "        self.books = []\n",
    "        self.readers = []\n",
    "\n",
    "    def add_author(self, author):\n",
    "        self.authors.append(author)\n",
    "\n",
    "    def add_book(self, book):\n",
    "        self.books.append(book)\n",
    "\n",
    "    def add_reader(self, reader):\n",
    "        self.readers.append(reader)\n",
    "\n",
    "    def write_book(self, title, author_name, language):\n",
    "        # Check if the author already exists\n",
    "        for author in self.authors:\n",
    "            if author.name == author_name:\n",
    "                new_book = Book(title, author, language)\n",
    "                author.books.append(new_book)\n",
    "                self.books.append(new_book)\n",
    "                return new_book\n",
    "\n",
    "        # If the author doesn't exist, create a new one\n",
    "        new_author = Author(author_name, None)\n",
    "        new_book = Book(title, new_author, language)\n",
    "        new_author.books.append(new_book)\n",
    "        self.authors.append(new_author)\n",
    "        self.books.append(new_book)\n",
    "        return new_book\n"
   ]
  },
  {
   "cell_type": "markdown",
   "id": "edbdc301-61cc-4aaa-8105-7f164aa7b693",
   "metadata": {},
   "source": [
    "## Exercise: Bookexchange"
   ]
  },
  {
   "cell_type": "markdown",
   "id": "16e567bd-a662-4139-9f68-cb699b411224",
   "metadata": {},
   "source": [
    "- It is like the library example, but instead of having a central library with books, each person owns and lends out books to other people."
   ]
  },
  {
   "cell_type": "code",
   "execution_count": 43,
   "id": "788cf5a4-ed93-4017-ab5d-96c00242f5bc",
   "metadata": {},
   "outputs": [
    {
     "name": "stdout",
     "output_type": "stream",
     "text": [
      "[<__main__.Book object at 0x7f8b202f5610>]\n",
      "[<__main__.Book object at 0x7f8b203e3e20>]\n"
     ]
    }
   ],
   "source": [
    "class Person:\n",
    "    def __init__(self, name, birthdate):\n",
    "        self.name = name\n",
    "        self.birthdate = birthdate\n",
    "        self.books = []\n",
    "\n",
    "    def lend_book(self, book, person):\n",
    "        if book in self.books:\n",
    "            self.books.remove(book)\n",
    "            person.borrow_book(book, self)\n",
    "\n",
    "    def borrow_book(self, book, person):\n",
    "        self.books.append(book)\n",
    "        person.return_book(book, self)\n",
    "        \n",
    "    def return_book(self, book, person):\n",
    "        if book in self.books:\n",
    "            self.books.remove(book)\n",
    "            person.borrow_book(book, self)\n",
    "\n",
    "\n",
    "\n",
    "class Book:\n",
    "    def __init__(self, title, language):\n",
    "        self.title = title\n",
    "        self.language = language\n",
    "        self.owner = None\n",
    "        self.borrower = None\n",
    "\n",
    "    def lend(self, person):\n",
    "        if self.owner is not None and self.owner != person:\n",
    "            self.owner.lend_book(self, person)\n",
    "\n",
    "    def return_book(self, person):\n",
    "        if self.borrower is not None and self.borrower == person:\n",
    "            self.borrower.return_book(self)\n",
    "\n",
    "library = []\n",
    "\n",
    "person1 = Person(\"John\", \"1990-01-01\")\n",
    "person2 = Person(\"Alice\", \"1995-05-10\")\n",
    "\n",
    "book1 = Book(\"Book 1\", \"English\")\n",
    "book2 = Book(\"Book 2\", \"French\")\n",
    "\n",
    "person1.books.append(book1)\n",
    "person2.books.append(book2)\n",
    "\n",
    "book1.owner = person1\n",
    "book2.owner = person2\n",
    "\n",
    "person2.lend_book(book2, person1)\n",
    "person1.lend_book(book1, person2)\n",
    "\n",
    "print(person1.books)  # [book2]\n",
    "print(person2.books)  # [book1]\n"
   ]
  },
  {
   "cell_type": "markdown",
   "id": "eb4efb69-2ba2-4cb8-8d3a-b3d7ff2e4b12",
   "metadata": {},
   "source": [
    "## Exercise: Represent turtle graphics"
   ]
  },
  {
   "cell_type": "markdown",
   "id": "5d443cc9-59bb-4117-a87d-fbbdfd1f25dc",
   "metadata": {},
   "source": [
    "- There is a cursor (or turtle) in the x-y two-dimensional sphere. It has some (x,y) coordinates. It can go forward n pixels. It can turn left n degrees. It can lift up the pencil or put it down.\n",
    "\n"
   ]
  },
  {
   "cell_type": "code",
   "execution_count": 44,
   "id": "ba0270a4-29a5-413f-9118-6de73077a7bf",
   "metadata": {},
   "outputs": [
    {
     "name": "stdout",
     "output_type": "stream",
     "text": [
      "Drawing line from (0, 0) to (100.0, 0.0)\n",
      "Drawing line from (100.0, 0.0) to (100.0, 50.0)\n",
      "Drawing line from (100.0, 80.0) to (100.0, 160.0)\n"
     ]
    }
   ],
   "source": [
    "import math\n",
    "\n",
    "class Cursor:\n",
    "    def __init__(self, x=0, y=0):\n",
    "        self.x = x\n",
    "        self.y = y\n",
    "        self.heading = 0  # Initial heading (in degrees)\n",
    "        self.pencil_down = True  # Pencil is initially down\n",
    "\n",
    "    def forward(self, distance):\n",
    "        radian_angle = math.radians(self.heading)\n",
    "        new_x = self.x + distance * math.cos(radian_angle)\n",
    "        new_y = self.y + distance * math.sin(radian_angle)\n",
    "\n",
    "        if self.pencil_down:\n",
    "            self.draw_line(self.x, self.y, new_x, new_y)\n",
    "\n",
    "        self.x = new_x\n",
    "        self.y = new_y\n",
    "\n",
    "    def turn_left(self, angle):\n",
    "        self.heading += angle\n",
    "\n",
    "    def lift_pencil(self):\n",
    "        self.pencil_down = False\n",
    "\n",
    "    def put_pencil_down(self):\n",
    "        self.pencil_down = True\n",
    "\n",
    "    def draw_line(self, x1, y1, x2, y2):\n",
    "        print(f\"Drawing line from ({x1}, {y1}) to ({x2}, {y2})\")\n",
    "\n",
    "# Example usage:\n",
    "cursor = Cursor(0, 0)\n",
    "cursor.forward(100)\n",
    "cursor.turn_left(90)\n",
    "cursor.forward(50)\n",
    "cursor.lift_pencil()\n",
    "cursor.forward(30)\n",
    "cursor.put_pencil_down()\n",
    "cursor.forward(80)\n"
   ]
  }
 ],
 "metadata": {
  "kernelspec": {
   "display_name": "Python 3 (ipykernel)",
   "language": "python",
   "name": "python3"
  },
  "language_info": {
   "codemirror_mode": {
    "name": "ipython",
    "version": 3
   },
   "file_extension": ".py",
   "mimetype": "text/x-python",
   "name": "python",
   "nbconvert_exporter": "python",
   "pygments_lexer": "ipython3",
   "version": "3.9.7"
  }
 },
 "nbformat": 4,
 "nbformat_minor": 5
}
