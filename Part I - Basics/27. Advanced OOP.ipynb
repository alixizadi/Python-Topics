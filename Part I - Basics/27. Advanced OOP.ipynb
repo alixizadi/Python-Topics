{
 "cells": [
  {
   "cell_type": "code",
   "execution_count": null,
   "id": "2c38cab6-d04f-47ef-949e-180a93608d9a",
   "metadata": {},
   "outputs": [],
   "source": [
    "Why Object Oriented Programming?\n",
    "Generic Object Oriented Programming terms\n",
    "OOP in Python\n",
    "OOP in Python (numbers, strings, lists)\n",
    "OOP in Python (argparse)\n",
    "Create a class\n",
    "Create instance of class\n",
    "Import module containing class\n",
    "Import class from module\n",
    "Initialize instance (not a constructor)\n",
    "Self is the instance\n",
    "Init uses same name as attribute and getters\n",
    "Initialize an instance - (not a constructor), attributes and getters\n",
    "Setters - assign to the attributes\n",
    "Attributes are not special\n",
    "Private attributes\n",
    "Methods\n",
    "Inheritance\n",
    "Inheritance - another level\n",
    "Modes of method inheritance\n",
    "Modes of method inheritance - implicit\n",
    "Modes of method inheritance - override\n",
    "Modes of method inheritance - extend\n",
    "Modes of method inheritance - delegate - provide\n",
    "Composition - Line\n",
    "Composition - Line with type annotation\n",
    "Hidden attributes\n",
    "Hidden attributes in a subclass\n",
    "Some comments\n",
    "Exercise: Add move_rad to based on radians\n",
    "Exercise: Improve previous examples\n",
    "Exercise: Polygon\n",
    "Exercise: Number\n",
    "Exercise: Library\n",
    "Exercise: Bookexchange\n",
    "Exercise: Represent turtle graphics\n",
    "Solution - Polygon"
   ]
  }
 ],
 "metadata": {
  "kernelspec": {
   "display_name": "Python 3 (ipykernel)",
   "language": "python",
   "name": "python3"
  },
  "language_info": {
   "codemirror_mode": {
    "name": "ipython",
    "version": 3
   },
   "file_extension": ".py",
   "mimetype": "text/x-python",
   "name": "python",
   "nbconvert_exporter": "python",
   "pygments_lexer": "ipython3",
   "version": "3.9.7"
  }
 },
 "nbformat": 4,
 "nbformat_minor": 5
}
