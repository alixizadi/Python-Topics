{
 "cells": [
  {
   "cell_type": "markdown",
   "id": "0df12745-0686-48d1-9e38-c524b554681b",
   "metadata": {},
   "source": [
    "## Exception Handling"
   ]
  },
  {
   "cell_type": "markdown",
   "id": "3139d7e1-e93d-4d7f-9778-2be2704cd562",
   "metadata": {},
   "source": [
    "- Exception handling in Python is a mechanism that allows you to handle and recover from errors or exceptional situations that occur during program execution.\n",
    "- It helps you avoid program crashes and provides a way to gracefully handle unexpected conditions. \n",
    "\n",
    "- The general syntax for exception handling in Python is as follows:\n",
    "\n",
    "```python\n",
    "try:\n",
    "    # Block of code where an exception might occur\n",
    "    # ...\n",
    "except ExceptionType1:\n",
    "    # Code to handle ExceptionType1\n",
    "    # ...\n",
    "except ExceptionType2:\n",
    "    # Code to handle ExceptionType2\n",
    "    # ...\n",
    "else:\n",
    "    # Optional block executed if no exception occurs in the try block\n",
    "    # ...\n",
    "finally:\n",
    "    # Optional block executed regardless of whether an exception occurred or not\n",
    "    # ...\n",
    "```"
   ]
  },
  {
   "cell_type": "markdown",
   "id": "b9f67ebf-e142-4584-9d52-9edd28d4c125",
   "metadata": {},
   "source": [
    "- Here's an explanation of each part:\n",
    "\n",
    "- `try`: The block of code where an exception might occur is placed under the `try` statement.\n",
    "- `except`: If an exception of a specific type occurs within the `try` block, it is caught by the corresponding `except` block, which contains code to handle that particular exception type.\n",
    "- `else` (optional): This block is executed if no exception occurs in the `try` block. It is typically used to define code that should run only when no exceptions are raised.\n",
    "- `finally` (optional): This block is executed regardless of whether an exception occurred or not. It is often used to define cleanup code that should always run, such as closing files or releasing resources."
   ]
  },
  {
   "cell_type": "markdown",
   "id": "347c018b-4f24-4343-8985-f5401ec7eff1",
   "metadata": {},
   "source": [
    "## Handling a specific exception\n",
    "\n",
    "```python\n",
    "try:\n",
    "    num = int(input(\"Enter a number: \"))\n",
    "    result = 10 / num\n",
    "    print(\"Result:\", result)\n",
    "except ValueError:\n",
    "    print(\"Invalid input. Please enter a valid number.\")\n",
    "except ZeroDivisionError:\n",
    "    print(\"Cannot divide by zero.\")\n",
    "```\n",
    "\n",
    "- If the user enters a non-numeric value, a `ValueError` is raised and caught by the first `except` block. If the user enters zero, a `ZeroDivisionError` is raised and caught by the second `except` block."
   ]
  },
  {
   "cell_type": "markdown",
   "id": "ab429a0d-a155-427a-9344-e981d754a1fe",
   "metadata": {},
   "source": [
    "## Handling multiple exceptions"
   ]
  },
  {
   "cell_type": "code",
   "execution_count": 3,
   "id": "6f48954d-21aa-42f8-9d17-c31591d48137",
   "metadata": {},
   "outputs": [
    {
     "name": "stdout",
     "output_type": "stream",
     "text": [
      "File not found.\n"
     ]
    }
   ],
   "source": [
    "try:\n",
    "    file = open(\"myfile.txt\", \"r\")\n",
    "    content = file.read()\n",
    "    file.close()\n",
    "    print(\"File content:\", content)\n",
    "except FileNotFoundError:\n",
    "    print(\"File not found.\")\n",
    "except IOError:\n",
    "    print(\"An I/O error occurred while reading the file.\")"
   ]
  },
  {
   "cell_type": "markdown",
   "id": "f6c5a762-c5a7-4d1d-9e21-e2b7a637e519",
   "metadata": {},
   "source": [
    "- In this example, the program attempts to open a file called \"myfile.txt\" and read its content. If the file is not found, a `FileNotFoundError` is raised and caught by the first `except` block. If an I/O error occurs during file reading, an `IOError` is raised and caught by the second `except` block."
   ]
  },
  {
   "cell_type": "markdown",
   "id": "9a41f11b-1add-445d-a79f-5992b9f38b35",
   "metadata": {},
   "source": [
    "## Using the `else` and `finally` blocks\n",
    "\n",
    "```python\n",
    "try:\n",
    "    # Some operations\n",
    "except ExceptionType:\n",
    "    # Handling code\n",
    "else:\n",
    "    # Code executed if no exception occurs\n",
    "finally:\n",
    "    # Cleanup code or finalization tasks\n",
    "```\n",
    "\n",
    "- In this example, the `else` block is used to define code that should run only if no exception occurs in the `try` block. The `finally` block is used for code that must be executed regardless of whether an exception occurred or not, such as releasing resources or closing files.\n",
    "\n",
    "- These are just a few examples of how exception handling can be done in Python. Remember that you can handle built-in exceptions or even create custom exceptions to handle specific situations in your code."
   ]
  },
  {
   "cell_type": "markdown",
   "id": "6e4c9da7-1040-41d8-b71e-10f519c636fc",
   "metadata": {},
   "source": [
    "## most commonly encountered exceptions in Python"
   ]
  },
  {
   "cell_type": "markdown",
   "id": "eebc8d10-b590-4cdd-bfa3-5282ada5ae00",
   "metadata": {},
   "source": [
    "## 1. SyntaxError:"
   ]
  },
  {
   "cell_type": "code",
   "execution_count": 4,
   "id": "628e6478-f432-43bf-abfc-11d8dc78e9c8",
   "metadata": {},
   "outputs": [
    {
     "ename": "SyntaxError",
     "evalue": "unexpected EOF while parsing (3827594681.py, line 4)",
     "output_type": "error",
     "traceback": [
      "\u001b[0;36m  Cell \u001b[0;32mIn[4], line 4\u001b[0;36m\u001b[0m\n\u001b[0;31m    # SyntaxError: unexpected EOF while parsing\u001b[0m\n\u001b[0m                                               ^\u001b[0m\n\u001b[0;31mSyntaxError\u001b[0m\u001b[0;31m:\u001b[0m unexpected EOF while parsing\n"
     ]
    }
   ],
   "source": [
    "# SyntaxError example\n",
    "print(\"Hello, world!\"\n",
    "\n",
    "# SyntaxError: unexpected EOF while parsing\n"
   ]
  },
  {
   "cell_type": "markdown",
   "id": "3328e09b-97e3-4bd9-b487-9bfbc8d18806",
   "metadata": {},
   "source": [
    "## 2. IndentationError:"
   ]
  },
  {
   "cell_type": "code",
   "execution_count": 6,
   "id": "410c3fcf-b115-4384-bcf3-0f2daddf530e",
   "metadata": {},
   "outputs": [
    {
     "ename": "IndentationError",
     "evalue": "expected an indented block (2633951619.py, line 3)",
     "output_type": "error",
     "traceback": [
      "\u001b[0;36m  Cell \u001b[0;32mIn[6], line 3\u001b[0;36m\u001b[0m\n\u001b[0;31m    print(\"Indented line inside the function\")\u001b[0m\n\u001b[0m    ^\u001b[0m\n\u001b[0;31mIndentationError\u001b[0m\u001b[0;31m:\u001b[0m expected an indented block\n"
     ]
    }
   ],
   "source": [
    "# IndentationError example\n",
    "def my_function():\n",
    "print(\"Indented line inside the function\")\n",
    "\n",
    "my_function()\n",
    "#IndentationError: expected an indented block\n"
   ]
  },
  {
   "cell_type": "markdown",
   "id": "ab375c21-8abc-4055-8974-f94e990a637f",
   "metadata": {},
   "source": [
    "## 3. NameError:"
   ]
  },
  {
   "cell_type": "code",
   "execution_count": 7,
   "id": "67aac4e9-1835-41ab-8de8-c50ca1c0e6e8",
   "metadata": {},
   "outputs": [
    {
     "ename": "NameError",
     "evalue": "name 'y' is not defined",
     "output_type": "error",
     "traceback": [
      "\u001b[0;31m---------------------------------------------------------------------------\u001b[0m",
      "\u001b[0;31mNameError\u001b[0m                                 Traceback (most recent call last)",
      "Cell \u001b[0;32mIn[7], line 2\u001b[0m\n\u001b[1;32m      1\u001b[0m x \u001b[38;5;241m=\u001b[39m \u001b[38;5;241m10\u001b[39m\n\u001b[0;32m----> 2\u001b[0m \u001b[38;5;28mprint\u001b[39m(\u001b[43my\u001b[49m)\n",
      "\u001b[0;31mNameError\u001b[0m: name 'y' is not defined"
     ]
    }
   ],
   "source": [
    "x = 10\n",
    "print(y)\n",
    "\n",
    "# NameError: name 'y' is not defined"
   ]
  },
  {
   "cell_type": "markdown",
   "id": "9e794982-5c3f-4f3e-9120-baf39e52b1a2",
   "metadata": {},
   "source": [
    "## 4. TypeError:"
   ]
  },
  {
   "cell_type": "code",
   "execution_count": 8,
   "id": "d29e00dd-81f9-4dfa-9d24-3785dd464f04",
   "metadata": {},
   "outputs": [
    {
     "ename": "TypeError",
     "evalue": "can only concatenate str (not \"int\") to str",
     "output_type": "error",
     "traceback": [
      "\u001b[0;31m---------------------------------------------------------------------------\u001b[0m",
      "\u001b[0;31mTypeError\u001b[0m                                 Traceback (most recent call last)",
      "Cell \u001b[0;32mIn[8], line 3\u001b[0m\n\u001b[1;32m      1\u001b[0m x \u001b[38;5;241m=\u001b[39m \u001b[38;5;124m\"\u001b[39m\u001b[38;5;124mHello\u001b[39m\u001b[38;5;124m\"\u001b[39m\n\u001b[1;32m      2\u001b[0m y \u001b[38;5;241m=\u001b[39m \u001b[38;5;241m10\u001b[39m\n\u001b[0;32m----> 3\u001b[0m result \u001b[38;5;241m=\u001b[39m \u001b[43mx\u001b[49m\u001b[43m \u001b[49m\u001b[38;5;241;43m+\u001b[39;49m\u001b[43m \u001b[49m\u001b[43my\u001b[49m\n",
      "\u001b[0;31mTypeError\u001b[0m: can only concatenate str (not \"int\") to str"
     ]
    }
   ],
   "source": [
    "x = \"Hello\"\n",
    "y = 10\n",
    "result = x + y\n",
    "\n",
    "#TypeError: can only concatenate str (not \"int\") to str"
   ]
  },
  {
   "cell_type": "markdown",
   "id": "47bd1a17-2626-4b50-bc06-b3548c1eaf6b",
   "metadata": {},
   "source": [
    "## 5. ValueError:"
   ]
  },
  {
   "cell_type": "code",
   "execution_count": 9,
   "id": "58f5e6e4-6b3d-4f89-b025-7e59c93b05bd",
   "metadata": {},
   "outputs": [
    {
     "name": "stdin",
     "output_type": "stream",
     "text": [
      "Enter your age:  -1\n"
     ]
    },
    {
     "ename": "ValueError",
     "evalue": "Age cannot be negative.",
     "output_type": "error",
     "traceback": [
      "\u001b[0;31m---------------------------------------------------------------------------\u001b[0m",
      "\u001b[0;31mValueError\u001b[0m                                Traceback (most recent call last)",
      "Cell \u001b[0;32mIn[9], line 3\u001b[0m\n\u001b[1;32m      1\u001b[0m age \u001b[38;5;241m=\u001b[39m \u001b[38;5;28mint\u001b[39m(\u001b[38;5;28minput\u001b[39m(\u001b[38;5;124m\"\u001b[39m\u001b[38;5;124mEnter your age: \u001b[39m\u001b[38;5;124m\"\u001b[39m))\n\u001b[1;32m      2\u001b[0m \u001b[38;5;28;01mif\u001b[39;00m age \u001b[38;5;241m<\u001b[39m \u001b[38;5;241m0\u001b[39m:\n\u001b[0;32m----> 3\u001b[0m     \u001b[38;5;28;01mraise\u001b[39;00m \u001b[38;5;167;01mValueError\u001b[39;00m(\u001b[38;5;124m\"\u001b[39m\u001b[38;5;124mAge cannot be negative.\u001b[39m\u001b[38;5;124m\"\u001b[39m)\n",
      "\u001b[0;31mValueError\u001b[0m: Age cannot be negative."
     ]
    }
   ],
   "source": [
    "age = int(input(\"Enter your age: \"))\n",
    "if age < 0:\n",
    "    raise ValueError(\"Age cannot be negative.\")\n",
    "\n",
    "#ValueError: Age cannot be negative."
   ]
  },
  {
   "cell_type": "markdown",
   "id": "292aec68-ad70-43a5-a1ba-c67352c222aa",
   "metadata": {},
   "source": [
    "## 6. IndexError:"
   ]
  },
  {
   "cell_type": "code",
   "execution_count": 10,
   "id": "d7adae88-0b83-458d-b602-56b20057d708",
   "metadata": {},
   "outputs": [
    {
     "ename": "IndexError",
     "evalue": "list index out of range",
     "output_type": "error",
     "traceback": [
      "\u001b[0;31m---------------------------------------------------------------------------\u001b[0m",
      "\u001b[0;31mIndexError\u001b[0m                                Traceback (most recent call last)",
      "Cell \u001b[0;32mIn[10], line 2\u001b[0m\n\u001b[1;32m      1\u001b[0m my_list \u001b[38;5;241m=\u001b[39m [\u001b[38;5;241m1\u001b[39m, \u001b[38;5;241m2\u001b[39m, \u001b[38;5;241m3\u001b[39m]\n\u001b[0;32m----> 2\u001b[0m \u001b[38;5;28mprint\u001b[39m(\u001b[43mmy_list\u001b[49m\u001b[43m[\u001b[49m\u001b[38;5;241;43m3\u001b[39;49m\u001b[43m]\u001b[49m)\n",
      "\u001b[0;31mIndexError\u001b[0m: list index out of range"
     ]
    }
   ],
   "source": [
    "my_list = [1, 2, 3]\n",
    "print(my_list[3])\n",
    "# IndexError: list index out of range"
   ]
  },
  {
   "cell_type": "markdown",
   "id": "eccf7706-09cc-43e1-9b04-3a9a0bffed8d",
   "metadata": {},
   "source": [
    "## 7. KeyError:"
   ]
  },
  {
   "cell_type": "code",
   "execution_count": 11,
   "id": "49889d0f-ee8c-4b99-8840-584d54757b14",
   "metadata": {},
   "outputs": [
    {
     "ename": "KeyError",
     "evalue": "'gender'",
     "output_type": "error",
     "traceback": [
      "\u001b[0;31m---------------------------------------------------------------------------\u001b[0m",
      "\u001b[0;31mKeyError\u001b[0m                                  Traceback (most recent call last)",
      "Cell \u001b[0;32mIn[11], line 2\u001b[0m\n\u001b[1;32m      1\u001b[0m my_dict \u001b[38;5;241m=\u001b[39m {\u001b[38;5;124m\"\u001b[39m\u001b[38;5;124mname\u001b[39m\u001b[38;5;124m\"\u001b[39m: \u001b[38;5;124m\"\u001b[39m\u001b[38;5;124mJohn\u001b[39m\u001b[38;5;124m\"\u001b[39m, \u001b[38;5;124m\"\u001b[39m\u001b[38;5;124mage\u001b[39m\u001b[38;5;124m\"\u001b[39m: \u001b[38;5;241m30\u001b[39m}\n\u001b[0;32m----> 2\u001b[0m \u001b[38;5;28mprint\u001b[39m(\u001b[43mmy_dict\u001b[49m\u001b[43m[\u001b[49m\u001b[38;5;124;43m\"\u001b[39;49m\u001b[38;5;124;43mgender\u001b[39;49m\u001b[38;5;124;43m\"\u001b[39;49m\u001b[43m]\u001b[49m)\n",
      "\u001b[0;31mKeyError\u001b[0m: 'gender'"
     ]
    }
   ],
   "source": [
    "my_dict = {\"name\": \"John\", \"age\": 30}\n",
    "print(my_dict[\"gender\"])\n",
    "\n",
    "#KeyError: 'gender'"
   ]
  },
  {
   "cell_type": "markdown",
   "id": "3e9aa02c-19e4-4d97-b6eb-c7736e26770b",
   "metadata": {},
   "source": [
    "## 8. FileNotFoundError:"
   ]
  },
  {
   "cell_type": "code",
   "execution_count": null,
   "id": "f478a5f9-2ff8-4dbc-92eb-aadd8ca73813",
   "metadata": {},
   "outputs": [],
   "source": [
    "file = open(\"nonexistent.txt\", \"r\")\n",
    "\n",
    "# FileNotFoundError: [Errno 2] No such file or directory: 'nonexistent.txt'"
   ]
  },
  {
   "cell_type": "markdown",
   "id": "b2ef85fe-a9bf-410f-8663-028b7551a556",
   "metadata": {},
   "source": [
    "## 9. IOError:"
   ]
  },
  {
   "cell_type": "code",
   "execution_count": null,
   "id": "00fd1672-98e6-4afe-aba1-0af0148b5ee3",
   "metadata": {},
   "outputs": [],
   "source": [
    "file = open(\"/root/myfile.txt\", \"r\")\n",
    "\n",
    "# IOError: [Errno 13] Permission denied: '/root/myfile.txt'"
   ]
  },
  {
   "cell_type": "markdown",
   "id": "37300768-974f-4632-8bae-4546e951f7d6",
   "metadata": {},
   "source": [
    "## 10. ZeroDivisionError:"
   ]
  },
  {
   "cell_type": "code",
   "execution_count": 21,
   "id": "92f9cf5c-a191-439a-be8f-9fa2cc95a5a8",
   "metadata": {},
   "outputs": [
    {
     "ename": "ZeroDivisionError",
     "evalue": "division by zero",
     "output_type": "error",
     "traceback": [
      "\u001b[0;31m---------------------------------------------------------------------------\u001b[0m",
      "\u001b[0;31mZeroDivisionError\u001b[0m                         Traceback (most recent call last)",
      "Cell \u001b[0;32mIn[21], line 3\u001b[0m\n\u001b[1;32m      1\u001b[0m x \u001b[38;5;241m=\u001b[39m \u001b[38;5;241m10\u001b[39m\n\u001b[1;32m      2\u001b[0m y \u001b[38;5;241m=\u001b[39m \u001b[38;5;241m0\u001b[39m\n\u001b[0;32m----> 3\u001b[0m result \u001b[38;5;241m=\u001b[39m \u001b[43mx\u001b[49m\u001b[43m \u001b[49m\u001b[38;5;241;43m/\u001b[39;49m\u001b[43m \u001b[49m\u001b[43my\u001b[49m\n",
      "\u001b[0;31mZeroDivisionError\u001b[0m: division by zero"
     ]
    }
   ],
   "source": [
    "x = 10\n",
    "y = 0\n",
    "result = x / y\n",
    "\n",
    "#ZeroDivisionError: division by zero"
   ]
  },
  {
   "cell_type": "markdown",
   "id": "ad4bec7f-5863-4903-bf67-b7e4c48df2f5",
   "metadata": {},
   "source": [
    "## 11. AttributeError:"
   ]
  },
  {
   "cell_type": "code",
   "execution_count": 20,
   "id": "2e77347f-7bdd-452d-943e-2d193d59ba8d",
   "metadata": {},
   "outputs": [
    {
     "ename": "AttributeError",
     "evalue": "'int' object has no attribute 'length'",
     "output_type": "error",
     "traceback": [
      "\u001b[0;31m---------------------------------------------------------------------------\u001b[0m",
      "\u001b[0;31mAttributeError\u001b[0m                            Traceback (most recent call last)",
      "Cell \u001b[0;32mIn[20], line 2\u001b[0m\n\u001b[1;32m      1\u001b[0m x \u001b[38;5;241m=\u001b[39m \u001b[38;5;241m10\u001b[39m\n\u001b[0;32m----> 2\u001b[0m \u001b[38;5;28mprint\u001b[39m(\u001b[43mx\u001b[49m\u001b[38;5;241;43m.\u001b[39;49m\u001b[43mlength\u001b[49m)\n",
      "\u001b[0;31mAttributeError\u001b[0m: 'int' object has no attribute 'length'"
     ]
    }
   ],
   "source": [
    "x = 10\n",
    "print(x.length)\n",
    "\n",
    "#AttributeError: 'int' object has no attribute 'length'"
   ]
  },
  {
   "cell_type": "markdown",
   "id": "edebce03-a4a3-40c8-95a9-be76100ec27f",
   "metadata": {},
   "source": [
    "## 12. ImportError:"
   ]
  },
  {
   "cell_type": "code",
   "execution_count": 19,
   "id": "df6c747e-3f54-4001-bbae-28dca0d74fcd",
   "metadata": {},
   "outputs": [
    {
     "ename": "ModuleNotFoundError",
     "evalue": "No module named 'nonexistent_module'",
     "output_type": "error",
     "traceback": [
      "\u001b[0;31m---------------------------------------------------------------------------\u001b[0m",
      "\u001b[0;31mModuleNotFoundError\u001b[0m                       Traceback (most recent call last)",
      "Cell \u001b[0;32mIn[19], line 1\u001b[0m\n\u001b[0;32m----> 1\u001b[0m \u001b[38;5;28;01mimport\u001b[39;00m \u001b[38;5;21;01mnonexistent_module\u001b[39;00m\n",
      "\u001b[0;31mModuleNotFoundError\u001b[0m: No module named 'nonexistent_module'"
     ]
    }
   ],
   "source": [
    "import nonexistent_module\n",
    "\n",
    "# ImportError: No module named 'nonexistent_module'"
   ]
  },
  {
   "cell_type": "markdown",
   "id": "e2091393-336a-4d48-80c5-05c372dcbb75",
   "metadata": {},
   "source": [
    "## 13. TypeError (repeated for demonstration):"
   ]
  },
  {
   "cell_type": "code",
   "execution_count": 18,
   "id": "e44ecef7-00a0-42d0-b0c6-f39543a74f80",
   "metadata": {},
   "outputs": [
    {
     "ename": "TypeError",
     "evalue": "can only concatenate str (not \"int\") to str",
     "output_type": "error",
     "traceback": [
      "\u001b[0;31m---------------------------------------------------------------------------\u001b[0m",
      "\u001b[0;31mTypeError\u001b[0m                                 Traceback (most recent call last)",
      "Cell \u001b[0;32mIn[18], line 3\u001b[0m\n\u001b[1;32m      1\u001b[0m x \u001b[38;5;241m=\u001b[39m \u001b[38;5;124m\"\u001b[39m\u001b[38;5;124mHello\u001b[39m\u001b[38;5;124m\"\u001b[39m\n\u001b[1;32m      2\u001b[0m y \u001b[38;5;241m=\u001b[39m \u001b[38;5;241m10\u001b[39m\n\u001b[0;32m----> 3\u001b[0m result \u001b[38;5;241m=\u001b[39m \u001b[43mx\u001b[49m\u001b[43m \u001b[49m\u001b[38;5;241;43m+\u001b[39;49m\u001b[43m \u001b[49m\u001b[43my\u001b[49m\n",
      "\u001b[0;31mTypeError\u001b[0m: can only concatenate str (not \"int\") to str"
     ]
    }
   ],
   "source": [
    "x = \"Hello\"\n",
    "y = 10\n",
    "result = x + y\n",
    "\n",
    "#TypeError: can only concatenate str (not \"int\") to str"
   ]
  },
  {
   "cell_type": "markdown",
   "id": "dbf6893c-daea-4b22-b3b4-db8f4b462dba",
   "metadata": {},
   "source": [
    "## 14. KeyboardInterrupt:"
   ]
  },
  {
   "cell_type": "code",
   "execution_count": 17,
   "id": "5b69c4e9-91b1-4b9b-ae10-f5bfac2305a1",
   "metadata": {},
   "outputs": [
    {
     "name": "stdout",
     "output_type": "stream",
     "text": [
      "Program interrupted by user.\n"
     ]
    }
   ],
   "source": [
    "try:\n",
    "    while True:\n",
    "        pass\n",
    "except KeyboardInterrupt:\n",
    "    print(\"Program interrupted by user.\")\n",
    "\n",
    "# Program interrupted by user."
   ]
  },
  {
   "cell_type": "markdown",
   "id": "9cd445a2-f3bd-4e42-8d01-2d80c05ab3fd",
   "metadata": {},
   "source": [
    "## 15. Exception:"
   ]
  },
  {
   "cell_type": "code",
   "execution_count": 15,
   "id": "5c342a56-5e3a-49b7-b40a-de82847c7c29",
   "metadata": {},
   "outputs": [
    {
     "name": "stdout",
     "output_type": "stream",
     "text": [
      "An exception occurred: division by zero\n"
     ]
    }
   ],
   "source": [
    "try:\n",
    "    x = 10\n",
    "    result = x / 0\n",
    "except Exception as e:\n",
    "    print(\"An exception occurred:\", str(e))\n",
    "\n",
    "#An exception occurred: division by zero"
   ]
  },
  {
   "cell_type": "code",
   "execution_count": null,
   "id": "1d7c000c-f420-47be-98ce-2c266ce6029b",
   "metadata": {},
   "outputs": [],
   "source": []
  }
 ],
 "metadata": {
  "kernelspec": {
   "display_name": "Python 3 (ipykernel)",
   "language": "python",
   "name": "python3"
  },
  "language_info": {
   "codemirror_mode": {
    "name": "ipython",
    "version": 3
   },
   "file_extension": ".py",
   "mimetype": "text/x-python",
   "name": "python",
   "nbconvert_exporter": "python",
   "pygments_lexer": "ipython3",
   "version": "3.9.7"
  }
 },
 "nbformat": 4,
 "nbformat_minor": 5
}
