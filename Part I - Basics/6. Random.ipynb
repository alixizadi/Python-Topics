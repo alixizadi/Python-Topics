{
 "cells": [
  {
   "cell_type": "markdown",
   "id": "7164b239-85ab-4f39-b284-a68b1cea3f72",
   "metadata": {},
   "source": [
    "## Pseudo Random Number"
   ]
  },
  {
   "cell_type": "code",
   "execution_count": 14,
   "id": "ca1fac34-ff3f-4da4-a9a9-551fed3a3e2b",
   "metadata": {},
   "outputs": [
    {
     "name": "stdout",
     "output_type": "stream",
     "text": [
      "0.2204406220406967\n",
      "0.5892656838759087\n",
      "0.8094304566778266\n"
     ]
    }
   ],
   "source": [
    "import random\n",
    "a = random.random()\n",
    "print(a) \n",
    "# a value between 0.0 <= < 1.0\n",
    "print(random.random())\n",
    "print(random.random())"
   ]
  },
  {
   "cell_type": "markdown",
   "id": "4a1bfa3d-93c1-4d3d-98fc-08a0a95b037a",
   "metadata": {},
   "source": [
    "## Fixed random numbers"
   ]
  },
  {
   "cell_type": "code",
   "execution_count": 15,
   "id": "16a0223d-acde-4bb3-ba3f-f19262b6b0fa",
   "metadata": {},
   "outputs": [
    {
     "name": "stdout",
     "output_type": "stream",
     "text": [
      "0.6394267984578837\n",
      "0.025010755222666936\n",
      "0.27502931836911926\n"
     ]
    }
   ],
   "source": [
    "import random\n",
    "random.seed(42)\n",
    "\n",
    "print(random.random())#0.6394267984578837\n",
    "print(random.random())#0.6394267984578837\n",
    "print(random.random())#0.27502931836911926\n"
   ]
  },
  {
   "cell_type": "markdown",
   "id": "1b4e96d7-05da-407d-bc4e-1d80cb9f8ae8",
   "metadata": {},
   "source": [
    "## Rolling dice - randrange"
   ]
  },
  {
   "cell_type": "code",
   "execution_count": 115,
   "id": "07d6f6a8-6d16-40d3-bca7-5a74412465f5",
   "metadata": {},
   "outputs": [
    {
     "name": "stdout",
     "output_type": "stream",
     "text": [
      "2\n",
      "5\n",
      "5\n",
      "two dices [3, 3]\n"
     ]
    }
   ],
   "source": [
    "import random\n",
    "\n",
    "#Oneofthefollowing:1,2,3,4,5,6\n",
    "print(1+int(6*random.random()))\n",
    "\n",
    "print(random.randrange(1,7))\n",
    "\n",
    "print(random.choice([1,2,3,4,5,6]))\n",
    "\n",
    "\n",
    "# TWO DICES\n",
    "print(\"two dices\", random.choices([1,2,3,4,5,6],k=2))\n",
    "\n"
   ]
  },
  {
   "cell_type": "code",
   "execution_count": 109,
   "id": "18bde41f-996e-4c79-bf7d-b4c979038dd0",
   "metadata": {},
   "outputs": [
    {
     "name": "stdout",
     "output_type": "stream",
     "text": [
      "[4, 5]\n"
     ]
    }
   ],
   "source": []
  },
  {
   "cell_type": "markdown",
   "id": "ee5e59e5-063b-4cd7-b788-062ed4cc2989",
   "metadata": {},
   "source": [
    "## Random choice"
   ]
  },
  {
   "cell_type": "code",
   "execution_count": 4,
   "id": "842a9f50-b400-496e-9cf9-812b361c808f",
   "metadata": {},
   "outputs": [
    {
     "name": "stdout",
     "output_type": "stream",
     "text": [
      "b\n",
      "Papaya\n"
     ]
    }
   ],
   "source": [
    "import random\n",
    "letters = \"abcdefghijklmno\"\n",
    "print(random.choice(letters))\n",
    "\n",
    "fruits=[\"Apple\",\"Banana\",\"Peach\",\"Orange\",\"Durian\",\"Papaya\"]\n",
    "print(random.choice(fruits))\n",
    "# pick one of the fruits"
   ]
  },
  {
   "cell_type": "markdown",
   "id": "82b16ece-a278-4a35-8350-198d29fd5eaa",
   "metadata": {},
   "source": [
    "## built-in method"
   ]
  },
  {
   "cell_type": "markdown",
   "id": "85cb4119-5c8a-45cb-9441-65448125fab5",
   "metadata": {},
   "source": [
    "- A commont mistake. Not calling the method."
   ]
  },
  {
   "cell_type": "code",
   "execution_count": 5,
   "id": "be6172c0-a70f-4423-ba01-aee1b24f2106",
   "metadata": {},
   "outputs": [
    {
     "name": "stdout",
     "output_type": "stream",
     "text": [
      "<built-in method random of Random object at 0x7faae2896a10>\n",
      "0.7406677446676758\n"
     ]
    }
   ],
   "source": [
    "import random\n",
    "rnd=random.random\n",
    "print(rnd) # <built-in method random of Random object at 0x124b508>\n",
    "\n",
    "# Call the method\n",
    "y=rnd()\n",
    "print(y) #0.7740737563564781"
   ]
  },
  {
   "cell_type": "markdown",
   "id": "e085b734-9448-4c9e-bddd-55da85c20ddc",
   "metadata": {},
   "source": [
    "- When you see a string like the above “built-in method ...” you can be almost certainly sure that you have forgotten the parentheses at the end of a method call."
   ]
  },
  {
   "cell_type": "markdown",
   "id": "fcd4bfcd-9425-4722-9c2f-afce528c9137",
   "metadata": {},
   "source": [
    "## Exception: TypeError: ‘module’ object is not callable\n"
   ]
  },
  {
   "cell_type": "markdown",
   "id": "0dff4233-6c27-4b3a-99fb-3b2128957dae",
   "metadata": {},
   "source": [
    "- A commont mistake. Calling the class and not the method.\n"
   ]
  },
  {
   "cell_type": "code",
   "execution_count": 117,
   "id": "30675d25-ef81-4dad-80f4-3c1255993bbd",
   "metadata": {},
   "outputs": [
    {
     "name": "stdout",
     "output_type": "stream",
     "text": [
      "hello\n"
     ]
    },
    {
     "ename": "TypeError",
     "evalue": "'module' object is not callable",
     "output_type": "error",
     "traceback": [
      "\u001b[0;31m---------------------------------------------------------------------------\u001b[0m",
      "\u001b[0;31mTypeError\u001b[0m                                 Traceback (most recent call last)",
      "Cell \u001b[0;32mIn[117], line 3\u001b[0m\n\u001b[1;32m      1\u001b[0m \u001b[38;5;28;01mimport\u001b[39;00m \u001b[38;5;21;01mrandom\u001b[39;00m\n\u001b[1;32m      2\u001b[0m \u001b[38;5;28mprint\u001b[39m(\u001b[38;5;124m\"\u001b[39m\u001b[38;5;124mhello\u001b[39m\u001b[38;5;124m\"\u001b[39m)\n\u001b[0;32m----> 3\u001b[0m x\u001b[38;5;241m=\u001b[39m\u001b[43mrandom\u001b[49m\u001b[43m(\u001b[49m\u001b[43m)\u001b[49m\n\u001b[1;32m      4\u001b[0m \u001b[38;5;28mprint\u001b[39m(x)\n",
      "\u001b[0;31mTypeError\u001b[0m: 'module' object is not callable"
     ]
    }
   ],
   "source": [
    "import random\n",
    "print(\"hello\")\n",
    "x=random()\n",
    "print(x)"
   ]
  },
  {
   "cell_type": "markdown",
   "id": "532a3a80-2547-4bdc-8e5f-e0d49132b5de",
   "metadata": {},
   "source": [
    "- Fixing the previous code"
   ]
  },
  {
   "cell_type": "code",
   "execution_count": 7,
   "id": "3b459cd9-209b-4d8c-9d48-a4cc79e62927",
   "metadata": {},
   "outputs": [
    {
     "name": "stdout",
     "output_type": "stream",
     "text": [
      "0.5453665337483498\n",
      "0.5904925124490397\n"
     ]
    }
   ],
   "source": [
    "import random\n",
    "x=random.random()\n",
    "print(x)\n",
    "\n",
    "from random import random\n",
    "x=random()\n",
    "print(x)"
   ]
  },
  {
   "cell_type": "markdown",
   "id": "94caacd1-ff40-4b30-8a46-17e4003181d9",
   "metadata": {},
   "source": [
    "## Exception: AttributeError: module ‘random’ has no attribute\n",
    "\n",
    "- A commont mistake. Using the wrong filename. \n"
   ]
  },
  {
   "cell_type": "code",
   "execution_count": 9,
   "id": "7c2a241b-7313-4d86-b5d6-3f867f878312",
   "metadata": {},
   "outputs": [
    {
     "name": "stdout",
     "output_type": "stream",
     "text": [
      "HelloWorld\n",
      "0.03178267948178359\n",
      "0.09369523986159245\n"
     ]
    }
   ],
   "source": [
    "# This works fine:\n",
    "print(\"HelloWorld\")\n",
    "\n",
    "\n",
    "# This gives an error\n",
    "import random\n",
    "print(random.random())\n",
    "# Traceback(mostrecentcalllast):\n",
    "# File \"rnd.py\", line 2, in <module>\n",
    "\n",
    "print(random.random())\n",
    "# AttributeError:module'random' has no attribute'random'\n"
   ]
  },
  {
   "cell_type": "markdown",
   "id": "e2da7606-2dda-46e8-8fd8-5eb19abc621a",
   "metadata": {},
   "source": [
    "Make sure the names of your files are not the same as the names of any of the python packages."
   ]
  },
  {
   "cell_type": "markdown",
   "id": "3270fe79-af12-47e9-bc6e-0dfc9a076f6e",
   "metadata": {},
   "source": [
    "## Exercise: Number guessing game - level 0"
   ]
  },
  {
   "cell_type": "markdown",
   "id": "d24d0e60-2e90-45ab-8f4d-691ee7fbb42b",
   "metadata": {},
   "source": [
    "### Level 0\n",
    "\n",
    "- Using the random module the computer “thinks” about a whole number between 1 and 20.\n",
    "- The user has to guess the number. After the user types in the guess the computer tells if this was bigger or smaller than the number it generated, or if was the same.\n",
    "- The game ends after just one guess.\n",
    "\n",
    "### Level 1\n",
    "\n",
    "- Other levels in the next chapter."
   ]
  },
  {
   "cell_type": "code",
   "execution_count": 11,
   "id": "a709d100-007e-433c-8ce9-59ca972b76e4",
   "metadata": {},
   "outputs": [
    {
     "name": "stdout",
     "output_type": "stream",
     "text": [
      "Thehiddenvaluesis 8\n"
     ]
    },
    {
     "name": "stdin",
     "output_type": "stream",
     "text": [
      "Pleaseenteryourguess: 3\n"
     ]
    },
    {
     "name": "stdout",
     "output_type": "stream",
     "text": [
      "3\n",
      "Your guess is too low\n"
     ]
    }
   ],
   "source": [
    "# level 0\n",
    "\n",
    "import random\n",
    "hidden=random.randrange(1,21)\n",
    "\n",
    "print(\"Thehiddenvaluesis\",hidden)\n",
    "\n",
    "user_input=input(\"Pleaseenteryourguess:\")\n",
    "print(user_input)\n",
    "\n",
    "guess=int(user_input)\n",
    "\n",
    "if guess==hidden:\n",
    "    print(\"Hit!\")\n",
    "elif guess<hidden:\n",
    "    print(\"Your guess is too low\")\n",
    "else:\n",
    "    print(\"Your guess is too high\")"
   ]
  },
  {
   "cell_type": "markdown",
   "id": "721dd178-4bab-482c-89fd-37f22f9a6937",
   "metadata": {},
   "source": [
    "### Exercise: Fruit salad\n",
    "\n",
    "- Write a script that will pick 3 fruits from a list of fruits like the one we had in one of the earlier slides. Print the 3 names.\n",
    "- Could you make sure the 3 fruits are different?\n",
    "\n",
    "\n",
    "fruits=[\"Apple\",\"Banana\",\"Peach\",\"Orange\",\"Durian\",\"Papaya\"]"
   ]
  },
  {
   "cell_type": "code",
   "execution_count": 13,
   "id": "a48efe87-a72d-4073-aba2-f17b8108e478",
   "metadata": {},
   "outputs": [
    {
     "name": "stdout",
     "output_type": "stream",
     "text": [
      "['Durian', 'Banana', 'Orange']\n"
     ]
    }
   ],
   "source": [
    "import random\n",
    "fruits=[\"Apple\",\"Banana\",\"Peach\",\"Orange\",\"Durian\",\"Papaya\"]\n",
    "salad=random.sample(fruits,3)\n",
    "print(salad)"
   ]
  },
  {
   "cell_type": "code",
   "execution_count": 26,
   "id": "e94f43c5-1e02-4f87-a235-6636c467f025",
   "metadata": {},
   "outputs": [
    {
     "name": "stdout",
     "output_type": "stream",
     "text": [
      "[3, 2, 1]\n"
     ]
    }
   ],
   "source": [
    "a = [1,2,3]\n",
    "random.shuffle(a)\n",
    "print(a)"
   ]
  },
  {
   "cell_type": "markdown",
   "id": "d8a4d413-fbad-44c5-a1be-a188d9d0bb8b",
   "metadata": {},
   "source": [
    "## method list\n",
    "\n",
    "> `random.random()`\n",
    ">\n",
    ">    Returns a random floating-point number between 0 and 1.\n",
    "\n",
    "\n",
    "> `random.randint(a, b)`\n",
    ">\n",
    "> Returns a random integer between the inclusive range of [a, b].\n",
    "\n",
    "> `random.choice(seq)`\n",
    ">\n",
    "> Returns a random element from the given sequence (list, tuple, or string).\n",
    "\n",
    "> `random.shuffle(seq)`\n",
    ">\n",
    "> Randomly shuffles the elements in the given sequence.\n",
    "\n",
    ">`random.sample(population, k)`\n",
    ">\n",
    "> Returns a randomly selected sample of length k from the given population (list, set, or string).\n",
    "\n",
    "> `random.uniform(a, b)`\n",
    ">\n",
    "> Returns a random floating-point number between a and b.\n",
    "\n",
    "> `random.gauss(mu, sigma)`\n",
    ">\n",
    "> Returns a random floating-point number from a Gaussian distribution with mean mu and standard deviation sigma.\n",
    "\n",
    "> `random.seed(a=None)`\n",
    ">\n",
    "> Initializes the random number generator with the given seed value. If no seed is provided, it uses the current system time."
   ]
  },
  {
   "cell_type": "code",
   "execution_count": 94,
   "id": "8bab9976-9abc-48be-84ab-7aa3d4f75fc4",
   "metadata": {},
   "outputs": [
    {
     "data": {
      "image/png": "[encoded data removed]",
      "text/plain": [
       "<Figure size 640x480 with 1 Axes>"
      ]
     },
     "metadata": {},
     "output_type": "display_data"
    }
   ],
   "source": [
    "import matplotlib.pyplot as plt\n",
    "uniform_numbers = []\n",
    "uniform_min = 100\n",
    "uniform_max = 999\n",
    "for i in range(0,10000):\n",
    "    uniform_numbers.append(random.uniform(uniform_min, uniform_max))\n",
    "bar_width = 1\n",
    "bins = range(100, 1000)\n",
    "plt.hist(uniform_numbers, bins=bins, align='left', rwidth=1)\n",
    "plt.show()"
   ]
  },
  {
   "cell_type": "code",
   "execution_count": 95,
   "id": "f9d082a3-f34b-423c-b20d-2551ee1b0c79",
   "metadata": {},
   "outputs": [
    {
     "data": {
      "image/png": "[encoded data removed]",
      "text/plain": [
       "<Figure size 640x480 with 1 Axes>"
      ]
     },
     "metadata": {},
     "output_type": "display_data"
    }
   ],
   "source": [
    "import matplotlib.pyplot as plt\n",
    "gaussian_numbers = []\n",
    "for i in range(0,100000):\n",
    "    gaussian_numbers.append(random.gauss(100,2))\n",
    "bar_width = 1\n",
    "bins = range(int(min(gaussian_numbers)), int(max(gaussian_numbers)) + bar_width)\n",
    "plt.hist(gaussian_numbers, bins=bins, align='left', rwidth=0.8)\n",
    "plt.show()"
   ]
  },
  {
   "cell_type": "code",
   "execution_count": null,
   "id": "2e417e7f-b9ea-469b-90b1-99854e8bfe68",
   "metadata": {},
   "outputs": [],
   "source": []
  }
 ],
 "metadata": {
  "kernelspec": {
   "display_name": "Python 3 (ipykernel)",
   "language": "python",
   "name": "python3"
  },
  "language_info": {
   "codemirror_mode": {
    "name": "ipython",
    "version": 3
   },
   "file_extension": ".py",
   "mimetype": "text/x-python",
   "name": "python",
   "nbconvert_exporter": "python",
   "pygments_lexer": "ipython3",
   "version": "3.9.7"
  }
 },
 "nbformat": 4,
 "nbformat_minor": 5
}
