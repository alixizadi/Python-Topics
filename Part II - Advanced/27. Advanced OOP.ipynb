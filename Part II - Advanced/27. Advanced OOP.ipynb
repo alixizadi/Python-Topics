{
 "cells": [
  {
   "cell_type": "markdown",
   "id": "7cbab9c0-a68c-4ca8-b53d-453b805bdaf1",
   "metadata": {},
   "source": [
    "## Advanced OOP"
   ]
  },
  {
   "cell_type": "markdown",
   "id": "d1deecf1-1dc8-403b-b498-e4dc486d32c6",
   "metadata": {},
   "source": [
    "## Stringify class"
   ]
  },
  {
   "cell_type": "markdown",
   "id": "e5b0670b-8859-48c0-8e5b-09bc05120efd",
   "metadata": {},
   "source": [
    "- `__repr__` \"should\" return Python-like code\n",
    "- `__str__` should return readable representation\n",
    "- If `__str__` does not exist, `__repr__` is called instead."
   ]
  },
  {
   "cell_type": "code",
   "execution_count": 6,
   "id": "c12304e2-de02-4c26-9293-37f48d260ebc",
   "metadata": {},
   "outputs": [
    {
     "name": "stdout",
     "output_type": "stream",
     "text": [
      "Point(2, 3)\n",
      "(2, 3)\n",
      "(2, 3)\n"
     ]
    }
   ],
   "source": [
    "class Point():\n",
    "    def __init__(self, x, y):\n",
    "        self.x = x\n",
    "        self.y = y\n",
    "\n",
    "    def __repr__(self):\n",
    "        return 'Point({}, {})'.format(self.x, self.y)\n",
    "\n",
    "    def __str__(self):\n",
    "        return '({}, {})'.format(self.x, self.y)\n",
    "    \n",
    "p1 = Point(2, 3)\n",
    "print(repr(p1)) # Point(2, 3)\n",
    "print(str(p1))  # (2, 3)\n",
    "print(p1)       # (2, 3)"
   ]
  },
  {
   "cell_type": "markdown",
   "id": "00388d90-b90d-4d34-8d19-bbc3748670d3",
   "metadata": {},
   "source": [
    "## Multiple inheritance"
   ]
  },
  {
   "cell_type": "code",
   "execution_count": 7,
   "id": "2f61c4c4-0f95-4b0e-ae5a-4bba0bb308b8",
   "metadata": {},
   "outputs": [
    {
     "name": "stdout",
     "output_type": "stream",
     "text": [
      "__init__ of Child\n",
      "__init__ of ParentA\n",
      "in_parent_a\n",
      "in_parent_b\n",
      "in_child\n",
      "in_both in parent A\n"
     ]
    }
   ],
   "source": [
    "class ParentA:\n",
    "    def __init__(self):\n",
    "        print('__init__ of ParentA')\n",
    "\n",
    "    def in_parent_a(self):\n",
    "        print('in_parent_a')\n",
    "\n",
    "    def in_both(self):\n",
    "        print('in_both in parent A')\n",
    "\n",
    "class ParentB:\n",
    "    def __init__(self):\n",
    "        print('__init__ of ParentB')\n",
    "\n",
    "    def in_parent_b(self):\n",
    "        print('in_parent_b')\n",
    "\n",
    "    def in_both(self):\n",
    "        print('in_both in paernt B')\n",
    "\n",
    "class Child(ParentA, ParentB):\n",
    "    def __init__(self):\n",
    "        print('__init__ of Child')\n",
    "        super().__init__()\n",
    "\n",
    "    def in_child(self):\n",
    "        print('in_child')\n",
    "\n",
    "c = Child()\n",
    "c.in_parent_a()\n",
    "c.in_parent_b()\n",
    "c.in_child()\n",
    "c.in_both()"
   ]
  },
  {
   "cell_type": "markdown",
   "id": "debe6da7-eadc-4efc-ad39-a60a61b7a3fb",
   "metadata": {},
   "source": [
    "## MRO - Method Resolution Order "
   ]
  },
  {
   "cell_type": "code",
   "execution_count": 11,
   "id": "c7a803ec-b01d-4ac7-91dd-90cbcf293f21",
   "metadata": {},
   "outputs": [
    {
     "name": "stdout",
     "output_type": "stream",
     "text": [
      "Hello from B\n",
      "(<class '__main__.D'>, <class '__main__.B'>, <class '__main__.C'>, <class '__main__.A'>, <class 'object'>)\n"
     ]
    }
   ],
   "source": [
    "class A:\n",
    "    def greet(self):\n",
    "        return \"Hello from A\"\n",
    "\n",
    "\n",
    "class B(A):\n",
    "    def greet(self):\n",
    "        return \"Hello from B\"\n",
    "\n",
    "\n",
    "class C(A):\n",
    "    def greet(self):\n",
    "        return \"Hello from C\"\n",
    "\n",
    "\n",
    "class D(B, C):\n",
    "    pass\n",
    "\n",
    "\n",
    "d = D()\n",
    "print(d.greet())\n",
    "print(D.__mro__)  # Output: Hello from B\n"
   ]
  },
  {
   "cell_type": "markdown",
   "id": "490898ff-cdb1-4a4d-930d-6366fff828ab",
   "metadata": {},
   "source": [
    "## Multiple inheritance - diamond"
   ]
  },
  {
   "cell_type": "markdown",
   "id": "71ff0a77-52b2-471e-933a-9940210aaa42",
   "metadata": {},
   "source": [
    "- Not Both ParentA and ParentB inherit attributes from GrandParent,\n",
    "but they are now merged."
   ]
  },
  {
   "cell_type": "markdown",
   "id": "b790e236-b4bc-4348-afa6-11bb1a7c5298",
   "metadata": {},
   "source": [
    "```python\n",
    "class GrandParent:\n",
    "    ...\n",
    "\n",
    "class ParentA(GrandParent):\n",
    "    ...\n",
    "\n",
    "class ParentB(GrandParent):\n",
    "    ...\n",
    "\n",
    "class Child(ParentA, ParentB):\n",
    "    ...\n",
    "\n",
    "c = Child()\n",
    "```"
   ]
  },
  {
   "cell_type": "markdown",
   "id": "f3b644e5-2749-4901-b34c-daa0c6d3970d",
   "metadata": {},
   "source": [
    "## Interfaces"
   ]
  },
  {
   "cell_type": "markdown",
   "id": "9a3d4406-26cd-4faf-8da6-551247bac4c1",
   "metadata": {},
   "source": [
    "- Parent and Child can have attributes\n",
    "- Tools only has methods"
   ]
  },
  {
   "cell_type": "code",
   "execution_count": 16,
   "id": "43a5862c-f182-4049-a9cf-cd254ea833f6",
   "metadata": {},
   "outputs": [
    {
     "name": "stdout",
     "output_type": "stream",
     "text": [
      "__init__ of Child\n",
      "__init__ of Parent\n",
      "in_parent\n",
      "some_tool\n",
      "in_child\n"
     ]
    }
   ],
   "source": [
    "class Parent:\n",
    "    def __init__(self):\n",
    "        print('__init__ of Parent')\n",
    "\n",
    "    def in_parent(self):\n",
    "        print('in_parent')\n",
    "\n",
    "class Tools:\n",
    "    def __init__(self):\n",
    "        print('__init__ of Tools')\n",
    "        \n",
    "    def some_tool(self):\n",
    "        print('some_tool')\n",
    "\n",
    "class Child(Parent, Tools):\n",
    "    def __init__(self):\n",
    "        print('__init__ of Child')\n",
    "        super().__init__() \n",
    "        #invokes the __init__ method of the first parent class in the MRO\n",
    "\n",
    "    def in_child(self):\n",
    "        print('in_child')\n",
    "\n",
    "c = Child()\n",
    "c.in_parent()\n",
    "c.some_tool()\n",
    "c.in_child()"
   ]
  },
  {
   "cell_type": "markdown",
   "id": "ad1c0596-9041-4a47-912f-970aba5d1fa6",
   "metadata": {},
   "source": [
    "## Abstract Base Class"
   ]
  },
  {
   "cell_type": "markdown",
   "id": "af5151e9-2718-45b4-bd39-33294846a0e5",
   "metadata": {},
   "source": [
    "- Create a class object that cannot be used to create an instance object. (It must be subclassed)\n",
    "- The subclass must implement certain methods required by the base-class.\n"
   ]
  },
  {
   "cell_type": "markdown",
   "id": "bac0edce-29f2-4dc0-bc9b-1e09a64364f7",
   "metadata": {},
   "source": [
    "## Abstract Base Class with abc"
   ]
  },
  {
   "cell_type": "code",
   "execution_count": 17,
   "id": "befd9471-4606-4f0e-9b1d-fe3fefc650d2",
   "metadata": {},
   "outputs": [],
   "source": [
    "from abc import ABC, abstractmethod\n",
    "\n",
    "class Base(ABC):\n",
    "    def __init__(self, name):\n",
    "        self.name = name\n",
    "\n",
    "    @abstractmethod\n",
    "    def foo(self):\n",
    "        pass\n",
    "\n",
    "    @abstractmethod\n",
    "    def bar(self):\n",
    "        pass"
   ]
  },
  {
   "cell_type": "markdown",
   "id": "32b71865-84db-4653-b42c-d17375eceef8",
   "metadata": {},
   "source": [
    "## ABC working example"
   ]
  },
  {
   "cell_type": "code",
   "execution_count": 20,
   "id": "e564898a-df7c-43f8-9775-a8ee74ffc34a",
   "metadata": {},
   "outputs": [
    {
     "name": "stdout",
     "output_type": "stream",
     "text": [
      "Jane\n"
     ]
    }
   ],
   "source": [
    "class Real(Base):\n",
    "    def foo(self):\n",
    "        print('foo in Real')\n",
    "\n",
    "    def bar(self):\n",
    "        print('bar in Real')\n",
    "\n",
    "    def other(self):\n",
    "        pass\n",
    "\n",
    "r = Real('Jane')\n",
    "print(r.name)      # Jane"
   ]
  },
  {
   "cell_type": "markdown",
   "id": "6bc0f330-d824-42dd-9541-f6ff851fdf92",
   "metadata": {},
   "source": [
    "## ABC - cannot instantiate the base-class"
   ]
  },
  {
   "cell_type": "code",
   "execution_count": 23,
   "id": "fa450a06-1029-4206-9f47-be2bbbf6169b",
   "metadata": {},
   "outputs": [
    {
     "ename": "TypeError",
     "evalue": "Can't instantiate abstract class Base with abstract methods bar, foo",
     "output_type": "error",
     "traceback": [
      "\u001b[0;31m---------------------------------------------------------------------------\u001b[0m",
      "\u001b[0;31mTypeError\u001b[0m                                 Traceback (most recent call last)",
      "Cell \u001b[0;32mIn[23], line 1\u001b[0m\n\u001b[0;32m----> 1\u001b[0m b \u001b[38;5;241m=\u001b[39m \u001b[43mBase\u001b[49m\u001b[43m(\u001b[49m\u001b[38;5;124;43m'\u001b[39;49m\u001b[38;5;124;43mBoss\u001b[39;49m\u001b[38;5;124;43m'\u001b[39;49m\u001b[43m)\u001b[49m\n",
      "\u001b[0;31mTypeError\u001b[0m: Can't instantiate abstract class Base with abstract methods bar, foo"
     ]
    }
   ],
   "source": [
    "b = Base('Boss')"
   ]
  },
  {
   "cell_type": "markdown",
   "id": "a7f51e14-1187-4c08-bc15-dde0877877e1",
   "metadata": {},
   "source": [
    "## ABC - must implement methods"
   ]
  },
  {
   "cell_type": "code",
   "execution_count": 24,
   "id": "dcc42b9b-eb29-44d1-912d-29a3af73e4a7",
   "metadata": {},
   "outputs": [
    {
     "ename": "TypeError",
     "evalue": "Can't instantiate abstract class Fake with abstract method bar",
     "output_type": "error",
     "traceback": [
      "\u001b[0;31m---------------------------------------------------------------------------\u001b[0m",
      "\u001b[0;31mTypeError\u001b[0m                                 Traceback (most recent call last)",
      "Cell \u001b[0;32mIn[24], line 5\u001b[0m\n\u001b[1;32m      2\u001b[0m     \u001b[38;5;28;01mdef\u001b[39;00m \u001b[38;5;21mfoo\u001b[39m(\u001b[38;5;28mself\u001b[39m):\n\u001b[1;32m      3\u001b[0m         \u001b[38;5;28mprint\u001b[39m(\u001b[38;5;124m'\u001b[39m\u001b[38;5;124mfoo in Fake\u001b[39m\u001b[38;5;124m'\u001b[39m)\n\u001b[0;32m----> 5\u001b[0m f \u001b[38;5;241m=\u001b[39m \u001b[43mFake\u001b[49m\u001b[43m(\u001b[49m\u001b[38;5;124;43m'\u001b[39;49m\u001b[38;5;124;43mJoe\u001b[39;49m\u001b[38;5;124;43m'\u001b[39;49m\u001b[43m)\u001b[49m\n",
      "\u001b[0;31mTypeError\u001b[0m: Can't instantiate abstract class Fake with abstract method bar"
     ]
    }
   ],
   "source": [
    "class Fake(Base):\n",
    "    def foo(self):\n",
    "        print('foo in Fake')\n",
    "\n",
    "f = Fake('Joe')"
   ]
  },
  {
   "cell_type": "markdown",
   "id": "a7e7631a-d24a-41c0-8a8f-51b94f6475e3",
   "metadata": {},
   "source": [
    "## Class Attributes"
   ]
  },
  {
   "cell_type": "markdown",
   "id": "1aa19177-a7b5-472b-8885-bb613eb9994e",
   "metadata": {},
   "source": [
    "- Class attributes can be created inside a class.\n",
    "- Assign to class attribute and fetch from it.\n",
    "- Class attributes can be also created from the outside.\n",
    "- Creating an instance does not impact the class attribute."
   ]
  },
  {
   "cell_type": "code",
   "execution_count": 25,
   "id": "261db6b7-793c-4230-a7c2-8678cf20ec7d",
   "metadata": {},
   "outputs": [
    {
     "name": "stdout",
     "output_type": "stream",
     "text": [
      "Joseph\n",
      "Joe\n",
      "joe@foobar.com\n",
      "Joe\n",
      "joe@foobar.com\n"
     ]
    }
   ],
   "source": [
    "class Person:\n",
    "    name = 'Joseph'\n",
    "\n",
    "print(Person.name)    # Joseph\n",
    "\n",
    "Person.name = 'Joe'\n",
    "print(Person.name)    # Joe\n",
    "\n",
    "Person.email = 'joe@foobar.com'\n",
    "print(Person.email)   # joe@foobar.com\n",
    "\n",
    "x = Person()\n",
    "print(Person.name)    # Joe\n",
    "print(Person.email)   # joe@foobar.com\n"
   ]
  },
  {
   "cell_type": "markdown",
   "id": "c009abde-2751-4ed8-a1d9-56a95c51c961",
   "metadata": {},
   "source": [
    "## Class count instances"
   ]
  },
  {
   "cell_type": "code",
   "execution_count": 26,
   "id": "f15ba4fd-9a74-4916-8114-f585132fe1ac",
   "metadata": {},
   "outputs": [
    {
     "name": "stdout",
     "output_type": "stream",
     "text": [
      "0\n",
      "1\n",
      "2\n",
      "3\n",
      "3\n",
      "3\n"
     ]
    }
   ],
   "source": [
    "class Thing:\n",
    "    count = 0\n",
    "    def __init__(self):\n",
    "        Thing.count += 1\n",
    "\n",
    "def main():\n",
    "    print(Thing.count)  # 0\n",
    "    t1 = Thing()\n",
    "    print(Thing.count)  # 1\n",
    "    t2 = Thing()\n",
    "    print(Thing.count)  # 2\n",
    "    t3 = Thing()\n",
    "    print(Thing.count)  # 3\n",
    "    t3 = None\n",
    "    print(Thing.count)  # 3\n",
    "\n",
    "main()\n",
    "print(Thing.count)  # 3"
   ]
  },
  {
   "cell_type": "markdown",
   "id": "702a8f55-72e4-42cb-b825-fec27a4c813a",
   "metadata": {},
   "source": [
    "## Destructor: `__del__`"
   ]
  },
  {
   "cell_type": "code",
   "execution_count": 27,
   "id": "3072d1af-02f5-4077-89e1-9a32d2200cf6",
   "metadata": {},
   "outputs": [
    {
     "name": "stdout",
     "output_type": "stream",
     "text": [
      "__init__\n",
      "in main - after\n",
      "__del__\n",
      "after main\n"
     ]
    }
   ],
   "source": [
    "class Thing:\n",
    "    def __init__(self):\n",
    "        print('__init__')\n",
    "    def __del__(self):\n",
    "        print('__del__')\n",
    "\n",
    "def main():\n",
    "    a = Thing()\n",
    "    print('in main - after')\n",
    "\n",
    "main()\n",
    "print('after main')"
   ]
  },
  {
   "cell_type": "markdown",
   "id": "9fdf5b19-9cd5-4e40-b365-d58534ad25b1",
   "metadata": {},
   "source": [
    "## Class count instances - decrease also (destructor: __del__)"
   ]
  },
  {
   "cell_type": "code",
   "execution_count": 28,
   "id": "28adb944-6414-49b1-8ce5-68f083802555",
   "metadata": {},
   "outputs": [
    {
     "name": "stdout",
     "output_type": "stream",
     "text": [
      "0\n",
      "1\n",
      "2\n",
      "3\n",
      "2\n",
      "0\n"
     ]
    }
   ],
   "source": [
    "class Thing:\n",
    "    count = 0\n",
    "    def __init__(self):\n",
    "        Thing.count += 1\n",
    "    def __del__(self):\n",
    "        Thing.count -= 1\n",
    "\n",
    "def main():\n",
    "    print(Thing.count)  # 0\n",
    "    t1 = Thing()\n",
    "    print(Thing.count)  # 1\n",
    "    t2 = Thing()\n",
    "    print(Thing.count)  # 2\n",
    "    t3 = Thing()\n",
    "    print(Thing.count)  # 3\n",
    "    t3 = None\n",
    "    print(Thing.count)  # 2\n",
    "\n",
    "main()\n",
    "print(Thing.count)  # 0"
   ]
  },
  {
   "cell_type": "markdown",
   "id": "badcb272-0de3-4dd0-a1b6-55f758c41987",
   "metadata": {
    "tags": []
   },
   "source": [
    "## Keep track of instances"
   ]
  },
  {
   "cell_type": "code",
   "execution_count": 31,
   "id": "830b21ff-327d-444f-8efa-7c0f16189719",
   "metadata": {},
   "outputs": [
    {
     "name": "stdout",
     "output_type": "stream",
     "text": [
      "[]\n",
      "[140670786679616]\n",
      "[140670786679616, 140671322826640]\n",
      "[140670786679616, 140671322826640, 140670786198976]\n",
      "[140670786679616, 140671322826640, 140670786198976]\n",
      "[140670786679616, 140671322826640, 140670786198976]\n"
     ]
    }
   ],
   "source": [
    "def prt():\n",
    "    print(list(Thing.things.keys()))\n",
    "\n",
    "class Thing:\n",
    "    things = {}\n",
    "    def __init__(self):\n",
    "        Thing.things[id(self)] = self\n",
    "\n",
    "    def __del__(self):\n",
    "        print('__del__')\n",
    "        del(Thing.things[id(self)])\n",
    "\n",
    "\n",
    "def main():\n",
    "    prt()\n",
    "    t1 = Thing()\n",
    "    prt()\n",
    "    t2 = Thing()\n",
    "    prt()\n",
    "    t3 = Thing()\n",
    "    prt()\n",
    "    t4 = None\n",
    "    prt()\n",
    "\n",
    "main()\n",
    "prt()"
   ]
  },
  {
   "cell_type": "markdown",
   "id": "79e70835-727d-49c9-ab5d-1e1f537a199a",
   "metadata": {},
   "source": [
    "## Keep track of instances properly (weakref)"
   ]
  },
  {
   "cell_type": "code",
   "execution_count": 30,
   "id": "e3ecb0dc-7e41-4842-a922-e4928e364af4",
   "metadata": {},
   "outputs": [
    {
     "name": "stdout",
     "output_type": "stream",
     "text": [
      "[]\n",
      "[140670786634560]\n",
      "[140670786634560, 140670786634896]\n",
      "[140670786634560, 140670786634896, 140670786635616]\n",
      "__del__\n",
      "[140670786634560, 140670786634896]\n",
      "__del__\n",
      "__del__\n",
      "[]\n"
     ]
    }
   ],
   "source": [
    "import weakref\n",
    "\n",
    "def prt():\n",
    "    print(list(Thing.things.keys()))\n",
    "\n",
    "class Thing:\n",
    "    things = {}\n",
    "    def __init__(self):\n",
    "        Thing.things[id(self)] = weakref.ref(self)\n",
    "\n",
    "    def __del__(self):\n",
    "        print('__del__')\n",
    "        del(Thing.things[id(self)])\n",
    "\n",
    "\n",
    "def main():\n",
    "    prt()\n",
    "    t1 = Thing()\n",
    "    prt()\n",
    "    t2 = Thing()\n",
    "    prt()\n",
    "    t3 = Thing()\n",
    "    prt()\n",
    "    t3 = None\n",
    "    prt()\n",
    "\n",
    "main()\n",
    "prt()"
   ]
  },
  {
   "cell_type": "markdown",
   "id": "28e8d0c7-2921-43b2-b25b-3a8fa3fd6690",
   "metadata": {},
   "source": [
    "## Destructor delayed"
   ]
  },
  {
   "cell_type": "markdown",
   "id": "e19a049e-53fc-4cdb-a998-0170ad859376",
   "metadata": {},
   "source": [
    "- Because the object has a reference to itself. (Python uses both reference count and garbage collection.)\n",
    "\n"
   ]
  },
  {
   "cell_type": "code",
   "execution_count": 32,
   "id": "4751dec6-bfc2-4168-907e-2b26d07193df",
   "metadata": {},
   "outputs": [
    {
     "name": "stdout",
     "output_type": "stream",
     "text": [
      "__init__ A\n",
      "__init__ B\n",
      "in main - after\n",
      "__del__ B\n",
      "after main\n"
     ]
    }
   ],
   "source": [
    "class Thing:\n",
    "    def __init__(self, name):\n",
    "        self.name = name\n",
    "        print(f'__init__ {name}')\n",
    "\n",
    "    def __del__(self):\n",
    "        print(f'__del__ {self.name}')\n",
    "\n",
    "def main():\n",
    "    a = Thing('A')\n",
    "    b = Thing('B')\n",
    "    a.partner = a\n",
    "    print('in main - after')\n",
    "\n",
    "main()\n",
    "print('after main')"
   ]
  },
  {
   "cell_type": "markdown",
   "id": "4cca6dde-18df-4fcc-a728-1dbc8bc17d2e",
   "metadata": {},
   "source": [
    "## Destructor delayed for both"
   ]
  },
  {
   "cell_type": "markdown",
   "id": "22671664-dcbf-424b-bb21-1a19991baf64",
   "metadata": {},
   "source": [
    "- Because the instances reference each other"
   ]
  },
  {
   "cell_type": "code",
   "execution_count": 34,
   "id": "e3168450-79e2-4489-ace4-f5e27fdb28f8",
   "metadata": {},
   "outputs": [
    {
     "name": "stdout",
     "output_type": "stream",
     "text": [
      "__init__ for A\n",
      "__init__ for B\n",
      "in main - after\n",
      "after main\n"
     ]
    }
   ],
   "source": [
    "class Thing:\n",
    "    def __init__(self, name):\n",
    "        self.name = name\n",
    "        print(f'__init__ for {self.name}')\n",
    "    def __del__(self):\n",
    "        print(f'__del__ for {self.name}')\n",
    "\n",
    "def main():\n",
    "    a = Thing('A')\n",
    "    b = Thing('B')\n",
    "    a.partner = b\n",
    "    b.partner = a\n",
    "    print('in main - after')\n",
    "\n",
    "main()\n",
    "print('after main')"
   ]
  },
  {
   "cell_type": "markdown",
   "id": "08b88409-b19e-4b3a-bf83-cbe6f107717c",
   "metadata": {},
   "source": [
    "## Class Attributes in Instances"
   ]
  },
  {
   "cell_type": "code",
   "execution_count": 35,
   "id": "ec467cfc-7999-4e3f-b1e7-b13c6efcbffa",
   "metadata": {},
   "outputs": [
    {
     "name": "stdout",
     "output_type": "stream",
     "text": [
      "Joe\n",
      "Joe\n",
      "Joe\n",
      "Bar\n",
      "Bar\n",
      "Joseph\n",
      "Bar\n",
      "Bar\n",
      "{'name': 'Joseph'}\n",
      "{}\n",
      "{'__module__': '__main__', 'name': 'Bar', '__dict__': <attribute '__dict__' of 'Person' objects>, '__weakref__': <attribute '__weakref__' of 'Person' objects>, '__doc__': None}\n"
     ]
    }
   ],
   "source": [
    "class Person:\n",
    "    name = 'Joe'\n",
    "\n",
    "# Class Attributes are inherited by object instances when accessing them.\n",
    "print(Person.name)    # Joe\n",
    "x = Person()\n",
    "print(x.name)         # Joe\n",
    "y = Person()\n",
    "print(y.name)         # Joe\n",
    "\n",
    "# Changes to class attribute are reflected in existing instances as well\n",
    "Person.name = 'Bar'\n",
    "print(Person.name)    # Bar\n",
    "print(x.name)         # Bar\n",
    "\n",
    "\n",
    "# Setting the attribute via the instance will create an instance attribute that shadows the class attribute:\n",
    "x.name = 'Joseph'\n",
    "print(x.name)         # Joseph\n",
    "\n",
    "# You can still access the class attribute directly:\n",
    "print(Person.name)    # Bar\n",
    "\n",
    "# It does not impact the instance attribute of other instances:\n",
    "print(y.name)         # Bar\n",
    "\n",
    "# Both instance and class have a dictionary containing its members:\n",
    "print(x.__dict__)       # {'name': 'Joseph'}\n",
    "print(y.__dict__)       # {}\n",
    "print(Person.__dict__)  # {..., 'name': 'Bar'}"
   ]
  },
  {
   "cell_type": "markdown",
   "id": "af95ad37-9d3e-4f54-984e-e88c698a8625",
   "metadata": {},
   "source": [
    "## Attributes with method access"
   ]
  },
  {
   "cell_type": "markdown",
   "id": "1babda84-e18a-4cca-926b-8b200b4d4e1d",
   "metadata": {},
   "source": [
    "- Use a method (show) to access it.\n"
   ]
  },
  {
   "cell_type": "code",
   "execution_count": 41,
   "id": "60accd26-cc8d-45bc-a021-9ce72c98d913",
   "metadata": {},
   "outputs": [
    {
     "name": "stdout",
     "output_type": "stream",
     "text": [
      "Hello Joe\n",
      "Joe\n",
      "Joe\n",
      "Joe\n",
      "----\n",
      "Jane\n",
      "Jane\n",
      "Jane\n",
      "----\n",
      "Hilda\n",
      "Garry\n",
      "Hilda\n",
      "Garry\n",
      "----\n"
     ]
    }
   ],
   "source": [
    "class Person():\n",
    "    name = 'Joe'\n",
    "    print(f'Hello {name}')\n",
    "\n",
    "    def show(self):\n",
    "        print(Person.name)\n",
    "\n",
    "\n",
    "x = Person()          # Hello Joe\n",
    "x.show()              # Joe\n",
    "print(x.name)         # Joe\n",
    "print(Person.name)    # Joe\n",
    "print('----')\n",
    "\n",
    "\n",
    "Person.name = 'Jane'\n",
    "print(x.name)         # Jane\n",
    "print(Person.name)    # Jane\n",
    "x.show()              # Jane\n",
    "print('----')\n",
    "\n",
    "\n",
    "x.name = 'Hilda'      # creating and setting the instance attribute\n",
    "print(x.name)         # Hilda\n",
    "Person.name = 'Garry'\n",
    "print(Person.name)    # Garry\n",
    "print(x.name)         # Hilda\n",
    "x.show()              # Garry\n",
    "print('----')\n",
    "\n",
    "\n"
   ]
  },
  {
   "cell_type": "markdown",
   "id": "9be0104c-e304-4055-bff5-1288771ccb2e",
   "metadata": {},
   "source": [
    "## Methods are class attributes - add method"
   ]
  },
  {
   "cell_type": "markdown",
   "id": "6a7b977a-27d2-4dac-bfbe-c05a1541fa40",
   "metadata": {},
   "source": [
    "- In this example we are going to add a newly created method to the class. (monkey patching)"
   ]
  },
  {
   "cell_type": "code",
   "execution_count": 42,
   "id": "469a618e-471b-4477-a58b-87c37faf3d90",
   "metadata": {},
   "outputs": [
    {
     "name": "stdout",
     "output_type": "stream",
     "text": [
      "Jane\n",
      "Hello Jane\n"
     ]
    }
   ],
   "source": [
    "class Person():\n",
    "    def __init__(self, name):\n",
    "        self.name = name\n",
    "\n",
    "y = Person('Jane')\n",
    "print(y.name)           # Jane\n",
    "\n",
    "def show(some_instance):\n",
    "    print(\"Hello \" + some_instance.name)\n",
    "\n",
    "Person.show = show\n",
    "y.show()                # Hello Jane"
   ]
  },
  {
   "cell_type": "markdown",
   "id": "56eb34b5-cf44-44c0-ab13-b008ad49b24b",
   "metadata": {},
   "source": [
    "## Methods are class attributes - replace method"
   ]
  },
  {
   "cell_type": "markdown",
   "id": "e1719470-7c14-44b9-9eb6-241c84276c10",
   "metadata": {},
   "source": [
    "- In this example we are going to replace the method in the class by a newly created function. (monkey patching)"
   ]
  },
  {
   "cell_type": "code",
   "execution_count": 44,
   "id": "8ce58020-02c7-442a-a123-0ab6f0935920",
   "metadata": {},
   "outputs": [
    {
     "name": "stdout",
     "output_type": "stream",
     "text": [
      "Jane\n",
      "Jane\n",
      "Wassup Jane\n"
     ]
    }
   ],
   "source": [
    "class Person():\n",
    "    def __init__(self, name):\n",
    "        self.name = name\n",
    "\n",
    "    def show(self):\n",
    "        print(self.name)\n",
    "\n",
    "y = Person('Jane')\n",
    "print(y.name)    # Jane\n",
    "y.show()         # Jane\n",
    "\n",
    "def new_show(some_instance):\n",
    "    print(\"Wassup \" + some_instance.name)\n",
    "\n",
    "Person.show = new_show\n",
    "y.show()         # Hello Jane"
   ]
  },
  {
   "cell_type": "markdown",
   "id": "ec30eb0c-b79d-42d6-86ee-86ba717b175b",
   "metadata": {},
   "source": [
    "## Methods are class attributes - Enhance method (Monkey patching)"
   ]
  },
  {
   "cell_type": "code",
   "execution_count": 63,
   "id": "9c95a043-132e-4526-847b-26f267fc8473",
   "metadata": {},
   "outputs": [],
   "source": [
    "import functools\n",
    "\n",
    "def add_debug(cls, method):\n",
    "    original = getattr(cls, method)\n",
    "    @functools.wraps(original)\n",
    "    def debug(*args, **kwargs):\n",
    "        print(\"Before method\")\n",
    "        result = original(*args, **kwargs)\n",
    "        print(\"After method\")\n",
    "        return result\n",
    "    setattr(cls, method, debug)"
   ]
  },
  {
   "cell_type": "code",
   "execution_count": 64,
   "id": "53210ebc-af3d-41f8-9cb6-a5c392c7647d",
   "metadata": {},
   "outputs": [],
   "source": [
    "class Circle():\n",
    "    def __init__(self, x, y, r):\n",
    "        self.x = x\n",
    "        self.y = y\n",
    "        self.r = r\n",
    "\n",
    "    def area(self):\n",
    "        print('in area')\n",
    "        return self.r * self.r * 3.14"
   ]
  },
  {
   "cell_type": "code",
   "execution_count": 65,
   "id": "515dfc34-af48-4400-8111-71f2a6baa108",
   "metadata": {},
   "outputs": [
    {
     "name": "stdout",
     "output_type": "stream",
     "text": [
      "in area\n",
      "50.24\n",
      "-----\n",
      "Before method\n",
      "in area\n",
      "After method\n",
      "50.24\n",
      "-----\n"
     ]
    }
   ],
   "source": [
    "\n",
    "x = Circle(2, 3, 4)\n",
    "print(x.area())\n",
    "print('-----')\n",
    "\n",
    "add_debug(Circle, 'area')\n",
    "\n",
    "print(x.area())\n",
    "print('-----')"
   ]
  },
  {
   "cell_type": "markdown",
   "id": "cd86e158-2ce7-48cc-84ff-e9c2cb5916e7",
   "metadata": {},
   "source": [
    "## Method types"
   ]
  },
  {
   "cell_type": "markdown",
   "id": "bfbad2ae-4595-41c9-b866-d3df0abfd565",
   "metadata": {},
   "source": [
    "- Instance methods - working on self\n",
    "- Class methods - working on the class (e.g. alternative constructor)\n",
    "- Static methods - have no self or class (helper functions)\n"
   ]
  },
  {
   "cell_type": "markdown",
   "id": "7c9bded7-eca4-449c-99ff-75c8498143ef",
   "metadata": {},
   "source": [
    "## Instance methods"
   ]
  },
  {
   "cell_type": "markdown",
   "id": "da03a561-a511-4998-aab6-f24e5d4c01bf",
   "metadata": {},
   "source": [
    "- Regular functions (methods) defined in a class are \"instance methods\". They can only be called on \"instance objects\" and not on the \"class object\" as see in the 3rd example.\n",
    "- The attributes created with \"self.something = value\" belong to the individual instance object."
   ]
  },
  {
   "cell_type": "code",
   "execution_count": 66,
   "id": "b4e2d233-fcd9-43f6-8e12-3611cddf9196",
   "metadata": {},
   "outputs": [],
   "source": [
    "class Date:\n",
    "    def __init__(self, Year, Month, Day):\n",
    "        self.year  = Year\n",
    "        self.month = Month\n",
    "        self.day   = Day\n",
    "\n",
    "    def __str__(self):\n",
    "        return 'Date({}, {}, {})'.format(self.year, self.month, self.day)\n",
    "\n",
    "    def set_date(self, y, m, d):\n",
    "        self.year = y\n",
    "        self.month = m\n",
    "        self.day = d"
   ]
  },
  {
   "cell_type": "code",
   "execution_count": 67,
   "id": "4dc715d1-7e55-4cef-9b39-61f01159515b",
   "metadata": {},
   "outputs": [
    {
     "name": "stdout",
     "output_type": "stream",
     "text": [
      "Date(2013, 11, 22)\n"
     ]
    }
   ],
   "source": [
    "d = Date(2013, 11, 22)\n",
    "print(d)"
   ]
  },
  {
   "cell_type": "code",
   "execution_count": 68,
   "id": "c21af6fc-a894-4c6e-b00b-55acf392f9f9",
   "metadata": {},
   "outputs": [
    {
     "name": "stdout",
     "output_type": "stream",
     "text": [
      "Date(2014, 1, 27)\n"
     ]
    }
   ],
   "source": [
    "# We can call it on the instance\n",
    "d.set_date(2014, 1, 27)\n",
    "print(d)"
   ]
  },
  {
   "cell_type": "code",
   "execution_count": 69,
   "id": "4daa287d-9024-4a55-bec8-c597af4bb7c8",
   "metadata": {},
   "outputs": [
    {
     "name": "stdout",
     "output_type": "stream",
     "text": [
      "Date(2000, 2, 1)\n"
     ]
    }
   ],
   "source": [
    "# If we call it on the class, we need to pass an instance.\n",
    "# Not what you would normally do.\n",
    "Date.set_date(d, 2000, 2, 1)\n",
    "print(d)"
   ]
  },
  {
   "cell_type": "code",
   "execution_count": 71,
   "id": "5f79aa66-347d-458d-9b0d-d3b9b28d2e23",
   "metadata": {},
   "outputs": [
    {
     "ename": "TypeError",
     "evalue": "set_date() missing 1 required positional argument: 'd'",
     "output_type": "error",
     "traceback": [
      "\u001b[0;31m---------------------------------------------------------------------------\u001b[0m",
      "\u001b[0;31mTypeError\u001b[0m                                 Traceback (most recent call last)",
      "Cell \u001b[0;32mIn[71], line 2\u001b[0m\n\u001b[1;32m      1\u001b[0m \u001b[38;5;66;03m# If we call it on the class, we get an error\u001b[39;00m\n\u001b[0;32m----> 2\u001b[0m \u001b[43mDate\u001b[49m\u001b[38;5;241;43m.\u001b[39;49m\u001b[43mset_date\u001b[49m\u001b[43m(\u001b[49m\u001b[38;5;241;43m1999\u001b[39;49m\u001b[43m,\u001b[49m\u001b[43m \u001b[49m\u001b[38;5;241;43m2\u001b[39;49m\u001b[43m,\u001b[49m\u001b[43m \u001b[49m\u001b[38;5;241;43m1\u001b[39;49m\u001b[43m)\u001b[49m\n",
      "\u001b[0;31mTypeError\u001b[0m: set_date() missing 1 required positional argument: 'd'"
     ]
    }
   ],
   "source": [
    "# If we call it on the class, we get an error\n",
    "Date.set_date(1999, 2, 1)\n",
    "\n",
    "\n",
    "# set_date is an instance method. We cannot properly call it on a class."
   ]
  },
  {
   "cell_type": "markdown",
   "id": "fecf90a6-6a40-4e06-b379-e7c9f0e3a7d7",
   "metadata": {},
   "source": [
    "## Class methods"
   ]
  },
  {
   "cell_type": "markdown",
   "id": "cd6674e9-597e-44f0-99fd-bb2618286c39",
   "metadata": {},
   "source": [
    "- Access class attributes\n",
    "- Create alternative constructor"
   ]
  },
  {
   "cell_type": "markdown",
   "id": "5cb2f900-f521-4e2a-9022-13563cdd1164",
   "metadata": {},
   "source": [
    "## Class methods accessing class attributes"
   ]
  },
  {
   "cell_type": "markdown",
   "id": "72f48e06-1190-4ae0-9c7c-98f437496fc8",
   "metadata": {},
   "source": [
    "- \"total\" is an attribute that belongs to the class.\n",
    "- We can access it using Date.total.\n",
    "- We can create a @classmethod to access it, but actually we can access it from the outside even without the class method, just using the \"class object\"\n"
   ]
  },
  {
   "cell_type": "code",
   "execution_count": 72,
   "id": "2b1f2686-874d-4431-9891-95c80c80d5d3",
   "metadata": {},
   "outputs": [],
   "source": [
    "class Date:\n",
    "    total = 0\n",
    "\n",
    "    def __init__(self, Year, Month, Day):\n",
    "        self.year  = Year\n",
    "        self.month = Month\n",
    "        self.day   = Day\n",
    "        Date.total += 1\n",
    "\n",
    "    def __str__(self):\n",
    "        return 'Date({}, {}, {})'.format(self.year, self.month, self.day)\n",
    "\n",
    "    def set_date(self, y, m, d):\n",
    "        self.year = y\n",
    "        self.month = m\n",
    "        self.day = d\n",
    "\n",
    "    @classmethod\n",
    "    def get_total(class_object):\n",
    "        print(class_object)\n",
    "        return class_object.total"
   ]
  },
  {
   "cell_type": "code",
   "execution_count": 73,
   "id": "c3616127-6f39-495e-ab80-56097e8401ef",
   "metadata": {},
   "outputs": [
    {
     "name": "stdout",
     "output_type": "stream",
     "text": [
      "Date(2013, 11, 22)\n",
      "<class '__main__.Date'>\n",
      "1\n",
      "1\n",
      "\n"
     ]
    }
   ],
   "source": [
    "d1 = Date(2013, 11, 22)\n",
    "print(d1)\n",
    "print(Date.get_total())\n",
    "print(Date.total)\n",
    "print('')"
   ]
  },
  {
   "cell_type": "code",
   "execution_count": 74,
   "id": "2b35d097-b976-4bc3-a068-981162720679",
   "metadata": {},
   "outputs": [
    {
     "name": "stdout",
     "output_type": "stream",
     "text": [
      "Date(2014, 11, 22)\n",
      "<class '__main__.Date'>\n",
      "2\n",
      "2\n",
      "\n"
     ]
    }
   ],
   "source": [
    "d2 = Date(2014, 11, 22)\n",
    "print(d2)\n",
    "print(Date.get_total())\n",
    "print(Date.total)\n",
    "print('')"
   ]
  },
  {
   "cell_type": "code",
   "execution_count": 75,
   "id": "106a70e5-393e-482e-a8f8-8e80d531db3a",
   "metadata": {},
   "outputs": [
    {
     "name": "stdout",
     "output_type": "stream",
     "text": [
      "42\n",
      "2\n",
      "<class '__main__.Date'>\n",
      "2\n",
      "2\n"
     ]
    }
   ],
   "source": [
    "d1.total = 42\n",
    "print(d1.total)\n",
    "print(d2.total)\n",
    "print(Date.get_total())\n",
    "print(Date.total)"
   ]
  },
  {
   "cell_type": "markdown",
   "id": "aca87800-ee6e-481e-86c0-dc0ebed0ccdb",
   "metadata": {},
   "source": [
    "## Default Constructor"
   ]
  },
  {
   "cell_type": "markdown",
   "id": "a9cecf93-325e-4aad-94c0-480c5e1ad07c",
   "metadata": {},
   "source": [
    "- The \"class\" keyword creates a \"class object\". The default constructor of these classes are their own names.\n",
    "- The actual code is implemented in the __new__ method of the object.\n",
    "- Calling the constructor will create an \"instance object\"."
   ]
  },
  {
   "cell_type": "markdown",
   "id": "e939bfab-a030-40e0-bfd5-347efb7eba14",
   "metadata": {},
   "source": [
    "## Alternative constructor with class method"
   ]
  },
  {
   "cell_type": "markdown",
   "id": "b6c77399-6e52-4121-bf65-4bda6641448d",
   "metadata": {},
   "source": [
    "- Class methods are used as Factory methods, they are usually good for alternative constructors. In order to be able to use a method as a class-method (Calling Date.method(...) one needs to mark the method with the @classmethod decorator)\n",
    "- Normally we create a Date instance by passing 3 numbers for Year, Monh, Day.\n",
    "- We would also like to be able to create an instance using a string like this: 2021-04-07"
   ]
  },
  {
   "cell_type": "code",
   "execution_count": 76,
   "id": "85408141-dfe5-4c35-b5f5-7e8873ce2b73",
   "metadata": {},
   "outputs": [],
   "source": [
    "class Date:\n",
    "    def __init__(self, Year, Month, Day):\n",
    "        self.year  = Year\n",
    "        self.month = Month\n",
    "        self.day   = Day\n",
    "\n",
    "    def __str__(self):\n",
    "        return 'Date({}, {}, {})'.format(self.year, self.month, self.day)\n",
    "\n",
    "    def set_date(self, y, m, d):\n",
    "        self.year = y\n",
    "        self.month = m\n",
    "        self.day = d\n",
    "\n",
    "    @classmethod\n",
    "    def from_str(cls, date_str):\n",
    "        '''Call as\n",
    "           d = Date.from_str('2013-12-30')\n",
    "        '''\n",
    "        print(cls)\n",
    "        year, month, day = map(int, date_str.split('-'))\n",
    "        return cls(year, month, day)"
   ]
  },
  {
   "cell_type": "code",
   "execution_count": 77,
   "id": "80b3d62d-27a9-4d60-a37a-b48c953dad26",
   "metadata": {},
   "outputs": [
    {
     "name": "stdout",
     "output_type": "stream",
     "text": [
      "Date(2013, 11, 22)\n",
      "Date(2014, 1, 27)\n",
      "\n",
      "<class '__main__.Date'>\n",
      "Date(2013, 10, 20)\n",
      "\n",
      "<class '__main__.Date'>\n",
      "Date(2014, 1, 27)\n",
      "Date(2012, 10, 20)\n"
     ]
    }
   ],
   "source": [
    "\n",
    "d = Date(2013, 11, 22)\n",
    "print(d)\n",
    "\n",
    "d.set_date(2014, 1, 27)\n",
    "print(d)\n",
    "print('')\n",
    "\n",
    "x = Date.from_str('2013-10-20')\n",
    "print(x)\n",
    "print('')\n",
    "\n",
    "# This works but it is not recommended\n",
    "z = d.from_str('2012-10-20')\n",
    "print(d)\n",
    "print(z)"
   ]
  },
  {
   "cell_type": "markdown",
   "id": "64ff7c33-d52d-4913-9c66-e49577decaaa",
   "metadata": {},
   "source": [
    "## Static methods"
   ]
  },
  {
   "cell_type": "markdown",
   "id": "2781a55b-cb2d-4e65-b074-93db70455abc",
   "metadata": {},
   "source": [
    "- Static methods are used when no \"class-object\" and no \"instance-object\" is required.\n",
    "- They are called on the class-object, but they don't receive it as a parameter."
   ]
  },
  {
   "cell_type": "code",
   "execution_count": 78,
   "id": "8913fb24-990b-451d-a2a4-1bc36278e051",
   "metadata": {},
   "outputs": [],
   "source": [
    "class Date(object):\n",
    "    def __init__(self, Year, Month, Day):\n",
    "        if not Date.is_valid_date(Year, Month, Day):\n",
    "            raise Exception('Invalid date')\n",
    "        self.year  = Year\n",
    "        self.month = Month\n",
    "        self.day   = Day\n",
    "\n",
    "    def __str__(self):\n",
    "        return 'Date({}, {}, {})'.format(self.year, self.month, self.day)\n",
    "\n",
    "    @staticmethod\n",
    "    def is_valid_date(year, month, day):\n",
    "        if 0 <= year <= 3000 and  1 <= month <= 12 and 1 <= day <= 31:\n",
    "            return True\n",
    "        else:\n",
    "            return False"
   ]
  },
  {
   "cell_type": "code",
   "execution_count": 80,
   "id": "232d1d06-5280-4bdf-85b5-db43ae726b7d",
   "metadata": {},
   "outputs": [
    {
     "name": "stdout",
     "output_type": "stream",
     "text": [
      "Date(2013, 10, 20)\n",
      "False\n"
     ]
    },
    {
     "ename": "Exception",
     "evalue": "Invalid date",
     "output_type": "error",
     "traceback": [
      "\u001b[0;31m---------------------------------------------------------------------------\u001b[0m",
      "\u001b[0;31mException\u001b[0m                                 Traceback (most recent call last)",
      "Cell \u001b[0;32mIn[80], line 6\u001b[0m\n\u001b[1;32m      2\u001b[0m \u001b[38;5;28mprint\u001b[39m(a)\n\u001b[1;32m      4\u001b[0m \u001b[38;5;28mprint\u001b[39m(Date\u001b[38;5;241m.\u001b[39mis_valid_date(\u001b[38;5;241m2013\u001b[39m, \u001b[38;5;241m10\u001b[39m, \u001b[38;5;241m40\u001b[39m))\n\u001b[0;32m----> 6\u001b[0m b \u001b[38;5;241m=\u001b[39m \u001b[43mDate\u001b[49m\u001b[43m(\u001b[49m\u001b[38;5;241;43m2013\u001b[39;49m\u001b[43m,\u001b[49m\u001b[43m \u001b[49m\u001b[38;5;241;43m13\u001b[39;49m\u001b[43m,\u001b[49m\u001b[43m \u001b[49m\u001b[38;5;241;43m20\u001b[39;49m\u001b[43m)\u001b[49m\n",
      "Cell \u001b[0;32mIn[78], line 4\u001b[0m, in \u001b[0;36mDate.__init__\u001b[0;34m(self, Year, Month, Day)\u001b[0m\n\u001b[1;32m      2\u001b[0m \u001b[38;5;28;01mdef\u001b[39;00m \u001b[38;5;21m__init__\u001b[39m(\u001b[38;5;28mself\u001b[39m, Year, Month, Day):\n\u001b[1;32m      3\u001b[0m     \u001b[38;5;28;01mif\u001b[39;00m \u001b[38;5;129;01mnot\u001b[39;00m Date\u001b[38;5;241m.\u001b[39mis_valid_date(Year, Month, Day):\n\u001b[0;32m----> 4\u001b[0m         \u001b[38;5;28;01mraise\u001b[39;00m \u001b[38;5;167;01mException\u001b[39;00m(\u001b[38;5;124m'\u001b[39m\u001b[38;5;124mInvalid date\u001b[39m\u001b[38;5;124m'\u001b[39m)\n\u001b[1;32m      5\u001b[0m     \u001b[38;5;28mself\u001b[39m\u001b[38;5;241m.\u001b[39myear  \u001b[38;5;241m=\u001b[39m Year\n\u001b[1;32m      6\u001b[0m     \u001b[38;5;28mself\u001b[39m\u001b[38;5;241m.\u001b[39mmonth \u001b[38;5;241m=\u001b[39m Month\n",
      "\u001b[0;31mException\u001b[0m: Invalid date"
     ]
    }
   ],
   "source": [
    "a = Date(2013, 10, 20)\n",
    "print(a)\n",
    "\n",
    "print(Date.is_valid_date(2013, 10, 40))\n",
    "\n",
    "b = Date(2013, 13, 20)"
   ]
  },
  {
   "cell_type": "markdown",
   "id": "aa7cf695-9986-45cf-be78-86018d86a105",
   "metadata": {},
   "source": [
    "## Module functions"
   ]
  },
  {
   "cell_type": "markdown",
   "id": "4c0d8ebb-1239-4f61-99f4-28a5402454fd",
   "metadata": {},
   "source": [
    "- Static methods might be better off placed in a module as simple functions."
   ]
  },
  {
   "cell_type": "code",
   "execution_count": 81,
   "id": "881a4f93-51af-4a92-9174-8cfcf19b816b",
   "metadata": {},
   "outputs": [],
   "source": [
    "def is_valid_date(year, month, day):\n",
    "    if 0 <= year <= 3000 and  1 <= month <= 12 and 1 <= day <= 31:\n",
    "        return True\n",
    "    else:\n",
    "        return False\n",
    "\n",
    "class Date(object):\n",
    "    def __init__(self, Year, Month, Day):\n",
    "        if not is_valid_date(Year, Month, Day):\n",
    "            raise Exception('Invalid date')\n",
    "        self.year  = Year\n",
    "        self.month = Month\n",
    "        self.day   = Day\n",
    "\n",
    "    def __str__(self):\n",
    "        return 'Date({}, {}, {})'.format(self.year, self.month, self.day)"
   ]
  },
  {
   "cell_type": "code",
   "execution_count": 82,
   "id": "ec6610a7-26b9-4b7c-b4a7-9428a63fe48c",
   "metadata": {},
   "outputs": [
    {
     "name": "stdout",
     "output_type": "stream",
     "text": [
      "Date(2013, 10, 20)\n",
      "False\n"
     ]
    },
    {
     "ename": "Exception",
     "evalue": "Invalid date",
     "output_type": "error",
     "traceback": [
      "\u001b[0;31m---------------------------------------------------------------------------\u001b[0m",
      "\u001b[0;31mException\u001b[0m                                 Traceback (most recent call last)",
      "Cell \u001b[0;32mIn[82], line 6\u001b[0m\n\u001b[1;32m      2\u001b[0m \u001b[38;5;28mprint\u001b[39m(a)\n\u001b[1;32m      4\u001b[0m \u001b[38;5;28mprint\u001b[39m(is_valid_date(\u001b[38;5;241m2013\u001b[39m, \u001b[38;5;241m10\u001b[39m, \u001b[38;5;241m40\u001b[39m))\n\u001b[0;32m----> 6\u001b[0m b \u001b[38;5;241m=\u001b[39m \u001b[43mDate\u001b[49m\u001b[43m(\u001b[49m\u001b[38;5;241;43m2013\u001b[39;49m\u001b[43m,\u001b[49m\u001b[43m \u001b[49m\u001b[38;5;241;43m13\u001b[39;49m\u001b[43m,\u001b[49m\u001b[43m \u001b[49m\u001b[38;5;241;43m20\u001b[39;49m\u001b[43m)\u001b[49m\n",
      "Cell \u001b[0;32mIn[81], line 10\u001b[0m, in \u001b[0;36mDate.__init__\u001b[0;34m(self, Year, Month, Day)\u001b[0m\n\u001b[1;32m      8\u001b[0m \u001b[38;5;28;01mdef\u001b[39;00m \u001b[38;5;21m__init__\u001b[39m(\u001b[38;5;28mself\u001b[39m, Year, Month, Day):\n\u001b[1;32m      9\u001b[0m     \u001b[38;5;28;01mif\u001b[39;00m \u001b[38;5;129;01mnot\u001b[39;00m is_valid_date(Year, Month, Day):\n\u001b[0;32m---> 10\u001b[0m         \u001b[38;5;28;01mraise\u001b[39;00m \u001b[38;5;167;01mException\u001b[39;00m(\u001b[38;5;124m'\u001b[39m\u001b[38;5;124mInvalid date\u001b[39m\u001b[38;5;124m'\u001b[39m)\n\u001b[1;32m     11\u001b[0m     \u001b[38;5;28mself\u001b[39m\u001b[38;5;241m.\u001b[39myear  \u001b[38;5;241m=\u001b[39m Year\n\u001b[1;32m     12\u001b[0m     \u001b[38;5;28mself\u001b[39m\u001b[38;5;241m.\u001b[39mmonth \u001b[38;5;241m=\u001b[39m Month\n",
      "\u001b[0;31mException\u001b[0m: Invalid date"
     ]
    }
   ],
   "source": [
    "a = Date(2013, 10, 20)\n",
    "print(a)\n",
    "\n",
    "print(is_valid_date(2013, 10, 40))\n",
    "\n",
    "b = Date(2013, 13, 20)"
   ]
  },
  {
   "cell_type": "markdown",
   "id": "948c6023-8af9-4f71-bd28-a8068a3bf8cc",
   "metadata": {},
   "source": [
    "## Class and static methods"
   ]
  },
  {
   "cell_type": "code",
   "execution_count": 83,
   "id": "d5f21915-d4df-4f79-9f1c-3bb71108b54b",
   "metadata": {},
   "outputs": [],
   "source": [
    "def other_method(val):\n",
    "    print(f\"other_method: {val}\")\n",
    "\n",
    "class Date(object):\n",
    "    def __init__(self, Year, Month, Day):\n",
    "        self.year  = Year\n",
    "        self.month = Month\n",
    "        self.day   = Day\n",
    "\n",
    "    def __str__(self):\n",
    "        return 'Date({}, {}, {})'.format(self.year, self.month, self.day)\n",
    "\n",
    "    @classmethod\n",
    "    def from_str(class_object, date_str):\n",
    "        '''Call as\n",
    "           d = Date.from_str('2013-12-30')\n",
    "        '''\n",
    "        print(f\"from_str: {class_object}\")\n",
    "        year, month, day = map(int, date_str.split('-'))\n",
    "\n",
    "        other_method(43)\n",
    "\n",
    "        if class_object.is_valid_date(year, month, day):\n",
    "            return class_object(year, month, day)\n",
    "        else:\n",
    "            raise Exception(\"Invalid date\")\n",
    "\n",
    "    @staticmethod\n",
    "    def is_valid_date(year, month, day):\n",
    "        if 0 <= year <= 3000 and  1 <= month <= 12 and 1 <= day <= 31:\n",
    "            return True\n",
    "        else:\n",
    "            return False"
   ]
  },
  {
   "cell_type": "code",
   "execution_count": 85,
   "id": "d4a57dff-9c4c-4a63-afc0-48336ff90532",
   "metadata": {},
   "outputs": [
    {
     "name": "stdout",
     "output_type": "stream",
     "text": [
      "from_str: <class '__main__.Date'>\n",
      "other_method: 43\n",
      "Date(2013, 10, 20)\n",
      "\n",
      "True\n",
      "False\n",
      "\n",
      "from_str: <class '__main__.Date'>\n",
      "other_method: 43\n"
     ]
    },
    {
     "ename": "Exception",
     "evalue": "Invalid date",
     "output_type": "error",
     "traceback": [
      "\u001b[0;31m---------------------------------------------------------------------------\u001b[0m",
      "\u001b[0;31mException\u001b[0m                                 Traceback (most recent call last)",
      "Cell \u001b[0;32mIn[85], line 9\u001b[0m\n\u001b[1;32m      6\u001b[0m \u001b[38;5;28mprint\u001b[39m(Date\u001b[38;5;241m.\u001b[39mis_valid_date(\u001b[38;5;241m2013\u001b[39m, \u001b[38;5;241m10\u001b[39m, \u001b[38;5;241m32\u001b[39m))\n\u001b[1;32m      7\u001b[0m \u001b[38;5;28mprint\u001b[39m(\u001b[38;5;124m'\u001b[39m\u001b[38;5;124m'\u001b[39m)\n\u001b[0;32m----> 9\u001b[0m x \u001b[38;5;241m=\u001b[39m \u001b[43mDate\u001b[49m\u001b[38;5;241;43m.\u001b[39;49m\u001b[43mfrom_str\u001b[49m\u001b[43m(\u001b[49m\u001b[38;5;124;43m'\u001b[39;49m\u001b[38;5;124;43m2013-10-32\u001b[39;49m\u001b[38;5;124;43m'\u001b[39;49m\u001b[43m)\u001b[49m\n",
      "Cell \u001b[0;32mIn[83], line 26\u001b[0m, in \u001b[0;36mDate.from_str\u001b[0;34m(class_object, date_str)\u001b[0m\n\u001b[1;32m     24\u001b[0m     \u001b[38;5;28;01mreturn\u001b[39;00m class_object(year, month, day)\n\u001b[1;32m     25\u001b[0m \u001b[38;5;28;01melse\u001b[39;00m:\n\u001b[0;32m---> 26\u001b[0m     \u001b[38;5;28;01mraise\u001b[39;00m \u001b[38;5;167;01mException\u001b[39;00m(\u001b[38;5;124m\"\u001b[39m\u001b[38;5;124mInvalid date\u001b[39m\u001b[38;5;124m\"\u001b[39m)\n",
      "\u001b[0;31mException\u001b[0m: Invalid date"
     ]
    }
   ],
   "source": [
    "\n",
    "dd = Date.from_str('2013-10-20')\n",
    "print(dd)\n",
    "\n",
    "print('')\n",
    "print(Date.is_valid_date(2013, 10, 20))\n",
    "print(Date.is_valid_date(2013, 10, 32))\n",
    "print('')\n",
    "\n",
    "x = Date.from_str('2013-10-32')"
   ]
  },
  {
   "cell_type": "markdown",
   "id": "4b895104-2b97-44b5-a6f8-ac4dd84b671a",
   "metadata": {},
   "source": [
    "## Special methods"
   ]
  },
  {
   "cell_type": "markdown",
   "id": "f1339dc2-0204-4c37-9091-2c0e2aeb8b72",
   "metadata": {},
   "source": [
    "- `__str__`\n",
    "- `__repr__`\n",
    "- `__eq__`\n",
    "- `__lt__`\n",
    "\n",
    "\n",
    "### Some magic methods or dunder methods (short for \"double underscore\" methods)\n",
    "\n",
    "1. `__init__(self, ...)`: Initializes a newly created object. It is called automatically when an object is created from a class and allows you to set initial attributes or perform any necessary setup.\n",
    "\n",
    "2. `__str__(self)`: Returns a string representation of the object. It is called by the built-in `str()` function and provides a human-readable string representation of the object.\n",
    "\n",
    "3. `__repr__(self)`: Returns a string representation of the object used for debugging and representation. It is called by the built-in `repr()` function and should provide a concise and unambiguous representation of the object.\n",
    "\n",
    "4. `__len__(self)`: Returns the length of the object. It is called by the built-in `len()` function and allows you to define custom behavior for determining the length of an object.\n",
    "\n",
    "5. `__getitem__(self, key)`: Enables indexing and accessing elements using square brackets (`[]`). It is called when an element is accessed using indexing or slicing.\n",
    "\n",
    "6. `__setitem__(self, key, value)`: Enables setting values for elements using square brackets (`[]`). It is called when an element is assigned a value using indexing.\n",
    "\n",
    "7. `__delitem__(self, key)`: Enables deleting elements using the `del` statement and square brackets (`[]`). It is called when an element is deleted using the `del` statement.\n",
    "\n",
    "8. `__iter__(self)`: Returns an iterator object. It enables iteration over the object using a loop or the `iter()` function.\n",
    "\n",
    "9. `__next__(self)`: Returns the next value from the iterator. It is called by the built-in `next()` function and allows you to define custom iteration behavior.\n",
    "\n",
    "10. `__call__(self, ...)`: Allows the object to be called as a function. It is called when the object is invoked like a function.\n",
    "\n",
    "11. `__eq__(self, other)`: Determines equality between two objects. It is called by the `==` operator and allows you to define custom equality behavior.\n",
    "\n",
    "12. `__lt__(self, other)`, `__gt__(self, other)`, `__le__(self, other)`, `__ge__(self, other)`: Implement comparison operators `<`, `>`, `<=`, `>=` respectively. They allow you to define custom comparison behavior between objects.\n"
   ]
  },
  {
   "cell_type": "markdown",
   "id": "68da9222-5df5-418b-a29f-eb6233d40df8",
   "metadata": {},
   "source": [
    "## Opearator overloading"
   ]
  },
  {
   "cell_type": "code",
   "execution_count": 106,
   "id": "cabf50b3-5ddb-429a-a350-fe516330d957",
   "metadata": {},
   "outputs": [],
   "source": [
    "import copy\n",
    "\n",
    "class Rect:\n",
    "    def __init__(self, w, h):\n",
    "        self.width  = w\n",
    "        self.height = h\n",
    "\n",
    "    def __str__(self):\n",
    "        return 'Rect[{}, {}]'.format(self.width, self.height)\n",
    "\n",
    "    def __add__(self,other):\n",
    "        if type(other) != self.__class__:\n",
    "            raise Exception(f\"{type(other)} not supported\")\n",
    "        else:\n",
    "            new = copy.deepcopy(self)\n",
    "            new.height += other.height\n",
    "            new.width  += other.width\n",
    "            return new\n",
    "        \n",
    "    def __mul__(self, other): # r * Rect\n",
    "        o = int(other)\n",
    "        new = copy.deepcopy(self)\n",
    "        new.height *= o\n",
    "        new.width  *= o\n",
    "        return new\n",
    "    \n",
    "    def __rmul__(self,other): # Rect * r\n",
    "        o = int(other)\n",
    "        new = copy.deepcopy(self)\n",
    "        new.height *= o\n",
    "        new.width  *= o\n",
    "        return new"
   ]
  },
  {
   "cell_type": "code",
   "execution_count": 110,
   "id": "7c07a289-2640-421a-9c54-7cdc38dfda42",
   "metadata": {},
   "outputs": [
    {
     "name": "stdout",
     "output_type": "stream",
     "text": [
      "Rect[10, 20]\n",
      "Rect[30, 60]\n",
      "Rect[10, 20]\n",
      "Rect[40, 80]\n",
      "Rect[43, 31]\n"
     ]
    }
   ],
   "source": [
    "r = Rect(10, 20)\n",
    "\n",
    "\n",
    "print(r)\n",
    "# __mul__\n",
    "print(r * 3)\n",
    "print(r)\n",
    "\n",
    "# In order to make the multiplication work in the other direction, one needs to implement the __rmul__ method.\n",
    "# __rmul__\n",
    "print(4 * r) \n",
    "\n",
    "s = Rect(33,11)\n",
    "# __add__\n",
    "print(r + s)"
   ]
  },
  {
   "cell_type": "markdown",
   "id": "568f8e0e-8692-484e-b3f8-5d74693b79be",
   "metadata": {},
   "source": [
    "## Operator overloading methods"
   ]
  },
  {
   "cell_type": "markdown",
   "id": "99d92193-59ab-42c6-9325-ad8c9693ffc8",
   "metadata": {},
   "source": [
    "- `*    __mul__,  __rmul__`\n",
    "- `+    __add__, __radd__`\n",
    "- `+=   __iadd__`\n",
    "- `!=   __ne__`\n",
    "- `==   __eq__`\n",
    "- `<    __lt__`\n",
    "- `<=   __le__`\n",
    "- `>    __gt__`\n",
    "- `>=   __ge__`"
   ]
  },
  {
   "cell_type": "markdown",
   "id": "f8cb09c0-2aeb-4828-a54c-48d77d23dcfe",
   "metadata": {},
   "source": [
    "## Declaring attributes (dataclasses)"
   ]
  },
  {
   "cell_type": "markdown",
   "id": "1c2cec54-0128-42d2-b4c6-af72f1cdc298",
   "metadata": {},
   "source": [
    "- Starting from 3.7 dataclasses\n",
    "- Typehints are required but not enforced!\n",
    "\n",
    "```python\n",
    "from dataclasses import dataclass\n",
    "```"
   ]
  },
  {
   "cell_type": "code",
   "execution_count": 115,
   "id": "6292e4b4-93d8-43c7-ab50-127efc537fba",
   "metadata": {},
   "outputs": [
    {
     "name": "stdout",
     "output_type": "stream",
     "text": [
      "2\n",
      "3\n",
      "left\n",
      "7\n",
      "blue\n",
      "infinity\n"
     ]
    }
   ],
   "source": [
    "from dataclasses import dataclass\n",
    "\n",
    "@dataclass\n",
    "class Point():\n",
    "    x : float\n",
    "    y : float\n",
    "    name : str\n",
    "\n",
    "\n",
    "p1 = Point(2, 3, 'left')\n",
    "print(p1.x)    # 2\n",
    "print(p1.y)    # 3\n",
    "print(p1.name) # left\n",
    "\n",
    "p1.x = 7       # 7\n",
    "print(p1.x)\n",
    "\n",
    "p1.color = 'blue'\n",
    "print(p1.color)   # blue\n",
    "\n",
    "p1.x = 'infinity' # infinity\n",
    "print(p1.x)"
   ]
  },
  {
   "cell_type": "markdown",
   "id": "08d0245f-c45e-4b87-be37-a9df346a4237",
   "metadata": {},
   "source": [
    "## Dataclasses and __repr__"
   ]
  },
  {
   "cell_type": "code",
   "execution_count": 112,
   "id": "a53aa0f7-3638-495f-90ca-c0650749a009",
   "metadata": {},
   "outputs": [
    {
     "name": "stdout",
     "output_type": "stream",
     "text": [
      "Point(x=2, y=3, name='left')\n"
     ]
    }
   ],
   "source": [
    "# __repr__ is implemented\n",
    "\n",
    "\n",
    "p1 = Point(2, 3, 'left')\n",
    "print(p1)    # Point(x=2, y=3, name='left')"
   ]
  },
  {
   "cell_type": "markdown",
   "id": "672588ae-1b47-40a2-938b-ead7d2636849",
   "metadata": {},
   "source": [
    "## Dataclasses and __eq__"
   ]
  },
  {
   "cell_type": "code",
   "execution_count": 114,
   "id": "75f08526-2400-4691-87af-ae9dfd22e8b7",
   "metadata": {},
   "outputs": [
    {
     "name": "stdout",
     "output_type": "stream",
     "text": [
      "2\n",
      "3\n",
      "left\n",
      "True\n",
      "False\n"
     ]
    }
   ],
   "source": [
    "# __eq__ is automatically implemented\n",
    "\n",
    "p1 = Point(2, 3, 'left')\n",
    "print(p1.x)    # 2\n",
    "print(p1.y)    # 3\n",
    "print(p1.name) # left\n",
    "\n",
    "p2 = Point(2, 3, 'left')\n",
    "p3 = Point(2, 3, 'right')\n",
    "\n",
    "print(p1 == p2)  # True\n",
    "print(p1 == p3)  # False"
   ]
  },
  {
   "cell_type": "markdown",
   "id": "9b41bd4c-377a-47b2-82bc-ad3484cc53a5",
   "metadata": {},
   "source": [
    "## Dataclasses create __init__ and call __post_init__"
   ]
  },
  {
   "cell_type": "markdown",
   "id": "0e942f8f-b80c-4417-9099-2d710cc674cd",
   "metadata": {},
   "source": [
    "- `__init__` is implemented and that's how the attributes are initialized\n",
    "- `__post_init__` is called after `__init__` to allow for further initializations\n"
   ]
  },
  {
   "cell_type": "code",
   "execution_count": 116,
   "id": "703c9596-b9bf-4a63-b4b7-0284c2d9f04b",
   "metadata": {},
   "outputs": [],
   "source": [
    "from dataclasses import dataclass\n",
    "\n",
    "@dataclass\n",
    "class Point():\n",
    "    x : float\n",
    "    y : float\n",
    "    name : str\n",
    "\n",
    "    def __post_init__(self):\n",
    "        print(f\"In post init: {self.name}\")"
   ]
  },
  {
   "cell_type": "code",
   "execution_count": 118,
   "id": "ecfadb37-4c50-4773-be9d-e26bf5620f7d",
   "metadata": {},
   "outputs": [
    {
     "name": "stdout",
     "output_type": "stream",
     "text": [
      "In post init: left\n"
     ]
    }
   ],
   "source": [
    "\n",
    "p1 = Point(2, 3, 'left')"
   ]
  },
  {
   "cell_type": "markdown",
   "id": "33c049d5-03c3-49d9-a5ea-b0453b05769e",
   "metadata": {},
   "source": [
    "## Dataclasses can provide default values to attributes"
   ]
  },
  {
   "cell_type": "code",
   "execution_count": 120,
   "id": "6c262deb-ed26-4cf6-a19b-1256fceefe3d",
   "metadata": {},
   "outputs": [],
   "source": [
    "from dataclasses import dataclass\n",
    "\n",
    "@dataclass\n",
    "class Point():\n",
    "    x : float = 0\n",
    "    y : float = 0\n",
    "    name : str = 'Nameless'\n",
    "\n",
    "    "
   ]
  },
  {
   "cell_type": "code",
   "execution_count": 121,
   "id": "806e8c7e-8c45-47b9-a41a-0a3f71fe82e7",
   "metadata": {},
   "outputs": [
    {
     "name": "stdout",
     "output_type": "stream",
     "text": [
      "Point(x=2, y=3, name='left')\n",
      "Point(x=0, y=0, name='Nameless')\n",
      "Point(x=42, y=0, name='Good')\n"
     ]
    }
   ],
   "source": [
    "p1 = Point(2, 3, 'left')\n",
    "print(p1)  # Point(x=2, y=3, name='left')\n",
    "\n",
    "p2 = Point()\n",
    "print(p2) # Point(x=0, y=0, name='Nameless')\n",
    "\n",
    "p3 = Point( name = 'Good', x = 42)\n",
    "print(p3) # Point(x=42, y=0, name='Good')\n",
    "\n",
    "\n",
    "# Attributes with default values must before attributes without default"
   ]
  },
  {
   "cell_type": "markdown",
   "id": "0a9a5453-8ccc-455f-88b5-d3a214f91100",
   "metadata": {},
   "source": [
    "## Dataclasses and default factory"
   ]
  },
  {
   "cell_type": "code",
   "execution_count": 126,
   "id": "6c8f8cbb-de8c-466a-8d98-b9dc0485a36c",
   "metadata": {},
   "outputs": [
    {
     "name": "stdout",
     "output_type": "stream",
     "text": [
      "Fruits(names=['Apple', 'Banana'])\n",
      "Fruits(names=['Peach', 'Pear'])\n"
     ]
    }
   ],
   "source": [
    "from dataclasses import dataclass, field\n",
    "\n",
    "@dataclass\n",
    "class Fruits():\n",
    "    # names : list = []  # ValueError: mutable default <class 'list'> for field names is not allowed: use default_factory\n",
    "    names : list = field(default_factory=lambda : [])\n",
    "\n",
    "\n",
    "f1 = Fruits()\n",
    "f1.names.append('Apple')\n",
    "f1.names.append('Banana')\n",
    "print(f1)      # Fruits(names=['Apple', 'Banana'])\n",
    "\n",
    "\n",
    "f2 = Fruits(['Peach', 'Pear'])\n",
    "print(f2)      # Fruits(names=['Peach', 'Pear'])"
   ]
  },
  {
   "cell_type": "markdown",
   "id": "51042c40-d080-4588-bf26-ec3b9a8a528c",
   "metadata": {},
   "source": [
    "## Read only (frozen) Dataclass"
   ]
  },
  {
   "cell_type": "markdown",
   "id": "2c8b3141-dd8d-4d18-8c22-08d87a83cfee",
   "metadata": {},
   "source": [
    "- `@dataclass(frozen = True)` makes the class immutable"
   ]
  },
  {
   "cell_type": "code",
   "execution_count": 128,
   "id": "c37e567e-e6b0-4923-9c5b-8f5d01305062",
   "metadata": {},
   "outputs": [],
   "source": [
    "from dataclasses import dataclass\n",
    "\n",
    "@dataclass(frozen = True)\n",
    "class Point():\n",
    "    x : float\n",
    "    y : float\n",
    "    name : str\n",
    "\n",
    "\n",
    "p1 = Point(2, 3, 'left')\n",
    "print(p1)           # Point(x=2, y=3, name='left')"
   ]
  },
  {
   "cell_type": "code",
   "execution_count": 131,
   "id": "c46e6481-b971-4ee4-b776-bae007486c14",
   "metadata": {},
   "outputs": [
    {
     "ename": "FrozenInstanceError",
     "evalue": "cannot assign to field 'x'",
     "output_type": "error",
     "traceback": [
      "\u001b[0;31m---------------------------------------------------------------------------\u001b[0m",
      "\u001b[0;31mFrozenInstanceError\u001b[0m                       Traceback (most recent call last)",
      "Cell \u001b[0;32mIn[131], line 1\u001b[0m\n\u001b[0;32m----> 1\u001b[0m p1\u001b[38;5;241m.\u001b[39mx \u001b[38;5;241m=\u001b[39m \u001b[38;5;241m7\u001b[39m          \u001b[38;5;66;03m# dataclasses.FrozenInstanceError: cannot assign to field 'x'\u001b[39;00m\n\u001b[1;32m      2\u001b[0m p1\u001b[38;5;241m.\u001b[39mcolor \u001b[38;5;241m=\u001b[39m \u001b[38;5;124m'\u001b[39m\u001b[38;5;124mblue\u001b[39m\u001b[38;5;124m'\u001b[39m\n",
      "File \u001b[0;32m<string>:4\u001b[0m, in \u001b[0;36m__setattr__\u001b[0;34m(self, name, value)\u001b[0m\n",
      "\u001b[0;31mFrozenInstanceError\u001b[0m: cannot assign to field 'x'"
     ]
    }
   ],
   "source": [
    "p1.x = 7          # dataclasses.FrozenInstanceError: cannot assign to field 'x'\n",
    "p1.color = 'blue' # dataclasses.FrozenInstanceError: cannot assign to field 'color'"
   ]
  },
  {
   "cell_type": "markdown",
   "id": "9a6a1b0b-6b42-4578-848d-bd27c5a610f8",
   "metadata": {},
   "source": [
    "## Serialization of instances with pickle"
   ]
  },
  {
   "cell_type": "code",
   "execution_count": 137,
   "id": "036ce24f-f534-417b-b075-3f89bd4d6b17",
   "metadata": {},
   "outputs": [
    {
     "name": "stdout",
     "output_type": "stream",
     "text": [
      "{'name': 'Some Name', 'address': ['country', 'city', 'street'], 'repr': <__main__.A object at 0x7ff09922f6a0>}\n",
      "{'name': 'Some Name', 'address': ['country', 'city', 'street'], 'repr': <__main__.A object at 0x7ff098faab50>}\n",
      "42\n",
      "FooBar\n"
     ]
    }
   ],
   "source": [
    "import pickle\n",
    "\n",
    "class A(object):\n",
    "    amount : int\n",
    "    name : str\n",
    "    \n",
    "    def __init__(self, amount, name):\n",
    "        self.amount = amount\n",
    "        self.name = name\n",
    "\n",
    "\n",
    "the_instance = A(42, \"FooBar\")\n",
    "\n",
    "a = {\n",
    "    \"name\": \"Some Name\",\n",
    "    \"address\" : ['country', 'city', 'street'],\n",
    "    'repr' : the_instance,\n",
    "}\n",
    "\n",
    "print(a)\n",
    "\n",
    "pickle_string = pickle.dumps(a)\n",
    "\n",
    "b = pickle.loads(pickle_string)\n",
    "\n",
    "print(b)\n",
    "\n",
    "print(b['repr'].amount)\n",
    "print(b['repr'].name)"
   ]
  },
  {
   "cell_type": "markdown",
   "id": "3c1b664e-4f79-4708-afd2-2162541e8539",
   "metadata": {},
   "source": [
    "## Class in function"
   ]
  },
  {
   "cell_type": "code",
   "execution_count": 140,
   "id": "81d8423c-0698-4d0b-abcb-6fe13a983df2",
   "metadata": {},
   "outputs": [
    {
     "name": "stdout",
     "output_type": "stream",
     "text": [
      "before creating instance\n",
      "__init__ of MyClass\n",
      "<__main__.creator.<locals>.MyClass object at 0x7ff0991ee820>\n",
      "MyClass\n"
     ]
    }
   ],
   "source": [
    "def creator():\n",
    "    class MyClass:\n",
    "        def __init__(self):\n",
    "            print('__init__ of MyClass')\n",
    "\n",
    "    print('before creating instance')\n",
    "    o = MyClass()\n",
    "    print(o)\n",
    "    print(o.__class__.__name__)\n",
    "\n",
    "creator()\n",
    "\n",
    "# before creating instance\n",
    "# __init_ of MyClass\n",
    "# <__main__.creator.<locals>.MyClass object at 0x7fa4d8d581c0>\n",
    "# MyClass\n",
    "\n",
    "# Cannot use it outside of the function:\n",
    "# MyClass()  # NameError: name 'MyClass' is not defined"
   ]
  },
  {
   "cell_type": "markdown",
   "id": "d34b2a90-c806-4ed0-9247-73b9b8ad7fe6",
   "metadata": {},
   "source": [
    "## Exercise: rectangle"
   ]
  },
  {
   "cell_type": "markdown",
   "id": "32a1b546-534f-4ac8-9b31-d128d57b1500",
   "metadata": {},
   "source": [
    "- Take the Rect class in the shapes module. Implement `__rmul__`, but in that case multiply the width of the rectangle.\n",
    "\n",
    "- Implement the addition of two rectangles. I think this should be defined only if one of the sides is the same, but if you have an idea how to add two rectangualars of different sides, then go ahead, implement that.\n",
    "\n",
    "- Also implement all the comparision operators when comparing two rectangles, compare the area of the two. (like less-than) Do you need to implement all of them?"
   ]
  },
  {
   "cell_type": "code",
   "execution_count": 164,
   "id": "52b228a9-ff61-405d-ab08-068d98d896ef",
   "metadata": {},
   "outputs": [
    {
     "name": "stdout",
     "output_type": "stream",
     "text": [
      "str a 3 by 4 Rectangle\n",
      "str b 4 by 4 Rectangle\n",
      "repr c Rect(1,1)\n",
      "----\n",
      "Rect(6,6)\n",
      "Rect(6,8)\n",
      "Rect(6,14)\n",
      "7 by 7 Rectangle\n",
      "Rect(-6,-8)\n",
      "----\n",
      "a == b False\n",
      "b != 4 True\n",
      "b >= a True\n",
      "a >  b False\n",
      "a >= c True\n",
      "c < a True\n",
      "a <= b True\n",
      "b <= c False\n"
     ]
    }
   ],
   "source": [
    "from dataclasses import dataclass\n",
    "import copy\n",
    "\n",
    "class Rect():\n",
    "    height: int\n",
    "    width: int\n",
    "    \n",
    "    def __init__(self,h,w):\n",
    "        self.height = h\n",
    "        self.width = w\n",
    "    \n",
    "    def __mul__(self,m):\n",
    "        new_rect = copy.deepcopy(self)\n",
    "        new_rect.height = self.height * m\n",
    "        new_rect.width = self.width * m\n",
    "        return new_rect\n",
    "    def __rmul__(self,m):\n",
    "        return self * m\n",
    "    \n",
    "    def __add__(self,other):\n",
    "        if type(other) != self.__class__:\n",
    "            raise Exception(\"Type comparison not supported\")\n",
    "        else:\n",
    "            new_rect = copy.deepcopy(self)\n",
    "            if self.height == other.height:\n",
    "                new_rect.width = self.width + other.width\n",
    "            elif self.width == other.width:\n",
    "                new_rect.height = self.height + other.height\n",
    "            else:\n",
    "                raise Exception(\"Two rectangles cannot be added\")\n",
    "            return new_rect\n",
    "    \n",
    "    def __str__(self):\n",
    "        return f\"{self.height} by {self.width} Rectangle\"\n",
    "    \n",
    "    def __repr__(self):\n",
    "        return f\"Rect({self.height},{self.width})\"\n",
    "    \n",
    "    def __eq__(self,other):\n",
    "        if type(other) != self.__class__:\n",
    "            raise Exception(\"Type comparison not supported\")\n",
    "        else:\n",
    "            return self.height == other.height and self.width == other.width\n",
    "    def __ne__(self,other):\n",
    "        if type(other) != self.__class__:\n",
    "            return True\n",
    "        else:\n",
    "            return self.height != other.height or self.width != other.width\n",
    "            \n",
    "    def __gt__(self,other):\n",
    "        if type(other) != self.__class__:\n",
    "            raise Exception(\"Type comparison not supported\")\n",
    "        else:\n",
    "            return self.height > other.height and self.width > other.width\n",
    "        \n",
    "    def __ge__(self,other):\n",
    "        if type(other) != self.__class__:\n",
    "            raise Exception(\"Type comparison not supported\")\n",
    "        else:\n",
    "            return self.height >= other.height and self.width >= other.width\n",
    "    \n",
    "    def __lt__(self,other):\n",
    "        if type(other) != self.__class__:\n",
    "            raise Exception(\"Type comparison not supported\")\n",
    "        else:\n",
    "            return self.height < other.height and self.width < other.width\n",
    "        \n",
    "    def __le__(self,other):\n",
    "        if type(other) != self.__class__:\n",
    "            raise Exception(\"Type comparison not supported\")\n",
    "        else:\n",
    "            return self.height <= other.height and self.width <= other.width\n",
    "         \n",
    "        \n",
    "a = Rect(3,4)\n",
    "b = Rect(4,4)\n",
    "c = Rect(1,1)\n",
    "\n",
    "print('str a', a)\n",
    "print('str b', b)\n",
    "print('repr c', repr(c))\n",
    "\n",
    "print('----')\n",
    "print(repr(6 *c))\n",
    "print(repr(2 * a))\n",
    "print(repr(6 * c + 2 * a))\n",
    "print(c * 7)\n",
    "print(repr(-2 * a ))\n",
    "print('----')\n",
    "#comparisons\n",
    "print('a == b', a == b)\n",
    "# print(a == 3) # Exception: Type comparison not supported\n",
    "print('b != 4', b != 4)\n",
    "print('b >= a', b >= a)\n",
    "print('a >  b', a >  b)\n",
    "print('a >= c', a >= c)\n",
    "print('c < a', c < a)\n",
    "print('a <= b', a <= b)\n",
    "print('b <= c', b <= c)"
   ]
  },
  {
   "cell_type": "markdown",
   "id": "99d01ae9-4f6d-487a-9fb2-ff8f8d0da4af",
   "metadata": {},
   "source": [
    "## Exercise: SNMP numbers"
   ]
  },
  {
   "cell_type": "markdown",
   "id": "d0900ad6-b665-46c1-ad55-3fb58fdf7aeb",
   "metadata": {},
   "source": [
    "- SNMP numbers are strings consisting a series of integers separated by dots: 1.5.2, 3.7.11.2\n",
    "- Create a class that can hold such an snmp number. Make sure we can compare them with less-than (the comparision is pair-wise for each number until we find two numbers that are different. If one SNMP number is the prefix is the other then the shorter is \"smaller\").\n",
    "- Add a class-method, that can tell us how many SNMP numbers have been created.\n",
    "- Write a separate file to add unit-tests"
   ]
  },
  {
   "cell_type": "code",
   "execution_count": 203,
   "id": "109a573c-0b19-4e85-b813-d3b6a3c3475a",
   "metadata": {},
   "outputs": [
    {
     "name": "stdout",
     "output_type": "stream",
     "text": [
      "False\n",
      "True\n",
      "False\n",
      "True\n",
      "0\n"
     ]
    }
   ],
   "source": [
    "from dataclasses import dataclass, field\n",
    "\n",
    "@dataclass\n",
    "class SNMP:\n",
    "    count = 0\n",
    "    \n",
    "    numbers : list = field(default_factory=lambda : [])\n",
    "\n",
    "    \n",
    "    def __init__(self, *numbers):\n",
    "        self.numbers = numbers\n",
    "        SNMP.count += 1\n",
    "    \n",
    "    def __del__(self):\n",
    "        SNMP.count -= 1\n",
    "        \n",
    "    def __str__(self):\n",
    "        return '.'.join([str(n) for n in self.numbers])\n",
    "    \n",
    "    def __gt__ (self,other):\n",
    "        if len(self.numbers) > len(other.numbers):\n",
    "            return True\n",
    "        elif len(other.numbers) > len(self.numbers):\n",
    "            return False\n",
    "        \n",
    "        else:\n",
    "            for i,j in zip(self.numbers,other.numbers):\n",
    "                if i > j:\n",
    "                    return True\n",
    "                elif i < j:\n",
    "                    return False\n",
    "                else:\n",
    "                    continue\n",
    "            return False\n",
    "    \n",
    "    def __ge__ (self,other):\n",
    "        if len(self.numbers) > len(other.numbers):\n",
    "            return True\n",
    "        elif len(other.numbers) > len(self.numbers):\n",
    "            return False\n",
    "        else:\n",
    "            for i,j in zip(self.numbers,other.numbers):\n",
    "                if i > j:\n",
    "                    return True\n",
    "                elif i < j:\n",
    "                    return False\n",
    "                else:\n",
    "                    continue\n",
    "            return True\n",
    "    def __lt__(self,other):\n",
    "        return other >= self\n",
    "    \n",
    "    def __le__(self,other):\n",
    "        return other > self\n",
    "\n",
    "\n",
    "s = SNMP(10,11,12)\n",
    "p = SNMP(10,11,11)\n",
    "print(s < p)\n",
    "print(p < s)\n",
    "print(s <= p)\n",
    "print(p <= s)\n",
    "print(SNMP.count)\n"
   ]
  },
  {
   "cell_type": "markdown",
   "id": "e33a1563-329b-43bd-8459-684f06bc9bbc",
   "metadata": {},
   "source": [
    "## Exercise: Implement a Gene inheritance model combining DNA"
   ]
  },
  {
   "cell_type": "markdown",
   "id": "f6e9c01f-f989-4892-8c33-cfe0e5c3b355",
   "metadata": {},
   "source": [
    "- A class representing a person. \n",
    "- It has an attribute called \"genes\" which is string of letters.\n",
    "- Each character is a gene.\n",
    "- Implement the + operator on genes that will create a new \"Person\" and for the gene will select one randomly from each parent.\n",
    "\n",
    "```\n",
    "a = Person('ABC')\n",
    "b = Person('DEF')\n",
    "\n",
    "c = a + b\n",
    "print(c.gene) # ABF\n",
    "```"
   ]
  },
  {
   "cell_type": "code",
   "execution_count": 243,
   "id": "9c256013-1c55-4ed3-ab8b-5ed6093eb0a5",
   "metadata": {},
   "outputs": [
    {
     "name": "stdout",
     "output_type": "stream",
     "text": [
      "Person(UBWDYZ)\n",
      "Person(ABCXYF)\n",
      "Person(UVWXEF)\n",
      "Person(UBCXEZ)\n"
     ]
    }
   ],
   "source": [
    "import random\n",
    "\n",
    "class Person():\n",
    "    \n",
    "    def __init__(self, genes):\n",
    "        self.genes = genes\n",
    "    \n",
    "    def __add__(self,other):\n",
    "        child = ''\n",
    "        for s,o in zip(self.genes,other.genes):\n",
    "            if random.random() >= 0.5:\n",
    "                child += s\n",
    "            else:\n",
    "                child += o\n",
    "        return Person(child)\n",
    "    \n",
    "    def __str__(self):\n",
    "        return f'Person({self.genes})'\n",
    "    \n",
    "dad = Person('ABCDEF')\n",
    "mom = Person('UVWXYZ0')\n",
    "for i in range(4):\n",
    "    print(mom + dad)\n",
    "            "
   ]
  },
  {
   "cell_type": "code",
   "execution_count": 235,
   "id": "2b33207e-2b7d-44f3-b320-361ab7533b1a",
   "metadata": {},
   "outputs": [
    {
     "name": "stdout",
     "output_type": "stream",
     "text": [
      "A D\n",
      "B E\n",
      "C F\n",
      "AEC\n"
     ]
    }
   ],
   "source": [
    "next_gene = \"\"\n",
    "\n",
    "for f,m in zip('ABC','DEFG'):\n",
    "    print(f,m)\n",
    "    if random.random() >= 0.5:\n",
    "        next_gene += m\n",
    "    else:\n",
    "        next_gene += f\n",
    "\n",
    "print(next_gene)\n"
   ]
  },
  {
   "cell_type": "markdown",
   "id": "868bc67d-3ae3-4517-a97c-5589c09a8314",
   "metadata": {},
   "source": [
    "## Exercise: imaginary numbers - complex numbers"
   ]
  },
  {
   "cell_type": "markdown",
   "id": "74fea72f-00e3-4429-824f-e631d2613bcd",
   "metadata": {},
   "source": [
    "- Create a class that will represent imaginary numbers (x, y*i) and has methods to add and multiply two imaginary numbers."
   ]
  },
  {
   "cell_type": "code",
   "execution_count": 248,
   "id": "935838bb-9398-46a3-b4d5-8967a6794cd2",
   "metadata": {},
   "outputs": [],
   "source": [
    "class Z:\n",
    "    def __init__(self, x, y):\n",
    "        self.x = x\n",
    "        self.y = y\n",
    "\n",
    "    def __add__(self, other):\n",
    "        if isinstance(other, Z):\n",
    "            real_part = self.x + other.x\n",
    "            imaginary_part = self.y + other.y\n",
    "        elif isinstance(other, int):\n",
    "            real_part = self.x + other\n",
    "            imaginary_part = self.y\n",
    "        else:\n",
    "            raise TypeError(\"Unsupported operand type(s) for +: 'Z' and '{}'\".format(type(other).__name__))\n",
    "        return Z(real_part, imaginary_part)\n",
    "\n",
    "    def __mul__(self, other):\n",
    "        if isinstance(other, Z):\n",
    "            real_part = (self.x * other.x) - (self.y * other.y)\n",
    "            imaginary_part = (self.x * other.y) + (self.y * other.x)\n",
    "        elif isinstance(other, int):\n",
    "            real_part = self.x * other\n",
    "            imaginary_part = self.y * other\n",
    "        else:\n",
    "            raise TypeError(\"Unsupported operand type(s) for *: 'Z' and '{}'\".format(type(other).__name__))\n",
    "        return Z(real_part, imaginary_part)\n",
    "\n",
    "    def __pow__(self, exponent):\n",
    "        if isinstance(exponent, int):\n",
    "            if exponent < 0:\n",
    "                raise ValueError(\"Exponent must be a non-negative integer\")\n",
    "            result = Z(1, 0)\n",
    "            for _ in range(exponent):\n",
    "                result *= self\n",
    "            return result\n",
    "        else:\n",
    "            raise TypeError(\"Unsupported operand type(s) for **: 'Z' and '{}'\".format(type(exponent).__name__))\n",
    "\n",
    "    def __str__(self):\n",
    "        if self.y >= 0:\n",
    "            return f\"{self.x} + {self.y}i\"\n",
    "        else:\n",
    "            return f\"{self.x} - {abs(self.y)}i\"\n"
   ]
  },
  {
   "cell_type": "code",
   "execution_count": 249,
   "id": "cd7b987c-1656-4e99-b67b-adcafb12ed91",
   "metadata": {},
   "outputs": [
    {
     "name": "stdout",
     "output_type": "stream",
     "text": [
      "Sum with Z object: 6 + 2i\n",
      "Sum with integer: 7 + 3i\n",
      "Product with Z object: 11 + 10i\n",
      "Product with integer: 6 + 9i\n",
      "Power: -46 + 9i\n"
     ]
    }
   ],
   "source": [
    "num1 = Z(2, 3)\n",
    "\n",
    "sum_num1 = num1 + Z(4, -1)\n",
    "print(\"Sum with Z object:\", sum_num1)  # Output: 6 + 2i\n",
    "\n",
    "sum_num2 = num1 + 5\n",
    "print(\"Sum with integer:\", sum_num2)  # Output: 7 + 3i\n",
    "\n",
    "product_num1 = num1 * Z(4, -1)\n",
    "print(\"Product with Z object:\", product_num1)  # Output: 11 + 10i\n",
    "\n",
    "product_num2 = num1 * 3\n",
    "print(\"Product with integer:\", product_num2)  # Output: 6 + 9i\n",
    "\n",
    "power_num = num1 ** 3\n",
    "print(\"Power:\", power_num)  # Output: -46 + 9i\n"
   ]
  },
  {
   "cell_type": "markdown",
   "id": "05d0cf4f-4f56-4ec7-921a-6b87fd909a86",
   "metadata": {},
   "source": [
    "## Instance Attribute"
   ]
  },
  {
   "cell_type": "markdown",
   "id": "d74ca2ac-0822-4781-999a-a3bf075fb75d",
   "metadata": {},
   "source": [
    "- The attributes of the instance object can be set via 'self' from within the class."
   ]
  },
  {
   "cell_type": "code",
   "execution_count": 250,
   "id": "46808ae7-2547-4727-a552-f4eb6a389add",
   "metadata": {},
   "outputs": [
    {
     "name": "stdout",
     "output_type": "stream",
     "text": [
      "Joseph\n",
      "Classy\n",
      "Joe\n",
      "Classy\n",
      "Classy\n",
      "Joe\n",
      "Joe\n",
      "General\n",
      "General\n",
      "Joe\n",
      "Zorg\n",
      "General\n",
      "General\n",
      "Zorg\n"
     ]
    }
   ],
   "source": [
    "class Person():\n",
    "    name = 'Joseph'\n",
    "\n",
    "    def __init__(self, given_name):\n",
    "        self.name = given_name\n",
    "\n",
    "    def show_class(self):\n",
    "        return Person.name\n",
    "\n",
    "    def show_instance(self):\n",
    "        return self.name\n",
    "\n",
    "print(Person.name)        # Joseph\n",
    "\n",
    "Person.name = 'Classy'\n",
    "print(Person.name)     # Classy\n",
    "# print(Person.show_class()) # TypeError: show_class() missing 1 required positional argument: 'self'\n",
    "\n",
    "x = Person('Joe')\n",
    "print(x.name)             # Joe\n",
    "print(Person.name)        # Classy\n",
    "print(x.show_class())     # Classy\n",
    "print(x.show_instance())  # Joe\n",
    "\n",
    "Person.name = 'General'\n",
    "print(x.name)             # Joe\n",
    "print(Person.name)        # General\n",
    "print(x.show_class())     # General\n",
    "print(x.show_instance())  # Joe\n",
    "\n",
    "x.name = 'Zorg'           # changing the instance attribute\n",
    "print(x.name)             # Zorg\n",
    "print(Person.name)        # General\n",
    "print(x.show_class())     # General\n",
    "print(x.show_instance())  # Zorg"
   ]
  },
  {
   "cell_type": "markdown",
   "id": "d6b853f0-38b2-4548-ab46-c3b2522a89fa",
   "metadata": {},
   "source": [
    "## Use Python @propery to fix bad interface (the bad interface)"
   ]
  },
  {
   "cell_type": "markdown",
   "id": "977ccf8a-162c-4d1d-91d6-0e54d60ede30",
   "metadata": {},
   "source": [
    "- When we created the class the first time we wanted to have a field representing the age of a person. (For simplicity of the example we onlys store the years.)\n",
    "\n",
    "-  Age changes.\n",
    "\n",
    "- We would have been better off storing birthdate and if necessary calculating the age.\n",
    "\n",
    "- How can we fix this?"
   ]
  },
  {
   "cell_type": "code",
   "execution_count": null,
   "id": "6baee9f8-e238-4a76-9d9e-98958b71974a",
   "metadata": {},
   "outputs": [],
   "source": [
    "class Person():\n",
    "    def __init__(self, age):\n",
    "        self.age = age\n",
    "\n",
    "p = Person(19)\n",
    "print(p.age)       # 19\n",
    "\n",
    "p.age = p.age + 1\n",
    "print(p.age)       # 20\n"
   ]
  },
  {
   "cell_type": "markdown",
   "id": "80e00130-4ecc-4777-9e1a-5616661585a4",
   "metadata": {},
   "source": [
    "## Use Python @propery to fix bad interface (first attempt)"
   ]
  },
  {
   "cell_type": "code",
   "execution_count": 251,
   "id": "7be00160-9994-469b-80b4-8fb63c57d3f3",
   "metadata": {},
   "outputs": [
    {
     "name": "stdout",
     "output_type": "stream",
     "text": [
      "19\n",
      "20\n"
     ]
    }
   ],
   "source": [
    "from datetime import datetime\n",
    "class Person():\n",
    "    def __init__(self, years):\n",
    "        self.set_birthyear(years)\n",
    "\n",
    "    def get_birthyear(self):\n",
    "        return datetime.now().year - self._birthyear\n",
    "\n",
    "    def set_birthyear(self, years):\n",
    "        self._birthyear = datetime.now().year - years\n",
    "\n",
    "    def age(self, years=None):\n",
    "        if (years):\n",
    "            self.set_birthyear(years)\n",
    "        else:\n",
    "            return self.get_birthyear()\n",
    "\n",
    "\n",
    "\n",
    "p = Person(19)\n",
    "print(p.age())       # 19\n",
    "\n",
    "p.age(p.age() + 1)\n",
    "print(p.age())       # 20"
   ]
  },
  {
   "cell_type": "markdown",
   "id": "6b4b63ac-303e-4c0e-8dc5-7599cdb6f8ff",
   "metadata": {},
   "source": [
    "## Use Python @propery to fix bad API"
   ]
  },
  {
   "cell_type": "markdown",
   "id": "a21eeab8-d309-4d76-a501-c52e06735833",
   "metadata": {},
   "source": [
    "```property(fget=None, fset=None, fdel=None, doc=None)```"
   ]
  },
  {
   "cell_type": "code",
   "execution_count": 252,
   "id": "2e417aed-c3e6-488a-8300-ae5c78c4085a",
   "metadata": {},
   "outputs": [
    {
     "name": "stdout",
     "output_type": "stream",
     "text": [
      "19\n",
      "20\n",
      "31\n"
     ]
    }
   ],
   "source": [
    "from datetime import datetime\n",
    "class Person():\n",
    "    def __init__(self, years):\n",
    "        self.age =  years\n",
    "\n",
    "    def get_birthyear(self):\n",
    "        return datetime.now().year - self.birthyear\n",
    "\n",
    "    def set_birthyear(self, years):\n",
    "        self.birthyear = datetime.now().year - years\n",
    "\n",
    "    age = property(get_birthyear, set_birthyear)\n",
    "\n",
    "p = Person(19)\n",
    "print(p.age)       # 19\n",
    "\n",
    "p.age = p.age + 1\n",
    "print(p.age)       # 20\n",
    "\n",
    "p.birthyear = 1992\n",
    "print(p.age)       # 28\n",
    "   # warning: this will be different if you run the example in a year different from 2020 :)"
   ]
  },
  {
   "cell_type": "markdown",
   "id": "608c8ed3-5079-4197-8570-cf9ff6b4fd8d",
   "metadata": {},
   "source": [
    "## Use Python @propery decorator to fix bad API"
   ]
  },
  {
   "cell_type": "code",
   "execution_count": 253,
   "id": "c381ea45-a013-4136-b420-edb7d98208da",
   "metadata": {},
   "outputs": [
    {
     "name": "stdout",
     "output_type": "stream",
     "text": [
      "19\n",
      "20\n",
      "31\n"
     ]
    }
   ],
   "source": [
    "from datetime import datetime\n",
    "class Person():\n",
    "    def __init__(self, years):\n",
    "        self.age =  years\n",
    "\n",
    "    # creates \"getter\"\n",
    "    @property\n",
    "    def age(self):\n",
    "        return datetime.now().year - self.birthyear\n",
    "\n",
    "    # creates \"setter\"\n",
    "    @age.setter\n",
    "    def age(self, years):\n",
    "        self.birthyear = datetime.now().year - years\n",
    "\n",
    "p = Person(19)\n",
    "print(p.age)       # 19\n",
    "\n",
    "p.age = p.age + 1\n",
    "print(p.age)       # 20\n",
    "\n",
    "\n",
    "p.birthyear = 1992\n",
    "print(p.age)       # 28\n",
    "   # warning: this will be different if you run the example in a year different from 2020 :)"
   ]
  },
  {
   "cell_type": "markdown",
   "id": "f1600330-148c-4819-b62a-7dbca9d6a115",
   "metadata": {},
   "source": [
    "## @propery - Setter, Getter, Validation"
   ]
  },
  {
   "cell_type": "code",
   "execution_count": null,
   "id": "00ef722d-0ccc-4e68-b333-77f46775bb36",
   "metadata": {},
   "outputs": [],
   "source": [
    "class MyClass:\n",
    "    def __init__(self):\n",
    "        self._my_attribute = None\n",
    "\n",
    "    @property\n",
    "    def my_attribute(self):\n",
    "        return self._my_attribute\n",
    "\n",
    "    @my_attribute.setter\n",
    "    def my_attribute(self, value):\n",
    "        # Additional validation or processing logic can be added here\n",
    "        if value < 0:\n",
    "            raise ValueError(\"value cannot be negative\")\n",
    "            \n",
    "        self._my_attribute = value"
   ]
  }
 ],
 "metadata": {
  "kernelspec": {
   "display_name": "Python 3 (ipykernel)",
   "language": "python",
   "name": "python3"
  },
  "language_info": {
   "codemirror_mode": {
    "name": "ipython",
    "version": 3
   },
   "file_extension": ".py",
   "mimetype": "text/x-python",
   "name": "python",
   "nbconvert_exporter": "python",
   "pygments_lexer": "ipython3",
   "version": "3.9.7"
  }
 },
 "nbformat": 4,
 "nbformat_minor": 5
}
