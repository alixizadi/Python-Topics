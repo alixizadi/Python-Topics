{
 "cells": [
  {
   "cell_type": "code",
   "execution_count": null,
   "id": "41414031-23c7-4dc0-9d7d-622b97b99b36",
   "metadata": {},
   "outputs": [],
   "source": []
  }
 ],
 "metadata": {
  "kernelspec": {
   "display_name": "",
   "name": ""
  },
  "language_info": {
   "name": ""
  }
 },
 "nbformat": 4,
 "nbformat_minor": 5
}
