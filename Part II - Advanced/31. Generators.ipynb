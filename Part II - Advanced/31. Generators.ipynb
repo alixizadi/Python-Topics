{
 "cells": [
  {
   "cell_type": "markdown",
   "id": "59ce1087-3e1d-4506-ac77-100a78431451",
   "metadata": {
    "tags": []
   },
   "source": [
    "## 1. Introduction to Generators"
   ]
  },
  {
   "cell_type": "markdown",
   "id": "bf0e05d6-45e4-4003-a296-32e8fac0bcfc",
   "metadata": {
    "tags": []
   },
   "source": [
    "### What are Generators?\n",
    "    - Generators are a type of iterable in Python that generate values on-the-fly instead of storing them in memory all at once. \n",
    "    - They are defined using functions and the yield keyword, allowing you to pause and resume the execution of a function to produce a sequence of values.\n",
    "    - Generators provide a memory-efficient way to work with large or infinite sequences."
   ]
  },
  {
   "cell_type": "markdown",
   "id": "86ff059e-0017-4b2d-ab7a-c4c753b63392",
   "metadata": {
    "tags": []
   },
   "source": [
    "### Key Benefits of Generators:\n",
    "\n",
    ">    - **Memory Efficiency**: Generators produce values one at a time, so they don't store the entire sequence in memory. This makes them ideal for working with large datasets or infinite sequences.\n",
    ">    - **Lazy Evaluation**: Values are generated on demand, reducing unnecessary computations and improving performance.\n",
    ">    - **Simplified Iteration**: Generators can be used in for loops and other iterable contexts, providing a clean and concise way to iterate over a sequence.\n",
    ">    - **Composability**: Generators can be easily combined and composed to create complex data processing pipelines."
   ]
  },
  {
   "cell_type": "markdown",
   "id": "6ce7d2dd-3a99-4b22-96f5-4616d77d0209",
   "metadata": {
    "tags": []
   },
   "source": [
    "## 2. Creating Generators"
   ]
  },
  {
   "cell_type": "markdown",
   "id": "8f1c7ff9-7260-434c-a05b-0bee0f0b0ef4",
   "metadata": {
    "tags": []
   },
   "source": [
    "### Using Function with yield\n"
   ]
  },
  {
   "cell_type": "code",
   "execution_count": 16,
   "id": "76d4175f-b6d2-4a81-be02-e3917ac7a67c",
   "metadata": {},
   "outputs": [
    {
     "name": "stdout",
     "output_type": "stream",
     "text": [
      "5 4 3 2 1 "
     ]
    }
   ],
   "source": [
    "def countdown(n):\n",
    "    while n > 0:\n",
    "        yield n\n",
    "        n -= 1\n",
    "\n",
    "# Creating a generator object\n",
    "generator = countdown(5)\n",
    "\n",
    "# Iterating over the generator\n",
    "for num in generator:\n",
    "    print(num, end=' ')\n",
    "\n",
    "# Output: 5, 4, 3, 2, 1\n"
   ]
  },
  {
   "cell_type": "markdown",
   "id": "108ad5a3-1096-4dce-b453-b2f85b58afef",
   "metadata": {
    "tags": []
   },
   "source": [
    "### Generator Expressions"
   ]
  },
  {
   "cell_type": "code",
   "execution_count": 18,
   "id": "523447e1-5e92-4b68-8152-fdfa0ff255ed",
   "metadata": {},
   "outputs": [
    {
     "name": "stdout",
     "output_type": "stream",
     "text": [
      "<generator object <genexpr> at 0x7fc7f0148200>\n",
      "0 2 4 6 8 "
     ]
    }
   ],
   "source": [
    "even_numbers = (num for num in range(10) if num % 2 == 0)\n",
    "\n",
    "# Printing the generator expression\n",
    "print(even_numbers)\n",
    "\n",
    "# Output: <generator object <genexpr> at 0x7f9c986cf200>\n",
    "# Iterating over the generator expression\n",
    "for num in even_numbers:\n",
    "    print(num,end=' ')\n",
    "\n",
    "# Output: 0, 2, 4, 6, 8"
   ]
  },
  {
   "cell_type": "markdown",
   "id": "61525207-493b-424a-9a16-3bacf4319342",
   "metadata": {
    "tags": []
   },
   "source": [
    "## 3. Iterating with Generators"
   ]
  },
  {
   "cell_type": "markdown",
   "id": "4250a6f3-29e7-4d00-889a-3624720f04dd",
   "metadata": {
    "tags": []
   },
   "source": [
    "\n",
    "### Using `next()` function:\n",
    "- In this example, we create a generator object using the `countdown` function from the previous example. Instead of using a `for` loop to iterate over the generator, we use the `next()` function to retrieve values one at a time. Each call to `next(generator)` yields the next value in the sequence.\n"
   ]
  },
  {
   "cell_type": "code",
   "execution_count": 20,
   "id": "ba6a308a-f5bd-48f6-a1a6-041661072313",
   "metadata": {},
   "outputs": [
    {
     "name": "stdout",
     "output_type": "stream",
     "text": [
      "5\n",
      "4\n",
      "3\n",
      "2\n",
      "1\n"
     ]
    }
   ],
   "source": [
    "def countdown(n):\n",
    "    while n > 0:\n",
    "        yield n\n",
    "        n -= 1\n",
    "\n",
    "# Creating a generator object\n",
    "generator = countdown(5)\n",
    "\n",
    "# Using next() function to retrieve values\n",
    "print(next(generator))  # Output: 5\n",
    "print(next(generator))  # Output: 4\n",
    "print(next(generator))  # Output: 3\n",
    "print(next(generator))  # Output: 2\n",
    "print(next(generator))  # Output: 1"
   ]
  },
  {
   "cell_type": "markdown",
   "id": "8a079b4b-c4a1-42fa-b63c-43c47f3e401e",
   "metadata": {
    "tags": []
   },
   "source": [
    "\n",
    "### `for` Loop and Generators:\n"
   ]
  },
  {
   "cell_type": "code",
   "execution_count": 23,
   "id": "1c709c78-f924-4c01-b295-dca520fce693",
   "metadata": {},
   "outputs": [
    {
     "name": "stdout",
     "output_type": "stream",
     "text": [
      "0\n",
      "1\n",
      "4\n",
      "9\n",
      "16\n"
     ]
    }
   ],
   "source": [
    "def squares(n):\n",
    "    for num in range(n):\n",
    "        yield num ** 2\n",
    "        # Creating a generator object\n",
    "generator = squares(5)\n",
    "\n",
    "# Iterating over the generator using a for loop\n",
    "for num in generator:\n",
    "    print(num)\n",
    "\n",
    "# Output: 0, 1, 4, 9, 16"
   ]
  },
  {
   "cell_type": "markdown",
   "id": "6f391d94-1add-4888-9bff-328ec81ffabb",
   "metadata": {
    "tags": []
   },
   "source": [
    "### Breaking the Iteration:"
   ]
  },
  {
   "cell_type": "code",
   "execution_count": 24,
   "id": "4c94ef15-0592-4102-95be-17cf85426d60",
   "metadata": {},
   "outputs": [
    {
     "name": "stdout",
     "output_type": "stream",
     "text": [
      "5\n",
      "4\n",
      "3\n"
     ]
    }
   ],
   "source": [
    "\n",
    "def countdown(n):\n",
    "    while n > 0:\n",
    "        yield n\n",
    "        n -= 1\n",
    "        if n == 2:\n",
    "            break\n",
    "\n",
    "# Creating a generator object\n",
    "generator = countdown(5)\n",
    "\n",
    "# Iterating over the generator using a for loop\n",
    "for num in generator:\n",
    "    print(num)\n",
    "\n",
    "# Output: 5, 4, 3\n",
    "\n"
   ]
  },
  {
   "cell_type": "markdown",
   "id": "c8507eea-c747-4e96-ab56-286b44aa4af9",
   "metadata": {
    "tags": []
   },
   "source": [
    "## 4.Generator Comprehensions:"
   ]
  },
  {
   "cell_type": "markdown",
   "id": "2aade83c-8063-4932-beff-edce0a30fbfe",
   "metadata": {
    "tags": []
   },
   "source": [
    "### Basic Generator Expressions:"
   ]
  },
  {
   "cell_type": "code",
   "execution_count": 25,
   "id": "a4352662-5595-4c28-b2ad-befdf559dbe2",
   "metadata": {},
   "outputs": [
    {
     "name": "stdout",
     "output_type": "stream",
     "text": [
      "0\n",
      "4\n",
      "16\n",
      "36\n",
      "64\n"
     ]
    }
   ],
   "source": [
    "even_squares = (num ** 2 for num in range(10) if num % 2 == 0)\n",
    "\n",
    "# Iterating over the generator expression\n",
    "for num in even_squares:\n",
    "    print(num)\n",
    "\n",
    "# Output: 0, 4, 16, 36, 64"
   ]
  },
  {
   "cell_type": "markdown",
   "id": "52fae76d-6ec0-4e11-aaa6-ba4affdbb196",
   "metadata": {
    "tags": []
   },
   "source": [
    "\n",
    "### Filtering with Generator Expressions:"
   ]
  },
  {
   "cell_type": "code",
   "execution_count": 26,
   "id": "293fca47-8894-4e1a-9407-367ceb64b688",
   "metadata": {},
   "outputs": [
    {
     "name": "stdout",
     "output_type": "stream",
     "text": [
      "2\n",
      "4\n",
      "6\n",
      "8\n",
      "10\n"
     ]
    }
   ],
   "source": [
    "numbers = [1, 2, 3, 4, 5, 6, 7, 8, 9, 10]\n",
    "\n",
    "# Creating a generator expression to filter even numbers\n",
    "even_numbers = (num for num in numbers if num % 2 == 0)\n",
    "\n",
    "# Iterating over the generator expression\n",
    "for num in even_numbers:\n",
    "    print(num)\n",
    "\n",
    "# Output: 2, 4, 6, 8, 10"
   ]
  },
  {
   "cell_type": "markdown",
   "id": "1bff5423-f757-4a5c-9f98-44449107d488",
   "metadata": {
    "tags": []
   },
   "source": [
    "### Mapping with Generator Expressions:"
   ]
  },
  {
   "cell_type": "code",
   "execution_count": 27,
   "id": "a0dde5dc-0234-46f0-a738-ffec8b5e7407",
   "metadata": {},
   "outputs": [
    {
     "name": "stdout",
     "output_type": "stream",
     "text": [
      "ALICE\n",
      "BOB\n",
      "CHARLIE\n"
     ]
    }
   ],
   "source": [
    "names = [\"Alice\", \"Bob\", \"Charlie\"]\n",
    "\n",
    "# Creating a generator expression to convert names to uppercase\n",
    "uppercase_names = (name.upper() for name in names)\n",
    "\n",
    "# Iterating over the generator expression\n",
    "for name in uppercase_names:\n",
    "    print(name)\n",
    "\n",
    "# Output: ALICE, BOB, CHARLIE"
   ]
  },
  {
   "cell_type": "markdown",
   "id": "21621659-5c52-44bd-aefb-a02b702318da",
   "metadata": {
    "tags": []
   },
   "source": [
    "## 5. Practical Examples of Generators\n",
    "\n"
   ]
  },
  {
   "cell_type": "markdown",
   "id": "002edab0-840f-4b40-b7d0-0ed8712657cc",
   "metadata": {
    "tags": []
   },
   "source": [
    "### Fibonacci Sequence"
   ]
  },
  {
   "cell_type": "markdown",
   "id": "2c5f97b3-75f4-490e-b692-a23b33c538d5",
   "metadata": {},
   "source": [
    "- The Fibonacci sequence is a classic example used to demonstrate the power of generators.\n",
    "- By using generators, we can generate the Fibonacci numbers efficiently without having to store the entire sequence in memory."
   ]
  },
  {
   "cell_type": "code",
   "execution_count": 28,
   "id": "7d64636a-d865-4ada-8e5f-fd436ed34b24",
   "metadata": {},
   "outputs": [
    {
     "name": "stdout",
     "output_type": "stream",
     "text": [
      "0\n",
      "1\n",
      "1\n",
      "2\n",
      "3\n",
      "5\n",
      "8\n",
      "13\n",
      "21\n",
      "34\n"
     ]
    }
   ],
   "source": [
    "def fibonacci():\n",
    "    a, b = 0, 1\n",
    "    while True:\n",
    "        yield a\n",
    "        a, b = b, a + b\n",
    "\n",
    "# Creating a generator object for Fibonacci sequence\n",
    "fib_gen = fibonacci()\n",
    "\n",
    "# Generating and printing the first 10 Fibonacci numbers\n",
    "for _ in range(10):\n",
    "    print(next(fib_gen))\n"
   ]
  },
  {
   "cell_type": "markdown",
   "id": "92c364a5-bb26-46a9-8242-127c9fdb88ad",
   "metadata": {
    "tags": []
   },
   "source": [
    "### Prime Number Generator"
   ]
  },
  {
   "cell_type": "markdown",
   "id": "b565784d-4ac3-44dc-a995-8c7c12878697",
   "metadata": {},
   "source": [
    "- Generators can also be used to generate prime numbers efficiently, especially when dealing with large ranges.\n",
    "- The following example demonstrates a prime number generator using the Sieve of Eratosthenes algorithm."
   ]
  },
  {
   "cell_type": "markdown",
   "id": "c8e4d7b6-de24-41eb-abde-68fce6dc030c",
   "metadata": {},
   "source": [
    "In this example, we define a generator function called primes that generates prime numbers indefinitely. It utilizes the Sieve of Eratosthenes algorithm to efficiently sieve out composite numbers. The generator maintains a dictionary numbers to keep track of composite numbers and their factors. We yield each prime number and update the dictionary accordingly."
   ]
  },
  {
   "cell_type": "code",
   "execution_count": 29,
   "id": "cc510da1-bd06-4731-a08e-c44df3221dff",
   "metadata": {},
   "outputs": [
    {
     "name": "stdout",
     "output_type": "stream",
     "text": [
      "2\n",
      "3\n",
      "5\n",
      "7\n",
      "11\n",
      "13\n",
      "17\n",
      "19\n",
      "23\n",
      "29\n"
     ]
    }
   ],
   "source": [
    "def primes():\n",
    "    numbers = {}\n",
    "    n = 2\n",
    "    while True:\n",
    "        if n not in numbers:\n",
    "            yield n\n",
    "            numbers[n * n] = [n]\n",
    "        else:\n",
    "            for p in numbers[n]:\n",
    "                numbers.setdefault(p + n, []).append(p)\n",
    "            del numbers[n]\n",
    "        n += 1\n",
    "\n",
    "# Creating a generator object for prime numbers\n",
    "prime_gen = primes()\n",
    "\n",
    "# Generating and printing the first 10 prime numbers\n",
    "for _ in range(10):\n",
    "    print(next(prime_gen))\n"
   ]
  },
  {
   "cell_type": "markdown",
   "id": "de92c626-b2e7-44c1-a06e-5bf4f1097ca3",
   "metadata": {
    "tags": []
   },
   "source": [
    "### Parsing Large Files\n"
   ]
  },
  {
   "cell_type": "markdown",
   "id": "b49d11ff-c8e3-450b-8da5-7e450151e618",
   "metadata": {},
   "source": [
    "- Generators are ideal for parsing large files because they allow us to process the data incrementally without loading the entire file into memory.\n",
    "- This is particularly useful when dealing with files that are too large to fit into memory."
   ]
  },
  {
   "cell_type": "code",
   "execution_count": null,
   "id": "046029c7-e701-446a-a961-b6edd28adb36",
   "metadata": {},
   "outputs": [],
   "source": [
    "def parse_large_file(file_path):\n",
    "    with open(file_path, 'r') as file:\n",
    "        for line in file:\n",
    "            # Process each line of the file\n",
    "            data = process_line(line)\n",
    "            yield data\n",
    "\n",
    "# Creating a generator object for parsing a large file\n",
    "file_gen = parse_large_file('large_file.txt')\n",
    "\n",
    "# Processing data from the large file\n",
    "for data in file_gen:\n",
    "    # Do something with the data\n",
    "    process_data(data)"
   ]
  },
  {
   "cell_type": "markdown",
   "id": "e8903830-5932-46b8-aca1-aecd3af9c417",
   "metadata": {
    "tags": []
   },
   "source": [
    "### Infinite Sequences"
   ]
  },
  {
   "cell_type": "code",
   "execution_count": 30,
   "id": "f9ba209d-2a3a-409e-b9d4-2d886d1c173d",
   "metadata": {},
   "outputs": [
    {
     "name": "stdout",
     "output_type": "stream",
     "text": [
      "0\n",
      "1\n",
      "2\n",
      "3\n",
      "4\n",
      "5\n",
      "6\n",
      "7\n",
      "8\n",
      "9\n"
     ]
    }
   ],
   "source": [
    "def infinite_sequence():\n",
    "    num = 0\n",
    "    while True:\n",
    "        yield num\n",
    "        num += 1\n",
    "\n",
    "# Creating a generator object for an infinite sequence\n",
    "sequence_gen = infinite_sequence()\n",
    "\n",
    "# Generating and printing the first 10 numbers in the infinite sequence\n",
    "for _ in range(10):\n",
    "    print(next(sequence_gen))\n"
   ]
  },
  {
   "cell_type": "markdown",
   "id": "7fe1bbb8-9eea-4084-9b48-d8ceb61d87fe",
   "metadata": {},
   "source": [
    "## 6. Performance and Memory Efficiency"
   ]
  },
  {
   "cell_type": "markdown",
   "id": "299db0f4-2465-4491-b74d-fb66b5b8298d",
   "metadata": {
    "tags": []
   },
   "source": [
    "### Lazy Evaluation"
   ]
  },
  {
   "cell_type": "markdown",
   "id": "190ad608-c244-427e-a534-26ce88b2877a",
   "metadata": {},
   "source": [
    "- Generators enable lazy evaluation, which means they produce values on-demand as they are needed.\n",
    "- This can be beneficial when working with large datasets or computationally expensive operations.\n",
    "- Instead of precomputing and storing all the values in memory, generators calculate and yield values one at a time, reducing memory consumption and improving performance."
   ]
  },
  {
   "cell_type": "code",
   "execution_count": 34,
   "id": "99d6bc6f-01ac-4637-b49e-5f1e9a82be95",
   "metadata": {},
   "outputs": [
    {
     "name": "stdout",
     "output_type": "stream",
     "text": [
      "0,1,4,9,16,25,36,49,64,81,"
     ]
    }
   ],
   "source": [
    "def process_value(value):\n",
    "    print(value, end = ',')\n",
    "\n",
    "def compute_values():\n",
    "    # Perform complex computations or data processing\n",
    "    for value in range(1000000):\n",
    "        yield value ** 2\n",
    "\n",
    "# Creating a generator object for computed values\n",
    "values_gen = compute_values()\n",
    "\n",
    "# Processing values on-demand\n",
    "for _ in range(10):\n",
    "    value = next(values_gen)\n",
    "    process_value(value)\n"
   ]
  },
  {
   "cell_type": "markdown",
   "id": "c2167005-3544-4bbd-97bb-9d1fbb62a9ed",
   "metadata": {
    "tags": []
   },
   "source": [
    "### Memory Consumption"
   ]
  },
  {
   "cell_type": "markdown",
   "id": "f6250a7b-d277-44d1-9c7c-2cc4e59a4f9f",
   "metadata": {},
   "source": [
    "- Generators have low memory consumption compared to other data structures because they generate values on-the-fly instead of storing them all in memory.\n",
    "- This is especially advantageous when dealing with large datasets or when memory resources are limited."
   ]
  },
  {
   "cell_type": "code",
   "execution_count": null,
   "id": "96a423c1-daa1-415c-ba21-bfbc8015dd9d",
   "metadata": {},
   "outputs": [],
   "source": [
    "def read_large_file(file_path):\n",
    "    with open(file_path, 'r') as file:\n",
    "        for line in file:\n",
    "            yield line\n",
    "\n",
    "# Creating a generator object to read a large file\n",
    "file_gen = read_large_file('large_file.txt')\n",
    "\n",
    "# Processing data from the large file\n",
    "for line in file_gen:\n",
    "    process_line(line)"
   ]
  },
  {
   "cell_type": "markdown",
   "id": "ebfd5cd5-6a4e-4322-9705-61fdae77f7b0",
   "metadata": {
    "tags": []
   },
   "source": [
    "## 7. Using Generators in Combination with Other Tools"
   ]
  },
  {
   "cell_type": "markdown",
   "id": "6a336f4d-63ab-4dc4-8f22-82ea8c26cdaa",
   "metadata": {
    "tags": []
   },
   "source": [
    "### Generators and `itertools` Module"
   ]
  },
  {
   "cell_type": "markdown",
   "id": "faeee18d-ef49-46e1-a6a8-5386dd78e437",
   "metadata": {},
   "source": [
    "- The itertools module in Python provides a set of tools for working with iterators and generators. \n",
    "- It offers various functions that can be used in combination with generators to perform common tasks efficiently."
   ]
  },
  {
   "cell_type": "code",
   "execution_count": 37,
   "id": "74a0788f-3b06-4571-aa5e-f57df980002c",
   "metadata": {},
   "outputs": [
    {
     "name": "stdout",
     "output_type": "stream",
     "text": [
      "0\n",
      "1\n",
      "2\n",
      "3\n",
      "4\n",
      "10\n",
      "11\n",
      "12\n",
      "13\n",
      "14\n",
      "('A', 'B', 'C')\n",
      "('A', 'C', 'B')\n",
      "('B', 'A', 'C')\n",
      "('B', 'C', 'A')\n",
      "('C', 'A', 'B')\n",
      "('C', 'B', 'A')\n"
     ]
    }
   ],
   "source": [
    "import itertools\n",
    "\n",
    "# Example 1: Combining two generators\n",
    "gen1 = range(5)\n",
    "gen2 = range(10, 15)\n",
    "combined_gen = itertools.chain(gen1, gen2)\n",
    "for num in combined_gen:\n",
    "    print(num)\n",
    "\n",
    "# Example 2: Generating permutations\n",
    "items = ['A', 'B', 'C']\n",
    "permutations = itertools.permutations(items)\n",
    "for perm in permutations:\n",
    "    print(perm)"
   ]
  },
  {
   "cell_type": "markdown",
   "id": "272ac6fd-2c3f-484d-9917-d2d0b787983a",
   "metadata": {
    "tags": []
   },
   "source": [
    "### Generators and `functools` Module"
   ]
  },
  {
   "cell_type": "markdown",
   "id": "bd3f2bfa-c849-4279-a182-188a81a3b0d9",
   "metadata": {},
   "source": [
    "- The functools module in Python provides functions for higher-order operations on callable objects, including decorators. \n",
    "- It can be used in combination with generators to enhance their functionality."
   ]
  },
  {
   "cell_type": "code",
   "execution_count": 38,
   "id": "3681ffa7-e65d-4bde-a411-50a5d60c572a",
   "metadata": {},
   "outputs": [
    {
     "name": "stdout",
     "output_type": "stream",
     "text": [
      "0\n",
      "1\n",
      "1\n",
      "2\n",
      "3\n",
      "5\n",
      "8\n",
      "13\n",
      "21\n",
      "34\n"
     ]
    }
   ],
   "source": [
    "import functools\n",
    "\n",
    "# Example: Caching values using lru_cache decorator\n",
    "@functools.lru_cache()\n",
    "def fibonacci(n):\n",
    "    if n < 2:\n",
    "        return n\n",
    "    return fibonacci(n - 1) + fibonacci(n - 2)\n",
    "\n",
    "for i in range(10):\n",
    "    print(fibonacci(i))\n"
   ]
  },
  {
   "cell_type": "markdown",
   "id": "4d850fdf-f7d7-4244-9ffa-5c1997f99079",
   "metadata": {
    "tags": []
   },
   "source": [
    "## 8. Handling Exceptions in Generators"
   ]
  },
  {
   "cell_type": "markdown",
   "id": "68f7435c-553b-4973-99f1-c1fede174b2a",
   "metadata": {
    "tags": []
   },
   "source": [
    "### Try-Except Within Generators:\n"
   ]
  },
  {
   "cell_type": "markdown",
   "id": "5ee9d6f5-296c-4e22-a8e2-a272de80b8a7",
   "metadata": {},
   "source": [
    "- Generators allow us to handle exceptions gracefully by using the try-except construct within the generator function. \n",
    "- This enables us to catch and handle specific exceptions that may occur during the generation process."
   ]
  },
  {
   "cell_type": "markdown",
   "id": "b959bf49-2414-456d-952b-5484ade471b9",
   "metadata": {},
   "source": [
    "```python\n",
    "def generate_data():\n",
    "    for item in data_source:\n",
    "        try:\n",
    "            # Generate and yield data\n",
    "            yield generate(item)\n",
    "        except SomeException:\n",
    "            # Handle the exception\n",
    "            handle_exception(item)\n",
    "\n",
    "# Iterating over the generator and handling exceptions\n",
    "for data in generate_data():\n",
    "    process_data(data)\n",
    "```"
   ]
  },
  {
   "cell_type": "markdown",
   "id": "2737e64f-8002-403f-9445-09ba7e7ba29f",
   "metadata": {
    "tags": []
   },
   "source": [
    "### Closing Generators with Finally:\n"
   ]
  },
  {
   "cell_type": "markdown",
   "id": "044e9180-41a1-4e5b-a4d8-525a357176d8",
   "metadata": {},
   "source": [
    "- In some scenarios, it's necessary to perform cleanup actions or close external resources associated with a generator.\n",
    "- The finally block can be used to ensure that these actions are executed, regardless of whether an exception occurred during the iteration."
   ]
  },
  {
   "cell_type": "code",
   "execution_count": 39,
   "id": "d1f4362a-ce4b-4f19-ad8d-3e33639ee0bb",
   "metadata": {},
   "outputs": [],
   "source": [
    "def read_large_file(file_path):\n",
    "    try:\n",
    "        with open(file_path, 'r') as file:\n",
    "            for line in file:\n",
    "                yield line\n",
    "    finally:\n",
    "        # Cleanup actions\n",
    "        cleanup_resources()\n"
   ]
  },
  {
   "cell_type": "markdown",
   "id": "1ebdaf38-639a-411a-a267-b129da98bf83",
   "metadata": {},
   "source": [
    "## 9. Advanced Generator Techniques"
   ]
  },
  {
   "cell_type": "markdown",
   "id": "d275e0ba-1e2d-49c3-b852-68c6499cbe2c",
   "metadata": {
    "tags": []
   },
   "source": [
    "### Sending Values to Generators"
   ]
  },
  {
   "cell_type": "markdown",
   "id": "1420c842-88cf-45a8-806f-8effb67d047e",
   "metadata": {},
   "source": [
    "- In addition to iterating over the values yielded by a generator, we can also send values back into the generator using the send() method.\n",
    "- This feature allows for two-way communication between the generator and the calling code."
   ]
  },
  {
   "cell_type": "code",
   "execution_count": 42,
   "id": "12d83258-94f3-4837-90b4-1e6eedbf0282",
   "metadata": {},
   "outputs": [
    {
     "name": "stdout",
     "output_type": "stream",
     "text": [
      "Data 1 Data 2 "
     ]
    }
   ],
   "source": [
    "def process(data):\n",
    "    print(data,end = ' ')\n",
    "def process_data():\n",
    "    while True:\n",
    "        data = yield\n",
    "        # Process the received data\n",
    "        process(data)\n",
    "\n",
    "# Creating the generator object\n",
    "gen = process_data()\n",
    "\n",
    "# Starting the generator and sending values\n",
    "next(gen)\n",
    "gen.send('Data 1')\n",
    "gen.send('Data 2')\n"
   ]
  },
  {
   "cell_type": "code",
   "execution_count": null,
   "id": "493845ef-55b1-4500-8949-651e80482bb3",
   "metadata": {},
   "outputs": [],
   "source": []
  },
  {
   "cell_type": "markdown",
   "id": "d2a4135f-51e6-4cea-a80e-997d4c079d84",
   "metadata": {
    "tags": []
   },
   "source": [
    "### Generator Pipelines"
   ]
  },
  {
   "cell_type": "markdown",
   "id": "a81860c4-1337-4fab-bb86-ec73f0e7fc8b",
   "metadata": {},
   "source": [
    "- Generator pipelines involve chaining multiple generators together to form a processing pipeline.\n",
    "- Each generator in the pipeline performs a specific transformation or computation on the input data, allowing for modular and reusable code."
   ]
  },
  {
   "cell_type": "markdown",
   "id": "a5598504-509a-4528-8011-9ab3016973de",
   "metadata": {},
   "source": [
    "```python\n",
    "def generator_a(data):\n",
    "    for item in data:\n",
    "        # Perform transformations\n",
    "        transformed_item = transform_a(item)\n",
    "        yield transformed_item\n",
    "\n",
    "def generator_b(data):\n",
    "    for item in data:\n",
    "        # Perform transformations\n",
    "        transformed_item = transform_b(item)\n",
    "        yield transformed_item\n",
    "\n",
    "# Creating the generator pipeline\n",
    "data = [1, 2, 3, 4, 5]\n",
    "pipeline = generator_b(generator_a(data))\n",
    "\n",
    "# Iterating over the pipeline\n",
    "for item in pipeline:\n",
    "    process(item)\n",
    "```"
   ]
  },
  {
   "cell_type": "markdown",
   "id": "af6e9f87-025b-41ac-a8af-cdf454c0bfb7",
   "metadata": {
    "tags": []
   },
   "source": [
    "### Coroutine Behavior"
   ]
  },
  {
   "cell_type": "markdown",
   "id": "39505d84-63e4-49a5-b015-95c713af39c2",
   "metadata": {},
   "source": [
    "- Generators can be used as coroutines, which are functions that can pause their execution and resume it later. \n",
    "- Coroutines enable cooperative multitasking, where different parts of the code can yield control to each other without blocking."
   ]
  },
  {
   "cell_type": "code",
   "execution_count": 45,
   "id": "fcee4dc8-2a46-4c74-9aab-a5115f2ad5db",
   "metadata": {},
   "outputs": [
    {
     "name": "stdout",
     "output_type": "stream",
     "text": [
      "Data 1 "
     ]
    }
   ],
   "source": [
    "def coroutine():\n",
    "    while True:\n",
    "        data = yield\n",
    "        # Perform some computation\n",
    "        result = process(data)\n",
    "        # Send the result back\n",
    "        yield result\n",
    "\n",
    "# Creating the coroutine object\n",
    "coro = coroutine()\n",
    "\n",
    "# Starting the coroutine and sending data\n",
    "next(coro)\n",
    "coro.send('Data 1')\n",
    "result = coro.send('Data 2')"
   ]
  }
 ],
 "metadata": {
  "kernelspec": {
   "display_name": "Python 3 (ipykernel)",
   "language": "python",
   "name": "python3"
  },
  "language_info": {
   "codemirror_mode": {
    "name": "ipython",
    "version": 3
   },
   "file_extension": ".py",
   "mimetype": "text/x-python",
   "name": "python",
   "nbconvert_exporter": "python",
   "pygments_lexer": "ipython3",
   "version": "3.9.7"
  }
 },
 "nbformat": 4,
 "nbformat_minor": 5
}
