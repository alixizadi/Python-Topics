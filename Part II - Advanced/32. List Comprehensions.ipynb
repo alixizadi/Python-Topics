{
 "cells": [
  {
   "cell_type": "markdown",
   "id": "55242023-cc4c-418f-918b-27aca66537ac",
   "metadata": {
    "tags": []
   },
   "source": [
    "##  1: Introduction to List Comprehensions"
   ]
  },
  {
   "cell_type": "markdown",
   "id": "c09bbb9e-4e9a-426a-a5af-a6066b31eb45",
   "metadata": {},
   "source": [
    "### Basic List Comprehension Syntax"
   ]
  },
  {
   "cell_type": "code",
   "execution_count": 2,
   "id": "5309129d-0e22-4e09-b24d-a8e1a5626eac",
   "metadata": {},
   "outputs": [
    {
     "name": "stdout",
     "output_type": "stream",
     "text": [
      "[1, 4, 9, 16, 25]\n"
     ]
    }
   ],
   "source": [
    "numbers = [1, 2, 3, 4, 5]\n",
    "squared = [x**2 for x in numbers]\n",
    "print(squared)  # Output: [1, 4, 9, 16, 25]"
   ]
  },
  {
   "cell_type": "markdown",
   "id": "5b7fa77d-72c9-4f26-a9d9-ab1ab4ad2031",
   "metadata": {},
   "source": [
    "### Filtering with List Comprehensions"
   ]
  },
  {
   "cell_type": "code",
   "execution_count": 4,
   "id": "6f16b482-2cf3-401e-9eb4-fa2002b3f656",
   "metadata": {},
   "outputs": [
    {
     "name": "stdout",
     "output_type": "stream",
     "text": [
      "[2, 4]\n"
     ]
    }
   ],
   "source": [
    "even_numbers = [x for x in numbers if x % 2 == 0]\n",
    "print(even_numbers)  # Output: [2, 4]"
   ]
  },
  {
   "cell_type": "markdown",
   "id": "866856fa-6119-4bb2-9d75-4938df5d8fca",
   "metadata": {},
   "source": [
    "### Nested List Comprehensions"
   ]
  },
  {
   "cell_type": "code",
   "execution_count": 7,
   "id": "a84a4234-6d22-4c74-b0b7-29ccb58e56fe",
   "metadata": {},
   "outputs": [
    {
     "name": "stdout",
     "output_type": "stream",
     "text": [
      "[1, 2, 3, 4, 5, 6, 7, 8, 9]\n"
     ]
    }
   ],
   "source": [
    "matrix = [[1, 2, 3], [4, 5, 6], [7, 8, 9]]\n",
    "flattened = [y for row in matrix for y in row]\n",
    "print(flattened)  # Output: [1, 2, 3, 4, 5, 6, 7, 8, 9]"
   ]
  },
  {
   "cell_type": "markdown",
   "id": "acb4a430-f52a-4d80-9b14-bceae3921611",
   "metadata": {},
   "source": [
    "### Conditional Expressions in List Comprehensions"
   ]
  },
  {
   "cell_type": "code",
   "execution_count": 8,
   "id": "3af2049a-8882-469d-8053-b8ea3558d811",
   "metadata": {},
   "outputs": [
    {
     "name": "stdout",
     "output_type": "stream",
     "text": [
      "['Odd', 'Even', 'Odd', 'Even', 'Odd']\n"
     ]
    }
   ],
   "source": [
    "result = [\"Even\" if x % 2 == 0 else \"Odd\" for x in numbers]\n",
    "print(result)  # Output: ['Odd', 'Even', 'Odd', 'Even', 'Odd']"
   ]
  },
  {
   "cell_type": "markdown",
   "id": "1281f7a5-bcdf-46c8-a6c3-8f7cd24ebcff",
   "metadata": {},
   "source": [
    "### List Comprehensions vs. Traditional Loops"
   ]
  },
  {
   "cell_type": "code",
   "execution_count": 10,
   "id": "dac53c0d-b0bb-4a3e-b852-b14346a6bb33",
   "metadata": {},
   "outputs": [
    {
     "name": "stdout",
     "output_type": "stream",
     "text": [
      "['ALICE', 'BOB', 'CHARLIE']\n"
     ]
    }
   ],
   "source": [
    "names = [\"Alice\", \"Bob\", \"Charlie\"]\n",
    "uppercase_names = [name.upper() for name in names]\n",
    "print(uppercase_names)  # Output: ['ALICE', 'BOB', 'CHARLIE']"
   ]
  },
  {
   "cell_type": "markdown",
   "id": "b0bd1f73-d0ca-4f7a-ae68-fab1d3040ce8",
   "metadata": {},
   "source": [
    "### List Comprehensions with Functions and Methods"
   ]
  },
  {
   "cell_type": "code",
   "execution_count": 11,
   "id": "175708d8-f385-444b-a045-6510ed93207d",
   "metadata": {},
   "outputs": [
    {
     "name": "stdout",
     "output_type": "stream",
     "text": [
      "[2, 4, 6, 8, 10]\n",
      "['Hello', 'World']\n"
     ]
    }
   ],
   "source": [
    "def double(x):\n",
    "    return x * 2\n",
    "\n",
    "numbers = [1, 2, 3, 4, 5]\n",
    "doubled = [double(x) for x in numbers]\n",
    "print(doubled)  # Output: [2, 4, 6, 8, 10]\n",
    "\n",
    "words = [\"hello\", \"world\"]\n",
    "capitalized = [word.capitalize() for word in words]\n",
    "print(capitalized)  # Output: ['Hello', 'World']"
   ]
  },
  {
   "cell_type": "markdown",
   "id": "236fa21c-e5d8-45e2-ba7c-782caeb24d78",
   "metadata": {},
   "source": [
    "##  2: Filtering with List Comprehensions"
   ]
  },
  {
   "cell_type": "markdown",
   "id": "2e8b92be-472c-4638-95ca-50edaddb8821",
   "metadata": {},
   "source": [
    "### Using the if Clause in List Comprehensions"
   ]
  },
  {
   "cell_type": "code",
   "execution_count": 12,
   "id": "14ff7595-4410-4b4a-a8d7-d28f379b7759",
   "metadata": {},
   "outputs": [
    {
     "name": "stdout",
     "output_type": "stream",
     "text": [
      "[2, 4]\n"
     ]
    }
   ],
   "source": [
    "numbers = [1, 2, 3, 4, 5]\n",
    "even_numbers = [x for x in numbers if x % 2 == 0]\n",
    "print(even_numbers)  # Output: [2, 4]"
   ]
  },
  {
   "cell_type": "markdown",
   "id": "95077bef-53fa-4663-9e21-bb30ba6df9ed",
   "metadata": {},
   "source": [
    "### Multiple Conditions in List Comprehensions"
   ]
  },
  {
   "cell_type": "code",
   "execution_count": 13,
   "id": "46a11b5b-80aa-4eab-ab8b-37c0c707747f",
   "metadata": {},
   "outputs": [
    {
     "name": "stdout",
     "output_type": "stream",
     "text": [
      "[4]\n"
     ]
    }
   ],
   "source": [
    "numbers = [1, 2, 3, 4, 5]\n",
    "filtered_numbers = [x for x in numbers if x % 2 == 0 and x > 2]\n",
    "print(filtered_numbers)  # Output: [4]"
   ]
  },
  {
   "cell_type": "markdown",
   "id": "9d184e5a-d81d-45a4-ace0-8ad78d2b6949",
   "metadata": {},
   "source": [
    "### Filtering with Predicate Functions"
   ]
  },
  {
   "cell_type": "code",
   "execution_count": 14,
   "id": "dfe7579c-139f-4fa6-9821-206ed3758368",
   "metadata": {},
   "outputs": [
    {
     "name": "stdout",
     "output_type": "stream",
     "text": [
      "[1, 2]\n"
     ]
    }
   ],
   "source": [
    "def is_positive(n):\n",
    "    return n > 0\n",
    "\n",
    "numbers = [-2, -1, 0, 1, 2]\n",
    "positive_numbers = [x for x in numbers if is_positive(x)]\n",
    "print(positive_numbers)  # Output: [1, 2]"
   ]
  },
  {
   "cell_type": "markdown",
   "id": "38f9e821-7bf3-4b1f-9502-e55c238d52b4",
   "metadata": {},
   "source": [
    "### Filtering with Lambda Functions"
   ]
  },
  {
   "cell_type": "code",
   "execution_count": 19,
   "id": "8e93e49f-b6f2-4271-80aa-e00ffa4d5e3c",
   "metadata": {},
   "outputs": [
    {
     "name": "stdout",
     "output_type": "stream",
     "text": [
      "[1, 2]\n"
     ]
    }
   ],
   "source": [
    "numbers = [-2, -1, 0, 1, 2]\n",
    "positive_numbers = [x for x in numbers if (lambda x: x > 0)(x)]\n",
    "print(positive_numbers)  # Output: [1, 2]"
   ]
  },
  {
   "cell_type": "markdown",
   "id": "fb5104cf-5b5e-487c-ae99-f30a6f2a2ccd",
   "metadata": {},
   "source": [
    "##  3: Nested List Comprehensions"
   ]
  },
  {
   "cell_type": "markdown",
   "id": "05076eb7-2424-40bd-9392-558b91774f19",
   "metadata": {},
   "source": [
    "### Creating 2D Lists with Nested List Comprehensions"
   ]
  },
  {
   "cell_type": "code",
   "execution_count": 22,
   "id": "e6850a96-5367-4e92-8bd8-7f55d46749d5",
   "metadata": {},
   "outputs": [
    {
     "name": "stdout",
     "output_type": "stream",
     "text": [
      "[[0, 0, 0, 0], [0, 0, 0, 0], [0, 0, 0, 0]]\n"
     ]
    }
   ],
   "source": [
    "rows = 3\n",
    "cols = 4\n",
    "matrix = [[0 for _ in range(cols)] for _ in range(rows)]\n",
    "print(matrix)\n",
    "# Output:\n",
    "# [[0, 0, 0, 0],\n",
    "#  [0, 0, 0, 0],\n",
    "#  [0, 0, 0, 0]]"
   ]
  },
  {
   "cell_type": "markdown",
   "id": "eb01dfa0-f697-4f78-ac2a-21a5bd2a4fac",
   "metadata": {},
   "source": [
    "### Flattening Nested Lists"
   ]
  },
  {
   "cell_type": "code",
   "execution_count": 23,
   "id": "df7b0b78-8d3f-4917-8ea6-a9e78f48ac2f",
   "metadata": {},
   "outputs": [
    {
     "name": "stdout",
     "output_type": "stream",
     "text": [
      "[1, 2, 3, 4, 5, 6, 7, 8, 9]\n"
     ]
    }
   ],
   "source": [
    "matrix = [[1, 2, 3], [4, 5, 6], [7, 8, 9]]\n",
    "flattened = [x for row in matrix for x in row]\n",
    "print(flattened)  # Output: [1, 2, 3, 4, 5, 6, 7, 8, 9]"
   ]
  },
  {
   "cell_type": "markdown",
   "id": "38ef9ae8-c9c7-4905-932f-cd7f25cbb11f",
   "metadata": {},
   "source": [
    "### Matrix Transposition with Nested List Comprehensions"
   ]
  },
  {
   "cell_type": "code",
   "execution_count": 24,
   "id": "7b792e92-6c41-4667-ac25-16beb9d4b8f4",
   "metadata": {},
   "outputs": [
    {
     "name": "stdout",
     "output_type": "stream",
     "text": [
      "[[1, 4, 7], [2, 5, 8], [3, 6, 9]]\n"
     ]
    }
   ],
   "source": [
    "matrix = [[1, 2, 3], [4, 5, 6], [7, 8, 9]]\n",
    "transposed = [[row[i] for row in matrix] for i in range(len(matrix[0]))]\n",
    "print(transposed)\n",
    "# Output:\n",
    "# [[1, 4, 7],\n",
    "#  [2, 5, 8],\n",
    "#  [3, 6, 9]]"
   ]
  },
  {
   "cell_type": "markdown",
   "id": "32f7236b-cd3e-44bc-bc43-9466cd4af733",
   "metadata": {},
   "source": [
    "##  4: Conditional Expressions in List Comprehensions"
   ]
  },
  {
   "cell_type": "markdown",
   "id": "709944c4-eb98-4726-9ca7-4204f2154b7e",
   "metadata": {},
   "source": [
    "### Conditional Expression Syntax"
   ]
  },
  {
   "cell_type": "code",
   "execution_count": 25,
   "id": "c134eaff-5e9c-42a1-b6f5-bf1530038993",
   "metadata": {},
   "outputs": [
    {
     "name": "stdout",
     "output_type": "stream",
     "text": [
      "['Odd', 'Even', 'Odd', 'Even', 'Odd']\n"
     ]
    }
   ],
   "source": [
    "numbers = [1, 2, 3, 4, 5]\n",
    "result = [\"Even\" if x % 2 == 0 else \"Odd\" for x in numbers]\n",
    "print(result)  # Output: ['Odd', 'Even', 'Odd', 'Even', 'Odd']\n"
   ]
  },
  {
   "cell_type": "markdown",
   "id": "2065c360-3bdd-40cf-8751-9764467d0519",
   "metadata": {},
   "source": [
    "### Conditional Transformation in List Comprehensions"
   ]
  },
  {
   "cell_type": "code",
   "execution_count": 26,
   "id": "11284eb0-1ff1-45f7-a05e-66dec3cf5a9a",
   "metadata": {},
   "outputs": [
    {
     "name": "stdout",
     "output_type": "stream",
     "text": [
      "[1, 4, 3, 8, 5]\n"
     ]
    }
   ],
   "source": [
    "numbers = [1, 2, 3, 4, 5]\n",
    "transformed = [x * 2 if x % 2 == 0 else x for x in numbers]\n",
    "print(transformed)  # Output: [1, 4, 3, 8, 5]\n"
   ]
  },
  {
   "cell_type": "markdown",
   "id": "27ff7837-3dcc-4bdc-a178-94abe6dc7e74",
   "metadata": {},
   "source": [
    "### Conditional Filtering in List Comprehensions"
   ]
  },
  {
   "cell_type": "code",
   "execution_count": 27,
   "id": "a609d2ae-5c2f-4636-8142-0d72c8d60189",
   "metadata": {},
   "outputs": [
    {
     "name": "stdout",
     "output_type": "stream",
     "text": [
      "[2, 4]\n"
     ]
    }
   ],
   "source": [
    "numbers = [1, 2, 3, 4, 5]\n",
    "filtered = [x for x in numbers if x % 2 == 0]\n",
    "print(filtered)  # Output: [2, 4]"
   ]
  },
  {
   "cell_type": "markdown",
   "id": "1e91b9ec-1d7e-4758-8484-d509b7824ef6",
   "metadata": {},
   "source": [
    "##  5: List Comprehensions vs. Traditional Loops"
   ]
  },
  {
   "cell_type": "markdown",
   "id": "5cf95f6a-6b76-4c79-8231-e324623e36ef",
   "metadata": {},
   "source": [
    "### Comparison of Syntax and Readability"
   ]
  },
  {
   "cell_type": "code",
   "execution_count": 28,
   "id": "f5268596-f01b-4dfc-b9db-d354c9c1f47f",
   "metadata": {},
   "outputs": [
    {
     "name": "stdout",
     "output_type": "stream",
     "text": [
      "[1, 4, 9, 16, 25]\n",
      "[1, 4, 9, 16, 25]\n"
     ]
    }
   ],
   "source": [
    "numbers = [1, 2, 3, 4, 5]\n",
    "\n",
    "# Using a traditional for loop\n",
    "squared_loop = []\n",
    "for x in numbers:\n",
    "    squared_loop.append(x ** 2)\n",
    "print(squared_loop)  # Output: [1, 4, 9, 16, 25]\n",
    "\n",
    "# Using a list comprehension\n",
    "squared_comprehension = [x ** 2 for x in numbers]\n",
    "print(squared_comprehension)  # Output: [1, 4, 9, 16, 25]\n",
    "\n"
   ]
  },
  {
   "cell_type": "markdown",
   "id": "403bc6bb-ecfc-4002-ad0e-0a6e3eb5fcbe",
   "metadata": {},
   "source": [
    "### Performance Considerations"
   ]
  },
  {
   "cell_type": "code",
   "execution_count": 30,
   "id": "2732a7cb-2106-4af5-baf7-170d3ed6f3ed",
   "metadata": {},
   "outputs": [
    {
     "name": "stdout",
     "output_type": "stream",
     "text": [
      "Traditional loop time: 3.145385980606079\n",
      "List comprehension time: 2.5828354358673096\n"
     ]
    }
   ],
   "source": [
    "# Performance Considerations\n",
    "import time\n",
    "\n",
    "# Using a traditional for loop\n",
    "start_time = time.time()\n",
    "squared_loop = []\n",
    "for x in range(10**7):\n",
    "    squared_loop.append(x ** 2)\n",
    "end_time = time.time()\n",
    "print(\"Traditional loop time:\", end_time - start_time)\n",
    "\n",
    "# Using a list comprehension\n",
    "start_time = time.time()\n",
    "squared_comprehension = [x ** 2 for x in range(10**7)]\n",
    "end_time = time.time()\n",
    "print(\"List comprehension time:\", end_time - start_time)\n",
    "\n"
   ]
  },
  {
   "cell_type": "markdown",
   "id": "3de86b75-300a-4962-adce-443bea09ab7e",
   "metadata": {},
   "source": [
    "### Use Cases for List Comprehensions and Traditional Loops"
   ]
  },
  {
   "cell_type": "code",
   "execution_count": 32,
   "id": "ce87ec1e-24d7-4cb7-b5b8-875492f672bb",
   "metadata": {},
   "outputs": [
    {
     "name": "stdout",
     "output_type": "stream",
     "text": [
      "[2, 4, 6, 8, 10]\n",
      "[2, 4]\n"
     ]
    }
   ],
   "source": [
    "# Use Cases for List Comprehensions and Traditional Loops\n",
    "numbers = [1, 2, 3, 4, 5]\n",
    "\n",
    "# List comprehension for simple transformation\n",
    "transformed = [x * 2 for x in numbers]\n",
    "print(transformed)  # Output: [2, 4, 6, 8, 10]\n",
    "\n",
    "# Traditional loop for complex logic\n",
    "filtered = []\n",
    "for x in numbers:\n",
    "    if x % 2 == 0:\n",
    "        filtered.append(x)\n",
    "print(filtered)  # Output: [2, 4]\n"
   ]
  },
  {
   "cell_type": "markdown",
   "id": "8297079c-4942-4732-889e-782c1a631681",
   "metadata": {},
   "source": [
    "##  6: List Comprehensions with Functions and Methods"
   ]
  },
  {
   "cell_type": "markdown",
   "id": "63e99d5c-5520-4141-ba38-31a87b851c42",
   "metadata": {},
   "source": [
    "### Using Functions in List Comprehensions"
   ]
  },
  {
   "cell_type": "code",
   "execution_count": 34,
   "id": "bbfb8c96-f68e-49ec-bd95-88b5336fc0d9",
   "metadata": {},
   "outputs": [
    {
     "name": "stdout",
     "output_type": "stream",
     "text": [
      "[1, 4, 9, 16, 25]\n"
     ]
    }
   ],
   "source": [
    "def square(x):\n",
    "    return x ** 2\n",
    "\n",
    "numbers = [1, 2, 3, 4, 5]\n",
    "squared = [square(x) for x in numbers]\n",
    "print(squared)  # Output: [1, 4, 9, 16, 25]"
   ]
  },
  {
   "cell_type": "markdown",
   "id": "ed8cc386-9ba8-41d3-96c4-9d60b24b60ef",
   "metadata": {
    "tags": []
   },
   "source": [
    "### Applying Methods to List Elements"
   ]
  },
  {
   "cell_type": "code",
   "execution_count": 35,
   "id": "78df29b2-def4-4ee7-a061-288ff6bcfbf4",
   "metadata": {
    "jp-MarkdownHeadingCollapsed": true,
    "tags": []
   },
   "outputs": [
    {
     "name": "stdout",
     "output_type": "stream",
     "text": [
      "['HELLO', 'WORLD']\n"
     ]
    }
   ],
   "source": [
    "words = [\"hello\", \"world\"]\n",
    "capitalized = [word.upper() for word in words]\n",
    "print(capitalized)  # Output: ['HELLO', 'WORLD']"
   ]
  },
  {
   "cell_type": "markdown",
   "id": "7ceb013f-0ffd-443c-8a2e-7cb5a5748eb7",
   "metadata": {},
   "source": [
    "### List Comprehensions with Generator Expressions"
   ]
  },
  {
   "cell_type": "code",
   "execution_count": 36,
   "id": "8548efdb-332c-4ac8-ab2f-e98ac44711af",
   "metadata": {},
   "outputs": [
    {
     "name": "stdout",
     "output_type": "stream",
     "text": [
      "[1, 4, 9, 16, 25]\n"
     ]
    }
   ],
   "source": [
    "numbers = [1, 2, 3, 4, 5]\n",
    "squared_generator = (x ** 2 for x in numbers)\n",
    "print(list(squared_generator))  # Output: [1, 4, 9, 16, 25]"
   ]
  },
  {
   "cell_type": "markdown",
   "id": "dd945dce-0c59-4deb-bfac-c1a0d86bcc21",
   "metadata": {},
   "source": [
    "### List Comprehensions with Set and Dictionary Comprehensions"
   ]
  },
  {
   "cell_type": "code",
   "execution_count": 37,
   "id": "47cbda8b-bba6-494e-a25d-807757295f18",
   "metadata": {},
   "outputs": [
    {
     "name": "stdout",
     "output_type": "stream",
     "text": [
      "{1, 4, 9, 16, 25}\n",
      "{1: 1, 2: 4, 3: 9, 4: 16, 5: 25}\n"
     ]
    }
   ],
   "source": [
    "numbers = [1, 2, 3, 4, 5]\n",
    "unique_squares = {x ** 2 for x in numbers}\n",
    "print(unique_squares)  # Output: {1, 4, 9, 16, 25}\n",
    "\n",
    "numbers = [1, 2, 3, 4, 5]\n",
    "squared_dict = {x: x ** 2 for x in numbers}\n",
    "print(squared_dict)  # Output: {1: 1, 2: 4, 3: 9, 4: 16, 5: 25}"
   ]
  },
  {
   "cell_type": "markdown",
   "id": "64e409ad-214c-41f1-b40a-859b25882df9",
   "metadata": {},
   "source": [
    "##  7: Tips and Best Practices for List Comprehensions"
   ]
  },
  {
   "cell_type": "markdown",
   "id": "1442886d-490c-45c2-8de1-02a21f28e078",
   "metadata": {},
   "source": [
    "- **Keep List Comprehensions Concise and Readable**: List comprehensions are meant to be concise and readable. Avoid excessively long or complex expressions within list comprehensions. If the expression becomes too convoluted, consider breaking it down into smaller steps or using a traditional loop instead.\n",
    "\n",
    "- **Avoid Excessive Nesting**: While nested list comprehensions are possible, they can quickly become difficult to understand and maintain. If you find yourself nesting multiple levels deep, consider refactoring the code into separate list comprehensions or using traditional loops to improve readability.\n",
    "\n",
    "- **Consider Memory Usage and Efficiency**: List comprehensions create a new list in memory. If you're working with a large dataset, be mindful of memory usage. If the resulting list is too large to fit in memory, you may need to consider alternative approaches such as generators or processing the data in smaller batches.\n",
    "\n",
    "- **Understand Scoping in List Comprehensions**: Variables defined within the scope of a list comprehension are local to that comprehension. Be cautious when using the same variable names outside of the list comprehension, as it can lead to unintended results or variable shadowing. It's good practice to choose descriptive variable names to avoid conflicts.\n",
    "\n",
    "- **Use Descriptive Variable Names**: Choose meaningful and descriptive variable names within list comprehensions. This helps improve code readability and makes it easier for others (including your future self) to understand the purpose of each variable.\n",
    "\n",
    "- **Break Down Complex Operations**: If the operation being performed within a list comprehension is complex or involves multiple steps, consider breaking it down into smaller sub-expressions. This enhances readability and allows for easier debugging if issues arise.\n",
    "\n",
    "- **Test and Debug Incrementally**: If you're encountering errors or unexpected results in a list comprehension, it can be challenging to identify the source of the issue. Test and debug your list comprehension incrementally by starting with a smaller dataset or simpler expression. Once you verify that each step is working as expected, gradually build up to the full expression.\n"
   ]
  },
  {
   "cell_type": "markdown",
   "id": "fd3db712-8d02-4b59-8d6e-8805ed774438",
   "metadata": {
    "tags": []
   },
   "source": [
    "##  8: Advanced List Comprehension Techniques"
   ]
  },
  {
   "cell_type": "markdown",
   "id": "88482708-89f4-422f-88c3-42b736f17320",
   "metadata": {},
   "source": [
    "### Combining List Comprehensions with Other Python Features:"
   ]
  },
  {
   "cell_type": "code",
   "execution_count": 38,
   "id": "80adeb79-062c-4d2b-add6-c079319cf35d",
   "metadata": {},
   "outputs": [
    {
     "name": "stdout",
     "output_type": "stream",
     "text": [
      "20\n"
     ]
    }
   ],
   "source": [
    "numbers = [1, 2, 3, 4, 5]\n",
    "sum_of_even_squares = sum(x ** 2 for x in numbers if x % 2 == 0)\n",
    "print(sum_of_even_squares)  # Output: 20"
   ]
  },
  {
   "cell_type": "markdown",
   "id": "6e8e636a-6249-406a-8a39-d1609db3b4c0",
   "metadata": {},
   "source": [
    "### List Comprehensions with Exception Handling:"
   ]
  },
  {
   "cell_type": "code",
   "execution_count": 39,
   "id": "b29eb225-14f7-4afa-a647-6b8c1beb21f0",
   "metadata": {
    "tags": []
   },
   "outputs": [
    {
     "name": "stdout",
     "output_type": "stream",
     "text": [
      "[1, 4, 9, 25]\n"
     ]
    }
   ],
   "source": [
    "numbers = [1, 2, 3, \"four\", 5]\n",
    "squared_numbers = []\n",
    "for num in numbers:\n",
    "    try:\n",
    "        squared_numbers.append(num ** 2)\n",
    "    except TypeError:\n",
    "        pass  # Skip non-numeric elements\n",
    "print(squared_numbers)  # Output: [1, 4, 9, 25]"
   ]
  },
  {
   "cell_type": "markdown",
   "id": "aae5817c-d25b-4d12-848a-e30f53c81741",
   "metadata": {},
   "source": [
    "### List Comprehensions with Multiple Iterables:"
   ]
  },
  {
   "cell_type": "code",
   "execution_count": 41,
   "id": "dbb4fe53-9087-4450-821a-38014fc7c293",
   "metadata": {},
   "outputs": [
    {
     "name": "stdout",
     "output_type": "stream",
     "text": [
      "[('Alice', 25), ('Alice', 30), ('Alice', 35), ('Bob', 25), ('Bob', 30), ('Bob', 35), ('Charlie', 25), ('Charlie', 30), ('Charlie', 35)]\n"
     ]
    }
   ],
   "source": [
    "names = [\"Alice\", \"Bob\", \"Charlie\"]\n",
    "ages = [25, 30, 35]\n",
    "persons = [(name, age) for name in names for age in ages]\n",
    "print(persons)"
   ]
  },
  {
   "cell_type": "markdown",
   "id": "eb5cbac5-946b-4622-b26c-1c2f02c72456",
   "metadata": {},
   "source": [
    "### List Comprehensions with Slicing and Indexing:"
   ]
  },
  {
   "cell_type": "code",
   "execution_count": 42,
   "id": "230e33d7-afd8-4690-9bc9-1f669fa8046d",
   "metadata": {},
   "outputs": [
    {
     "name": "stdout",
     "output_type": "stream",
     "text": [
      "[0, 4, 16, 36, 64]\n"
     ]
    }
   ],
   "source": [
    "numbers = [0, 1, 2, 3, 4, 5, 6, 7, 8, 9]\n",
    "even_squares = [num ** 2 for num in numbers[::2]]\n",
    "print(even_squares)  # Output: [0, 4, 16, 36, 64]\n"
   ]
  },
  {
   "cell_type": "markdown",
   "id": "75f84ecb-648e-4d80-ad9f-ba46d559775a",
   "metadata": {},
   "source": [
    "##  [] list comprehension\n",
    ">\n",
    "> Returns a list based on existing iterables.\n",
    "\n",
    "> **Syntax**\n",
    "> \n",
    "> [expression(variable) for variable in input_set [predicate][, …]]\n",
    "\n",
    "> **expression** [Optional]. An output expression producing members of the new set from members of the input set that satisfy the predicate expression.\n",
    ">\n",
    "> **variable** [Required]. Variable representing members of an input set.\n",
    ">\n",
    "> **input_set** [Required]. Represents the input set.\n",
    ">\n",
    "> **predicate** [Optional]. Expression acting as a filter on members of the input set.\n",
    ">\n",
    "> **[, …]]** Optional. Another nested comprehension.\n",
    ">\n",
    "> **Return Value**:  list"
   ]
  },
  {
   "cell_type": "code",
   "execution_count": null,
   "id": "5fb80c24-9272-4328-a2af-d1e05d908530",
   "metadata": {},
   "outputs": [],
   "source": []
  }
 ],
 "metadata": {
  "kernelspec": {
   "display_name": "Python 3 (ipykernel)",
   "language": "python",
   "name": "python3"
  },
  "language_info": {
   "codemirror_mode": {
    "name": "ipython",
    "version": 3
   },
   "file_extension": ".py",
   "mimetype": "text/x-python",
   "name": "python",
   "nbconvert_exporter": "python",
   "pygments_lexer": "ipython3",
   "version": "3.9.7"
  }
 },
 "nbformat": 4,
 "nbformat_minor": 5
}
