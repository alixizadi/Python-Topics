{
 "cells": [
  {
   "cell_type": "markdown",
   "id": "af401170-af90-4146-aa00-0cfeb9e51841",
   "metadata": {
    "jp-MarkdownHeadingCollapsed": true,
    "tags": []
   },
   "source": [
    "## 1: Introduction to Lambda Functions\n"
   ]
  },
  {
   "cell_type": "markdown",
   "id": "1f8a2dd4-342d-42aa-9506-5f15a0bf53aa",
   "metadata": {},
   "source": [
    "### Understanding Anonymous Functions\n",
    "- Lambda functions are anonymous functions that can be defined without a name.\n",
    "- They are typically used when you need a simple, one-line function."
   ]
  },
  {
   "cell_type": "markdown",
   "id": "f5c74504-2291-4844-8688-408a04db51d4",
   "metadata": {},
   "source": [
    "### Syntax of Lambda Functions\n",
    "- Lambda functions are defined using the `lambda` keyword, followed by the arguments and a colon, and then the expression to be evaluated."
   ]
  },
  {
   "cell_type": "code",
   "execution_count": 4,
   "id": "7df90f89-a752-42f2-9c5c-193f9aaba2d6",
   "metadata": {},
   "outputs": [
    {
     "name": "stdout",
     "output_type": "stream",
     "text": [
      "8\n"
     ]
    }
   ],
   "source": [
    "# Example 1: A lambda function that adds two numbers\n",
    "add = lambda x, y: x + y\n",
    "result = add(3, 5)\n",
    "print(result)  # Output: 8"
   ]
  },
  {
   "cell_type": "code",
   "execution_count": 5,
   "id": "e286f6c3-0d80-4da2-8b24-97744fd52a2e",
   "metadata": {},
   "outputs": [
    {
     "name": "stdout",
     "output_type": "stream",
     "text": [
      "16\n"
     ]
    }
   ],
   "source": [
    "# Example 2: A lambda function that squares a number\n",
    "square = lambda x: x ** 2\n",
    "result = square(4)\n",
    "print(result)  # Output: 16"
   ]
  },
  {
   "cell_type": "code",
   "execution_count": 6,
   "id": "fbbbc2ad-4b27-4167-8659-b8dbaba0947a",
   "metadata": {},
   "outputs": [
    {
     "name": "stdout",
     "output_type": "stream",
     "text": [
      "False\n"
     ]
    }
   ],
   "source": [
    "# Example 3: A lambda function that checks if a number is even\n",
    "is_even = lambda x: x % 2 == 0\n",
    "result = is_even(7)\n",
    "print(result)  # Output: False"
   ]
  },
  {
   "cell_type": "markdown",
   "id": "8fb20ca1-8b41-4ffb-b30b-ac67eb47eec6",
   "metadata": {},
   "source": [
    "### Benefits and Use Cases of Lambda Functions\n",
    "- **Concise syntax**: They allow you to define simple functions in a single line of code.\n",
    "- **Readability**: They can make the code more readable when used appropriately.\n",
    "- **Function arguments**: Lambda functions can be used as arguments to higher-order functions like `map()`, `filter()`, and `reduce()`.\n",
    "- **Avoiding function definition**: They eliminate the need to define a named function when a simple function is required."
   ]
  },
  {
   "cell_type": "code",
   "execution_count": 7,
   "id": "fd8dcc7d-9d4f-418b-b742-40ebfac309b6",
   "metadata": {},
   "outputs": [
    {
     "name": "stdout",
     "output_type": "stream",
     "text": [
      "[1, 4, 9, 16, 25]\n"
     ]
    }
   ],
   "source": [
    "numbers = [1, 2, 3, 4, 5]\n",
    "squared_numbers = list(map(lambda x: x ** 2, numbers))\n",
    "print(squared_numbers)  # Output: [1, 4, 9, 16, 25]"
   ]
  },
  {
   "cell_type": "markdown",
   "id": "a49ac20a-0d51-4dc9-a7e4-e607283469da",
   "metadata": {},
   "source": [
    "## 2: Basic Operations with Lambda Functions"
   ]
  },
  {
   "cell_type": "markdown",
   "id": "661abb0c-956f-40a8-88e9-64474cd34038",
   "metadata": {},
   "source": [
    "### Assigning Lambda Functions to Variables\n",
    "-  Lambda functions can be assigned to variables, allowing them to be reused and called by the variable name."
   ]
  },
  {
   "cell_type": "code",
   "execution_count": 8,
   "id": "5799e6f6-530e-4aa1-b134-148ae162b122",
   "metadata": {},
   "outputs": [
    {
     "name": "stdout",
     "output_type": "stream",
     "text": [
      "8\n"
     ]
    }
   ],
   "source": [
    "# Example: Assigning a lambda function to a variable\n",
    "add = lambda x, y: x + y\n",
    "result = add(3, 5)\n",
    "print(result)  # Output: 8"
   ]
  },
  {
   "cell_type": "markdown",
   "id": "ab193ae2-9c38-49ad-97b9-24f80536de1b",
   "metadata": {},
   "source": [
    "### Invoking Lambda Functions\n",
    "- Lambda functions can be invoked directly without assigning them to variables."
   ]
  },
  {
   "cell_type": "code",
   "execution_count": 9,
   "id": "c01652d1-62c7-4564-9660-bada5084c0b8",
   "metadata": {},
   "outputs": [
    {
     "name": "stdout",
     "output_type": "stream",
     "text": [
      "8\n"
     ]
    }
   ],
   "source": [
    "# Example: Invoking a lambda function directly\n",
    "result = (lambda x, y: x + y)(3, 5)\n",
    "print(result)  # Output: 8"
   ]
  },
  {
   "cell_type": "markdown",
   "id": "33d2f5bf-84c3-440d-a85e-4e60ec997fa8",
   "metadata": {},
   "source": [
    "### Single-Argument Lambda Functions\n",
    "-  Lambda functions can have a single argument, and the syntax does not require parentheses around the argument."
   ]
  },
  {
   "cell_type": "code",
   "execution_count": 10,
   "id": "b2f75b6d-c566-46fc-8723-1448e2fbf236",
   "metadata": {},
   "outputs": [
    {
     "name": "stdout",
     "output_type": "stream",
     "text": [
      "8\n"
     ]
    }
   ],
   "source": [
    "# Example: Single-argument lambda function\n",
    "double = lambda x: x * 2\n",
    "result = double(4)\n",
    "print(result)  # Output: 8"
   ]
  },
  {
   "cell_type": "markdown",
   "id": "eb9b0075-c46f-4c0c-9796-71ddc6eecf04",
   "metadata": {},
   "source": [
    "### Multiple-Argument Lambda Functions\n",
    "- Lambda functions can have multiple arguments separated by commas."
   ]
  },
  {
   "cell_type": "code",
   "execution_count": 13,
   "id": "38be0df8-e47e-4c90-b0ca-62c069455f37",
   "metadata": {},
   "outputs": [
    {
     "name": "stdout",
     "output_type": "stream",
     "text": [
      "120\n"
     ]
    }
   ],
   "source": [
    "# Example: Multiple-argument lambda function\n",
    "multiply = lambda x, y, z: x * y * z\n",
    "result = multiply(3, 5, 8)\n",
    "print(result) "
   ]
  },
  {
   "cell_type": "markdown",
   "id": "537c0eb2-05ee-4408-9809-03c140a0cc44",
   "metadata": {},
   "source": [
    "## 3: Working with Lambda Functions"
   ]
  },
  {
   "cell_type": "markdown",
   "id": "d09518c5-f1c0-4b91-be59-d8bc1405e1d4",
   "metadata": {},
   "source": [
    "### Lambda Functions as Arguments\n",
    "- Lambda functions can be passed as arguments to other functions."
   ]
  },
  {
   "cell_type": "code",
   "execution_count": 14,
   "id": "e4c45aee-9b7a-4a66-89fb-3fccfdda2a4a",
   "metadata": {},
   "outputs": [
    {
     "name": "stdout",
     "output_type": "stream",
     "text": [
      "[2, 4]\n"
     ]
    }
   ],
   "source": [
    "# Example: Using a lambda function as an argument\n",
    "numbers = [1, 2, 3, 4, 5]\n",
    "result = list(filter(lambda x: x % 2 == 0, numbers))\n",
    "print(result)  # Output: [2, 4]"
   ]
  },
  {
   "cell_type": "markdown",
   "id": "4592473c-e795-4ee8-a7a9-abeaec7ebbeb",
   "metadata": {},
   "source": [
    "### Lambda Functions in Higher-Order Functions\n",
    "- Higher-order functions can accept lambda functions as arguments and use them for processing."
   ]
  },
  {
   "cell_type": "code",
   "execution_count": 15,
   "id": "b87b01c1-9c76-42f5-a5ed-c20f4e75275c",
   "metadata": {},
   "outputs": [
    {
     "name": "stdout",
     "output_type": "stream",
     "text": [
      "[1, 4, 9, 16, 25]\n"
     ]
    }
   ],
   "source": [
    "# Example: Using a lambda function with `map()`\n",
    "numbers = [1, 2, 3, 4, 5]\n",
    "squared_numbers = list(map(lambda x: x ** 2, numbers))\n",
    "print(squared_numbers)  # Output: [1, 4, 9, 16, 25]"
   ]
  },
  {
   "cell_type": "markdown",
   "id": "c9bde2b9-5e5f-4b9b-952d-ded5363c8ee3",
   "metadata": {},
   "source": [
    "### Sorting with Lambda Functions\n",
    "- Lambda functions can be used to define custom sorting criteria."
   ]
  },
  {
   "cell_type": "code",
   "execution_count": 16,
   "id": "a76075da-3fd5-4663-a3eb-edb34e06a2a1",
   "metadata": {},
   "outputs": [
    {
     "name": "stdout",
     "output_type": "stream",
     "text": [
      "['Alice', 'Bob', 'Charlie', 'Dave']\n"
     ]
    }
   ],
   "source": [
    "# Example: Sorting a list of names alphabetically\n",
    "names = [\"Alice\", \"Bob\", \"Charlie\", \"Dave\"]\n",
    "sorted_names = sorted(names, key=lambda x: x.lower())\n",
    "print(sorted_names)  # Output: ['Alice', 'Bob', 'Charlie', 'Dave']"
   ]
  },
  {
   "cell_type": "markdown",
   "id": "6e433ae8-ffbe-44d1-bf10-e3d3c4cde673",
   "metadata": {},
   "source": [
    "### Mapping and Filtering with Lambda Functions\n",
    "- Lambda functions can be used with `map()` and `filter()` functions for mapping and filtering operations."
   ]
  },
  {
   "cell_type": "code",
   "execution_count": 17,
   "id": "79b333e3-a2a6-407d-8605-0b2834fabd35",
   "metadata": {},
   "outputs": [
    {
     "name": "stdout",
     "output_type": "stream",
     "text": [
      "[3, 4, 5]\n",
      "[2, 4, 6, 8, 10]\n"
     ]
    }
   ],
   "source": [
    "# Example: Using `filter()` with a lambda function\n",
    "numbers = [1, 2, 3, 4, 5]\n",
    "filtered_numbers = list(filter(lambda x: x > 2, numbers))\n",
    "print(filtered_numbers)  # Output: [3, 4, 5]\n",
    "\n",
    "# Example: Using `map()` with a lambda function\n",
    "numbers = [1, 2, 3, 4, 5]\n",
    "mapped_numbers = list(map(lambda x: x * 2, numbers))\n",
    "print(mapped_numbers)  # Output: [2, 4, 6, 8, 10]"
   ]
  },
  {
   "cell_type": "markdown",
   "id": "282fc7ec-b342-4fdf-8545-233135e248b0",
   "metadata": {},
   "source": [
    "## 4: Capturing Variables in Lambda Functions"
   ]
  },
  {
   "cell_type": "markdown",
   "id": "65bbc26e-c339-4b83-8e6c-acb3e6623c7a",
   "metadata": {},
   "source": [
    "### Accessing Variables in the Enclosing Scope\n",
    "- Lambda functions can access variables from their enclosing scope."
   ]
  },
  {
   "cell_type": "code",
   "execution_count": 19,
   "id": "217f524b-2cd9-4918-a69f-68eb65a3cd7c",
   "metadata": {},
   "outputs": [
    {
     "name": "stdout",
     "output_type": "stream",
     "text": [
      "10\n"
     ]
    }
   ],
   "source": [
    "# Example: Accessing an enclosing scope variable\n",
    "def multiplier(n):\n",
    "    return lambda x: x * n\n",
    "\n",
    "double = multiplier(2)\n",
    "result = double(5)\n",
    "print(result)"
   ]
  },
  {
   "cell_type": "markdown",
   "id": "6dd6d333-33d0-415c-af81-ef731685ab71",
   "metadata": {},
   "source": [
    "### Closures and Stateful Lambdas\n",
    "- Lambda functions can create closures, which retain the values of variables from their enclosing scope."
   ]
  },
  {
   "cell_type": "code",
   "execution_count": null,
   "id": "57d9cffc-d60c-44d0-8a6c-58e01a1c9935",
   "metadata": {},
   "outputs": [],
   "source": [
    "# Example: Creating a closure with a stateful lambda function\n",
    "def counter():\n",
    "    count = 0\n",
    "    increment = lambda: count + 1\n",
    "    return increment\n",
    "\n",
    "counter_func = counter()\n",
    "print(counter_func())\n",
    "print(counter_func())"
   ]
  },
  {
   "cell_type": "markdown",
   "id": "e4d117d7-c924-48a7-a007-e75b24de5cf3",
   "metadata": {},
   "source": [
    "### Modifying Enclosing Scope Variables\n",
    "- Lambda functions can modify variables from their enclosing scope if the variables are mutable."
   ]
  },
  {
   "cell_type": "code",
   "execution_count": 23,
   "id": "334347a7-e849-47bc-8649-ab17521f9e84",
   "metadata": {},
   "outputs": [
    {
     "name": "stdout",
     "output_type": "stream",
     "text": [
      "[11, 12, 13, 14, 15]\n"
     ]
    }
   ],
   "source": [
    "# Example: Modifying an enclosing scope variable\n",
    "def increment_values(numbers):\n",
    "    increment = 10\n",
    "    return [x + increment for x in numbers]\n",
    "\n",
    "numbers = [1, 2, 3, 4, 5]\n",
    "incremented_numbers = increment_values(numbers)\n",
    "print(incremented_numbers)  # Output: [11, 12, 13, 14, 15]"
   ]
  },
  {
   "cell_type": "markdown",
   "id": "8646a7ea-b139-42bf-8aca-d090b1cd2657",
   "metadata": {},
   "source": [
    "## 5: Limitations and Considerations"
   ]
  },
  {
   "cell_type": "markdown",
   "id": "46d7bbde-dc4b-4fc5-95cb-e708eca574da",
   "metadata": {},
   "source": [
    "### Complexity and Readability\n",
    "- List comprehensions can become complex and less readable when dealing with multiple nested loops and conditions."
   ]
  },
  {
   "cell_type": "code",
   "execution_count": 28,
   "id": "a9812164-884e-4788-bf92-b31c8b9ab0fe",
   "metadata": {},
   "outputs": [
    {
     "name": "stdout",
     "output_type": "stream",
     "text": [
      "[3, 5, 7, 5, 7, 9]\n"
     ]
    }
   ],
   "source": [
    "# Example: Complex list comprehension\n",
    "numbers = [1, 2, 3, 4, 5]\n",
    "result = [x + y for x in numbers if x % 2 == 0 for y in numbers if y % 2 == 1]\n",
    "print(result)  # Output: [3, 5, 7, 7, 9]"
   ]
  },
  {
   "cell_type": "markdown",
   "id": "9bd8e256-2a92-4de0-9655-1b8a1dd5d345",
   "metadata": {},
   "source": [
    "### Lack of Documentation\n",
    "- List comprehensions can be difficult to understand without proper documentation or comments."
   ]
  },
  {
   "cell_type": "code",
   "execution_count": 30,
   "id": "2a71d054-0a0b-4f37-8725-865f7e9ae17c",
   "metadata": {},
   "outputs": [
    {
     "name": "stdout",
     "output_type": "stream",
     "text": [
      "[1, 4, 9, 16, 25]\n"
     ]
    }
   ],
   "source": [
    "numbers = [1, 2, 3, 4, 5]\n",
    "squared_numbers = [x ** 2 for x in numbers]  # What does this list comprehension do?\n",
    "print(squared_numbers)"
   ]
  },
  {
   "cell_type": "markdown",
   "id": "7e2a6f04-6a27-4410-9a6c-889db353cee2",
   "metadata": {},
   "source": [
    "### Performance Considerations\n",
    "- List comprehensions may not be the most efficient solution for large datasets or complex operations."
   ]
  },
  {
   "cell_type": "code",
   "execution_count": 31,
   "id": "46a004c7-a671-4e5c-8727-8c15f13793b1",
   "metadata": {},
   "outputs": [
    {
     "name": "stdout",
     "output_type": "stream",
     "text": [
      "[2, 4, 6, 8, 10]\n"
     ]
    }
   ],
   "source": [
    "# Example: Performance considerations\n",
    "numbers = [1, 2, 3, 4, 5]\n",
    "result = [x * 2 for x in numbers]  # List comprehension\n",
    "print(result)  # Output: [2, 4, 6, 8, 10]"
   ]
  },
  {
   "cell_type": "markdown",
   "id": "b2e26075-e61a-4995-a247-cec228839095",
   "metadata": {},
   "source": [
    "### Alternative Approaches\n",
    "- In some cases, using traditional loops or other constructs may be more suitable than list comprehensions."
   ]
  },
  {
   "cell_type": "code",
   "execution_count": 32,
   "id": "9cfd6839-6d83-4850-bbd9-4d9bfdd815eb",
   "metadata": {},
   "outputs": [
    {
     "name": "stdout",
     "output_type": "stream",
     "text": [
      "[3, 5]\n"
     ]
    }
   ],
   "source": [
    "# Example: Alternative approach using a traditional loop\n",
    "numbers = [1, 2, 3, 4, 5]\n",
    "result = []\n",
    "for x in numbers:\n",
    "    if x % 2 == 0:\n",
    "        result.append(x + 1)\n",
    "print(result)  # Output: [3, 5]"
   ]
  },
  {
   "cell_type": "markdown",
   "id": "1ced714c-6332-4643-87a9-3917350a85f2",
   "metadata": {},
   "source": [
    "## 6: Advanced Topics with Lambda Functions\n"
   ]
  },
  {
   "cell_type": "markdown",
   "id": "8c4a5946-c7a9-4737-92b4-fa1b38906f66",
   "metadata": {},
   "source": [
    "### Recursive Lambda Functions\n",
    "- Lambda functions can be recursive, allowing them to call themselves."
   ]
  },
  {
   "cell_type": "code",
   "execution_count": 33,
   "id": "45077acd-3164-4db4-9b82-6745e20022a8",
   "metadata": {},
   "outputs": [
    {
     "name": "stdout",
     "output_type": "stream",
     "text": [
      "120\n"
     ]
    }
   ],
   "source": [
    "# Example: Recursive lambda function to calculate factorial\n",
    "factorial = (lambda f: (lambda x: x(x))(lambda y: f(lambda *args: y(y)(*args))))(\n",
    "    lambda f: lambda n: 1 if n == 0 else n * f(n - 1)\n",
    ")\n",
    "\n",
    "print(factorial(5))  # Output: 120"
   ]
  },
  {
   "cell_type": "markdown",
   "id": "9dc89a88-c91d-44eb-9045-d7d9152ebf8c",
   "metadata": {},
   "source": [
    "### Currying and Partial Application\n",
    "-  Currying allows transforming a function with multiple arguments into a sequence of functions with single arguments.\n",
    "-  Partial application is a technique where a function with multiple arguments is applied to some of its arguments, creating a new function with fewer arguments."
   ]
  },
  {
   "cell_type": "code",
   "execution_count": 34,
   "id": "b9274856-feaa-40c6-b0e6-64ce2b44790d",
   "metadata": {},
   "outputs": [
    {
     "name": "stdout",
     "output_type": "stream",
     "text": [
      "5\n"
     ]
    }
   ],
   "source": [
    "# Example: Currying and partial application with lambda functions\n",
    "add = lambda x: lambda y: x + y\n",
    "add_two = add(2)\n",
    "print(add_two(3))  # Output: 5"
   ]
  },
  {
   "cell_type": "markdown",
   "id": "ec27a9f0-2940-4559-acd8-9d407abdce72",
   "metadata": {},
   "source": [
    "### Composing Lambda Functions\n",
    "- Composing lambda functions allows chaining them together to perform complex operations."
   ]
  },
  {
   "cell_type": "code",
   "execution_count": 37,
   "id": "caddf57f-6386-4ac7-9047-c0cbc1aee574",
   "metadata": {},
   "outputs": [
    {
     "name": "stdout",
     "output_type": "stream",
     "text": [
      "8\n"
     ]
    }
   ],
   "source": [
    "# Example: Composing lambda functions\n",
    "multiply_by_two = lambda x: x * 2\n",
    "add_one = lambda x: x + 1\n",
    "subtract_three = lambda x: x - 3\n",
    "\n",
    "operation = lambda x: subtract_three(add_one(multiply_by_two(x)))\n",
    "\n",
    "print(operation(5))"
   ]
  },
  {
   "cell_type": "markdown",
   "id": "3c0c0e82-1879-4e61-9857-ad0e7e16bcba",
   "metadata": {},
   "source": [
    "### Lambda Functions in Object-Oriented Programming\n",
    "- Lambda functions can be used in object-oriented programming for defining methods or behavior."
   ]
  },
  {
   "cell_type": "code",
   "execution_count": 39,
   "id": "e3d5a8c4-fa14-49ea-8d40-f16055526b22",
   "metadata": {},
   "outputs": [
    {
     "name": "stdout",
     "output_type": "stream",
     "text": [
      "Hello, my name is Ali.\n"
     ]
    }
   ],
   "source": [
    "# Example: Lambda function as a method in a class\n",
    "class Person:\n",
    "    def __init__(self, name):\n",
    "        self.name = name\n",
    "        self.greet = lambda: f\"Hello, my name is {self.name}.\"\n",
    "\n",
    "person = Person(\"Ali\")\n",
    "print(person.greet())  # Output: Hello, my name is Alice."
   ]
  },
  {
   "cell_type": "markdown",
   "id": "74a16f7c-3953-4bbf-a535-194f6333fcde",
   "metadata": {},
   "source": [
    "## 7: Best Practices and Tips"
   ]
  },
  {
   "cell_type": "markdown",
   "id": "0333b928-031a-48f2-a0d4-185c3cda6250",
   "metadata": {},
   "source": [
    "### Keeping Lambda Functions Concise and Readable\n",
    "- It's important to keep lambda functions concise and readable by using clear and meaningful expressions."
   ]
  },
  {
   "cell_type": "code",
   "execution_count": 41,
   "id": "91751d60-d44b-4247-a923-60c0be8d8048",
   "metadata": {},
   "outputs": [
    {
     "name": "stdout",
     "output_type": "stream",
     "text": [
      "[1, 4, 9, 16, 25]\n"
     ]
    }
   ],
   "source": [
    "numbers = [1, 2, 3, 4, 5]\n",
    "squared_numbers = list(map(lambda x: x ** 2, numbers))\n",
    "print(squared_numbers)  # Output: [1, 4, 9, 16, 25]"
   ]
  },
  {
   "cell_type": "markdown",
   "id": "a6eda48e-74da-4afe-9527-629581268208",
   "metadata": {},
   "source": [
    "###  Naming and Documentation Conventions\n",
    "- Although lambda functions are anonymous, providing meaningful names and documenting their purpose can improve code readability."
   ]
  },
  {
   "cell_type": "code",
   "execution_count": 42,
   "id": "207a5666-277d-4dba-be16-edec37969de3",
   "metadata": {},
   "outputs": [
    {
     "name": "stdout",
     "output_type": "stream",
     "text": [
      "6\n"
     ]
    }
   ],
   "source": [
    "# Example: Named lambda function with documentation\n",
    "increment = lambda x: x + 1  # Increment the given value by 1\n",
    "result = increment(5)\n",
    "print(result)  # Output: 6"
   ]
  },
  {
   "cell_type": "markdown",
   "id": "710ece03-2ab1-4f6a-a4ff-c538a78838dc",
   "metadata": {},
   "source": [
    "###  Understanding the Limitations of Lambda Functions\n",
    "- Lambda functions have limitations compared to regular functions, such as not supporting statements or multiple expressions."
   ]
  },
  {
   "cell_type": "code",
   "execution_count": 43,
   "id": "d2d273eb-2fab-4d34-a8ce-2bfdb98a93e5",
   "metadata": {},
   "outputs": [],
   "source": [
    "# Example: Limitation of lambda functions\n",
    "add_numbers = lambda x, y: x + y  # Valid lambda function\n",
    "# Example with multiple expressions: add_numbers = lambda x, y: x + y; print(add_numbers(2, 3))  # Invalid lambda function"
   ]
  },
  {
   "cell_type": "markdown",
   "id": "564ecf7a-3fc2-461e-bf32-3fd26db72865",
   "metadata": {},
   "source": [
    "###  Choosing the Right Tool for the Job\n",
    "- While lambda functions can be powerful, it's important to consider other alternatives, such as regular functions or classes, when they offer better readability and maintainability."
   ]
  },
  {
   "cell_type": "code",
   "execution_count": 44,
   "id": "e67d42be-3cac-4071-8923-58a0f51fa7ea",
   "metadata": {},
   "outputs": [
    {
     "name": "stdout",
     "output_type": "stream",
     "text": [
      "5\n"
     ]
    }
   ],
   "source": [
    "def add_numbers(x, y):\n",
    "    return x + y\n",
    "\n",
    "result = add_numbers(2, 3)\n",
    "print(result)  # Output: 5"
   ]
  },
  {
   "cell_type": "markdown",
   "id": "aa37e4a3-d28b-47b0-9b41-dcad959f04d4",
   "metadata": {},
   "source": [
    "## 8: Lambda Functions in Real-World Applications\n"
   ]
  },
  {
   "cell_type": "markdown",
   "id": "dcb37278-e10c-47a1-b6af-ba355223f357",
   "metadata": {},
   "source": [
    "### Data Transformation and Cleaning\n",
    "- Lambda functions are useful for transforming and cleaning data, especially when working with large datasets."
   ]
  },
  {
   "cell_type": "code",
   "execution_count": 45,
   "id": "f107b2a9-9d1f-4174-9d62-b3fd25c3264a",
   "metadata": {},
   "outputs": [
    {
     "name": "stdout",
     "output_type": "stream",
     "text": [
      "[1, 4, 9, 16, 25]\n"
     ]
    }
   ],
   "source": [
    "# Example: Data transformation using lambda functions\n",
    "data = [1, 2, 3, 4, 5]\n",
    "transformed_data = list(map(lambda x: x ** 2, data))\n",
    "print(transformed_data)  # Output: [1, 4, 9, 16, 25]"
   ]
  },
  {
   "cell_type": "markdown",
   "id": "2deaa97f-876a-4c40-99ee-de45f3cad4f4",
   "metadata": {},
   "source": [
    "### Event Handling and Callbacks\n",
    "- Lambda functions can be used as event handlers or callbacks to respond to specific events or conditions."
   ]
  },
  {
   "cell_type": "markdown",
   "id": "3ab1e433-da7a-442b-9a46-8a2c7ee2ee8d",
   "metadata": {},
   "source": [
    "```python\n",
    "# Example: Event handling with lambda functions\n",
    "button = Button()\n",
    "button.on_click(lambda: print(\"Button clicked\"))\n",
    "```"
   ]
  },
  {
   "cell_type": "markdown",
   "id": "bbe668c6-7afc-473b-826a-60f64ba8e10f",
   "metadata": {},
   "source": [
    "### Functional Programming Paradigm\n",
    "- Lambda functions play a significant role in functional programming, where functions are treated as first-class citizens."
   ]
  },
  {
   "cell_type": "code",
   "execution_count": 47,
   "id": "c1adf30b-9680-4198-be01-f667a5d262d8",
   "metadata": {},
   "outputs": [
    {
     "name": "stdout",
     "output_type": "stream",
     "text": [
      "[2, 4]\n"
     ]
    }
   ],
   "source": [
    "# Example: Functional programming with lambda functions\n",
    "numbers = [1, 2, 3, 4, 5]\n",
    "even_numbers = list(filter(lambda x: x % 2 == 0, numbers))\n",
    "print(even_numbers)  # Output: [2, 4]"
   ]
  },
  {
   "cell_type": "markdown",
   "id": "6996d11d-3e3e-4db2-addd-76cb10386792",
   "metadata": {
    "tags": []
   },
   "source": [
    "### Parallel and Distributed Computing\n",
    "- Lambda functions are well-suited for parallel and distributed computing, as they can be easily passed to distributed systems for execution."
   ]
  },
  {
   "cell_type": "code",
   "execution_count": null,
   "id": "2038536c-c943-4adc-939e-601119bd4a9c",
   "metadata": {},
   "outputs": [],
   "source": [
    "# Example: Parallel computing using lambda functions\n",
    "from multiprocessing import Pool\n",
    "\n",
    "numbers = [1, 2, 3, 4, 5]\n",
    "\n",
    "with Pool(processes=4) as pool:\n",
    "    results = pool.map(lambda x: x ** 2, numbers)\n",
    "    print(results)  # Output: [1, 4, 9, 16, 25]"
   ]
  }
 ],
 "metadata": {
  "kernelspec": {
   "display_name": "Python 3 (ipykernel)",
   "language": "python",
   "name": "python3"
  },
  "language_info": {
   "codemirror_mode": {
    "name": "ipython",
    "version": 3
   },
   "file_extension": ".py",
   "mimetype": "text/x-python",
   "name": "python",
   "nbconvert_exporter": "python",
   "pygments_lexer": "ipython3",
   "version": "3.9.7"
  }
 },
 "nbformat": 4,
 "nbformat_minor": 5
}
