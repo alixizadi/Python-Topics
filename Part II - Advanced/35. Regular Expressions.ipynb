{
 "cells": [
  {
   "cell_type": "markdown",
   "id": "ef5f2cd3-f9f0-4aeb-be1a-8db82a8db308",
   "metadata": {},
   "source": [
    "## 1: Introduction to Regular Expressions"
   ]
  },
  {
   "cell_type": "markdown",
   "id": "0fd0e319-f74f-49e1-ae13-191ba6e53e4c",
   "metadata": {},
   "source": [
    "### What are Regular Expressions?\n",
    "- Regular expressions, often abbreviated as regex, are powerful tools for **pattern matching** and **text manipulation**.\n",
    "- They provide a concise and flexible way to search, extract, and manipulate strings based on specific patterns.\n",
    "\n",
    "- Regular expressions are a sequence of characters that define a search pattern.\n",
    "- This pattern can be used to match and manipulate text in various contexts, such as searching for specific words or patterns in a document, validating input strings, or extracting specific information from a larger dataset."
   ]
  },
  {
   "cell_type": "markdown",
   "id": "3d1a016a-e100-46f1-8e1a-abf927dca442",
   "metadata": {},
   "source": [
    "### Benefits of Using Regular Expressions\n",
    "Regular expressions offer several benefits when working with text data:\n",
    "\n",
    "- **Pattern matching**: Regular expressions allow you to define complex patterns to match specific strings or patterns within larger texts. This makes it easier to identify and extract relevant information from text data.\n",
    "\n",
    "- **Flexibility**: Regular expressions provide a flexible syntax that allows you to define intricate patterns and handle a wide range of text manipulation tasks. They can be used to search, replace, or validate strings based on complex rules and conditions.\n",
    "\n",
    "- **Efficiency**: Regular expressions are designed to be efficient and optimized for performance. They can handle large amounts of text data quickly, making them suitable for processing tasks that involve searching or manipulating large datasets."
   ]
  },
  {
   "cell_type": "markdown",
   "id": "58291d84-2f67-4db9-b193-c062f92818ea",
   "metadata": {},
   "source": [
    "### Basic Syntax of Regular Expressions\n",
    "\n",
    "\n",
    "- `.` (dot): Matches any single character except a newline.\n",
    "- `*` (asterisk): Matches zero or more occurrences of the preceding character or group.\n",
    "- `+` (plus): Matches one or more occurrences of the preceding character or group.\n",
    "- `?` (question mark): Matches zero or one occurrence of the preceding character or group.\n",
    "- `[ ]` (square brackets): Matches any single character within the specified range or set.\n",
    "- `|` (pipe): Acts as an OR operator, matching either the pattern before or after the pipe.\n",
    "- `^` (caret): Matches the beginning of a line or string.\n",
    "- `$` (dollar sign): Matches the end of a line or string.\n",
    "\n",
    "Regular expressions also support various special sequences, such as `\\d` for matching digits, `\\w` for matching word characters, and `\\s` for matching whitespace characters."
   ]
  },
  {
   "cell_type": "code",
   "execution_count": 4,
   "id": "5308f5ca-140c-4229-94f7-92b28f4aabe3",
   "metadata": {},
   "outputs": [
    {
     "name": "stdout",
     "output_type": "stream",
     "text": [
      "['123', '456', '7']\n"
     ]
    }
   ],
   "source": [
    "import re\n",
    "\n",
    "text = \"Hello, 123 World!456,7\"\n",
    "pattern = r\"\\d+\"\n",
    "matches = re.findall(pattern, text)\n",
    "print(matches)\n",
    "\n",
    "#The regular expression pattern r\"\\d+\" matches one or more digits.\n",
    "#The findall() function returns a list of all matches found in the text."
   ]
  },
  {
   "cell_type": "markdown",
   "id": "40fc9328-7ba2-4b64-89d1-18bc7ae9710d",
   "metadata": {},
   "source": [
    "## 2: Matching Patterns"
   ]
  },
  {
   "cell_type": "markdown",
   "id": "bc919c22-ec39-492c-aa07-4a706200dda2",
   "metadata": {},
   "source": [
    "### Matching Text Literals\n",
    "- Regular expressions can be used to match specific text literals in a string. Text literals are simply the exact characters you want to match."
   ]
  },
  {
   "cell_type": "code",
   "execution_count": 5,
   "id": "5188e18d-35c4-464b-aa38-aba90a19ad2a",
   "metadata": {},
   "outputs": [
    {
     "name": "stdout",
     "output_type": "stream",
     "text": [
      "['Hello']\n"
     ]
    }
   ],
   "source": [
    "import re\n",
    "\n",
    "# Example: Matching text literals\n",
    "text = \"Hello, World!\"\n",
    "pattern = r\"Hello\"\n",
    "matches = re.findall(pattern, text)\n",
    "print(matches)  # Output: ['Hello']"
   ]
  },
  {
   "cell_type": "markdown",
   "id": "b04ed1ba-e24c-4ba2-9220-766ec522f576",
   "metadata": {},
   "source": [
    "- The regular expression pattern `r\"Hello\"` is used to match the text literal \"Hello\" in the `text` string.\n",
    "- The `findall()` function returns a list containing all occurrences of the text literal found in the text."
   ]
  },
  {
   "cell_type": "markdown",
   "id": "9df2d57a-7862-454b-bb76-216f2c476f2b",
   "metadata": {},
   "source": [
    "### Matching Character Classes\n",
    "- Character classes allow you to match a specific set of characters. They are defined using square brackets `[ ]` and can include a range of characters or individual characters.\n",
    "\n",
    "- Here's an example that demonstrates matching character classes using regular expressions:"
   ]
  },
  {
   "cell_type": "code",
   "execution_count": 7,
   "id": "e6ef5a1f-1134-451c-8522-cbaad59669b2",
   "metadata": {},
   "outputs": [
    {
     "name": "stdout",
     "output_type": "stream",
     "text": [
      "['e', 'o', 'o']\n"
     ]
    }
   ],
   "source": [
    "import re\n",
    "\n",
    "# Example: Matching character classes\n",
    "text = \"Hello, World!\"\n",
    "pattern = r\"[aeiou]\"\n",
    "matches = re.findall(pattern, text)\n",
    "print(matches)  # Output: ['e', 'o', 'o']"
   ]
  },
  {
   "cell_type": "markdown",
   "id": "3660413a-43bb-4eec-95ec-ae1d9d2f135d",
   "metadata": {},
   "source": [
    "- In this example, the regular expression pattern `r\"[aeiou]\"` matches any lowercase vowel character (a, e, i, o, u) in the `text` string. The `findall()` function returns a list of all vowel characters found in the text."
   ]
  },
  {
   "cell_type": "markdown",
   "id": "dafae85d-8ba3-4ce3-a465-5407ecc2f503",
   "metadata": {},
   "source": [
    "### Metacharacters and Escaping\n",
    "- Metacharacters have special meanings in regular expressions.\n",
    "- If you want to match a metacharacter as a literal character, you need to escape it using a backslash `\\`.\n",
    "\n",
    "- Here's an example that demonstrates escaping metacharacters using regular expressions:"
   ]
  },
  {
   "cell_type": "code",
   "execution_count": 18,
   "id": "83c67dd7-ada2-40c3-8cac-0f9867a86612",
   "metadata": {},
   "outputs": [
    {
     "name": "stdout",
     "output_type": "stream",
     "text": [
      "['*', '.']\n"
     ]
    }
   ],
   "source": [
    "import re\n",
    "\n",
    "# Example: Escaping metacharacters\n",
    "text = \"Hello, World* .\"\n",
    "pattern = r\"[\\*\\.]\" #any * or .\n",
    "matches = re.findall(pattern, text)\n",
    "print(matches)  "
   ]
  },
  {
   "cell_type": "markdown",
   "id": "413fab97-74e7-4841-b30f-d2eb84fe42f7",
   "metadata": {},
   "source": [
    "In this example, the regular expression pattern `r\"\\.\"` is used to match a literal period (dot) character in the `text` string. The backslash `\\` before the dot indicates that it should be treated as a literal character."
   ]
  },
  {
   "cell_type": "markdown",
   "id": "a8bdd692-4362-43af-9467-31ef96bdfaca",
   "metadata": {},
   "source": [
    "### Quantifiers and Repetition\n",
    "- Quantifiers allow you to specify the number of occurrences of a character or group in a pattern.\n",
    "- They control the repetition of the preceding element.\n",
    "\n",
    "- Here's an example that demonstrates using quantifiers for repetition using regular expressions:"
   ]
  },
  {
   "cell_type": "code",
   "execution_count": 28,
   "id": "1716a5dd-5900-4d67-ade9-cf239ee8d1f2",
   "metadata": {},
   "outputs": [
    {
     "name": "stdout",
     "output_type": "stream",
     "text": [
      "['ll']\n",
      "['ooo']\n"
     ]
    }
   ],
   "source": [
    "import re\n",
    "\n",
    "# Example: Using quantifiers for repetition\n",
    "text = \"Hellooo, World!\"\n",
    "matches = re.findall(r\"l{2}\", text) # 2 consecutive l's\n",
    "print(matches)  \n",
    "matches = re.findall(r\"o{2,}\", text) # 2 or more consecutive o's\n",
    "print(matches)  \n"
   ]
  },
  {
   "cell_type": "markdown",
   "id": "05215406-3435-4469-af38-31c20dea9b95",
   "metadata": {},
   "source": [
    "In this example, the regular expression pattern `r\"o{2,}\"` matches two or more consecutive \"o\" characters in the `text` string. The `{2,}` quantifier specifies that the preceding \"o\" should occur at least twice."
   ]
  },
  {
   "cell_type": "markdown",
   "id": "9fca9957-54e8-40de-9c9e-0a4069567c5a",
   "metadata": {},
   "source": [
    "### Anchors and Boundary Matchers\n",
    "- Anchors and boundary matchers allow you to specify the position of a pattern in a string.\n",
    "- They are used to match patterns at the beginning, end, or specific positions within a string.\n",
    "- Here's an example that demonstrates using anchors and boundary matchers using regular expressions:"
   ]
  },
  {
   "cell_type": "code",
   "execution_count": 38,
   "id": "85cf7fa8-64e5-4a65-b863-e74b81b89aff",
   "metadata": {},
   "outputs": [
    {
     "name": "stdout",
     "output_type": "stream",
     "text": [
      "['Hello']\n",
      "['World!']\n"
     ]
    }
   ],
   "source": [
    "import re\n",
    "\n",
    "# Example: Using anchors and boundary matchers\n",
    "text = \"Hello, World!\"\n",
    "pattern = r\"^Hello\"\n",
    "matches = re.findall(r\"^Hello\", text) # beginning with Hello\n",
    "print(matches)  \n",
    "matches = re.findall(r\"World!$\", text) # ending with World!\n",
    "print(matches)  "
   ]
  },
  {
   "cell_type": "markdown",
   "id": "3434cf77-39d0-444f-a57e-1e809a3d0205",
   "metadata": {},
   "source": [
    "In this example, the regular expression pattern `r\"^Hello\"` matches the pattern \"Hello\" only at the beginning of the `text` string. The `findall()` function returns a list containing the"
   ]
  },
  {
   "cell_type": "markdown",
   "id": "3ad8e7f8-b20d-4430-a02e-bde530e63ccb",
   "metadata": {},
   "source": [
    "## 3: Character Sets and Groups"
   ]
  },
  {
   "cell_type": "markdown",
   "id": "82f7b123-028a-4851-912f-0348adc02fd8",
   "metadata": {},
   "source": [
    "### Defining Character Sets\n",
    "- Character sets allow you to specify a set of characters that you want to match. \n",
    "- They are defined using square brackets `[ ]` and can include individual characters, ranges of characters, or a combination of both.\n",
    "\n",
    "- Here's an example that demonstrates defining character sets using regular expressions:"
   ]
  },
  {
   "cell_type": "code",
   "execution_count": 39,
   "id": "aa57450b-c46f-488b-b1b0-85e1ff1f9efb",
   "metadata": {},
   "outputs": [
    {
     "name": "stdout",
     "output_type": "stream",
     "text": [
      "['e', 'o', 'o']\n"
     ]
    }
   ],
   "source": [
    "import re\n",
    "\n",
    "# Example: Defining character sets\n",
    "text = \"Hello, World!\"\n",
    "pattern = r\"[aeiou]\"\n",
    "matches = re.findall(pattern, text)\n",
    "print(matches) "
   ]
  },
  {
   "cell_type": "markdown",
   "id": "5165cc4c-3b55-4029-b0af-218f77eb591a",
   "metadata": {},
   "source": [
    "In this example, the regular expression pattern `r\"[aeiou]\"` matches any lowercase vowel character (a, e, i, o, u) in the `text` string. The `findall()` function returns a list of all vowel characters found in the text."
   ]
  },
  {
   "cell_type": "markdown",
   "id": "c678fd48-9c5c-4cfd-a5d7-a34e6a1c10ab",
   "metadata": {},
   "source": [
    "### Negating Character Sets\n",
    "- You can also negate a character set by including a caret `^` at the beginning of the set.\n",
    "- This will match any character that is not in the set.\n",
    "\n",
    "- Here's an example that demonstrates negating character sets using regular expressions:"
   ]
  },
  {
   "cell_type": "code",
   "execution_count": 40,
   "id": "f1022b68-c450-42f7-9a94-eb800fabbf2b",
   "metadata": {},
   "outputs": [
    {
     "name": "stdout",
     "output_type": "stream",
     "text": [
      "['H', 'l', 'l', ',', ' ', 'W', 'r', 'l', 'd', '!']\n"
     ]
    }
   ],
   "source": [
    "import re\n",
    "\n",
    "# Example: Negating character sets\n",
    "text = \"Hello, World!\"\n",
    "pattern = r\"[^aeiou]\"\n",
    "matches = re.findall(pattern, text)\n",
    "print(matches)  # Output: ['H', 'l', 'l', ',', ' ', 'W', 'r', 'l', 'd', '!']"
   ]
  },
  {
   "cell_type": "markdown",
   "id": "8010aca1-c689-4018-8e46-608ab0f875fa",
   "metadata": {},
   "source": [
    "In this example, the regular expression pattern `r\"[^aeiou]\"` matches any character in the `text` string that is not a lowercase vowel. The `findall()` function returns a list of all non-vowel characters found in the text."
   ]
  },
  {
   "cell_type": "markdown",
   "id": "0abad128-663e-474e-9ecf-c5dc714eeb6c",
   "metadata": {},
   "source": [
    "### Special Character Sets\n",
    "- Regular expressions provide special character sets that match common character groups. Some commonly used special character sets include:\n",
    "\n",
    "> - `\\d`: Matches any digit character (0-9).\n",
    "> \n",
    "> - `\\D`: Matches any non-digit character.\n",
    "> \n",
    "> - `\\w`: Matches any word character (alphanumeric and underscore).\n",
    "> \n",
    "> - `\\W`: Matches any non-word character.\n",
    "> \n",
    "> - `\\s`: Matches any whitespace character (space, tab, newline).\n",
    "> \n",
    "> - `\\S`: Matches any non-whitespace character.\n",
    "\n",
    "- Here's an example that demonstrates using special character sets using regular expressions:"
   ]
  },
  {
   "cell_type": "code",
   "execution_count": 48,
   "id": "38b4a57f-cdfd-4e1d-a837-99ae6a068eee",
   "metadata": {},
   "outputs": [
    {
     "name": "stdout",
     "output_type": "stream",
     "text": [
      "['3', '0', '123', '0', '1']\n"
     ]
    }
   ],
   "source": [
    "import re\n",
    "\n",
    "# Example: Using special character sets\n",
    "text = \"H3ll0, 123 W0r1d!\"\n",
    "pattern = r\"\\d+\"\n",
    "matches = re.findall(pattern, text)\n",
    "print(matches)  # Output: ['123']"
   ]
  },
  {
   "cell_type": "markdown",
   "id": "9af94ab7-4931-4481-bcaf-0dfb8ba9357a",
   "metadata": {},
   "source": [
    "In this example, the regular expression pattern `r\"\\d+\"` matches one or more digit characters in the `text` string. The `findall()` function returns a list of all digit sequences found in the text."
   ]
  },
  {
   "cell_type": "markdown",
   "id": "ec98e090-0e3a-4e8b-99d6-27536e618296",
   "metadata": {},
   "source": [
    "### Grouping and Capturing\n",
    "- You can use parentheses `( )` to group patterns together.\n",
    "- This allows you to apply quantifiers or other operations to the group as a whole.\n",
    "- Additionally, groups can be used to capture specific portions of the matched text.\n",
    "\n",
    "- Here's an example that demonstrates grouping and capturing using regular expressions:"
   ]
  },
  {
   "cell_type": "code",
   "execution_count": 57,
   "id": "f921438a-6f17-4ee2-94c2-c07020978939",
   "metadata": {},
   "outputs": [
    {
     "name": "stdout",
     "output_type": "stream",
     "text": [
      "[('John', 'Doe'), ('Jane', 'Smith')]\n"
     ]
    }
   ],
   "source": [
    "import re\n",
    "\n",
    "# Example: Grouping and capturing\n",
    "text = \"John Doe, Jane Smith\"\n",
    "pattern = r\"(\\w+) (\\w+)\"\n",
    "matches = re.findall(pattern, text)\n",
    "print(matches)  # Output: [('John', 'Doe'), ('Jane', 'Smith')]"
   ]
  },
  {
   "cell_type": "markdown",
   "id": "2e1de8a9-7419-4a2f-8383-c0071e4efa14",
   "metadata": {},
   "source": [
    "In this example, the regular expression pattern `r\"(\\w+) (\\w+)\"` matches two groups of word characters separated by a space in the `text` string. The `findall()` function returns a list of tuples, where each tuple represents a match and contains the captured groups.\n",
    "\n",
    "Grouping and capturing are useful for extracting specific parts of the matched text or applying operations to grouped patterns within a regular expression."
   ]
  },
  {
   "cell_type": "markdown",
   "id": "5bf4e5fa-6694-4c34-bd69-8714bb8940b4",
   "metadata": {},
   "source": [
    "## 4: Advanced Pattern Matching"
   ]
  },
  {
   "cell_type": "markdown",
   "id": "6a36a716-c8b8-433a-8025-707e238db67f",
   "metadata": {
    "tags": []
   },
   "source": [
    "### Alternation and Branching\n",
    "- Alternation allows you to match one pattern out of several possible patterns.\n",
    "- It is represented by the pipe symbol `|` and behaves like a logical OR operator.\n",
    "\n",
    "- Here's an example that demonstrates alternation and branching using regular expressions:"
   ]
  },
  {
   "cell_type": "code",
   "execution_count": 58,
   "id": "1206457d-8d0a-4325-8b26-c14473613fa7",
   "metadata": {},
   "outputs": [
    {
     "name": "stdout",
     "output_type": "stream",
     "text": [
      "['apple', 'banana', 'cherry']\n"
     ]
    }
   ],
   "source": [
    "import re\n",
    "\n",
    "# Example: Alternation and branching\n",
    "text = \"apple banana cherry\"\n",
    "pattern = r\"apple|banana|cherry\"\n",
    "matches = re.findall(pattern, text)\n",
    "print(matches) "
   ]
  },
  {
   "cell_type": "markdown",
   "id": "bfb21dc7-f557-4a7e-a8e9-7e218837873f",
   "metadata": {},
   "source": [
    "In this example, the regular expression pattern `r\"apple|banana|cherry\"` matches any occurrence of \"apple\", \"banana\", or \"cherry\" in the `text` string. The `findall()` function returns a list of all matched alternatives."
   ]
  },
  {
   "cell_type": "markdown",
   "id": "bff67528-62f2-4403-89df-e16783f66851",
   "metadata": {
    "tags": []
   },
   "source": [
    "### Greedy vs. Non-Greedy Matching\n",
    "- By default, regular expressions perform greedy matching, where they try to match as much as possible.\n",
    "- However, you can use the `?` symbol to perform non-greedy matching, where they try to match as little as possible.\n",
    "\n",
    "- Here's an example that demonstrates greedy and non-greedy matching using regular expressions:"
   ]
  },
  {
   "cell_type": "code",
   "execution_count": 59,
   "id": "46bf3417-fe1a-49b9-91d1-15e00fefa056",
   "metadata": {},
   "outputs": [
    {
     "name": "stdout",
     "output_type": "stream",
     "text": [
      "['ababab']\n",
      "['abab']\n"
     ]
    }
   ],
   "source": [
    "import re\n",
    "\n",
    "# Example: Greedy and non-greedy matching\n",
    "text = \"ababab\"\n",
    "pattern_greedy = r\"aba.*b\"\n",
    "pattern_non_greedy = r\"aba.*?b\"\n",
    "\n",
    "matches_greedy = re.findall(pattern_greedy, text)\n",
    "matches_non_greedy = re.findall(pattern_non_greedy, text)\n",
    "\n",
    "print(matches_greedy)  # Output: ['ababab']\n",
    "print(matches_non_greedy)  # Output: ['abab']"
   ]
  },
  {
   "cell_type": "markdown",
   "id": "9a9c15b1-4b93-4595-b252-f7acf1fabb37",
   "metadata": {},
   "source": [
    "In this example, the regular expression pattern `r\"aba.*b\"` matches the longest possible sequence starting with \"aba\" and ending with \"b\". This results in a greedy match, matching the entire `text` string. On the other hand, the pattern `r\"aba.*?b\"` performs non-greedy matching and matches the shortest possible sequence, resulting in a partial match."
   ]
  },
  {
   "cell_type": "markdown",
   "id": "73bd75a8-ef22-4bc0-9c5f-02c3c56b4674",
   "metadata": {
    "tags": []
   },
   "source": [
    "### Lookahead and Lookbehind Assertions\n",
    "- Lookahead and lookbehind assertions allow you to specify conditions that must be satisfied for a match to occur.\n",
    "- They are used to look ahead or behind the current position in the string without including the matched text in the result.\n",
    "\n",
    "- Here's an example that demonstrates lookahead and lookbehind assertions using regular expressions:"
   ]
  },
  {
   "cell_type": "code",
   "execution_count": 61,
   "id": "41df4711-93e0-4939-911f-acf3fd4e4804",
   "metadata": {},
   "outputs": [
    {
     "name": "stdout",
     "output_type": "stream",
     "text": [
      "['apple']\n",
      "['orange', 'banana']\n"
     ]
    }
   ],
   "source": [
    "import re\n",
    "\n",
    "# Example: Lookahead and lookbehind assertions\n",
    "text = \"apple orange apple banana\"\n",
    "pattern_lookahead = r\"\\w+(?= orange)\"\n",
    "pattern_lookbehind = r\"(?<=apple )\\w+\"\n",
    "\n",
    "matches_lookahead = re.findall(pattern_lookahead, text)\n",
    "matches_lookbehind = re.findall(pattern_lookbehind, text)\n",
    "\n",
    "print(matches_lookahead)  # Output: ['apple']\n",
    "print(matches_lookbehind)  # Output: ['orange']"
   ]
  },
  {
   "cell_type": "markdown",
   "id": "3d561f4a-5d60-4eca-8488-dcb6627db11f",
   "metadata": {},
   "source": [
    "In this example, the regular expression pattern `r\"\\w+(?= orange)\"` uses a positive lookahead assertion to match any word that is followed by the word \"orange\" in the `text` string. The pattern `r\"(?<=apple )\\w+\"` uses a positive lookbehind assertion to match any word that is preceded by the word \"apple\"."
   ]
  },
  {
   "cell_type": "markdown",
   "id": "eb882cbe-e39d-4421-a6ef-e4b4db00f403",
   "metadata": {
    "tags": []
   },
   "source": [
    "### Backreferences and Substitutions\n",
    "- Backreferences allow you to refer back to captured groups within a regular expression. \n",
    "- They are represented by the backslash `\\` followed by the group number or name.\n",
    "\n",
    "- Here's an example that demonstrates backreferences and substitutions using regular expressions:"
   ]
  },
  {
   "cell_type": "code",
   "execution_count": 63,
   "id": "8c25186b-6e71-4003-8a3b-1bba0ec40c1e",
   "metadata": {},
   "outputs": [
    {
     "name": "stdout",
     "output_type": "stream",
     "text": [
      "Hello, Mr. Doe!\n"
     ]
    }
   ],
   "source": [
    "import re\n",
    "\n",
    "# Example: Backreferences and substitutions\n",
    "text = \"Hello, John Doe!\"\n",
    "pattern = r\"(Hello, )(\\w+) (\\w+)\"\n",
    "replacement = r\"\\1Mr. \\3\"\n",
    "new_text = re.sub(pattern, replacement, text)\n",
    "print(new_text)  # Output: \"Hello, Mr. Doe!\""
   ]
  },
  {
   "cell_type": "markdown",
   "id": "553980d2-1d02-490a-96c0-c36c3ea52d1e",
   "metadata": {},
   "source": [
    "In this example, the regular expression pattern ```r\"(Hello, )(\\w+) (\\w+)\"``` matches the greeting \"Hello, \" followed by two words (captured as groups) separated by a space. The replacement pattern r\"\\1Mr. \\3\" replaces the matched pattern with \"Hello, \" (the contents of group 1), followed by \"Mr. \" and the second captured word (the contents of group 3).\n",
    "\n",
    "The re.sub() function is used to perform the substitution, replacing the matched pattern in the text string with the specified replacement pattern. The resulting new text is then printed, which in this case would be \"Hello, Mr. Doe!\"."
   ]
  },
  {
   "cell_type": "markdown",
   "id": "0b59bb92-bc04-4e73-987a-04607dbfd7f0",
   "metadata": {},
   "source": [
    "## 5: Modifiers and Flags"
   ]
  },
  {
   "cell_type": "markdown",
   "id": "bb3f2e72-8850-4b65-be58-21ee04b05f92",
   "metadata": {},
   "source": [
    "### Case Insensitivity\n",
    "\n",
    "- The case insensitivity modifier allows you to perform case-insensitive matching in regular expressions.\n",
    "- By default, regular expressions are case sensitive, meaning that uppercase and lowercase letters are treated differently.\n",
    "- However, with the case insensitivity modifier, you can ignore the case of letters when making matches.\n",
    "- Here's an example that demonstrates case insensitivity using regular expressions:"
   ]
  },
  {
   "cell_type": "code",
   "execution_count": 64,
   "id": "dc93f88e-553c-4b33-9313-7b9d66496b38",
   "metadata": {},
   "outputs": [
    {
     "name": "stdout",
     "output_type": "stream",
     "text": [
      "['Hello']\n"
     ]
    }
   ],
   "source": [
    "import re\n",
    "\n",
    "# Example: Case insensitivity\n",
    "text = \"Hello, World!\"\n",
    "pattern = r\"hello\"\n",
    "matches = re.findall(pattern, text, re.IGNORECASE)\n",
    "print(matches)  # Output: ['Hello']"
   ]
  },
  {
   "cell_type": "markdown",
   "id": "05a6dd27-661d-4276-93d6-edc850f52c79",
   "metadata": {},
   "source": [
    "In this example, the regular expression pattern `r\"hello\"` is matched against the `text` string using the `findall()` function with the `re.IGNORECASE` flag. The flag enables case insensitivity, allowing \"Hello\" to be matched even though the pattern uses lowercase letters."
   ]
  },
  {
   "cell_type": "markdown",
   "id": "8df616c0-cabe-4d45-93db-2b95609dd3a3",
   "metadata": {},
   "source": [
    "### Multiline Mode\n",
    "- The multiline mode modifies how the `^` and `$` anchors behave in regular expressions.\n",
    "- By default, these anchors match the start and end of the entire string.\n",
    "- However, in multiline mode, they also match the start and end of each line within a multiline string.\n",
    "- Here's an example that demonstrates multiline mode using regular expressions:"
   ]
  },
  {
   "cell_type": "code",
   "execution_count": 66,
   "id": "85ec55de-9cb7-40c8-b27f-08a475c43b4b",
   "metadata": {},
   "outputs": [
    {
     "name": "stdout",
     "output_type": "stream",
     "text": [
      "['Line 1']\n",
      "['Line 1', 'Line 2', 'Line 3']\n"
     ]
    }
   ],
   "source": [
    "import re\n",
    "\n",
    "# Example: Multiline mode\n",
    "text = \"Line 1\\nLine 2\\nLine 3\"\n",
    "pattern = r\"^Line \\d+\"\n",
    "\n",
    "matches = re.findall(pattern, text) #Whole String\n",
    "print(matches)\n",
    "\n",
    "matches = re.findall(pattern, text, re.MULTILINE) #Multiline\n",
    "print(matches)"
   ]
  },
  {
   "cell_type": "markdown",
   "id": "9146b596-0dde-4f7a-91b8-606f2da150f0",
   "metadata": {},
   "source": [
    "In this example, the regular expression pattern `r\"^Line \\d+\"` is matched against the `text` string using the `findall()` function with the `re.MULTILINE` flag. The flag enables multiline mode, causing the pattern to match the start of each line that begins with \"Line\" followed by one or more digits."
   ]
  },
  {
   "cell_type": "markdown",
   "id": "a7e6a8d6-5429-491f-8f40-68f0bd8e21a5",
   "metadata": {},
   "source": [
    "### Dotall Mode\n",
    "- The dotall mode modifies how the dot `.` metacharacter behaves in regular expressions.\n",
    "- By default, the dot matches any character except a newline. \n",
    "- However, in dotall mode, the dot matches any character, including a newline.\n",
    "- Here's an example that demonstrates dotall mode using regular expressions:"
   ]
  },
  {
   "cell_type": "code",
   "execution_count": 67,
   "id": "2499e35f-46d2-4547-935f-56e0d0cb1604",
   "metadata": {},
   "outputs": [
    {
     "name": "stdout",
     "output_type": "stream",
     "text": [
      "[]\n",
      "['Hello\\nWorld']\n"
     ]
    }
   ],
   "source": [
    "import re\n",
    "\n",
    "# Example: Dotall mode\n",
    "text = \"Hello\\nWorld\"\n",
    "pattern = r\"Hello.World\"\n",
    "\n",
    "\n",
    "matches = re.findall(pattern, text)\n",
    "print(matches)  # Output: ['Hello\\nWorld']\n",
    "\n",
    "matches = re.findall(pattern, text, re.DOTALL)\n",
    "print(matches)"
   ]
  },
  {
   "cell_type": "markdown",
   "id": "770fb46b-8d12-4e4f-96f1-0b3197f221e3",
   "metadata": {},
   "source": [
    "In this example, the regular expression pattern `r\"Hello.World\"` is matched against the `text` string using the `findall()` function with the `re.DOTALL` flag. The flag enables dotall mode, allowing the dot to match the newline character between \"Hello\" and \"World\"."
   ]
  },
  {
   "cell_type": "markdown",
   "id": "410c9dff-76d0-47f6-b5d0-18129effe0a8",
   "metadata": {},
   "source": [
    "### Verbose Mode\n",
    "\n",
    "- The verbose mode allows you to write more readable and organized regular expressions by ignoring whitespace and comments within the pattern.\n",
    "- It enables you to split the pattern into multiple lines and add comments to explain the different parts of the expression.\n",
    "- Here's an example that demonstrates verbose mode using regular expressions:"
   ]
  },
  {
   "cell_type": "code",
   "execution_count": 70,
   "id": "536a920e-bf85-4a9a-b1c6-8a3df55b0601",
   "metadata": {},
   "outputs": [
    {
     "name": "stdout",
     "output_type": "stream",
     "text": [
      "['Hello,  World']\n"
     ]
    }
   ],
   "source": [
    "import re\n",
    "\n",
    "# Example: Verbose mode\n",
    "text = \"Hello,  World!\"\n",
    "pattern = r\"\"\"\n",
    "    Hello  # Match \"Hello\"\n",
    "    ,      # Match comma\n",
    "    \\s{2,}   # Match two or more whitespace characters\n",
    "    World  # Match \"World\"\n",
    "\"\"\"\n",
    "matches = re.findall(pattern, text, re.VERBOSE)\n",
    "print(matches)  # Output: ['Hello, World']"
   ]
  },
  {
   "cell_type": "markdown",
   "id": "54628a94-b00c-4c35-b001-8093f00981f6",
   "metadata": {},
   "source": [
    "In this example, the regular expression pattern is written using the `re.VERBOSE` flag, enabling verbose mode. The pattern is split into multiple lines, and comments are added using the `#` symbol"
   ]
  },
  {
   "cell_type": "markdown",
   "id": "783c22bf-f95f-43df-bbf6-1e6795080831",
   "metadata": {},
   "source": [
    "## 6: Using Regular Expressions in Python"
   ]
  },
  {
   "cell_type": "markdown",
   "id": "dc25278d-568a-441e-b884-3763ae9ac09b",
   "metadata": {
    "tags": []
   },
   "source": [
    "### The re Module\n",
    "- In Python, regular expressions are handled using the `re` module, which provides various functions and methods for working with regular expressions.\n",
    "\n",
    "- Here's an example that demonstrates the basic usage of the `re` module:"
   ]
  },
  {
   "cell_type": "code",
   "execution_count": 71,
   "id": "eef36125-9080-4978-8d69-87375098d50b",
   "metadata": {},
   "outputs": [
    {
     "name": "stdout",
     "output_type": "stream",
     "text": [
      "['World']\n"
     ]
    }
   ],
   "source": [
    "import re\n",
    "\n",
    "# Example: Using the re module\n",
    "text = \"Hello, World!\"\n",
    "pattern = r\"World\"\n",
    "matches = re.findall(pattern, text)\n",
    "print(matches)"
   ]
  },
  {
   "cell_type": "markdown",
   "id": "54b35267-359e-46a2-ba4e-3fc6a7cd704c",
   "metadata": {},
   "source": [
    "In this example, the `re` module is imported, and the `findall()` function is used to find all occurrences of the pattern `\"World\"` in the `text` string. The matches are stored in the `matches` list and then printed."
   ]
  },
  {
   "cell_type": "markdown",
   "id": "716518a1-0cb2-42fe-a147-5651e0468a10",
   "metadata": {
    "tags": []
   },
   "source": [
    "### Compiling and Matching Patterns\n",
    "The `re` module provides a `compile()` function that allows you to compile a regular expression pattern into a regular expression object. This object can then be used for matching operations.\n",
    "\n",
    "Here's an example that demonstrates compiling and matching patterns using the `re` module:"
   ]
  },
  {
   "cell_type": "code",
   "execution_count": 72,
   "id": "d65c0fae-963f-4021-a0b5-31a9bd4da662",
   "metadata": {},
   "outputs": [
    {
     "name": "stdout",
     "output_type": "stream",
     "text": [
      "['World']\n"
     ]
    }
   ],
   "source": [
    "import re\n",
    "\n",
    "# Example: Compiling and matching patterns\n",
    "text = \"Hello, World!\"\n",
    "pattern = r\"World\"\n",
    "regex = re.compile(pattern)\n",
    "matches = regex.findall(text)\n",
    "print(matches) "
   ]
  },
  {
   "cell_type": "markdown",
   "id": "01434713-8d13-410a-a930-faa6d37d0fb7",
   "metadata": {},
   "source": [
    "In this example, the pattern `\"World\"` is compiled into a regular expression object using the `re.compile()` function. The resulting object `regex` is then used to perform the matching operation using the `findall()` method, similar to the previous example."
   ]
  },
  {
   "cell_type": "markdown",
   "id": "fe12b652-db5b-470a-a738-a39d96eaa9e5",
   "metadata": {
    "tags": []
   },
   "source": [
    "### Searching and Extracting Text\n",
    "- The `re` module provides several functions for searching and extracting text based on regular expressions. \n",
    "- Some commonly used functions include `search()`, `match()`, and `findall()`.\n",
    "- Here's an example that demonstrates searching and extracting text using regular expressions:"
   ]
  },
  {
   "cell_type": "code",
   "execution_count": 76,
   "id": "08b7c318-fda7-4a12-a808-ed6c45402ef5",
   "metadata": {},
   "outputs": [
    {
     "name": "stdout",
     "output_type": "stream",
     "text": [
      "Match found: Hello\n"
     ]
    }
   ],
   "source": [
    "import re\n",
    "\n",
    "# Example: Searching and extracting text\n",
    "text = \"Hello, World!\"\n",
    "pattern = r\"\\w+\"\n",
    "match = re.search(pattern, text)\n",
    "if match:\n",
    "    print(\"Match found:\", match.group())\n",
    "else:\n",
    "    print(\"No match found\")"
   ]
  },
  {
   "cell_type": "markdown",
   "id": "abe99bb5-b244-4b31-8702-834d1c476942",
   "metadata": {},
   "source": [
    "In this example, the `search()` function is used to find the first occurrence of the pattern `\"World\"` in the `text` string. If a match is found, the `group()` method is used to retrieve the matched text. If no match is found, an appropriate message is printed."
   ]
  },
  {
   "cell_type": "markdown",
   "id": "727a4432-dc33-497b-8f8b-1654def8707f",
   "metadata": {
    "tags": []
   },
   "source": [
    "### Substitution and Replacing Text\n",
    "- The `re` module provides the `sub()` function for substituting and replacing text based on regular expressions.\n",
    "- This function allows you to replace matched patterns with new text.\n",
    "- Here's an example that demonstrates substitution and replacing text using regular expressions:"
   ]
  },
  {
   "cell_type": "code",
   "execution_count": 77,
   "id": "7fcbc98a-d719-4b25-9bfe-b80d27dad67f",
   "metadata": {},
   "outputs": [
    {
     "name": "stdout",
     "output_type": "stream",
     "text": [
      "Hello, Python!\n"
     ]
    }
   ],
   "source": [
    "import re\n",
    "\n",
    "# Example: Substitution and replacing text\n",
    "text = \"Hello, World!\"\n",
    "pattern = r\"World\"\n",
    "replacement = \"Python\"\n",
    "new_text = re.sub(pattern, replacement, text)\n",
    "print(new_text)  # Output: \"Hello, Python!\""
   ]
  },
  {
   "cell_type": "markdown",
   "id": "17f4afd2-f892-4e94-9575-eb3c14d0d451",
   "metadata": {},
   "source": [
    "In this example, the `sub()` function is used to substitute the pattern `\"World\"` with the replacement text `\"Python\"` in the `text` string. The resulting new text is stored in the `new_text` variable and then printed.\n",
    "\n",
    "These are some of the common operations you can perform using regular expressions in Python using the `re` module."
   ]
  },
  {
   "cell_type": "markdown",
   "id": "4883269f-3679-400b-b9bb-13b99a6aa702",
   "metadata": {},
   "source": [
    "## 7: Practical Examples and Use Cases"
   ]
  },
  {
   "cell_type": "markdown",
   "id": "19353070-cf79-4af4-9154-817c0886204f",
   "metadata": {},
   "source": [
    "### Validating Input Data\n",
    "- Regular expressions are commonly used for validating input data, such as validating email addresses, phone numbers, or passwords.\n",
    "- By defining specific patterns and constraints, regular expressions can help ensure that the input data meets the required format.\n",
    "- Here's an example of validating an email address using a regular expression:"
   ]
  },
  {
   "cell_type": "code",
   "execution_count": 78,
   "id": "efc714fc-a4c7-4271-b4e6-684029d6211d",
   "metadata": {},
   "outputs": [
    {
     "name": "stdout",
     "output_type": "stream",
     "text": [
      "Email is valid\n"
     ]
    }
   ],
   "source": [
    "import re\n",
    "\n",
    "# Example: Validating an email address\n",
    "email = \"example@example.com\"\n",
    "pattern = r\"^[\\w\\.-]+@[\\w\\.-]+\\.\\w+$\"\n",
    "is_valid = re.match(pattern, email)\n",
    "if is_valid:\n",
    "    print(\"Email is valid\")\n",
    "else:\n",
    "    print(\"Email is not valid\")"
   ]
  },
  {
   "cell_type": "markdown",
   "id": "de0d1ee6-23b5-4008-a609-722916da5c5c",
   "metadata": {},
   "source": [
    "In this example, the regular expression pattern `r\"^[\\w\\.-]+@[\\w\\.-]+\\.\\w+$\"` is used to validate the email address. The pattern checks for the presence of alphanumeric characters, dots, and hyphens before and after the `@` symbol, followed by a valid domain name. If the email matches the pattern, it is considered valid."
   ]
  },
  {
   "cell_type": "markdown",
   "id": "5474e16e-cdcd-4bc1-ac8b-9611d4840489",
   "metadata": {},
   "source": [
    "### Parsing and Extracting Information\n",
    "- Regular expressions can be used to parse and extract specific information from text data. \n",
    "- This is particularly useful when dealing with structured data formats or log files.\n",
    "- Here's an example of extracting phone numbers from a text using regular expressions:"
   ]
  },
  {
   "cell_type": "code",
   "execution_count": 80,
   "id": "980737d0-763b-4ca4-bf21-f988e45f1e78",
   "metadata": {},
   "outputs": [
    {
     "name": "stdout",
     "output_type": "stream",
     "text": [
      "['+1-123-456-7890', '+44-987-654-3210']\n"
     ]
    }
   ],
   "source": [
    "import re\n",
    "\n",
    "# Example: Extracting phone numbers\n",
    "text = \"Contact us at +1-123-456-7890 or +44-987-654-3210\"\n",
    "pattern = r\"\\+\\d{1,3}-\\d{3}-\\d{3}-\\d{4}\"\n",
    "phone_numbers = re.findall(pattern, text)\n",
    "print(phone_numbers) "
   ]
  },
  {
   "cell_type": "markdown",
   "id": "882411d9-b724-44a3-8b77-0402c56cfcf8",
   "metadata": {},
   "source": [
    "In this example, the regular expression pattern `r\"\\+\\d{1,3}-\\d{3}-\\d{3}-\\d{4}\"` is used to extract phone numbers in the format \"+x-xxx-xxx-xxxx\". The `findall()` function is used to find all occurrences of the pattern in the `text` string, and the extracted phone numbers are stored in the `phone_numbers` list."
   ]
  },
  {
   "cell_type": "markdown",
   "id": "16365e6b-a5bf-44b5-b754-145ecdd911e0",
   "metadata": {},
   "source": [
    "### Searching and Filtering Text\n",
    "- Regular expressions are powerful tools for searching and filtering text data based on specific patterns.\n",
    "- They can be used to identify specific words, patterns, or structures within a larger body of text.\n",
    "- Here's an example of searching for specific words in a text using regular expressions:"
   ]
  },
  {
   "cell_type": "code",
   "execution_count": 81,
   "id": "12caec05-b282-424e-940e-78b790b850c2",
   "metadata": {},
   "outputs": [
    {
     "name": "stdout",
     "output_type": "stream",
     "text": [
      "['quick', 'brown', 'jumps']\n"
     ]
    }
   ],
   "source": [
    "import re\n",
    "\n",
    "# Example: Searching for specific words\n",
    "text = \"The quick brown fox jumps over the lazy dog\"\n",
    "pattern = r\"\\b\\w{5}\\b\"\n",
    "matches = re.findall(pattern, text)\n",
    "print(matches) "
   ]
  },
  {
   "cell_type": "markdown",
   "id": "f7dedaa6-c4c1-451a-95ed-b211c99a7e86",
   "metadata": {},
   "source": [
    "In this example, the regular expression pattern `r\"\\b\\w{5}\\b\"` is used to search for words that are exactly 5 characters long. The `\\b` metacharacters represent word boundaries, and `\\w{5}` matches exactly 5 alphanumeric characters. The `findall()` function returns all the matching words found in the `text` string."
   ]
  },
  {
   "cell_type": "markdown",
   "id": "b7a3d161-b2bb-4bd9-b759-9c87271b8987",
   "metadata": {},
   "source": [
    "### Text Manipulation and Formatting\n",
    "\n",
    "- Regular expressions can be used to manipulate and format text data by replacing or rearranging specific patterns.\n",
    "- This is useful for tasks such as data cleaning, formatting, or generating new text based on specific rules.\n",
    "- Here's an example of replacing specific words in a text using regular expressions:"
   ]
  },
  {
   "cell_type": "code",
   "execution_count": 82,
   "id": "680ceeaa-c660-4049-8f86-923688284514",
   "metadata": {},
   "outputs": [
    {
     "name": "stdout",
     "output_type": "stream",
     "text": [
      "The dog chased the mouse not the notcat\n"
     ]
    }
   ],
   "source": [
    "import re\n",
    "\n",
    "# Example: Replacing words\n",
    "text = \"The cat chased the mouse not the notcat\"\n",
    "pattern = r\"\\bcat\\b\"\n",
    "replacement = \"dog\"\n",
    "new_text = re.sub(pattern, replacement, text)\n",
    "print(new_text) # Output: \"The dog chased the mouse\""
   ]
  },
  {
   "cell_type": "markdown",
   "id": "5081062f-a7f2-4608-9b71-44a3ebc7b7ef",
   "metadata": {},
   "source": [
    "## 8: Regular Expressions Best Practices"
   ]
  },
  {
   "cell_type": "markdown",
   "id": "799a2054-35f0-4e09-9d5d-84ef7303f337",
   "metadata": {},
   "source": [
    "### Keeping Regular Expressions Simple\n",
    "\n",
    "Here are some best practices for keeping regular expressions simple:\n",
    "\n",
    "- Use **clear and descriptive** pattern names or comments to explain the purpose of the regular expression.\n",
    "- **Break down complex patterns** into smaller, more manageable parts. This improves readability and makes it easier to debug.\n",
    "- **Avoid unnecessary complexity** by using simpler alternatives when they achieve the same result.\n",
    "- **Don't overuse metacharacters** or complex features if they are not required."
   ]
  },
  {
   "cell_type": "markdown",
   "id": "ce22f880-e6ce-406f-8b05-b7f7b44b93ff",
   "metadata": {},
   "source": [
    "### Testing and Debugging Regular Expressions\n",
    "\n",
    "Here are some tips for testing and debugging regular expressions:\n",
    "\n",
    "- Test your regular expressions with various input samples, including both expected matches and non-matches.\n",
    "- Use online regex testers or regex debugging tools to visualize and validate your regular expressions.\n",
    "- Make use of the debugging capabilities provided by regex libraries or programming environments.\n",
    "- Pay attention to edge cases and special scenarios to ensure your regular expression handles them correctly."
   ]
  },
  {
   "cell_type": "markdown",
   "id": "832ab180-e5c4-42ff-9470-b591b59c216b",
   "metadata": {},
   "source": [
    "### Handling Edge Cases and Special Characters\n",
    "\n",
    "Consider the following best practices for handling edge cases and special characters:\n",
    "\n",
    "- Escape special characters with a backslash (`\\`) when you want to match them literally in the text.\n",
    "- Be aware of characters with special meanings, such as `.`, `*`, `+`, `?`, `{}`, `()`, `[]`, `\\`, `^`, `$`, `|`, and `\\b`. Use appropriate escaping or character classes when needed.\n",
    "- Consider different scenarios, such as empty strings, whitespace, or input containing line breaks, and ensure your regular expression handles them correctly.\n",
    "- Use character classes or predefined character sets (e.g., `\\w`, `\\d`, `\\s`) to match specific types of characters, rather than listing individual characters."
   ]
  },
  {
   "cell_type": "markdown",
   "id": "bdba2c59-5e5c-4228-988b-ac09f4b5b546",
   "metadata": {},
   "source": [
    "### Optimizing Regular Expressions for Performance\n",
    "\n",
    "\n",
    "- Use the most efficient quantifiers for repetition. Prefer non-greedy quantifiers (`*?`, `+?`, `??`, `{n,m}?`) when possible.\n",
    "- Be mindful of the order and arrangement of alternations (`|`) within your patterns, as it can impact performance.\n",
    "- Take advantage of character classes and predefined character sets to match specific types of characters efficiently.\n",
    "- Utilize compiled regular expressions when performing repeated matching operations, as they can offer better performance by caching the compiled pattern.\n"
   ]
  },
  {
   "cell_type": "markdown",
   "id": "f68c30fd-e99a-42c3-ac46-73781b79adca",
   "metadata": {},
   "source": [
    "### Excercises"
   ]
  },
  {
   "cell_type": "markdown",
   "id": "c61d15d3-bbcd-488f-87fc-8caf8c5db77c",
   "metadata": {},
   "source": [
    "- `Easy`: Match a valid email address pattern.\n",
    "\n",
    "- `Easy`: Match a string containing only alphabetic characters (both uppercase and lowercase)."
   ]
  },
  {
   "cell_type": "markdown",
   "id": "f3290294-17a7-46ce-aaa7-b6185a9b01a8",
   "metadata": {},
   "source": [
    "- `Easy`: Match a string consisting of digits only."
   ]
  },
  {
   "cell_type": "code",
   "execution_count": 107,
   "id": "5a5ac223-22ea-4b5f-9d5d-1f8478145233",
   "metadata": {},
   "outputs": [
    {
     "name": "stdout",
     "output_type": "stream",
     "text": [
      "['99129']\n"
     ]
    }
   ],
   "source": [
    "import re\n",
    "\n",
    "pattern = \"^\\d+$\"\n",
    "text = \"99129\"\n",
    "result = re.findall(pattern,text)\n",
    "\n",
    "print(result)"
   ]
  },
  {
   "cell_type": "markdown",
   "id": "496fa278-1400-4a00-88d3-335b2ca0a67b",
   "metadata": {},
   "source": [
    "- `Moderate`: Match a string that starts with a capital letter followed by lowercase letters.\n",
    "- `Moderate`: Match a string containing a specific word surrounded by word boundaries."
   ]
  },
  {
   "cell_type": "markdown",
   "id": "abb2121b-0742-4791-a4f8-a16abbed3506",
   "metadata": {},
   "source": [
    "- `Moderate`: Match a string that represents a valid URL (starting with \"http://\" or \"https://\")."
   ]
  },
  {
   "cell_type": "code",
   "execution_count": 106,
   "id": "43e0a05b-862d-4895-9249-044344d05717",
   "metadata": {},
   "outputs": [
    {
     "name": "stdout",
     "output_type": "stream",
     "text": [
      "[]\n"
     ]
    }
   ],
   "source": [
    "import re\n",
    "\n",
    "pattern = \"http://\"\n",
    "text = \"^(http|https)://\\S+$\"\n",
    "result = re.findall(pattern,text)\n",
    "\n",
    "print(result)"
   ]
  },
  {
   "cell_type": "markdown",
   "id": "83702fe9-59d3-4970-bae3-e4751ca1484e",
   "metadata": {},
   "source": [
    "- `Hard`: Match a string representing a valid IPv4 address (e.g., \"192.168.0.1\").\n",
    "- `Hard`: Match a string that represents a valid date in the format \"YYYY-MM-DD\".\n",
    "- `Hard`: Match a string that represents a valid phone number in a specific format (e.g., \"(123) 456-7890\").\n",
    "- `Hard`: Match a string that represents a valid credit card number (Visa, Mastercard, or American Express)."
   ]
  }
 ],
 "metadata": {
  "kernelspec": {
   "display_name": "Python 3 (ipykernel)",
   "language": "python",
   "name": "python3"
  },
  "language_info": {
   "codemirror_mode": {
    "name": "ipython",
    "version": 3
   },
   "file_extension": ".py",
   "mimetype": "text/x-python",
   "name": "python",
   "nbconvert_exporter": "python",
   "pygments_lexer": "ipython3",
   "version": "3.9.7"
  }
 },
 "nbformat": 4,
 "nbformat_minor": 5
}
