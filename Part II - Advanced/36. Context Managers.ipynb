{
 "cells": [
  {
   "attachments": {},
   "cell_type": "markdown",
   "id": "635e4c23-9de2-4a49-9220-6e942804d255",
   "metadata": {},
   "source": [
    "\n",
    "## Introduction to Context Managers:\n"
   ]
  },
  {
   "attachments": {},
   "cell_type": "markdown",
   "id": "111f9f9b",
   "metadata": {},
   "source": [
    "- Context managers in Python provide a convenient and reliable way to manage resources, such as files, network connections, locks, or any object that needs to be set up and cleaned up properly.\n",
    "\n",
    "- Context managers ensure that resources are acquired before a block of code is executed and released afterwards, even in the presence of exceptions or early returns.\n",
    "\n",
    "- The `with` statement is used to invoke a context manager, providing a clear and concise syntax for resource management.\n",
    "- Context managers can be implemented using classes or functions, by defining the `__enter__` and `__exit__` methods for classes or using the `@contextmanager` decorator for functions.\n",
    "- The `__enter__` method sets up the resource and returns it, while the `__exit__` method handles any necessary cleanup operations.\n",
    "- Context managers can also be used with the `contextlib` module, which provides decorators and utilities for creating lightweight context managers.\n",
    "- Context managers can be nested, allowing for the management of multiple resources in a hierarchical manner.\n",
    "- Context managers are especially useful when dealing with limited resources or when the cleanup process is critical for maintaining system integrity.\n"
   ]
  },
  {
   "attachments": {},
   "cell_type": "markdown",
   "id": "c94fc8f9",
   "metadata": {},
   "source": [
    "\n",
    "Key Points:\n",
    "- Context managers ensure proper acquisition and release of resources, improving code reliability and maintainability.\n",
    "\n",
    "- The `with` statement provides a clean and readable syntax for using context managers.\n",
    "- Context managers can be implemented using classes, functions, or the `contextlib` module.\n",
    "- The `__enter__` method sets up the resource and the `__exit__` method handles cleanup.\n",
    "- Context managers are particularly useful for managing file I/O, network connections, locks, transactions, and resource-intensive operations.\n",
    "- Nested context managers allow for managing multiple resources in a structured manner.\n",
    "- Context managers are vital for handling exceptions and guaranteeing proper resource cleanup in both successful and error scenarios.\n",
    "- Python provides a robust ecosystem with built-in context managers and numerous third-party libraries offering specialized context managers for various use cases.\n"
   ]
  },
  {
   "attachments": {},
   "cell_type": "markdown",
   "id": "8979183c-b22c-4b50-80eb-c1339b42c05f",
   "metadata": {},
   "source": [
    "### 1. Opening and closing a file using a context manager.\n"
   ]
  },
  {
   "cell_type": "code",
   "execution_count": 3,
   "id": "375a4d2d",
   "metadata": {},
   "outputs": [
    {
     "name": "stdout",
     "output_type": "stream",
     "text": [
      "sample file content to test context topics\n"
     ]
    }
   ],
   "source": [
    "with open(\"__FILES/file.txt\", \"r\") as file:\n",
    "    contents = file.read()\n",
    "    print(contents)\n"
   ]
  },
  {
   "attachments": {},
   "cell_type": "markdown",
   "id": "75ed6578",
   "metadata": {},
   "source": [
    "\n",
    "### 2. Creating a custom context manager using a class.\n"
   ]
  },
  {
   "cell_type": "code",
   "execution_count": 4,
   "id": "8a718afe",
   "metadata": {},
   "outputs": [
    {
     "name": "stdout",
     "output_type": "stream",
     "text": [
      "Entering the context\n",
      "Inside the context\n",
      "Exiting the context\n"
     ]
    }
   ],
   "source": [
    "class CustomContextManager:\n",
    "    def __enter__(self):\n",
    "        print(\"Entering the context\")\n",
    "    \n",
    "    def __exit__(self, exc_type, exc_val, exc_tb):\n",
    "        print(\"Exiting the context\")\n",
    "\n",
    "with CustomContextManager():\n",
    "    print(\"Inside the context\")\n"
   ]
  },
  {
   "attachments": {},
   "cell_type": "markdown",
   "id": "4072b1fc",
   "metadata": {},
   "source": [
    "\n",
    "3.Using the `contextlib` module to create a simple context manager using a function.\n"
   ]
  },
  {
   "cell_type": "code",
   "execution_count": 6,
   "id": "84936693",
   "metadata": {},
   "outputs": [
    {
     "name": "stdout",
     "output_type": "stream",
     "text": [
      "Entering the context\n",
      "Inside the context\n",
      "Exiting the context\n"
     ]
    }
   ],
   "source": [
    "from contextlib import contextmanager\n",
    "\n",
    "@contextmanager\n",
    "def simple_context_manager():\n",
    "    print(\"Entering the context\")\n",
    "    yield \n",
    "    print(\"Exiting the context\")\n",
    "\n",
    "with simple_context_manager():\n",
    "    print(\"Inside the context\")\n"
   ]
  },
  {
   "attachments": {},
   "cell_type": "markdown",
   "id": "049674d1",
   "metadata": {},
   "source": [
    "\n",
    "### 4. Handling exceptions within a context manager.\n"
   ]
  },
  {
   "cell_type": "code",
   "execution_count": 7,
   "id": "c3406b35",
   "metadata": {},
   "outputs": [
    {
     "name": "stdout",
     "output_type": "stream",
     "text": [
      "Exception occurred: <class 'ValueError'>, Something went wrong\n"
     ]
    }
   ],
   "source": [
    "class ExceptionHandler:\n",
    "    def __enter__(self):\n",
    "        pass\n",
    "    \n",
    "    def __exit__(self, exc_type, exc_val, exc_tb):\n",
    "        if exc_type:\n",
    "            print(f\"Exception occurred: {exc_type}, {exc_val}\")\n",
    "            return True\n",
    "\n",
    "with ExceptionHandler():\n",
    "    raise ValueError(\"Something went wrong\")\n"
   ]
  },
  {
   "attachments": {},
   "cell_type": "markdown",
   "id": "581408a7",
   "metadata": {},
   "source": [
    "\n",
    "## 5. Timing the execution of a block of code using a context manager.\n"
   ]
  },
  {
   "cell_type": "code",
   "execution_count": null,
   "id": "dab99052",
   "metadata": {},
   "outputs": [],
   "source": [
    "import time\n",
    "\n",
    "class Timer:\n",
    "    def __enter__(self):\n",
    "        self.start_time = time.time()\n",
    "    \n",
    "    def __exit__(self, exc_type, exc_val, exc_tb):\n",
    "        elapsed_time = time.time() - self.start_time\n",
    "        print(f\"Elapsed time: {elapsed_time} seconds\")\n",
    "\n",
    "with Timer():\n",
    "    time.sleep(2)\n"
   ]
  },
  {
   "attachments": {},
   "cell_type": "markdown",
   "id": "9b2d9eca",
   "metadata": {},
   "source": [
    "\n",
    "## 6. Redirecting the output to a file using a context manager.\n"
   ]
  },
  {
   "cell_type": "code",
   "execution_count": null,
   "id": "bc37e63a",
   "metadata": {},
   "outputs": [],
   "source": [
    "\n",
    "import sys\n",
    "\n",
    "class OutputRedirector:\n",
    "    def __init__(self, file):\n",
    "        self.file = file\n",
    "    \n",
    "    def __enter__(self):\n",
    "        self.stdout = sys.stdout\n",
    "        sys.stdout = self.file\n",
    "    \n",
    "    def __exit__(self, exc_type, exc_val, exc_tb):\n",
    "        sys.stdout = self.stdout\n",
    "\n",
    "with open(\"output.txt\", \"w\") as file, OutputRedirector(file):\n",
    "    print(\"Redirected output\")\n",
    "\n",
    "print(\"Original output\")\n"
   ]
  },
  {
   "attachments": {},
   "cell_type": "markdown",
   "id": "e9174a24",
   "metadata": {},
   "source": [
    "\n",
    "## 7. Using a context manager to establish and release a database connection.\n"
   ]
  },
  {
   "cell_type": "code",
   "execution_count": null,
   "id": "818e00ad",
   "metadata": {},
   "outputs": [],
   "source": [
    "import sqlite3\n",
    "\n",
    "class DatabaseConnection:\n",
    "    def __init__(self, db_name):\n",
    "        self.db_name = db_name\n",
    "        self.connection = None\n",
    "    \n",
    "    def __enter__(self):\n",
    "        self.connection = sqlite3.connect(self.db_name)\n",
    "        return self.connection\n",
    "    \n",
    "    def __exit__(self, exc_type, exc_val, exc_tb):\n",
    "        if self.connection:\n",
    "            self.connection.close()\n",
    "\n",
    "with DatabaseConnection(\"mydb.db\") as conn:\n",
    "    cursor = conn.cursor()\n",
    "    cursor.execute(\"SELECT * FROM users\")\n",
    "    rows = cursor.fetchall()\n",
    "    for row in rows:\n",
    "        print(row)\n"
   ]
  },
  {
   "attachments": {},
   "cell_type": "markdown",
   "id": "1e6545af",
   "metadata": {},
   "source": [
    "\n",
    "## 8. Using a context manager to acquire and release a lock.\n"
   ]
  },
  {
   "cell_type": "code",
   "execution_count": null,
   "id": "79cb86cc",
   "metadata": {},
   "outputs": [],
   "source": [
    "import threading\n",
    "\n",
    "class LockAcquirer:\n",
    "    def __init__(self, lock):\n",
    "        self.lock = lock\n",
    "    \n",
    "    def __enter__(self):\n",
    "        self.lock.acquire()\n",
    "    \n",
    "    def __exit__(self, exc_type, exc_val, exc_tb):\n",
    "        self.lock.release()\n",
    "\n",
    "lock = threading.Lock()\n",
    "\n",
    "with LockAcquirer(lock):\n",
    "    # Critical section protected by the lock\n",
    "    print(\"Acquired the lock\")\n"
   ]
  },
  {
   "attachments": {},
   "cell_type": "markdown",
   "id": "76d15ba0",
   "metadata": {},
   "source": [
    "\n",
    "## 9. Using a context manager to change the current working directory temporarily.\n"
   ]
  },
  {
   "cell_type": "code",
   "execution_count": null,
   "id": "a8573c88",
   "metadata": {},
   "outputs": [],
   "source": [
    "import os\n",
    "\n",
    "class ChangeDirectory:\n",
    "    def __init__(self, new_dir):\n",
    "        self.new_dir = new_dir\n",
    "        self.old_dir = None\n",
    "    \n",
    "    def __enter__(self):\n",
    "        self.old_dir = os.getcwd()\n",
    "        os.chdir(self.new_dir)\n",
    "    \n",
    "    def __exit__(self, exc_type, exc_val, exc_tb):\n",
    "        os.chdir(self.old_dir)\n",
    "\n",
    "with ChangeDirectory(\"/path/to/new/directory\"):\n",
    "    print(\"Current directory:\", os.getcwd())\n"
   ]
  },
  {
   "attachments": {},
   "cell_type": "markdown",
   "id": "79f1916a",
   "metadata": {},
   "source": [
    "\n",
    "## 10. Using a context manager to connect to a remote server and close the connection automatically.\n"
   ]
  },
  {
   "cell_type": "code",
   "execution_count": null,
   "id": "a3028c07",
   "metadata": {},
   "outputs": [],
   "source": [
    "import paramiko\n",
    "\n",
    "class SSHConnection:\n",
    "    def __init__(self, hostname, username, password):\n",
    "        self.hostname = hostname\n",
    "        self.username = username\n",
    "        self.password = password\n",
    "        self.client = None\n",
    "    \n",
    "    def __enter__(self):\n",
    "        self.client = paramiko.SSHClient()\n",
    "        self.client.set_missing_host_key_policy(paramiko.AutoAddPolicy())\n",
    "        self.client.connect(self.hostname, username=self.username, password=self.password)\n",
    "        return self.client\n",
    "    \n",
    "    def __exit__(self, exc_type, exc_val, exc_tb):\n",
    "        if self.client:\n",
    "            self.client.close()\n",
    "\n",
    "with SSHConnection(\"example.com\", \"username\", \"password\") as ssh:\n",
    "    stdin, stdout, stderr = ssh.exec_command(\"ls\")\n",
    "    print(stdout.read().decode())\n"
   ]
  },
  {
   "attachments": {},
   "cell_type": "markdown",
   "id": "adf6167c",
   "metadata": {},
   "source": [
    "\n",
    "## 11. Using a context manager to start and stop a timer for a specific task.\n"
   ]
  },
  {
   "cell_type": "code",
   "execution_count": null,
   "id": "28eedc3b",
   "metadata": {},
   "outputs": [],
   "source": [
    "import time\n",
    "\n",
    "class TaskTimer:\n",
    "    def __init__(self, task_name):\n",
    "        self.task_name = task_name\n",
    "        self.start_time = None\n",
    "    \n",
    "    def __enter__(self):\n",
    "        self.start_time = time.time()\n",
    "    \n",
    "    def __exit__(self, exc_type, exc_val, exc_tb):\n",
    "        elapsed_time = time.time() - self.start_time\n",
    "        print(f\"Task '{self.task_name}' took {elapsed_time} seconds\")\n",
    "\n",
    "with TaskTimer(\"Data processing\"):\n",
    "    time.sleep(3)\n"
   ]
  },
  {
   "attachments": {},
   "cell_type": "markdown",
   "id": "da059b53",
   "metadata": {},
   "source": [
    "\n",
    "## 12. Using a context manager to temporarily modify a global variable.\n"
   ]
  },
  {
   "cell_type": "code",
   "execution_count": null,
   "id": "5bffcc3c",
   "metadata": {},
   "outputs": [],
   "source": [
    "global_var = 10\n",
    "\n",
    "class TemporarilyModifyGlobalVar:\n",
    "    def __enter__(self):\n",
    "        global global_var\n",
    "        self.original_value = global_var\n",
    "        global_var = 20\n",
    "    \n",
    "    def __exit__(self, exc_type, exc_val, exc_tb):\n",
    "        global global_var\n",
    "        global_var = self.original_value\n",
    "\n",
    "print(\"Before:\", global_var)\n",
    "with TemporarilyModifyGlobalVar():\n",
    "    print(\"Inside:\", global_var)\n",
    "print(\"After:\", global_var)\n"
   ]
  },
  {
   "attachments": {},
   "cell_type": "markdown",
   "id": "7af40397",
   "metadata": {},
   "source": [
    "\n",
    "## 13. Using a context manager to manage a database transaction.\n"
   ]
  },
  {
   "cell_type": "code",
   "execution_count": null,
   "id": "5279e964",
   "metadata": {},
   "outputs": [],
   "source": [
    "import sqlite3\n",
    "\n",
    "class Transaction:\n",
    "    def __init__(self, db_name):\n",
    "        self.db_name = db_name\n",
    "        self.connection = None\n",
    "    \n",
    "    def __enter__(self):\n",
    "        self.connection = sqlite3.connect(self.db_name)\n",
    "        self.connection.execute(\"BEGIN\")\n",
    "    \n",
    "    def __exit__(self, exc_type, exc_val, exc_tb):\n",
    "        if exc_type:\n",
    "            self.connection.execute(\"ROLLBACK\")\n",
    "        else:\n",
    "            self.connection.execute(\"COMMIT\")\n",
    "        self.connection.close()\n",
    "\n",
    "with Transaction(\"mydb.db\"):\n",
    "    connection.execute(\"UPDATE users SET name = 'Alice' WHERE id = 1\")\n"
   ]
  },
  {
   "attachments": {},
   "cell_type": "markdown",
   "id": "d1e14c2b",
   "metadata": {},
   "source": [
    "\n",
    "## 14. Using a context manager to disable and restore a specific feature temporarily.\n"
   ]
  },
  {
   "cell_type": "code",
   "execution_count": null,
   "id": "9acb1c17",
   "metadata": {},
   "outputs": [],
   "source": [
    "import warnings\n",
    "\n",
    "class DisableWarning:\n",
    "    def __enter__(self):\n",
    "        self.original_state = warnings.catch_warnings()\n",
    "        warnings.simplefilter(\"ignore\")\n",
    "    \n",
    "    def __exit__(self, exc_type, exc_val,\n",
    "\n",
    " exc_tb):\n",
    "        warnings.filters = self.original_state.filters\n",
    "\n",
    "with DisableWarning():\n",
    "    # Code that generates a warning\n",
    "    pass\n"
   ]
  },
  {
   "attachments": {},
   "cell_type": "markdown",
   "id": "b27ef41c",
   "metadata": {},
   "source": [
    "\n",
    "## 15. Using a context manager to manage a database transaction with a rollback on exceptions.\n"
   ]
  },
  {
   "cell_type": "code",
   "execution_count": null,
   "id": "3660ec4a",
   "metadata": {},
   "outputs": [],
   "source": [
    "import sqlite3\n",
    "\n",
    "class Transaction:\n",
    "    def __init__(self, db_name):\n",
    "        self.db_name = db_name\n",
    "        self.connection = None\n",
    "    \n",
    "    def __enter__(self):\n",
    "        self.connection = sqlite3.connect(self.db_name)\n",
    "        self.connection.execute(\"BEGIN\")\n",
    "    \n",
    "    def __exit__(self, exc_type, exc_val, exc_tb):\n",
    "        if exc_type:\n",
    "            self.connection.execute(\"ROLLBACK\")\n",
    "        else:\n",
    "            self.connection.execute(\"COMMIT\")\n",
    "        self.connection.close()\n",
    "\n",
    "with Transaction(\"mydb.db\"):\n",
    "    try:\n",
    "        # Code that may raise an exception\n",
    "        pass\n",
    "    except Exception:\n",
    "        # Exception handling\n",
    "        pass\n"
   ]
  },
  {
   "attachments": {},
   "cell_type": "markdown",
   "id": "7e458fb1",
   "metadata": {},
   "source": [
    "\n",
    "## 16. Using a context manager to ensure the release of resources, such as closing a network connection.\n"
   ]
  },
  {
   "cell_type": "code",
   "execution_count": null,
   "id": "fa965b86",
   "metadata": {},
   "outputs": [],
   "source": [
    "import socket\n",
    "\n",
    "class NetworkConnection:\n",
    "    def __init__(self, host, port):\n",
    "        self.host = host\n",
    "        self.port = port\n",
    "        self.socket = None\n",
    "    \n",
    "    def __enter__(self):\n",
    "        self.socket = socket.socket(socket.AF_INET, socket.SOCK_STREAM)\n",
    "        self.socket.connect((self.host, self.port))\n",
    "        return self.socket\n",
    "    \n",
    "    def __exit__(self, exc_type, exc_val, exc_tb):\n",
    "        if self.socket:\n",
    "            self.socket.close()\n",
    "\n",
    "with NetworkConnection(\"example.com\", 80) as conn:\n",
    "    conn.send(b\"GET / HTTP/1.1\\r\\nHost: example.com\\r\\n\\r\\n\")\n",
    "    response = conn.recv(1024)\n",
    "    print(response.decode())\n"
   ]
  },
  {
   "attachments": {},
   "cell_type": "markdown",
   "id": "8bc9dbd9",
   "metadata": {},
   "source": [
    "\n",
    "## 17. Using a context manager to ensure the acquisition and release of a lock in a multi-threaded environment.\n"
   ]
  },
  {
   "cell_type": "code",
   "execution_count": null,
   "id": "c12cfe66",
   "metadata": {},
   "outputs": [],
   "source": [
    "import threading\n",
    "\n",
    "class LockAcquirer:\n",
    "    def __init__(self, lock):\n",
    "        self.lock = lock\n",
    "    \n",
    "    def __enter__(self):\n",
    "        self.lock.acquire()\n",
    "    \n",
    "    def __exit__(self, exc_type, exc_val, exc_tb):\n",
    "        self.lock.release()\n",
    "\n",
    "lock = threading.Lock()\n",
    "\n",
    "with LockAcquirer(lock):\n",
    "    # Critical section protected by the lock\n",
    "    print(\"Acquired the lock\")"
   ]
  },
  {
   "attachments": {},
   "cell_type": "markdown",
   "id": "bd5df375",
   "metadata": {},
   "source": [
    "\n",
    "## 18. Using a context manager to change the behavior of a specific section of code temporarily.\n"
   ]
  },
  {
   "cell_type": "code",
   "execution_count": null,
   "id": "43a28f08",
   "metadata": {},
   "outputs": [],
   "source": [
    "import sys\n",
    "\n",
    "class ModifyBehavior:\n",
    "    def __init__(self):\n",
    "        self.original_behavior = None\n",
    "    \n",
    "    def __enter__(self):\n",
    "        self.original_behavior = sys.gettrace()\n",
    "        sys.settrace(self.custom_behavior)\n",
    "    \n",
    "    def __exit__(self, exc_type, exc_val, exc_tb):\n",
    "        sys.settrace(self.original_behavior)\n",
    "    \n",
    "    def custom_behavior(self, frame, event, arg):\n",
    "        # Custom behavior\n",
    "        pass\n",
    "\n",
    "with ModifyBehavior():\n",
    "    # Code to be executed with modified behavior\n",
    "    pass\n"
   ]
  },
  {
   "attachments": {},
   "cell_type": "markdown",
   "id": "6080e26d",
   "metadata": {},
   "source": [
    "\n",
    "## 19. Using a context manager to manage a connection pool for a database.\n"
   ]
  },
  {
   "cell_type": "code",
   "execution_count": null,
   "id": "7a01c29d",
   "metadata": {},
   "outputs": [],
   "source": [
    "import psycopg2\n",
    "from psycopg2 import pool\n",
    "\n",
    "class ConnectionPool:\n",
    "    def __init__(self, minconn, maxconn, **kwargs):\n",
    "        self.connection_pool = psycopg2.pool.SimpleConnectionPool(minconn, maxconn, **kwargs)\n",
    "    \n",
    "    def __enter__(self):\n",
    "        self.connection = self.connection_pool.getconn()\n",
    "        return self.connection\n",
    "    \n",
    "    def __exit__(self, exc_type, exc_val, exc_tb):\n",
    "        if self.connection:\n",
    "            self.connection_pool.putconn(self.connection)\n",
    "\n",
    "with ConnectionPool(1, 5, host=\"localhost\", user=\"user\", password=\"password\", database=\"\n",
    "\n",
    "mydb\") as conn:\n",
    "    cursor = conn.cursor()\n",
    "    cursor.execute(\"SELECT * FROM users\")\n",
    "    rows = cursor.fetchall()\n",
    "    for row in rows:\n",
    "        print(row)\n"
   ]
  },
  {
   "attachments": {},
   "cell_type": "markdown",
   "id": "14089d16",
   "metadata": {},
   "source": [
    "\n",
    "## 20. Using a context manager to ensure a clean environment setup and teardown for testing purposes.\n"
   ]
  },
  {
   "cell_type": "code",
   "execution_count": null,
   "id": "f5d8abf7",
   "metadata": {},
   "outputs": [],
   "source": [
    "class TestEnvironment:\n",
    "    def __enter__(self):\n",
    "        # Set up the test environment\n",
    "        pass\n",
    "    \n",
    "    def __exit__(self, exc_type, exc_val, exc_tb):\n",
    "        # Teardown the test environment\n",
    "        pass\n",
    "\n",
    "with TestEnvironment():\n",
    "    # Test code using the clean environment\n",
    "    pass"
   ]
  }
 ],
 "metadata": {
  "kernelspec": {
   "display_name": "Python 3 (ipykernel)",
   "language": "python",
   "name": "python3"
  },
  "language_info": {
   "codemirror_mode": {
    "name": "ipython",
    "version": 3
   },
   "file_extension": ".py",
   "mimetype": "text/x-python",
   "name": "python",
   "nbconvert_exporter": "python",
   "pygments_lexer": "ipython3",
   "version": "3.9.13"
  }
 },
 "nbformat": 4,
 "nbformat_minor": 5
}
