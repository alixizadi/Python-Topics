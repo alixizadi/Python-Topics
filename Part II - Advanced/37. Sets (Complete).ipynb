{
 "cells": [
  {
   "cell_type": "markdown",
   "id": "ed15bbce-6661-497e-8fbf-50eed8cb7ba7",
   "metadata": {
    "tags": []
   },
   "source": [
    "## 1: Introduction to Sets"
   ]
  },
  {
   "cell_type": "markdown",
   "id": "cea85256-cd07-406a-8eb9-2b360b4e4d21",
   "metadata": {},
   "source": [
    "\n",
    "### What are Sets?\n",
    "- Sets are unordered collections of unique elements.\n",
    "- Unlike lists or tuples, sets **do not maintain any specific order** for their elements.\n",
    "- The primary characteristic of a set is that it **does not allow duplicate values**.\n",
    "- This property makes sets useful in scenarios where you need to store and manipulate a collection of distinct elements.\n",
    "\n",
    "### Set Properties and Characteristics\n",
    "- Sets are **mutable**, which means you can add, remove, and modify elements in a set.\n",
    "- Sets are **unordered**, so the elements are not indexed or stored in any particular order.\n",
    "- Sets can only contain **hashable elements**. In other words, the elements of a set must be immutable types like numbers, strings, or tuples (as long as they contain only immutable elements).\n",
    "\n",
    "### Set Operations and Manipulations\n",
    "\n",
    "- Adding elements to a set using the `add()` method or the union operator (`|`).\n",
    "- Removing elements from a set using the `remove()` or `discard()` methods.\n",
    "- Performing set operations such as union, intersection, difference, and symmetric difference.\n",
    "- Checking for membership using the `in` keyword.\n",
    "- Iterating over the elements of a set using loops or comprehensions.\n"
   ]
  },
  {
   "cell_type": "markdown",
   "id": "e75aee49-3955-430e-a90f-64c6bb48528e",
   "metadata": {
    "tags": []
   },
   "source": [
    "## 2: Creating Sets"
   ]
  },
  {
   "cell_type": "markdown",
   "id": "6198f540-8c4c-4c54-8998-74f64f154fb8",
   "metadata": {},
   "source": [
    "### Creating Sets using Set Literals\n",
    "- The simplest way to create a set is by using set literals. Set literals are defined by enclosing comma-separated elements within curly braces `{}`.\n",
    "- Each element in a set is unique, so duplicate elements will be automatically removed."
   ]
  },
  {
   "cell_type": "code",
   "execution_count": 41,
   "id": "97cad432-11f8-4cce-9684-703d61f2dda9",
   "metadata": {},
   "outputs": [
    {
     "name": "stdout",
     "output_type": "stream",
     "text": [
      "{'apple', 'banana', 'orange'}\n"
     ]
    }
   ],
   "source": [
    "# Creating a set using set literals\n",
    "fruits = {\"apple\", \"banana\", \"orange\"}\n",
    "print(fruits)"
   ]
  },
  {
   "cell_type": "markdown",
   "id": "a82024ea-cea9-4c79-90ae-c55a99cacb4d",
   "metadata": {},
   "source": [
    "### Creating Sets from Iterables\n",
    "- You can also create a set by passing an iterable (such as a list or a tuple) to the `set()` constructor.\n",
    "- The constructor will create a new set containing the unique elements from the iterable."
   ]
  },
  {
   "cell_type": "code",
   "execution_count": 42,
   "id": "ee3144b4-c771-4627-a8a8-42e99ac0947a",
   "metadata": {},
   "outputs": [
    {
     "name": "stdout",
     "output_type": "stream",
     "text": [
      "{1, 2, 3, 4, 5}\n",
      "{'blue', 'red', 'green'}\n"
     ]
    }
   ],
   "source": [
    "# Creating a set from a list\n",
    "numbers = set([1, 2, 3, 4, 5])\n",
    "print(numbers)\n",
    "\n",
    "\n",
    "# Creating a set from a tuple\n",
    "colors = set((\"red\", \"green\", \"blue\"))\n",
    "print(colors)"
   ]
  },
  {
   "cell_type": "markdown",
   "id": "fa41aa07-31ce-4e5c-8243-91311b56d961",
   "metadata": {},
   "source": [
    "### Creating Empty Sets\n",
    "- To create an empty set, you can use either the `set()` constructor or an empty set literal `{}`.\n",
    "- It's important to note that using empty curly braces `{}` will create an empty dictionary, not an empty set.\n",
    "- To create an empty set using set literals, you need to use the `set()` constructor."
   ]
  },
  {
   "cell_type": "code",
   "execution_count": 43,
   "id": "84592cea-8637-410d-9830-d0207167d9b3",
   "metadata": {},
   "outputs": [
    {
     "name": "stdout",
     "output_type": "stream",
     "text": [
      "<class 'set'>\n",
      "<class 'dict'>\n"
     ]
    }
   ],
   "source": [
    "# Creating an empty set using the set() constructor\n",
    "empty_set = set()\n",
    "\n",
    "# Creating an empty set using set literals\n",
    "empty_set = set({})\n",
    "\n",
    "\n",
    "print(type(set())) #set\n",
    "print(type({})) #dictionary"
   ]
  },
  {
   "cell_type": "markdown",
   "id": "00b3e11c-ebc2-4b95-bc41-21a300e52a89",
   "metadata": {
    "tags": []
   },
   "source": [
    "## 3: Set Operations"
   ]
  },
  {
   "cell_type": "markdown",
   "id": "0cef2c8a-ab78-4a3d-a5c0-d537e3b88d99",
   "metadata": {},
   "source": [
    "### Adding Elements to a Set\n",
    "- You can add elements to a set using the `add()` method.\n",
    "- The `add()` method takes an element as an argument and adds it to the set.\n",
    "- If the element already exists in the set, it will not be added again, as sets only allow unique elements."
   ]
  },
  {
   "cell_type": "code",
   "execution_count": 44,
   "id": "01bda139-753f-466d-b7cb-338f1bb8a351",
   "metadata": {},
   "outputs": [
    {
     "name": "stdout",
     "output_type": "stream",
     "text": [
      "{'apple', 'banana', 'orange'}\n"
     ]
    }
   ],
   "source": [
    "fruits = {\"apple\", \"banana\"}\n",
    "fruits.add(\"orange\")  # Add a new element\n",
    "fruits.add(\"banana\")  # Duplicate Value\n",
    "print(fruits)"
   ]
  },
  {
   "cell_type": "markdown",
   "id": "eabe0d96-a2b1-45e4-92e3-04b95e76d093",
   "metadata": {},
   "source": [
    "### Removing Elements from a Set\n",
    "- To remove an element from a set, you can use the `remove()` method.\n",
    "- The `remove()` method takes an element as an argument and removes it from the set.\n",
    "- If the element does not exist in the set, a `KeyError` will be raised.\n",
    "- Alternatively, you can use the `discard()` method, which also removes an element from the set but does not raise an error if the element is not found."
   ]
  },
  {
   "cell_type": "code",
   "execution_count": 45,
   "id": "62db34af-0ac5-4cc6-822e-f293305d4cde",
   "metadata": {},
   "outputs": [],
   "source": [
    "fruits = {\"apple\", \"banana\", \"orange\"}\n",
    "fruits.remove(\"banana\")  # Remove an element\n",
    "fruits.discard(\"watermelon\")  # Remove an element (no error if not found)\n",
    "# fruits.remove('watermelon') # KeyError: 'watermelon'"
   ]
  },
  {
   "cell_type": "markdown",
   "id": "5174ab5e-0ae5-4927-9e0a-b76c979a4ac7",
   "metadata": {},
   "source": [
    "### Checking Membership in a Set\n",
    "- You can check if an element is present in a set using the `in` keyword.\n",
    "- It returns `True` if the element exists in the set and `False` otherwise."
   ]
  },
  {
   "cell_type": "code",
   "execution_count": 46,
   "id": "02b88319-0d15-4e2d-b280-644592f489c7",
   "metadata": {},
   "outputs": [
    {
     "name": "stdout",
     "output_type": "stream",
     "text": [
      "True\n",
      "False\n"
     ]
    }
   ],
   "source": [
    "fruits = {\"apple\", \"banana\", \"orange\"}\n",
    "print(\"banana\" in fruits)  # True\n",
    "print(\"watermelon\" in fruits)  # False"
   ]
  },
  {
   "cell_type": "markdown",
   "id": "eafc5984-38cc-4fca-abdd-e550180a7339",
   "metadata": {},
   "source": [
    "### Set Union and Intersection\n",
    "- Set union combines two sets and returns a new set that contains all the unique elements from both sets.\n",
    "- The `union()` method or the `|` operator can be used for this operation.\n",
    "- Set intersection, on the other hand, returns a new set that contains the common elements between two sets.\n",
    "- The `intersection()` method or the `&` operator can be used for this operation."
   ]
  },
  {
   "cell_type": "code",
   "execution_count": 47,
   "id": "53e0604c-aca4-4150-880c-93e8bb5cf027",
   "metadata": {},
   "outputs": [],
   "source": [
    "set1 = {1, 2, 3}\n",
    "set2 = {3, 4, 5}\n",
    "\n",
    "union_set = set1.union(set2)  # or set1 | set2\n",
    "intersection_set = set1.intersection(set2)  # or set1 & set2"
   ]
  },
  {
   "cell_type": "markdown",
   "id": "f264120c-79de-45d0-8922-fa2b4e790a36",
   "metadata": {},
   "source": [
    "### Set Difference and Symmetric Difference\n",
    "- Set difference returns a new set that contains the elements from one set but not the other.\n",
    "- The `difference()` method or the `-` operator can be used for this operation.\n",
    "- Symmetric difference returns a new set that contains the elements that are in either of the sets but not in their intersection.\n",
    "- The `symmetric_difference()` method or the `^` operator can be used for this operation."
   ]
  },
  {
   "cell_type": "code",
   "execution_count": 48,
   "id": "a733dddb-8ab2-423f-b122-65ca0e4c409f",
   "metadata": {},
   "outputs": [],
   "source": [
    "set1 = {1, 2, 3}\n",
    "set2 = {3, 4, 5}\n",
    "\n",
    "difference_set = set1.difference(set2)  # or set1 - set2\n",
    "symmetric_difference_set = set1.symmetric_difference(set2)  # or set1 ^ set2\n"
   ]
  },
  {
   "cell_type": "markdown",
   "id": "06e3fe2a-1f7d-42c1-b005-87318569f9f9",
   "metadata": {
    "tags": []
   },
   "source": [
    "## 4: Modifying Sets"
   ]
  },
  {
   "cell_type": "markdown",
   "id": "88a10bfa-70c0-4fc4-8d36-ace7b01a43de",
   "metadata": {},
   "source": [
    "### Updating a Set with Another Set\n",
    "- To update a set with the elements of another set, you can use the `update()` method or the `|=` operator.\n",
    "- This operation adds all the elements from the second set to the first set, excluding any duplicates."
   ]
  },
  {
   "cell_type": "code",
   "execution_count": 49,
   "id": "af820db0-9d81-4720-ae6a-7d90ed883e11",
   "metadata": {},
   "outputs": [
    {
     "name": "stdout",
     "output_type": "stream",
     "text": [
      "{1, 2, 3, 4, 5}\n"
     ]
    }
   ],
   "source": [
    "set1 = {1, 2, 3}\n",
    "set2 = {3, 4, 5}\n",
    "\n",
    "set1.update(set2)  # or set1 |= set2\n",
    "print(set1)"
   ]
  },
  {
   "cell_type": "markdown",
   "id": "43fe19bc-64b6-4764-9cb6-efb019daaa15",
   "metadata": {},
   "source": [
    "### Removing Elements from a Set\n",
    "- To remove elements from a set, you can use the `remove()` method or the `discard()` method.\n",
    "- The `remove()` method removes the specified element from the set and raises a `KeyError` if the element does not exist.\n",
    "- The `discard()` method also removes the element, but it does not raise an error if the element is not found."
   ]
  },
  {
   "cell_type": "code",
   "execution_count": 50,
   "id": "575c48c0-bf15-4909-ae4e-0715448f3a81",
   "metadata": {},
   "outputs": [],
   "source": [
    "fruits = {\"apple\", \"banana\", \"orange\"}\n",
    "\n",
    "fruits.remove(\"banana\")  # Remove an element\n",
    "fruits.discard(\"watermelon\")  # Remove an element (no error if not found)"
   ]
  },
  {
   "cell_type": "markdown",
   "id": "2907ed03-4df0-4ebd-a833-19a1f75d0b38",
   "metadata": {},
   "source": [
    "#### Clearing a Set\n",
    "- To remove all elements from a set and make it empty, you can use the `clear()` method.\n",
    "- This method removes all elements from the set, leaving it with no elements."
   ]
  },
  {
   "cell_type": "code",
   "execution_count": 51,
   "id": "6a5d0ce0-5d82-438d-b844-8a04447e53ba",
   "metadata": {},
   "outputs": [
    {
     "name": "stdout",
     "output_type": "stream",
     "text": [
      "set()\n"
     ]
    }
   ],
   "source": [
    "fruits = {\"apple\", \"banana\", \"orange\"}\n",
    "fruits.clear()  # Clear the set\n",
    "print(fruits)"
   ]
  },
  {
   "cell_type": "markdown",
   "id": "ddcf46ce-6cc7-4f75-a947-ba01c37754a1",
   "metadata": {
    "tags": []
   },
   "source": [
    "## 5: Set Methods and Functions"
   ]
  },
  {
   "cell_type": "markdown",
   "id": "241aadc4-e202-4950-b6c4-5cd56ec30393",
   "metadata": {},
   "source": [
    "### Set Size and Cardinality\n",
    "To determine the size or cardinality of a set (i.e., the number of elements in a set), you can use the `len()` function."
   ]
  },
  {
   "cell_type": "code",
   "execution_count": 52,
   "id": "61236cf8-8ddc-4317-8e14-16fc506aad01",
   "metadata": {},
   "outputs": [
    {
     "name": "stdout",
     "output_type": "stream",
     "text": [
      "3\n"
     ]
    }
   ],
   "source": [
    "fruits = {\"apple\", \"banana\", \"orange\"}\n",
    "size = len(fruits)\n",
    "print(size)  # Output: 3"
   ]
  },
  {
   "cell_type": "markdown",
   "id": "bba77884-3d5f-403d-ba52-c604cdadd749",
   "metadata": {},
   "source": [
    "### Set Equality and Comparisons\n",
    "Sets can be compared for equality using the `==` operator. This operator checks whether two sets have the same elements, regardless of their order. If the sets are equal, it returns `True`; otherwise, it returns `False`."
   ]
  },
  {
   "cell_type": "code",
   "execution_count": 53,
   "id": "f248e173-f075-4d60-9bc1-ab6f21ae9e34",
   "metadata": {},
   "outputs": [
    {
     "name": "stdout",
     "output_type": "stream",
     "text": [
      "True\n"
     ]
    }
   ],
   "source": [
    "set1 = {1, 2, 3}\n",
    "set2 = {3, 2, 1}\n",
    "\n",
    "print(set1 == set2)  # Output: True"
   ]
  },
  {
   "cell_type": "markdown",
   "id": "5e7707b3-f4e0-4f43-b660-afeaa8713aee",
   "metadata": {},
   "source": [
    "### Set Iteration and Conversion\n",
    "Sets can be iterated over using loops, just like other iterable objects. You can use a `for` loop to iterate over the elements of a set."
   ]
  },
  {
   "cell_type": "code",
   "execution_count": 54,
   "id": "dd123f05-9d8a-4bd1-813d-b63dad309f84",
   "metadata": {},
   "outputs": [
    {
     "name": "stdout",
     "output_type": "stream",
     "text": [
      "apple\n",
      "banana\n",
      "orange\n",
      "['apple', 'banana', 'orange']\n",
      "('apple', 'banana', 'orange')\n",
      "{'apple', 'banana', 'orange'}\n"
     ]
    }
   ],
   "source": [
    "fruits = {\"apple\", \"banana\", \"orange\"}\n",
    "\n",
    "for fruit in fruits:\n",
    "    print(fruit)\n",
    "\n",
    "fruits = {\"apple\", \"banana\", \"orange\"}\n",
    "\n",
    "fruits_list = list(fruits)\n",
    "fruits_tuple = tuple(fruits)\n",
    "fruits_str = str(fruits)\n",
    "\n",
    "print(fruits_list)  # Output: ['apple', 'banana', 'orange']\n",
    "print(fruits_tuple)  # Output: ('apple', 'banana', 'orange')\n",
    "print(fruits_str)  # Output: {'banana', 'orange', 'apple'}"
   ]
  },
  {
   "cell_type": "markdown",
   "id": "5d8de54b-4367-4c33-a706-faed123eab07",
   "metadata": {},
   "source": [
    "#### Set Copying and Cloning\n",
    "To create a copy of a set, you can use the `copy()` method or simply assign the set to a new variable. Both methods create a new set with the same elements as the original set."
   ]
  },
  {
   "cell_type": "code",
   "execution_count": 55,
   "id": "3c8685ad-5e0b-4bce-820a-ca2497c39a6e",
   "metadata": {},
   "outputs": [],
   "source": [
    "fruits = {\"apple\", \"banana\", \"orange\"}\n",
    "\n",
    "fruits_copy = fruits.copy()  # Create a copy using the copy() method\n",
    "fruits_clone = fruits  # Create a copy by assigning the set to a new variable\n"
   ]
  },
  {
   "cell_type": "markdown",
   "id": "e1f7c324-4e0f-4441-8818-32067073919b",
   "metadata": {
    "tags": []
   },
   "source": [
    "## 6: Set Comprehensions"
   ]
  },
  {
   "cell_type": "markdown",
   "id": "70983ac8-baf1-4599-90c8-5765f5e15523",
   "metadata": {},
   "source": [
    "### Creating Sets using Comprehensions\n",
    "- Set comprehensions provide a compact syntax for creating sets based on an iterative operation or expression.\n",
    "- The basic syntax for set comprehensions is similar to list comprehensions, but with curly braces `{}` instead of square brackets `[]`."
   ]
  },
  {
   "cell_type": "code",
   "execution_count": 56,
   "id": "ad285984-ca19-4b90-a0fd-e702f104ab79",
   "metadata": {},
   "outputs": [
    {
     "name": "stdout",
     "output_type": "stream",
     "text": [
      "{1, 4, 9, 16, 25}\n"
     ]
    }
   ],
   "source": [
    "# Example 1: Creating a set of squares of numbers\n",
    "squares = {x**2 for x in range(1, 6)}\n",
    "print(squares)  # Output: {1, 4, 9, 16, 25}"
   ]
  },
  {
   "cell_type": "markdown",
   "id": "db2e4b60-1bfb-4b09-a5f0-f46ca4d9dee3",
   "metadata": {},
   "source": [
    "### Filtering Elements in Set Comprehensions\n",
    "- Set comprehensions can also include a conditional expression to filter elements based on certain conditions. \n",
    "- The conditional expression is placed after the iteration expression and is followed by the `if` keyword."
   ]
  },
  {
   "cell_type": "code",
   "execution_count": 57,
   "id": "162610c3-6568-4a41-9d47-f1df1fe55b79",
   "metadata": {},
   "outputs": [
    {
     "name": "stdout",
     "output_type": "stream",
     "text": [
      "{2, 4, 6, 8, 10}\n"
     ]
    }
   ],
   "source": [
    "# Example 2: Creating a set of even numbers\n",
    "even_numbers = {x for x in range(1, 11) if x % 2 == 0}\n",
    "print(even_numbers)  # Output: {2, 4, 6, 8, 10}"
   ]
  },
  {
   "cell_type": "markdown",
   "id": "debcf728-3c37-4626-8a00-46e2f0177c71",
   "metadata": {},
   "source": [
    "### Nested Set Comprehensions\n",
    "- You can also nest set comprehensions to create sets based on nested iterations. \n",
    "- This allows you to perform operations on multiple iterables and generate a set of combinations or transformations."
   ]
  },
  {
   "cell_type": "code",
   "execution_count": 58,
   "id": "a4108286-f0c5-4abc-9de6-40ea44951e62",
   "metadata": {},
   "outputs": [
    {
     "name": "stdout",
     "output_type": "stream",
     "text": [
      "{(2, 4), (3, 4), (1, 5), (1, 4), (2, 6), (3, 6), (1, 6), (2, 5), (3, 5)}\n"
     ]
    }
   ],
   "source": [
    "# Example 3: Creating a set of all possible pairs of numbers\n",
    "pairs = {(x, y) for x in range(1, 4) for y in range(4, 7)}\n",
    "print(pairs)  # Output: {(1, 4), (1, 5), (1, 6), (2, 4), (2, 5), (2, 6), (3, 4), (3, 5), (3, 6)}\n"
   ]
  },
  {
   "cell_type": "markdown",
   "id": "d6683996-862a-4d3e-9968-7e36b051b926",
   "metadata": {
    "tags": []
   },
   "source": [
    "## 7: Set Applications and Use Cases"
   ]
  },
  {
   "cell_type": "markdown",
   "id": "5fa25371-c573-4540-9025-98d2fe2cbcb7",
   "metadata": {},
   "source": [
    "### Removing Duplicates from a List using Sets\n",
    "- One common use case of sets is to remove duplicate elements from a list.\n",
    "- Since sets only contain unique elements, converting a list to a set and then back to a list effectively removes any duplicates."
   ]
  },
  {
   "cell_type": "code",
   "execution_count": 59,
   "id": "69a7a045-58ea-4f02-92f4-5b3e584b1263",
   "metadata": {},
   "outputs": [
    {
     "name": "stdout",
     "output_type": "stream",
     "text": [
      "[1, 2, 3, 4]\n"
     ]
    }
   ],
   "source": [
    "# Example: Removing duplicates from a list\n",
    "my_list = [1, 2, 3, 4, 3, 2, 1]\n",
    "unique_list = list(set(my_list))\n",
    "print(unique_list)  # Output: [1, 2, 3, 4]"
   ]
  },
  {
   "cell_type": "markdown",
   "id": "2fd8397c-54ac-426b-a12a-6ab01f635a6c",
   "metadata": {},
   "source": [
    "### Testing Membership and Finding Common Elements\n",
    "- Sets are efficient for testing membership and finding common elements between multiple sets.\n",
    "- The `in` operator can be used to check if an element is present in a set, and set operations like intersection, union, and difference can be used to find common elements."
   ]
  },
  {
   "cell_type": "code",
   "execution_count": 60,
   "id": "f26532c8-5583-4a9b-9696-fe800e8de876",
   "metadata": {},
   "outputs": [
    {
     "name": "stdout",
     "output_type": "stream",
     "text": [
      "True\n",
      "{4, 5}\n"
     ]
    }
   ],
   "source": [
    "# Example: Testing membership and finding common elements\n",
    "set1 = {1, 2, 3, 4, 5}\n",
    "set2 = {4, 5, 6, 7, 8}\n",
    "\n",
    "print(3 in set1)  # Output: True\n",
    "print(set1.intersection(set2))  # Output: {4, 5}"
   ]
  },
  {
   "cell_type": "markdown",
   "id": "4b1bf118-4139-4b6b-9d74-5bfb99291f61",
   "metadata": {},
   "source": [
    "### Set Operations in Data Analysis and Set Theory\n",
    "\n",
    "- Sets play a significant role in data analysis and set theory.\n",
    "- They can be used to perform set operations such as union, intersection, and difference, which are essential for data manipulation and analysis.\n",
    "\n",
    "- Sets can be used to represent categories, unique values, or distinct groups.\n",
    "- Set operations can help combine datasets, identify common elements, or filter data based on specific criteria.\n",
    "\n",
    "- In set theory, sets and their operations are fundamental concepts. They are used to define relationships between sets, prove mathematical theorems, and model complex systems.\n",
    "\n",
    "- Sets offer a versatile toolset for handling unique elements, identifying common elements, and performing set operations.\n"
   ]
  },
  {
   "cell_type": "markdown",
   "id": "d2a7bc9c-4a4d-4519-81b0-2160f575614a",
   "metadata": {
    "tags": []
   },
   "source": [
    "## 8: Immutable Sets (frozensets)"
   ]
  },
  {
   "cell_type": "markdown",
   "id": "9da1ccbf-2682-46fc-943f-d05aae46aa41",
   "metadata": {},
   "source": [
    "- In addition to regular sets, Python provides a built-in type called `frozenset`, which represents an immutable set.\n",
    "- Immutable sets are similar to regular sets but have the property that once created, their elements cannot be modified.\n",
    "- This makes them useful in situations where you need to ensure that a set remains unchanged."
   ]
  },
  {
   "cell_type": "markdown",
   "id": "0354e322-5be0-4ad4-8943-8bd8be86cfe3",
   "metadata": {},
   "source": [
    "### Creating and Using Immutable Sets\n",
    "- You can create an immutable set, or frozenset, using the `frozenset()` constructor.\n",
    "- It accepts an iterable as an argument and returns an immutable set containing the elements of the iterable."
   ]
  },
  {
   "cell_type": "code",
   "execution_count": 61,
   "id": "d3b798f4-2538-47ab-9244-f0f012e32c69",
   "metadata": {},
   "outputs": [
    {
     "name": "stdout",
     "output_type": "stream",
     "text": [
      "frozenset({1, 2, 3})\n"
     ]
    }
   ],
   "source": [
    "# Example: Creating and using frozensets\n",
    "set1 = {1, 2, 3}\n",
    "frozen_set = frozenset(set1)\n",
    "print(frozen_set)  # Output: frozenset({1, 2, 3})"
   ]
  },
  {
   "cell_type": "markdown",
   "id": "b6f3989b-d605-462a-baa0-90f81033e90b",
   "metadata": {},
   "source": [
    "### Immutable Set Operations\n",
    "- Although immutable sets cannot be modified, you can perform various operations on them that do not modify the original set.\n",
    "- Immutable set operations return new frozensets as the result."
   ]
  },
  {
   "cell_type": "code",
   "execution_count": 62,
   "id": "21a0d209-c087-4eea-9756-67c322ce7df9",
   "metadata": {},
   "outputs": [
    {
     "name": "stdout",
     "output_type": "stream",
     "text": [
      "frozenset({1, 2, 3, 4, 5})\n",
      "frozenset({3})\n",
      "frozenset({1, 2})\n"
     ]
    }
   ],
   "source": [
    "# Example: Immutable set operations\n",
    "frozen_set1 = frozenset({1, 2, 3})\n",
    "frozen_set2 = frozenset({3, 4, 5})\n",
    "\n",
    "union_set = frozen_set1.union(frozen_set2)\n",
    "intersection_set = frozen_set1.intersection(frozen_set2)\n",
    "difference_set = frozen_set1.difference(frozen_set2)\n",
    "\n",
    "print(union_set)  # Output: frozenset({1, 2, 3, 4, 5})\n",
    "print(intersection_set)  # Output: frozenset({3})\n",
    "print(difference_set)  # Output: frozenset({1, 2})"
   ]
  },
  {
   "cell_type": "markdown",
   "id": "e0db138c-309d-48f6-a1ef-95096177ab13",
   "metadata": {},
   "source": [
    "- **Note**: Since frozensets are immutable, you cannot add or remove elements from them, nor can you modify existing elements.\n",
    "\n",
    "- Immutable sets, or frozensets, provide a way to create sets that cannot be modified.\n",
    "- They are useful in situations where you need a set to remain unchanged and want to perform set operations without modifying the original set."
   ]
  },
  {
   "cell_type": "markdown",
   "id": "e5d4237e-f830-43fc-9c81-128ba407dfae",
   "metadata": {
    "tags": []
   },
   "source": [
    "## 9: Set Performance and Efficiency"
   ]
  },
  {
   "cell_type": "markdown",
   "id": "23ee86f2-50ce-4ed5-b1fa-a9f9a5e19309",
   "metadata": {},
   "source": [
    "- When working with sets, it's important to consider their performance and efficiency, especially when dealing with large sets or frequent set operations.\n",
    "- This section discusses the complexity of set operations and provides insights into choosing the right data structure for your specific problem."
   ]
  },
  {
   "cell_type": "markdown",
   "id": "25a4ef6b-c0d3-42f7-8e56-bc53413ac5f9",
   "metadata": {},
   "source": [
    "### Set Operations Complexity\n",
    "- The performance of set operations can vary based on the size of the sets involved.\n",
    "- Here's a summary of the average time complexity for common set operations:\n",
    "\n",
    ">    - Adding an element to a set: O(1)\n",
    ">\n",
    ">    - Removing an element from a set: O(1)\n",
    ">\n",
    ">    - Checking membership in a set: O(1)\n",
    ">\n",
    ">    - Set union: O(len(s1) + len(s2))\n",
    ">\n",
    ">    - Set intersection: O(min(len(s1), len(s2)))\n",
    ">\n",
    ">    - Set difference: O(len(s1))\n",
    ">\n",
    ">    - Set symmetric difference: O(len(s1) + len(s2))"
   ]
  },
  {
   "cell_type": "markdown",
   "id": "88a19784-2fa9-49a1-97a1-2b830da1c31f",
   "metadata": {},
   "source": [
    "### Choosing the Right Data Structure for the Problem\n",
    "\n",
    "- When deciding to use sets, it's crucial to consider the specific requirements of your problem and choose the appropriate data structure accordingly.\n",
    "- Here are a few points to keep in mind:\n",
    "\n",
    "1. **Set Size**: If you are dealing with a large number of elements or anticipate frequent operations on the set, consider using specialized data structures like `frozenset` (immutable set) or `bitset` (bitwise operations on sets).\n",
    "2. **Mutability**: If you need to modify the elements of a set, use regular sets. If immutability is desired, go for frozensets.\n",
    "3. **Element Types**: Sets are suitable for storing and comparing hashable elements. If you have custom objects as elements, ensure they implement proper hashing and equality methods.\n",
    "4. **Ordering**: If you require ordered elements, consider using `sortedset` or `list` data structures instead.\n"
   ]
  },
  {
   "cell_type": "markdown",
   "id": "5dbbfbae-97d4-4825-924d-86b497306d48",
   "metadata": {
    "tags": []
   },
   "source": [
    "## 10: Set Operations with Other Data Types"
   ]
  },
  {
   "cell_type": "markdown",
   "id": "06859260-aab6-4223-8873-ba38bc29bd61",
   "metadata": {},
   "source": [
    "### Sets and Lists\n",
    "\n",
    "- Converting a list to a set: You can use the `set()` constructor to create a set from a list, which removes any duplicate elements and returns a set containing unique values.\n",
    "- Checking intersection: You can find the common elements between a set and a list using the `intersection()` method or the `&` operator.\n",
    "- Checking difference: You can determine the elements that exist in a set but not in a list using the `difference()` method or the `-` operator.\n",
    "- Checking subset or superset: You can check if a list is a subset or superset of a set using the `issubset()` and `issuperset()` methods."
   ]
  },
  {
   "cell_type": "code",
   "execution_count": 64,
   "id": "6968c81c-efc3-49cc-9ff0-c9fdaa1a7bec",
   "metadata": {},
   "outputs": [
    {
     "name": "stdout",
     "output_type": "stream",
     "text": [
      "{2, 3, 4}\n",
      "{2, 3}\n",
      "{1}\n",
      "False\n"
     ]
    }
   ],
   "source": [
    "# Example: Set operations with lists\n",
    "my_set = {1, 2, 3}\n",
    "my_list = [2, 3, 4]\n",
    "\n",
    "set_from_list = set(my_list)\n",
    "intersection = my_set.intersection(my_list)\n",
    "difference = my_set.difference(my_list)\n",
    "is_subset = set(my_list).issubset(my_set)\n",
    "\n",
    "print(set_from_list)  # Output: {2, 3, 4}\n",
    "print(intersection)  # Output: {2, 3}\n",
    "print(difference)  # Output: {1}\n",
    "print(is_subset)  # Output: False\n"
   ]
  },
  {
   "cell_type": "markdown",
   "id": "28c22e71-49f3-4b16-a28e-04065d848a40",
   "metadata": {},
   "source": [
    "### Sets and Tuples\n",
    "- Checking intersection: You can find the common elements between a set and a tuple using the `intersection()` method or the `&` operator.\n",
    "- Checking difference: You can determine the elements that exist in a set but not in a tuple using the `difference()` method or the `-` operator.\n",
    "- Checking subset or superset: You can check if a tuple is a subset or superset of a set using the `issubset()` and `issuperset()` methods."
   ]
  },
  {
   "cell_type": "code",
   "execution_count": 65,
   "id": "433aabd6-8152-441b-8056-30fe425463e6",
   "metadata": {},
   "outputs": [
    {
     "name": "stdout",
     "output_type": "stream",
     "text": [
      "{2, 3}\n",
      "{1}\n",
      "False\n"
     ]
    }
   ],
   "source": [
    "# Example: Set operations with tuples\n",
    "my_set = {1, 2, 3}\n",
    "my_tuple = (2, 3, 4)\n",
    "\n",
    "intersection = my_set.intersection(my_tuple)\n",
    "difference = my_set.difference(my_tuple)\n",
    "is_subset = set(my_tuple).issubset(my_set)\n",
    "\n",
    "print(intersection)  # Output: {2, 3}\n",
    "print(difference)  # Output: {1}\n",
    "print(is_subset)  # Output: False"
   ]
  },
  {
   "cell_type": "markdown",
   "id": "9c507986-296f-4918-b10f-e0493d9bcef8",
   "metadata": {},
   "source": [
    "### Sets and Dictionaries\n",
    "\n",
    "\n",
    "- Extracting keys as a set: You can obtain a set of keys from a dictionary using the `keys()` method or by directly converting the dictionary to a set using the `set()` constructor.\n",
    "- Checking intersection: You can find the common keys between a set and a dictionary using the `intersection()` method or the `&` operator.\n",
    "- Checking difference: You can determine the keys that exist in a set but not in a dictionary using the `difference()` method or the `-` operator."
   ]
  },
  {
   "cell_type": "code",
   "execution_count": 69,
   "id": "c22d85a3-2e73-47b7-a69f-7d9c5211624b",
   "metadata": {},
   "outputs": [
    {
     "name": "stdout",
     "output_type": "stream",
     "text": [
      "{'b', 'c'}\n",
      "{'a'}\n"
     ]
    }
   ],
   "source": [
    "\n",
    "# Example: Set operations with dictionaries\n",
    "my_dict = {\"a\": 1, \"b\": 2, \"c\": 3}\n",
    "my_set = set(my_dict.keys())\n",
    "\n",
    "intersection = my_set.intersection({\"b\", \"c\", \"d\"})\n",
    "difference = my_set.difference({\"b\", \"c\", \"d\"})\n",
    "\n",
    "print(intersection)  # Output: {'b', 'c'}\n",
    "print(difference)  # Output: {'a'}\n"
   ]
  },
  {
   "cell_type": "markdown",
   "id": "ad80f69e-9c15-4191-a927-da1457512464",
   "metadata": {
    "tags": []
   },
   "source": [
    "## 11: Set Best Practices and Tips"
   ]
  },
  {
   "cell_type": "markdown",
   "id": "24910df3-01ca-485e-8895-61b806df58c5",
   "metadata": {},
   "source": [
    "### Proper Set Usage\n",
    "1. Choose sets for unique and unordered collections: Sets are ideal when you need to store a collection of unique elements without any specific order. If you have duplicate values or need to maintain a specific order, consider using other data structures like lists or tuples.\n",
    "2. Ensure elements are hashable: Sets rely on hashable elements, which means the objects in the set must have a hash value that doesn't change over its lifetime. Immutable objects like numbers, strings, and tuples are hashable, while lists and dictionaries are not. Custom objects can be made hashable by implementing the `__hash__()` and `__eq__()` methods."
   ]
  },
  {
   "cell_type": "markdown",
   "id": "84196ce9-0051-4d8b-8869-a1cb200e9424",
   "metadata": {},
   "source": [
    "### Memory Management and Set Size Considerations\n",
    "1. Be mindful of memory usage: Sets consume memory to store their elements. If you are working with large sets or have memory constraints, consider optimizing your code or using other data structures that are more memory-efficient.\n",
    "2. Consider set operations' memory overhead: Some set operations, such as set union and intersection, create new sets that contain the result. Keep in mind that these operations may require additional memory, especially if the sets being operated on are large.\n",
    "3. Monitor set size and performance: As the size of a set grows, the performance of certain operations, such as membership testing and set operations, may decrease. Consider monitoring the size of your sets and assessing the performance impact on your specific use case."
   ]
  },
  {
   "cell_type": "markdown",
   "id": "68cf04ea-80bf-44e0-8785-d16e51f32192",
   "metadata": {},
   "source": [
    "### General Set Tips\n",
    "1. Keep sets immutable when possible: Immutable sets, known as frozensets, can be useful when you need a hashable, unchangeable collection of elements. They can be used as dictionary keys and elements in other sets.\n",
    "2. Take advantage of set operations: Sets provide powerful operations like union, intersection, difference, and more. Familiarize yourself with these operations and leverage them to simplify your code and achieve desired outcomes efficiently.\n",
    "3. Document your set usage: As with any code, it's important to document the purpose and usage of sets in your codebase. Clearly document what elements are stored in sets, what operations are performed, and any assumptions made about set behavior.\n"
   ]
  }
 ],
 "metadata": {
  "kernelspec": {
   "display_name": "Python 3 (ipykernel)",
   "language": "python",
   "name": "python3"
  },
  "language_info": {
   "codemirror_mode": {
    "name": "ipython",
    "version": 3
   },
   "file_extension": ".py",
   "mimetype": "text/x-python",
   "name": "python",
   "nbconvert_exporter": "python",
   "pygments_lexer": "ipython3",
   "version": "3.9.7"
  }
 },
 "nbformat": 4,
 "nbformat_minor": 5
}
