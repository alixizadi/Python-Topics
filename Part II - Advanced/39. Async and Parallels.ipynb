{
 "cells": [
  {
   "attachments": {},
   "cell_type": "markdown",
   "id": "4c3ca05b-b93e-4688-bfee-f6df5fd8ec7c",
   "metadata": {},
   "source": [
    "## 1. Using `async` and `await` to define and run a simple asynchronous function.\n"
   ]
  },
  {
   "attachments": {},
   "cell_type": "markdown",
   "id": "68a0846b",
   "metadata": {
    "vscode": {
     "languageId": "plaintext"
    }
   },
   "source": [
    "import asyncio\n",
    "\n",
    "async def greet():\n",
    "    print(\"Hello\")\n",
    "    await asyncio.sleep(1)\n",
    "    print(\"World!\")\n",
    "\n",
    "asyncio.run(greet())\n",
    "\n"
   ]
  },
  {
   "attachments": {},
   "cell_type": "markdown",
   "id": "cba04d88",
   "metadata": {
    "vscode": {
     "languageId": "plaintext"
    }
   },
   "source": [
    "\n",
    "## 2. Running multiple asynchronous tasks concurrently using `asyncio.gather()`.\n"
   ]
  },
  {
   "attachments": {},
   "cell_type": "markdown",
   "id": "44e7fe4b",
   "metadata": {},
   "source": [
    "\n",
    "import asyncio\n",
    "\n",
    "async def task1():\n",
    "    await asyncio.sleep(1)\n",
    "    print(\"Task 1 completed\")\n",
    "\n",
    "async def task2():\n",
    "    await asyncio.sleep(2)\n",
    "    print(\"Task 2 completed\")\n",
    "\n",
    "async def main():\n",
    "    await asyncio.gather(task1(), task2())\n",
    "\n",
    "asyncio.run(main())\n",
    "\n"
   ]
  },
  {
   "attachments": {},
   "cell_type": "markdown",
   "id": "bdff93c9",
   "metadata": {
    "vscode": {
     "languageId": "plaintext"
    }
   },
   "source": [
    "\n",
    "3. Using `asyncio.wait()` to wait for the completion of multiple asynchronous tasks.\n",
    "\n",
    "import asyncio\n",
    "\n",
    "async def task1():\n",
    "    await asyncio.sleep(1)\n",
    "    print(\"Task 1 completed\")\n",
    "\n",
    "async def task2():\n",
    "    await asyncio.sleep(2)\n",
    "    print(\"Task 2 completed\")\n",
    "\n",
    "async def main():\n",
    "    tasks = [task1(), task2()]\n",
    "    done, pending = await asyncio.wait(tasks)\n",
    "    for task in done:\n",
    "        print(f\"{task} finished\")\n",
    "\n",
    "asyncio.run(main())\n",
    "\n"
   ]
  },
  {
   "attachments": {},
   "cell_type": "markdown",
   "id": "76c851c8",
   "metadata": {
    "vscode": {
     "languageId": "plaintext"
    }
   },
   "source": [
    "\n",
    "4. Implementing a simple producer-consumer pattern using `asyncio.Queue`.\n",
    "\n",
    "import asyncio\n",
    "\n",
    "async def producer(queue):\n",
    "    for i in range(5):\n",
    "        await asyncio.sleep(1)\n",
    "        await queue.put(i)\n",
    "        print(f\"Produced: {i}\")\n",
    "\n",
    "async def consumer(queue):\n",
    "    while True:\n",
    "        item = await queue.get()\n",
    "        print(f\"Consumed: {item}\")\n",
    "        queue.task_done()\n",
    "\n",
    "async def main():\n",
    "    queue = asyncio.Queue()\n",
    "    producer_task = asyncio.create_task(producer(queue))\n",
    "    consumer_task = asyncio.create_task(consumer(queue))\n",
    "    await asyncio.gather(producer_task, consumer_task)\n",
    "\n",
    "asyncio.run(main())\n",
    "\n"
   ]
  },
  {
   "attachments": {},
   "cell_type": "markdown",
   "id": "b1aa6e37",
   "metadata": {
    "vscode": {
     "languageId": "plaintext"
    }
   },
   "source": [
    "\n",
    "5. Using `concurrent.futures` to execute blocking I/O operations in parallel.\n",
    "\n",
    "import concurrent.futures\n",
    "import requests\n",
    "\n",
    "def download(url):\n",
    "    response = requests.get(url)\n",
    "    return response.content\n",
    "\n",
    "def main():\n",
    "    urls = [\"https://example.com\", \"https://google.com\", \"https://openai.com\"]\n",
    "    with concurrent.futures.ThreadPoolExecutor() as executor:\n",
    "        results = executor.map(download, urls)\n",
    "        for result in results:\n",
    "            print(len(result))\n",
    "\n",
    "main()\n",
    "\n"
   ]
  },
  {
   "attachments": {},
   "cell_type": "markdown",
   "id": "53de52a3",
   "metadata": {
    "vscode": {
     "languageId": "plaintext"
    }
   },
   "source": [
    "\n",
    "6. Using `concurrent.futures` to parallelize CPU-bound computations.\n",
    "\n",
    "import concurrent.futures\n",
    "\n",
    "def compute_square(n):\n",
    "    return n ** 2\n",
    "\n",
    "def main():\n",
    "    numbers = [1, 2, 3, 4, 5]\n",
    "    with concurrent.futures.ProcessPoolExecutor() as executor:\n",
    "        results = executor.map(compute_square, numbers)\n",
    "        for result in results:\n",
    "            print(result)\n",
    "\n",
    "main()\n",
    "\n"
   ]
  },
  {
   "attachments": {},
   "cell_type": "markdown",
   "id": "f8913340",
   "metadata": {
    "vscode": {
     "languageId": "plaintext"
    }
   },
   "source": [
    "\n",
    "7. Using `asyncio.Lock` to protect a shared resource in asynchronous code.\n",
    "\n",
    "import asyncio\n",
    "\n",
    "shared_resource = 0\n",
    "lock = asyncio.Lock()\n",
    "\n",
    "async def update_resource():\n",
    "    global shared_resource\n",
    "    async with lock:\n",
    "        shared_resource += 1\n",
    "\n",
    "async def main():\n",
    "    tasks = [update_resource() for _ in range(10)]\n",
    "    await asyncio.gather(*tasks)\n",
    "    print(f\"Shared resource value: {shared_resource}\")\n",
    "\n",
    "asyncio.run(main())\n"
   ]
  },
  {
   "attachments": {},
   "cell_type": "markdown",
   "id": "212d18dd",
   "metadata": {
    "vscode": {
     "languageId": "plaintext"
    }
   },
   "source": [
    "\n",
    "\n",
    "8. Using `asyncio.Semaphore` to limit the number of concurrent tasks.\n",
    "\n",
    "import\n",
    "\n",
    " asyncio\n",
    "\n",
    "semaphore = asyncio.Semaphore(2)\n",
    "\n",
    "async def limited_task():\n",
    "    async with semaphore:\n",
    "        print(\"Executing limited task\")\n",
    "        await asyncio.sleep(1)\n",
    "\n",
    "async def main():\n",
    "    tasks = [limited_task() for _ in range(5)]\n",
    "    await asyncio.gather(*tasks)\n",
    "\n",
    "asyncio.run(main())\n",
    "\n"
   ]
  },
  {
   "attachments": {},
   "cell_type": "markdown",
   "id": "510af938",
   "metadata": {
    "vscode": {
     "languageId": "plaintext"
    }
   },
   "source": [
    "\n",
    "9. Using `concurrent.futures` and `ProcessPoolExecutor` for parallel execution of CPU-bound tasks.\n",
    "\n",
    "import concurrent.futures\n",
    "\n",
    "def process_data(data):\n",
    "    # Perform CPU-bound computations on data\n",
    "    return processed_data\n",
    "\n",
    "def main():\n",
    "    data = [...]  # Large dataset\n",
    "    with concurrent.futures.ProcessPoolExecutor() as executor:\n",
    "        results = executor.map(process_data, data)\n",
    "        for result in results:\n",
    "            # Process the results\n",
    "\n",
    "main()\n",
    "\n"
   ]
  },
  {
   "attachments": {},
   "cell_type": "markdown",
   "id": "3c7c6a0c",
   "metadata": {
    "vscode": {
     "languageId": "plaintext"
    }
   },
   "source": [
    "\n",
    "10. Using `asyncio` and `aiomultiprocess` to achieve parallelism in asynchronous code.\n",
    "\n",
    "import asyncio\n",
    "from aiomultiprocess import Pool\n",
    "\n",
    "async def process_data(data):\n",
    "    # Perform CPU-bound computations on data\n",
    "    return processed_data\n",
    "\n",
    "async def main():\n",
    "    data = [...]  # Large dataset\n",
    "    async with Pool() as pool:\n",
    "        results = await pool.map(process_data, data)\n",
    "        for result in results:\n",
    "            # Process the results\n",
    "\n",
    "asyncio.run(main())\n",
    "\n",
    "\n",
    "These examples cover a range of concepts in asynchronous and parallel programming, including asynchronous functions, task management, concurrency, parallelism with threads and processes, and protection of shared resources. Experiment with these examples to understand the capabilities of Python in handling asynchronous and parallel workloads."
   ]
  },
  {
   "attachments": {},
   "cell_type": "markdown",
   "id": "0acd5a55-bd88-4b42-a34f-4d1f304a2ce8",
   "metadata": {},
   "source": [
    "\n",
    "## 11. Using `asyncio` and `aiohttp` to make asynchronous HTTP requests.\n"
   ]
  },
  {
   "attachments": {},
   "cell_type": "markdown",
   "id": "fcccbdc9",
   "metadata": {
    "vscode": {
     "languageId": "plaintext"
    }
   },
   "source": [
    "\n",
    "import asyncio\n",
    "import aiohttp\n",
    "\n",
    "async def fetch(url):\n",
    "    async with aiohttp.ClientSession() as session:\n",
    "        async with session.get(url) as response:\n",
    "            return await response.text()\n",
    "\n",
    "async def main():\n",
    "    urls = [\"https://example.com\", \"https://google.com\", \"https://openai.com\"]\n",
    "    tasks = [fetch(url) for url in urls]\n",
    "    responses = await asyncio.gather(*tasks)\n",
    "    for response in responses:\n",
    "        print(len(response))\n",
    "\n",
    "asyncio.run(main())\n",
    "\n"
   ]
  },
  {
   "attachments": {},
   "cell_type": "markdown",
   "id": "09f75495",
   "metadata": {},
   "source": [
    "\n",
    "## 12. Using `asyncio.Queue` and multiple workers to process items asynchronously.\n"
   ]
  },
  {
   "attachments": {},
   "cell_type": "markdown",
   "id": "806ccdbd",
   "metadata": {
    "vscode": {
     "languageId": "plaintext"
    }
   },
   "source": [
    "import asyncio\n",
    "\n",
    "async def worker(name, queue):\n",
    "    while True:\n",
    "        item = await queue.get()\n",
    "        print(f\"Worker {name} processing item: {item}\")\n",
    "        await asyncio.sleep(1)  # Simulate processing time\n",
    "        queue.task_done()\n",
    "\n",
    "async def main():\n",
    "    queue = asyncio.Queue()\n",
    "    workers = [asyncio.create_task(worker(i, queue)) for i in range(3)]\n",
    "    items = [i for i in range(10)]  # Items to be processed\n",
    "    for item in items:\n",
    "        await queue.put(item)\n",
    "    await queue.join()\n",
    "    for worker_task in workers:\n",
    "        worker_task.cancel()\n",
    "\n",
    "asyncio.run(main())\n",
    "\n"
   ]
  },
  {
   "attachments": {},
   "cell_type": "markdown",
   "id": "9a35784e",
   "metadata": {
    "vscode": {
     "languageId": "plaintext"
    }
   },
   "source": [
    "\n",
    "13. Using `concurrent.futures` and `ThreadPoolExecutor` to parallelize I/O-bound tasks.\n",
    "python\n",
    "import concurrent.futures\n",
    "import requests\n",
    "\n",
    "def fetch(url):\n",
    "    response = requests.get(url)\n",
    "    return response.text\n",
    "\n",
    "def main():\n",
    "    urls = [\"https://example.com\", \"https://google.com\", \"https://openai.com\"]\n",
    "    with concurrent.futures.ThreadPoolExecutor() as executor:\n",
    "        results = executor.map(fetch, urls)\n",
    "        for result in results:\n",
    "            print(len(result))\n",
    "\n",
    "main()\n"
   ]
  },
  {
   "attachments": {},
   "cell_type": "markdown",
   "id": "49946a6b",
   "metadata": {
    "vscode": {
     "languageId": "plaintext"
    }
   },
   "source": [
    "\n",
    "\n",
    "14. Using `concurrent.futures` and `ProcessPoolExecutor` to parallelize CPU-bound tasks.\n",
    "python\n",
    "import concurrent.futures\n",
    "\n",
    "def compute_factorial(n):\n",
    "    result = 1\n",
    "    for i in range(1, n + 1):\n",
    "        result *= i\n",
    "    return result\n",
    "\n",
    "def main():\n",
    "    numbers = [100, 200, 300, 400, 500]\n",
    "    with concurrent.futures.ProcessPoolExecutor() as executor:\n",
    "        results = executor.map(compute_factorial, numbers)\n",
    "        for result in results:\n",
    "            print(result)\n",
    "\n",
    "main()\n",
    "\n"
   ]
  },
  {
   "attachments": {},
   "cell_type": "markdown",
   "id": "0733bbda",
   "metadata": {
    "vscode": {
     "languageId": "plaintext"
    }
   },
   "source": [
    "\n",
    "15. Using `asyncio.Lock` and `asyncio.Event` for synchronization between tasks.\n",
    "python\n",
    "import asyncio\n",
    "\n",
    "async def task1(lock, event):\n",
    "    await lock.acquire()\n",
    "    print(\"Task 1 started\")\n",
    "    await event.wait()\n",
    "    print(\"Task 1 completed\")\n",
    "    lock.release()\n",
    "\n",
    "async def task2(lock, event):\n",
    "    await asyncio.sleep(1)\n",
    "    print(\"Task 2 started\")\n",
    "    event.set()\n",
    "    await asyncio.sleep(1)\n",
    "    print(\"Task 2 completed\")\n",
    "\n",
    "async def main():\n",
    "    lock = asyncio.Lock()\n",
    "    event = asyncio.Event()\n",
    "    await asyncio.gather(task1(lock, event), task2(lock, event))\n",
    "\n",
    "asyncio.run(main())\n"
   ]
  },
  {
   "attachments": {},
   "cell_type": "markdown",
   "id": "bd891492",
   "metadata": {
    "vscode": {
     "languageId": "plaintext"
    }
   },
   "source": [
    "\n",
    "\n",
    "16. Using `concurrent.futures` and `as_completed` to process results as they become available.\n",
    "python\n",
    "import concurrent.futures\n",
    "\n",
    "def process_data(data):\n",
    "    # Perform CPU-bound computations on data\n",
    "    return processed_data\n",
    "\n",
    "def main():\n",
    "    data = [...]  # Large dataset\n",
    "    with concurrent.futures.ProcessPoolExecutor() as executor:\n",
    "        futures = [executor.submit(process_data, item) for item in data]\n",
    "        for future in concurrent.futures.as_completed(futures):\n",
    "            result = future.result()\n",
    "            # Process the result\n",
    "\n",
    "main()\n",
    "\n"
   ]
  },
  {
   "attachments": {},
   "cell_type": "markdown",
   "id": "f9a7923d",
   "metadata": {
    "vscode": {
     "languageId": "plaintext"
    }
   },
   "source": [
    "\n",
    "17. Using `asyncio` and `asyncpg` to perform asynchronous database operations.\n",
    "python\n",
    "import asyncio\n",
    "import asyncpg\n",
    "\n",
    "async def fetch_users():\n",
    "    conn = await asyncpg.connect(user=\"myuser\", password=\"mypassword\", database=\"mydb\", host=\"localhost\")\n",
    "    rows = await conn.fetch(\"SELECT * FROM users\")\n",
    "    await conn.close()\n",
    "    return rows\n",
    "\n",
    "async def main():\n",
    "    users = await fetch_users()\n",
    "    for user in users:\n",
    "        print(user)\n",
    "\n",
    "asyncio.run(main())\n",
    "\n"
   ]
  },
  {
   "attachments": {},
   "cell_type": "markdown",
   "id": "f23df70e",
   "metadata": {
    "vscode": {
     "languageId": "plaintext"
    }
   },
   "source": [
    "\n",
    "18. Using `asyncio` and `websockets` to create a WebSocket server and client.\n",
    "python\n",
    "import asyncio\n",
    "import websockets\n",
    "\n",
    "async def server(websocket, path):\n",
    "    while True:\n",
    "        message = await websocket.recv()\n",
    "        await websocket.send(f\"Received: {message}\")\n",
    "\n",
    "async def client():\n",
    "    async with websockets.connect(\"ws://localhost:8765\") as websocket:\n",
    "        await websocket.send(\"Hello, server!\")\n",
    "        response = await websocket.recv()\n",
    "        print(response)\n",
    "\n",
    "async def main():\n",
    "    server_task = asyncio.create_task(websockets.serve(server, \"localhost\", 8765))\n",
    "    client_task = asyncio.create_task(client())\n",
    "    await asyncio.gather(server_task, client_task)\n",
    "\n",
    "asyncio.run(main())\n",
    "\n"
   ]
  },
  {
   "attachments": {},
   "cell_type": "markdown",
   "id": "49c46086",
   "metadata": {
    "vscode": {
     "languageId": "plaintext"
    }
   },
   "source": [
    "\n",
    "19. Using `asyncio` and `aiomultiprocess` to achieve parallelism in asynchronous code.\n",
    "python\n",
    "import asyncio\n",
    "from aiomultiprocess import Pool\n",
    "\n",
    "async def process_data(data):\n",
    "    # Perform CPU-bound computations on data\n",
    "    return processed_data\n",
    "\n",
    "async def main():\n",
    "    data = [...]  # Large dataset\n",
    "    async with Pool() as pool:\n",
    "        results = await pool.map(process_data, data)\n",
    "        for result in results:\n",
    "            # Process the results\n",
    "\n",
    "asyncio.run(main())\n",
    "\n"
   ]
  },
  {
   "attachments": {},
   "cell_type": "markdown",
   "id": "237ccdb7",
   "metadata": {
    "vscode": {
     "languageId": "plaintext"
    }
   },
   "source": [
    "\n",
    "20. Using `concurrent.futures` and `ThreadPoolExecutor` with `Executor.map()` for parallel processing.\n",
    "python\n",
    "import concurrent.futures\n",
    "\n",
    "def process_data(data):\n",
    "    # Process data\n",
    "    return result\n",
    "\n",
    "def main():\n",
    "    data = [...]  # List of data items\n",
    "    with concurrent.futures.ThreadPoolExecutor() as executor:\n",
    "        results = executor.map(process_data, data)\n",
    "        for result in results:\n",
    "            # Process the result\n",
    "\n",
    "main()\n",
    "\n"
   ]
  }
 ],
 "metadata": {
  "kernelspec": {
   "display_name": "Python 3 (ipykernel)",
   "language": "python",
   "name": "python3"
  },
  "language_info": {
   "codemirror_mode": {
    "name": "ipython",
    "version": 3
   },
   "file_extension": ".py",
   "mimetype": "text/x-python",
   "name": "python",
   "nbconvert_exporter": "python",
   "pygments_lexer": "ipython3",
   "version": "3.10.10"
  }
 },
 "nbformat": 4,
 "nbformat_minor": 5
}
