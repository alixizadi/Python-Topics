{
 "cells": [
  {
   "cell_type": "markdown",
   "id": "4c3ca05b-b93e-4688-bfee-f6df5fd8ec7c",
   "metadata": {},
   "source": [
    "## 1. Using `async` and `await` to define and run a simple asynchronous function.\n"
   ]
  },
  {
   "cell_type": "code",
   "execution_count": 1,
   "id": "24ee62d7",
   "metadata": {},
   "outputs": [
    {
     "name": "stdout",
     "output_type": "stream",
     "text": [
      "Hello\n",
      "World!\n"
     ]
    }
   ],
   "source": [
    "\n",
    "import asyncio\n",
    "\n",
    "async def greet():\n",
    "    print(\"Hello\")\n",
    "    await asyncio.sleep(1)\n",
    "    print(\"World!\")\n",
    "\n",
    "await greet()\n",
    "\n",
    "# in .py files use this instead\n",
    "# asyncio.run(greet()) \n",
    "\n"
   ]
  },
  {
   "cell_type": "markdown",
   "id": "f466f7db",
   "metadata": {},
   "source": [
    "\n",
    "\n",
    "## 2. Running multiple asynchronous tasks concurrently using `asyncio.gather()`.\n"
   ]
  },
  {
   "cell_type": "code",
   "execution_count": 2,
   "id": "d0ef2f9d",
   "metadata": {},
   "outputs": [
    {
     "name": "stdout",
     "output_type": "stream",
     "text": [
      "Task 2 completed\n",
      "Task 1 completed\n"
     ]
    }
   ],
   "source": [
    "\n",
    "import asyncio\n",
    "\n",
    "async def task1():\n",
    "    await asyncio.sleep(2)\n",
    "    print(\"Task 1 completed\")\n",
    "\n",
    "async def task2():\n",
    "    await asyncio.sleep(1)\n",
    "    print(\"Task 2 completed\")\n",
    "\n",
    "async def main():\n",
    "    await asyncio.gather(task1(), task2())\n",
    "\n",
    "# asyncio.run(main())\n",
    "await main()\n"
   ]
  },
  {
   "cell_type": "markdown",
   "id": "699715fb-e90e-4844-b4a0-106fc062f1b9",
   "metadata": {},
   "source": [
    "## 3. Using `asyncio.wait()` to wait for the completion of multiple asynchronous tasks."
   ]
  },
  {
   "cell_type": "code",
   "execution_count": 7,
   "id": "3b5733a4-54a2-40d7-8323-aaeab0da643f",
   "metadata": {},
   "outputs": [
    {
     "name": "stderr",
     "output_type": "stream",
     "text": [
      "/var/folders/78/fz9_v5ld6cscn059x9lf9nt80000gn/T/ipykernel_73357/1182482634.py:13: DeprecationWarning: The explicit passing of coroutine objects to asyncio.wait() is deprecated since Python 3.8, and scheduled for removal in Python 3.11.\n",
      "  done, pending = await asyncio.wait(tasks)\n"
     ]
    },
    {
     "name": "stdout",
     "output_type": "stream",
     "text": [
      "Task 1 completed\n",
      "Task 2 completed\n",
      "<Task finished name='Task-17' coro=<task2() done, defined at /var/folders/78/fz9_v5ld6cscn059x9lf9nt80000gn/T/ipykernel_73357/1182482634.py:7> result=None> finished\n",
      "<Task finished name='Task-18' coro=<task1() done, defined at /var/folders/78/fz9_v5ld6cscn059x9lf9nt80000gn/T/ipykernel_73357/1182482634.py:3> result=None> finished\n"
     ]
    }
   ],
   "source": [
    "import asyncio\n",
    "\n",
    "async def task1():\n",
    "    await asyncio.sleep(1)\n",
    "    print(\"Task 1 completed\")\n",
    "\n",
    "async def task2():\n",
    "    await asyncio.sleep(2)\n",
    "    print(\"Task 2 completed\")\n",
    "\n",
    "async def main():\n",
    "    tasks = [task1(), task2()]\n",
    "    done, pending = await asyncio.wait(tasks)\n",
    "    for task in done:\n",
    "        print(f\"{task} finished\")\n",
    "\n",
    "# asyncio.run(main())\n",
    "await main()"
   ]
  },
  {
   "cell_type": "markdown",
   "id": "255bf8a6-ce3b-49a6-a1f4-1a7cbd6051b7",
   "metadata": {},
   "source": [
    "## 4. Implementing a simple producer-consumer pattern using `asyncio.Queue`."
   ]
  },
  {
   "cell_type": "code",
   "execution_count": null,
   "id": "2153c6b1-dca3-456c-9125-db275830e13a",
   "metadata": {},
   "outputs": [
    {
     "name": "stdout",
     "output_type": "stream",
     "text": [
      "Produced: 0\n",
      "Consumed: 0\n",
      "Produced: 1\n",
      "Consumed: 1\n",
      "Produced: 2\n",
      "Consumed: 2\n",
      "Produced: 3\n",
      "Consumed: 3\n",
      "Produced: 4\n",
      "Consumed: 4\n"
     ]
    }
   ],
   "source": [
    "import asyncio\n",
    "\n",
    "async def producer(queue):\n",
    "    for i in range(5):\n",
    "        await asyncio.sleep(1)\n",
    "        await queue.put(i)\n",
    "        print(f\"Produced: {i}\")\n",
    "\n",
    "async def consumer(queue):\n",
    "    while True:\n",
    "        item = await queue.get()\n",
    "        print(f\"Consumed: {item}\")\n",
    "        queue.task_done()\n",
    "\n",
    "async def main():\n",
    "    queue = asyncio.Queue()\n",
    "    producer_task = asyncio.create_task(producer(queue))\n",
    "    consumer_task = asyncio.create_task(consumer(queue))\n",
    "    await asyncio.gather(producer_task, consumer_task)\n",
    "\n",
    "# asyncio.run(main())\n",
    "await main()"
   ]
  },
  {
   "cell_type": "markdown",
   "id": "ce3ed224-2807-4115-8582-57188575c716",
   "metadata": {},
   "source": [
    "## 5. Using `concurrent.futures` to execute blocking I/O operations in parallel."
   ]
  },
  {
   "cell_type": "code",
   "execution_count": null,
   "id": "96f523d5-7c72-45b0-84aa-e8e632a5ccf6",
   "metadata": {},
   "outputs": [],
   "source": [
    "import concurrent.futures\n",
    "import requests\n",
    "\n",
    "def download(url):\n",
    "    response = requests.get(url)\n",
    "    return response.content\n",
    "\n",
    "def main():\n",
    "    urls = [\"https://example.com\", \"https://google.com\", \"https://openai.com\"]\n",
    "    with concurrent.futures.ThreadPoolExecutor() as executor:\n",
    "        results = executor.map(download, urls)\n",
    "        for result in results:\n",
    "            print(len(result))\n",
    "\n",
    "main()"
   ]
  },
  {
   "cell_type": "markdown",
   "id": "d442ddf0-a5c3-41b4-8c33-dcdab2b17bd6",
   "metadata": {},
   "source": [
    "## 6. Using `concurrent.futures` to parallelize CPU-bound computations."
   ]
  },
  {
   "cell_type": "code",
   "execution_count": null,
   "id": "c3ed3a05-775b-46bc-a5ce-10fc5dec0915",
   "metadata": {},
   "outputs": [],
   "source": [
    "import concurrent.futures\n",
    "\n",
    "def compute_square(n):\n",
    "    return n ** 2\n",
    "\n",
    "def main():\n",
    "    numbers = [1, 2, 3, 4, 5]\n",
    "    with concurrent.futures.ProcessPoolExecutor() as executor:\n",
    "        results = executor.map(compute_square, numbers)\n",
    "        for result in results:\n",
    "            print(result)\n",
    "\n",
    "main()"
   ]
  },
  {
   "cell_type": "markdown",
   "id": "a8f1a20b-773f-4f5f-9bb2-e7b7b22df370",
   "metadata": {},
   "source": [
    "## 7. Using `asyncio.Lock` to protect a shared resource in asynchronous code."
   ]
  },
  {
   "cell_type": "code",
   "execution_count": 4,
   "id": "5723344e-e1e8-4a08-8a59-43dac579e2ed",
   "metadata": {},
   "outputs": [
    {
     "name": "stdout",
     "output_type": "stream",
     "text": [
      "Shared resource value: 10\n"
     ]
    }
   ],
   "source": [
    "import asyncio\n",
    "\n",
    "shared_resource = 0\n",
    "lock = asyncio.Lock()\n",
    "\n",
    "async def update_resource():\n",
    "    global shared_resource\n",
    "    async with lock:\n",
    "        shared_resource += 1\n",
    "\n",
    "async def main():\n",
    "    tasks = [update_resource() for _ in range(10)]\n",
    "    await asyncio.gather(*tasks)\n",
    "    print(f\"Shared resource value: {shared_resource}\")\n",
    "\n",
    "# asyncio.run(main())\n",
    "await main()"
   ]
  },
  {
   "cell_type": "markdown",
   "id": "c2d78397-cbeb-417c-8242-4460d9c31446",
   "metadata": {},
   "source": [
    "## 8. Using `asyncio.Semaphore` to limit the number of concurrent tasks."
   ]
  },
  {
   "cell_type": "code",
   "execution_count": 6,
   "id": "ed443cc5-2dae-46b4-92fb-6112b0a0fa38",
   "metadata": {},
   "outputs": [
    {
     "name": "stdout",
     "output_type": "stream",
     "text": [
      "Executing limited task\n",
      "Executing limited task\n",
      "Executing limited task\n",
      "Executing limited task\n",
      "Executing limited task\n"
     ]
    }
   ],
   "source": [
    "import asyncio\n",
    "\n",
    "semaphore = asyncio.Semaphore(2)\n",
    "\n",
    "async def limited_task():\n",
    "    async with semaphore:\n",
    "        print(\"Executing limited task\")\n",
    "        await asyncio.sleep(1)\n",
    "\n",
    "async def main():\n",
    "    tasks = [limited_task() for _ in range(5)]\n",
    "    await asyncio.gather(*tasks)\n",
    "\n",
    "# asyncio.run(main())\n",
    "await main()"
   ]
  },
  {
   "cell_type": "markdown",
   "id": "4e6fb0d9-fdba-4d2c-bcd1-da06d9343e93",
   "metadata": {},
   "source": [
    "## 9. Using `concurrent.futures` and `ProcessPoolExecutor` for parallel execution of CPU-bound tasks."
   ]
  },
  {
   "cell_type": "markdown",
   "id": "914c40f2-c310-42ed-84aa-02d62b4eb03f",
   "metadata": {},
   "source": [
    "```python\n",
    "import concurrent.futures\n",
    "\n",
    "def process_data(data):\n",
    "    # Perform CPU-bound computations on data\n",
    "    return processed_data\n",
    "\n",
    "def main():\n",
    "    data = [...]  # Large dataset\n",
    "    with concurrent.futures.ProcessPoolExecutor() as executor:\n",
    "        results = executor.map(process_data, data)\n",
    "        for result in results:\n",
    "            # Process the results\n",
    "\n",
    "main()\n",
    "```"
   ]
  },
  {
   "cell_type": "markdown",
   "id": "4dded15e-5a8e-44c4-89f6-b7aa59939620",
   "metadata": {},
   "source": [
    "## 10. Using `asyncio` and `aiomultiprocess` to achieve parallelism in asynchronous code."
   ]
  },
  {
   "cell_type": "markdown",
   "id": "e93e624e-00a5-4249-8bb6-f10fd849cdda",
   "metadata": {},
   "source": [
    "```python\n",
    "import asyncio\n",
    "from aiomultiprocess import Pool\n",
    "\n",
    "async def process_data(data):\n",
    "    # Perform CPU-bound computations on data\n",
    "    return processed_data\n",
    "\n",
    "async def main():\n",
    "    data = [...]  # Large dataset\n",
    "    async with Pool() as pool:\n",
    "        results = await pool.map(process_data, data)\n",
    "        for result in results:\n",
    "            # Process the results\n",
    "\n",
    "asyncio.run(main())\n",
    "```\n"
   ]
  },
  {
   "cell_type": "markdown",
   "id": "203cf290-6721-441d-85d4-669ff923d52f",
   "metadata": {},
   "source": [
    "## 11. Using `asyncio` and `aiohttp` to make asynchronous HTTP requests."
   ]
  },
  {
   "cell_type": "code",
   "execution_count": 7,
   "id": "19ec22a7-8209-4b4b-aaac-beeb742be25b",
   "metadata": {},
   "outputs": [
    {
     "name": "stdout",
     "output_type": "stream",
     "text": [
      "1256\n",
      "1575\n",
      "92444\n"
     ]
    }
   ],
   "source": [
    "import asyncio\n",
    "import aiohttp\n",
    "\n",
    "async def fetch(url):\n",
    "    async with aiohttp.ClientSession() as session:\n",
    "        async with session.get(url) as response:\n",
    "            return await response.text()\n",
    "\n",
    "async def main():\n",
    "    urls = [\"https://example.com\", \"https://google.com\", \"https://openai.com\"]\n",
    "    tasks = [fetch(url) for url in urls]\n",
    "    responses = await asyncio.gather(*tasks)\n",
    "    for response in responses:\n",
    "        print(len(response))\n",
    "\n",
    "# asyncio.run(main())\n",
    "await main()"
   ]
  },
  {
   "cell_type": "markdown",
   "id": "b640d537-24de-43d6-bc75-d9ceaecda174",
   "metadata": {},
   "source": [
    "## 12. Using `asyncio.Queue` and multiple workers to process items asynchronously."
   ]
  },
  {
   "cell_type": "code",
   "execution_count": 8,
   "id": "96f1e484-2b17-43f0-886b-21d1cdfa3aab",
   "metadata": {},
   "outputs": [
    {
     "name": "stdout",
     "output_type": "stream",
     "text": [
      "Worker 0 processing item: 0\n",
      "Worker 1 processing item: 1\n",
      "Worker 2 processing item: 2\n",
      "Worker 0 processing item: 3\n",
      "Worker 1 processing item: 4\n",
      "Worker 2 processing item: 5\n",
      "Worker 0 processing item: 6\n",
      "Worker 1 processing item: 7\n",
      "Worker 2 processing item: 8\n",
      "Worker 0 processing item: 9\n"
     ]
    }
   ],
   "source": [
    "import asyncio\n",
    "\n",
    "async def worker(name, queue):\n",
    "    while True:\n",
    "        item = await queue.get()\n",
    "        print(f\"Worker {name} processing item: {item}\")\n",
    "        await asyncio.sleep(1)  # Simulate processing time\n",
    "        queue.task_done()\n",
    "\n",
    "async def main():\n",
    "    queue = asyncio.Queue()\n",
    "    workers = [asyncio.create_task(worker(i, queue)) for i in range(3)]\n",
    "    items = [i for i in range(10)]  # Items to be processed\n",
    "    for item in items:\n",
    "        await queue.put(item)\n",
    "    await queue.join()\n",
    "    for worker_task in workers:\n",
    "        worker_task.cancel()\n",
    "\n",
    "await main()"
   ]
  },
  {
   "cell_type": "markdown",
   "id": "59e63d81-71fc-4ab9-91a4-ca719b53da24",
   "metadata": {},
   "source": [
    "## 13. Using `concurrent.futures` and `ThreadPoolExecutor` to parallelize I/O-bound tasks."
   ]
  },
  {
   "cell_type": "code",
   "execution_count": 13,
   "id": "85ed33dd-a603-4820-8b8b-a79a48d1d58d",
   "metadata": {},
   "outputs": [
    {
     "name": "stdout",
     "output_type": "stream",
     "text": [
      "1256\n",
      "1575\n",
      "92460\n"
     ]
    }
   ],
   "source": [
    "import concurrent.futures\n",
    "import requests\n",
    "\n",
    "def fetch(url):\n",
    "    response = requests.get(url)\n",
    "    return response.text\n",
    "\n",
    "def main():\n",
    "    urls = [\"https://example.com\", \"https://google.com\", \"https://openai.com\"]\n",
    "    with concurrent.futures.ThreadPoolExecutor() as executor:\n",
    "        results = executor.map(fetch, urls)\n",
    "        for result in results:\n",
    "            print(len(result))\n",
    "\n",
    "main()"
   ]
  },
  {
   "cell_type": "markdown",
   "id": "31872f5b-2679-4525-9cdc-296285104bdc",
   "metadata": {},
   "source": [
    "## 14. Using `concurrent.futures` and `ProcessPoolExecutor` to parallelize CPU-bound tasks."
   ]
  },
  {
   "cell_type": "markdown",
   "id": "f02458c8-ed4f-42bb-a6d4-43ee838baef7",
   "metadata": {},
   "source": [
    "```python\n",
    "import concurrent.futures\n",
    "\n",
    "def compute_factorial(n):\n",
    "    result = 1\n",
    "    for i in range(1, n + 1):\n",
    "        result *= i\n",
    "    return result\n",
    "\n",
    "def main():\n",
    "    numbers = [100, 200, 300, 400, 500]\n",
    "    with concurrent.futures.ProcessPoolExecutor() as executor:\n",
    "        results = executor.map(compute_factorial, numbers)\n",
    "        for result in results:\n",
    "            print(result)\n",
    "\n",
    "main()\n",
    "```"
   ]
  },
  {
   "cell_type": "markdown",
   "id": "da81cd32-b3b6-4f6e-9cd1-9622d4e461bb",
   "metadata": {},
   "source": [
    "## 15. Using `asyncio.Lock` and `asyncio.Event` for synchronization between tasks."
   ]
  },
  {
   "cell_type": "code",
   "execution_count": 17,
   "id": "45391534-2c26-4a4e-86be-cf51f59f1143",
   "metadata": {},
   "outputs": [
    {
     "name": "stdout",
     "output_type": "stream",
     "text": [
      "Task 1 started\n",
      "Task 2 started\n",
      "Task 1 completed\n",
      "Task 2 completed\n"
     ]
    }
   ],
   "source": [
    "import asyncio\n",
    "\n",
    "async def task1(lock, event):\n",
    "    await lock.acquire()\n",
    "    print(\"Task 1 started\")\n",
    "    await event.wait()\n",
    "    print(\"Task 1 completed\")\n",
    "    lock.release()\n",
    "\n",
    "async def task2(lock, event):\n",
    "    await asyncio.sleep(1)\n",
    "    print(\"Task 2 started\")\n",
    "    event.set()\n",
    "    await asyncio.sleep(1)\n",
    "    print(\"Task 2 completed\")\n",
    "\n",
    "async def main():\n",
    "    lock = asyncio.Lock()\n",
    "    event = asyncio.Event()\n",
    "    await asyncio.gather(task1(lock, event), task2(lock, event))\n",
    "\n",
    "# asyncio.run(main())\n",
    "await main()"
   ]
  },
  {
   "cell_type": "markdown",
   "id": "48bd3216-65f9-4702-a650-de8908effbf1",
   "metadata": {},
   "source": [
    "## 16. Using `concurrent.futures` and `as_completed` to process results as they become available."
   ]
  },
  {
   "cell_type": "markdown",
   "id": "18ebbedf-1d94-479f-8b88-ac093e06c125",
   "metadata": {},
   "source": [
    "```python\n",
    "import concurrent.futures\n",
    "\n",
    "def process_data(data):\n",
    "    # Perform CPU-bound computations on data\n",
    "    return processed_data\n",
    "\n",
    "def main():\n",
    "    data = [...]  # Large dataset\n",
    "    with concurrent.futures.ProcessPoolExecutor() as executor:\n",
    "        futures = [executor.submit(process_data, item) for item in data]\n",
    "        for future in concurrent.futures.as_completed(futures):\n",
    "            result = future.result()\n",
    "            # Process the result\n",
    "\n",
    "main()\n",
    "```"
   ]
  },
  {
   "cell_type": "markdown",
   "id": "c2618b52-f4c8-480f-8d6b-adb5d01e62c9",
   "metadata": {},
   "source": [
    "## 17. Using `asyncio` and `asyncpg` to perform asynchronous database operations."
   ]
  },
  {
   "cell_type": "markdown",
   "id": "2f128e6e-fce3-45fe-88d9-956dd7266b6d",
   "metadata": {},
   "source": [
    "```python\n",
    "import asyncio\n",
    "import asyncpg\n",
    "\n",
    "async def fetch_users():\n",
    "    conn = await asyncpg.connect(user=\"myuser\", password=\"mypassword\", database=\"mydb\", host=\"localhost\")\n",
    "    rows = await conn.fetch(\"SELECT * FROM users\")\n",
    "    await conn.close()\n",
    "    return rows\n",
    "\n",
    "async def main():\n",
    "    users = await fetch_users()\n",
    "    for user in users:\n",
    "        print(user)\n",
    "\n",
    "asyncio.run(main())\n",
    "```"
   ]
  },
  {
   "cell_type": "markdown",
   "id": "436fa0ad-03b2-4d54-b292-35e940df71c4",
   "metadata": {},
   "source": [
    "## 18. Using `asyncio` and `websockets` to create a WebSocket server and client."
   ]
  },
  {
   "cell_type": "markdown",
   "id": "60133089-5e98-4cef-b788-5d9603e5817a",
   "metadata": {},
   "source": [
    "```python\n",
    "import asyncio\n",
    "import websockets\n",
    "\n",
    "async def server(websocket, path):\n",
    "    while True:\n",
    "        message = await websocket.recv()\n",
    "        await websocket.send(f\"Received: {message}\")\n",
    "\n",
    "async def client():\n",
    "    async with websockets.connect(\"ws://localhost:8765\") as websocket:\n",
    "        await websocket.send(\"Hello, server!\")\n",
    "        response = await websocket.recv()\n",
    "        print(response)\n",
    "\n",
    "async def main():\n",
    "    server_task = asyncio.create_task(websockets.serve(server, \"localhost\", 8765))\n",
    "    client_task = asyncio.create_task(client())\n",
    "    await asyncio.gather(server_task, client_task)\n",
    "\n",
    "asyncio.run(main())\n",
    "```"
   ]
  },
  {
   "cell_type": "markdown",
   "id": "2a9fb810-d344-40a4-9891-f156d34b2e8d",
   "metadata": {},
   "source": [
    "## 19. Using `asyncio` and `aiomultiprocess` to achieve parallelism in asynchronous code."
   ]
  },
  {
   "cell_type": "markdown",
   "id": "6dce2239-9719-4dd9-8958-f512c6d88f0e",
   "metadata": {},
   "source": [
    "```python\n",
    "import asyncio\n",
    "from aiomultiprocess import Pool\n",
    "\n",
    "async def process_data(data):\n",
    "    # Perform CPU-bound computations on data\n",
    "    return processed_data\n",
    "\n",
    "async def main():\n",
    "    data = [...]  # Large dataset\n",
    "    async with Pool() as pool:\n",
    "        results = await pool.map(process_data, data)\n",
    "        for result in results:\n",
    "            # Process the results\n",
    "\n",
    "asyncio.run(main())\n",
    "```"
   ]
  },
  {
   "cell_type": "markdown",
   "id": "8599880d-3beb-4204-8bcf-003487814d6c",
   "metadata": {},
   "source": [
    "## 20. Using `concurrent.futures` and `ThreadPoolExecutor` with `Executor.map()` for parallel processing."
   ]
  },
  {
   "cell_type": "markdown",
   "id": "a18d55c2-2fb6-4c7d-8f6d-2b7fb70f7ab0",
   "metadata": {},
   "source": [
    "```python\n",
    "import concurrent.futures\n",
    "\n",
    "def process_data(data):\n",
    "    # Process data\n",
    "    return result\n",
    "\n",
    "def main():\n",
    "    data = [...]  # List of data items\n",
    "    with concurrent.futures.ThreadPoolExecutor() as executor:\n",
    "        results = executor.map(process_data, data)\n",
    "        for result in results:\n",
    "            # Process the result\n",
    "\n",
    "main()\n",
    "```"
   ]
  },
  {
   "cell_type": "code",
   "execution_count": null,
   "id": "a4113a04-9fe1-42d8-9191-4d2af095fbdc",
   "metadata": {},
   "outputs": [],
   "source": []
  }
 ],
 "metadata": {
  "kernelspec": {
   "display_name": "Python 3 (ipykernel)",
   "language": "python",
   "name": "python3"
  },
  "language_info": {
   "codemirror_mode": {
    "name": "ipython",
    "version": 3
   },
   "file_extension": ".py",
   "mimetype": "text/x-python",
   "name": "python",
   "nbconvert_exporter": "python",
   "pygments_lexer": "ipython3",
   "version": "3.10.9"
  }
 },
 "nbformat": 4,
 "nbformat_minor": 5
}
