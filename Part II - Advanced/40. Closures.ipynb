{
 "cells": [
  {
   "cell_type": "code",
   "execution_count": null,
   "id": "2307d22c-e982-4b74-ac74-43200cf46d76",
   "metadata": {},
   "outputs": [],
   "source": [
    "Generators\n",
    "List Comprehensions\n",
    "Lambda functions\n",
    "Multiple Function Arguments\n",
    "Regular Expressions\n",
    "Exception Handling\n",
    "Sets\n",
    "Serialization\n",
    "Partial functions\n",
    "Code Introspection\n",
    "Closures\n",
    "Decorators\n",
    "Map, Filter, Reduce\n",
    "\n",
    "\n",
    "Design patterns"
   ]
  }
 ],
 "metadata": {
  "kernelspec": {
   "display_name": "",
   "name": ""
  },
  "language_info": {
   "name": ""
  }
 },
 "nbformat": 4,
 "nbformat_minor": 5
}
