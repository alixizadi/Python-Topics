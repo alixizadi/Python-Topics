{
 "cells": [
  {
   "cell_type": "markdown",
   "id": "b3ad4472-8b64-4031-b24b-196e66cf3b1c",
   "metadata": {},
   "source": [
    "## Introduction to Closures"
   ]
  },
  {
   "cell_type": "markdown",
   "id": "c445912a-15c7-4d6c-90c8-5de5bf80864d",
   "metadata": {},
   "source": [
    "- Closures are an important concept in programming that allow functions to access variables from their enclosing lexical scope even after the outer function has finished executing.\n",
    "- In this section, we will explore the concept of closures, their benefits, and their use cases in Python and other programming languages."
   ]
  },
  {
   "cell_type": "markdown",
   "id": "739d28ba-83f4-4a53-948f-b939ca0b6092",
   "metadata": {},
   "source": [
    "### Understanding the Concept of Closures\n",
    "A closure is created when a nested function references a variable from its outer function. The inner function \"closes over\" the variable, preserving its state and allowing it to be accessed even when the outer function has completed its execution. This behavior is possible because the inner function retains a reference to the environment in which it was defined, including any variables it needs to access.\n",
    "\n",
    "Closures provide a way to create functions with \"private\" data that can be used as a form of data encapsulation. They enable the creation of functions that have access to variables that are not accessible from the global scope or other functions."
   ]
  },
  {
   "cell_type": "markdown",
   "id": "e4fec4da-109b-4e49-aee7-3707a3de7e5d",
   "metadata": {},
   "source": [
    "### Benefits and Use Cases of Closures\n",
    "Closures offer several benefits and can be useful in various scenarios:\n",
    "\n",
    "1. **Data encapsulation**: Closures allow you to encapsulate data within a function, providing a level of privacy and preventing direct access from outside.\n",
    "2. **Persistent state**: Closures enable functions to maintain state between invocations. The inner function can access and update variables that persist across multiple function calls.\n",
    "3. **Function factories**: Closures can be used to create specialized functions or function generators that are customized based on the values captured from the enclosing scope.\n",
    "4. **Callback functions**: Closures are commonly used as callback functions to maintain context and state information when handling asynchronous events or responding to user actions."
   ]
  },
  {
   "cell_type": "markdown",
   "id": "90124d6a-2550-4b94-a1bc-0f767bec80d6",
   "metadata": {},
   "source": [
    "### Closures in Python and Other Programming Languages\n",
    "Closures are supported in several programming languages, including Python, JavaScript, Ruby, and more. In Python, closures are created when a nested function references a variable from its enclosing function. The inner function captures the environment of the outer function, including any variables it needs to access.\n",
    "\n",
    "Python's support for closures allows for powerful and flexible coding patterns. Functions that return other functions, decorators, and callback functions can all leverage closures to encapsulate data and behavior effectively.\n"
   ]
  },
  {
   "cell_type": "markdown",
   "id": "1c8d7ab0-3344-4974-8d04-543c2f3b1ba4",
   "metadata": {},
   "source": [
    "## Creating Closures"
   ]
  },
  {
   "cell_type": "markdown",
   "id": "a8ea3393-d1ba-4767-956e-3d9241138c08",
   "metadata": {},
   "source": [
    "### Defining Nested Functions\n",
    "To create a closure, start by defining a nested function within another function. The nested function will serve as the inner function that references variables from its enclosing function."
   ]
  },
  {
   "cell_type": "code",
   "execution_count": 26,
   "id": "703b3e14-121c-4a89-8b02-dbb0bc8d351b",
   "metadata": {},
   "outputs": [
    {
     "name": "stdout",
     "output_type": "stream",
     "text": [
      "10\n"
     ]
    }
   ],
   "source": [
    "def outer_function():\n",
    "    # Outer function\n",
    "    x = 10\n",
    "    \n",
    "    def inner_function():\n",
    "        # Inner function\n",
    "        print(x)  # Accessing variable from outer function\n",
    "    \n",
    "    return inner_function  # Returning inner function as closure\n",
    "\n",
    "my_closure = outer_function()\n",
    "my_closure()"
   ]
  },
  {
   "cell_type": "markdown",
   "id": "0cfb3af1-553e-44f1-8194-3527485cf5a8",
   "metadata": {},
   "source": [
    "###  Accessing Variables from Outer Functions\n",
    "The inner function within the closure can access variables from its enclosing scope, even after the outer function has completed its execution. This is the key characteristic of closures.\n",
    "\n",
    "In the previous example, the `inner_function` can access the variable `x` from the outer function `outer_function`. This is possible because the inner function closes over the variable `x` and retains a reference to it."
   ]
  },
  {
   "cell_type": "markdown",
   "id": "5314090e-6186-4c12-9a0f-176b560cce6e",
   "metadata": {},
   "source": [
    "### Returning Inner Functions as Closures\n",
    "To utilize the closure, you need to return the inner function from the outer function. This allows you to store and use the inner function, along with its captured variables, outside the scope of the outer function.\n",
    "\n",
    "In the previous example, `inner_function` is returned from `outer_function` as a closure. This means that you can assign the returned function to a variable and invoke it later, preserving the captured state from the outer function.\n",
    "\n",
    "```python\n",
    "my_closure = outer_function()\n",
    "my_closure()  # Prints: 10\n",
    "```\n",
    "\n",
    "In the above code, `outer_function()` returns the `inner_function` as a closure, which is assigned to the variable `my_closure`. Later, when `my_closure()` is invoked, it accesses and prints the value of the captured variable `x` from the outer function.\n"
   ]
  },
  {
   "cell_type": "markdown",
   "id": "1fa25bd7-db29-4875-b22f-4389a1e915a2",
   "metadata": {},
   "source": [
    "## Working with Closures"
   ]
  },
  {
   "cell_type": "markdown",
   "id": "48506308-a450-4aac-900a-d688be016ddc",
   "metadata": {},
   "source": [
    "### Invoking and Calling Closures\n",
    "To invoke a closure, you simply call the inner function, just like any other function. The closure retains the captured state from the outer function and can use it during its execution."
   ]
  },
  {
   "cell_type": "code",
   "execution_count": 27,
   "id": "acedf917-b0c6-4d48-a5f5-62764c6f913e",
   "metadata": {},
   "outputs": [
    {
     "name": "stdout",
     "output_type": "stream",
     "text": [
      "10\n"
     ]
    }
   ],
   "source": [
    "def outer_function(x):\n",
    "    def inner_function():\n",
    "        print(x)  # Accessing variable from outer function\n",
    "    \n",
    "    return inner_function\n",
    "\n",
    "closure = outer_function(10)\n",
    "closure()  # Prints: 10\n"
   ]
  },
  {
   "cell_type": "markdown",
   "id": "6294d11a-5bcb-4b1e-89a6-d01c7da47435",
   "metadata": {},
   "source": [
    "### Capturing and Preserving Outer Function State\n",
    "Closures capture and preserve the state of the variables from their outer functions. This means that the captured state is retained even after the outer function has completed its execution."
   ]
  },
  {
   "cell_type": "code",
   "execution_count": 28,
   "id": "1f4f71a3-1b45-4985-854d-9d893299fc0d",
   "metadata": {},
   "outputs": [
    {
     "name": "stdout",
     "output_type": "stream",
     "text": [
      "10\n",
      "10\n"
     ]
    }
   ],
   "source": [
    "def outer_function():\n",
    "    x = 10\n",
    "    \n",
    "    def inner_function():\n",
    "        print(x)  # Accessing variable from outer function\n",
    "    \n",
    "    return inner_function\n",
    "\n",
    "closure = outer_function()\n",
    "closure()  # Prints: 10\n",
    "\n",
    "# Modifying outer function state\n",
    "x = 20\n",
    "closure()  # Prints: 10\n"
   ]
  },
  {
   "cell_type": "markdown",
   "id": "5533e264-cfd8-482d-b14f-b68593a69c53",
   "metadata": {},
   "source": [
    "###  Modifying Outer Function State from Closures\n",
    "While closures primarily capture and retain the state of the outer function, they can also modify the values of outer function variables by using the `nonlocal` keyword."
   ]
  },
  {
   "cell_type": "code",
   "execution_count": 29,
   "id": "1d619051-962a-449c-b7ab-fe6fd2a15849",
   "metadata": {},
   "outputs": [
    {
     "name": "stdout",
     "output_type": "stream",
     "text": [
      "15\n",
      "20\n"
     ]
    }
   ],
   "source": [
    "def outer_function():\n",
    "    x = 10\n",
    "    \n",
    "    def inner_function():\n",
    "        nonlocal x\n",
    "        x += 5\n",
    "        print(x)  # Modifying and printing variable from outer function\n",
    "    \n",
    "    return inner_function\n",
    "\n",
    "closure = outer_function()\n",
    "closure()  # Prints: 15\n",
    "closure()  # Prints: 20\n"
   ]
  },
  {
   "cell_type": "markdown",
   "id": "44558bb5-edcc-44f1-87a5-8d61990e3f80",
   "metadata": {},
   "source": [
    "## Practical Examples of Closures"
   ]
  },
  {
   "cell_type": "markdown",
   "id": "c2a2db0e-a38a-4642-9506-a978ad2be41c",
   "metadata": {},
   "source": [
    "Closures can be applied in various practical scenarios to enhance the functionality and flexibility of your code. In this section, we will explore some practical examples of using closures."
   ]
  },
  {
   "cell_type": "markdown",
   "id": "3a5a918d-c35f-4464-8280-d62bb70b04c9",
   "metadata": {},
   "source": [
    "### Creating Counter Functions\n",
    "Closures can be used to create counter functions that maintain a persistent count across multiple function invocations. Here's an example:"
   ]
  },
  {
   "cell_type": "code",
   "execution_count": 30,
   "id": "636082d7-0325-4307-b18e-a0a77180b01b",
   "metadata": {},
   "outputs": [
    {
     "name": "stdout",
     "output_type": "stream",
     "text": [
      "1\n",
      "2\n",
      "1\n"
     ]
    }
   ],
   "source": [
    "def counter():\n",
    "    count = 0\n",
    "    \n",
    "    def increment():\n",
    "        nonlocal count\n",
    "        count += 1\n",
    "        return count\n",
    "    \n",
    "    return increment\n",
    "\n",
    "# Create counter function\n",
    "counter1 = counter()\n",
    "print(counter1())  # Output: 1\n",
    "print(counter1())  # Output: 2\n",
    "\n",
    "counter2 = counter()\n",
    "print(counter2())  # Output: 1"
   ]
  },
  {
   "cell_type": "markdown",
   "id": "5c4591c0-8af0-4ffd-a281-94fc9b264fda",
   "metadata": {},
   "source": [
    "### Implementing Memoization with Closures\n",
    "Memoization is a technique used to optimize functions by caching their results and avoiding redundant computations. Closures can be leveraged to implement memoization. Here's an example:"
   ]
  },
  {
   "cell_type": "code",
   "execution_count": 31,
   "id": "3001b1e0-2cf1-458a-8761-51137be40e0a",
   "metadata": {},
   "outputs": [
    {
     "name": "stdout",
     "output_type": "stream",
     "text": [
      "calculating 10\n",
      "calculating 9\n",
      "calculating 8\n",
      "calculating 7\n",
      "calculating 6\n",
      "calculating 5\n",
      "calculating 4\n",
      "calculating 3\n",
      "calculating 2\n",
      "calculating 1\n",
      "calculating 0\n",
      "reading cache 1\n",
      "reading cache 2\n",
      "reading cache 3\n",
      "reading cache 4\n",
      "reading cache 5\n",
      "reading cache 6\n",
      "reading cache 7\n",
      "reading cache 8\n",
      "55\n",
      "reading cache 5\n",
      "5\n"
     ]
    }
   ],
   "source": [
    "def memoize(func):\n",
    "    cache = {}\n",
    "    \n",
    "    def wrapper(n):\n",
    "        if n not in cache:\n",
    "            print(f'calculating {n}')\n",
    "            cache[n] = func(n)\n",
    "        else:\n",
    "            print(f'reading cache {n}')\n",
    "        return cache[n]\n",
    "    \n",
    "    return wrapper\n",
    "\n",
    "@memoize\n",
    "def fibonacci(n):\n",
    "    if n <= 1:\n",
    "        return n\n",
    "    return fibonacci(n-1) + fibonacci(n-2)\n",
    "\n",
    "print(fibonacci(10))  # Output: 55\n",
    "print(fibonacci(5))  # Output: 5"
   ]
  },
  {
   "cell_type": "markdown",
   "id": "fb31c939-5f20-42e7-b09e-8b2d43221175",
   "metadata": {},
   "source": [
    "In the above example, the `memoize` function takes a function `func` as an argument and returns a closure `wrapper`. The `wrapper` caches the results of `func` in the `cache` dictionary. When `wrapper` is invoked with an argument `n`, it first checks if the result for that `n` is already present in the cache. If not, it calls `func(n)` and stores the result in the cache. Subsequent invocations with the same `n` retrieve the result from the cache, avoiding redundant computations."
   ]
  },
  {
   "cell_type": "markdown",
   "id": "1da0bef6-a2c0-432e-9b38-8e3b11c17e60",
   "metadata": {},
   "source": [
    "### Implementing Decorators using Closures\n",
    "Closures can be utilized to implement decorators, which are a way to modify the behavior of functions or classes. Decorators allow you to add functionality to existing functions or classes without modifying their source code. Here's an example:"
   ]
  },
  {
   "cell_type": "code",
   "execution_count": 32,
   "id": "cf3529fd-0f35-48e5-987d-7e5d105d2da0",
   "metadata": {},
   "outputs": [
    {
     "name": "stdout",
     "output_type": "stream",
     "text": [
      "Hello, JOHN!\n"
     ]
    }
   ],
   "source": [
    "def uppercase_decorator(func):\n",
    "    def wrapper(text):\n",
    "        return func(text.upper())\n",
    "    \n",
    "    return wrapper\n",
    "\n",
    "@uppercase_decorator\n",
    "def greet(name):\n",
    "    return f\"Hello, {name}!\"\n",
    "\n",
    "print(greet(\"John\"))  # Output: Hello, JOHN!"
   ]
  },
  {
   "cell_type": "markdown",
   "id": "51f95285-8cd0-4b18-b8de-bebab1ad6a92",
   "metadata": {},
   "source": [
    "In the above example, the `uppercase_decorator` takes a function `func` as an argument and returns a closure `wrapper`. The `wrapper` modifies the input `text` by converting it to uppercase before passing it to `func`. The `@uppercase_decorator` decorator is applied to the `greet` function, which causes `greet` to be replaced with the decorated version returned by the decorator. As a result, when `greet` is called, the input name is automatically converted to uppercase before being processed.\n"
   ]
  },
  {
   "cell_type": "markdown",
   "id": "2724e493-120c-45ae-b7c9-76113b431dd1",
   "metadata": {},
   "source": [
    "## Closures and Variable Scoping"
   ]
  },
  {
   "cell_type": "markdown",
   "id": "96459571-80ab-4931-9219-b3d53bab5e75",
   "metadata": {},
   "source": [
    "Closures in Python have an interesting relationship with variable scoping. Understanding how variables are scoped in closures is crucial for effectively working with them. In this section, we'll explore different aspects of variable scoping in closures."
   ]
  },
  {
   "cell_type": "markdown",
   "id": "0128c7fa-c440-491a-9950-7d8c741648c2",
   "metadata": {},
   "source": [
    "### Understanding Variable Scoping in Closures\n",
    "Variables in closures have a \"closed-over\" behavior, which means they are accessible within the inner function even after the outer function has completed execution. This allows closures to retain and access the values of variables from their enclosing scopes."
   ]
  },
  {
   "cell_type": "code",
   "execution_count": 33,
   "id": "fb1d67ca-de80-464a-9ec2-3c4eba839f2c",
   "metadata": {},
   "outputs": [
    {
     "name": "stdout",
     "output_type": "stream",
     "text": [
      "5\n"
     ]
    }
   ],
   "source": [
    "def outer_function(x):\n",
    "    def inner_function():\n",
    "        print(x)\n",
    "    \n",
    "    return inner_function\n",
    "\n",
    "closure = outer_function(5)\n",
    "closure()  # Output: 5"
   ]
  },
  {
   "cell_type": "markdown",
   "id": "8fd6974a-8a23-43e2-8bb0-4b1703b40d02",
   "metadata": {},
   "source": [
    "### The Nonlocal Keyword\n",
    "By default, closures can access variables from the enclosing scope but cannot modify them. If you need to modify a variable from the enclosing scope within a closure, you can use the `nonlocal` keyword. The `nonlocal` keyword allows you to indicate that a variable is nonlocal to the inner function, enabling modification."
   ]
  },
  {
   "cell_type": "code",
   "execution_count": 34,
   "id": "ac656274-d7fa-462e-966b-18659e5e9006",
   "metadata": {},
   "outputs": [
    {
     "name": "stdout",
     "output_type": "stream",
     "text": [
      "11\n",
      "12\n"
     ]
    }
   ],
   "source": [
    "def outer_function():\n",
    "    x = 10\n",
    "    \n",
    "    def inner_function():\n",
    "        nonlocal x\n",
    "        x += 1\n",
    "        print(x)\n",
    "    \n",
    "    return inner_function\n",
    "\n",
    "closure = outer_function()\n",
    "closure()  # Output: 11\n",
    "closure()  # Output: 12"
   ]
  },
  {
   "cell_type": "markdown",
   "id": "0ce1df80-5e27-45f8-8102-fce0fd742786",
   "metadata": {},
   "source": [
    "### Handling Mutable and Immutable Variables in Closures\n",
    "Closures behave differently when dealing with mutable and immutable variables. Immutable variables, such as numbers or strings, are \"closed-over\" by value, meaning that their values are copied when the closure is created. However, mutable variables, such as lists or dictionaries, are \"closed-over\" by reference, meaning that the closure shares the same mutable object as the enclosing scope."
   ]
  },
  {
   "cell_type": "code",
   "execution_count": 35,
   "id": "935f35c6-0547-4d4a-aa71-a896f30a65e2",
   "metadata": {},
   "outputs": [
    {
     "name": "stdout",
     "output_type": "stream",
     "text": [
      "[1, 2, 3, 4]\n",
      "[1, 2, 3, 4, 4]\n"
     ]
    }
   ],
   "source": [
    "def outer_function():\n",
    "    x = [1, 2, 3]\n",
    "    \n",
    "    def inner_function():\n",
    "        x.append(4)\n",
    "        print(x)\n",
    "    \n",
    "    return inner_function\n",
    "\n",
    "closure = outer_function()\n",
    "closure()  # Output: [1, 2, 3, 4]\n",
    "closure()  # Output: [1, 2, 3, 4, 4]"
   ]
  },
  {
   "cell_type": "markdown",
   "id": "9496f5d5-9e68-4586-abca-b73c72741feb",
   "metadata": {},
   "source": [
    "In the above example, the `x` variable is a mutable list. The closure can modify the list by appending elements to it, and the changes are reflected each time the closure is invoked. This is because the closure and the enclosing scope share the same list object."
   ]
  },
  {
   "cell_type": "markdown",
   "id": "e7944288-b390-49ae-9c4e-e77b9ad60b55",
   "metadata": {},
   "source": [
    "## Closures and Function Factories"
   ]
  },
  {
   "cell_type": "markdown",
   "id": "b9335536-ab4f-468f-b230-39f95b0175b0",
   "metadata": {},
   "source": [
    "Closures can be used to create function factories, which are functions that generate and return customized functions. By using closures, we can create generic factories that produce specialized functions with specific behaviors. In this section, we'll explore how to create function factories using closures."
   ]
  },
  {
   "cell_type": "markdown",
   "id": "0cb874a9-b329-4471-a1b4-42a327134c4d",
   "metadata": {},
   "source": [
    "### Creating Generic Function Factories\n",
    "A function factory is a higher-order function that takes some parameters and returns a customized function based on those parameters. Closures allow us to create generic factories that can generate various specialized functions. Here's an example:"
   ]
  },
  {
   "cell_type": "code",
   "execution_count": 36,
   "id": "217952e9-528f-4465-a32a-892a528e3be8",
   "metadata": {},
   "outputs": [
    {
     "name": "stdout",
     "output_type": "stream",
     "text": [
      "10\n",
      "15\n"
     ]
    }
   ],
   "source": [
    "def multiplier_factory(n):\n",
    "    def multiplier(x):\n",
    "        return x * n\n",
    "    \n",
    "    return multiplier\n",
    "\n",
    "multiply_by_2 = multiplier_factory(2)\n",
    "multiply_by_3 = multiplier_factory(3)\n",
    "\n",
    "print(multiply_by_2(5))  # Output: 10\n",
    "print(multiply_by_3(5))  # Output: 15"
   ]
  },
  {
   "cell_type": "markdown",
   "id": "d99a1494-e978-467e-b566-a488f882b3e9",
   "metadata": {},
   "source": [
    "In the above example, `multiplier_factory` is a function factory that takes a parameter `n` and returns a closure `multiplier`. The closure `multiplier` multiplies its input by `n`. By calling `multiplier_factory` with different parameters, we can create specialized functions that multiply their input by different factors."
   ]
  },
  {
   "cell_type": "markdown",
   "id": "9ae7fe38-1802-4881-882c-487082df58bf",
   "metadata": {},
   "source": [
    "### Customizing Function Behavior with Closures\n",
    "Closures can be used to customize the behavior of a function by capturing specific values from the enclosing scope. This allows us to create functions with predefined behavior without explicitly passing arguments. Here's an example:"
   ]
  },
  {
   "cell_type": "code",
   "execution_count": 37,
   "id": "a802ae32-b896-4eaa-a4c2-05cf36527205",
   "metadata": {},
   "outputs": [
    {
     "name": "stdout",
     "output_type": "stream",
     "text": [
      "Hello Alice\n",
      "Hello Bob\n",
      "Goodbye Alice\n",
      "Goodbye Bob\n"
     ]
    }
   ],
   "source": [
    "def greeting_factory(message):\n",
    "    def greet(name):\n",
    "        print(message, name)\n",
    "    \n",
    "    return greet\n",
    "\n",
    "say_hello = greeting_factory(\"Hello\")\n",
    "say_goodbye = greeting_factory(\"Goodbye\")\n",
    "\n",
    "say_hello(\"Alice\")     # Output: Hello Alice\n",
    "say_hello(\"Bob\")       # Output: Hello Bob\n",
    "say_goodbye(\"Alice\")   # Output: Goodbye Alice\n",
    "say_goodbye(\"Bob\")     # Output: Goodbye Bob"
   ]
  },
  {
   "cell_type": "markdown",
   "id": "eff65487-3a45-41de-b157-cce17f4f88ee",
   "metadata": {},
   "source": [
    "In the above example, `greeting_factory` is a function factory that takes a `message` parameter and returns a closure `greet`. The closure `greet` prints a message followed by a name. By calling `greeting_factory` with different messages, we can create specialized greeting functions with different predefined messages.\n"
   ]
  },
  {
   "cell_type": "markdown",
   "id": "21c7f7c7-9f04-4fa5-a90b-8e80c31701b4",
   "metadata": {},
   "source": [
    "## Closures and Callback Functions"
   ]
  },
  {
   "cell_type": "markdown",
   "id": "d410ff71-4c04-4be9-a313-73ef6a5a8117",
   "metadata": {},
   "source": [
    "Closures can be effectively used as callback functions, which are functions that are passed as arguments to other functions and are called at a later point in time. The ability of closures to capture the state of the enclosing scope makes them well-suited for callback functionality. In this section, we'll explore how closures can be used as callback functions."
   ]
  },
  {
   "cell_type": "markdown",
   "id": "46bab024-b376-4ffa-9b14-b154fc139071",
   "metadata": {},
   "source": [
    "### Using Closures as Callback Functions\n",
    "Closures can be defined inline and passed as callback functions to other functions. This allows us to encapsulate functionality and data within the closure while still being able to invoke it later as a callback. Here's an example:"
   ]
  },
  {
   "cell_type": "code",
   "execution_count": 38,
   "id": "8c104e22-285a-4023-ab7c-9fd65412d21a",
   "metadata": {},
   "outputs": [
    {
     "name": "stdout",
     "output_type": "stream",
     "text": [
      "[1, 4, 9, 16, 25]\n",
      "[1, 8, 27, 64, 125]\n"
     ]
    }
   ],
   "source": [
    "def perform_operation(numbers, operation):\n",
    "    results = []\n",
    "    for num in numbers:\n",
    "        result = operation(num)\n",
    "        results.append(result)\n",
    "    return results\n",
    "\n",
    "def square(x):\n",
    "    return x ** 2\n",
    "\n",
    "def cube(x):\n",
    "    return x ** 3\n",
    "\n",
    "numbers = [1, 2, 3, 4, 5]\n",
    "\n",
    "squared_numbers = perform_operation(numbers, square)\n",
    "cubed_numbers = perform_operation(numbers, cube)\n",
    "\n",
    "print(squared_numbers)  # Output: [1, 4, 9, 16, 25]\n",
    "print(cubed_numbers)    # Output: [1, 8, 27, 64, 125]"
   ]
  },
  {
   "cell_type": "markdown",
   "id": "5b210017-9bbc-49b9-b747-acf350e19875",
   "metadata": {},
   "source": [
    "In the above example, `perform_operation` is a function that takes a list of numbers and a callback function `operation`. It applies the `operation` function to each number in the list and returns a list of the results. The `square` and `cube` functions are defined separately and passed as callback functions to `perform_operation`. This allows us to compute squared and cubed values of the numbers by simply changing the callback function."
   ]
  },
  {
   "cell_type": "markdown",
   "id": "1d1bf542-2009-47f1-b513-077f32977bf8",
   "metadata": {},
   "source": [
    "### Event Handling with Closures\n",
    "Closures are commonly used for event handling in graphical user interfaces (GUIs) and other event-driven systems. The closure captures the necessary data and behavior and can be invoked when the associated event occurs. Here's an example:"
   ]
  },
  {
   "cell_type": "code",
   "execution_count": 39,
   "id": "6c493b9f-4896-4055-8df6-e2e3dff7e1c7",
   "metadata": {},
   "outputs": [
    {
     "name": "stdout",
     "output_type": "stream",
     "text": [
      "Button 'Button 1' clicked!\n",
      "Button 'Button 2' clicked!\n"
     ]
    }
   ],
   "source": [
    "def create_button_handler(button_label):\n",
    "    def handle_click():\n",
    "        print(f\"Button '{button_label}' clicked!\")\n",
    "    \n",
    "    return handle_click\n",
    "\n",
    "button1 = create_button_handler(\"Button 1\")\n",
    "button2 = create_button_handler(\"Button 2\")\n",
    "\n",
    "# Simulating button clicks\n",
    "button1()  # Output: Button 'Button 1' clicked!\n",
    "button2()  # Output: Button 'Button 2' clicked!"
   ]
  },
  {
   "cell_type": "markdown",
   "id": "3419af7f-e042-4dd4-863a-1f559ad0f614",
   "metadata": {},
   "source": [
    "In the above example, `create_button_handler` is a function that takes a `button_label` parameter and returns a closure `handle_click`. The closure `handle_click` prints a message indicating which button was clicked. By calling `create_button_handler` with different labels, we can create separate event handlers for different buttons.\n",
    "\n",
    "Closures provide a convenient and flexible way to define callback functions and handle events in various programming contexts. Their ability to capture the state of the enclosing scope makes them particularly useful for encapsulating functionality and data within callback functions."
   ]
  },
  {
   "cell_type": "markdown",
   "id": "1ce90720-4f66-439c-94fa-afa6031075d4",
   "metadata": {},
   "source": [
    "## Advanced Closure Techniques"
   ]
  },
  {
   "cell_type": "markdown",
   "id": "36be3bc8-23e4-46a7-a548-55800fab7e5e",
   "metadata": {},
   "source": [
    "Closures can be used for more advanced techniques that enhance the functionality and flexibility of functions. In this section, we'll explore three advanced closure techniques: currying functions, partial function application, and dynamic closures with higher-order functions."
   ]
  },
  {
   "cell_type": "markdown",
   "id": "8d6e3da1-288d-4797-b30a-56a23af050b9",
   "metadata": {},
   "source": [
    "### Currying Functions with Closures\n",
    "Currying is a technique where a function with multiple arguments is transformed into a sequence of functions, each taking a single argument. Closures can be used to implement currying in Python. Here's an example:"
   ]
  },
  {
   "cell_type": "code",
   "execution_count": 40,
   "id": "c24d70fd-7941-4aed-8d43-c3b91cf78dcd",
   "metadata": {},
   "outputs": [
    {
     "name": "stdout",
     "output_type": "stream",
     "text": [
      "10\n",
      "15\n"
     ]
    }
   ],
   "source": [
    "def multiply(x):\n",
    "    def multiplier(y):\n",
    "        return x * y\n",
    "    return multiplier\n",
    "\n",
    "double = multiply(2)\n",
    "triple = multiply(3)\n",
    "\n",
    "print(double(5))  # Output: 10\n",
    "print(triple(5))  # Output: 15"
   ]
  },
  {
   "cell_type": "markdown",
   "id": "77837fa0-9bec-4e21-8272-b3aebcbdeba2",
   "metadata": {},
   "source": [
    "In the above example, the `multiply` function is curried using closures. The `multiply` function takes an argument `x` and returns a closure `multiplier`. The closure `multiplier` takes an argument `y` and returns the product of `x` and `y`. By calling `multiply` with different values, we can create specialized functions that multiply a given number by a specific factor."
   ]
  },
  {
   "cell_type": "markdown",
   "id": "6292b9d7-3dde-4235-b638-1b78edc0559e",
   "metadata": {},
   "source": [
    "### Partial Function Application with Closures\n",
    "Partial function application is a technique where a function is called with some of its arguments, and it returns a new function that takes the remaining arguments. Closures can be used to implement partial function application in Python. Here's an example:"
   ]
  },
  {
   "cell_type": "code",
   "execution_count": 41,
   "id": "25292941-d5b4-48d6-8a14-13436d5a7543",
   "metadata": {},
   "outputs": [
    {
     "name": "stdout",
     "output_type": "stream",
     "text": [
      "81\n"
     ]
    }
   ],
   "source": [
    "def power(e):\n",
    "    \n",
    "    exponent = e\n",
    "    \n",
    "    def calc(b):\n",
    "        return b ** exponent\n",
    "    \n",
    "    return calc\n",
    "\n",
    "square = power(4)\n",
    "\n",
    "print(square(3))"
   ]
  },
  {
   "cell_type": "markdown",
   "id": "6f94eeaa-be2c-4c9e-a41d-9aa187462d81",
   "metadata": {},
   "source": [
    "In the above example, the `power` function is called with arguments `2` and `2`, which returns a closure `square`. The closure `square` takes a single argument `3` and returns the square of `3`. By providing some of the arguments upfront, we can create specialized functions that perform a specific operation with the remaining arguments."
   ]
  },
  {
   "cell_type": "markdown",
   "id": "e315ecf5-66a1-405e-9bbf-d56ea28d5fe4",
   "metadata": {},
   "source": [
    "### Dynamic Closures with Higher-Order Functions\n",
    "Higher-order functions are functions that operate on other functions, either by taking them as arguments or by returning them as results. Closures can be dynamically created within higher-order functions to encapsulate behavior and data. Here's an example:"
   ]
  },
  {
   "cell_type": "code",
   "execution_count": 42,
   "id": "fedb3672-9bb8-4783-838e-dc6b6a917272",
   "metadata": {},
   "outputs": [
    {
     "name": "stdout",
     "output_type": "stream",
     "text": [
      "[2, 4, 6, 8, 10]\n"
     ]
    }
   ],
   "source": [
    "def generate_multiplier(factor):\n",
    "    def multiplier(number):\n",
    "        return factor * number\n",
    "    return multiplier\n",
    "\n",
    "def apply_operation(numbers, operation):\n",
    "    result = []\n",
    "    for number in numbers:\n",
    "        result.append(operation(number))\n",
    "    return result\n",
    "\n",
    "doubler = generate_multiplier(2)\n",
    "numbers = [1, 2, 3, 4, 5]\n",
    "doubled_numbers = apply_operation(numbers, doubler)\n",
    "\n",
    "print(doubled_numbers)  # Output: [2, 4, 6, 8, 10]"
   ]
  },
  {
   "cell_type": "markdown",
   "id": "fe019b1c-6ab5-4f42-bc28-90189151eeb5",
   "metadata": {},
   "source": [
    "In the above example, the `generate_multiplier` function returns a closure `multiplier` that multiplies a given number by the provided `factor`. The `apply_operation` function takes a list of numbers and an operation as arguments and applies the operation to each number in the list. By dynamically creating closures within the `generate_multiplier` function, we can generate different multiplication functions to be applied to the numbers.\n",
    "\n",
    "Advanced closure techniques like currying, partial function application, and dynamic closures with higher-order functions enhance the flexibility and expressiveness of functions in Python. They allow for the creation of specialized functions and enable dynamic behavior based on the enclosing scope."
   ]
  },
  {
   "cell_type": "markdown",
   "id": "d4be7b23-8d5b-4dcf-b494-4ce7c6f64de4",
   "metadata": {},
   "source": [
    "## Common Pitfalls and Best Practices"
   ]
  },
  {
   "cell_type": "markdown",
   "id": "52a28a1b-7c2d-4fd8-b6b5-29017a545d57",
   "metadata": {},
   "source": [
    "Closures can be powerful tools in programming, but they also come with certain pitfalls and considerations. In this section, we'll explore some common pitfalls when working with closures and discuss best practices to avoid them."
   ]
  },
  {
   "cell_type": "markdown",
   "id": "3d9ca8b8-0145-40ef-a407-442441c09094",
   "metadata": {},
   "source": [
    "### Handling Variable Lifetime and Garbage Collection\n",
    "One common pitfall is related to variable lifetime and garbage collection. Closures hold references to variables from their enclosing scope, which can lead to unexpected behavior if not handled carefully. It's important to understand the lifetime of variables and ensure that closures do not retain references longer than necessary. This can be achieved by releasing references explicitly or using weak references when appropriate."
   ]
  },
  {
   "cell_type": "markdown",
   "id": "d5340f61-18f3-48b1-8602-dcea7f633492",
   "metadata": {},
   "source": [
    "### Avoiding Unintended Side Effects in Closures\n",
    "Closures that modify variables from their enclosing scope can introduce unintended side effects, especially when used in concurrent or multithreaded environments. It's important to be aware of the shared state and potential race conditions. To avoid this pitfall, consider using immutable data or synchronization techniques to ensure thread safety and prevent unintended modifications."
   ]
  },
  {
   "cell_type": "markdown",
   "id": "502d232c-33ad-4959-92d2-7a2b4d05def7",
   "metadata": {},
   "source": [
    "### Optimizing Closure Performance\n",
    "Closures can introduce some overhead due to the additional function calls and memory allocations. When working with performance-sensitive code, it's important to optimize closures for better performance. This can be achieved by minimizing unnecessary function calls, reducing the number of closures used, or using alternative approaches if closures are not the most efficient solution for the problem."
   ]
  },
  {
   "cell_type": "markdown",
   "id": "5fb4d523-3d6c-412e-98f7-edae2505c527",
   "metadata": {},
   "source": [
    "### Best Practices\n",
    "To work effectively with closures, consider the following best practices:\n",
    "\n",
    "1. Keep closures simple and focused: Avoid complex nested closures that are hard to understand and maintain. Keep closures small and focused on a specific task.\n",
    "2. Document closure behavior: Clearly document the purpose, inputs, and outputs of closures to improve code readability and maintainability.\n",
    "3. Test closures thoroughly: Write comprehensive unit tests for closures to ensure their correctness and handle edge cases.\n",
    "4. Use closures judiciously: Consider whether closures are the best solution for the problem at hand. In some cases, alternative approaches such as object-oriented design or higher-order functions may provide better solutions.\n",
    "\n",
    "By following these best practices and being mindful of the potential pitfalls, you can harness the power of closures effectively and avoid common issues. Closures can greatly enhance the functionality and flexibility of your code when used appropriately and with care."
   ]
  },
  {
   "cell_type": "markdown",
   "id": "490c6956-1973-4130-9173-8860c114f3a6",
   "metadata": {},
   "source": [
    "## Closure Alternatives and Comparisons"
   ]
  },
  {
   "cell_type": "markdown",
   "id": "81b75ac0-9dd4-4658-8268-696a55f291a3",
   "metadata": {},
   "source": [
    "While closures are a powerful feature in many programming languages, including Python, there are alternative techniques that can achieve similar results or address specific use cases. In this section, we'll explore some alternatives to closures and compare them to help you understand when to choose one over the other."
   ]
  },
  {
   "cell_type": "markdown",
   "id": "08d1b1d7-859a-4e2d-90a9-899eee99376e",
   "metadata": {},
   "source": [
    "### Object-Oriented Programming (OOP)\n",
    "In object-oriented programming, encapsulation allows you to bundle data and behavior together using classes and objects. Instead of relying on closures, you can create classes that hold state as instance variables and define methods to encapsulate behavior. This approach is particularly useful for complex scenarios where you need to maintain a larger state or have multiple interacting components."
   ]
  },
  {
   "cell_type": "markdown",
   "id": "8ed33446-2fbb-4402-9832-b7a559f35fd2",
   "metadata": {},
   "source": [
    "### Higher-Order Functions\n",
    "Higher-order functions are functions that can take other functions as arguments or return functions as results. Instead of using closures to capture state, you can pass arguments to functions and return new functions that carry the required state. This approach provides flexibility and allows for dynamic composition of functions. Higher-order functions are often used in functional programming paradigms."
   ]
  },
  {
   "cell_type": "markdown",
   "id": "6b088e01-6e2b-47c6-89ef-90b5875f9b6b",
   "metadata": {},
   "source": [
    "### Decorators\n",
    "Decorators are a special type of higher-order function that wrap other functions to modify their behavior. Decorators can be used to add functionality to functions, such as logging, caching, or access control. They can be an alternative to closures when you need to modify the behavior of a function dynamically."
   ]
  },
  {
   "cell_type": "markdown",
   "id": "b17e370f-cfcf-4a4d-9f58-a7b164bd3f09",
   "metadata": {},
   "source": [
    "### Context Managers\n",
    "Context managers provide a way to manage resources and control their lifecycle. They are used with the `with` statement and ensure that resources are properly acquired and released. Context managers can be implemented as classes using the `__enter__` and `__exit__` methods. They are an alternative to closures when you need to control the context in which certain operations are performed."
   ]
  },
  {
   "cell_type": "markdown",
   "id": "f3c62e87-27a8-44c7-946b-7e9b01b5b0a7",
   "metadata": {},
   "source": [
    "### Global or Module-Level State\n",
    "In some cases, when you need to maintain shared state across multiple functions or modules, you can use global or module-level variables instead of closures. This approach provides a centralized location for storing and accessing shared state. However, it should be used with caution to avoid potential issues with variable visibility and unintended modifications.\n",
    "\n",
    "When choosing between closures and alternative techniques, consider the complexity of your problem, the level of encapsulation required, and the design patterns that best fit your use case. Closures excel in scenarios where you need to encapsulate state along with behavior, whereas alternatives like OOP or higher-order functions may be more suitable for managing complex systems or providing dynamic behavior.\n",
    "\n",
    "Remember that there is no one-size-fits-all solution, and the choice between closures and alternative techniques depends on the specific requirements and constraints of your project."
   ]
  },
  {
   "cell_type": "markdown",
   "id": "09542076-f233-4d87-ae31-339463a8c657",
   "metadata": {},
   "source": [
    "## Closure Use Cases in Real-World Scenarios"
   ]
  },
  {
   "cell_type": "markdown",
   "id": "7c25872a-e3a2-40ec-809e-df1c4d337f0f",
   "metadata": {},
   "source": [
    "Closures are a powerful feature that can be applied in various real-world scenarios across different domains. In this section, we'll explore some specific use cases where closures are commonly employed."
   ]
  },
  {
   "cell_type": "markdown",
   "id": "e4da8721-3dab-4ceb-b5c5-8653134262f8",
   "metadata": {},
   "source": [
    "### Using Closures in GUI Applications\n",
    "Graphical User Interface (GUI) applications often involve handling user interactions and managing application state. Closures can be utilized to capture the state of a particular component or widget and associate it with event handlers. This allows the event handlers to access and modify the relevant state, providing a clean and encapsulated approach to GUI development.\n",
    "\n",
    "For example, in a button click event handler, a closure can be used to store the state of a form or a specific control. The closure can then access and manipulate the state within the event handler function, providing a convenient way to manage the GUI application's behavior."
   ]
  },
  {
   "cell_type": "markdown",
   "id": "5de1bb72-2465-47e4-a094-514a93431485",
   "metadata": {},
   "source": [
    "### Applying Closures in Web Development\n",
    "In web development, closures can be used in various scenarios, particularly in client-side JavaScript programming. Closures can be employed to encapsulate data and behavior, enabling modular and reusable code.\n",
    "\n",
    "One common use case is in asynchronous programming, where closures can be utilized to capture the state of variables within asynchronous callbacks. This allows the callbacks to access and operate on the captured state, even when they are invoked at a later time. Closures can help avoid common pitfalls like variable scoping issues in asynchronous code.\n",
    "\n",
    "Additionally, closures can be used in JavaScript frameworks and libraries to implement features like data binding, event handling, and component-based architectures. They provide a way to encapsulate data and behavior within components, enabling modular and reusable code structures."
   ]
  },
  {
   "cell_type": "markdown",
   "id": "31eda045-1270-43d3-8a3e-641b6e7467e6",
   "metadata": {},
   "source": [
    "### Closures in Functional Programming Paradigm\n",
    "Closures are closely related to the functional programming paradigm, which emphasizes immutability and the use of pure functions. In functional programming, closures can be used to create higher-order functions, implement currying and partial application, and enable function composition.\n",
    "\n",
    "Higher-order functions, which take other functions as arguments or return functions as results, can be implemented using closures to capture the state of variables and provide a clean and reusable abstraction.\n",
    "\n",
    "Currying and partial application involve creating new functions by fixing a certain number of arguments of a function. Closures can be used to capture the fixed arguments and return a new function that expects the remaining arguments. This technique allows for more flexible and modular function composition.\n",
    "\n",
    "Closures play a fundamental role in enabling the functional programming paradigm and can be leveraged to write expressive and concise code in functional programming languages.\n",
    "\n",
    "In conclusion, closures have diverse applications in real-world scenarios, including GUI applications, web development, and functional programming. By capturing and encapsulating state within functions, closures enable modular and reusable code structures, improve code organization, and facilitate the implementation of complex features and behaviors."
   ]
  },
  {
   "cell_type": "code",
   "execution_count": null,
   "id": "ea14d194-ae9a-457a-95e5-a68b7412b345",
   "metadata": {},
   "outputs": [],
   "source": []
  }
 ],
 "metadata": {
  "kernelspec": {
   "display_name": "Python 3 (ipykernel)",
   "language": "python",
   "name": "python3"
  },
  "language_info": {
   "codemirror_mode": {
    "name": "ipython",
    "version": 3
   },
   "file_extension": ".py",
   "mimetype": "text/x-python",
   "name": "python",
   "nbconvert_exporter": "python",
   "pygments_lexer": "ipython3",
   "version": "3.9.7"
  }
 },
 "nbformat": 4,
 "nbformat_minor": 5
}
