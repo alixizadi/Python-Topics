{
 "cells": [
  {
   "cell_type": "markdown",
   "id": "014164ee-b007-4877-bafd-74a145121367",
   "metadata": {},
   "source": [
    "## Introduction to Decorators:\n",
    "- Decorators are a powerful feature in Python that allow you to modify or enhance the behavior of functions or classes without changing their source code.\n",
    "- Decorators are implemented using functions or classes that wrap the target function or class, providing additional functionality before, after, or around the original code execution.\n",
    "- Decorators use the `@` symbol followed by the decorator name, placed above the function or class declaration, to apply the decorator to the target object.\n",
    "- Decorators are a form of metaprogramming and can be used for various purposes such as logging, authentication, performance optimization, input validation, and more.\n",
    "- Decorators can be chained together by applying multiple decorators to a single function or class, allowing for modular and reusable code."
   ]
  },
  {
   "cell_type": "markdown",
   "id": "efcec332-b870-479d-b5f3-7e0690d95735",
   "metadata": {},
   "source": [
    "## Key Points:\n",
    "- Decorators can be implemented using regular functions or classes, where the decorator function/class takes in a function/class as an argument and returns a modified version of it.\n",
    "- Decorators can have arguments themselves, allowing for customizable behavior when applied to functions or classes.\n",
    "- Decorators can be used to modify the behavior of a function by adding additional code before or after its execution, such as logging statements, input validation, or error handling.\n",
    "- Decorators can be used to modify the behavior of a class by wrapping its methods, providing additional functionality or enforcing constraints on method execution.\n",
    "- Decorators can be used to cache expensive computations, memoize function results, or implement rate limiting and throttling mechanisms.\n",
    "- Decorators can help separate cross-cutting concerns from the core logic of functions or classes, improving code organization and maintainability.\n",
    "- Decorators can be used to implement aspect-oriented programming (AOP) concepts, such as cross-cutting concerns and code modularity.\n",
    "- The `functools` module in Python provides useful tools for working with decorators, such as `functools.wraps()` for preserving function metadata.\n"
   ]
  },
  {
   "cell_type": "markdown",
   "id": "56fb3ba5-f85f-483e-a88a-ceaa7ffe102f",
   "metadata": {},
   "source": [
    "## Basic function decorator"
   ]
  },
  {
   "cell_type": "code",
   "execution_count": null,
   "id": "c6086886-4d7d-42d2-acb7-b0892007be3b",
   "metadata": {},
   "outputs": [],
   "source": [
    "def decorator(func):\n",
    "    def wrapper():\n",
    "        print(\"Before function execution\")\n",
    "        func()\n",
    "        print(\"After function execution\")\n",
    "    return wrapper\n",
    "\n",
    "@decorator\n",
    "def my_function():\n",
    "    print(\"Inside my_function\")\n",
    "\n",
    "my_function()"
   ]
  },
  {
   "cell_type": "markdown",
   "id": "a14f22e1-b2b8-48cf-9045-22df8a5021d6",
   "metadata": {},
   "source": [
    "## Decorator with arguments"
   ]
  },
  {
   "cell_type": "code",
   "execution_count": null,
   "id": "759aa600-5362-4015-bee1-9a4c01fc6d97",
   "metadata": {},
   "outputs": [],
   "source": [
    "def decorator_with_args(arg1, arg2):\n",
    "    def decorator(func):\n",
    "        def wrapper(*args, **kwargs):\n",
    "            print(f\"Decorator arguments: {arg1}, {arg2}\")\n",
    "            func(*args, **kwargs)\n",
    "        return wrapper\n",
    "    return decorator\n",
    "\n",
    "@decorator_with_args(\"arg1_value\", \"arg2_value\")\n",
    "def my_function(arg):\n",
    "    print(f\"Inside my_function with argument: {arg}\")\n",
    "\n",
    "my_function(\"test_arg\")"
   ]
  },
  {
   "cell_type": "markdown",
   "id": "da3d9020-bc71-4a26-ba47-be3dbafc0b52",
   "metadata": {},
   "source": [
    "## Class-based decorator"
   ]
  },
  {
   "cell_type": "code",
   "execution_count": null,
   "id": "68915dfa-afa7-4923-b24d-1fdefa4a5628",
   "metadata": {},
   "outputs": [],
   "source": [
    "class Decorator:\n",
    "    def __init__(self, func):\n",
    "        self.func = func\n",
    "\n",
    "    def __call__(self, *args, **kwargs):\n",
    "        print(\"Before function execution\")\n",
    "        self.func(*args, **kwargs)\n",
    "        print(\"After function execution\")\n",
    "\n",
    "@Decorator\n",
    "def my_function():\n",
    "    print(\"Inside my_function\")\n",
    "\n",
    "my_function()"
   ]
  },
  {
   "cell_type": "markdown",
   "id": "c3087ea2-0034-42d1-9624-4622e9c1030f",
   "metadata": {},
   "source": [
    "## Multiple decorators"
   ]
  },
  {
   "cell_type": "code",
   "execution_count": null,
   "id": "b3399a38-033b-4770-940f-07ab5d5886e3",
   "metadata": {},
   "outputs": [],
   "source": [
    "def decorator1(func):\n",
    "    def wrapper():\n",
    "        print(\"Decorator 1\")\n",
    "        func()\n",
    "    return wrapper\n",
    "\n",
    "def decorator2(func):\n",
    "    def wrapper():\n",
    "        print(\"Decorator 2\")\n",
    "        func()\n",
    "    return wrapper\n",
    "\n",
    "@decorator1\n",
    "@decorator2\n",
    "def my_function():\n",
    "    print(\"Inside my_function\")\n",
    "\n",
    "my_function()"
   ]
  },
  {
   "cell_type": "markdown",
   "id": "d5a430b9-3cf9-4313-8211-5df3bd0967d9",
   "metadata": {},
   "source": [
    "##  Decorator to measure execution time"
   ]
  },
  {
   "cell_type": "code",
   "execution_count": null,
   "id": "141e009a-e42e-45b5-b376-358fc63b007f",
   "metadata": {},
   "outputs": [],
   "source": [
    "import time\n",
    "\n",
    "def measure_time(func):\n",
    "    def wrapper(*args, **kwargs):\n",
    "        start_time = time.time()\n",
    "        result = func(*args, **kwargs)\n",
    "        end_time = time.time()\n",
    "        print(f\"Execution time: {end_time - start_time} seconds\")\n",
    "        return result\n",
    "    return wrapper\n",
    "\n",
    "@measure_time\n",
    "def my_function():\n",
    "    time.sleep(2)\n",
    "    print(\"Inside my_function\")\n",
    "\n",
    "my_function()"
   ]
  },
  {
   "cell_type": "markdown",
   "id": "8e989b08-15f6-452a-9bde-5eba04cd657a",
   "metadata": {},
   "source": [
    "## Decorator for caching expensive computations"
   ]
  },
  {
   "cell_type": "code",
   "execution_count": null,
   "id": "0381eaeb-afb9-420d-87b4-48eb91495829",
   "metadata": {},
   "outputs": [],
   "source": [
    "def cache_result(func):\n",
    "    cache = {}\n",
    "\n",
    "    def wrapper(*args):\n",
    "        if args in cache:\n",
    "            print(\"Cache hit!\")\n",
    "            return cache[args]\n",
    "        else:\n",
    "            print(\"Cache miss!\")\n",
    "            result = func(*args)\n",
    "            cache[args] = result\n",
    "            return result\n",
    "\n",
    "    return wrapper\n",
    "\n",
    "@cache_result\n",
    "def fibonacci(n):\n",
    "    if n <= 1:\n",
    "        return n\n",
    "    return fibonacci(n - 1) + fibonacci(n - 2)\n",
    "\n",
    "print(fibonacci(10))\n",
    "print(fibonacci(10))"
   ]
  },
  {
   "cell_type": "markdown",
   "id": "3a652810-cdc3-4588-b9e7-631690184c51",
   "metadata": {},
   "source": [
    "## Decorator to log function calls"
   ]
  },
  {
   "cell_type": "code",
   "execution_count": null,
   "id": "65e6c124-207f-47f9-ad5e-9f4a3fd438bb",
   "metadata": {},
   "outputs": [],
   "source": [
    "def log_calls(func):\n",
    "    def wrapper(*args, **kwargs):\n",
    "        print(f\"Calling {func.__name__} with args: {args}, kwargs: {kwargs}\")\n",
    "        result = func(*args, **kwargs)\n",
    "        print(f\"{func.__name__} returned: {result}\")\n",
    "        return result\n",
    "    return wrapper\n",
    "\n",
    "@log_calls\n",
    "def my_function(x, y):\n",
    "    return x + y\n",
    "\n",
    "my_function(3, 5)"
   ]
  },
  {
   "cell_type": "markdown",
   "id": "414cff09-3b40-469f-8f7c-cd71e7f596b7",
   "metadata": {},
   "source": [
    "## Decorator to restrict access based on user role"
   ]
  },
  {
   "cell_type": "code",
   "execution_count": null,
   "id": "f7aae7b5-5921-4d1f-a35a-46ef340c87f9",
   "metadata": {},
   "outputs": [],
   "source": [
    "def restrict_access(user_role):\n",
    "    def decorator(func):\n",
    "        def wrapper(*args, **kwargs):\n",
    "            if user_role == \"admin\":\n",
    "                return func(*args, **kwargs)\n",
    "            else:\n",
    "                raise PermissionError(\"Access denied\")\n",
    "        return wrapper\n",
    "    return decorator\n",
    "\n",
    "@restrict_access(\"admin\")\n",
    "def sensitive_function():\n",
    "    print(\"Inside sensitive_function\")\n",
    "\n",
    "sensitive_function()"
   ]
  },
  {
   "cell_type": "markdown",
   "id": "1224fd2a-0167-4d4d-bbe8-a013d034fd69",
   "metadata": {},
   "source": [
    "## Decorator to validate function arguments"
   ]
  },
  {
   "cell_type": "code",
   "execution_count": null,
   "id": "29df0bd6-4f56-4392-bd79-47422a9583a5",
   "metadata": {},
   "outputs": [],
   "source": [
    "def validate_args(*valid_types):\n",
    "    def decorator(func):\n",
    "        def wrapper(*args):\n",
    "            if len(args) != len(valid_types):\n",
    "                raise ValueError(\"Incorrect number of arguments\")\n",
    "\n",
    "            for arg, valid_type in zip(args, valid_types):\n",
    "                if not isinstance(arg, valid_type):\n",
    "                    raise TypeError(f\"Invalid argument type: {type(arg)}, expected: {valid_type}\")\n",
    "\n",
    "            return func(*args)\n",
    "        return wrapper\n",
    "    return decorator\n",
    "\n",
    "@validate_args(int, str)\n",
    "def my_function(num, text):\n",
    "    print(f\"num: {num}, text: {text}\")\n",
    "\n",
    "my_function(10, \"hello\")"
   ]
  },
  {
   "cell_type": "markdown",
   "id": "9330656a-70e8-46b7-bc05-38753a720ac6",
   "metadata": {},
   "source": [
    "## Decorator to retry function execution on exception"
   ]
  },
  {
   "cell_type": "code",
   "execution_count": null,
   "id": "225abf5f-52c1-4d2f-a979-cd4ae7677e33",
   "metadata": {},
   "outputs": [],
   "source": [
    "import time\n",
    "\n",
    "def retry_on_exception(num_retries):\n",
    "    def decorator(func):\n",
    "        def wrapper(*args, **kwargs):\n",
    "            for _ in range(num_retries):\n",
    "                try:\n",
    "                    return func(*args, **kwargs)\n",
    "                except Exception as e:\n",
    "                    print(f\"Exception occurred: {e}. Retrying...\")\n",
    "                    time.sleep(1)\n",
    "            raise Exception(\"Function execution failed after retries\")\n",
    "        return wrapper\n",
    "    return decorator\n",
    "\n",
    "@retry_on_exception(3)\n",
    "def my_function():\n",
    "    if time.time() % 2 == 0:\n",
    "        raise ValueError(\"Even time!\")\n",
    "    else:\n",
    "        print(\"Odd time!\")\n",
    "\n",
    "my_function()"
   ]
  },
  {
   "cell_type": "markdown",
   "id": "4fe48eed-f52c-483a-8215-053286311e66",
   "metadata": {},
   "source": [
    "##  Decorator to handle authorization"
   ]
  },
  {
   "cell_type": "code",
   "execution_count": null,
   "id": "0d44d297-e476-4373-a247-e785ae79bdfa",
   "metadata": {},
   "outputs": [],
   "source": [
    "def authorize(allowed_roles):\n",
    "    def decorator(func):\n",
    "        def wrapper(user_role):\n",
    "            if user_role in allowed_roles:\n",
    "                return func(user_role)\n",
    "            else:\n",
    "                raise PermissionError(\"Access denied\")\n",
    "        return wrapper\n",
    "    return decorator\n",
    "\n",
    "@authorize([\"admin\", \"manager\"])\n",
    "def restricted_function(user_role):\n",
    "    print(f\"Executing restricted function as {user_role}\")\n",
    "\n",
    "restricted_function(\"admin\")"
   ]
  },
  {
   "cell_type": "markdown",
   "id": "4397504b-8956-47cf-863f-a5d69b98ff8d",
   "metadata": {},
   "source": [
    "## Decorator to apply synchronization locks"
   ]
  },
  {
   "cell_type": "code",
   "execution_count": null,
   "id": "0149e844-29bd-4c7d-b32c-c983d6db1357",
   "metadata": {},
   "outputs": [],
   "source": [
    "import threading\n",
    "\n",
    "def synchronized(func):\n",
    "    lock = threading.Lock()\n",
    "\n",
    "    def wrapper(*args, **kwargs):\n",
    "        with lock:\n",
    "            return func(*args, **kwargs)\n",
    "\n",
    "    return wrapper\n",
    "\n",
    "@synchronized\n",
    "def shared_resource_access():\n",
    "    print(\"Accessing shared resource\")\n",
    "\n",
    "thread1 = threading.Thread(target=shared_resource_access)\n",
    "thread2 = threading.Thread(target=shared_resource_access)\n",
    "\n",
    "thread1.start()\n",
    "thread2.start()"
   ]
  },
  {
   "cell_type": "markdown",
   "id": "a5c88334-d054-4bc6-a6c4-6a2373ff2f60",
   "metadata": {},
   "source": [
    "## Decorator to implement memoization"
   ]
  },
  {
   "cell_type": "code",
   "execution_count": null,
   "id": "ead28166-1704-44e3-90d2-8fd72e4ac0b6",
   "metadata": {},
   "outputs": [],
   "source": [
    "def memoize(func):\n",
    "    cache = {}\n",
    "\n",
    "    def wrapper(*args):\n",
    "        if args in cache:\n",
    "            print(\"Cache hit!\")\n",
    "            return cache[args]\n",
    "        else:\n",
    "            print(\"Cache miss!\")\n",
    "            result = func(*args)\n",
    "            cache[args] = result\n",
    "            return result\n",
    "\n",
    "    return wrapper\n",
    "\n",
    "@memoize\n",
    "def factorial(n):\n",
    "    if n == 0 or n == 1:\n",
    "        return 1\n",
    "    return n * factorial(n - 1)\n",
    "\n",
    "print(factorial(5))\n",
    "print(factorial(5))"
   ]
  },
  {
   "cell_type": "markdown",
   "id": "abef6161-82a4-4ff7-9c7a-4fe2f6e85f28",
   "metadata": {},
   "source": [
    "## Decorator to ensure function arguments are positive"
   ]
  },
  {
   "cell_type": "code",
   "execution_count": null,
   "id": "fa0c666f-88df-43cb-8875-47501929ddd5",
   "metadata": {},
   "outputs": [],
   "source": [
    "def ensure_positive(func):\n",
    "    def wrapper(*args):\n",
    "        for arg in args:\n",
    "            if arg <= 0:\n",
    "                raise ValueError(\"Argument must be positive\")\n",
    "        return func(*args)\n",
    "    return wrapper\n",
    "\n",
    "@ensure_positive\n",
    "def multiply(a, b):\n",
    "    return a * b\n",
    "\n",
    "print(multiply(2, 3))\n",
    "print(multiply(-2, 3))"
   ]
  },
  {
   "cell_type": "markdown",
   "id": "c9bda3af-a584-4678-b5dc-6d5cf40c4e50",
   "metadata": {},
   "source": [
    "## Decorator to handle exceptions and provide default values"
   ]
  },
  {
   "cell_type": "code",
   "execution_count": null,
   "id": "cb855315-bb77-4c36-b33a-979a955a93e9",
   "metadata": {},
   "outputs": [],
   "source": [
    "def handle_exceptions(default_value):\n",
    "    def decorator(func):\n",
    "        def wrapper(*args, **kwargs):\n",
    "            try:\n",
    "                return func(*args, **kwargs)\n",
    "            except Exception as e:\n",
    "                print(f\"Exception occurred: {e}\")\n",
    "                return default_value\n",
    "        return wrapper\n",
    "    return decorator\n",
    "\n",
    "@handle_exceptions(\"N/A\")\n",
    "def divide(a, b):\n",
    "    return a / b\n",
    "\n",
    "print(divide(10, 2))\n",
    "print(divide(10, 0))"
   ]
  },
  {
   "cell_type": "markdown",
   "id": "fad405de-271d-4346-b2fc-fe12c65b8da7",
   "metadata": {},
   "source": [
    "## Decorator to enforce input/output type checking"
   ]
  },
  {
   "cell_type": "code",
   "execution_count": null,
   "id": "862481bf-5d23-477b-aa85-46cb595b411c",
   "metadata": {},
   "outputs": [],
   "source": [
    "def type_check(input_type, output_type):\n",
    "    def decorator(func):\n",
    "        def wrapper(*args, **kwargs):\n",
    "            for arg in args:\n",
    "                if not isinstance(arg, input_type):\n",
    "                    raise TypeError(\"Invalid argument type\")\n",
    "            result = func(*args, **kwargs)\n",
    "            if not isinstance(result, output_type):\n",
    "                raise TypeError(\"Invalid return type\")\n",
    "            return result\n",
    "        return wrapper\n",
    "    return decorator\n",
    "\n",
    "@type_check(int, int)\n",
    "def increment(num):\n",
    "    return num + 1\n",
    "\n",
    "print(increment(5))\n",
    "print(increment(\"5\"))"
   ]
  },
  {
   "cell_type": "markdown",
   "id": "b7baa01c-1780-445a-a50b-03541a2ae2a3",
   "metadata": {},
   "source": [
    "## Decorator to implement a retry delay"
   ]
  },
  {
   "cell_type": "code",
   "execution_count": null,
   "id": "b582f662-40e9-4a9b-ab43-40410d9ffeb5",
   "metadata": {},
   "outputs": [],
   "source": [
    "import time\n",
    "\n",
    "def retry_with_delay(delay):\n",
    "    def decorator(func):\n",
    "        def wrapper(*args, **kwargs):\n",
    "            while True:\n",
    "                try:\n",
    "                    return func(*args, **kwargs)\n",
    "                except Exception as e:\n",
    "                    print(f\"Exception occurred: {e}. Retrying in {delay} seconds...\")\n",
    "                    time.sleep(delay)\n",
    "        return wrapper\n",
    "    return decorator\n",
    "\n",
    "@retry_with_delay(2)\n",
    "def unstable_function():\n",
    "    if time.time() % 3 == 0:\n",
    "        raise ValueError(\"Divisible by 3!\")\n",
    "    else:\n",
    "        print(\"Not divisible by 3!\")\n",
    "\n",
    "unstable_function()"
   ]
  },
  {
   "cell_type": "markdown",
   "id": "2993df50-1f53-4c32-8a70-45783cfb5a5a",
   "metadata": {},
   "source": [
    "## Decorator to provide a default value if function fails"
   ]
  },
  {
   "cell_type": "code",
   "execution_count": null,
   "id": "f2e94710-9510-4565-93fd-324a6a457c75",
   "metadata": {},
   "outputs": [],
   "source": [
    "def fallback_on_error(default_value):\n",
    "    def decorator(func):\n",
    "        def wrapper(*args, **kwargs):\n",
    "            try:\n",
    "                return func(*args, **kwargs)\n",
    "            except Exception as e:\n",
    "                print(f\"Exception occurred: {e}. Using default value.\")\n",
    "                return default_value\n",
    "        return wrapper\n",
    "    return decorator\n",
    "\n",
    "@fallback_on_error(0)\n",
    "def divide(a, b):\n",
    "    return a / b\n",
    "\n",
    "print(divide(10, 2))\n",
    "print(divide(10, 0))"
   ]
  },
  {
   "cell_type": "markdown",
   "id": "5f8a05c6-f21c-4660-b6c2-74d112e8213e",
   "metadata": {},
   "source": [
    "## Decorator to log function execution time and arguments"
   ]
  },
  {
   "cell_type": "code",
   "execution_count": null,
   "id": "033a3e9a-e54c-4c98-acea-233440afa4af",
   "metadata": {},
   "outputs": [],
   "source": [
    "import time\n",
    "\n",
    "def log_execution(func):\n",
    "    def wrapper(*args, **kwargs):\n",
    "        start_time = time.time()\n",
    "        print(f\"Executing {func.__name__} with args: {args}, kwargs: {kwargs}\")\n",
    "        result = func(*args, **kwargs)\n",
    "        end_time = time.time()\n",
    "        print(f\"{func.__name__} executed in {end_time - start_time} seconds\")\n",
    "        return result\n",
    "    return wrapper\n",
    "\n",
    "@log_execution\n",
    "def complex_calculation(a, b, c):\n",
    "    time.sleep(2)\n",
    "    return a * b + c\n",
    "\n",
    "print(complex_calculation(2, 3, 4))"
   ]
  },
  {
   "cell_type": "markdown",
   "id": "88627b47-bdf1-4745-a686-1737359d0d88",
   "metadata": {},
   "source": [
    "## Decorator to enforce rate limiting"
   ]
  },
  {
   "cell_type": "code",
   "execution_count": null,
   "id": "2f28daa6-3f83-43e7-8b67-f7c86e40cd69",
   "metadata": {},
   "outputs": [],
   "source": [
    "import time\n",
    "\n",
    "def rate_limit(limit_per_second):\n",
    "    def decorator(func):\n",
    "        last_execution_time = 0\n",
    "\n",
    "        def wrapper(*args, **kwargs):\n",
    "            nonlocal last_execution_time\n",
    "            current_time = time.time()\n",
    "            elapsed_time = current_time - last_execution_time\n",
    "            if elapsed_time < 1 / limit_per_second:\n",
    "                delay = 1 / limit_per_second - elapsed_time\n",
    "                time.sleep(delay)\n",
    "            last_execution_time = time.time()\n",
    "            return func(*args, **kwargs)\n",
    "        return wrapper\n",
    "    return decorator\n",
    "\n",
    "@rate_limit(2)\n",
    "def print_message(message):\n",
    "    print(message)\n",
    "\n",
    "for i in range(5):\n",
    "    print_message(f\"Message {i}\")\n",
    "    time.sleep(0.5)\n"
   ]
  },
  {
   "cell_type": "code",
   "execution_count": null,
   "id": "b0554237-c6ae-475f-a2fc-133af9d9685f",
   "metadata": {},
   "outputs": [],
   "source": []
  },
  {
   "cell_type": "markdown",
   "id": "1b6396f0-77f8-4b55-bd1d-d33b6ce0fd9b",
   "metadata": {},
   "source": [
    "\n",
    "| Decorator Syntax                 | Description                                           |\n",
    "|---------------------------------|-------------------------------------------------------|\n",
    "| `@decorator`                     | Basic decorator syntax. Applied above a function.     |\n",
    "| `@decorator(arg1, arg2)`         | Decorator with arguments.                              |\n",
    "| `@decorator`<br>`def function():`<br>`    pass`    | Decorating a function using decorator syntax.         |\n",
    "| `@decorator`<br>`class MyClass:`<br>`    pass`       | Decorating a class using decorator syntax.            |\n",
    "| `@decorator`<br>`@another_decorator`<br>`def function():`<br>`    pass` | Applying multiple decorators to a function.   |\n",
    "\n",
    "| Common Use Cases                          | Description                                           |\n",
    "|-------------------------------------------|-------------------------------------------------------|\n",
    "| Function Execution Timing                  | Measure the execution time of a function.              |\n",
    "| Logging                                   | Log information before, after, or during function execution. |\n",
    "| Caching                                   | Cache function results to improve performance.         |\n",
    "| Authorization and Authentication          | Validate user access to certain functions or resources.|\n",
    "| Input Validation                          | Check and validate function arguments.                 |\n",
    "| Rate Limiting                             | Limit the number of times a function can be called.    |\n",
    "| Error Handling                            | Handle and manage exceptions in functions.             |\n",
    "\n",
    "| Advanced Usage                      | Description                                           |\n",
    "|-------------------------------------|-------------------------------------------------------|\n",
    "| Decorator with Arguments            | Define decorators that accept arguments.               |\n",
    "| Decorators with Classes             | Create decorators using classes.                       |\n",
    "| Decorators with Generators          | Use generators to create decorators.                   |\n",
    "| Decorators with Context Managers    | Apply decorators to context managers.                  |\n",
    "| Decorator Stacking                  | Stack multiple decorators on a single function.        |\n",
    "| Method Decorators                   | Apply decorators to class methods.                     |\n",
    "| Property Decorators                 | Decorate properties of a class.                        |\n",
    "\n"
   ]
  }
 ],
 "metadata": {
  "kernelspec": {
   "display_name": "Python 3 (ipykernel)",
   "language": "python",
   "name": "python3"
  },
  "language_info": {
   "codemirror_mode": {
    "name": "ipython",
    "version": 3
   },
   "file_extension": ".py",
   "mimetype": "text/x-python",
   "name": "python",
   "nbconvert_exporter": "python",
   "pygments_lexer": "ipython3",
   "version": "3.9.7"
  }
 },
 "nbformat": 4,
 "nbformat_minor": 5
}
